{
 "cells": [
  {
   "cell_type": "code",
   "execution_count": 150,
   "id": "af96a39d-60ec-421e-aa7c-484b7ceab05b",
   "metadata": {},
   "outputs": [],
   "source": [
    "import numpy as np\n",
    "import pandas as pd\n",
    "import matplotlib.pyplot as plt\n",
    "import seaborn as sns\n",
    "\n",
    "from sklearn.linear_model import LinearRegression, Lasso, LassoCV, Ridge, RidgeCV\n",
    "from sklearn.model_selection import train_test_split, cross_val_score\n",
    "from sklearn.preprocessing import PolynomialFeatures, StandardScaler\n",
    "from sklearn.metrics import r2_score, mean_squared_error\n",
    "\n",
    "from statsmodels.stats.outliers_influence import variance_inflation_factor\n",
    "\n",
    "from ipywidgets import *\n",
    "from IPython.display import display"
   ]
  },
  {
   "cell_type": "code",
   "execution_count": 2,
   "id": "bb761046-e7c7-4e4e-9fe1-7d2a6165ea2a",
   "metadata": {},
   "outputs": [],
   "source": [
    "df_train = pd.read_csv('./datasets/train.csv')\n",
    "df_test = pd.read_csv('./datasets/test.csv')"
   ]
  },
  {
   "cell_type": "code",
   "execution_count": 3,
   "id": "4638fbcc-eaf5-4d6e-9d33-418c8847968b",
   "metadata": {},
   "outputs": [
    {
     "data": {
      "text/html": [
       "<div>\n",
       "<style scoped>\n",
       "    .dataframe tbody tr th:only-of-type {\n",
       "        vertical-align: middle;\n",
       "    }\n",
       "\n",
       "    .dataframe tbody tr th {\n",
       "        vertical-align: top;\n",
       "    }\n",
       "\n",
       "    .dataframe thead th {\n",
       "        text-align: right;\n",
       "    }\n",
       "</style>\n",
       "<table border=\"1\" class=\"dataframe\">\n",
       "  <thead>\n",
       "    <tr style=\"text-align: right;\">\n",
       "      <th></th>\n",
       "      <th>Id</th>\n",
       "      <th>PID</th>\n",
       "      <th>MS SubClass</th>\n",
       "      <th>MS Zoning</th>\n",
       "      <th>Lot Frontage</th>\n",
       "      <th>Lot Area</th>\n",
       "      <th>Street</th>\n",
       "      <th>Alley</th>\n",
       "      <th>Lot Shape</th>\n",
       "      <th>Land Contour</th>\n",
       "      <th>...</th>\n",
       "      <th>Screen Porch</th>\n",
       "      <th>Pool Area</th>\n",
       "      <th>Pool QC</th>\n",
       "      <th>Fence</th>\n",
       "      <th>Misc Feature</th>\n",
       "      <th>Misc Val</th>\n",
       "      <th>Mo Sold</th>\n",
       "      <th>Yr Sold</th>\n",
       "      <th>Sale Type</th>\n",
       "      <th>SalePrice</th>\n",
       "    </tr>\n",
       "  </thead>\n",
       "  <tbody>\n",
       "    <tr>\n",
       "      <th>0</th>\n",
       "      <td>109</td>\n",
       "      <td>533352170</td>\n",
       "      <td>60</td>\n",
       "      <td>RL</td>\n",
       "      <td>NaN</td>\n",
       "      <td>13517</td>\n",
       "      <td>Pave</td>\n",
       "      <td>NaN</td>\n",
       "      <td>IR1</td>\n",
       "      <td>Lvl</td>\n",
       "      <td>...</td>\n",
       "      <td>0</td>\n",
       "      <td>0</td>\n",
       "      <td>NaN</td>\n",
       "      <td>NaN</td>\n",
       "      <td>NaN</td>\n",
       "      <td>0</td>\n",
       "      <td>3</td>\n",
       "      <td>2010</td>\n",
       "      <td>WD</td>\n",
       "      <td>130500</td>\n",
       "    </tr>\n",
       "    <tr>\n",
       "      <th>1</th>\n",
       "      <td>544</td>\n",
       "      <td>531379050</td>\n",
       "      <td>60</td>\n",
       "      <td>RL</td>\n",
       "      <td>43.0</td>\n",
       "      <td>11492</td>\n",
       "      <td>Pave</td>\n",
       "      <td>NaN</td>\n",
       "      <td>IR1</td>\n",
       "      <td>Lvl</td>\n",
       "      <td>...</td>\n",
       "      <td>0</td>\n",
       "      <td>0</td>\n",
       "      <td>NaN</td>\n",
       "      <td>NaN</td>\n",
       "      <td>NaN</td>\n",
       "      <td>0</td>\n",
       "      <td>4</td>\n",
       "      <td>2009</td>\n",
       "      <td>WD</td>\n",
       "      <td>220000</td>\n",
       "    </tr>\n",
       "    <tr>\n",
       "      <th>2</th>\n",
       "      <td>153</td>\n",
       "      <td>535304180</td>\n",
       "      <td>20</td>\n",
       "      <td>RL</td>\n",
       "      <td>68.0</td>\n",
       "      <td>7922</td>\n",
       "      <td>Pave</td>\n",
       "      <td>NaN</td>\n",
       "      <td>Reg</td>\n",
       "      <td>Lvl</td>\n",
       "      <td>...</td>\n",
       "      <td>0</td>\n",
       "      <td>0</td>\n",
       "      <td>NaN</td>\n",
       "      <td>NaN</td>\n",
       "      <td>NaN</td>\n",
       "      <td>0</td>\n",
       "      <td>1</td>\n",
       "      <td>2010</td>\n",
       "      <td>WD</td>\n",
       "      <td>109000</td>\n",
       "    </tr>\n",
       "    <tr>\n",
       "      <th>3</th>\n",
       "      <td>318</td>\n",
       "      <td>916386060</td>\n",
       "      <td>60</td>\n",
       "      <td>RL</td>\n",
       "      <td>73.0</td>\n",
       "      <td>9802</td>\n",
       "      <td>Pave</td>\n",
       "      <td>NaN</td>\n",
       "      <td>Reg</td>\n",
       "      <td>Lvl</td>\n",
       "      <td>...</td>\n",
       "      <td>0</td>\n",
       "      <td>0</td>\n",
       "      <td>NaN</td>\n",
       "      <td>NaN</td>\n",
       "      <td>NaN</td>\n",
       "      <td>0</td>\n",
       "      <td>4</td>\n",
       "      <td>2010</td>\n",
       "      <td>WD</td>\n",
       "      <td>174000</td>\n",
       "    </tr>\n",
       "    <tr>\n",
       "      <th>4</th>\n",
       "      <td>255</td>\n",
       "      <td>906425045</td>\n",
       "      <td>50</td>\n",
       "      <td>RL</td>\n",
       "      <td>82.0</td>\n",
       "      <td>14235</td>\n",
       "      <td>Pave</td>\n",
       "      <td>NaN</td>\n",
       "      <td>IR1</td>\n",
       "      <td>Lvl</td>\n",
       "      <td>...</td>\n",
       "      <td>0</td>\n",
       "      <td>0</td>\n",
       "      <td>NaN</td>\n",
       "      <td>NaN</td>\n",
       "      <td>NaN</td>\n",
       "      <td>0</td>\n",
       "      <td>3</td>\n",
       "      <td>2010</td>\n",
       "      <td>WD</td>\n",
       "      <td>138500</td>\n",
       "    </tr>\n",
       "  </tbody>\n",
       "</table>\n",
       "<p>5 rows × 81 columns</p>\n",
       "</div>"
      ],
      "text/plain": [
       "    Id        PID  MS SubClass MS Zoning  Lot Frontage  Lot Area Street Alley  \\\n",
       "0  109  533352170           60        RL           NaN     13517   Pave   NaN   \n",
       "1  544  531379050           60        RL          43.0     11492   Pave   NaN   \n",
       "2  153  535304180           20        RL          68.0      7922   Pave   NaN   \n",
       "3  318  916386060           60        RL          73.0      9802   Pave   NaN   \n",
       "4  255  906425045           50        RL          82.0     14235   Pave   NaN   \n",
       "\n",
       "  Lot Shape Land Contour  ... Screen Porch Pool Area Pool QC Fence  \\\n",
       "0       IR1          Lvl  ...            0         0     NaN   NaN   \n",
       "1       IR1          Lvl  ...            0         0     NaN   NaN   \n",
       "2       Reg          Lvl  ...            0         0     NaN   NaN   \n",
       "3       Reg          Lvl  ...            0         0     NaN   NaN   \n",
       "4       IR1          Lvl  ...            0         0     NaN   NaN   \n",
       "\n",
       "  Misc Feature Misc Val Mo Sold Yr Sold  Sale Type  SalePrice  \n",
       "0          NaN        0       3    2010        WD      130500  \n",
       "1          NaN        0       4    2009        WD      220000  \n",
       "2          NaN        0       1    2010        WD      109000  \n",
       "3          NaN        0       4    2010        WD      174000  \n",
       "4          NaN        0       3    2010        WD      138500  \n",
       "\n",
       "[5 rows x 81 columns]"
      ]
     },
     "execution_count": 3,
     "metadata": {},
     "output_type": "execute_result"
    }
   ],
   "source": [
    "df_train.head()"
   ]
  },
  {
   "cell_type": "code",
   "execution_count": 4,
   "id": "9e1b9b5a-6d04-4bc9-b514-cd79d82a9cf4",
   "metadata": {},
   "outputs": [],
   "source": [
    "df_train.columns = [col.lower().replace(' ','_') for col in df_train.columns]\n",
    "df_test.columns = [col.lower().replace(' ','_') for col in df_test.columns]"
   ]
  },
  {
   "cell_type": "code",
   "execution_count": 5,
   "id": "2729f2fe-ed9b-4a06-acc1-4f33c93745ad",
   "metadata": {},
   "outputs": [
    {
     "name": "stdout",
     "output_type": "stream",
     "text": [
      "<class 'pandas.core.frame.DataFrame'>\n",
      "RangeIndex: 2051 entries, 0 to 2050\n",
      "Data columns (total 81 columns):\n",
      " #   Column           Non-Null Count  Dtype  \n",
      "---  ------           --------------  -----  \n",
      " 0   id               2051 non-null   int64  \n",
      " 1   pid              2051 non-null   int64  \n",
      " 2   ms_subclass      2051 non-null   int64  \n",
      " 3   ms_zoning        2051 non-null   object \n",
      " 4   lot_frontage     1721 non-null   float64\n",
      " 5   lot_area         2051 non-null   int64  \n",
      " 6   street           2051 non-null   object \n",
      " 7   alley            140 non-null    object \n",
      " 8   lot_shape        2051 non-null   object \n",
      " 9   land_contour     2051 non-null   object \n",
      " 10  utilities        2051 non-null   object \n",
      " 11  lot_config       2051 non-null   object \n",
      " 12  land_slope       2051 non-null   object \n",
      " 13  neighborhood     2051 non-null   object \n",
      " 14  condition_1      2051 non-null   object \n",
      " 15  condition_2      2051 non-null   object \n",
      " 16  bldg_type        2051 non-null   object \n",
      " 17  house_style      2051 non-null   object \n",
      " 18  overall_qual     2051 non-null   int64  \n",
      " 19  overall_cond     2051 non-null   int64  \n",
      " 20  year_built       2051 non-null   int64  \n",
      " 21  year_remod/add   2051 non-null   int64  \n",
      " 22  roof_style       2051 non-null   object \n",
      " 23  roof_matl        2051 non-null   object \n",
      " 24  exterior_1st     2051 non-null   object \n",
      " 25  exterior_2nd     2051 non-null   object \n",
      " 26  mas_vnr_type     2029 non-null   object \n",
      " 27  mas_vnr_area     2029 non-null   float64\n",
      " 28  exter_qual       2051 non-null   object \n",
      " 29  exter_cond       2051 non-null   object \n",
      " 30  foundation       2051 non-null   object \n",
      " 31  bsmt_qual        1996 non-null   object \n",
      " 32  bsmt_cond        1996 non-null   object \n",
      " 33  bsmt_exposure    1993 non-null   object \n",
      " 34  bsmtfin_type_1   1996 non-null   object \n",
      " 35  bsmtfin_sf_1     2050 non-null   float64\n",
      " 36  bsmtfin_type_2   1995 non-null   object \n",
      " 37  bsmtfin_sf_2     2050 non-null   float64\n",
      " 38  bsmt_unf_sf      2050 non-null   float64\n",
      " 39  total_bsmt_sf    2050 non-null   float64\n",
      " 40  heating          2051 non-null   object \n",
      " 41  heating_qc       2051 non-null   object \n",
      " 42  central_air      2051 non-null   object \n",
      " 43  electrical       2051 non-null   object \n",
      " 44  1st_flr_sf       2051 non-null   int64  \n",
      " 45  2nd_flr_sf       2051 non-null   int64  \n",
      " 46  low_qual_fin_sf  2051 non-null   int64  \n",
      " 47  gr_liv_area      2051 non-null   int64  \n",
      " 48  bsmt_full_bath   2049 non-null   float64\n",
      " 49  bsmt_half_bath   2049 non-null   float64\n",
      " 50  full_bath        2051 non-null   int64  \n",
      " 51  half_bath        2051 non-null   int64  \n",
      " 52  bedroom_abvgr    2051 non-null   int64  \n",
      " 53  kitchen_abvgr    2051 non-null   int64  \n",
      " 54  kitchen_qual     2051 non-null   object \n",
      " 55  totrms_abvgrd    2051 non-null   int64  \n",
      " 56  functional       2051 non-null   object \n",
      " 57  fireplaces       2051 non-null   int64  \n",
      " 58  fireplace_qu     1051 non-null   object \n",
      " 59  garage_type      1938 non-null   object \n",
      " 60  garage_yr_blt    1937 non-null   float64\n",
      " 61  garage_finish    1937 non-null   object \n",
      " 62  garage_cars      2050 non-null   float64\n",
      " 63  garage_area      2050 non-null   float64\n",
      " 64  garage_qual      1937 non-null   object \n",
      " 65  garage_cond      1937 non-null   object \n",
      " 66  paved_drive      2051 non-null   object \n",
      " 67  wood_deck_sf     2051 non-null   int64  \n",
      " 68  open_porch_sf    2051 non-null   int64  \n",
      " 69  enclosed_porch   2051 non-null   int64  \n",
      " 70  3ssn_porch       2051 non-null   int64  \n",
      " 71  screen_porch     2051 non-null   int64  \n",
      " 72  pool_area        2051 non-null   int64  \n",
      " 73  pool_qc          9 non-null      object \n",
      " 74  fence            400 non-null    object \n",
      " 75  misc_feature     65 non-null     object \n",
      " 76  misc_val         2051 non-null   int64  \n",
      " 77  mo_sold          2051 non-null   int64  \n",
      " 78  yr_sold          2051 non-null   int64  \n",
      " 79  sale_type        2051 non-null   object \n",
      " 80  saleprice        2051 non-null   int64  \n",
      "dtypes: float64(11), int64(28), object(42)\n",
      "memory usage: 1.3+ MB\n"
     ]
    }
   ],
   "source": [
    "#  Have to use categorical features as well\n",
    "\n",
    "df_train.info()"
   ]
  },
  {
   "cell_type": "code",
   "execution_count": 6,
   "id": "18508f92-8706-4211-b5d9-a31e4c6201a3",
   "metadata": {},
   "outputs": [
    {
     "data": {
      "text/plain": [
       "pool_qc           2042\n",
       "misc_feature      1986\n",
       "alley             1911\n",
       "fence             1651\n",
       "fireplace_qu      1000\n",
       "lot_frontage       330\n",
       "garage_yr_blt      114\n",
       "garage_cond        114\n",
       "garage_qual        114\n",
       "garage_finish      114\n",
       "garage_type        113\n",
       "bsmt_exposure       58\n",
       "bsmtfin_type_2      56\n",
       "bsmt_cond           55\n",
       "bsmt_qual           55\n",
       "bsmtfin_type_1      55\n",
       "mas_vnr_area        22\n",
       "mas_vnr_type        22\n",
       "bsmt_half_bath       2\n",
       "bsmt_full_bath       2\n",
       "total_bsmt_sf        1\n",
       "bsmt_unf_sf          1\n",
       "bsmtfin_sf_2         1\n",
       "garage_cars          1\n",
       "garage_area          1\n",
       "bsmtfin_sf_1         1\n",
       "dtype: int64"
      ]
     },
     "execution_count": 6,
     "metadata": {},
     "output_type": "execute_result"
    }
   ],
   "source": [
    "df_train.isnull().sum().loc[lambda x: x > 0].sort_values(ascending=False)"
   ]
  },
  {
   "cell_type": "code",
   "execution_count": 7,
   "id": "4e5568b4-4391-4a6e-9034-47459bac032e",
   "metadata": {},
   "outputs": [
    {
     "data": {
      "text/plain": [
       "pool_qc           874\n",
       "misc_feature      837\n",
       "alley             820\n",
       "fence             706\n",
       "fireplace_qu      422\n",
       "lot_frontage      160\n",
       "garage_yr_blt      45\n",
       "garage_finish      45\n",
       "garage_qual        45\n",
       "garage_cond        45\n",
       "garage_type        44\n",
       "bsmt_exposure      25\n",
       "bsmtfin_type_1     25\n",
       "bsmtfin_type_2     25\n",
       "bsmt_cond          25\n",
       "bsmt_qual          25\n",
       "mas_vnr_area        1\n",
       "mas_vnr_type        1\n",
       "electrical          1\n",
       "dtype: int64"
      ]
     },
     "execution_count": 7,
     "metadata": {},
     "output_type": "execute_result"
    }
   ],
   "source": [
    "df_test.isnull().sum().loc[lambda x: x > 0].sort_values(ascending=False)"
   ]
  },
  {
   "cell_type": "code",
   "execution_count": 8,
   "id": "ad3fa269-8f69-45f7-b572-3cd3b8a2f48e",
   "metadata": {},
   "outputs": [
    {
     "name": "stdout",
     "output_type": "stream",
     "text": [
      "0      2042\n",
      "519       1\n",
      "576       1\n",
      "800       1\n",
      "228       1\n",
      "480       1\n",
      "648       1\n",
      "738       1\n",
      "368       1\n",
      "561       1\n",
      "Name: pool_area, dtype: int64\n",
      "Gd    4\n",
      "Fa    2\n",
      "TA    2\n",
      "Ex    1\n",
      "Name: pool_qc, dtype: int64\n",
      "0      874\n",
      "144      1\n",
      "555      1\n",
      "512      1\n",
      "444      1\n",
      "Name: pool_area, dtype: int64\n",
      "Ex    3\n",
      "TA    1\n",
      "Name: pool_qc, dtype: int64\n"
     ]
    }
   ],
   "source": [
    "print(df_train['pool_area'].value_counts())\n",
    "print(df_train['pool_qc'].value_counts())\n",
    "print(df_test['pool_area'].value_counts())\n",
    "print(df_test['pool_qc'].value_counts())"
   ]
  },
  {
   "cell_type": "code",
   "execution_count": 9,
   "id": "41ecc76e-67eb-4d22-b606-435401c3a36b",
   "metadata": {},
   "outputs": [],
   "source": [
    "#  Pool nulls not a problem - null if no pool"
   ]
  },
  {
   "cell_type": "code",
   "execution_count": 10,
   "id": "403bbd43-e4ac-4573-badc-dc5804dc70ab",
   "metadata": {},
   "outputs": [],
   "source": [
    "#misc_feature      1986\n",
    "#alley             1911\n",
    "#fence             1651\n",
    "#fireplace_qu      1000\n",
    "#garage_yr_blt      114\n",
    "#garage_cond        114\n",
    "#garage_qual        114\n",
    "#garage_finish      114\n",
    "#garage_type        113\n",
    "#bsmt_exposure       58\n",
    "#bsmtfin_type_2      56\n",
    "#bsmt_cond           55\n",
    "#bsmt_qual           55\n",
    "#bsmtfin_type_1      55\n",
    "#mas_vnr_area        22\n",
    "#mas_vnr_type        22\n",
    "#bsmt_half_bath       2\n",
    "#bsmt_full_bath       2\n",
    "#total_bsmt_sf        1\n",
    "#bsmt_unf_sf          1\n",
    "#bsmtfin_sf_2         1\n",
    "#garage_cars          1\n",
    "#garage_area          1\n",
    "#bsmtfin_sf_1         1"
   ]
  },
  {
   "cell_type": "code",
   "execution_count": 11,
   "id": "8af246e0-915f-4aa0-aa44-d6a47e893736",
   "metadata": {},
   "outputs": [],
   "source": [
    "# frontage - interpolate based on size and type of lot"
   ]
  },
  {
   "cell_type": "code",
   "execution_count": null,
   "id": "1dfefdce-6389-472a-9649-d133c28fc96c",
   "metadata": {},
   "outputs": [],
   "source": []
  },
  {
   "cell_type": "code",
   "execution_count": null,
   "id": "4de67c55-83c2-47c7-b118-579901b4d555",
   "metadata": {},
   "outputs": [],
   "source": []
  },
  {
   "cell_type": "code",
   "execution_count": 12,
   "id": "45d3edd7-247e-427b-aba1-3c8939443bd9",
   "metadata": {},
   "outputs": [
    {
     "name": "stderr",
     "output_type": "stream",
     "text": [
      "C:\\Anaconda\\lib\\site-packages\\seaborn\\_decorators.py:36: FutureWarning: Pass the following variables as keyword args: x, y. From version 0.12, the only valid positional argument will be `data`, and passing other arguments without an explicit keyword will result in an error or misinterpretation.\n",
      "  warnings.warn(\n"
     ]
    },
    {
     "data": {
      "text/plain": [
       "<AxesSubplot:xlabel='lot_frontage', ylabel='lot_area'>"
      ]
     },
     "execution_count": 12,
     "metadata": {},
     "output_type": "execute_result"
    },
    {
     "data": {
      "image/png": "[encoded data removed]",
      "text/plain": [
       "<Figure size 640x480 with 1 Axes>"
      ]
     },
     "metadata": {},
     "output_type": "display_data"
    }
   ],
   "source": [
    "sns.scatterplot(df_train['lot_frontage'],df_train['lot_area'],hue=df_train['lot_config'])"
   ]
  },
  {
   "cell_type": "code",
   "execution_count": 13,
   "id": "e4255f42-23b8-4438-8738-541a7b6c4041",
   "metadata": {},
   "outputs": [],
   "source": [
    "#for df in [df_train,df_test]:\n",
    " #   df['lot_config'] = [0 if val == 'FR3'\n",
    "  #                     else 1 if val == 'FR2'\n",
    "   #                    else 2 if val == 'Corner'\n",
    "    #                    else 3 if val == 'Inside'\n",
    "     #                   else 4\n",
    "      #                 for val in df['lot_config']]"
   ]
  },
  {
   "cell_type": "code",
   "execution_count": 14,
   "id": "480f3330-b584-4004-86f3-88006069d282",
   "metadata": {},
   "outputs": [],
   "source": [
    "#X = df_train.loc[df_train['lot_frontage'] > 0, ['lot_area','lot_config']]\n",
    "#y = df_train.loc[df_train['lot_frontage'] > 0, 'lot_frontage']\n",
    "#X_val = df_train.loc[df_train['lot_frontage'] == 0, ['lot_area','lot_config']]\n",
    "#y_val = df_train.loc[df_train['lot_frontage'] == 0, 'lot_frontage']\n",
    "\n",
    "#X,y,X_val,y_val = train_test_split(X,y,random_state=42)"
   ]
  },
  {
   "cell_type": "code",
   "execution_count": 15,
   "id": "58c5d24f-e64b-49c8-9027-9c17c150e7c4",
   "metadata": {},
   "outputs": [],
   "source": [
    "#lr = LinearRegression()\n",
    "#lr.fit(X,y)"
   ]
  },
  {
   "cell_type": "code",
   "execution_count": null,
   "id": "7000a803-e4d8-4e34-a7c4-cd7faec5771d",
   "metadata": {},
   "outputs": [],
   "source": []
  },
  {
   "cell_type": "code",
   "execution_count": null,
   "id": "7d220409-7f66-477e-bec3-804cb292a324",
   "metadata": {},
   "outputs": [],
   "source": []
  },
  {
   "cell_type": "code",
   "execution_count": 16,
   "id": "e6cf65a9-9bc6-4651-a608-98205c1b140e",
   "metadata": {},
   "outputs": [],
   "source": [
    "#  https://www.storycountyiowa.gov/DocumentCenter/View/6074/A-Guide-to-Geo-Numbering-in-Story-County?bidId="
   ]
  },
  {
   "cell_type": "code",
   "execution_count": null,
   "id": "610dff1e-6ca5-452d-8a22-8f9de1aa4396",
   "metadata": {},
   "outputs": [],
   "source": []
  },
  {
   "cell_type": "code",
   "execution_count": null,
   "id": "3974e943-04b0-4443-9f4c-75166cd9a2a6",
   "metadata": {},
   "outputs": [],
   "source": []
  },
  {
   "cell_type": "code",
   "execution_count": 17,
   "id": "d86db167-272e-4425-8ed7-d2d96c210132",
   "metadata": {},
   "outputs": [],
   "source": [
    "for df in [df_train,df_test]:\n",
    "    df['pid_1'] = df['pid'].astype('str').str[:1]\n",
    "    df['pid_2'] = df['pid'].astype('str').str[1:3]\n",
    "    df['pid_3'] = df['pid'].astype('str').str[3:6]\n",
    "    df['pid_4'] = df['pid'].astype('str').str[6:9]\n"
   ]
  },
  {
   "cell_type": "code",
   "execution_count": null,
   "id": "157eb466-8416-42de-b4dc-81213e00a2bf",
   "metadata": {},
   "outputs": [],
   "source": []
  },
  {
   "cell_type": "code",
   "execution_count": 20,
   "id": "7eb498e0",
   "metadata": {},
   "outputs": [],
   "source": [
    "for df in [df_train,df_test]:\n",
    "    df['ms_zoning'] = [0 if val == 'I (all)' \n",
    "                         else 1 if val == 'C (all)' \n",
    "                         else 2 if val == 'RH'\n",
    "                         else 3 if val == 'RM'\n",
    "                         else 4 if val == 'RL'\n",
    "                         else 5 if val == 'FV'\n",
    "                         else 6\n",
    "                         for val in df['ms_zoning']]"
   ]
  },
  {
   "cell_type": "code",
   "execution_count": 21,
   "id": "a00f7424",
   "metadata": {},
   "outputs": [
    {
     "data": {
      "text/plain": [
       "Pave    2044\n",
       "Grvl       7\n",
       "Name: street, dtype: int64"
      ]
     },
     "execution_count": 21,
     "metadata": {},
     "output_type": "execute_result"
    }
   ],
   "source": [
    "df_train['street'].value_counts()"
   ]
  },
  {
   "cell_type": "code",
   "execution_count": 22,
   "id": "63582119",
   "metadata": {},
   "outputs": [],
   "source": [
    "for df in [df_train,df_test]:\n",
    "    df['street'] = [0 if val == 'Grvl' else 1 for val in df['street']]"
   ]
  },
  {
   "cell_type": "code",
   "execution_count": 23,
   "id": "16830044",
   "metadata": {},
   "outputs": [
    {
     "data": {
      "text/plain": [
       "Grvl    85\n",
       "Pave    55\n",
       "Name: alley, dtype: int64"
      ]
     },
     "execution_count": 23,
     "metadata": {},
     "output_type": "execute_result"
    }
   ],
   "source": [
    "df_train['alley'].value_counts()"
   ]
  },
  {
   "cell_type": "code",
   "execution_count": 24,
   "id": "377d70d8",
   "metadata": {},
   "outputs": [],
   "source": [
    "for df in [df_train,df_test]:\n",
    "    df['alley'] = [0 if val == 'Grvl' else 1 for val in df['alley']]"
   ]
  },
  {
   "cell_type": "code",
   "execution_count": null,
   "id": "c7d13a97",
   "metadata": {},
   "outputs": [],
   "source": []
  },
  {
   "cell_type": "code",
   "execution_count": 25,
   "id": "4d04f1ed",
   "metadata": {},
   "outputs": [
    {
     "data": {
      "text/plain": [
       "Reg    1295\n",
       "IR1     692\n",
       "IR2      55\n",
       "IR3       9\n",
       "Name: lot_shape, dtype: int64"
      ]
     },
     "execution_count": 25,
     "metadata": {},
     "output_type": "execute_result"
    }
   ],
   "source": [
    "df_train['lot_shape'].value_counts()"
   ]
  },
  {
   "cell_type": "code",
   "execution_count": 26,
   "id": "a06b0de9",
   "metadata": {},
   "outputs": [],
   "source": [
    "for df in [df_train,df_test]:\n",
    "    df['lot_shape'] = [0 if val == 'IR3' \n",
    "                         else 1 if val == 'IR2' \n",
    "                         else 2 if val == 'IR1'\n",
    "                         else 3\n",
    "                         for val in df['lot_shape']]"
   ]
  },
  {
   "cell_type": "code",
   "execution_count": 27,
   "id": "7c13fea0",
   "metadata": {},
   "outputs": [
    {
     "data": {
      "text/plain": [
       "Lvl    1843\n",
       "HLS      85\n",
       "Bnk      80\n",
       "Low      43\n",
       "Name: land_contour, dtype: int64"
      ]
     },
     "execution_count": 27,
     "metadata": {},
     "output_type": "execute_result"
    }
   ],
   "source": [
    "df_train['land_contour'].value_counts()"
   ]
  },
  {
   "cell_type": "code",
   "execution_count": 28,
   "id": "322f836a",
   "metadata": {},
   "outputs": [],
   "source": [
    "for df in [df_train,df_test]:\n",
    "    df['land_contour'] = [0 if val == 'IR3' \n",
    "                         else 1 if val == 'IR2' \n",
    "                         else 2 if val == 'IR1'\n",
    "                         else 3\n",
    "                         for val in df['land_contour']]"
   ]
  },
  {
   "cell_type": "code",
   "execution_count": 29,
   "id": "a6bb98c2",
   "metadata": {},
   "outputs": [
    {
     "data": {
      "text/plain": [
       "AllPub    2049\n",
       "NoSeWa       1\n",
       "NoSewr       1\n",
       "Name: utilities, dtype: int64"
      ]
     },
     "execution_count": 29,
     "metadata": {},
     "output_type": "execute_result"
    }
   ],
   "source": [
    "df_train['utilities'].value_counts()"
   ]
  },
  {
   "cell_type": "code",
   "execution_count": 30,
   "id": "3100ddde",
   "metadata": {},
   "outputs": [],
   "source": [
    "for df in [df_train,df_test]:\n",
    "    df['utilities'] = [0 if val == 'NoSeWa'\n",
    "                       else 1 if val == 'NoSeWr'\n",
    "                       else 2 \n",
    "                       for val in df['utilities']]"
   ]
  },
  {
   "cell_type": "code",
   "execution_count": 31,
   "id": "bcff4681",
   "metadata": {},
   "outputs": [
    {
     "data": {
      "text/plain": [
       "Inside     1503\n",
       "Corner      348\n",
       "CulDSac     131\n",
       "FR2          60\n",
       "FR3           9\n",
       "Name: lot_config, dtype: int64"
      ]
     },
     "execution_count": 31,
     "metadata": {},
     "output_type": "execute_result"
    }
   ],
   "source": [
    "df_train['lot_config'].value_counts()"
   ]
  },
  {
   "cell_type": "code",
   "execution_count": 32,
   "id": "0ab62bf5",
   "metadata": {},
   "outputs": [],
   "source": [
    "for df in [df_train,df_test]:\n",
    "    df['lot_config'] = [0 if val == 'FR3'\n",
    "                       else 1 if val == 'FR2'\n",
    "                       else 2 if val == 'Corner'\n",
    "                        else 3 if val == 'Inside'\n",
    "                        else 4\n",
    "                       for val in df['lot_config']]"
   ]
  },
  {
   "cell_type": "code",
   "execution_count": 33,
   "id": "7c36504c",
   "metadata": {},
   "outputs": [
    {
     "data": {
      "text/plain": [
       "Gtl    1953\n",
       "Mod      88\n",
       "Sev      10\n",
       "Name: land_slope, dtype: int64"
      ]
     },
     "execution_count": 33,
     "metadata": {},
     "output_type": "execute_result"
    }
   ],
   "source": [
    "df_train['land_slope'].value_counts()"
   ]
  },
  {
   "cell_type": "code",
   "execution_count": 34,
   "id": "b3825412",
   "metadata": {},
   "outputs": [],
   "source": [
    "for df in [df_train,df_test]:\n",
    "    df['land_slope'] = [0 if val == 'Sev'\n",
    "                       else 1 if val == 'Mod'\n",
    "                       else 2\n",
    "                       for val in df['land_slope']]"
   ]
  },
  {
   "cell_type": "code",
   "execution_count": 35,
   "id": "f5dea963",
   "metadata": {},
   "outputs": [
    {
     "data": {
      "text/plain": [
       "Norm      1767\n",
       "Feedr      109\n",
       "Artery      70\n",
       "RRAn        36\n",
       "PosN        27\n",
       "RRAe        21\n",
       "PosA        12\n",
       "RRNn         6\n",
       "RRNe         3\n",
       "Name: condition_1, dtype: int64"
      ]
     },
     "execution_count": 35,
     "metadata": {},
     "output_type": "execute_result"
    }
   ],
   "source": [
    "df_train['condition_1'].value_counts()"
   ]
  },
  {
   "cell_type": "code",
   "execution_count": 36,
   "id": "e740b034",
   "metadata": {},
   "outputs": [],
   "source": [
    "for df in [df_train,df_test]:\n",
    "    for cond in ['condition_1','condition_2']:\n",
    "        df[cond] = [0 if (val == 'RRAe') | (val == 'RRAn')\n",
    "                    else 1 if (val == 'RRNe') | (val == 'RRNn')\n",
    "                    else 2 if val == 'Artery'\n",
    "                    else 3 if val == 'Feedr'\n",
    "                    else 4 if val == 'Normal'\n",
    "                    else 5 if val == 'PosN'\n",
    "                    else 6 \n",
    "                    for val in df[cond]]"
   ]
  },
  {
   "cell_type": "code",
   "execution_count": 37,
   "id": "63df395b",
   "metadata": {},
   "outputs": [
    {
     "data": {
      "text/plain": [
       "1Fam      1700\n",
       "TwnhsE     161\n",
       "Duplex      75\n",
       "Twnhs       69\n",
       "2fmCon      46\n",
       "Name: bldg_type, dtype: int64"
      ]
     },
     "execution_count": 37,
     "metadata": {},
     "output_type": "execute_result"
    }
   ],
   "source": [
    "df_train['bldg_type'].value_counts()"
   ]
  },
  {
   "cell_type": "code",
   "execution_count": 38,
   "id": "f2e773c1",
   "metadata": {},
   "outputs": [],
   "source": [
    "for df in [df_train,df_test]:\n",
    "    df['bldg_type'] = [0 if val == 'Twnhs'\n",
    "                       else 1 if val == 'TwnhsE'\n",
    "                       else 2 if val == 'Duplex'\n",
    "                       else 3 if val == '2fmCon'\n",
    "                       else 4\n",
    "                       for val in df['bldg_type']]"
   ]
  },
  {
   "cell_type": "code",
   "execution_count": 39,
   "id": "c0bf7a80",
   "metadata": {},
   "outputs": [
    {
     "data": {
      "text/plain": [
       "1Story    1059\n",
       "2Story     598\n",
       "1.5Fin     218\n",
       "SLvl        94\n",
       "SFoyer      50\n",
       "2.5Unf      14\n",
       "1.5Unf      12\n",
       "2.5Fin       6\n",
       "Name: house_style, dtype: int64"
      ]
     },
     "execution_count": 39,
     "metadata": {},
     "output_type": "execute_result"
    }
   ],
   "source": [
    "df_train['house_style'].value_counts()"
   ]
  },
  {
   "cell_type": "code",
   "execution_count": 40,
   "id": "ea320780",
   "metadata": {},
   "outputs": [],
   "source": [
    "for df in [df_train,df_test]:\n",
    "    df['house_style'] = [0 if val == '1Story'\n",
    "                         else 1 if val == '1.5Unf'\n",
    "                         else 2 if val == '1.5Fin'\n",
    "                         else 3 if val == 'SLvl'\n",
    "                         else 4 if val == 'SFoyer'\n",
    "                         else 5 if val == '2Story'\n",
    "                         else 6 if val == '2.5Unf'\n",
    "                         else 7\n",
    "                       for val in df['house_style']]"
   ]
  },
  {
   "cell_type": "code",
   "execution_count": null,
   "id": "9e863474",
   "metadata": {},
   "outputs": [],
   "source": []
  },
  {
   "cell_type": "code",
   "execution_count": 41,
   "id": "c713e8bf",
   "metadata": {},
   "outputs": [
    {
     "name": "stdout",
     "output_type": "stream",
     "text": [
      "TA    552\n",
      "Gd    292\n",
      "Ex     25\n",
      "Fa      9\n",
      "Name: exter_qual, dtype: int64\n",
      "TA    770\n",
      "Gd     84\n",
      "Fa     18\n",
      "Ex      5\n",
      "Po      1\n",
      "Name: exter_cond, dtype: int64\n",
      "TA    396\n",
      "Gd    355\n",
      "Ex     73\n",
      "Fa     28\n",
      "Po      1\n",
      "Name: bsmt_qual, dtype: int64\n",
      "TA    781\n",
      "Fa     39\n",
      "Gd     33\n",
      "Name: bsmt_cond, dtype: int64\n",
      "Ex    429\n",
      "TA    267\n",
      "Gd    157\n",
      "Fa     25\n",
      "Name: heating_qc, dtype: int64\n",
      "TA    447\n",
      "Gd    354\n",
      "Ex     53\n",
      "Fa     23\n",
      "Po      1\n",
      "Name: kitchen_qual, dtype: int64\n",
      "Gd    220\n",
      "TA    193\n",
      "Fa     16\n",
      "Po     15\n",
      "Ex     12\n",
      "Name: fireplace_qu, dtype: int64\n",
      "TA    782\n",
      "Fa     42\n",
      "Gd      6\n",
      "Po      3\n",
      "Name: garage_qual, dtype: int64\n",
      "TA    796\n",
      "Fa     27\n",
      "Po      6\n",
      "Gd      3\n",
      "Ex      1\n",
      "Name: garage_cond, dtype: int64\n",
      "Ex    3\n",
      "TA    1\n",
      "Name: pool_qc, dtype: int64\n"
     ]
    }
   ],
   "source": [
    "for col in ['exter_qual','exter_cond','bsmt_qual','bsmt_cond','heating_qc','kitchen_qual','fireplace_qu','garage_qual','garage_cond','pool_qc']:\n",
    "    print(df[col].value_counts())"
   ]
  },
  {
   "cell_type": "code",
   "execution_count": 42,
   "id": "9ac96ab7",
   "metadata": {},
   "outputs": [],
   "source": [
    "for df in [df_train,df_test]:\n",
    "    for col in ['exter_qual','exter_cond','bsmt_qual','bsmt_cond',\n",
    "                'heating_qc','kitchen_qual','fireplace_qu','garage_qual','garage_cond','pool_qc']:\n",
    "        df[col] = [0 if val == 'NA'\n",
    "                   else 1 if val == 'Po'\n",
    "                   else 2 if val == 'Fa'\n",
    "                   else 3 if val == 'TA'\n",
    "                   else 4 if val == 'Gd'\n",
    "                   else 5\n",
    "                   for val in df[col]]\n",
    "                "
   ]
  },
  {
   "cell_type": "code",
   "execution_count": 43,
   "id": "5f0c8d9e",
   "metadata": {},
   "outputs": [
    {
     "data": {
      "text/plain": [
       "No    1339\n",
       "Av     288\n",
       "Gd     203\n",
       "Mn     163\n",
       "Name: bsmt_exposure, dtype: int64"
      ]
     },
     "execution_count": 43,
     "metadata": {},
     "output_type": "execute_result"
    }
   ],
   "source": [
    "df_train['bsmt_exposure'].value_counts()"
   ]
  },
  {
   "cell_type": "code",
   "execution_count": 44,
   "id": "7a2eb021",
   "metadata": {},
   "outputs": [],
   "source": [
    "for df in [df_train,df_test]:\n",
    "    df['bsmt_exposure'] = [0 if val == 'NA'\n",
    "                           else 1 if val == 'No'\n",
    "                           else 2 if val == 'Mn'\n",
    "                           else 3 if val == 'Av'\n",
    "                           else 4 \n",
    "                           for val in df['bsmt_exposure']]"
   ]
  },
  {
   "cell_type": "code",
   "execution_count": 45,
   "id": "734b975d",
   "metadata": {},
   "outputs": [
    {
     "name": "stdout",
     "output_type": "stream",
     "text": [
      "GLQ    615\n",
      "Unf    603\n",
      "ALQ    293\n",
      "BLQ    200\n",
      "Rec    183\n",
      "LwQ    102\n",
      "Name: bsmtfin_type_1, dtype: int64\n",
      "Unf    1749\n",
      "Rec      80\n",
      "LwQ      60\n",
      "BLQ      48\n",
      "ALQ      35\n",
      "GLQ      23\n",
      "Name: bsmtfin_type_2, dtype: int64\n"
     ]
    }
   ],
   "source": [
    "print(df_train['bsmtfin_type_1'].value_counts())\n",
    "print(df_train['bsmtfin_type_2'].value_counts())"
   ]
  },
  {
   "cell_type": "code",
   "execution_count": 46,
   "id": "260bc310",
   "metadata": {},
   "outputs": [],
   "source": [
    "for df in [df_train,df_test]:\n",
    "    for col in ['bsmtfin_type_1','bsmtfin_type_2']:\n",
    "        df[col] = [0 if val == 'NA'\n",
    "                   else 1 if val == 'Unf'\n",
    "                   else 2 if val == 'LwQ'\n",
    "                   else 3 if val == 'Rec'\n",
    "                   else 4 if val == 'BLQ'\n",
    "                   else 5 if val == 'ALQ'\n",
    "                   else 6\n",
    "                   for val in df[col]]"
   ]
  },
  {
   "cell_type": "code",
   "execution_count": 47,
   "id": "be076a4a",
   "metadata": {},
   "outputs": [
    {
     "data": {
      "text/plain": [
       "Attchd     1213\n",
       "Detchd      536\n",
       "BuiltIn     132\n",
       "Basment      27\n",
       "2Types       19\n",
       "CarPort      11\n",
       "Name: garage_type, dtype: int64"
      ]
     },
     "execution_count": 47,
     "metadata": {},
     "output_type": "execute_result"
    }
   ],
   "source": [
    "df_train['garage_type'].value_counts()"
   ]
  },
  {
   "cell_type": "code",
   "execution_count": 48,
   "id": "6f04a58b",
   "metadata": {},
   "outputs": [],
   "source": [
    "for df in [df_train,df_test]:\n",
    "    df['garage_type'] = [0 if val == 'NA'\n",
    "                         else 1 if val == 'CarPort'\n",
    "                         else 2 if val == 'Detchd'\n",
    "                         else 3 if val == 'Basment'\n",
    "                         else 4 if val == 'Attchd'\n",
    "                         else 5 if val == 'BuiltIn'\n",
    "                         else 6\n",
    "                         for val in df['garage_type']]"
   ]
  },
  {
   "cell_type": "code",
   "execution_count": 49,
   "id": "4a86d9e6",
   "metadata": {},
   "outputs": [
    {
     "data": {
      "text/plain": [
       "Unf    849\n",
       "RFn    579\n",
       "Fin    509\n",
       "Name: garage_finish, dtype: int64"
      ]
     },
     "execution_count": 49,
     "metadata": {},
     "output_type": "execute_result"
    }
   ],
   "source": [
    "df_train['garage_finish'].value_counts()"
   ]
  },
  {
   "cell_type": "code",
   "execution_count": 50,
   "id": "db3a5a30",
   "metadata": {},
   "outputs": [],
   "source": [
    "for df in [df_train,df_test]:\n",
    "    df['garage_finish'] = [0 if val == 'NA'\n",
    "                           else 1 if val == 'Unf'\n",
    "                           else 2 if val == 'RFn'\n",
    "                           else 3\n",
    "                           for val in df['garage_finish']]"
   ]
  },
  {
   "cell_type": "code",
   "execution_count": null,
   "id": "59085d60",
   "metadata": {},
   "outputs": [],
   "source": []
  },
  {
   "cell_type": "code",
   "execution_count": 51,
   "id": "24d29e2a",
   "metadata": {},
   "outputs": [
    {
     "data": {
      "text/plain": [
       "SBrkr    1868\n",
       "FuseA     140\n",
       "FuseF      35\n",
       "FuseP       7\n",
       "Mix         1\n",
       "Name: electrical, dtype: int64"
      ]
     },
     "execution_count": 51,
     "metadata": {},
     "output_type": "execute_result"
    }
   ],
   "source": [
    "df_train['electrical'].value_counts()"
   ]
  },
  {
   "cell_type": "code",
   "execution_count": 52,
   "id": "f640735b",
   "metadata": {},
   "outputs": [],
   "source": [
    "for df in [df_train,df_test]:\n",
    "    df['electrical'] = [0 if val == 'FuseP'\n",
    "                        else 1 if val == 'FuseF'\n",
    "                        else 2 if val == 'FuseA'\n",
    "                        else 3 if val == 'Mix'\n",
    "                        else 4\n",
    "                        for val in df['electrical']]"
   ]
  },
  {
   "cell_type": "code",
   "execution_count": 53,
   "id": "8e4a10cd",
   "metadata": {},
   "outputs": [
    {
     "data": {
      "text/plain": [
       "Y    1910\n",
       "N     141\n",
       "Name: central_air, dtype: int64"
      ]
     },
     "execution_count": 53,
     "metadata": {},
     "output_type": "execute_result"
    }
   ],
   "source": [
    "df_train['central_air'].value_counts()"
   ]
  },
  {
   "cell_type": "code",
   "execution_count": 54,
   "id": "3d677086",
   "metadata": {},
   "outputs": [],
   "source": [
    "for df in [df_train,df_test]:\n",
    "    df['central_air'] = [1 if val == 'Y' else 0 for val in df['central_air']]"
   ]
  },
  {
   "cell_type": "code",
   "execution_count": 55,
   "id": "d97d6403",
   "metadata": {},
   "outputs": [
    {
     "data": {
      "text/plain": [
       "Typ     1915\n",
       "Min2      42\n",
       "Min1      42\n",
       "Mod       29\n",
       "Maj1      12\n",
       "Maj2       7\n",
       "Sev        2\n",
       "Sal        2\n",
       "Name: functional, dtype: int64"
      ]
     },
     "execution_count": 55,
     "metadata": {},
     "output_type": "execute_result"
    }
   ],
   "source": [
    "df_train['functional'].value_counts()"
   ]
  },
  {
   "cell_type": "code",
   "execution_count": 56,
   "id": "6b4614e2",
   "metadata": {},
   "outputs": [],
   "source": [
    "for df in [df_train,df_test]:\n",
    "    df['functional'] = [0 if val == 'Sal'\n",
    "                        else 1 if val == 'Sev'\n",
    "                        else 2 if val == 'Maj2'\n",
    "                        else 3 if val == 'Maj1'\n",
    "                        else 4 if val == 'Mod'\n",
    "                        else 5 if val == 'Min2'\n",
    "                        else 6 if val == 'Min1'\n",
    "                        else 7\n",
    "                        for val in df['functional']]"
   ]
  },
  {
   "cell_type": "code",
   "execution_count": 57,
   "id": "c63ec841",
   "metadata": {},
   "outputs": [
    {
     "data": {
      "text/plain": [
       "Y    1861\n",
       "N     151\n",
       "P      39\n",
       "Name: paved_drive, dtype: int64"
      ]
     },
     "execution_count": 57,
     "metadata": {},
     "output_type": "execute_result"
    }
   ],
   "source": [
    "df_train['paved_drive'].value_counts()"
   ]
  },
  {
   "cell_type": "code",
   "execution_count": 58,
   "id": "b902d7f6",
   "metadata": {},
   "outputs": [],
   "source": [
    "for df in [df_train,df_test]:\n",
    "    df['paved_drive'] = [0 if val == 'N'\n",
    "                         else 1 if val == 'P'\n",
    "                         else 2\n",
    "                         for val in df['paved_drive']]"
   ]
  },
  {
   "cell_type": "code",
   "execution_count": 59,
   "id": "56c48ba3",
   "metadata": {},
   "outputs": [
    {
     "data": {
      "text/plain": [
       "MnPrv    227\n",
       "GdPrv     83\n",
       "GdWo      80\n",
       "MnWw      10\n",
       "Name: fence, dtype: int64"
      ]
     },
     "execution_count": 59,
     "metadata": {},
     "output_type": "execute_result"
    }
   ],
   "source": [
    "df_train['fence'].value_counts()"
   ]
  },
  {
   "cell_type": "code",
   "execution_count": null,
   "id": "b8eee141-97d4-43db-8ff9-0e063a315787",
   "metadata": {},
   "outputs": [],
   "source": []
  },
  {
   "cell_type": "code",
   "execution_count": 18,
   "id": "f2a22f48-ab3d-4c9c-adec-a5229143ad0a",
   "metadata": {},
   "outputs": [
    {
     "data": {
      "text/plain": [
       "Index(['ms_zoning', 'street', 'alley', 'lot_shape', 'land_contour',\n",
       "       'utilities', 'lot_config', 'land_slope', 'neighborhood', 'condition_1',\n",
       "       'condition_2', 'bldg_type', 'house_style', 'roof_style', 'roof_matl',\n",
       "       'exterior_1st', 'exterior_2nd', 'mas_vnr_type', 'exter_qual',\n",
       "       'exter_cond', 'foundation', 'bsmt_qual', 'bsmt_cond', 'bsmt_exposure',\n",
       "       'bsmtfin_type_1', 'bsmtfin_type_2', 'heating', 'heating_qc',\n",
       "       'central_air', 'electrical', 'kitchen_qual', 'functional',\n",
       "       'fireplace_qu', 'garage_type', 'garage_finish', 'garage_qual',\n",
       "       'garage_cond', 'paved_drive', 'pool_qc', 'fence', 'misc_feature',\n",
       "       'sale_type', 'pid_1', 'pid_2', 'pid_3', 'pid_4'],\n",
       "      dtype='object')"
      ]
     },
     "execution_count": 18,
     "metadata": {},
     "output_type": "execute_result"
    }
   ],
   "source": [
    "df_train.select_dtypes('object').columns"
   ]
  },
  {
   "cell_type": "code",
   "execution_count": 19,
   "id": "813d662d-1a9f-4937-9c74-f63b828f32b6",
   "metadata": {},
   "outputs": [
    {
     "name": "stdout",
     "output_type": "stream",
     "text": [
      "RL         1598\n",
      "RM          316\n",
      "FV          101\n",
      "C (all)      19\n",
      "RH           14\n",
      "A (agr)       2\n",
      "I (all)       1\n",
      "Name: ms_zoning, dtype: int64\n",
      "RL         674\n",
      "RM         146\n",
      "FV          38\n",
      "RH          13\n",
      "C (all)      6\n",
      "I (all)      1\n",
      "Name: ms_zoning, dtype: int64\n"
     ]
    }
   ],
   "source": [
    "print(df_train.ms_zoning.value_counts())\n",
    "print(df_test.ms_zoning.value_counts())"
   ]
  },
  {
   "cell_type": "code",
   "execution_count": 20,
   "id": "dfe4662b-3964-446d-b622-ebeb1e9977c2",
   "metadata": {},
   "outputs": [],
   "source": [
    "for df in [df_train,df_test]:\n",
    "    df['ms_zoning'] = [0 if val == 'I (all)' \n",
    "                         else 1 if val == 'C (all)' \n",
    "                         else 2 if val == 'RH'\n",
    "                         else 3 if val == 'RM'\n",
    "                         else 4 if val == 'RL'\n",
    "                         else 5 if val == 'FV'\n",
    "                         else 6\n",
    "                         for val in df['ms_zoning']]"
   ]
  },
  {
   "cell_type": "code",
   "execution_count": 21,
   "id": "bc640b3c-ff6d-490a-929d-ce5b630c39c5",
   "metadata": {},
   "outputs": [
    {
     "data": {
      "text/plain": [
       "Pave    2044\n",
       "Grvl       7\n",
       "Name: street, dtype: int64"
      ]
     },
     "execution_count": 21,
     "metadata": {},
     "output_type": "execute_result"
    }
   ],
   "source": [
    "df_train['street'].value_counts()"
   ]
  },
  {
   "cell_type": "code",
   "execution_count": 22,
   "id": "46da61b1-af86-40f2-97d3-573ae7f5b408",
   "metadata": {},
   "outputs": [],
   "source": [
    "for df in [df_train,df_test]:\n",
    "    df['street'] = [0 if val == 'Grvl' else 1 for val in df['street']]"
   ]
  },
  {
   "cell_type": "code",
   "execution_count": 23,
   "id": "2daa33fc-e1cf-4301-b16b-70c7dcf232b5",
   "metadata": {},
   "outputs": [
    {
     "data": {
      "text/plain": [
       "Grvl    85\n",
       "Pave    55\n",
       "Name: alley, dtype: int64"
      ]
     },
     "execution_count": 23,
     "metadata": {},
     "output_type": "execute_result"
    }
   ],
   "source": [
    "df_train['alley'].value_counts()"
   ]
  },
  {
   "cell_type": "code",
   "execution_count": 24,
   "id": "c3e71c8c-2365-4caa-912f-762de9af0c2b",
   "metadata": {},
   "outputs": [],
   "source": [
    "for df in [df_train,df_test]:\n",
    "    df['alley'] = [0 if val == 'Grvl' else 1 for val in df['alley']]"
   ]
  },
  {
   "cell_type": "code",
   "execution_count": null,
   "id": "c5e41781-fae0-4336-9a0e-aa0efccf8639",
   "metadata": {},
   "outputs": [],
   "source": []
  },
  {
   "cell_type": "code",
   "execution_count": 25,
   "id": "57fc0bd5-5dee-4210-b560-bc694bf089c4",
   "metadata": {},
   "outputs": [
    {
     "data": {
      "text/plain": [
       "Reg    1295\n",
       "IR1     692\n",
       "IR2      55\n",
       "IR3       9\n",
       "Name: lot_shape, dtype: int64"
      ]
     },
     "execution_count": 25,
     "metadata": {},
     "output_type": "execute_result"
    }
   ],
   "source": [
    "df_train['lot_shape'].value_counts()"
   ]
  },
  {
   "cell_type": "code",
   "execution_count": 26,
   "id": "08dd896a-3bce-4cc3-be2b-278dcdbdc186",
   "metadata": {},
   "outputs": [],
   "source": [
    "for df in [df_train,df_test]:\n",
    "    df['lot_shape'] = [0 if val == 'IR3' \n",
    "                         else 1 if val == 'IR2' \n",
    "                         else 2 if val == 'IR1'\n",
    "                         else 3\n",
    "                         for val in df['lot_shape']]"
   ]
  },
  {
   "cell_type": "code",
   "execution_count": 27,
   "id": "61e8069b-6110-4ff3-9c28-bd4baaf665c1",
   "metadata": {},
   "outputs": [
    {
     "data": {
      "text/plain": [
       "Lvl    1843\n",
       "HLS      85\n",
       "Bnk      80\n",
       "Low      43\n",
       "Name: land_contour, dtype: int64"
      ]
     },
     "execution_count": 27,
     "metadata": {},
     "output_type": "execute_result"
    }
   ],
   "source": [
    "df_train['land_contour'].value_counts()"
   ]
  },
  {
   "cell_type": "code",
   "execution_count": 28,
   "id": "bac181e8-ae53-4a57-8754-92733234070b",
   "metadata": {},
   "outputs": [],
   "source": [
    "for df in [df_train,df_test]:\n",
    "    df['land_contour'] = [0 if val == 'IR3' \n",
    "                         else 1 if val == 'IR2' \n",
    "                         else 2 if val == 'IR1'\n",
    "                         else 3\n",
    "                         for val in df['land_contour']]"
   ]
  },
  {
   "cell_type": "code",
   "execution_count": 29,
   "id": "9484bec8-e448-4aa0-8412-e425462cef0d",
   "metadata": {},
   "outputs": [
    {
     "data": {
      "text/plain": [
       "AllPub    2049\n",
       "NoSeWa       1\n",
       "NoSewr       1\n",
       "Name: utilities, dtype: int64"
      ]
     },
     "execution_count": 29,
     "metadata": {},
     "output_type": "execute_result"
    }
   ],
   "source": [
    "df_train['utilities'].value_counts()"
   ]
  },
  {
   "cell_type": "code",
   "execution_count": 30,
   "id": "acefec72-452e-43cd-b7a8-371b5081e27d",
   "metadata": {},
   "outputs": [],
   "source": [
    "for df in [df_train,df_test]:\n",
    "    df['utilities'] = [0 if val == 'NoSeWa'\n",
    "                       else 1 if val == 'NoSeWr'\n",
    "                       else 2 \n",
    "                       for val in df['utilities']]"
   ]
  },
  {
   "cell_type": "code",
   "execution_count": 31,
   "id": "96283b9a-900b-455e-b89c-9a7890481c11",
   "metadata": {},
   "outputs": [
    {
     "data": {
      "text/plain": [
       "Inside     1503\n",
       "Corner      348\n",
       "CulDSac     131\n",
       "FR2          60\n",
       "FR3           9\n",
       "Name: lot_config, dtype: int64"
      ]
     },
     "execution_count": 31,
     "metadata": {},
     "output_type": "execute_result"
    }
   ],
   "source": [
    "df_train['lot_config'].value_counts()"
   ]
  },
  {
   "cell_type": "code",
   "execution_count": 32,
   "id": "5f7d33bb-1b80-464a-8d5d-279084dc5fd8",
   "metadata": {},
   "outputs": [],
   "source": [
    "for df in [df_train,df_test]:\n",
    "    df['lot_config'] = [0 if val == 'FR3'\n",
    "                       else 1 if val == 'FR2'\n",
    "                       else 2 if val == 'Corner'\n",
    "                        else 3 if val == 'Inside'\n",
    "                        else 4\n",
    "                       for val in df['lot_config']]"
   ]
  },
  {
   "cell_type": "code",
   "execution_count": 33,
   "id": "6bc3bfb6-0f63-48c2-ad56-a25c849b8e73",
   "metadata": {},
   "outputs": [
    {
     "data": {
      "text/plain": [
       "Gtl    1953\n",
       "Mod      88\n",
       "Sev      10\n",
       "Name: land_slope, dtype: int64"
      ]
     },
     "execution_count": 33,
     "metadata": {},
     "output_type": "execute_result"
    }
   ],
   "source": [
    "df_train['land_slope'].value_counts()"
   ]
  },
  {
   "cell_type": "code",
   "execution_count": 34,
   "id": "ca46b116-7e0a-4ec0-b3d8-9f45a49f6ad1",
   "metadata": {},
   "outputs": [],
   "source": [
    "for df in [df_train,df_test]:\n",
    "    df['land_slope'] = [0 if val == 'Sev'\n",
    "                       else 1 if val == 'Mod'\n",
    "                       else 2\n",
    "                       for val in df['land_slope']]"
   ]
  },
  {
   "cell_type": "code",
   "execution_count": 35,
   "id": "044c85e9-3550-4f66-b74b-9dfe0bde85ea",
   "metadata": {},
   "outputs": [
    {
     "data": {
      "text/plain": [
       "Norm      1767\n",
       "Feedr      109\n",
       "Artery      70\n",
       "RRAn        36\n",
       "PosN        27\n",
       "RRAe        21\n",
       "PosA        12\n",
       "RRNn         6\n",
       "RRNe         3\n",
       "Name: condition_1, dtype: int64"
      ]
     },
     "execution_count": 35,
     "metadata": {},
     "output_type": "execute_result"
    }
   ],
   "source": [
    "df_train['condition_1'].value_counts()"
   ]
  },
  {
   "cell_type": "code",
   "execution_count": 36,
   "id": "771b1e3a-1eff-4705-8f6a-5752343da76e",
   "metadata": {},
   "outputs": [],
   "source": [
    "for df in [df_train,df_test]:\n",
    "    for cond in ['condition_1','condition_2']:\n",
    "        df[cond] = [0 if (val == 'RRAe') | (val == 'RRAn')\n",
    "                    else 1 if (val == 'RRNe') | (val == 'RRNn')\n",
    "                    else 2 if val == 'Artery'\n",
    "                    else 3 if val == 'Feedr'\n",
    "                    else 4 if val == 'Normal'\n",
    "                    else 5 if val == 'PosN'\n",
    "                    else 6 \n",
    "                    for val in df[cond]]"
   ]
  },
  {
   "cell_type": "code",
   "execution_count": 37,
   "id": "950fcd2f-cfb3-41ee-99b5-f67db4cd893f",
   "metadata": {},
   "outputs": [
    {
     "data": {
      "text/plain": [
       "1Fam      1700\n",
       "TwnhsE     161\n",
       "Duplex      75\n",
       "Twnhs       69\n",
       "2fmCon      46\n",
       "Name: bldg_type, dtype: int64"
      ]
     },
     "execution_count": 37,
     "metadata": {},
     "output_type": "execute_result"
    }
   ],
   "source": [
    "df_train['bldg_type'].value_counts()"
   ]
  },
  {
   "cell_type": "code",
   "execution_count": 38,
   "id": "8b3c0ad6-ae90-4d26-8ba9-de188d3e8ee7",
   "metadata": {},
   "outputs": [],
   "source": [
    "for df in [df_train,df_test]:\n",
    "    df['bldg_type'] = [0 if val == 'Twnhs'\n",
    "                       else 1 if val == 'TwnhsE'\n",
    "                       else 2 if val == 'Duplex'\n",
    "                       else 3 if val == '2fmCon'\n",
    "                       else 4\n",
    "                       for val in df['bldg_type']]"
   ]
  },
  {
   "cell_type": "code",
   "execution_count": 39,
   "id": "14189795-9f73-428e-a558-f2be62a8f455",
   "metadata": {},
   "outputs": [
    {
     "data": {
      "text/plain": [
       "1Story    1059\n",
       "2Story     598\n",
       "1.5Fin     218\n",
       "SLvl        94\n",
       "SFoyer      50\n",
       "2.5Unf      14\n",
       "1.5Unf      12\n",
       "2.5Fin       6\n",
       "Name: house_style, dtype: int64"
      ]
     },
     "execution_count": 39,
     "metadata": {},
     "output_type": "execute_result"
    }
   ],
   "source": [
    "df_train['house_style'].value_counts()"
   ]
  },
  {
   "cell_type": "code",
   "execution_count": 40,
   "id": "bce72193-aa6b-401a-8a95-a847a75fa9d7",
   "metadata": {},
   "outputs": [],
   "source": [
    "for df in [df_train,df_test]:\n",
    "    df['house_style'] = [0 if val == '1Story'\n",
    "                         else 1 if val == '1.5Unf'\n",
    "                         else 2 if val == '1.5Fin'\n",
    "                         else 3 if val == 'SLvl'\n",
    "                         else 4 if val == 'SFoyer'\n",
    "                         else 5 if val == '2Story'\n",
    "                         else 6 if val == '2.5Unf'\n",
    "                         else 7\n",
    "                       for val in df['house_style']]"
   ]
  },
  {
   "cell_type": "code",
   "execution_count": null,
   "id": "afa49a90-408b-4c15-bfb5-2732cb930c17",
   "metadata": {},
   "outputs": [],
   "source": []
  },
  {
   "cell_type": "code",
   "execution_count": 41,
   "id": "fba845b2-36b9-46f3-a726-9df9ef7ce312",
   "metadata": {},
   "outputs": [
    {
     "name": "stdout",
     "output_type": "stream",
     "text": [
      "TA    552\n",
      "Gd    292\n",
      "Ex     25\n",
      "Fa      9\n",
      "Name: exter_qual, dtype: int64\n",
      "TA    770\n",
      "Gd     84\n",
      "Fa     18\n",
      "Ex      5\n",
      "Po      1\n",
      "Name: exter_cond, dtype: int64\n",
      "TA    396\n",
      "Gd    355\n",
      "Ex     73\n",
      "Fa     28\n",
      "Po      1\n",
      "Name: bsmt_qual, dtype: int64\n",
      "TA    781\n",
      "Fa     39\n",
      "Gd     33\n",
      "Name: bsmt_cond, dtype: int64\n",
      "Ex    429\n",
      "TA    267\n",
      "Gd    157\n",
      "Fa     25\n",
      "Name: heating_qc, dtype: int64\n",
      "TA    447\n",
      "Gd    354\n",
      "Ex     53\n",
      "Fa     23\n",
      "Po      1\n",
      "Name: kitchen_qual, dtype: int64\n",
      "Gd    220\n",
      "TA    193\n",
      "Fa     16\n",
      "Po     15\n",
      "Ex     12\n",
      "Name: fireplace_qu, dtype: int64\n",
      "TA    782\n",
      "Fa     42\n",
      "Gd      6\n",
      "Po      3\n",
      "Name: garage_qual, dtype: int64\n",
      "TA    796\n",
      "Fa     27\n",
      "Po      6\n",
      "Gd      3\n",
      "Ex      1\n",
      "Name: garage_cond, dtype: int64\n",
      "Ex    3\n",
      "TA    1\n",
      "Name: pool_qc, dtype: int64\n"
     ]
    }
   ],
   "source": [
    "for col in ['exter_qual','exter_cond','bsmt_qual','bsmt_cond','heating_qc','kitchen_qual','fireplace_qu','garage_qual','garage_cond','pool_qc']:\n",
    "    print(df[col].value_counts())"
   ]
  },
  {
   "cell_type": "code",
   "execution_count": 42,
   "id": "2af2db77-c2e1-44c9-b833-b8e161b486d5",
   "metadata": {},
   "outputs": [],
   "source": [
    "for df in [df_train,df_test]:\n",
    "    for col in ['exter_qual','exter_cond','bsmt_qual','bsmt_cond',\n",
    "                'heating_qc','kitchen_qual','fireplace_qu','garage_qual','garage_cond','pool_qc']:\n",
    "        df[col] = [0 if val == 'NA'\n",
    "                   else 1 if val == 'Po'\n",
    "                   else 2 if val == 'Fa'\n",
    "                   else 3 if val == 'TA'\n",
    "                   else 4 if val == 'Gd'\n",
    "                   else 5\n",
    "                   for val in df[col]]\n",
    "                "
   ]
  },
  {
   "cell_type": "code",
   "execution_count": 43,
   "id": "00a4572d-d0f3-4515-8688-f26a3e9d9409",
   "metadata": {},
   "outputs": [
    {
     "data": {
      "text/plain": [
       "No    1339\n",
       "Av     288\n",
       "Gd     203\n",
       "Mn     163\n",
       "Name: bsmt_exposure, dtype: int64"
      ]
     },
     "execution_count": 43,
     "metadata": {},
     "output_type": "execute_result"
    }
   ],
   "source": [
    "df_train['bsmt_exposure'].value_counts()"
   ]
  },
  {
   "cell_type": "code",
   "execution_count": 44,
   "id": "858a3579-2575-4e9b-8f3c-87392352c220",
   "metadata": {},
   "outputs": [],
   "source": [
    "for df in [df_train,df_test]:\n",
    "    df['bsmt_exposure'] = [0 if val == 'NA'\n",
    "                           else 1 if val == 'No'\n",
    "                           else 2 if val == 'Mn'\n",
    "                           else 3 if val == 'Av'\n",
    "                           else 4 \n",
    "                           for val in df['bsmt_exposure']]"
   ]
  },
  {
   "cell_type": "code",
   "execution_count": 45,
   "id": "29636a82-cd97-49cb-985e-02598f920c05",
   "metadata": {},
   "outputs": [
    {
     "name": "stdout",
     "output_type": "stream",
     "text": [
      "GLQ    615\n",
      "Unf    603\n",
      "ALQ    293\n",
      "BLQ    200\n",
      "Rec    183\n",
      "LwQ    102\n",
      "Name: bsmtfin_type_1, dtype: int64\n",
      "Unf    1749\n",
      "Rec      80\n",
      "LwQ      60\n",
      "BLQ      48\n",
      "ALQ      35\n",
      "GLQ      23\n",
      "Name: bsmtfin_type_2, dtype: int64\n"
     ]
    }
   ],
   "source": [
    "print(df_train['bsmtfin_type_1'].value_counts())\n",
    "print(df_train['bsmtfin_type_2'].value_counts())"
   ]
  },
  {
   "cell_type": "code",
   "execution_count": 46,
   "id": "fa63beaa-e46c-4f72-9aac-c156999f801b",
   "metadata": {},
   "outputs": [],
   "source": [
    "for df in [df_train,df_test]:\n",
    "    for col in ['bsmtfin_type_1','bsmtfin_type_2']:\n",
    "        df[col] = [0 if val == 'NA'\n",
    "                   else 1 if val == 'Unf'\n",
    "                   else 2 if val == 'LwQ'\n",
    "                   else 3 if val == 'Rec'\n",
    "                   else 4 if val == 'BLQ'\n",
    "                   else 5 if val == 'ALQ'\n",
    "                   else 6\n",
    "                   for val in df[col]]"
   ]
  },
  {
   "cell_type": "code",
   "execution_count": 47,
   "id": "b42712f3-1415-4af3-bd69-a98d10a46383",
   "metadata": {},
   "outputs": [
    {
     "data": {
      "text/plain": [
       "Attchd     1213\n",
       "Detchd      536\n",
       "BuiltIn     132\n",
       "Basment      27\n",
       "2Types       19\n",
       "CarPort      11\n",
       "Name: garage_type, dtype: int64"
      ]
     },
     "execution_count": 47,
     "metadata": {},
     "output_type": "execute_result"
    }
   ],
   "source": [
    "df_train['garage_type'].value_counts()"
   ]
  },
  {
   "cell_type": "code",
   "execution_count": 48,
   "id": "d72d3e01-abb6-4559-a2de-dc94e505ef70",
   "metadata": {},
   "outputs": [],
   "source": [
    "for df in [df_train,df_test]:\n",
    "    df['garage_type'] = [0 if val == 'NA'\n",
    "                         else 1 if val == 'CarPort'\n",
    "                         else 2 if val == 'Detchd'\n",
    "                         else 3 if val == 'Basment'\n",
    "                         else 4 if val == 'Attchd'\n",
    "                         else 5 if val == 'BuiltIn'\n",
    "                         else 6\n",
    "                         for val in df['garage_type']]"
   ]
  },
  {
   "cell_type": "code",
   "execution_count": 49,
   "id": "93e961f5-03ad-434a-905e-f26d5f67a798",
   "metadata": {},
   "outputs": [
    {
     "data": {
      "text/plain": [
       "Unf    849\n",
       "RFn    579\n",
       "Fin    509\n",
       "Name: garage_finish, dtype: int64"
      ]
     },
     "execution_count": 49,
     "metadata": {},
     "output_type": "execute_result"
    }
   ],
   "source": [
    "df_train['garage_finish'].value_counts()"
   ]
  },
  {
   "cell_type": "code",
   "execution_count": 50,
   "id": "5db2ae87-7e0a-482c-aff0-22ac5cbe1d2c",
   "metadata": {},
   "outputs": [],
   "source": [
    "for df in [df_train,df_test]:\n",
    "    df['garage_finish'] = [0 if val == 'NA'\n",
    "                           else 1 if val == 'Unf'\n",
    "                           else 2 if val == 'RFn'\n",
    "                           else 3\n",
    "                           for val in df['garage_finish']]"
   ]
  },
  {
   "cell_type": "code",
   "execution_count": null,
   "id": "425a10f9-fb14-465a-8de3-284e74c78a8f",
   "metadata": {},
   "outputs": [],
   "source": []
  },
  {
   "cell_type": "code",
   "execution_count": 51,
   "id": "e7651b6d-39b5-4a6b-8cbc-2474acd703bd",
   "metadata": {},
   "outputs": [
    {
     "data": {
      "text/plain": [
       "SBrkr    1868\n",
       "FuseA     140\n",
       "FuseF      35\n",
       "FuseP       7\n",
       "Mix         1\n",
       "Name: electrical, dtype: int64"
      ]
     },
     "execution_count": 51,
     "metadata": {},
     "output_type": "execute_result"
    }
   ],
   "source": [
    "df_train['electrical'].value_counts()"
   ]
  },
  {
   "cell_type": "code",
   "execution_count": 52,
   "id": "766b330a-4817-4492-b4b9-74573df398a4",
   "metadata": {},
   "outputs": [],
   "source": [
    "for df in [df_train,df_test]:\n",
    "    df['electrical'] = [0 if val == 'FuseP'\n",
    "                        else 1 if val == 'FuseF'\n",
    "                        else 2 if val == 'FuseA'\n",
    "                        else 3 if val == 'Mix'\n",
    "                        else 4\n",
    "                        for val in df['electrical']]"
   ]
  },
  {
   "cell_type": "code",
   "execution_count": 53,
   "id": "24dbee5c-7536-41ae-a6dd-d231c3118161",
   "metadata": {},
   "outputs": [
    {
     "data": {
      "text/plain": [
       "Y    1910\n",
       "N     141\n",
       "Name: central_air, dtype: int64"
      ]
     },
     "execution_count": 53,
     "metadata": {},
     "output_type": "execute_result"
    }
   ],
   "source": [
    "df_train['central_air'].value_counts()"
   ]
  },
  {
   "cell_type": "code",
   "execution_count": 54,
   "id": "0ceceadc-1cb1-403c-b9c3-58ee0ef48660",
   "metadata": {},
   "outputs": [],
   "source": [
    "for df in [df_train,df_test]:\n",
    "    df['central_air'] = [1 if val == 'Y' else 0 for val in df['central_air']]"
   ]
  },
  {
   "cell_type": "code",
   "execution_count": 55,
   "id": "5fb24916-81bd-493b-9ab5-92da220bb309",
   "metadata": {},
   "outputs": [
    {
     "data": {
      "text/plain": [
       "Typ     1915\n",
       "Min2      42\n",
       "Min1      42\n",
       "Mod       29\n",
       "Maj1      12\n",
       "Maj2       7\n",
       "Sev        2\n",
       "Sal        2\n",
       "Name: functional, dtype: int64"
      ]
     },
     "execution_count": 55,
     "metadata": {},
     "output_type": "execute_result"
    }
   ],
   "source": [
    "df_train['functional'].value_counts()"
   ]
  },
  {
   "cell_type": "code",
   "execution_count": 56,
   "id": "ad727ea6-8ad3-483a-a044-907bb0aeac19",
   "metadata": {},
   "outputs": [],
   "source": [
    "for df in [df_train,df_test]:\n",
    "    df['functional'] = [0 if val == 'Sal'\n",
    "                        else 1 if val == 'Sev'\n",
    "                        else 2 if val == 'Maj2'\n",
    "                        else 3 if val == 'Maj1'\n",
    "                        else 4 if val == 'Mod'\n",
    "                        else 5 if val == 'Min2'\n",
    "                        else 6 if val == 'Min1'\n",
    "                        else 7\n",
    "                        for val in df['functional']]"
   ]
  },
  {
   "cell_type": "code",
   "execution_count": 57,
   "id": "cea84c83-95ca-40ed-a795-a96c4b32fe98",
   "metadata": {},
   "outputs": [
    {
     "data": {
      "text/plain": [
       "Y    1861\n",
       "N     151\n",
       "P      39\n",
       "Name: paved_drive, dtype: int64"
      ]
     },
     "execution_count": 57,
     "metadata": {},
     "output_type": "execute_result"
    }
   ],
   "source": [
    "df_train['paved_drive'].value_counts()"
   ]
  },
  {
   "cell_type": "code",
   "execution_count": 58,
   "id": "7670503f-943e-4755-a949-04d52b83ad4d",
   "metadata": {},
   "outputs": [],
   "source": [
    "for df in [df_train,df_test]:\n",
    "    df['paved_drive'] = [0 if val == 'N'\n",
    "                         else 1 if val == 'P'\n",
    "                         else 2\n",
    "                         for val in df['paved_drive']]"
   ]
  },
  {
   "cell_type": "code",
   "execution_count": 59,
   "id": "d6f58286-a779-4698-8cb2-4bac937f6803",
   "metadata": {},
   "outputs": [
    {
     "data": {
      "text/plain": [
       "MnPrv    227\n",
       "GdPrv     83\n",
       "GdWo      80\n",
       "MnWw      10\n",
       "Name: fence, dtype: int64"
      ]
     },
     "execution_count": 59,
     "metadata": {},
     "output_type": "execute_result"
    }
   ],
   "source": [
    "df_train['fence'].value_counts()"
   ]
  },
  {
   "cell_type": "code",
   "execution_count": 65,
   "id": "4a7c9259",
   "metadata": {},
   "outputs": [
    {
     "data": {
      "text/plain": [
       "Index(['id', 'pid', 'ms_subclass', 'ms_zoning', 'lot_frontage', 'lot_area',\n",
       "       'street', 'alley', 'lot_shape', 'land_contour', 'utilities',\n",
       "       'lot_config', 'land_slope', 'neighborhood', 'condition_1',\n",
       "       'condition_2', 'bldg_type', 'house_style', 'overall_qual',\n",
       "       'overall_cond', 'year_built', 'year_remod/add', 'roof_style',\n",
       "       'roof_matl', 'exterior_1st', 'exterior_2nd', 'mas_vnr_type',\n",
       "       'mas_vnr_area', 'exter_qual', 'exter_cond', 'foundation', 'bsmt_qual',\n",
       "       'bsmt_cond', 'bsmt_exposure', 'bsmtfin_type_1', 'bsmtfin_sf_1',\n",
       "       'bsmtfin_type_2', 'bsmtfin_sf_2', 'bsmt_unf_sf', 'total_bsmt_sf',\n",
       "       'heating', 'heating_qc', 'central_air', 'electrical', '1st_flr_sf',\n",
       "       '2nd_flr_sf', 'low_qual_fin_sf', 'gr_liv_area', 'bsmt_full_bath',\n",
       "       'bsmt_half_bath', 'full_bath', 'half_bath', 'bedroom_abvgr',\n",
       "       'kitchen_abvgr', 'kitchen_qual', 'totrms_abvgrd', 'functional',\n",
       "       'fireplaces', 'fireplace_qu', 'garage_type', 'garage_yr_blt',\n",
       "       'garage_finish', 'garage_cars', 'garage_area', 'garage_qual',\n",
       "       'garage_cond', 'paved_drive', 'wood_deck_sf', 'open_porch_sf',\n",
       "       'enclosed_porch', '3ssn_porch', 'screen_porch', 'pool_area', 'pool_qc',\n",
       "       'fence', 'misc_feature', 'misc_val', 'mo_sold', 'yr_sold', 'sale_type',\n",
       "       'pid_1', 'pid_2', 'pid_3', 'pid_4'],\n",
       "      dtype='object')"
      ]
     },
     "execution_count": 65,
     "metadata": {},
     "output_type": "execute_result"
    }
   ],
   "source": [
    "df.columns"
   ]
  },
  {
   "cell_type": "code",
   "execution_count": 67,
   "id": "59f64f8c-08b1-498f-9d94-1e88421326f4",
   "metadata": {},
   "outputs": [],
   "source": [
    "for df in [df_train,df_test]:\n",
    "    df['fence_mat'] = [0 if val == 'NA'\n",
    "                       else 1 if val == 'MnWw'\n",
    "                       else 2 if val == 'GdWo'\n",
    "                       else 0\n",
    "                       for val in df['fence']]"
   ]
  },
  {
   "cell_type": "code",
   "execution_count": 68,
   "id": "3229ee3a",
   "metadata": {},
   "outputs": [],
   "source": [
    "for df in [df_train,df_test]:\n",
    "    df['fence_priv'] = [0 if val == 'NA'\n",
    "                       else 1 if val == 'MnPrv'\n",
    "                       else 2 if val == 'GdPrv'\n",
    "                       else 0\n",
    "                       for val in df['fence']]"
   ]
  },
  {
   "cell_type": "code",
   "execution_count": null,
   "id": "c21d958f",
   "metadata": {},
   "outputs": [],
   "source": []
  },
  {
   "cell_type": "code",
   "execution_count": null,
   "id": "e6a2b8b2-9851-4067-aefb-050450f6edb3",
   "metadata": {},
   "outputs": [],
   "source": []
  },
  {
   "cell_type": "code",
   "execution_count": null,
   "id": "e95a8edc-dbdc-459e-84db-b6a379222af1",
   "metadata": {},
   "outputs": [],
   "source": []
  },
  {
   "cell_type": "code",
   "execution_count": 69,
   "id": "3530c3cf-251b-428c-af02-aaa8be38d0f2",
   "metadata": {},
   "outputs": [
    {
     "data": {
      "text/plain": [
       "((2051, 87), (878, 86))"
      ]
     },
     "execution_count": 69,
     "metadata": {},
     "output_type": "execute_result"
    }
   ],
   "source": [
    "df_train.shape, df_test.shape"
   ]
  },
  {
   "cell_type": "code",
   "execution_count": 70,
   "id": "44ef44dd-c2d7-4ced-8ed9-2a1ed4035c3d",
   "metadata": {},
   "outputs": [
    {
     "data": {
      "text/plain": [
       "{'saleprice'}"
      ]
     },
     "execution_count": 70,
     "metadata": {},
     "output_type": "execute_result"
    }
   ],
   "source": [
    "set(df_train.columns) - set(df_test.columns)"
   ]
  },
  {
   "cell_type": "code",
   "execution_count": 71,
   "id": "17024f49-24fb-4e67-ae58-e9deb4f6fa0c",
   "metadata": {},
   "outputs": [
    {
     "data": {
      "text/plain": [
       "misc_feature      1986\n",
       "fence             1651\n",
       "lot_frontage       330\n",
       "garage_yr_blt      114\n",
       "mas_vnr_type        22\n",
       "mas_vnr_area        22\n",
       "bsmt_full_bath       2\n",
       "bsmt_half_bath       2\n",
       "bsmtfin_sf_1         1\n",
       "bsmtfin_sf_2         1\n",
       "bsmt_unf_sf          1\n",
       "total_bsmt_sf        1\n",
       "garage_cars          1\n",
       "garage_area          1\n",
       "dtype: int64"
      ]
     },
     "execution_count": 71,
     "metadata": {},
     "output_type": "execute_result"
    }
   ],
   "source": [
    "df_train.isnull().sum().loc[lambda x: x > 0].sort_values(ascending=False)"
   ]
  },
  {
   "cell_type": "code",
   "execution_count": 72,
   "id": "8e4b089f-00bc-449a-8300-6da93609ec73",
   "metadata": {},
   "outputs": [
    {
     "data": {
      "text/plain": [
       "misc_feature     837\n",
       "fence            706\n",
       "lot_frontage     160\n",
       "garage_yr_blt     45\n",
       "mas_vnr_type       1\n",
       "mas_vnr_area       1\n",
       "dtype: int64"
      ]
     },
     "execution_count": 72,
     "metadata": {},
     "output_type": "execute_result"
    }
   ],
   "source": [
    "df_test.isnull().sum().loc[lambda x: x > 0].sort_values(ascending=False)"
   ]
  },
  {
   "cell_type": "code",
   "execution_count": 73,
   "id": "5a61b762-3a06-403d-a25b-6b51ceb7a021",
   "metadata": {},
   "outputs": [],
   "source": [
    "#  See if nulls are meaningful - can we impute? - null might mean it doesn't exist"
   ]
  },
  {
   "cell_type": "code",
   "execution_count": 74,
   "id": "6b3e99db-ba2b-4768-bcc4-c5a00b34e0d8",
   "metadata": {},
   "outputs": [],
   "source": [
    "for df in [df_train,df_test]:\n",
    "    df['pid_1'] = pd.to_numeric(df['pid_1'])\n",
    "    df['pid_2'] = pd.to_numeric(df['pid_2'])\n",
    "    df['pid_3'] = pd.to_numeric(df['pid_3'])\n",
    "    df['pid_4'] = pd.to_numeric(df['pid_4'])"
   ]
  },
  {
   "cell_type": "code",
   "execution_count": null,
   "id": "39be4378-028c-4edc-a8e5-831c9ab36062",
   "metadata": {},
   "outputs": [],
   "source": []
  },
  {
   "cell_type": "code",
   "execution_count": 75,
   "id": "d8683c46-fa5f-43a0-aba4-ed89f939db3c",
   "metadata": {},
   "outputs": [],
   "source": [
    "from sklearn.compose import ColumnTransformer\n",
    "from sklearn.preprocessing import OneHotEncoder\n",
    " \n",
    "ctx = ColumnTransformer(\n",
    "    [('ohe', \n",
    "      OneHotEncoder(drop='first',\n",
    "                   sparse=False,\n",
    "                   handle_unknown='ignore'),\n",
    "      ['neighborhood','roof_style','roof_matl','exterior_1st','exterior_2nd','heating','sale_type'])\n",
    "    ],\n",
    "    remainder='passthrough')\n",
    "ctx.fit_transform(df_train)\n",
    "ctx.fit_transform(df_test)\n",
    "\n",
    "df_train = pd.DataFrame(ctx.fit_transform(df_train), columns = ctx.get_feature_names_out())\n",
    "df_test = pd.DataFrame(ctx.fit_transform(df_test), columns = ctx.get_feature_names_out())"
   ]
  },
  {
   "cell_type": "code",
   "execution_count": null,
   "id": "74716396-79f4-4e5f-aa28-3219e683bdc9",
   "metadata": {},
   "outputs": [],
   "source": []
  },
  {
   "cell_type": "code",
   "execution_count": null,
   "id": "42a9a789-2886-4b73-9306-ddea6fff741a",
   "metadata": {},
   "outputs": [],
   "source": []
  },
  {
   "cell_type": "code",
   "execution_count": 76,
   "id": "c08c4a44-f4d1-4ce5-a03d-2bbac9c60499",
   "metadata": {},
   "outputs": [],
   "source": [
    "df_test = df_test[[col for col in df_train.columns if (col in df_test.columns) & (col != 'saleprice')]].copy()"
   ]
  },
  {
   "cell_type": "code",
   "execution_count": 77,
   "id": "087317a1-ff9c-46c1-8789-9f477a8e550f",
   "metadata": {},
   "outputs": [],
   "source": [
    "# Convert categoricals before doing this\n",
    "\n",
    "# df_train = df_train.select_dtypes('number')\n",
    "# df_test = df_test.select_dtypes('number')"
   ]
  },
  {
   "cell_type": "code",
   "execution_count": 78,
   "id": "0df1e7bd-6032-4421-8dca-5532c0b0b4ea",
   "metadata": {},
   "outputs": [],
   "source": [
    "df_train.dropna(axis = 1,inplace=True)"
   ]
  },
  {
   "cell_type": "code",
   "execution_count": 79,
   "id": "098f2b06-b724-4036-af87-b85440ccaad9",
   "metadata": {},
   "outputs": [
    {
     "data": {
      "text/plain": [
       "((2051, 143), (878, 146))"
      ]
     },
     "execution_count": 79,
     "metadata": {},
     "output_type": "execute_result"
    }
   ],
   "source": [
    "df_train.shape, df_test.shape"
   ]
  },
  {
   "cell_type": "code",
   "execution_count": null,
   "id": "5c6630d2-6505-4ff3-a8b5-6adc8a540642",
   "metadata": {},
   "outputs": [],
   "source": []
  },
  {
   "cell_type": "code",
   "execution_count": null,
   "id": "378dbe2c-1152-4f9e-93ae-0a88484f2700",
   "metadata": {},
   "outputs": [],
   "source": []
  },
  {
   "cell_type": "code",
   "execution_count": 80,
   "id": "02699caf-481a-4c24-bf56-f096351b129d",
   "metadata": {},
   "outputs": [
    {
     "data": {
      "text/plain": [
       "{'ohe__exterior_1st_CBlock',\n",
       " 'ohe__exterior_1st_ImStucc',\n",
       " 'ohe__exterior_1st_Stone',\n",
       " 'ohe__exterior_2nd_Stone',\n",
       " 'ohe__heating_OthW',\n",
       " 'ohe__heating_Wall',\n",
       " 'ohe__neighborhood_GrnHill',\n",
       " 'ohe__neighborhood_Landmrk',\n",
       " 'ohe__roof_matl_CompShg',\n",
       " 'ohe__roof_matl_Membran',\n",
       " 'remainder__saleprice'}"
      ]
     },
     "execution_count": 80,
     "metadata": {},
     "output_type": "execute_result"
    }
   ],
   "source": [
    "set(df_train.columns) - set(df_test.columns)"
   ]
  },
  {
   "cell_type": "code",
   "execution_count": 81,
   "id": "120b0e89-6ea4-4990-b49d-270f0c23e2ec",
   "metadata": {},
   "outputs": [],
   "source": [
    "df_train.drop(columns = ['ohe__exterior_1st_CBlock',\n",
    " 'ohe__exterior_1st_ImStucc',\n",
    " 'ohe__exterior_1st_Stone',\n",
    " 'ohe__exterior_2nd_Stone',\n",
    " 'ohe__heating_OthW',\n",
    " 'ohe__heating_Wall',\n",
    " 'ohe__neighborhood_GrnHill',\n",
    " 'ohe__neighborhood_Landmrk',\n",
    " 'ohe__roof_matl_CompShg',\n",
    " 'ohe__roof_matl_Membran'],axis=1, inplace=True) "
   ]
  },
  {
   "cell_type": "code",
   "execution_count": null,
   "id": "d4d5d59b-63ae-4e4c-91ff-61b5d6235906",
   "metadata": {},
   "outputs": [],
   "source": []
  },
  {
   "cell_type": "code",
   "execution_count": null,
   "id": "89aa9dc4-705a-4784-b3e2-ca23e3a100aa",
   "metadata": {},
   "outputs": [],
   "source": []
  },
  {
   "cell_type": "code",
   "execution_count": 82,
   "id": "d10598e8-36db-4d7f-96fc-02b0bb6c3e9d",
   "metadata": {},
   "outputs": [],
   "source": [
    "df_train = df_train.apply(pd.to_numeric,errors='coerce')"
   ]
  },
  {
   "cell_type": "code",
   "execution_count": 83,
   "id": "7a15ed92-1596-41dd-8bca-160e86ade334",
   "metadata": {},
   "outputs": [],
   "source": [
    "df_test = df_test.apply(pd.to_numeric,errors='coerce')"
   ]
  },
  {
   "cell_type": "code",
   "execution_count": null,
   "id": "375b7c37-60e4-45b4-9c5f-65c29b7435cb",
   "metadata": {},
   "outputs": [],
   "source": []
  },
  {
   "cell_type": "code",
   "execution_count": 84,
   "id": "7f40cc61-3afd-4549-ab55-9611648a1edd",
   "metadata": {},
   "outputs": [],
   "source": [
    "df_train.dropna(axis=1,inplace=True)"
   ]
  },
  {
   "cell_type": "code",
   "execution_count": 85,
   "id": "4422d153-3bf5-4dc3-b1da-9c4843219f51",
   "metadata": {},
   "outputs": [],
   "source": [
    "df_test.dropna(axis=1,inplace=True)"
   ]
  },
  {
   "cell_type": "code",
   "execution_count": 86,
   "id": "f186479c-8303-44a7-9988-2f02a6a89611",
   "metadata": {},
   "outputs": [
    {
     "data": {
      "text/plain": [
       "((2051, 132), (878, 139))"
      ]
     },
     "execution_count": 86,
     "metadata": {},
     "output_type": "execute_result"
    }
   ],
   "source": [
    "df_train.shape, df_test.shape"
   ]
  },
  {
   "cell_type": "code",
   "execution_count": 87,
   "id": "1170d247-e2a4-4f92-9199-fdee923bb861",
   "metadata": {},
   "outputs": [
    {
     "data": {
      "text/plain": [
       "{'remainder__bsmt_full_bath',\n",
       " 'remainder__bsmt_half_bath',\n",
       " 'remainder__bsmt_unf_sf',\n",
       " 'remainder__bsmtfin_sf_1',\n",
       " 'remainder__bsmtfin_sf_2',\n",
       " 'remainder__garage_area',\n",
       " 'remainder__garage_cars',\n",
       " 'remainder__total_bsmt_sf'}"
      ]
     },
     "execution_count": 87,
     "metadata": {},
     "output_type": "execute_result"
    }
   ],
   "source": [
    "set(df_test.columns) - set(df_train.columns)"
   ]
  },
  {
   "cell_type": "code",
   "execution_count": 88,
   "id": "3631ae0e-2d66-46f9-bb5c-e270e3fe0010",
   "metadata": {},
   "outputs": [],
   "source": [
    "df_test.drop(columns = ['remainder__bsmt_full_bath',\n",
    " 'remainder__bsmt_half_bath',\n",
    " 'remainder__bsmt_unf_sf',\n",
    " 'remainder__bsmtfin_sf_1',\n",
    " 'remainder__bsmtfin_sf_2',\n",
    " 'remainder__garage_area',\n",
    " 'remainder__garage_cars',\n",
    " 'remainder__total_bsmt_sf'],inplace=True)"
   ]
  },
  {
   "cell_type": "code",
   "execution_count": 89,
   "id": "53193720-0165-493c-8cc9-f612e6a40426",
   "metadata": {},
   "outputs": [
    {
     "data": {
      "text/plain": [
       "set()"
      ]
     },
     "execution_count": 89,
     "metadata": {},
     "output_type": "execute_result"
    }
   ],
   "source": [
    "set(df_test.columns) - set(df_train.columns)"
   ]
  },
  {
   "cell_type": "code",
   "execution_count": 90,
   "id": "59713b48-286a-4a36-b59a-c4d5eee67e5f",
   "metadata": {},
   "outputs": [
    {
     "data": {
      "text/plain": [
       "((2051, 132), (878, 131))"
      ]
     },
     "execution_count": 90,
     "metadata": {},
     "output_type": "execute_result"
    }
   ],
   "source": [
    "df_train.shape, df_test.shape"
   ]
  },
  {
   "cell_type": "code",
   "execution_count": 91,
   "id": "11c79ea4-2432-4da0-9a4f-04b33f8fe6e4",
   "metadata": {},
   "outputs": [
    {
     "data": {
      "text/plain": [
       "{'remainder__saleprice'}"
      ]
     },
     "execution_count": 91,
     "metadata": {},
     "output_type": "execute_result"
    }
   ],
   "source": [
    "set(df_train.columns) - set(df_test.columns)"
   ]
  },
  {
   "cell_type": "markdown",
   "id": "56246f8a",
   "metadata": {},
   "source": [
    "## Preprocessing"
   ]
  },
  {
   "cell_type": "code",
   "execution_count": 264,
   "id": "317b7b08",
   "metadata": {},
   "outputs": [],
   "source": [
    "X = df_train.drop(columns = ['remainder__saleprice'])\n",
    "y = df_train['remainder__saleprice']"
   ]
  },
  {
   "cell_type": "code",
   "execution_count": 228,
   "id": "0b3b6686",
   "metadata": {},
   "outputs": [],
   "source": [
    "X_train, X_val, y_train, y_val = train_test_split(\n",
    "    X,\n",
    "    y,\n",
    "    test_size = 0.2,\n",
    "    random_state = 42\n",
    ")"
   ]
  },
  {
   "cell_type": "code",
   "execution_count": 229,
   "id": "315d522c",
   "metadata": {},
   "outputs": [
    {
     "data": {
      "text/plain": [
       "((1640, 131), (411, 131), (1640,), (411,))"
      ]
     },
     "execution_count": 229,
     "metadata": {},
     "output_type": "execute_result"
    }
   ],
   "source": [
    "X_train.shape, X_val.shape, y_train.shape, y_val.shape"
   ]
  },
  {
   "cell_type": "code",
   "execution_count": 230,
   "id": "1caeb747",
   "metadata": {},
   "outputs": [],
   "source": [
    "ss = StandardScaler()"
   ]
  },
  {
   "cell_type": "code",
   "execution_count": 231,
   "id": "5a4bcf62",
   "metadata": {},
   "outputs": [],
   "source": [
    "X_train_sc = ss.fit_transform(X_train)\n",
    "X_val_sc = ss.transform(X_val)"
   ]
  },
  {
   "cell_type": "code",
   "execution_count": 120,
   "id": "5b41b0ae",
   "metadata": {},
   "outputs": [
    {
     "data": {
      "text/plain": [
       "((1640, 131), (411, 131), (1640,), (411,))"
      ]
     },
     "execution_count": 120,
     "metadata": {},
     "output_type": "execute_result"
    }
   ],
   "source": []
  },
  {
   "cell_type": "markdown",
   "id": "824aaf77",
   "metadata": {},
   "source": [
    "## Modeling with existing features"
   ]
  },
  {
   "cell_type": "markdown",
   "id": "1962c310",
   "metadata": {},
   "source": [
    "### Null"
   ]
  },
  {
   "cell_type": "code",
   "execution_count": null,
   "id": "40533d94",
   "metadata": {},
   "outputs": [],
   "source": []
  },
  {
   "cell_type": "markdown",
   "id": "10fc2c2d",
   "metadata": {},
   "source": [
    "### Linear Regression"
   ]
  },
  {
   "cell_type": "code",
   "execution_count": 125,
   "id": "49f97178",
   "metadata": {},
   "outputs": [
    {
     "name": "stdout",
     "output_type": "stream",
     "text": [
      "0.886764487726802\n",
      "-2093617957959.4536\n",
      "-4.511555633449701e+24\n",
      "111531446397.22403\n"
     ]
    }
   ],
   "source": [
    "lr = LinearRegression()\n",
    "lr.fit(X_train_sc,y_train)\n",
    "y_pred = lr.predict(X_val_sc)\n",
    "print(lr.score(X_train_sc,y_train))\n",
    "print(lr.score(X_val_sc,y_val))\n",
    "print(cross_val_score(lr,X_val_sc,y_val,cv=5).mean())\n",
    "print(mean_squared_error(y_val,y_pred,squared=False))"
   ]
  },
  {
   "cell_type": "markdown",
   "id": "75928406",
   "metadata": {},
   "source": [
    "### Ridge"
   ]
  },
  {
   "cell_type": "code",
   "execution_count": 126,
   "id": "af5ab8d8",
   "metadata": {},
   "outputs": [
    {
     "name": "stdout",
     "output_type": "stream",
     "text": [
      "0.8866434794234195\n",
      "0.8811806572534427\n",
      "0.8760869951596245\n",
      "26570.038876516013\n"
     ]
    }
   ],
   "source": [
    "ridge = RidgeCV()\n",
    "ridge.fit(X_train_sc,y_train)\n",
    "y_pred = ridge.predict(X_val_sc)\n",
    "print(ridge.score(X_train_sc,y_train))\n",
    "print(ridge.score(X_val_sc,y_val))\n",
    "print(cross_val_score(ridge,X_val_sc,y_val,cv=5).mean())\n",
    "print(mean_squared_error(y_val,y_pred,squared=False))"
   ]
  },
  {
   "cell_type": "code",
   "execution_count": 129,
   "id": "9d63bcf4",
   "metadata": {},
   "outputs": [],
   "source": [
    "def ridge_coefs(X_train_sc,y_train,alphas):\n",
    "    coefs = []\n",
    "    rg = Ridge()\n",
    "    for a in alphas:\n",
    "        rg.set_params(alpha = a)\n",
    "        rg.fit(X_train_sc,y_train)\n",
    "        coefs.append(rg.coef_)\n",
    "    return coefs"
   ]
  },
  {
   "cell_type": "code",
   "execution_count": 130,
   "id": "6dbe0a3e",
   "metadata": {},
   "outputs": [],
   "source": [
    "r_alphas = np.logspace(0,5,200)\n",
    "\n",
    "r_coefs = ridge_coefs(X_train_sc,y_train, r_alphas)"
   ]
  },
  {
   "cell_type": "code",
   "execution_count": 136,
   "id": "7798d689",
   "metadata": {},
   "outputs": [],
   "source": [
    "from cycler import cycler\n",
    "\n",
    "def coef_plotter(alphas, coefs, feature_names, to_alpha, regtype='ridge'):\n",
    "    \n",
    "    # Get the full range of alphas before subsetting to keep the plots from \n",
    "    # resetting axes each time. (We use these values to set static axes later).\n",
    "    amin = np.min(alphas)\n",
    "    amax = np.max(alphas)\n",
    "    \n",
    "    # Subset the alphas and coefficients to just the ones below the set limit\n",
    "    # from the interactive widget:\n",
    "    alphas = [a for a in alphas if a <= to_alpha]\n",
    "    coefs = coefs[0:len(alphas)]\n",
    "    \n",
    "    # Get some colors from seaborn:\n",
    "    colors = sns.color_palette(\"husl\", len(coefs[0]))\n",
    "    \n",
    "    # Get the figure and reset the size to be wider:\n",
    "    fig = plt.figure()\n",
    "    fig.set_size_inches(18,5)\n",
    "\n",
    "    # We have two axes this time on our figure. \n",
    "    # The fig.add_subplot adds axes to our figure. The number inside stands for:\n",
    "    #[figure_rows|figure_cols|position_of_current_axes]\n",
    "    ax1 = fig.add_subplot(121)\n",
    "    \n",
    "    # Give it the color cycler:\n",
    "    ax1.set_prop_cycle(cycler('color', colors))\n",
    "    \n",
    "    # Print a vertical line showing our current alpha threshold:\n",
    "    ax1.axvline(to_alpha, lw=2, ls='dashed', c='k', alpha=0.4)\n",
    "    \n",
    "    # Plot the lines of the alphas on x-axis and coefficients on y-axis\n",
    "    ax1.plot(alphas, coefs, lw=2)\n",
    "    \n",
    "    # set labels for axes:\n",
    "    ax1.set_xlabel('alpha', fontsize=20)\n",
    "    ax1.set_ylabel('coefficients', fontsize=20)\n",
    "    \n",
    "    # If this is for the ridge, set this to a log scale on the x-axis:\n",
    "    if regtype == 'ridge':\n",
    "        ax1.set_xscale('log')\n",
    "    \n",
    "    # Enforce the axis limits:\n",
    "    ax1.set_xlim([amin, amax])\n",
    "    \n",
    "    # Put a title on the axis\n",
    "    ax1.set_title(regtype+' coef paths\\n', fontsize=20)\n",
    "    \n",
    "    # Get the ymin and ymax for this axis to enforce it to be the same on the \n",
    "    # second chart:\n",
    "    ymin, ymax = ax1.get_ylim()\n",
    "\n",
    "    # Add our second axes for the barplot in position 2:\n",
    "    ax2 = fig.add_subplot(122)\n",
    "    \n",
    "    # Position the bars according to their index from the feature names variable:\n",
    "    ax2.bar(range(1, len(feature_names)+1), coefs[-1], align='center', color=colors)\n",
    "    ax2.set_xticks(range(1, len(feature_names)+1))\n",
    "    \n",
    "    # Reset the ticks from numbers to acutally be the names:\n",
    "    ax2.set_xticklabels(feature_names, rotation=65, fontsize=12)\n",
    "    \n",
    "    # enforce limits and add titles, labels\n",
    "    ax2.set_ylim([ymin, ymax])\n",
    "    ax2.set_title(regtype+' predictor coefs\\n', fontsize=20)\n",
    "    ax2.set_xlabel('coefficients', fontsize=20)\n",
    "    ax2.set_ylabel('alpha', fontsize=20)\n",
    "    \n",
    "    plt.show()"
   ]
  },
  {
   "cell_type": "code",
   "execution_count": 138,
   "id": "9beeb0a4",
   "metadata": {},
   "outputs": [
    {
     "data": {
      "application/vnd.jupyter.widget-view+json": {
       "model_id": "578f764a2b124f36ab8378b2845d5304",
       "version_major": 2,
       "version_minor": 0
      },
      "text/plain": [
       "interactive(children=(FloatSlider(value=0.0, description='log_of_alpha', max=5.0, step=0.05), Output()), _dom_…"
      ]
     },
     "metadata": {},
     "output_type": "display_data"
    },
    {
     "data": {
      "text/plain": [
       "<function __main__.ridge_plot_runner(log_of_alpha=0)>"
      ]
     },
     "execution_count": 138,
     "metadata": {},
     "output_type": "execute_result"
    }
   ],
   "source": [
    "\n",
    "def ridge_plot_runner(log_of_alpha=0):\n",
    "    coef_plotter(r_alphas, r_coefs, X.columns, 10**log_of_alpha, regtype='ridge')\n",
    "\n",
    "interact(ridge_plot_runner, log_of_alpha=(0.0,5.0,0.05))"
   ]
  },
  {
   "cell_type": "code",
   "execution_count": null,
   "id": "d7424a43",
   "metadata": {},
   "outputs": [],
   "source": []
  },
  {
   "cell_type": "code",
   "execution_count": 154,
   "id": "51c24a2f",
   "metadata": {},
   "outputs": [
    {
     "name": "stdout",
     "output_type": "stream",
     "text": [
      "0.1 0.8841033166735792 0.8828197147687586 0.8679383529294317 26386.14182249816\n"
     ]
    },
    {
     "name": "stderr",
     "output_type": "stream",
     "text": [
      "C:\\Anaconda\\lib\\site-packages\\sklearn\\linear_model\\_base.py:141: FutureWarning: 'normalize' was deprecated in version 1.0 and will be removed in 1.2.\n",
      "If you wish to scale the data, use Pipeline with a StandardScaler in a preprocessing stage. To reproduce the previous behavior:\n",
      "\n",
      "from sklearn.pipeline import make_pipeline\n",
      "\n",
      "model = make_pipeline(StandardScaler(with_mean=False), _RidgeGCV())\n",
      "\n",
      "If you wish to pass a sample_weight parameter, you need to pass it as a fit parameter to each step of the pipeline as follows:\n",
      "\n",
      "kwargs = {s[0] + '__sample_weight': sample_weight for s in model.steps}\n",
      "model.fit(X, y, **kwargs)\n",
      "\n",
      "\n",
      "  warnings.warn(\n",
      "C:\\Anaconda\\lib\\site-packages\\sklearn\\linear_model\\_base.py:141: FutureWarning: 'normalize' was deprecated in version 1.0 and will be removed in 1.2.\n",
      "If you wish to scale the data, use Pipeline with a StandardScaler in a preprocessing stage. To reproduce the previous behavior:\n",
      "\n",
      "from sklearn.pipeline import make_pipeline\n",
      "\n",
      "model = make_pipeline(StandardScaler(with_mean=False), _RidgeGCV())\n",
      "\n",
      "If you wish to pass a sample_weight parameter, you need to pass it as a fit parameter to each step of the pipeline as follows:\n",
      "\n",
      "kwargs = {s[0] + '__sample_weight': sample_weight for s in model.steps}\n",
      "model.fit(X, y, **kwargs)\n",
      "\n",
      "\n",
      "  warnings.warn(\n",
      "C:\\Anaconda\\lib\\site-packages\\sklearn\\linear_model\\_base.py:141: FutureWarning: 'normalize' was deprecated in version 1.0 and will be removed in 1.2.\n",
      "If you wish to scale the data, use Pipeline with a StandardScaler in a preprocessing stage. To reproduce the previous behavior:\n",
      "\n",
      "from sklearn.pipeline import make_pipeline\n",
      "\n",
      "model = make_pipeline(StandardScaler(with_mean=False), _RidgeGCV())\n",
      "\n",
      "If you wish to pass a sample_weight parameter, you need to pass it as a fit parameter to each step of the pipeline as follows:\n",
      "\n",
      "kwargs = {s[0] + '__sample_weight': sample_weight for s in model.steps}\n",
      "model.fit(X, y, **kwargs)\n",
      "\n",
      "\n",
      "  warnings.warn(\n",
      "C:\\Anaconda\\lib\\site-packages\\sklearn\\linear_model\\_base.py:141: FutureWarning: 'normalize' was deprecated in version 1.0 and will be removed in 1.2.\n",
      "If you wish to scale the data, use Pipeline with a StandardScaler in a preprocessing stage. To reproduce the previous behavior:\n",
      "\n",
      "from sklearn.pipeline import make_pipeline\n",
      "\n",
      "model = make_pipeline(StandardScaler(with_mean=False), _RidgeGCV())\n",
      "\n",
      "If you wish to pass a sample_weight parameter, you need to pass it as a fit parameter to each step of the pipeline as follows:\n",
      "\n",
      "kwargs = {s[0] + '__sample_weight': sample_weight for s in model.steps}\n",
      "model.fit(X, y, **kwargs)\n",
      "\n",
      "\n",
      "  warnings.warn(\n",
      "C:\\Anaconda\\lib\\site-packages\\sklearn\\linear_model\\_base.py:141: FutureWarning: 'normalize' was deprecated in version 1.0 and will be removed in 1.2.\n",
      "If you wish to scale the data, use Pipeline with a StandardScaler in a preprocessing stage. To reproduce the previous behavior:\n",
      "\n",
      "from sklearn.pipeline import make_pipeline\n",
      "\n",
      "model = make_pipeline(StandardScaler(with_mean=False), _RidgeGCV())\n",
      "\n",
      "If you wish to pass a sample_weight parameter, you need to pass it as a fit parameter to each step of the pipeline as follows:\n",
      "\n",
      "kwargs = {s[0] + '__sample_weight': sample_weight for s in model.steps}\n",
      "model.fit(X, y, **kwargs)\n",
      "\n",
      "\n",
      "  warnings.warn(\n",
      "C:\\Anaconda\\lib\\site-packages\\sklearn\\linear_model\\_base.py:141: FutureWarning: 'normalize' was deprecated in version 1.0 and will be removed in 1.2.\n",
      "If you wish to scale the data, use Pipeline with a StandardScaler in a preprocessing stage. To reproduce the previous behavior:\n",
      "\n",
      "from sklearn.pipeline import make_pipeline\n",
      "\n",
      "model = make_pipeline(StandardScaler(with_mean=False), _RidgeGCV())\n",
      "\n",
      "If you wish to pass a sample_weight parameter, you need to pass it as a fit parameter to each step of the pipeline as follows:\n",
      "\n",
      "kwargs = {s[0] + '__sample_weight': sample_weight for s in model.steps}\n",
      "model.fit(X, y, **kwargs)\n",
      "\n",
      "\n",
      "  warnings.warn(\n"
     ]
    }
   ],
   "source": [
    "ridge = RidgeCV(scoring = 'neg_mean_squared_error',normalize=True)\n",
    "ridge.fit(X_train_sc,y_train)\n",
    "y_pred = ridge.predict(X_val_sc)\n",
    "train = ridge.score(X_train_sc,y_train)\n",
    "test = ridge.score(X_val_sc,y_val)\n",
    "cv = cross_val_score(ridge,X_val_sc,y_val,cv=5).mean()\n",
    "mse = mean_squared_error(y_val,y_pred,squared=False)\n",
    "print(ridge.alpha_,train,test,cv,mse)\n"
   ]
  },
  {
   "cell_type": "code",
   "execution_count": 226,
   "id": "69023ad0",
   "metadata": {},
   "outputs": [
    {
     "name": "stdout",
     "output_type": "stream",
     "text": [
      "0.1 0.8867654064850435 0.8811001120006469 0.8456160962157435 26579.042999457608\n"
     ]
    }
   ],
   "source": [
    "ridge = RidgeCV(alphas = 0.1)\n",
    "ridge.fit(X_train_sc,y_train)\n",
    "y_pred = ridge.predict(X_val_sc)\n",
    "train = ridge.score(X_train_sc,y_train)\n",
    "test = ridge.score(X_val_sc,y_val)\n",
    "cv = cross_val_score(ridge,X_val_sc,y_val,cv=5).mean()\n",
    "mse = mean_squared_error(y_val,y_pred,squared=False)\n",
    "print(ridge.alpha_,train,test,cv,mse)\n"
   ]
  },
  {
   "cell_type": "code",
   "execution_count": 196,
   "id": "d3454879",
   "metadata": {},
   "outputs": [],
   "source": [
    "coefs = pd.DataFrame(list(zip(X_train.columns,ridge.coef_)),columns=['feat','coef'])"
   ]
  },
  {
   "cell_type": "code",
   "execution_count": 199,
   "id": "beed2297",
   "metadata": {},
   "outputs": [
    {
     "data": {
      "text/html": [
       "<div>\n",
       "<style scoped>\n",
       "    .dataframe tbody tr th:only-of-type {\n",
       "        vertical-align: middle;\n",
       "    }\n",
       "\n",
       "    .dataframe tbody tr th {\n",
       "        vertical-align: top;\n",
       "    }\n",
       "\n",
       "    .dataframe thead th {\n",
       "        text-align: right;\n",
       "    }\n",
       "</style>\n",
       "<table border=\"1\" class=\"dataframe\">\n",
       "  <thead>\n",
       "    <tr style=\"text-align: right;\">\n",
       "      <th></th>\n",
       "      <th>feat</th>\n",
       "      <th>coef</th>\n",
       "    </tr>\n",
       "  </thead>\n",
       "  <tbody>\n",
       "    <tr>\n",
       "      <th>75</th>\n",
       "      <td>remainder__land_contour</td>\n",
       "      <td>0.000000</td>\n",
       "    </tr>\n",
       "    <tr>\n",
       "      <th>76</th>\n",
       "      <td>remainder__utilities</td>\n",
       "      <td>0.000000</td>\n",
       "    </tr>\n",
       "    <tr>\n",
       "      <th>24</th>\n",
       "      <td>ohe__neighborhood_Veenker</td>\n",
       "      <td>-4.137960</td>\n",
       "    </tr>\n",
       "    <tr>\n",
       "      <th>31</th>\n",
       "      <td>ohe__roof_matl_WdShake</td>\n",
       "      <td>37.101105</td>\n",
       "    </tr>\n",
       "    <tr>\n",
       "      <th>47</th>\n",
       "      <td>ohe__exterior_2nd_CBlock</td>\n",
       "      <td>-45.916892</td>\n",
       "    </tr>\n",
       "    <tr>\n",
       "      <th>...</th>\n",
       "      <td>...</td>\n",
       "      <td>...</td>\n",
       "    </tr>\n",
       "    <tr>\n",
       "      <th>67</th>\n",
       "      <td>remainder__id</td>\n",
       "      <td>-9731.056260</td>\n",
       "    </tr>\n",
       "    <tr>\n",
       "      <th>16</th>\n",
       "      <td>ohe__neighborhood_NridgHt</td>\n",
       "      <td>10125.801906</td>\n",
       "    </tr>\n",
       "    <tr>\n",
       "      <th>81</th>\n",
       "      <td>remainder__bldg_type</td>\n",
       "      <td>10492.861019</td>\n",
       "    </tr>\n",
       "    <tr>\n",
       "      <th>100</th>\n",
       "      <td>remainder__gr_liv_area</td>\n",
       "      <td>12404.534026</td>\n",
       "    </tr>\n",
       "    <tr>\n",
       "      <th>83</th>\n",
       "      <td>remainder__overall_qual</td>\n",
       "      <td>14213.680270</td>\n",
       "    </tr>\n",
       "  </tbody>\n",
       "</table>\n",
       "<p>131 rows × 2 columns</p>\n",
       "</div>"
      ],
      "text/plain": [
       "                          feat          coef\n",
       "75     remainder__land_contour      0.000000\n",
       "76        remainder__utilities      0.000000\n",
       "24   ohe__neighborhood_Veenker     -4.137960\n",
       "31      ohe__roof_matl_WdShake     37.101105\n",
       "47    ohe__exterior_2nd_CBlock    -45.916892\n",
       "..                         ...           ...\n",
       "67               remainder__id  -9731.056260\n",
       "16   ohe__neighborhood_NridgHt  10125.801906\n",
       "81        remainder__bldg_type  10492.861019\n",
       "100     remainder__gr_liv_area  12404.534026\n",
       "83     remainder__overall_qual  14213.680270\n",
       "\n",
       "[131 rows x 2 columns]"
      ]
     },
     "execution_count": 199,
     "metadata": {},
     "output_type": "execute_result"
    }
   ],
   "source": [
    "coefs.sort_values(by='coef', key = abs)"
   ]
  },
  {
   "cell_type": "code",
   "execution_count": null,
   "id": "303bf512",
   "metadata": {},
   "outputs": [],
   "source": []
  },
  {
   "cell_type": "markdown",
   "id": "be214e9e",
   "metadata": {},
   "source": [
    "### Lasso"
   ]
  },
  {
   "cell_type": "code",
   "execution_count": 245,
   "id": "2d556572",
   "metadata": {
    "scrolled": true
   },
   "outputs": [],
   "source": [
    "scores = []\n",
    "alphas = np.logspace(2.5,3,200)\n",
    "for a in alphas:\n",
    "    lasso = Lasso(alpha = a)\n",
    "    lasso.fit(X_train_sc,y_train)\n",
    "    y_pred = lasso.predict(X_val_sc)\n",
    "    train = lasso.score(X_train_sc,y_train)\n",
    "    test = lasso.score(X_val_sc,y_val)\n",
    "    cv = cross_val_score(lasso,X_val_sc,y_val,cv=5).mean()\n",
    "    mse = mean_squared_error(y_val,y_pred,squared=False)\n",
    "    scores.append([a,train,test,cv,mse])"
   ]
  },
  {
   "cell_type": "code",
   "execution_count": 246,
   "id": "5092448e",
   "metadata": {},
   "outputs": [
    {
     "data": {
      "text/plain": [
       "[[316.22776601683796,\n",
       "  0.883422044050695,\n",
       "  0.8871142763004638,\n",
       "  0.8852765508366118,\n",
       "  25898.113375244186],\n",
       " [318.0625692794119,\n",
       "  0.8833985859267997,\n",
       "  0.8871350315647261,\n",
       "  0.8852821179118557,\n",
       "  25895.73244132725],\n",
       " [319.90801835925475,\n",
       "  0.8833746771917996,\n",
       "  0.8871550807895301,\n",
       "  0.8852879810292235,\n",
       "  25893.432292629634],\n",
       " [321.76417502507354,\n",
       "  0.8833504844548081,\n",
       "  0.8871750373428526,\n",
       "  0.8852935961927872,\n",
       "  25891.14257274533],\n",
       " [323.63110140396714,\n",
       "  0.8833261972895109,\n",
       "  0.8871955903992303,\n",
       "  0.8852992975134855,\n",
       "  25888.784201258106],\n",
       " [325.508859983506,\n",
       "  0.8833014406974135,\n",
       "  0.8872153932791659,\n",
       "  0.8853060146744121,\n",
       "  25886.51170593193],\n",
       " [327.3975136138221,\n",
       "  0.8832765839687967,\n",
       "  0.887235781944116,\n",
       "  0.8853124913359874,\n",
       "  25884.1717799247],\n",
       " [329.29712550971516,\n",
       "  0.8832513338844997,\n",
       "  0.8872555752545566,\n",
       "  0.8853176088621094,\n",
       "  25881.899978015394],\n",
       " [331.2077592527663,\n",
       "  0.8832264706954052,\n",
       "  0.8872766853871538,\n",
       "  0.88532356710841,\n",
       "  25879.476816429054],\n",
       " [333.12947879346734,\n",
       "  0.8832011367483091,\n",
       "  0.887297060904757,\n",
       "  0.8853294657800607,\n",
       "  25877.137763642902],\n",
       " [335.06234845336076,\n",
       "  0.8831759022598152,\n",
       "  0.8873180181805633,\n",
       "  0.8853346592786554,\n",
       "  25874.731706041726],\n",
       " [337.0064329271928,\n",
       "  0.8831502940632139,\n",
       "  0.8873382629831477,\n",
       "  0.8853403554081654,\n",
       "  25872.407233410202],\n",
       " [338.96179728507883,\n",
       "  0.8831245736509203,\n",
       "  0.8873590915191776,\n",
       "  0.8853461275004086,\n",
       "  25870.015519552366],\n",
       " [340.9285069746811,\n",
       "  0.8830983648336884,\n",
       "  0.8873791374760375,\n",
       "  0.8853532568311737,\n",
       "  25867.713459419014],\n",
       " [342.90662782339973,\n",
       "  0.8830720400721879,\n",
       "  0.8873997670417381,\n",
       "  0.8853587240493693,\n",
       "  25865.344164235776],\n",
       " [344.896226040576,\n",
       "  0.8830452179753059,\n",
       "  0.8874196080808268,\n",
       "  0.8853653374112556,\n",
       "  25863.06522617159],\n",
       " [346.8973682197071,\n",
       "  0.8830182737803622,\n",
       "  0.8874400234309577,\n",
       "  0.8853708657299292,\n",
       "  25860.720113215913],\n",
       " [348.9101213406774,\n",
       "  0.8829908247221995,\n",
       "  0.8874596495835204,\n",
       "  0.8853758453464003,\n",
       "  25858.46545494442],\n",
       " [350.93455277199854,\n",
       "  0.8829632468684663,\n",
       "  0.8874798387719718,\n",
       "  0.8853805286649269,\n",
       "  25856.145909794082],\n",
       " [352.970730273065,\n",
       "  0.8829351561564828,\n",
       "  0.8874992366329869,\n",
       "  0.8853855876015423,\n",
       "  25853.917084588797],\n",
       " [355.01872199642196,\n",
       "  0.8829069302579283,\n",
       "  0.8875191881351266,\n",
       "  0.8853897125361335,\n",
       "  25851.62444523948],\n",
       " [357.07859649004627,\n",
       "  0.8828781823344464,\n",
       "  0.88753834251905,\n",
       "  0.8853936586288571,\n",
       "  25849.42321191805],\n",
       " [359.150422699641,\n",
       "  0.8828492931602299,\n",
       "  0.8875580426970976,\n",
       "  0.8853979925930459,\n",
       "  25847.15906005427],\n",
       " [361.23426997094305,\n",
       "  0.8828198720118376,\n",
       "  0.8875769375567646,\n",
       "  0.8854018102767052,\n",
       "  25844.987277502758],\n",
       " [363.33020805204416,\n",
       "  0.8827903040752119,\n",
       "  0.8875963726741462,\n",
       "  0.8854071126760885,\n",
       "  25842.75320710299],\n",
       " [365.43830709572546,\n",
       "  0.8827601939022597,\n",
       "  0.8876149934154971,\n",
       "  0.885412501277662,\n",
       "  25840.612568203334],\n",
       " [367.558637661806,\n",
       "  0.882729932115794,\n",
       "  0.8876341518703714,\n",
       "  0.8854181788303155,\n",
       "  25838.409928699446],\n",
       " [369.6912707195028,\n",
       "  0.8827021270095726,\n",
       "  0.8876434317452329,\n",
       "  0.8854229548154677,\n",
       "  25837.342957882563],\n",
       " [371.8362776498087,\n",
       "  0.8826752493164746,\n",
       "  0.8876501953559562,\n",
       "  0.8854268676382635,\n",
       "  25836.56527143916],\n",
       " [373.9937302478798,\n",
       "  0.8826480586303893,\n",
       "  0.8876567690632999,\n",
       "  0.885431848486412,\n",
       "  25835.809397835812],\n",
       " [376.16370072543896,\n",
       "  0.8826203185632956,\n",
       "  0.8876625736206286,\n",
       "  0.8854354687875567,\n",
       "  25835.141946077983],\n",
       " [378.3462617131929,\n",
       "  0.8825924913900957,\n",
       "  0.8876687780316281,\n",
       "  0.8854396553558651,\n",
       "  25834.428497064033],\n",
       " [380.54148626326315,\n",
       "  0.8825641010010097,\n",
       "  0.8876741928087801,\n",
       "  0.8854456559259647,\n",
       "  25833.80583242759],\n",
       " [382.7494478516311,\n",
       "  0.8825356256362332,\n",
       "  0.887680027643101,\n",
       "  0.8854490334061443,\n",
       "  25833.134847111527],\n",
       " [384.97022038059737,\n",
       "  0.8825065810159616,\n",
       "  0.8876850871358211,\n",
       "  0.8854522908247497,\n",
       "  25832.55300922966],\n",
       " [387.20387818125573,\n",
       "  0.8824774454880522,\n",
       "  0.8876905524365983,\n",
       "  0.8854528759593832,\n",
       "  25831.924489000303],\n",
       " [389.4504960159794,\n",
       "  0.8824477262544171,\n",
       "  0.8876952088832943,\n",
       "  0.8854525957962253,\n",
       "  25831.388976499566],\n",
       " [391.71014908092604,\n",
       "  0.882417896762878,\n",
       "  0.8877001836924838,\n",
       "  0.8854523657606321,\n",
       "  25830.816838600836],\n",
       " [393.9829130085527,\n",
       "  0.8823874875828539,\n",
       "  0.8877043789681544,\n",
       "  0.8854525005965366,\n",
       "  25830.33434266671],\n",
       " [396.2688638701478,\n",
       "  0.8823569625255594,\n",
       "  0.8877089150122803,\n",
       "  0.8854532573797365,\n",
       "  25829.81264503271],\n",
       " [398.56807817837756,\n",
       "  0.8823258438190433,\n",
       "  0.8877126411549985,\n",
       "  0.8854526508946561,\n",
       "  25829.384087561968],\n",
       " [400.8806328898465,\n",
       "  0.8822946353663789,\n",
       "  0.8877168086489381,\n",
       "  0.8854516813019544,\n",
       "  25828.904760229125],\n",
       " [403.2066054076735,\n",
       "  0.8822631915062928,\n",
       "  0.8877205168686944,\n",
       "  0.8854511758042765,\n",
       "  25828.478249170057],\n",
       " [405.54607358408276,\n",
       "  0.8822319902965828,\n",
       "  0.8877253109039535,\n",
       "  0.8854494068487364,\n",
       "  25827.926839626143],\n",
       " [407.89911572300906,\n",
       "  0.8822001680321789,\n",
       "  0.887729291698306,\n",
       "  0.8854480764178074,\n",
       "  25827.468960038597],\n",
       " [410.26581058271944,\n",
       "  0.882168235069418,\n",
       "  0.8877336327543327,\n",
       "  0.8854454092534567,\n",
       "  25826.969633120225],\n",
       " [412.6462373784476,\n",
       "  0.8821360133037773,\n",
       "  0.8877371004566653,\n",
       "  0.8854443046281542,\n",
       "  25826.570756160738],\n",
       " [415.04047578504765,\n",
       "  0.88210343312719,\n",
       "  0.8877402284555057,\n",
       "  0.885444423913644,\n",
       "  25826.21094875131],\n",
       " [417.44860593965944,\n",
       "  0.8820707964544099,\n",
       "  0.887743764940949,\n",
       "  0.885443931620966,\n",
       "  25825.80414791275],\n",
       " [419.870708444391,\n",
       "  0.8820376306486395,\n",
       "  0.887746295218459,\n",
       "  0.885443622127472,\n",
       "  25825.513086932406],\n",
       " [422.3068643690165,\n",
       "  0.8820047108321549,\n",
       "  0.8877495568691255,\n",
       "  0.8854437893189662,\n",
       "  25825.13789034527],\n",
       " [424.75715525368986,\n",
       "  0.8819711406421117,\n",
       "  0.8877519971338104,\n",
       "  0.8854457582743006,\n",
       "  25824.85717646687],\n",
       " [427.2216631116735,\n",
       "  0.8819374416997907,\n",
       "  0.8877548057995259,\n",
       "  0.8854467911453394,\n",
       "  25824.534080096128],\n",
       " [429.70047043208393,\n",
       "  0.8819046583521164,\n",
       "  0.8877596338948204,\n",
       "  0.8854472297720959,\n",
       "  25823.978668110933],\n",
       " [432.1936601826525,\n",
       "  0.8818716198845462,\n",
       "  0.8877643790884823,\n",
       "  0.8854487621510521,\n",
       "  25823.432781281914],\n",
       " [434.7013158125026,\n",
       "  0.8818384661890298,\n",
       "  0.8877695112320164,\n",
       "  0.885449463292969,\n",
       "  25822.842366770168],\n",
       " [437.2235212549416,\n",
       "  0.8818046434058525,\n",
       "  0.8877737863256995,\n",
       "  0.8854506513655073,\n",
       "  25822.350539091225],\n",
       " [439.7603609302721,\n",
       "  0.8817707199443539,\n",
       "  0.8877784850524721,\n",
       "  0.8854533969429801,\n",
       "  25821.80996378417],\n",
       " [442.3119197486164,\n",
       "  0.8817361111454765,\n",
       "  0.8877823117134279,\n",
       "  0.8854571956698039,\n",
       "  25821.36970883661],\n",
       " [444.87828311275854,\n",
       "  0.8817011136888502,\n",
       "  0.8877859382397126,\n",
       "  0.8854614363274631,\n",
       "  25820.95247232982],\n",
       " [447.459536921003,\n",
       "  0.8816663077892537,\n",
       "  0.8877905206732722,\n",
       "  0.8854700818337211,\n",
       "  25820.425247821186],\n",
       " [450.05576757004974,\n",
       "  0.8816310333920008,\n",
       "  0.8877946249697473,\n",
       "  0.8854776433823389,\n",
       "  25819.953025465096],\n",
       " [452.667061957886,\n",
       "  0.8815953713614366,\n",
       "  0.887798541939005,\n",
       "  0.8854853339035932,\n",
       "  25819.502348102873],\n",
       " [455.29350748669475,\n",
       "  0.8815593090579865,\n",
       "  0.8878022280248709,\n",
       "  0.8854926487546566,\n",
       "  25819.07822846133],\n",
       " [457.93519206578026,\n",
       "  0.8815228948908258,\n",
       "  0.8878058067791005,\n",
       "  0.8854999424783783,\n",
       "  25818.66645169154],\n",
       " [460.5922041145108,\n",
       "  0.8814858522254596,\n",
       "  0.8878085007813266,\n",
       "  0.8855044067443398,\n",
       "  25818.356471466872],\n",
       " [463.26463256527643,\n",
       "  0.8814488649768641,\n",
       "  0.8878117707095727,\n",
       "  0.885503632590099,\n",
       "  25817.98021841362],\n",
       " [465.9525668664682,\n",
       "  0.8814135239548547,\n",
       "  0.8878202652475903,\n",
       "  0.8855007275495506,\n",
       "  25817.00277199412],\n",
       " [468.65609698547047,\n",
       "  0.8813795150289515,\n",
       "  0.8878344740181768,\n",
       "  0.8854985157224977,\n",
       "  25815.36771960771],\n",
       " [471.3753134116724,\n",
       "  0.8813468226840094,\n",
       "  0.887852018604464,\n",
       "  0.8854951957326304,\n",
       "  25813.348660476124],\n",
       " [474.1103071594969,\n",
       "  0.881313784511188,\n",
       "  0.8878694555056943,\n",
       "  0.8854992728422773,\n",
       "  25811.34183742643],\n",
       " [476.86116977144695,\n",
       "  0.8812802031167186,\n",
       "  0.8878858577724642,\n",
       "  0.8855034987698722,\n",
       "  25809.45394862767],\n",
       " [479.62799332116936,\n",
       "  0.8812463951712513,\n",
       "  0.8879030199316853,\n",
       "  0.8855074437579706,\n",
       "  25807.478448918864],\n",
       " [482.41087041653685,\n",
       "  0.8812140976078413,\n",
       "  0.8879216176145318,\n",
       "  0.8855109741723007,\n",
       "  25805.337538397547],\n",
       " [485.20989420274765,\n",
       "  0.8811832046726418,\n",
       "  0.8879429918181054,\n",
       "  0.8855143662918895,\n",
       "  25802.87678358612],\n",
       " [488.02515836544336,\n",
       "  0.8811519464803309,\n",
       "  0.8879641902033032,\n",
       "  0.8855173176496385,\n",
       "  25800.436038463187],\n",
       " [490.8567571338432,\n",
       "  0.8811201284204564,\n",
       "  0.887984271346428,\n",
       "  0.8855195050208037,\n",
       "  25798.12371766249],\n",
       " [493.7047852839004,\n",
       "  0.8810881424158402,\n",
       "  0.8880052478486387,\n",
       "  0.8855219934482248,\n",
       "  25795.708075936356],\n",
       " [496.5693381414728,\n",
       "  0.8810557761087414,\n",
       "  0.8880260287754351,\n",
       "  0.8855243804651124,\n",
       "  25793.31473348064],\n",
       " [499.450511585514,\n",
       "  0.8810228409624168,\n",
       "  0.8880456913696674,\n",
       "  0.8855260442814125,\n",
       "  25791.049985064772],\n",
       " [502.3484020512821,\n",
       "  0.8809897267575769,\n",
       "  0.8880662624796783,\n",
       "  0.8855272969416301,\n",
       "  25788.680380416004],\n",
       " [505.26310653356796,\n",
       "  0.8809562188839248,\n",
       "  0.8880866290262411,\n",
       "  0.8855269353558288,\n",
       "  25786.33412509994],\n",
       " [508.19472258994136,\n",
       "  0.8809221286478035,\n",
       "  0.8881058924949073,\n",
       "  0.8855269136744932,\n",
       "  25784.11474946828],\n",
       " [511.14334834401654,\n",
       "  0.8808884572216599,\n",
       "  0.8881249690097563,\n",
       "  0.8855259840095435,\n",
       "  25781.916724813218],\n",
       " [514.1090824887364,\n",
       "  0.8808548220436562,\n",
       "  0.8881431001352227,\n",
       "  0.8855271879735952,\n",
       "  25779.827455635237],\n",
       " [517.092024289676,\n",
       "  0.8808206077246501,\n",
       "  0.8881600792775476,\n",
       "  0.8855263178983879,\n",
       "  25777.870777182663],\n",
       " [520.092273588364,\n",
       "  0.880786190866713,\n",
       "  0.8881779144471565,\n",
       "  0.8855270340233403,\n",
       "  25775.815290084633],\n",
       " [523.1099308056264,\n",
       "  0.8807513680865253,\n",
       "  0.8881955305487134,\n",
       "  0.8855265779331317,\n",
       "  25773.784889461218],\n",
       " [526.1450969449461,\n",
       "  0.8807167342543943,\n",
       "  0.8882147671841975,\n",
       "  0.885526759453391,\n",
       "  25771.567526257324],\n",
       " [529.1978735958442,\n",
       "  0.8806839581696695,\n",
       "  0.8882422433005972,\n",
       "  0.8855264332911839,\n",
       "  25768.400085941314],\n",
       " [532.2683629372804,\n",
       "  0.8806507973573217,\n",
       "  0.8882695736599281,\n",
       "  0.8855270966587263,\n",
       "  25765.249062171377],\n",
       " [535.3566677410724,\n",
       "  0.8806170664170138,\n",
       "  0.8882957750176552,\n",
       "  0.8855295921062802,\n",
       "  25762.227843546974],\n",
       " [538.4628913753365,\n",
       "  0.8805831302947733,\n",
       "  0.8883228529863447,\n",
       "  0.8855297034834205,\n",
       "  25759.105172585398],\n",
       " [541.5871378079471,\n",
       "  0.8805488038372811,\n",
       "  0.8883498229163874,\n",
       "  0.8855302213081042,\n",
       "  25755.994584467102],\n",
       " [544.7295116100161,\n",
       "  0.8805141984340898,\n",
       "  0.8883750000808711,\n",
       "  0.8855279594248936,\n",
       "  25753.09042663089],\n",
       " [547.8901179593945,\n",
       "  0.8804794428772027,\n",
       "  0.8884005800412597,\n",
       "  0.8855273911451832,\n",
       "  25750.139471296978],\n",
       " [551.0690626441899,\n",
       "  0.8804447604471818,\n",
       "  0.8884225425543083,\n",
       "  0.8855243195018121,\n",
       "  25747.605562065055],\n",
       " [554.2664520663108,\n",
       "  0.8804095122792553,\n",
       "  0.8884433980028893,\n",
       "  0.885522915329404,\n",
       "  25745.199148750205],\n",
       " [557.4823932450256,\n",
       "  0.8803740149592229,\n",
       "  0.888465040148771,\n",
       "  0.8855206554367621,\n",
       "  25742.701724250528],\n",
       " [560.7169938205458,\n",
       "  0.8803388253664323,\n",
       "  0.8884843285545976,\n",
       "  0.885516556218324,\n",
       "  25740.475708534617],\n",
       " [563.9703620576279,\n",
       "  0.8803032531288663,\n",
       "  0.88850206535643,\n",
       "  0.8855136164255804,\n",
       "  25738.428588761246],\n",
       " [567.2426068491977,\n",
       "  0.8802674158035703,\n",
       "  0.8885204752315629,\n",
       "  0.8855091176478975,\n",
       "  25736.303612998116],\n",
       " [570.5338377199951,\n",
       "  0.8802317339608401,\n",
       "  0.8885394573946492,\n",
       "  0.8854995858879185,\n",
       "  25734.11239666788],\n",
       " [573.8441648302393,\n",
       "  0.8801957316867676,\n",
       "  0.8885580536087376,\n",
       "  0.8854890907208915,\n",
       "  25731.965551628615],\n",
       " [577.1736989793168,\n",
       "  0.8801600919741963,\n",
       "  0.8885801625588636,\n",
       "  0.8854796328997052,\n",
       "  25729.412944730695],\n",
       " [580.5225516094896,\n",
       "  0.8801240192507753,\n",
       "  0.8886019837709264,\n",
       "  0.8854677857107452,\n",
       "  25726.893310520598],\n",
       " [583.8908348096255,\n",
       "  0.8800882171196419,\n",
       "  0.8886237689079366,\n",
       "  0.8854574629483126,\n",
       "  25724.377595615933],\n",
       " [587.2786613189483,\n",
       "  0.8800522175515003,\n",
       "  0.8886463547127691,\n",
       "  0.8854479492961621,\n",
       "  25721.769161013668],\n",
       " [590.6861445308137,\n",
       "  0.8800157884503259,\n",
       "  0.8886686992183349,\n",
       "  0.8854376229008232,\n",
       "  25719.18833374124],\n",
       " [594.1133984965034,\n",
       "  0.8799788350726926,\n",
       "  0.8886902424095342,\n",
       "  0.8854286424273596,\n",
       "  25716.699814364853],\n",
       " [597.5605379290422,\n",
       "  0.8799415624274686,\n",
       "  0.8887123287795167,\n",
       "  0.8854168602135692,\n",
       "  25714.148300744848],\n",
       " [601.0276782070382,\n",
       "  0.8799038532491491,\n",
       "  0.888734219571165,\n",
       "  0.8854079140643016,\n",
       "  25711.61913133725],\n",
       " [604.5149353785441,\n",
       "  0.8798656068332177,\n",
       "  0.888755322163858,\n",
       "  0.8854003724294388,\n",
       "  25709.180791567465],\n",
       " [608.0224261649421,\n",
       "  0.8798270173192427,\n",
       "  0.8887768701892943,\n",
       "  0.8853928681492181,\n",
       "  25706.69074475572],\n",
       " [611.5502679648503,\n",
       "  0.879787979799624,\n",
       "  0.8887982347932714,\n",
       "  0.8853838377125444,\n",
       "  25704.221655614467],\n",
       " [615.0985788580505,\n",
       "  0.879748398415753,\n",
       "  0.8888189061823862,\n",
       "  0.8853732615758023,\n",
       "  25701.83245494869],\n",
       " [618.6674776094437,\n",
       "  0.8797084449499996,\n",
       "  0.8888398721588835,\n",
       "  0.8853613199036863,\n",
       "  25699.408978963922],\n",
       " [622.2570836730231,\n",
       "  0.8796680262856538,\n",
       "  0.888860643775509,\n",
       "  0.8853485929961982,\n",
       "  25697.00774382182],\n",
       " [625.8675171958728,\n",
       "  0.8796271035752656,\n",
       "  0.8888807539596315,\n",
       "  0.885334927402865,\n",
       "  25694.682757634706],\n",
       " [629.4988990221888,\n",
       "  0.8795867329079339,\n",
       "  0.8889002196680587,\n",
       "  0.8853216405220488,\n",
       "  25692.43208042537],\n",
       " [633.1513506973246,\n",
       "  0.8795458882300844,\n",
       "  0.8889194356977377,\n",
       "  0.8853078865733668,\n",
       "  25690.210078339234],\n",
       " [636.8249944718586,\n",
       "  0.8795045711502952,\n",
       "  0.8889384488084261,\n",
       "  0.885299780085143,\n",
       "  25688.011351162644],\n",
       " [640.5199533056867,\n",
       "  0.8794627080792056,\n",
       "  0.8889570348688134,\n",
       "  0.8852886880051075,\n",
       "  25685.86182731075],\n",
       " [644.236350872137,\n",
       "  0.8794204275515027,\n",
       "  0.888975630931825,\n",
       "  0.885277959863536,\n",
       "  25683.710966587194],\n",
       " [647.9743115621102,\n",
       "  0.8793776512103235,\n",
       "  0.8889939602990377,\n",
       "  0.8852685723069993,\n",
       "  25681.590776194236],\n",
       " [651.7339604882427,\n",
       "  0.8793343773888226,\n",
       "  0.8890120523502139,\n",
       "  0.8852578573868145,\n",
       "  25679.497864902372],\n",
       " [655.5154234890925,\n",
       "  0.8792905334173462,\n",
       "  0.8890298497270045,\n",
       "  0.885247598002954,\n",
       "  25677.438875471467],\n",
       " [659.3188271333548,\n",
       "  0.8792462509871332,\n",
       "  0.8890474877858272,\n",
       "  0.8852351589184118,\n",
       "  25675.398154727747],\n",
       " [663.1442987240953,\n",
       "  0.8792014478254926,\n",
       "  0.8890648257264014,\n",
       "  0.8852217586587512,\n",
       "  25673.391999524396],\n",
       " [666.9919663030122,\n",
       "  0.8791561225437023,\n",
       "  0.8890818982766278,\n",
       "  0.88520597744739,\n",
       "  25671.4163991696],\n",
       " [670.8619586547219,\n",
       "  0.8791101925954515,\n",
       "  0.8890987941972444,\n",
       "  0.8851847218110775,\n",
       "  25669.461088332708],\n",
       " [674.7544053110693,\n",
       "  0.8790638133061095,\n",
       "  0.8891153972755117,\n",
       "  0.8851643424814123,\n",
       "  25667.539522101753],\n",
       " [678.6694365554636,\n",
       "  0.8790168874385696,\n",
       "  0.8891316588799729,\n",
       "  0.8851414188580193,\n",
       "  25665.65733706804],\n",
       " [682.6071834272386,\n",
       "  0.8789694174238281,\n",
       "  0.8891476420522315,\n",
       "  0.8851165800857851,\n",
       "  25663.80724440898],\n",
       " [686.5677777260398,\n",
       "  0.8789212937168494,\n",
       "  0.8891635312215105,\n",
       "  0.885093354624067,\n",
       "  25661.9679006253],\n",
       " [690.5513520162331,\n",
       "  0.8788727227449447,\n",
       "  0.8891790136586618,\n",
       "  0.8850710857000438,\n",
       "  25660.175513673046],\n",
       " [694.5580396313453,\n",
       "  0.8788235807967106,\n",
       "  0.8891941263228313,\n",
       "  0.8850521423959508,\n",
       "  25658.425814226965],\n",
       " [698.5879746785249,\n",
       "  0.8787740937677202,\n",
       "  0.8892086510104968,\n",
       "  0.8850298081064951,\n",
       "  25656.74407650708],\n",
       " [702.6412920430313,\n",
       "  0.8787242148811152,\n",
       "  0.8892233420406387,\n",
       "  0.885007524166249,\n",
       "  25655.04296671849],\n",
       " [706.7181273927491,\n",
       "  0.8786742399735376,\n",
       "  0.8892378964053852,\n",
       "  0.8849864586988897,\n",
       "  25653.357570511653],\n",
       " [710.8186171827297,\n",
       "  0.8786238085123085,\n",
       "  0.8892516663005123,\n",
       "  0.8849624951730999,\n",
       "  25651.762913984705],\n",
       " [714.9428986597577,\n",
       "  0.8785726526760392,\n",
       "  0.8892654318366375,\n",
       "  0.8849394715780535,\n",
       "  25650.168663170847],\n",
       " [719.0911098669455,\n",
       "  0.8785224540328163,\n",
       "  0.8892774015225609,\n",
       "  0.884914575602554,\n",
       "  25648.782317582663],\n",
       " [723.2633896483534,\n",
       "  0.8784720882472095,\n",
       "  0.8892888851014008,\n",
       "  0.8848905233080858,\n",
       "  25647.452203155364],\n",
       " [727.4598776536365,\n",
       "  0.8784211365151909,\n",
       "  0.8893000141501406,\n",
       "  0.8848645525068294,\n",
       "  25646.163087246],\n",
       " [731.68071434272,\n",
       "  0.8783695860560043,\n",
       "  0.8893107446899773,\n",
       "  0.8848376542479448,\n",
       "  25644.920070628457],\n",
       " [735.9260409904977,\n",
       "  0.8783174246474658,\n",
       "  0.889321029820727,\n",
       "  0.8848099810049609,\n",
       "  25643.728593268494],\n",
       " [740.1959996915645,\n",
       "  0.878264659777835,\n",
       "  0.8893309394235583,\n",
       "  0.8847818876605051,\n",
       "  25642.580566441746],\n",
       " [744.4907333649699,\n",
       "  0.8782112904276915,\n",
       "  0.8893404917020811,\n",
       "  0.884750601984847,\n",
       "  25641.47388695921],\n",
       " [748.8103857590023,\n",
       "  0.8781573204600587,\n",
       "  0.8893497723965608,\n",
       "  0.8847214741376774,\n",
       "  25640.398626104983],\n",
       " [753.1551014560001,\n",
       "  0.8781055958773979,\n",
       "  0.8893627614612054,\n",
       "  0.8846903500700483,\n",
       "  25638.893637923025],\n",
       " [757.5250258771913,\n",
       "  0.8780542212341914,\n",
       "  0.8893768382220572,\n",
       "  0.8846605644976385,\n",
       "  25637.262523210728],\n",
       " [761.9203052875606,\n",
       "  0.8780022487273333,\n",
       "  0.8893905591526442,\n",
       "  0.884632429795459,\n",
       "  25635.67253969265],\n",
       " [766.3410868007454,\n",
       "  0.8779496722685808,\n",
       "  0.8894039356495317,\n",
       "  0.884603992586598,\n",
       "  25634.122374265942],\n",
       " [770.7875183839603,\n",
       "  0.8778968312654285,\n",
       "  0.8894139204599708,\n",
       "  0.8845764706332746,\n",
       "  25632.96520094611],\n",
       " [775.2597488629465,\n",
       "  0.8778447604820305,\n",
       "  0.8894117858793111,\n",
       "  0.8845462986590713,\n",
       "  25633.212589080136],\n",
       " [779.7579279269578,\n",
       "  0.8777963026250805,\n",
       "  0.8894122290504115,\n",
       "  0.8845160239579091,\n",
       "  25633.16122777324],\n",
       " [784.2822061337682,\n",
       "  0.8777479568103971,\n",
       "  0.889418969600902,\n",
       "  0.8844851061751096,\n",
       "  25632.380019105527],\n",
       " [788.8327349147113,\n",
       "  0.8776990423909797,\n",
       "  0.8894254023010663,\n",
       "  0.8844529881666896,\n",
       "  25631.634467121825],\n",
       " [793.4096665797492,\n",
       "  0.8776495548351295,\n",
       "  0.8894315248007976,\n",
       "  0.8844205715775477,\n",
       "  25630.92484732326],\n",
       " [798.0131543225705,\n",
       "  0.8776002360871495,\n",
       "  0.8894398829160864,\n",
       "  0.884386763866439,\n",
       "  25629.9560799008],\n",
       " [802.6433522257174,\n",
       "  0.8775508162377923,\n",
       "  0.8894495822034312,\n",
       "  0.8843518723812631,\n",
       "  25628.831814805886],\n",
       " [807.3004152657436,\n",
       "  0.8775026650967351,\n",
       "  0.8894588066221739,\n",
       "  0.8843171002436889,\n",
       "  25627.76254698651],\n",
       " [811.9844993184009,\n",
       "  0.8774543618122195,\n",
       "  0.8894677420230518,\n",
       "  0.8842799580849391,\n",
       "  25626.726738738304],\n",
       " [816.6957611638568,\n",
       "  0.8774054976677073,\n",
       "  0.8894763817578345,\n",
       "  0.8842421529585878,\n",
       "  25625.725164839532],\n",
       " [821.434358491943,\n",
       "  0.8773560652575677,\n",
       "  0.8894847189208376,\n",
       "  0.8842046440020577,\n",
       "  25624.758629901913],\n",
       " [826.2004499074297,\n",
       "  0.8773060571806768,\n",
       "  0.8894927416856131,\n",
       "  0.8841646417242286,\n",
       "  25623.82850901705],\n",
       " [830.9941949353396,\n",
       "  0.877255465863244,\n",
       "  0.8895004464817611,\n",
       "  0.8841249782853519,\n",
       "  25622.935220107487],\n",
       " [835.8157540262836,\n",
       "  0.8772042840908336,\n",
       "  0.8895078292827362,\n",
       "  0.8840849754950144,\n",
       "  25622.079233884255],\n",
       " [840.6652885618325,\n",
       "  0.8771525056593146,\n",
       "  0.8895148767269777,\n",
       "  0.8840470578927191,\n",
       "  25621.262103344754],\n",
       " [845.5429608599185,\n",
       "  0.8771001244304556,\n",
       "  0.889521585904311,\n",
       "  0.8840092341120075,\n",
       "  25620.48416964858],\n",
       " [850.4489341802678,\n",
       "  0.8770471329823059,\n",
       "  0.889527948687186,\n",
       "  0.8839699511619079,\n",
       "  25619.746378802756],\n",
       " [855.3833727298651,\n",
       "  0.8769935244403371,\n",
       "  0.8895339634317745,\n",
       "  0.8839318290484641,\n",
       "  25619.04892489206],\n",
       " [860.34644166845,\n",
       "  0.8769392925380481,\n",
       "  0.8895396227644845,\n",
       "  0.8838907546154383,\n",
       "  25618.392666266773],\n",
       " [865.3383071140461,\n",
       "  0.8768844283756737,\n",
       "  0.8895449220319283,\n",
       "  0.8838473185362339,\n",
       "  25617.778145721546],\n",
       " [870.3591361485165,\n",
       "  0.8768289215377915,\n",
       "  0.88954985729638,\n",
       "  0.8838031064038973,\n",
       "  25617.205822907414],\n",
       " [875.4090968231632,\n",
       "  0.8767727671882779,\n",
       "  0.8895544192223446,\n",
       "  0.8837566876199718,\n",
       "  25616.676783287116],\n",
       " [880.4883581643464,\n",
       "  0.8767163442904986,\n",
       "  0.88955938450721,\n",
       "  0.8837114542310734,\n",
       "  25616.10095433031],\n",
       " [885.5970901791447,\n",
       "  0.87665890119398,\n",
       "  0.8895634209572693,\n",
       "  0.883663687331625,\n",
       "  25615.63283371845],\n",
       " [890.735463861044,\n",
       "  0.8766007881000697,\n",
       "  0.8895670527165794,\n",
       "  0.8836160045679824,\n",
       "  25615.211639134726],\n",
       " [895.9036511956614,\n",
       "  0.8765419995038423,\n",
       "  0.8895702764023626,\n",
       "  0.8835672156432957,\n",
       "  25614.837765221844],\n",
       " [901.1018251665018,\n",
       "  0.8764825245726416,\n",
       "  0.8895730799204853,\n",
       "  0.8835194265776891,\n",
       "  25614.5126167232],\n",
       " [906.3301597607475,\n",
       "  0.8764223539287199,\n",
       "  0.8895754703138373,\n",
       "  0.8834686892580768,\n",
       "  25614.235378654867],\n",
       " [911.5888299750818,\n",
       "  0.8763614836875401,\n",
       "  0.8895774215028719,\n",
       "  0.8834165162952733,\n",
       "  25614.00907732435],\n",
       " [916.8780118215464,\n",
       "  0.8762999037892026,\n",
       "  0.8895789298486467,\n",
       "  0.883371004065916,\n",
       "  25613.834136135556],\n",
       " [922.1978823334332,\n",
       "  0.8762379677865095,\n",
       "  0.8895808323367491,\n",
       "  0.8833253180782759,\n",
       "  25613.613479767464],\n",
       " [927.5486195712066,\n",
       "  0.8761782675539427,\n",
       "  0.8895836503136724,\n",
       "  0.8832780402421511,\n",
       "  25613.28663872278],\n",
       " [932.9304026284686,\n",
       "  0.8761174117861702,\n",
       "  0.8895855578966687,\n",
       "  0.8832301918332016,\n",
       "  25613.0653867015],\n",
       " [938.3434116379495,\n",
       "  0.876055906889546,\n",
       "  0.8895871561326852,\n",
       "  0.8831805738081586,\n",
       "  25612.88001298157],\n",
       " [943.7878277775382,\n",
       "  0.8759937238865345,\n",
       "  0.8895883919250844,\n",
       "  0.8831297783946586,\n",
       "  25612.736676889952],\n",
       " [949.2638332763457,\n",
       "  0.8759308176212894,\n",
       "  0.8895891783198195,\n",
       "  0.8830783263878791,\n",
       "  25612.64546475434],\n",
       " [954.7716114208056,\n",
       "  0.875867229298159,\n",
       "  0.889589364064272,\n",
       "  0.8830271468201941,\n",
       "  25612.623920630598],\n",
       " [960.3113465608079,\n",
       "  0.87580394732206,\n",
       "  0.8895882878105339,\n",
       "  0.8829719963609369,\n",
       "  25612.74875287538],\n",
       " [965.8832241158699,\n",
       "  0.87573998887007,\n",
       "  0.8895868365828259,\n",
       "  0.8829147584566845,\n",
       "  25612.91707654229],\n",
       " [971.4874305813427,\n",
       "  0.8756753334487166,\n",
       "  0.8895849197152034,\n",
       "  0.8828569846363331,\n",
       "  25613.139406728544],\n",
       " [977.1241535346502,\n",
       "  0.8756099251031677,\n",
       "  0.8895825182307325,\n",
       "  0.8827988100843257,\n",
       "  25613.417943056767],\n",
       " [982.7935816415728,\n",
       "  0.8755437552310624,\n",
       "  0.8895796243245382,\n",
       "  0.8827387327771323,\n",
       "  25613.753588925498],\n",
       " [988.4959046625586,\n",
       "  0.8754768119158232,\n",
       "  0.8895762393349783,\n",
       "  0.882677988033144,\n",
       "  25614.14618686538],\n",
       " [994.2313134590756,\n",
       "  0.8754090895600459,\n",
       "  0.8895723459014199,\n",
       "  0.8826168044100404,\n",
       "  25614.59774772819],\n",
       " [1000.0,\n",
       "  0.8753412584628429,\n",
       "  0.8895685579236653,\n",
       "  0.8825527773983645,\n",
       "  25615.03707017504]]"
      ]
     },
     "execution_count": 246,
     "metadata": {},
     "output_type": "execute_result"
    }
   ],
   "source": [
    "scores"
   ]
  },
  {
   "cell_type": "code",
   "execution_count": 247,
   "id": "eda33a59",
   "metadata": {},
   "outputs": [
    {
     "data": {
      "text/html": [
       "<div>\n",
       "<style scoped>\n",
       "    .dataframe tbody tr th:only-of-type {\n",
       "        vertical-align: middle;\n",
       "    }\n",
       "\n",
       "    .dataframe tbody tr th {\n",
       "        vertical-align: top;\n",
       "    }\n",
       "\n",
       "    .dataframe thead th {\n",
       "        text-align: right;\n",
       "    }\n",
       "</style>\n",
       "<table border=\"1\" class=\"dataframe\">\n",
       "  <thead>\n",
       "    <tr style=\"text-align: right;\">\n",
       "      <th></th>\n",
       "      <th>alpha</th>\n",
       "      <th>train</th>\n",
       "      <th>test</th>\n",
       "      <th>cv</th>\n",
       "      <th>mse</th>\n",
       "    </tr>\n",
       "  </thead>\n",
       "  <tbody>\n",
       "    <tr>\n",
       "      <th>191</th>\n",
       "      <td>954.771611</td>\n",
       "      <td>0.875867</td>\n",
       "      <td>0.889589</td>\n",
       "      <td>0.883027</td>\n",
       "      <td>25612.623921</td>\n",
       "    </tr>\n",
       "    <tr>\n",
       "      <th>190</th>\n",
       "      <td>949.263833</td>\n",
       "      <td>0.875931</td>\n",
       "      <td>0.889589</td>\n",
       "      <td>0.883078</td>\n",
       "      <td>25612.645465</td>\n",
       "    </tr>\n",
       "    <tr>\n",
       "      <th>189</th>\n",
       "      <td>943.787828</td>\n",
       "      <td>0.875994</td>\n",
       "      <td>0.889588</td>\n",
       "      <td>0.883130</td>\n",
       "      <td>25612.736677</td>\n",
       "    </tr>\n",
       "    <tr>\n",
       "      <th>192</th>\n",
       "      <td>960.311347</td>\n",
       "      <td>0.875804</td>\n",
       "      <td>0.889588</td>\n",
       "      <td>0.882972</td>\n",
       "      <td>25612.748753</td>\n",
       "    </tr>\n",
       "    <tr>\n",
       "      <th>188</th>\n",
       "      <td>938.343412</td>\n",
       "      <td>0.876056</td>\n",
       "      <td>0.889587</td>\n",
       "      <td>0.883181</td>\n",
       "      <td>25612.880013</td>\n",
       "    </tr>\n",
       "    <tr>\n",
       "      <th>193</th>\n",
       "      <td>965.883224</td>\n",
       "      <td>0.875740</td>\n",
       "      <td>0.889587</td>\n",
       "      <td>0.882915</td>\n",
       "      <td>25612.917077</td>\n",
       "    </tr>\n",
       "    <tr>\n",
       "      <th>187</th>\n",
       "      <td>932.930403</td>\n",
       "      <td>0.876117</td>\n",
       "      <td>0.889586</td>\n",
       "      <td>0.883230</td>\n",
       "      <td>25613.065387</td>\n",
       "    </tr>\n",
       "    <tr>\n",
       "      <th>194</th>\n",
       "      <td>971.487431</td>\n",
       "      <td>0.875675</td>\n",
       "      <td>0.889585</td>\n",
       "      <td>0.882857</td>\n",
       "      <td>25613.139407</td>\n",
       "    </tr>\n",
       "    <tr>\n",
       "      <th>186</th>\n",
       "      <td>927.548620</td>\n",
       "      <td>0.876178</td>\n",
       "      <td>0.889584</td>\n",
       "      <td>0.883278</td>\n",
       "      <td>25613.286639</td>\n",
       "    </tr>\n",
       "    <tr>\n",
       "      <th>195</th>\n",
       "      <td>977.124154</td>\n",
       "      <td>0.875610</td>\n",
       "      <td>0.889583</td>\n",
       "      <td>0.882799</td>\n",
       "      <td>25613.417943</td>\n",
       "    </tr>\n",
       "    <tr>\n",
       "      <th>185</th>\n",
       "      <td>922.197882</td>\n",
       "      <td>0.876238</td>\n",
       "      <td>0.889581</td>\n",
       "      <td>0.883325</td>\n",
       "      <td>25613.613480</td>\n",
       "    </tr>\n",
       "    <tr>\n",
       "      <th>196</th>\n",
       "      <td>982.793582</td>\n",
       "      <td>0.875544</td>\n",
       "      <td>0.889580</td>\n",
       "      <td>0.882739</td>\n",
       "      <td>25613.753589</td>\n",
       "    </tr>\n",
       "    <tr>\n",
       "      <th>184</th>\n",
       "      <td>916.878012</td>\n",
       "      <td>0.876300</td>\n",
       "      <td>0.889579</td>\n",
       "      <td>0.883371</td>\n",
       "      <td>25613.834136</td>\n",
       "    </tr>\n",
       "    <tr>\n",
       "      <th>183</th>\n",
       "      <td>911.588830</td>\n",
       "      <td>0.876361</td>\n",
       "      <td>0.889577</td>\n",
       "      <td>0.883417</td>\n",
       "      <td>25614.009077</td>\n",
       "    </tr>\n",
       "    <tr>\n",
       "      <th>197</th>\n",
       "      <td>988.495905</td>\n",
       "      <td>0.875477</td>\n",
       "      <td>0.889576</td>\n",
       "      <td>0.882678</td>\n",
       "      <td>25614.146187</td>\n",
       "    </tr>\n",
       "    <tr>\n",
       "      <th>182</th>\n",
       "      <td>906.330160</td>\n",
       "      <td>0.876422</td>\n",
       "      <td>0.889575</td>\n",
       "      <td>0.883469</td>\n",
       "      <td>25614.235379</td>\n",
       "    </tr>\n",
       "    <tr>\n",
       "      <th>181</th>\n",
       "      <td>901.101825</td>\n",
       "      <td>0.876483</td>\n",
       "      <td>0.889573</td>\n",
       "      <td>0.883519</td>\n",
       "      <td>25614.512617</td>\n",
       "    </tr>\n",
       "    <tr>\n",
       "      <th>198</th>\n",
       "      <td>994.231313</td>\n",
       "      <td>0.875409</td>\n",
       "      <td>0.889572</td>\n",
       "      <td>0.882617</td>\n",
       "      <td>25614.597748</td>\n",
       "    </tr>\n",
       "    <tr>\n",
       "      <th>180</th>\n",
       "      <td>895.903651</td>\n",
       "      <td>0.876542</td>\n",
       "      <td>0.889570</td>\n",
       "      <td>0.883567</td>\n",
       "      <td>25614.837765</td>\n",
       "    </tr>\n",
       "    <tr>\n",
       "      <th>199</th>\n",
       "      <td>1000.000000</td>\n",
       "      <td>0.875341</td>\n",
       "      <td>0.889569</td>\n",
       "      <td>0.882553</td>\n",
       "      <td>25615.037070</td>\n",
       "    </tr>\n",
       "    <tr>\n",
       "      <th>179</th>\n",
       "      <td>890.735464</td>\n",
       "      <td>0.876601</td>\n",
       "      <td>0.889567</td>\n",
       "      <td>0.883616</td>\n",
       "      <td>25615.211639</td>\n",
       "    </tr>\n",
       "    <tr>\n",
       "      <th>178</th>\n",
       "      <td>885.597090</td>\n",
       "      <td>0.876659</td>\n",
       "      <td>0.889563</td>\n",
       "      <td>0.883664</td>\n",
       "      <td>25615.632834</td>\n",
       "    </tr>\n",
       "    <tr>\n",
       "      <th>177</th>\n",
       "      <td>880.488358</td>\n",
       "      <td>0.876716</td>\n",
       "      <td>0.889559</td>\n",
       "      <td>0.883711</td>\n",
       "      <td>25616.100954</td>\n",
       "    </tr>\n",
       "    <tr>\n",
       "      <th>176</th>\n",
       "      <td>875.409097</td>\n",
       "      <td>0.876773</td>\n",
       "      <td>0.889554</td>\n",
       "      <td>0.883757</td>\n",
       "      <td>25616.676783</td>\n",
       "    </tr>\n",
       "    <tr>\n",
       "      <th>175</th>\n",
       "      <td>870.359136</td>\n",
       "      <td>0.876829</td>\n",
       "      <td>0.889550</td>\n",
       "      <td>0.883803</td>\n",
       "      <td>25617.205823</td>\n",
       "    </tr>\n",
       "    <tr>\n",
       "      <th>174</th>\n",
       "      <td>865.338307</td>\n",
       "      <td>0.876884</td>\n",
       "      <td>0.889545</td>\n",
       "      <td>0.883847</td>\n",
       "      <td>25617.778146</td>\n",
       "    </tr>\n",
       "    <tr>\n",
       "      <th>173</th>\n",
       "      <td>860.346442</td>\n",
       "      <td>0.876939</td>\n",
       "      <td>0.889540</td>\n",
       "      <td>0.883891</td>\n",
       "      <td>25618.392666</td>\n",
       "    </tr>\n",
       "    <tr>\n",
       "      <th>172</th>\n",
       "      <td>855.383373</td>\n",
       "      <td>0.876994</td>\n",
       "      <td>0.889534</td>\n",
       "      <td>0.883932</td>\n",
       "      <td>25619.048925</td>\n",
       "    </tr>\n",
       "    <tr>\n",
       "      <th>171</th>\n",
       "      <td>850.448934</td>\n",
       "      <td>0.877047</td>\n",
       "      <td>0.889528</td>\n",
       "      <td>0.883970</td>\n",
       "      <td>25619.746379</td>\n",
       "    </tr>\n",
       "    <tr>\n",
       "      <th>170</th>\n",
       "      <td>845.542961</td>\n",
       "      <td>0.877100</td>\n",
       "      <td>0.889522</td>\n",
       "      <td>0.884009</td>\n",
       "      <td>25620.484170</td>\n",
       "    </tr>\n",
       "    <tr>\n",
       "      <th>169</th>\n",
       "      <td>840.665289</td>\n",
       "      <td>0.877153</td>\n",
       "      <td>0.889515</td>\n",
       "      <td>0.884047</td>\n",
       "      <td>25621.262103</td>\n",
       "    </tr>\n",
       "    <tr>\n",
       "      <th>168</th>\n",
       "      <td>835.815754</td>\n",
       "      <td>0.877204</td>\n",
       "      <td>0.889508</td>\n",
       "      <td>0.884085</td>\n",
       "      <td>25622.079234</td>\n",
       "    </tr>\n",
       "    <tr>\n",
       "      <th>167</th>\n",
       "      <td>830.994195</td>\n",
       "      <td>0.877255</td>\n",
       "      <td>0.889500</td>\n",
       "      <td>0.884125</td>\n",
       "      <td>25622.935220</td>\n",
       "    </tr>\n",
       "    <tr>\n",
       "      <th>166</th>\n",
       "      <td>826.200450</td>\n",
       "      <td>0.877306</td>\n",
       "      <td>0.889493</td>\n",
       "      <td>0.884165</td>\n",
       "      <td>25623.828509</td>\n",
       "    </tr>\n",
       "    <tr>\n",
       "      <th>165</th>\n",
       "      <td>821.434358</td>\n",
       "      <td>0.877356</td>\n",
       "      <td>0.889485</td>\n",
       "      <td>0.884205</td>\n",
       "      <td>25624.758630</td>\n",
       "    </tr>\n",
       "    <tr>\n",
       "      <th>164</th>\n",
       "      <td>816.695761</td>\n",
       "      <td>0.877405</td>\n",
       "      <td>0.889476</td>\n",
       "      <td>0.884242</td>\n",
       "      <td>25625.725165</td>\n",
       "    </tr>\n",
       "    <tr>\n",
       "      <th>163</th>\n",
       "      <td>811.984499</td>\n",
       "      <td>0.877454</td>\n",
       "      <td>0.889468</td>\n",
       "      <td>0.884280</td>\n",
       "      <td>25626.726739</td>\n",
       "    </tr>\n",
       "    <tr>\n",
       "      <th>162</th>\n",
       "      <td>807.300415</td>\n",
       "      <td>0.877503</td>\n",
       "      <td>0.889459</td>\n",
       "      <td>0.884317</td>\n",
       "      <td>25627.762547</td>\n",
       "    </tr>\n",
       "    <tr>\n",
       "      <th>161</th>\n",
       "      <td>802.643352</td>\n",
       "      <td>0.877551</td>\n",
       "      <td>0.889450</td>\n",
       "      <td>0.884352</td>\n",
       "      <td>25628.831815</td>\n",
       "    </tr>\n",
       "    <tr>\n",
       "      <th>160</th>\n",
       "      <td>798.013154</td>\n",
       "      <td>0.877600</td>\n",
       "      <td>0.889440</td>\n",
       "      <td>0.884387</td>\n",
       "      <td>25629.956080</td>\n",
       "    </tr>\n",
       "    <tr>\n",
       "      <th>159</th>\n",
       "      <td>793.409667</td>\n",
       "      <td>0.877650</td>\n",
       "      <td>0.889432</td>\n",
       "      <td>0.884421</td>\n",
       "      <td>25630.924847</td>\n",
       "    </tr>\n",
       "    <tr>\n",
       "      <th>158</th>\n",
       "      <td>788.832735</td>\n",
       "      <td>0.877699</td>\n",
       "      <td>0.889425</td>\n",
       "      <td>0.884453</td>\n",
       "      <td>25631.634467</td>\n",
       "    </tr>\n",
       "    <tr>\n",
       "      <th>157</th>\n",
       "      <td>784.282206</td>\n",
       "      <td>0.877748</td>\n",
       "      <td>0.889419</td>\n",
       "      <td>0.884485</td>\n",
       "      <td>25632.380019</td>\n",
       "    </tr>\n",
       "    <tr>\n",
       "      <th>154</th>\n",
       "      <td>770.787518</td>\n",
       "      <td>0.877897</td>\n",
       "      <td>0.889414</td>\n",
       "      <td>0.884576</td>\n",
       "      <td>25632.965201</td>\n",
       "    </tr>\n",
       "    <tr>\n",
       "      <th>156</th>\n",
       "      <td>779.757928</td>\n",
       "      <td>0.877796</td>\n",
       "      <td>0.889412</td>\n",
       "      <td>0.884516</td>\n",
       "      <td>25633.161228</td>\n",
       "    </tr>\n",
       "    <tr>\n",
       "      <th>155</th>\n",
       "      <td>775.259749</td>\n",
       "      <td>0.877845</td>\n",
       "      <td>0.889412</td>\n",
       "      <td>0.884546</td>\n",
       "      <td>25633.212589</td>\n",
       "    </tr>\n",
       "    <tr>\n",
       "      <th>153</th>\n",
       "      <td>766.341087</td>\n",
       "      <td>0.877950</td>\n",
       "      <td>0.889404</td>\n",
       "      <td>0.884604</td>\n",
       "      <td>25634.122374</td>\n",
       "    </tr>\n",
       "    <tr>\n",
       "      <th>152</th>\n",
       "      <td>761.920305</td>\n",
       "      <td>0.878002</td>\n",
       "      <td>0.889391</td>\n",
       "      <td>0.884632</td>\n",
       "      <td>25635.672540</td>\n",
       "    </tr>\n",
       "    <tr>\n",
       "      <th>151</th>\n",
       "      <td>757.525026</td>\n",
       "      <td>0.878054</td>\n",
       "      <td>0.889377</td>\n",
       "      <td>0.884661</td>\n",
       "      <td>25637.262523</td>\n",
       "    </tr>\n",
       "    <tr>\n",
       "      <th>150</th>\n",
       "      <td>753.155101</td>\n",
       "      <td>0.878106</td>\n",
       "      <td>0.889363</td>\n",
       "      <td>0.884690</td>\n",
       "      <td>25638.893638</td>\n",
       "    </tr>\n",
       "  </tbody>\n",
       "</table>\n",
       "</div>"
      ],
      "text/plain": [
       "           alpha     train      test        cv           mse\n",
       "191   954.771611  0.875867  0.889589  0.883027  25612.623921\n",
       "190   949.263833  0.875931  0.889589  0.883078  25612.645465\n",
       "189   943.787828  0.875994  0.889588  0.883130  25612.736677\n",
       "192   960.311347  0.875804  0.889588  0.882972  25612.748753\n",
       "188   938.343412  0.876056  0.889587  0.883181  25612.880013\n",
       "193   965.883224  0.875740  0.889587  0.882915  25612.917077\n",
       "187   932.930403  0.876117  0.889586  0.883230  25613.065387\n",
       "194   971.487431  0.875675  0.889585  0.882857  25613.139407\n",
       "186   927.548620  0.876178  0.889584  0.883278  25613.286639\n",
       "195   977.124154  0.875610  0.889583  0.882799  25613.417943\n",
       "185   922.197882  0.876238  0.889581  0.883325  25613.613480\n",
       "196   982.793582  0.875544  0.889580  0.882739  25613.753589\n",
       "184   916.878012  0.876300  0.889579  0.883371  25613.834136\n",
       "183   911.588830  0.876361  0.889577  0.883417  25614.009077\n",
       "197   988.495905  0.875477  0.889576  0.882678  25614.146187\n",
       "182   906.330160  0.876422  0.889575  0.883469  25614.235379\n",
       "181   901.101825  0.876483  0.889573  0.883519  25614.512617\n",
       "198   994.231313  0.875409  0.889572  0.882617  25614.597748\n",
       "180   895.903651  0.876542  0.889570  0.883567  25614.837765\n",
       "199  1000.000000  0.875341  0.889569  0.882553  25615.037070\n",
       "179   890.735464  0.876601  0.889567  0.883616  25615.211639\n",
       "178   885.597090  0.876659  0.889563  0.883664  25615.632834\n",
       "177   880.488358  0.876716  0.889559  0.883711  25616.100954\n",
       "176   875.409097  0.876773  0.889554  0.883757  25616.676783\n",
       "175   870.359136  0.876829  0.889550  0.883803  25617.205823\n",
       "174   865.338307  0.876884  0.889545  0.883847  25617.778146\n",
       "173   860.346442  0.876939  0.889540  0.883891  25618.392666\n",
       "172   855.383373  0.876994  0.889534  0.883932  25619.048925\n",
       "171   850.448934  0.877047  0.889528  0.883970  25619.746379\n",
       "170   845.542961  0.877100  0.889522  0.884009  25620.484170\n",
       "169   840.665289  0.877153  0.889515  0.884047  25621.262103\n",
       "168   835.815754  0.877204  0.889508  0.884085  25622.079234\n",
       "167   830.994195  0.877255  0.889500  0.884125  25622.935220\n",
       "166   826.200450  0.877306  0.889493  0.884165  25623.828509\n",
       "165   821.434358  0.877356  0.889485  0.884205  25624.758630\n",
       "164   816.695761  0.877405  0.889476  0.884242  25625.725165\n",
       "163   811.984499  0.877454  0.889468  0.884280  25626.726739\n",
       "162   807.300415  0.877503  0.889459  0.884317  25627.762547\n",
       "161   802.643352  0.877551  0.889450  0.884352  25628.831815\n",
       "160   798.013154  0.877600  0.889440  0.884387  25629.956080\n",
       "159   793.409667  0.877650  0.889432  0.884421  25630.924847\n",
       "158   788.832735  0.877699  0.889425  0.884453  25631.634467\n",
       "157   784.282206  0.877748  0.889419  0.884485  25632.380019\n",
       "154   770.787518  0.877897  0.889414  0.884576  25632.965201\n",
       "156   779.757928  0.877796  0.889412  0.884516  25633.161228\n",
       "155   775.259749  0.877845  0.889412  0.884546  25633.212589\n",
       "153   766.341087  0.877950  0.889404  0.884604  25634.122374\n",
       "152   761.920305  0.878002  0.889391  0.884632  25635.672540\n",
       "151   757.525026  0.878054  0.889377  0.884661  25637.262523\n",
       "150   753.155101  0.878106  0.889363  0.884690  25638.893638"
      ]
     },
     "execution_count": 247,
     "metadata": {},
     "output_type": "execute_result"
    }
   ],
   "source": [
    "pd.DataFrame(scores, columns=['alpha','train','test','cv','mse']).sort_values(by='mse').head(50)"
   ]
  },
  {
   "cell_type": "code",
   "execution_count": 249,
   "id": "98513985",
   "metadata": {},
   "outputs": [
    {
     "data": {
      "text/plain": [
       "Lasso(alpha=950)"
      ]
     },
     "execution_count": 249,
     "metadata": {},
     "output_type": "execute_result"
    }
   ],
   "source": [
    "lasso = Lasso(alpha = 950)\n",
    "lasso.fit(X_train_sc,y_train)\n"
   ]
  },
  {
   "cell_type": "code",
   "execution_count": 250,
   "id": "77ed2763",
   "metadata": {},
   "outputs": [],
   "source": [
    "lasso_coefs = pd.DataFrame(list(zip(X_train.columns,lasso.coef_)),columns=['feat','coef'])"
   ]
  },
  {
   "cell_type": "code",
   "execution_count": 258,
   "id": "8716d20c",
   "metadata": {},
   "outputs": [
    {
     "data": {
      "text/html": [
       "<div>\n",
       "<style scoped>\n",
       "    .dataframe tbody tr th:only-of-type {\n",
       "        vertical-align: middle;\n",
       "    }\n",
       "\n",
       "    .dataframe tbody tr th {\n",
       "        vertical-align: top;\n",
       "    }\n",
       "\n",
       "    .dataframe thead th {\n",
       "        text-align: right;\n",
       "    }\n",
       "</style>\n",
       "<table border=\"1\" class=\"dataframe\">\n",
       "  <thead>\n",
       "    <tr style=\"text-align: right;\">\n",
       "      <th></th>\n",
       "      <th>feat</th>\n",
       "      <th>coef</th>\n",
       "    </tr>\n",
       "  </thead>\n",
       "  <tbody>\n",
       "    <tr>\n",
       "      <th>5</th>\n",
       "      <td>ohe__neighborhood_Crawfor</td>\n",
       "      <td>2477.382523</td>\n",
       "    </tr>\n",
       "    <tr>\n",
       "      <th>6</th>\n",
       "      <td>ohe__neighborhood_Edwards</td>\n",
       "      <td>-2333.560534</td>\n",
       "    </tr>\n",
       "    <tr>\n",
       "      <th>7</th>\n",
       "      <td>ohe__neighborhood_Gilbert</td>\n",
       "      <td>-4.519485</td>\n",
       "    </tr>\n",
       "    <tr>\n",
       "      <th>9</th>\n",
       "      <td>ohe__neighborhood_IDOTRR</td>\n",
       "      <td>-126.054160</td>\n",
       "    </tr>\n",
       "    <tr>\n",
       "      <th>11</th>\n",
       "      <td>ohe__neighborhood_Mitchel</td>\n",
       "      <td>98.681576</td>\n",
       "    </tr>\n",
       "    <tr>\n",
       "      <th>15</th>\n",
       "      <td>ohe__neighborhood_NoRidge</td>\n",
       "      <td>5160.955972</td>\n",
       "    </tr>\n",
       "    <tr>\n",
       "      <th>16</th>\n",
       "      <td>ohe__neighborhood_NridgHt</td>\n",
       "      <td>10896.106644</td>\n",
       "    </tr>\n",
       "    <tr>\n",
       "      <th>17</th>\n",
       "      <td>ohe__neighborhood_OldTown</td>\n",
       "      <td>-91.797329</td>\n",
       "    </tr>\n",
       "    <tr>\n",
       "      <th>20</th>\n",
       "      <td>ohe__neighborhood_SawyerW</td>\n",
       "      <td>-758.223892</td>\n",
       "    </tr>\n",
       "    <tr>\n",
       "      <th>21</th>\n",
       "      <td>ohe__neighborhood_Somerst</td>\n",
       "      <td>1499.748140</td>\n",
       "    </tr>\n",
       "    <tr>\n",
       "      <th>22</th>\n",
       "      <td>ohe__neighborhood_StoneBr</td>\n",
       "      <td>7070.019932</td>\n",
       "    </tr>\n",
       "    <tr>\n",
       "      <th>23</th>\n",
       "      <td>ohe__neighborhood_Timber</td>\n",
       "      <td>530.972486</td>\n",
       "    </tr>\n",
       "    <tr>\n",
       "      <th>27</th>\n",
       "      <td>ohe__roof_style_Hip</td>\n",
       "      <td>4080.169520</td>\n",
       "    </tr>\n",
       "    <tr>\n",
       "      <th>28</th>\n",
       "      <td>ohe__roof_style_Mansard</td>\n",
       "      <td>-1003.946889</td>\n",
       "    </tr>\n",
       "    <tr>\n",
       "      <th>32</th>\n",
       "      <td>ohe__roof_matl_WdShngl</td>\n",
       "      <td>2150.114918</td>\n",
       "    </tr>\n",
       "    <tr>\n",
       "      <th>35</th>\n",
       "      <td>ohe__exterior_1st_BrkFace</td>\n",
       "      <td>700.681327</td>\n",
       "    </tr>\n",
       "    <tr>\n",
       "      <th>36</th>\n",
       "      <td>ohe__exterior_1st_CemntBd</td>\n",
       "      <td>1371.059523</td>\n",
       "    </tr>\n",
       "    <tr>\n",
       "      <th>37</th>\n",
       "      <td>ohe__exterior_1st_HdBoard</td>\n",
       "      <td>-705.869755</td>\n",
       "    </tr>\n",
       "    <tr>\n",
       "      <th>40</th>\n",
       "      <td>ohe__exterior_1st_Stucco</td>\n",
       "      <td>-1865.148739</td>\n",
       "    </tr>\n",
       "    <tr>\n",
       "      <th>42</th>\n",
       "      <td>ohe__exterior_1st_Wd Sdng</td>\n",
       "      <td>-803.336273</td>\n",
       "    </tr>\n",
       "    <tr>\n",
       "      <th>53</th>\n",
       "      <td>ohe__exterior_2nd_Stucco</td>\n",
       "      <td>-279.309181</td>\n",
       "    </tr>\n",
       "    <tr>\n",
       "      <th>58</th>\n",
       "      <td>ohe__heating_Grav</td>\n",
       "      <td>-178.601746</td>\n",
       "    </tr>\n",
       "    <tr>\n",
       "      <th>60</th>\n",
       "      <td>ohe__sale_type_Con</td>\n",
       "      <td>558.869718</td>\n",
       "    </tr>\n",
       "    <tr>\n",
       "      <th>64</th>\n",
       "      <td>ohe__sale_type_New</td>\n",
       "      <td>3733.582338</td>\n",
       "    </tr>\n",
       "    <tr>\n",
       "      <th>65</th>\n",
       "      <td>ohe__sale_type_Oth</td>\n",
       "      <td>203.806902</td>\n",
       "    </tr>\n",
       "    <tr>\n",
       "      <th>69</th>\n",
       "      <td>remainder__ms_subclass</td>\n",
       "      <td>-2959.948266</td>\n",
       "    </tr>\n",
       "    <tr>\n",
       "      <th>71</th>\n",
       "      <td>remainder__lot_area</td>\n",
       "      <td>3284.918773</td>\n",
       "    </tr>\n",
       "    <tr>\n",
       "      <th>77</th>\n",
       "      <td>remainder__lot_config</td>\n",
       "      <td>1154.158257</td>\n",
       "    </tr>\n",
       "    <tr>\n",
       "      <th>78</th>\n",
       "      <td>remainder__land_slope</td>\n",
       "      <td>-1411.147328</td>\n",
       "    </tr>\n",
       "    <tr>\n",
       "      <th>79</th>\n",
       "      <td>remainder__condition_1</td>\n",
       "      <td>1475.138677</td>\n",
       "    </tr>\n",
       "    <tr>\n",
       "      <th>81</th>\n",
       "      <td>remainder__bldg_type</td>\n",
       "      <td>5267.713246</td>\n",
       "    </tr>\n",
       "    <tr>\n",
       "      <th>83</th>\n",
       "      <td>remainder__overall_qual</td>\n",
       "      <td>17758.166006</td>\n",
       "    </tr>\n",
       "    <tr>\n",
       "      <th>84</th>\n",
       "      <td>remainder__overall_cond</td>\n",
       "      <td>2393.046865</td>\n",
       "    </tr>\n",
       "    <tr>\n",
       "      <th>85</th>\n",
       "      <td>remainder__year_built</td>\n",
       "      <td>4702.872774</td>\n",
       "    </tr>\n",
       "    <tr>\n",
       "      <th>86</th>\n",
       "      <td>remainder__year_remod/add</td>\n",
       "      <td>711.462344</td>\n",
       "    </tr>\n",
       "    <tr>\n",
       "      <th>87</th>\n",
       "      <td>remainder__exter_qual</td>\n",
       "      <td>7010.227980</td>\n",
       "    </tr>\n",
       "    <tr>\n",
       "      <th>89</th>\n",
       "      <td>remainder__bsmt_qual</td>\n",
       "      <td>2055.496081</td>\n",
       "    </tr>\n",
       "    <tr>\n",
       "      <th>90</th>\n",
       "      <td>remainder__bsmt_cond</td>\n",
       "      <td>-2000.256125</td>\n",
       "    </tr>\n",
       "    <tr>\n",
       "      <th>91</th>\n",
       "      <td>remainder__bsmt_exposure</td>\n",
       "      <td>4730.656254</td>\n",
       "    </tr>\n",
       "    <tr>\n",
       "      <th>92</th>\n",
       "      <td>remainder__bsmtfin_type_1</td>\n",
       "      <td>6360.989792</td>\n",
       "    </tr>\n",
       "    <tr>\n",
       "      <th>93</th>\n",
       "      <td>remainder__bsmtfin_type_2</td>\n",
       "      <td>-85.384618</td>\n",
       "    </tr>\n",
       "    <tr>\n",
       "      <th>94</th>\n",
       "      <td>remainder__heating_qc</td>\n",
       "      <td>1733.425350</td>\n",
       "    </tr>\n",
       "    <tr>\n",
       "      <th>97</th>\n",
       "      <td>remainder__1st_flr_sf</td>\n",
       "      <td>5474.048486</td>\n",
       "    </tr>\n",
       "    <tr>\n",
       "      <th>100</th>\n",
       "      <td>remainder__gr_liv_area</td>\n",
       "      <td>18245.434062</td>\n",
       "    </tr>\n",
       "    <tr>\n",
       "      <th>101</th>\n",
       "      <td>remainder__full_bath</td>\n",
       "      <td>2016.727615</td>\n",
       "    </tr>\n",
       "    <tr>\n",
       "      <th>102</th>\n",
       "      <td>remainder__half_bath</td>\n",
       "      <td>1505.673434</td>\n",
       "    </tr>\n",
       "    <tr>\n",
       "      <th>104</th>\n",
       "      <td>remainder__kitchen_abvgr</td>\n",
       "      <td>-254.246110</td>\n",
       "    </tr>\n",
       "    <tr>\n",
       "      <th>105</th>\n",
       "      <td>remainder__kitchen_qual</td>\n",
       "      <td>5748.490888</td>\n",
       "    </tr>\n",
       "    <tr>\n",
       "      <th>106</th>\n",
       "      <td>remainder__totrms_abvgrd</td>\n",
       "      <td>1342.528134</td>\n",
       "    </tr>\n",
       "    <tr>\n",
       "      <th>107</th>\n",
       "      <td>remainder__functional</td>\n",
       "      <td>2039.338079</td>\n",
       "    </tr>\n",
       "    <tr>\n",
       "      <th>108</th>\n",
       "      <td>remainder__fireplaces</td>\n",
       "      <td>3834.511937</td>\n",
       "    </tr>\n",
       "    <tr>\n",
       "      <th>111</th>\n",
       "      <td>remainder__garage_finish</td>\n",
       "      <td>869.617860</td>\n",
       "    </tr>\n",
       "    <tr>\n",
       "      <th>114</th>\n",
       "      <td>remainder__paved_drive</td>\n",
       "      <td>810.792845</td>\n",
       "    </tr>\n",
       "    <tr>\n",
       "      <th>115</th>\n",
       "      <td>remainder__wood_deck_sf</td>\n",
       "      <td>1655.587196</td>\n",
       "    </tr>\n",
       "    <tr>\n",
       "      <th>118</th>\n",
       "      <td>remainder__3ssn_porch</td>\n",
       "      <td>340.682124</td>\n",
       "    </tr>\n",
       "    <tr>\n",
       "      <th>119</th>\n",
       "      <td>remainder__screen_porch</td>\n",
       "      <td>4026.952723</td>\n",
       "    </tr>\n",
       "    <tr>\n",
       "      <th>120</th>\n",
       "      <td>remainder__pool_area</td>\n",
       "      <td>-2614.997247</td>\n",
       "    </tr>\n",
       "    <tr>\n",
       "      <th>122</th>\n",
       "      <td>remainder__misc_val</td>\n",
       "      <td>-5026.565620</td>\n",
       "    </tr>\n",
       "  </tbody>\n",
       "</table>\n",
       "</div>"
      ],
      "text/plain": [
       "                          feat          coef\n",
       "5    ohe__neighborhood_Crawfor   2477.382523\n",
       "6    ohe__neighborhood_Edwards  -2333.560534\n",
       "7    ohe__neighborhood_Gilbert     -4.519485\n",
       "9     ohe__neighborhood_IDOTRR   -126.054160\n",
       "11   ohe__neighborhood_Mitchel     98.681576\n",
       "15   ohe__neighborhood_NoRidge   5160.955972\n",
       "16   ohe__neighborhood_NridgHt  10896.106644\n",
       "17   ohe__neighborhood_OldTown    -91.797329\n",
       "20   ohe__neighborhood_SawyerW   -758.223892\n",
       "21   ohe__neighborhood_Somerst   1499.748140\n",
       "22   ohe__neighborhood_StoneBr   7070.019932\n",
       "23    ohe__neighborhood_Timber    530.972486\n",
       "27         ohe__roof_style_Hip   4080.169520\n",
       "28     ohe__roof_style_Mansard  -1003.946889\n",
       "32      ohe__roof_matl_WdShngl   2150.114918\n",
       "35   ohe__exterior_1st_BrkFace    700.681327\n",
       "36   ohe__exterior_1st_CemntBd   1371.059523\n",
       "37   ohe__exterior_1st_HdBoard   -705.869755\n",
       "40    ohe__exterior_1st_Stucco  -1865.148739\n",
       "42   ohe__exterior_1st_Wd Sdng   -803.336273\n",
       "53    ohe__exterior_2nd_Stucco   -279.309181\n",
       "58           ohe__heating_Grav   -178.601746\n",
       "60          ohe__sale_type_Con    558.869718\n",
       "64          ohe__sale_type_New   3733.582338\n",
       "65          ohe__sale_type_Oth    203.806902\n",
       "69      remainder__ms_subclass  -2959.948266\n",
       "71         remainder__lot_area   3284.918773\n",
       "77       remainder__lot_config   1154.158257\n",
       "78       remainder__land_slope  -1411.147328\n",
       "79      remainder__condition_1   1475.138677\n",
       "81        remainder__bldg_type   5267.713246\n",
       "83     remainder__overall_qual  17758.166006\n",
       "84     remainder__overall_cond   2393.046865\n",
       "85       remainder__year_built   4702.872774\n",
       "86   remainder__year_remod/add    711.462344\n",
       "87       remainder__exter_qual   7010.227980\n",
       "89        remainder__bsmt_qual   2055.496081\n",
       "90        remainder__bsmt_cond  -2000.256125\n",
       "91    remainder__bsmt_exposure   4730.656254\n",
       "92   remainder__bsmtfin_type_1   6360.989792\n",
       "93   remainder__bsmtfin_type_2    -85.384618\n",
       "94       remainder__heating_qc   1733.425350\n",
       "97       remainder__1st_flr_sf   5474.048486\n",
       "100     remainder__gr_liv_area  18245.434062\n",
       "101       remainder__full_bath   2016.727615\n",
       "102       remainder__half_bath   1505.673434\n",
       "104   remainder__kitchen_abvgr   -254.246110\n",
       "105    remainder__kitchen_qual   5748.490888\n",
       "106   remainder__totrms_abvgrd   1342.528134\n",
       "107      remainder__functional   2039.338079\n",
       "108      remainder__fireplaces   3834.511937\n",
       "111   remainder__garage_finish    869.617860\n",
       "114     remainder__paved_drive    810.792845\n",
       "115    remainder__wood_deck_sf   1655.587196\n",
       "118      remainder__3ssn_porch    340.682124\n",
       "119    remainder__screen_porch   4026.952723\n",
       "120       remainder__pool_area  -2614.997247\n",
       "122        remainder__misc_val  -5026.565620"
      ]
     },
     "execution_count": 258,
     "metadata": {},
     "output_type": "execute_result"
    }
   ],
   "source": [
    "lasso_coefs[lasso_coefs['coef'] != 0]"
   ]
  },
  {
   "cell_type": "code",
   "execution_count": 268,
   "id": "6458a5f9",
   "metadata": {},
   "outputs": [],
   "source": [
    "lasso_features = lasso_coefs[lasso_coefs['coef'] != 0]['feat']"
   ]
  },
  {
   "cell_type": "code",
   "execution_count": 269,
   "id": "81789b75",
   "metadata": {},
   "outputs": [
    {
     "data": {
      "text/plain": [
       "['ohe__neighborhood_Crawfor',\n",
       " 'ohe__neighborhood_Edwards',\n",
       " 'ohe__neighborhood_Gilbert',\n",
       " 'ohe__neighborhood_IDOTRR',\n",
       " 'ohe__neighborhood_Mitchel',\n",
       " 'ohe__neighborhood_NoRidge',\n",
       " 'ohe__neighborhood_NridgHt',\n",
       " 'ohe__neighborhood_OldTown',\n",
       " 'ohe__neighborhood_SawyerW',\n",
       " 'ohe__neighborhood_Somerst',\n",
       " 'ohe__neighborhood_StoneBr',\n",
       " 'ohe__neighborhood_Timber',\n",
       " 'ohe__roof_style_Hip',\n",
       " 'ohe__roof_style_Mansard',\n",
       " 'ohe__roof_matl_WdShngl',\n",
       " 'ohe__exterior_1st_BrkFace',\n",
       " 'ohe__exterior_1st_CemntBd',\n",
       " 'ohe__exterior_1st_HdBoard',\n",
       " 'ohe__exterior_1st_Stucco',\n",
       " 'ohe__exterior_1st_Wd Sdng',\n",
       " 'ohe__exterior_2nd_Stucco',\n",
       " 'ohe__heating_Grav',\n",
       " 'ohe__sale_type_Con',\n",
       " 'ohe__sale_type_New',\n",
       " 'ohe__sale_type_Oth',\n",
       " 'remainder__ms_subclass',\n",
       " 'remainder__lot_area',\n",
       " 'remainder__lot_config',\n",
       " 'remainder__land_slope',\n",
       " 'remainder__condition_1',\n",
       " 'remainder__bldg_type',\n",
       " 'remainder__overall_qual',\n",
       " 'remainder__overall_cond',\n",
       " 'remainder__year_built',\n",
       " 'remainder__year_remod/add',\n",
       " 'remainder__exter_qual',\n",
       " 'remainder__bsmt_qual',\n",
       " 'remainder__bsmt_cond',\n",
       " 'remainder__bsmt_exposure',\n",
       " 'remainder__bsmtfin_type_1',\n",
       " 'remainder__bsmtfin_type_2',\n",
       " 'remainder__heating_qc',\n",
       " 'remainder__1st_flr_sf',\n",
       " 'remainder__gr_liv_area',\n",
       " 'remainder__full_bath',\n",
       " 'remainder__half_bath',\n",
       " 'remainder__kitchen_abvgr',\n",
       " 'remainder__kitchen_qual',\n",
       " 'remainder__totrms_abvgrd',\n",
       " 'remainder__functional',\n",
       " 'remainder__fireplaces',\n",
       " 'remainder__garage_finish',\n",
       " 'remainder__paved_drive',\n",
       " 'remainder__wood_deck_sf',\n",
       " 'remainder__3ssn_porch',\n",
       " 'remainder__screen_porch',\n",
       " 'remainder__pool_area',\n",
       " 'remainder__misc_val']"
      ]
     },
     "execution_count": 269,
     "metadata": {},
     "output_type": "execute_result"
    }
   ],
   "source": [
    "lasso_features.to_list()"
   ]
  },
  {
   "cell_type": "markdown",
   "id": "aeea0999-e789-4e2a-9aa8-3f0ff4004c28",
   "metadata": {},
   "source": [
    "### Preprocessing"
   ]
  },
  {
   "cell_type": "code",
   "execution_count": 92,
   "id": "0e4fc130-3fb4-4894-bce7-415a0f901a4c",
   "metadata": {},
   "outputs": [
    {
     "data": {
      "text/html": [
       "<div>\n",
       "<style scoped>\n",
       "    .dataframe tbody tr th:only-of-type {\n",
       "        vertical-align: middle;\n",
       "    }\n",
       "\n",
       "    .dataframe tbody tr th {\n",
       "        vertical-align: top;\n",
       "    }\n",
       "\n",
       "    .dataframe thead th {\n",
       "        text-align: right;\n",
       "    }\n",
       "</style>\n",
       "<table border=\"1\" class=\"dataframe\">\n",
       "  <thead>\n",
       "    <tr style=\"text-align: right;\">\n",
       "      <th></th>\n",
       "      <th>ohe__neighborhood_Blueste</th>\n",
       "      <th>ohe__neighborhood_BrDale</th>\n",
       "      <th>ohe__neighborhood_BrkSide</th>\n",
       "      <th>ohe__neighborhood_ClearCr</th>\n",
       "      <th>ohe__neighborhood_CollgCr</th>\n",
       "      <th>ohe__neighborhood_Crawfor</th>\n",
       "      <th>ohe__neighborhood_Edwards</th>\n",
       "      <th>ohe__neighborhood_Gilbert</th>\n",
       "      <th>ohe__neighborhood_Greens</th>\n",
       "      <th>ohe__neighborhood_IDOTRR</th>\n",
       "      <th>...</th>\n",
       "      <th>remainder__misc_val</th>\n",
       "      <th>remainder__mo_sold</th>\n",
       "      <th>remainder__yr_sold</th>\n",
       "      <th>remainder__saleprice</th>\n",
       "      <th>remainder__pid_1</th>\n",
       "      <th>remainder__pid_2</th>\n",
       "      <th>remainder__pid_3</th>\n",
       "      <th>remainder__pid_4</th>\n",
       "      <th>remainder__fence_mat</th>\n",
       "      <th>remainder__fence_priv</th>\n",
       "    </tr>\n",
       "  </thead>\n",
       "  <tbody>\n",
       "    <tr>\n",
       "      <th>0</th>\n",
       "      <td>0.0</td>\n",
       "      <td>0.0</td>\n",
       "      <td>0.0</td>\n",
       "      <td>0.0</td>\n",
       "      <td>0.0</td>\n",
       "      <td>0.0</td>\n",
       "      <td>0.0</td>\n",
       "      <td>0.0</td>\n",
       "      <td>0.0</td>\n",
       "      <td>0.0</td>\n",
       "      <td>...</td>\n",
       "      <td>0</td>\n",
       "      <td>3</td>\n",
       "      <td>2010</td>\n",
       "      <td>130500</td>\n",
       "      <td>5</td>\n",
       "      <td>33</td>\n",
       "      <td>352</td>\n",
       "      <td>170</td>\n",
       "      <td>0</td>\n",
       "      <td>0</td>\n",
       "    </tr>\n",
       "    <tr>\n",
       "      <th>1</th>\n",
       "      <td>0.0</td>\n",
       "      <td>0.0</td>\n",
       "      <td>0.0</td>\n",
       "      <td>0.0</td>\n",
       "      <td>0.0</td>\n",
       "      <td>0.0</td>\n",
       "      <td>0.0</td>\n",
       "      <td>0.0</td>\n",
       "      <td>0.0</td>\n",
       "      <td>0.0</td>\n",
       "      <td>...</td>\n",
       "      <td>0</td>\n",
       "      <td>4</td>\n",
       "      <td>2009</td>\n",
       "      <td>220000</td>\n",
       "      <td>5</td>\n",
       "      <td>31</td>\n",
       "      <td>379</td>\n",
       "      <td>50</td>\n",
       "      <td>0</td>\n",
       "      <td>0</td>\n",
       "    </tr>\n",
       "    <tr>\n",
       "      <th>2</th>\n",
       "      <td>0.0</td>\n",
       "      <td>0.0</td>\n",
       "      <td>0.0</td>\n",
       "      <td>0.0</td>\n",
       "      <td>0.0</td>\n",
       "      <td>0.0</td>\n",
       "      <td>0.0</td>\n",
       "      <td>0.0</td>\n",
       "      <td>0.0</td>\n",
       "      <td>0.0</td>\n",
       "      <td>...</td>\n",
       "      <td>0</td>\n",
       "      <td>1</td>\n",
       "      <td>2010</td>\n",
       "      <td>109000</td>\n",
       "      <td>5</td>\n",
       "      <td>35</td>\n",
       "      <td>304</td>\n",
       "      <td>180</td>\n",
       "      <td>0</td>\n",
       "      <td>0</td>\n",
       "    </tr>\n",
       "    <tr>\n",
       "      <th>3</th>\n",
       "      <td>0.0</td>\n",
       "      <td>0.0</td>\n",
       "      <td>0.0</td>\n",
       "      <td>0.0</td>\n",
       "      <td>0.0</td>\n",
       "      <td>0.0</td>\n",
       "      <td>0.0</td>\n",
       "      <td>0.0</td>\n",
       "      <td>0.0</td>\n",
       "      <td>0.0</td>\n",
       "      <td>...</td>\n",
       "      <td>0</td>\n",
       "      <td>4</td>\n",
       "      <td>2010</td>\n",
       "      <td>174000</td>\n",
       "      <td>9</td>\n",
       "      <td>16</td>\n",
       "      <td>386</td>\n",
       "      <td>60</td>\n",
       "      <td>0</td>\n",
       "      <td>0</td>\n",
       "    </tr>\n",
       "    <tr>\n",
       "      <th>4</th>\n",
       "      <td>0.0</td>\n",
       "      <td>0.0</td>\n",
       "      <td>0.0</td>\n",
       "      <td>0.0</td>\n",
       "      <td>0.0</td>\n",
       "      <td>0.0</td>\n",
       "      <td>0.0</td>\n",
       "      <td>0.0</td>\n",
       "      <td>0.0</td>\n",
       "      <td>0.0</td>\n",
       "      <td>...</td>\n",
       "      <td>0</td>\n",
       "      <td>3</td>\n",
       "      <td>2010</td>\n",
       "      <td>138500</td>\n",
       "      <td>9</td>\n",
       "      <td>6</td>\n",
       "      <td>425</td>\n",
       "      <td>45</td>\n",
       "      <td>0</td>\n",
       "      <td>0</td>\n",
       "    </tr>\n",
       "  </tbody>\n",
       "</table>\n",
       "<p>5 rows × 132 columns</p>\n",
       "</div>"
      ],
      "text/plain": [
       "   ohe__neighborhood_Blueste  ohe__neighborhood_BrDale  \\\n",
       "0                        0.0                       0.0   \n",
       "1                        0.0                       0.0   \n",
       "2                        0.0                       0.0   \n",
       "3                        0.0                       0.0   \n",
       "4                        0.0                       0.0   \n",
       "\n",
       "   ohe__neighborhood_BrkSide  ohe__neighborhood_ClearCr  \\\n",
       "0                        0.0                        0.0   \n",
       "1                        0.0                        0.0   \n",
       "2                        0.0                        0.0   \n",
       "3                        0.0                        0.0   \n",
       "4                        0.0                        0.0   \n",
       "\n",
       "   ohe__neighborhood_CollgCr  ohe__neighborhood_Crawfor  \\\n",
       "0                        0.0                        0.0   \n",
       "1                        0.0                        0.0   \n",
       "2                        0.0                        0.0   \n",
       "3                        0.0                        0.0   \n",
       "4                        0.0                        0.0   \n",
       "\n",
       "   ohe__neighborhood_Edwards  ohe__neighborhood_Gilbert  \\\n",
       "0                        0.0                        0.0   \n",
       "1                        0.0                        0.0   \n",
       "2                        0.0                        0.0   \n",
       "3                        0.0                        0.0   \n",
       "4                        0.0                        0.0   \n",
       "\n",
       "   ohe__neighborhood_Greens  ohe__neighborhood_IDOTRR  ...  \\\n",
       "0                       0.0                       0.0  ...   \n",
       "1                       0.0                       0.0  ...   \n",
       "2                       0.0                       0.0  ...   \n",
       "3                       0.0                       0.0  ...   \n",
       "4                       0.0                       0.0  ...   \n",
       "\n",
       "   remainder__misc_val  remainder__mo_sold  remainder__yr_sold  \\\n",
       "0                    0                   3                2010   \n",
       "1                    0                   4                2009   \n",
       "2                    0                   1                2010   \n",
       "3                    0                   4                2010   \n",
       "4                    0                   3                2010   \n",
       "\n",
       "   remainder__saleprice  remainder__pid_1  remainder__pid_2  remainder__pid_3  \\\n",
       "0                130500                 5                33               352   \n",
       "1                220000                 5                31               379   \n",
       "2                109000                 5                35               304   \n",
       "3                174000                 9                16               386   \n",
       "4                138500                 9                 6               425   \n",
       "\n",
       "   remainder__pid_4  remainder__fence_mat  remainder__fence_priv  \n",
       "0               170                     0                      0  \n",
       "1                50                     0                      0  \n",
       "2               180                     0                      0  \n",
       "3                60                     0                      0  \n",
       "4                45                     0                      0  \n",
       "\n",
       "[5 rows x 132 columns]"
      ]
     },
     "execution_count": 92,
     "metadata": {},
     "output_type": "execute_result"
    }
   ],
   "source": [
    "df_train.head()"
   ]
  },
  {
   "cell_type": "code",
   "execution_count": 98,
   "id": "bd799efd-0302-48bb-8989-68c7a5bcffb9",
   "metadata": {},
   "outputs": [],
   "source": [
    "#  Devin is dropping PID, I want to keep\n",
    "\n",
    "X = df_train.drop(columns = ['remainder__saleprice'])\n",
    "y = df_train['remainder__saleprice']"
   ]
  },
  {
   "cell_type": "code",
   "execution_count": 99,
   "id": "2886356a-bb50-4f34-907d-fe367d6f7bd2",
   "metadata": {},
   "outputs": [],
   "source": [
    "X_train, X_val, y_train, y_val = train_test_split(\n",
    "    X,\n",
    "    y,\n",
    "    test_size = 0.2,\n",
    "    random_state = 13\n",
    ")"
   ]
  },
  {
   "cell_type": "code",
   "execution_count": 100,
   "id": "5bdc4100-439b-4b55-a4c7-536747b503ed",
   "metadata": {},
   "outputs": [
    {
     "data": {
      "text/plain": [
       "((1640, 131), (411, 131), (1640,), (411,))"
      ]
     },
     "execution_count": 100,
     "metadata": {},
     "output_type": "execute_result"
    }
   ],
   "source": []
  },
  {
   "cell_type": "code",
   "execution_count": 101,
   "id": "af8ca956",
   "metadata": {},
   "outputs": [],
   "source": [
    "ss = StandardScaler()"
   ]
  },
  {
   "cell_type": "code",
   "execution_count": 103,
   "id": "fcca3ba6",
   "metadata": {},
   "outputs": [],
   "source": []
  },
  {
   "cell_type": "code",
   "execution_count": null,
   "id": "99773c24",
   "metadata": {},
   "outputs": [],
   "source": []
  },
  {
   "cell_type": "code",
   "execution_count": null,
   "id": "7ab0edda",
   "metadata": {},
   "outputs": [],
   "source": []
  },
  {
   "cell_type": "code",
   "execution_count": null,
   "id": "56d49e65-bc44-4518-bcca-36abb92df9d8",
   "metadata": {
    "scrolled": true
   },
   "outputs": [],
   "source": []
  },
  {
   "cell_type": "code",
   "execution_count": 104,
   "id": "325bcd31-bfc3-4c48-9bcc-d4178178179c",
   "metadata": {},
   "outputs": [
    {
     "name": "stderr",
     "output_type": "stream",
     "text": [
      "C:\\Anaconda\\lib\\site-packages\\statsmodels\\stats\\outliers_influence.py:195: RuntimeWarning: divide by zero encountered in double_scalars\n",
      "  vif = 1. / (1. - r_squared_i)\n",
      "C:\\Anaconda\\lib\\site-packages\\statsmodels\\regression\\linear_model.py:1736: RuntimeWarning: divide by zero encountered in double_scalars\n",
      "  return 1 - self.ssr/self.centered_tss\n"
     ]
    }
   ],
   "source": [
    "x = [(X_train.columns[col], variance_inflation_factor(X_train.values,col)) for col in range(len(X_train.columns))]"
   ]
  },
  {
   "cell_type": "code",
   "execution_count": 105,
   "id": "9894ab08-b263-4bfc-b35c-6a646cddca9d",
   "metadata": {},
   "outputs": [
    {
     "data": {
      "text/plain": [
       "[('remainder__pid', inf),\n",
       " ('remainder__1st_flr_sf', inf),\n",
       " ('remainder__2nd_flr_sf', inf),\n",
       " ('remainder__low_qual_fin_sf', inf),\n",
       " ('remainder__gr_liv_area', inf),\n",
       " ('remainder__pid_1', inf),\n",
       " ('remainder__pid_3', 15037060525444.06),\n",
       " ('remainder__pid_4', 4535347056767.871),\n",
       " ('remainder__pid_2', 3539174559819.643),\n",
       " ('remainder__id', 266.64272436896056),\n",
       " ('remainder__yr_sold', 255.94159565910786),\n",
       " ('ohe__roof_style_Gable', 66.04239696707619),\n",
       " ('ohe__roof_style_Hip', 63.090983808331835),\n",
       " ('ohe__exterior_2nd_VinylSd', 53.18144188360774),\n",
       " ('ohe__exterior_1st_VinylSd', 51.13398178423453),\n",
       " ('ohe__exterior_2nd_CmentBd', 43.89393660899154),\n",
       " ('ohe__exterior_2nd_MetalSd', 43.22912821292055),\n",
       " ('ohe__exterior_1st_CemntBd', 42.86723902936646),\n",
       " ('ohe__exterior_1st_MetalSd', 42.85474856282913),\n",
       " ('ohe__exterior_1st_HdBoard', 23.709301524030728),\n",
       " ('ohe__exterior_2nd_HdBoard', 23.640525755913117),\n",
       " ('ohe__exterior_2nd_Wd Sdng', 19.76780405283245),\n",
       " ('ohe__exterior_1st_Wd Sdng', 19.750248552269483),\n",
       " ('ohe__neighborhood_NAmes', 19.23054814595343),\n",
       " ('ohe__exterior_2nd_Plywood', 15.839320486337778),\n",
       " ('ohe__neighborhood_CollgCr', 14.592709464676064),\n",
       " ('ohe__neighborhood_OldTown', 13.17814747527583),\n",
       " ('ohe__exterior_1st_Plywood', 13.097479845145209),\n",
       " ('ohe__neighborhood_Mitchel', 12.83379682908363),\n",
       " ('ohe__neighborhood_Edwards', 11.427903525293319),\n",
       " ('remainder__year_built', 10.1998486580689),\n",
       " ('ohe__neighborhood_Somerst', 8.61872251762344),\n",
       " ('ohe__neighborhood_IDOTRR', 8.347177533964258),\n",
       " ('ohe__neighborhood_Sawyer', 8.316334077097732),\n",
       " ('ohe__neighborhood_NridgHt', 8.178707755056328),\n",
       " ('ohe__exterior_2nd_Brk Cmn', 7.7621901796947865),\n",
       " ('ohe__neighborhood_Gilbert', 7.6830730149047355),\n",
       " ('remainder__house_style', 7.577664539255813),\n",
       " ('ohe__neighborhood_Crawfor', 7.399550973243194),\n",
       " ('ohe__neighborhood_BrkSide', 6.932213457904051),\n",
       " ('remainder__garage_cond', 6.9084687758957815),\n",
       " ('remainder__garage_qual', 6.824622208371538),\n",
       " ('remainder__bldg_type', 6.817303373542816),\n",
       " ('ohe__neighborhood_SawyerW', 6.764259631119565),\n",
       " ('ohe__neighborhood_Timber', 6.629636636502966),\n",
       " ('ohe__neighborhood_NWAmes', 6.429957510099113),\n",
       " ('ohe__neighborhood_NPkVill', 6.013270458924458),\n",
       " ('remainder__ms_subclass', 5.929874780556294),\n",
       " ('ohe__exterior_2nd_Wd Shng', 5.814452288729009),\n",
       " ('ohe__neighborhood_MeadowV', 5.598530053874417),\n",
       " ('ohe__exterior_1st_BrkFace', 5.391691614639789),\n",
       " ('remainder__totrms_abvgrd', 5.214706422688057),\n",
       " ('remainder__overall_qual', 4.692406474962889),\n",
       " ('ohe__exterior_1st_WdShing', 4.433998904737091),\n",
       " ('ohe__neighborhood_NoRidge', 4.277756672848851),\n",
       " ('ohe__sale_type_WD ', 4.214900632421891),\n",
       " ('ohe__sale_type_New', 4.121930054069931),\n",
       " ('remainder__pool_area', 4.0059883850852005),\n",
       " ('remainder__exter_qual', 3.9907647314484813),\n",
       " ('ohe__neighborhood_SWISU', 3.8745345879353974),\n",
       " ('ohe__exterior_2nd_BrkFace', 3.8250993754861358),\n",
       " ('remainder__pool_qc', 3.805118207667349),\n",
       " ('ohe__neighborhood_ClearCr', 3.790768899239667),\n",
       " ('ohe__exterior_2nd_Stucco', 3.736468668713841),\n",
       " ('remainder__bsmt_qual', 3.6917699352877986),\n",
       " ('ohe__exterior_1st_Stucco', 3.6163171155159466),\n",
       " ('remainder__fireplaces', 3.4864847144124385),\n",
       " ('ohe__roof_style_Gambrel', 3.426800593988472),\n",
       " ('remainder__ms_zoning', 3.4189413162474533),\n",
       " ('remainder__year_remod/add', 3.3813435767789906),\n",
       " ('ohe__neighborhood_StoneBr', 3.3691551736680396),\n",
       " ('remainder__full_bath', 3.2729631971301245),\n",
       " ('ohe__roof_style_Mansard', 3.0922085895032594),\n",
       " ('remainder__kitchen_qual', 3.0021942406438487),\n",
       " ('remainder__bedroom_abvgr', 2.9659364210993187),\n",
       " ('remainder__fireplace_qu', 2.889676723710497),\n",
       " ('ohe__exterior_1st_BrkComm', 2.7176871901791184),\n",
       " ('remainder__garage_type', 2.6968175753172865),\n",
       " ('remainder__half_bath', 2.565745597946816),\n",
       " ('ohe__roof_matl_Tar&Grv', 2.49680533924771),\n",
       " ('remainder__garage_finish', 2.436477805463956),\n",
       " ('ohe__neighborhood_BrDale', 2.4214156715744086),\n",
       " ('ohe__neighborhood_Veenker', 2.3827574134931173),\n",
       " ('ohe__exterior_2nd_AsphShn', 2.231924236189726),\n",
       " ('remainder__overall_cond', 2.2245612703175017),\n",
       " ('remainder__heating_qc', 2.157776304557995),\n",
       " ('remainder__kitchen_abvgr', 2.10832453008984),\n",
       " ('remainder__bsmt_cond', 2.03365116539491),\n",
       " ('remainder__lot_area', 2.0210051446447492),\n",
       " ('ohe__exterior_2nd_ImStucc', 1.9566720525651777),\n",
       " ('remainder__bsmt_exposure', 1.9031660118303453),\n",
       " ('remainder__central_air', 1.8890185159090427),\n",
       " ('remainder__paved_drive', 1.8767506025942755),\n",
       " ('ohe__exterior_1st_AsphShn', 1.835136681242648),\n",
       " ('ohe__neighborhood_Blueste', 1.755954994889449),\n",
       " ('remainder__bsmtfin_type_2', 1.7280462372321983),\n",
       " ('ohe__roof_style_Shed', 1.709204890341105),\n",
       " ('remainder__electrical', 1.5523412501658784),\n",
       " ('ohe__roof_matl_WdShake', 1.5447414916522282),\n",
       " ('remainder__alley', 1.52383357083108),\n",
       " ('remainder__bsmtfin_type_1', 1.5220063135250366),\n",
       " ('ohe__sale_type_ConLD', 1.4459111563106986),\n",
       " ('remainder__exter_cond', 1.427739301453397),\n",
       " ('remainder__open_porch_sf', 1.4231937373626016),\n",
       " ('remainder__land_slope', 1.4215979222165451),\n",
       " ('ohe__roof_matl_WdShngl', 1.4162708477432198),\n",
       " ('remainder__wood_deck_sf', 1.4077922724485814),\n",
       " ('remainder__enclosed_porch', 1.406563786152669),\n",
       " ('remainder__lot_shape', 1.4005891121636855),\n",
       " ('remainder__functional', 1.3741431990729966),\n",
       " ('ohe__exterior_2nd_CBlock', 1.3721186775387189),\n",
       " ('remainder__condition_1', 1.3262607259673158),\n",
       " ('remainder__condition_2', 1.3244208187795188),\n",
       " ('ohe__neighborhood_Greens', 1.3229073669685258),\n",
       " ('ohe__heating_GasW', 1.2798049047771118),\n",
       " ('remainder__fence_priv', 1.2573909560472765),\n",
       " ('remainder__screen_porch', 1.2056090213609518),\n",
       " ('ohe__sale_type_CWD', 1.1950427803316033),\n",
       " ('remainder__misc_val', 1.1940963172556893),\n",
       " ('ohe__sale_type_ConLI', 1.1811732433467652),\n",
       " ('ohe__heating_Grav', 1.1524994476927675),\n",
       " ('remainder__fence_mat', 1.1522838296412758),\n",
       " ('remainder__street', 1.1501050724892208),\n",
       " ('remainder__lot_config', 1.1453212520328835),\n",
       " ('remainder__mo_sold', 1.139622363817642),\n",
       " ('ohe__sale_type_ConLw', 1.1390646191064357),\n",
       " ('ohe__sale_type_Oth', 1.1228682172034046),\n",
       " ('remainder__utilities', 1.1140314294405351),\n",
       " ('ohe__sale_type_Con', 1.1100224131133571),\n",
       " ('remainder__3ssn_porch', 1.0895094379888914),\n",
       " ('remainder__land_contour', 0.0)]"
      ]
     },
     "execution_count": 105,
     "metadata": {},
     "output_type": "execute_result"
    }
   ],
   "source": [
    "sorted(x, key=lambda x: x[1], reverse=True)"
   ]
  },
  {
   "cell_type": "code",
   "execution_count": 106,
   "id": "490e06bc-bfb6-478b-b645-76b97890eb72",
   "metadata": {},
   "outputs": [
    {
     "name": "stderr",
     "output_type": "stream",
     "text": [
      "C:\\Users\\Ari\\anaconda3\\lib\\site-packages\\statsmodels\\stats\\outliers_influence.py:195: RuntimeWarning: divide by zero encountered in double_scalars\n",
      "  vif = 1. / (1. - r_squared_i)\n"
     ]
    },
    {
     "data": {
      "text/plain": [
       "[['remainder__1st_flr_sf', inf],\n",
       " ['remainder__2nd_flr_sf', inf],\n",
       " ['remainder__low_qual_fin_sf', inf],\n",
       " ['remainder__gr_liv_area', inf],\n",
       " ['remainder__land_contour', 601655866.6522424],\n",
       " ['remainder__id', 266.21554607405176],\n",
       " ['remainder__yr_sold', 255.54942084862964],\n",
       " ['remainder__pid_1', 151.8047448370827],\n",
       " ['remainder__pid_2', 81.44374338575624],\n",
       " ['ohe__roof_style_Gable', 65.97538014458682],\n",
       " ['ohe__roof_style_Hip', 63.03357798247711],\n",
       " ['ohe__exterior_2nd_VinylSd', 53.08676586175367],\n",
       " ['ohe__exterior_1st_VinylSd', 50.768163209451245],\n",
       " ['ohe__exterior_2nd_CmentBd', 43.878158667789734],\n",
       " ['ohe__exterior_2nd_MetalSd', 43.103468669392086],\n",
       " ['ohe__exterior_1st_CemntBd', 42.86419425641411],\n",
       " ['ohe__exterior_1st_MetalSd', 42.63763925511131],\n",
       " ['ohe__exterior_1st_HdBoard', 23.666797004952787],\n",
       " ['ohe__exterior_2nd_HdBoard', 23.62160372784145],\n",
       " ['ohe__exterior_2nd_Wd Sdng', 19.739035171951024],\n",
       " ['ohe__exterior_1st_Wd Sdng', 19.657973289218013],\n",
       " ['ohe__neighborhood_NAmes', 19.17377162578563],\n",
       " ['ohe__exterior_2nd_Plywood', 15.827957845678394],\n",
       " ['ohe__neighborhood_CollgCr', 14.58293513686047],\n",
       " ['ohe__neighborhood_OldTown', 13.158570396465255],\n",
       " ['ohe__exterior_1st_Plywood', 13.073376078407946],\n",
       " ['ohe__neighborhood_Mitchel', 12.822847633004395],\n",
       " ['ohe__neighborhood_Edwards', 11.421631648022942],\n",
       " ['remainder__year_built', 10.182904376738536],\n",
       " ['ohe__neighborhood_Somerst', 8.610068759601315],\n",
       " ['ohe__neighborhood_IDOTRR', 8.330779042540595],\n",
       " ['ohe__neighborhood_Sawyer', 8.308114522668046],\n",
       " ['ohe__neighborhood_NridgHt', 8.175888070149961],\n",
       " ['ohe__exterior_2nd_Brk Cmn', 7.760464611283358],\n",
       " ['ohe__neighborhood_Gilbert', 7.679638671662901],\n",
       " ['remainder__house_style', 7.5697616631854485],\n",
       " ['ohe__neighborhood_Crawfor', 7.390651730400063],\n",
       " ['ohe__neighborhood_BrkSide', 6.921579431150027],\n",
       " ['remainder__garage_cond', 6.908148335931239],\n",
       " ['remainder__garage_qual', 6.8244521185576845],\n",
       " ['remainder__bldg_type', 6.804443620524438],\n",
       " ['ohe__neighborhood_SawyerW', 6.763895665153355],\n",
       " ['ohe__neighborhood_Timber', 6.610575941996004],\n",
       " ['ohe__neighborhood_NWAmes', 6.4259370722372475],\n",
       " ['ohe__neighborhood_NPkVill', 6.005242722752418],\n",
       " ['remainder__ms_subclass', 5.92252022548845],\n",
       " ['ohe__exterior_2nd_Wd Shng', 5.802072648468036],\n",
       " ['ohe__neighborhood_MeadowV', 5.58710344659349],\n",
       " ['ohe__exterior_1st_BrkFace', 5.372703335677896],\n",
       " ['remainder__totrms_abvgrd', 5.214585435631702],\n",
       " ['remainder__overall_qual', 4.689508192761531],\n",
       " ['ohe__exterior_1st_WdShing', 4.4127771003181815],\n",
       " ['ohe__neighborhood_NoRidge', 4.272801054144051],\n",
       " ['ohe__sale_type_WD ', 4.214605072851113],\n",
       " ['ohe__sale_type_New', 4.121853991780546],\n",
       " ['remainder__pool_area', 3.986824068990132],\n",
       " ['remainder__exter_qual', 3.9719034148527936],\n",
       " ['ohe__neighborhood_SWISU', 3.8731759512738515],\n",
       " ['ohe__exterior_2nd_BrkFace', 3.8168470689009117],\n",
       " ['remainder__pool_qc', 3.792908271717711],\n",
       " ['ohe__neighborhood_ClearCr', 3.7882442251935196],\n",
       " ['ohe__exterior_2nd_Stucco', 3.7343351676893244],\n",
       " ['remainder__bsmt_qual', 3.686785752894372],\n",
       " ['ohe__exterior_1st_Stucco', 3.612891368384881],\n",
       " ['remainder__fireplaces', 3.484823374359036],\n",
       " ['ohe__roof_style_Gambrel', 3.4239984207822203],\n",
       " ['remainder__ms_zoning', 3.418099371708445],\n",
       " ['remainder__year_remod/add', 3.3744106908126223],\n",
       " ['ohe__neighborhood_StoneBr', 3.3662076423961684],\n",
       " ['remainder__full_bath', 3.265142604471301],\n",
       " ['ohe__roof_style_Mansard', 3.0848683968067774],\n",
       " ['remainder__kitchen_qual', 2.9998732820845704],\n",
       " ['remainder__bedroom_abvgr', 2.9649349300761676],\n",
       " ['remainder__fireplace_qu', 2.8818034993830075],\n",
       " ['ohe__exterior_1st_BrkComm', 2.7158764137569507],\n",
       " ['remainder__garage_type', 2.6746042604518423],\n",
       " ['remainder__half_bath', 2.5645299026017154],\n",
       " ['ohe__roof_matl_Tar&Grv', 2.4964627567976114],\n",
       " ['remainder__garage_finish', 2.4341591105594294],\n",
       " ['ohe__neighborhood_BrDale', 2.419908580439444],\n",
       " ['ohe__neighborhood_Veenker', 2.377304893025806],\n",
       " ['remainder__pid_3', 2.268027825096496],\n",
       " ['ohe__exterior_2nd_AsphShn', 2.2216135501600838],\n",
       " ['remainder__overall_cond', 2.2166557892541183],\n",
       " ['remainder__heating_qc', 2.1571911174397305],\n",
       " ['remainder__kitchen_abvgr', 2.1063761550494857],\n",
       " ['remainder__bsmt_cond', 2.027715723570849],\n",
       " ['remainder__lot_area', 2.014517206064892],\n",
       " ['ohe__exterior_2nd_ImStucc', 1.9545163785532165],\n",
       " ['remainder__bsmt_exposure', 1.8963914806487532],\n",
       " ['remainder__central_air', 1.8884400745925924],\n",
       " ['remainder__paved_drive', 1.8751282137323124],\n",
       " ['ohe__exterior_1st_AsphShn', 1.8317348763482353],\n",
       " ['ohe__neighborhood_Blueste', 1.7500823659932245],\n",
       " ['remainder__bsmtfin_type_2', 1.7265412376483342],\n",
       " ['ohe__roof_style_Shed', 1.7090119168494768],\n",
       " ['remainder__electrical', 1.5488179160779185],\n",
       " ['ohe__roof_matl_WdShake', 1.5436600784128442],\n",
       " ['remainder__alley', 1.52317094468968],\n",
       " ['remainder__bsmtfin_type_1', 1.5207538339475077],\n",
       " ['remainder__pid_4', 1.4886479262133228],\n",
       " ['ohe__sale_type_ConLD', 1.4447974510093324],\n",
       " ['remainder__exter_cond', 1.4268219503080277],\n",
       " ['remainder__open_porch_sf', 1.4228547503686455],\n",
       " ['remainder__land_slope', 1.4194091142061882],\n",
       " ['ohe__roof_matl_WdShngl', 1.4129434549273503],\n",
       " ['remainder__enclosed_porch', 1.4064346197503943],\n",
       " ['remainder__wood_deck_sf', 1.4012237185408598],\n",
       " ['remainder__lot_shape', 1.3994456958539347],\n",
       " ['remainder__functional', 1.3738284503782745],\n",
       " ['ohe__exterior_2nd_CBlock', 1.3673910949769268],\n",
       " ['remainder__condition_1', 1.325903162646437],\n",
       " ['remainder__condition_2', 1.3239837502227148],\n",
       " ['ohe__neighborhood_Greens', 1.322400681230757],\n",
       " ['ohe__heating_GasW', 1.2740846779522415],\n",
       " ['remainder__screen_porch', 1.2055135384769258],\n",
       " ['remainder__misc_val', 1.1936322151579268],\n",
       " ['ohe__sale_type_CWD', 1.193037105358722],\n",
       " ['ohe__sale_type_ConLI', 1.179868996437079],\n",
       " ['ohe__heating_Grav', 1.149857220585936],\n",
       " ['remainder__street', 1.1495844557381238],\n",
       " ['remainder__lot_config', 1.1452054571046777],\n",
       " ['remainder__mo_sold', 1.1383786272690035],\n",
       " ['ohe__sale_type_ConLw', 1.1378391021547782],\n",
       " ['ohe__sale_type_Oth', 1.1226517545664578],\n",
       " ['remainder__utilities', 1.1137361619018207],\n",
       " ['ohe__sale_type_Con', 1.1097105919641865],\n",
       " ['remainder__3ssn_porch', 1.089389960965202]]"
      ]
     },
     "execution_count": 106,
     "metadata": {},
     "output_type": "execute_result"
    }
   ],
   "source": [
    "##for df in [X_train,X_val,y,y_val]:\n",
    "##    df.drop(columns = ['remainder__pid'],inplace=True)\n",
    "##x = [[X_train.columns[col], variance_inflation_factor(X_train.values,col)] for col in range(len(X_train.columns))]\n",
    "##sorted(x, key=lambda x: x[1], reverse=True)"
   ]
  },
  {
   "cell_type": "code",
   "execution_count": 107,
   "id": "678686f6-2d70-41b6-8d7f-2e5e366e223b",
   "metadata": {},
   "outputs": [
    {
     "data": {
      "text/plain": [
       "[['remainder__land_contour', 601320435.9333848],\n",
       " ['remainder__id', 266.0787242626621],\n",
       " ['remainder__yr_sold', 255.41341829743826],\n",
       " ['remainder__pid_1', 151.78419881918936],\n",
       " ['remainder__pid_2', 81.40442592241811],\n",
       " ['ohe__roof_style_Gable', 65.92213602743976],\n",
       " ['ohe__roof_style_Hip', 62.99787289402879],\n",
       " ['ohe__exterior_2nd_VinylSd', 52.98633859665164],\n",
       " ['ohe__exterior_1st_VinylSd', 50.49375833503161],\n",
       " ['ohe__exterior_2nd_CmentBd', 43.716585906620146],\n",
       " ['ohe__exterior_2nd_MetalSd', 42.95400121762334],\n",
       " ['ohe__exterior_1st_CemntBd', 42.667894888371976],\n",
       " ['ohe__exterior_1st_MetalSd', 42.39081349041348],\n",
       " ['ohe__exterior_2nd_HdBoard', 23.542063198734663],\n",
       " ['ohe__exterior_1st_HdBoard', 23.526703242531568],\n",
       " ['ohe__exterior_2nd_Wd Sdng', 19.698980503533765],\n",
       " ['ohe__exterior_1st_Wd Sdng', 19.561410876424947],\n",
       " ['ohe__neighborhood_NAmes', 19.15925016091022],\n",
       " ['ohe__exterior_2nd_Plywood', 15.740628036820505],\n",
       " ['ohe__neighborhood_CollgCr', 14.566192170166266],\n",
       " ['ohe__neighborhood_OldTown', 13.1463637487429],\n",
       " ['ohe__exterior_1st_Plywood', 13.018849011173458],\n",
       " ['ohe__neighborhood_Mitchel', 12.812063880522807],\n",
       " ['ohe__neighborhood_Edwards', 11.420010887506695],\n",
       " ['remainder__year_built', 10.064407321833412],\n",
       " ['ohe__neighborhood_Somerst', 8.60779052528695],\n",
       " ['ohe__neighborhood_IDOTRR', 8.31381751423981],\n",
       " ['ohe__neighborhood_Sawyer', 8.302963958197296],\n",
       " ['ohe__neighborhood_NridgHt', 8.175596246803295],\n",
       " ['remainder__gr_liv_area', 7.81236203166049],\n",
       " ['ohe__exterior_2nd_Brk Cmn', 7.7274109096316],\n",
       " ['ohe__neighborhood_Gilbert', 7.676258067048997],\n",
       " ['ohe__neighborhood_Crawfor', 7.390439300152235],\n",
       " ['ohe__neighborhood_BrkSide', 6.9106377737967914],\n",
       " ['remainder__garage_cond', 6.905834821024428],\n",
       " ['remainder__bldg_type', 6.781612193805353],\n",
       " ['ohe__neighborhood_SawyerW', 6.7630702442396515],\n",
       " ['remainder__garage_qual', 6.762273962478412],\n",
       " ['ohe__neighborhood_Timber', 6.60891408483254],\n",
       " ['ohe__neighborhood_NWAmes', 6.415860183300236],\n",
       " ['ohe__neighborhood_NPkVill', 6.0013697469871135],\n",
       " ['remainder__ms_subclass', 5.89062424455487],\n",
       " ['ohe__exterior_2nd_Wd Shng', 5.791241166203879],\n",
       " ['ohe__neighborhood_MeadowV', 5.582519691177501],\n",
       " ['ohe__exterior_1st_BrkFace', 5.35031442985143],\n",
       " ['remainder__totrms_abvgrd', 5.193442154568089],\n",
       " ['remainder__overall_qual', 4.6025122413127955],\n",
       " ['ohe__exterior_1st_WdShing', 4.397313210657639],\n",
       " ['ohe__neighborhood_NoRidge', 4.265184221201258],\n",
       " ['ohe__sale_type_WD ', 4.206509559704291],\n",
       " ['ohe__sale_type_New', 4.118517097147309],\n",
       " ['remainder__house_style', 4.029123353709626],\n",
       " ['remainder__pool_area', 3.986769872020332],\n",
       " ['remainder__exter_qual', 3.9516369367685957],\n",
       " ['ohe__neighborhood_SWISU', 3.8378292896487864],\n",
       " ['ohe__exterior_2nd_BrkFace', 3.8003929444734],\n",
       " ['remainder__pool_qc', 3.790110440981572],\n",
       " ['ohe__neighborhood_ClearCr', 3.76745562289309],\n",
       " ['ohe__exterior_2nd_Stucco', 3.7274055074863166],\n",
       " ['remainder__bsmt_qual', 3.6861244683596888],\n",
       " ['ohe__exterior_1st_Stucco', 3.597530498849252],\n",
       " ['remainder__fireplaces', 3.468783798870169],\n",
       " ['ohe__roof_style_Gambrel', 3.419640318911227],\n",
       " ['remainder__ms_zoning', 3.4180598519565994],\n",
       " ['remainder__year_remod/add', 3.3715781916252703],\n",
       " ['ohe__neighborhood_StoneBr', 3.35835466668302],\n",
       " ['remainder__full_bath', 3.2302816161678094],\n",
       " ['ohe__roof_style_Mansard', 3.0828001378839263],\n",
       " ['remainder__kitchen_qual', 2.997472908861329],\n",
       " ['remainder__bedroom_abvgr', 2.9019080732441114],\n",
       " ['remainder__fireplace_qu', 2.8768813590274354],\n",
       " ['ohe__exterior_1st_BrkComm', 2.706879695094276],\n",
       " ['remainder__garage_type', 2.6558578817640455],\n",
       " ['ohe__roof_matl_Tar&Grv', 2.4962499410651393],\n",
       " ['remainder__garage_finish', 2.4333141876899447],\n",
       " ['ohe__neighborhood_BrDale', 2.4143144818331628],\n",
       " ['remainder__half_bath', 2.4122152884496533],\n",
       " ['ohe__neighborhood_Veenker', 2.3765875223136654],\n",
       " ['remainder__pid_3', 2.267013668029466],\n",
       " ['ohe__exterior_2nd_AsphShn', 2.220845407362313],\n",
       " ['remainder__overall_cond', 2.21236624502058],\n",
       " ['remainder__heating_qc', 2.155376880927128],\n",
       " ['remainder__kitchen_abvgr', 2.075965264991037],\n",
       " ['remainder__bsmt_cond', 2.0131534589244597],\n",
       " ['remainder__lot_area', 1.989346808424945],\n",
       " ['ohe__exterior_2nd_ImStucc', 1.949389893676531],\n",
       " ['remainder__central_air', 1.8860315867296227],\n",
       " ['remainder__paved_drive', 1.8705892801241701],\n",
       " ['ohe__exterior_1st_AsphShn', 1.8307742066985087],\n",
       " ['remainder__bsmt_exposure', 1.815635613005749],\n",
       " ['ohe__neighborhood_Blueste', 1.7488546308895299],\n",
       " ['remainder__bsmtfin_type_2', 1.7257553085561934],\n",
       " ['ohe__roof_style_Shed', 1.7050509884844465],\n",
       " ['remainder__electrical', 1.5443162047525392],\n",
       " ['ohe__roof_matl_WdShake', 1.5425971196667634],\n",
       " ['remainder__alley', 1.5226386902309232],\n",
       " ['remainder__bsmtfin_type_1', 1.5170922797699489],\n",
       " ['remainder__pid_4', 1.4866453972667824],\n",
       " ['ohe__sale_type_ConLD', 1.4428689152550105],\n",
       " ['remainder__exter_cond', 1.4227302260644599],\n",
       " ['remainder__open_porch_sf', 1.4188522928075396],\n",
       " ['remainder__land_slope', 1.4114610419010531],\n",
       " ['remainder__enclosed_porch', 1.4034848025644406],\n",
       " ['remainder__wood_deck_sf', 1.3998090544908453],\n",
       " ['remainder__lot_shape', 1.3992801377586042],\n",
       " ['ohe__roof_matl_WdShngl', 1.387858147279469],\n",
       " ['remainder__functional', 1.3665990469735614],\n",
       " ['ohe__exterior_2nd_CBlock', 1.3658493317569782],\n",
       " ['remainder__condition_1', 1.32343879519965],\n",
       " ['remainder__condition_2', 1.319729528747262],\n",
       " ['ohe__neighborhood_Greens', 1.3163566246357299],\n",
       " ['ohe__heating_GasW', 1.271676068921724],\n",
       " ['remainder__screen_porch', 1.2039337101810996],\n",
       " ['ohe__sale_type_CWD', 1.1925762936027005],\n",
       " ['remainder__misc_val', 1.1818474980535978],\n",
       " ['ohe__sale_type_ConLI', 1.1756256625649206],\n",
       " ['remainder__street', 1.149189424249164],\n",
       " ['ohe__heating_Grav', 1.1468876336891998],\n",
       " ['remainder__lot_config', 1.1443105241753118],\n",
       " ['remainder__mo_sold', 1.1381039268677067],\n",
       " ['ohe__sale_type_ConLw', 1.1370628855468643],\n",
       " ['ohe__sale_type_Oth', 1.1221989806203352],\n",
       " ['ohe__sale_type_Con', 1.1093443658786537],\n",
       " ['remainder__utilities', 1.1089870266173856],\n",
       " ['remainder__3ssn_porch', 1.0887630783894575]]"
      ]
     },
     "execution_count": 107,
     "metadata": {},
     "output_type": "execute_result"
    }
   ],
   "source": [
    "##for df in [X_train,X_val,y,y_val]:\n",
    "##    df.drop(columns = ['remainder__1st_flr_sf','remainder__2nd_flr_sf','remainder__low_qual_fin_sf'],inplace=True)\n",
    "##x = [[X_train.columns[col], variance_inflation_factor(X_train.values,col)] for col in range(len(X_train.columns))]\n",
    "##sorted(x, key=lambda x: x[1], reverse=True)"
   ]
  },
  {
   "cell_type": "code",
   "execution_count": 108,
   "id": "073b54ea-24e5-426a-814d-af0719892227",
   "metadata": {},
   "outputs": [
    {
     "data": {
      "text/plain": [
       "[['remainder__land_contour', 2774378.1306357663],\n",
       " ['remainder__pid_1', 80.75575079409946],\n",
       " ['ohe__roof_style_Gable', 65.88325125593414],\n",
       " ['ohe__roof_style_Hip', 62.95598887328536],\n",
       " ['ohe__exterior_2nd_VinylSd', 52.95299672828359],\n",
       " ['ohe__exterior_1st_VinylSd', 50.44828904601805],\n",
       " ['remainder__pid_2', 49.16234988741973],\n",
       " ['ohe__exterior_2nd_CmentBd', 43.59240681497448],\n",
       " ['ohe__exterior_2nd_MetalSd', 42.951337189644846],\n",
       " ['ohe__exterior_1st_CemntBd', 42.56348097824444],\n",
       " ['ohe__exterior_1st_MetalSd', 42.390244045450935],\n",
       " ['ohe__exterior_2nd_HdBoard', 23.5416542203916],\n",
       " ['ohe__exterior_1st_HdBoard', 23.518241942036855],\n",
       " ['ohe__exterior_2nd_Wd Sdng', 19.684745730309636],\n",
       " ['ohe__exterior_1st_Wd Sdng', 19.54500197002535],\n",
       " ['ohe__neighborhood_NAmes', 19.133290639676016],\n",
       " ['ohe__exterior_2nd_Plywood', 15.73824512660643],\n",
       " ['ohe__neighborhood_CollgCr', 14.533464162512653],\n",
       " ['ohe__neighborhood_OldTown', 13.135381300157709],\n",
       " ['ohe__exterior_1st_Plywood', 13.01875485977755],\n",
       " ['ohe__neighborhood_Mitchel', 12.428570034250242],\n",
       " ['ohe__neighborhood_Edwards', 11.385398524038896],\n",
       " ['remainder__year_built', 10.064105294082239],\n",
       " ['ohe__neighborhood_Somerst', 8.574433636663827],\n",
       " ['ohe__neighborhood_Sawyer', 8.297453383918642],\n",
       " ['ohe__neighborhood_IDOTRR', 8.292892540335492],\n",
       " ['ohe__neighborhood_NridgHt', 8.16872500684151],\n",
       " ['remainder__gr_liv_area', 7.810477100676702],\n",
       " ['ohe__exterior_2nd_Brk Cmn', 7.718990632338995],\n",
       " ['ohe__neighborhood_Gilbert', 7.671458148613716],\n",
       " ['ohe__neighborhood_Crawfor', 7.356597671010755],\n",
       " ['ohe__neighborhood_BrkSide', 6.907695708615362],\n",
       " ['remainder__garage_cond', 6.905581037710122],\n",
       " ['remainder__bldg_type', 6.766377690713913],\n",
       " ['remainder__garage_qual', 6.762230900940599],\n",
       " ['ohe__neighborhood_SawyerW', 6.761747989444049],\n",
       " ['ohe__neighborhood_Timber', 6.531068475530314],\n",
       " ['ohe__neighborhood_NWAmes', 6.412775475277144],\n",
       " ['ohe__neighborhood_NPkVill', 5.997443523085682],\n",
       " ['remainder__ms_subclass', 5.88631449226643],\n",
       " ['ohe__exterior_2nd_Wd Shng', 5.79043039240652],\n",
       " ['ohe__exterior_1st_BrkFace', 5.3462153489493645],\n",
       " ['ohe__neighborhood_MeadowV', 5.339784229988621],\n",
       " ['remainder__totrms_abvgrd', 5.187233563919897],\n",
       " ['remainder__overall_qual', 4.598748185247053],\n",
       " ['ohe__exterior_1st_WdShing', 4.397165011879767],\n",
       " ['ohe__neighborhood_NoRidge', 4.241183926139642],\n",
       " ['ohe__sale_type_WD ', 4.206504453729179],\n",
       " ['ohe__sale_type_New', 4.117311438955895],\n",
       " ['remainder__house_style', 4.028142330430726],\n",
       " ['remainder__pool_area', 3.9827985237323804],\n",
       " ['remainder__exter_qual', 3.9493705278767735],\n",
       " ['ohe__neighborhood_SWISU', 3.8262597979648763],\n",
       " ['ohe__exterior_2nd_BrkFace', 3.799330529556671],\n",
       " ['remainder__pool_qc', 3.7871806033284594],\n",
       " ['ohe__neighborhood_ClearCr', 3.764622463076437],\n",
       " ['ohe__exterior_2nd_Stucco', 3.726702177207824],\n",
       " ['remainder__bsmt_qual', 3.6765712540951085],\n",
       " ['ohe__exterior_1st_Stucco', 3.597027936426373],\n",
       " ['remainder__fireplaces', 3.46864913746178],\n",
       " ['ohe__roof_style_Gambrel', 3.419631011932207],\n",
       " ['remainder__ms_zoning', 3.417861183324655],\n",
       " ['remainder__year_remod/add', 3.3715249825491957],\n",
       " ['ohe__neighborhood_StoneBr', 3.3582275922732734],\n",
       " ['remainder__full_bath', 3.2300409238748995],\n",
       " ['ohe__roof_style_Mansard', 3.082448263642163],\n",
       " ['remainder__kitchen_qual', 2.9972475242668284],\n",
       " ['remainder__bedroom_abvgr', 2.901897874054029],\n",
       " ['remainder__fireplace_qu', 2.8725163823077033],\n",
       " ['ohe__exterior_1st_BrkComm', 2.7068693712163006],\n",
       " ['remainder__garage_type', 2.653278418463622],\n",
       " ['ohe__roof_matl_Tar&Grv', 2.496168616854491],\n",
       " ['remainder__garage_finish', 2.428132660164522],\n",
       " ['ohe__neighborhood_BrDale', 2.41365708439144],\n",
       " ['remainder__half_bath', 2.4112082198639757],\n",
       " ['ohe__neighborhood_Veenker', 2.3755782813140565],\n",
       " ['ohe__exterior_2nd_AsphShn', 2.2204818268863162],\n",
       " ['remainder__overall_cond', 2.20990435972819],\n",
       " ['remainder__pid_3', 2.1958341024023253],\n",
       " ['remainder__heating_qc', 2.155227652824105],\n",
       " ['remainder__kitchen_abvgr', 2.073223028969365],\n",
       " ['remainder__bsmt_cond', 2.0113937711875933],\n",
       " ['remainder__lot_area', 1.9888405537389635],\n",
       " ['ohe__exterior_2nd_ImStucc', 1.9492788650000228],\n",
       " ['remainder__central_air', 1.8860105530043232],\n",
       " ['remainder__paved_drive', 1.8704323187922929],\n",
       " ['ohe__exterior_1st_AsphShn', 1.830330821511017],\n",
       " ['remainder__bsmt_exposure', 1.8149380016495122],\n",
       " ['ohe__neighborhood_Blueste', 1.7476654381988208],\n",
       " ['remainder__bsmtfin_type_2', 1.7255264861336812],\n",
       " ['ohe__roof_style_Shed', 1.7050222714279164],\n",
       " ['remainder__electrical', 1.544111768932879],\n",
       " ['ohe__roof_matl_WdShake', 1.5425962085502405],\n",
       " ['remainder__alley', 1.5226273731101276],\n",
       " ['remainder__bsmtfin_type_1', 1.5170204894609205],\n",
       " ['remainder__pid_4', 1.4830549257113184],\n",
       " ['ohe__sale_type_ConLD', 1.4428672985101243],\n",
       " ['remainder__exter_cond', 1.4199047718925073],\n",
       " ['remainder__open_porch_sf', 1.4147643150791176],\n",
       " ['remainder__land_slope', 1.4113355990022778],\n",
       " ['remainder__enclosed_porch', 1.403190874200897],\n",
       " ['remainder__lot_shape', 1.3990634317695623],\n",
       " ['remainder__wood_deck_sf', 1.398395447357443],\n",
       " ['ohe__roof_matl_WdShngl', 1.3860960270221545],\n",
       " ['remainder__functional', 1.366212994648111],\n",
       " ['ohe__exterior_2nd_CBlock', 1.3652770382373305],\n",
       " ['remainder__condition_1', 1.322458762766708],\n",
       " ['remainder__condition_2', 1.3180930134752262],\n",
       " ['ohe__neighborhood_Greens', 1.3143405128554122],\n",
       " ['ohe__heating_GasW', 1.2716307675114364],\n",
       " ['remainder__screen_porch', 1.2038503754370806],\n",
       " ['ohe__sale_type_CWD', 1.1922616722224841],\n",
       " ['remainder__misc_val', 1.1815368655569598],\n",
       " ['ohe__sale_type_ConLI', 1.1752684053190774],\n",
       " ['remainder__street', 1.1483900267424516],\n",
       " ['ohe__heating_Grav', 1.1468768107675391],\n",
       " ['remainder__lot_config', 1.1439760594831598],\n",
       " ['remainder__yr_sold', 1.1438971752429938],\n",
       " ['ohe__sale_type_ConLw', 1.135871553748919],\n",
       " ['ohe__sale_type_Oth', 1.1216828030992705],\n",
       " ['ohe__sale_type_Con', 1.1093420181180058],\n",
       " ['remainder__utilities', 1.1089665533862572],\n",
       " ['remainder__mo_sold', 1.108032596670689],\n",
       " ['remainder__3ssn_porch', 1.0855776085034707]]"
      ]
     },
     "execution_count": 108,
     "metadata": {},
     "output_type": "execute_result"
    }
   ],
   "source": [
    "##for df in [X_train,X_val,y,y_val]:\n",
    "##    df.drop(columns = ['remainder__id'],inplace=True)\n",
    "##x = [[X_train.columns[col], variance_inflation_factor(X_train.values,col)] for col in range(len(X_train.columns))]\n",
    "##sorted(x, key=lambda x: x[1], reverse=True)"
   ]
  },
  {
   "cell_type": "code",
   "execution_count": null,
   "id": "5cce594c-d127-4989-b8d1-fac79faa8892",
   "metadata": {},
   "outputs": [],
   "source": []
  },
  {
   "cell_type": "code",
   "execution_count": null,
   "id": "e69ce9e5-484c-4472-ae99-e50b084d5fda",
   "metadata": {},
   "outputs": [],
   "source": []
  },
  {
   "cell_type": "code",
   "execution_count": null,
   "id": "83c9beb6-f5e1-46d3-8355-972424faffba",
   "metadata": {},
   "outputs": [],
   "source": []
  },
  {
   "cell_type": "code",
   "execution_count": null,
   "id": "8f308ca4-485f-4f18-9719-00832a9b8ddb",
   "metadata": {},
   "outputs": [],
   "source": []
  },
  {
   "cell_type": "code",
   "execution_count": null,
   "id": "c778286f-c10a-44ce-b2c6-1b5336f322db",
   "metadata": {},
   "outputs": [],
   "source": []
  },
  {
   "cell_type": "markdown",
   "id": "ee41c837-d6e3-4a30-a0ee-d10b452a5794",
   "metadata": {},
   "source": [
    "### Feature Engineering"
   ]
  },
  {
   "cell_type": "code",
   "execution_count": 298,
   "id": "d4750f7a",
   "metadata": {},
   "outputs": [],
   "source": [
    "X = df_train.loc[:,lasso_features]"
   ]
  },
  {
   "cell_type": "code",
   "execution_count": 300,
   "id": "72f731d7",
   "metadata": {},
   "outputs": [
    {
     "data": {
      "text/plain": [
       "(2051,)"
      ]
     },
     "execution_count": 300,
     "metadata": {},
     "output_type": "execute_result"
    }
   ],
   "source": [
    "y.shape"
   ]
  },
  {
   "cell_type": "code",
   "execution_count": 299,
   "id": "be66de5b",
   "metadata": {
    "scrolled": true
   },
   "outputs": [
    {
     "data": {
      "text/plain": [
       "(2051, 58)"
      ]
     },
     "execution_count": 299,
     "metadata": {},
     "output_type": "execute_result"
    }
   ],
   "source": [
    "X.shape"
   ]
  },
  {
   "cell_type": "code",
   "execution_count": 78,
   "id": "c79bcdd9-4185-45f1-8994-2c71ff12f0d2",
   "metadata": {},
   "outputs": [],
   "source": [
    "tr_id = X_train['id']\n",
    "val_id = X_val['id']"
   ]
  },
  {
   "cell_type": "code",
   "execution_count": 301,
   "id": "48b08436",
   "metadata": {},
   "outputs": [],
   "source": [
    "X_train,X_val,y_train,y_val = train_test_split(X, y, random_state = 42)"
   ]
  },
  {
   "cell_type": "code",
   "execution_count": null,
   "id": "fa4a6446",
   "metadata": {},
   "outputs": [],
   "source": []
  },
  {
   "cell_type": "code",
   "execution_count": 302,
   "id": "adec38a9-cf97-46a4-afd6-342a15539350",
   "metadata": {},
   "outputs": [],
   "source": [
    "poly = PolynomialFeatures(\n",
    "    degree = 2,\n",
    "    interaction_only = True,\n",
    "    include_bias = False\n",
    ")"
   ]
  },
  {
   "cell_type": "code",
   "execution_count": null,
   "id": "b4a7a7de-5745-4323-bf8e-21802647f2c1",
   "metadata": {},
   "outputs": [],
   "source": []
  },
  {
   "cell_type": "code",
   "execution_count": 303,
   "id": "d258e7ff-ff91-4aa4-9a31-40fd5294ca8e",
   "metadata": {},
   "outputs": [],
   "source": [
    "X_train = poly.fit_transform(\n",
    "    X_train\n",
    ")\n",
    "\n",
    "# Reconstruct DataFrame\n",
    "X_train = pd.DataFrame(X_train, columns = poly.get_feature_names_out())\n",
    "\n",
    "X_val = poly.fit_transform(\n",
    "    X_val\n",
    ")\n",
    "\n",
    "# Reconstruct DataFrame\n",
    "X_val = pd.DataFrame(X_val, columns = poly.get_feature_names_out())"
   ]
  },
  {
   "cell_type": "code",
   "execution_count": 304,
   "id": "ca5bdc33-378f-4859-b9a3-8a4f8f94efb9",
   "metadata": {},
   "outputs": [
    {
     "data": {
      "text/plain": [
       "((1538, 1711), (513, 1711))"
      ]
     },
     "execution_count": 304,
     "metadata": {},
     "output_type": "execute_result"
    }
   ],
   "source": [
    "#  300 permutations (25*24/2) + original 25 features\n",
    "\n",
    "X_train.shape,X_val.shape"
   ]
  },
  {
   "cell_type": "code",
   "execution_count": null,
   "id": "ce103f70-d925-4f25-9b69-4881a3c4e2fc",
   "metadata": {},
   "outputs": [],
   "source": [
    "X_train.corr()"
   ]
  },
  {
   "cell_type": "code",
   "execution_count": null,
   "id": "192ee11d-21db-4d6d-890b-4849bca765ef",
   "metadata": {},
   "outputs": [],
   "source": []
  },
  {
   "cell_type": "code",
   "execution_count": null,
   "id": "0592a71d-8d59-476f-84cc-0763fcd615fe",
   "metadata": {},
   "outputs": [],
   "source": []
  },
  {
   "cell_type": "code",
   "execution_count": null,
   "id": "f7cd9c1c-5321-4617-b44d-fb2646abd4e4",
   "metadata": {},
   "outputs": [],
   "source": []
  },
  {
   "cell_type": "markdown",
   "id": "3bacdc7d-2724-495e-9d27-4a14a079287e",
   "metadata": {},
   "source": [
    "### More Pre-Processing"
   ]
  },
  {
   "cell_type": "code",
   "execution_count": 305,
   "id": "9caa8865-035a-49d5-9401-0d39712c0e48",
   "metadata": {},
   "outputs": [],
   "source": [
    "#  Scaling\n",
    "\n",
    "ss = StandardScaler()\n",
    "X_train_sc = ss.fit_transform(X_train)\n",
    "X_train_sc = pd.DataFrame(X_train_sc, columns = ss.get_feature_names_out())\n",
    "\n",
    "X_val_sc = pd.DataFrame(ss.transform(X_val), columns = ss.get_feature_names_out())"
   ]
  },
  {
   "cell_type": "markdown",
   "id": "40e7d0a0-d810-43ee-8296-0638f5d122c0",
   "metadata": {},
   "source": [
    "### Modeling and Evaluation"
   ]
  },
  {
   "cell_type": "markdown",
   "id": "8d5a21c7-4c7a-4e52-8f3a-5938cdbbbcd6",
   "metadata": {},
   "source": [
    "####  Linear Model"
   ]
  },
  {
   "cell_type": "code",
   "execution_count": 82,
   "id": "62eaf63a-0776-4140-b01a-f83e51f4cab1",
   "metadata": {},
   "outputs": [],
   "source": [
    "#  Create baseline (null) model and get score\n",
    "#  (Always predict mean_y)"
   ]
  },
  {
   "cell_type": "code",
   "execution_count": 277,
   "id": "fb443f86-9120-4865-9b80-21bddcd9ae87",
   "metadata": {},
   "outputs": [
    {
     "data": {
      "text/plain": [
       "LinearRegression()"
      ]
     },
     "execution_count": 277,
     "metadata": {},
     "output_type": "execute_result"
    }
   ],
   "source": [
    "lr = LinearRegression()\n",
    "\n",
    "# fit to scaled trained data\n",
    "lr.fit(Xs_train,y_train)"
   ]
  },
  {
   "cell_type": "code",
   "execution_count": 278,
   "id": "13b8d903-0749-487e-9387-f63c17f3f768",
   "metadata": {},
   "outputs": [
    {
     "data": {
      "text/plain": [
       "array([-1.54763527e+18, -9.24276470e+19, -4.85803034e+21, -5.18081701e+20,\n",
       "       -1.54950500e+20])"
      ]
     },
     "execution_count": 278,
     "metadata": {},
     "output_type": "execute_result"
    }
   ],
   "source": [
    "cross_val_score(lr,Xs_train,y_train)"
   ]
  },
  {
   "cell_type": "code",
   "execution_count": 279,
   "id": "c84198cc-7d5c-43ba-8cd5-a6354692d06d",
   "metadata": {},
   "outputs": [
    {
     "data": {
      "text/plain": [
       "0.9913722218851964"
      ]
     },
     "execution_count": 279,
     "metadata": {},
     "output_type": "execute_result"
    }
   ],
   "source": [
    "lr.score(Xs_train,y_train)"
   ]
  },
  {
   "cell_type": "code",
   "execution_count": 280,
   "id": "00a25601-9101-45cc-8a03-af4719c11a6c",
   "metadata": {},
   "outputs": [
    {
     "data": {
      "text/plain": [
       "-2.1431293688543795e+23"
      ]
     },
     "execution_count": 280,
     "metadata": {},
     "output_type": "execute_result"
    }
   ],
   "source": [
    "lr.score(Xs_val,y_val)"
   ]
  },
  {
   "cell_type": "code",
   "execution_count": 281,
   "id": "4d06cfe5-5cc0-466c-9da6-53f66b3b8204",
   "metadata": {},
   "outputs": [],
   "source": [
    "#  Horribly overfit!!!  Way too many features!!!"
   ]
  },
  {
   "cell_type": "code",
   "execution_count": 282,
   "id": "41085200-d537-489c-8569-6dd63c4fe2c0",
   "metadata": {},
   "outputs": [
    {
     "data": {
      "text/plain": [
       "7386.917976999711"
      ]
     },
     "execution_count": 282,
     "metadata": {},
     "output_type": "execute_result"
    }
   ],
   "source": [
    "#  Rank by RMSE\n",
    "\n",
    "mean_squared_error(y_train, lr.predict(Xs_train),squared=False)\n",
    "\n",
    "# Average prediction off by 21k on train"
   ]
  },
  {
   "cell_type": "code",
   "execution_count": 283,
   "id": "25517d90-66a5-4157-b30e-fd8357ddc210",
   "metadata": {},
   "outputs": [
    {
     "data": {
      "text/plain": [
       "3.627515310101602e+16"
      ]
     },
     "execution_count": 283,
     "metadata": {},
     "output_type": "execute_result"
    }
   ],
   "source": [
    "mean_squared_error(y_val, lr.predict(Xs_val),squared=False)\n",
    "\n",
    "# Average prediction off by quadrillions on validation!!!"
   ]
  },
  {
   "cell_type": "code",
   "execution_count": null,
   "id": "2535d0e5-7cd5-41ad-ac14-aba59b86b6fb",
   "metadata": {},
   "outputs": [],
   "source": []
  },
  {
   "cell_type": "code",
   "execution_count": 90,
   "id": "08f15a63-d6d3-4af1-b209-6ce1449b6bf2",
   "metadata": {},
   "outputs": [],
   "source": [
    "from statsmodels.stats.outliers_influence import variance_inflation_factor"
   ]
  },
  {
   "cell_type": "code",
   "execution_count": 140,
   "id": "911c1f7d-6e2d-4b2f-b944-236694ad1d8a",
   "metadata": {},
   "outputs": [],
   "source": [
    "corr = pd.DataFrame(data = X_train.corr(), columns = X_train.columns)"
   ]
  },
  {
   "cell_type": "code",
   "execution_count": 178,
   "id": "ad8e503c-5fc7-4883-9779-416feb9ce7e3",
   "metadata": {},
   "outputs": [],
   "source": [
    "values = []\n",
    "for i in X_train.columns:\n",
    "    for j in X_train.columns:\n",
    "        values.append((i,j,X_train[[i,j]].corr().unstack()[1:][0]))\n",
    " "
   ]
  },
  {
   "cell_type": "code",
   "execution_count": 185,
   "id": "f0069c64-9ff8-4303-82ba-4604ea601e26",
   "metadata": {},
   "outputs": [
    {
     "ename": "TypeError",
     "evalue": "list indices must be integers or slices, not str",
     "output_type": "error",
     "traceback": [
      "\u001b[1;31m---------------------------------------------------------------------------\u001b[0m",
      "\u001b[1;31mTypeError\u001b[0m                                 Traceback (most recent call last)",
      "\u001b[1;32m~\\AppData\\Local\\Temp\\ipykernel_13396\\2238479790.py\u001b[0m in \u001b[0;36m<module>\u001b[1;34m\u001b[0m\n\u001b[1;32m----> 1\u001b[1;33m \u001b[0mvalues\u001b[0m\u001b[1;33m[\u001b[0m\u001b[0mi\u001b[0m\u001b[1;33m]\u001b[0m\u001b[1;33m[\u001b[0m\u001b[1;36m2\u001b[0m\u001b[1;33m]\u001b[0m\u001b[1;33m\u001b[0m\u001b[1;33m\u001b[0m\u001b[0m\n\u001b[0m",
      "\u001b[1;31mTypeError\u001b[0m: list indices must be integers or slices, not str"
     ]
    }
   ],
   "source": []
  },
  {
   "cell_type": "code",
   "execution_count": null,
   "id": "66538170-4671-4cfd-9fb1-5a275b4a321f",
   "metadata": {},
   "outputs": [],
   "source": []
  },
  {
   "cell_type": "code",
   "execution_count": 91,
   "id": "058d4c65-e93d-4600-8069-51c03301b8b3",
   "metadata": {},
   "outputs": [],
   "source": [
    "#  Combat overfitting\n",
    "#  1.  Reduce no of features (check for collinearity/ all 5 model assumptions)\n",
    "#  2.  Get more data\n",
    "#  3.  Regularization -- add penalty terms to square errors/loss function\n",
    "#       --- Ridge and Lasso"
   ]
  },
  {
   "cell_type": "markdown",
   "id": "29f53434-5c51-4cf4-8d5f-805c107f5903",
   "metadata": {},
   "source": [
    "#### Lasso "
   ]
  },
  {
   "cell_type": "markdown",
   "id": "2cef4070-9cce-4d8c-8d9b-69e85d364c35",
   "metadata": {},
   "source": [
    "#### Ridge"
   ]
  },
  {
   "cell_type": "code",
   "execution_count": 284,
   "id": "69ba2d17-62e9-434a-9cf5-2aef26425751",
   "metadata": {},
   "outputs": [
    {
     "data": {
      "text/plain": [
       "RidgeCV(alphas=array([1.00000000e+00, 1.12332403e+00, 1.26185688e+00, 1.41747416e+00,\n",
       "       1.59228279e+00, 1.78864953e+00, 2.00923300e+00, 2.25701972e+00,\n",
       "       2.53536449e+00, 2.84803587e+00, 3.19926714e+00, 3.59381366e+00,\n",
       "       4.03701726e+00, 4.53487851e+00, 5.09413801e+00, 5.72236766e+00,\n",
       "       6.42807312e+00, 7.22080902e+00, 8.11130831e+00, 9.11162756e+00,\n",
       "       1.02353102e+01, 1.14975700e+0...\n",
       "       6.89261210e+03, 7.74263683e+03, 8.69749003e+03, 9.77009957e+03,\n",
       "       1.09749877e+04, 1.23284674e+04, 1.38488637e+04, 1.55567614e+04,\n",
       "       1.74752840e+04, 1.96304065e+04, 2.20513074e+04, 2.47707636e+04,\n",
       "       2.78255940e+04, 3.12571585e+04, 3.51119173e+04, 3.94420606e+04,\n",
       "       4.43062146e+04, 4.97702356e+04, 5.59081018e+04, 6.28029144e+04,\n",
       "       7.05480231e+04, 7.92482898e+04, 8.90215085e+04, 1.00000000e+05]))"
      ]
     },
     "execution_count": 284,
     "metadata": {},
     "output_type": "execute_result"
    }
   ],
   "source": [
    "ridge = RidgeCV(alphas = np.logspace(0,5,100))\n",
    "ridge.fit(Xs_train,y_train)"
   ]
  },
  {
   "cell_type": "code",
   "execution_count": 285,
   "id": "dc0f7e46-9678-49f9-9140-278cd62ad8f5",
   "metadata": {},
   "outputs": [
    {
     "data": {
      "text/plain": [
       "3053.8555088334156"
      ]
     },
     "execution_count": 285,
     "metadata": {},
     "output_type": "execute_result"
    }
   ],
   "source": [
    "#  what is best alpha?\n",
    "ridge.alpha_"
   ]
  },
  {
   "cell_type": "code",
   "execution_count": 286,
   "id": "da158516-5166-4754-924c-d3952d1a54bc",
   "metadata": {},
   "outputs": [
    {
     "data": {
      "text/plain": [
       "0.9299450624722687"
      ]
     },
     "execution_count": 286,
     "metadata": {},
     "output_type": "execute_result"
    }
   ],
   "source": [
    "# score it twice\n",
    "ridge.score(Xs_train,y_train)\n"
   ]
  },
  {
   "cell_type": "code",
   "execution_count": 287,
   "id": "f172616a-25af-4156-95a3-9251dda5f1f5",
   "metadata": {},
   "outputs": [
    {
     "data": {
      "text/plain": [
       "0.8987102161341992"
      ]
     },
     "execution_count": 287,
     "metadata": {},
     "output_type": "execute_result"
    }
   ],
   "source": [
    "ridge.score(Xs_val,y_val)"
   ]
  },
  {
   "cell_type": "code",
   "execution_count": 288,
   "id": "1ac5b176-c22b-44bb-9ca8-2037fe4bd9a1",
   "metadata": {},
   "outputs": [],
   "source": [
    "# much less overfit"
   ]
  },
  {
   "cell_type": "code",
   "execution_count": 289,
   "id": "2b7de86b-0df1-4b79-bb62-b299b917db77",
   "metadata": {},
   "outputs": [
    {
     "data": {
      "text/plain": [
       "21049.08238801201"
      ]
     },
     "execution_count": 289,
     "metadata": {},
     "output_type": "execute_result"
    }
   ],
   "source": [
    "mean_squared_error(y_train,ridge.predict(Xs_train),squared=False)"
   ]
  },
  {
   "cell_type": "code",
   "execution_count": 290,
   "id": "0939b9f2-8490-4db1-a108-bde7003a0e75",
   "metadata": {},
   "outputs": [
    {
     "data": {
      "text/plain": [
       "24938.359566416246"
      ]
     },
     "execution_count": 290,
     "metadata": {},
     "output_type": "execute_result"
    }
   ],
   "source": [
    "mean_squared_error(y_val,ridge.predict(Xs_val),squared=False)"
   ]
  },
  {
   "cell_type": "code",
   "execution_count": 127,
   "id": "040944ca-9e83-4764-a73d-eb2e34c3248b",
   "metadata": {},
   "outputs": [],
   "source": [
    "# convergence warnings - gradient doesn't converge (esp on Lasso)\n",
    "# put import at top\n",
    "\n",
    "import warnings "
   ]
  },
  {
   "cell_type": "code",
   "execution_count": 291,
   "id": "7b2e730f-d541-4092-920d-dcf8d3b7e3f4",
   "metadata": {},
   "outputs": [],
   "source": [
    "lasso = LassoCV(alphas = np.logspace(0.05,10,1))\n",
    "\n",
    "#  with - only in this function\n",
    "import warnings\n",
    "with warnings.catch_warnings():\n",
    "    warnings.simplefilter('ignore')\n",
    "    lasso.fit(Xs_train,y_train)\n",
    "    "
   ]
  },
  {
   "cell_type": "raw",
   "id": "cd9eddaf-b3ac-473d-af92-49ca812af148",
   "metadata": {},
   "source": []
  },
  {
   "cell_type": "code",
   "execution_count": 313,
   "id": "59f38d2d-1764-4523-be70-dff7ebfccc78",
   "metadata": {},
   "outputs": [],
   "source": [
    "scores = []\n",
    "alphas = np.logspace(3,6,100)\n",
    "for a in alphas:\n",
    "    lasso = Lasso(alpha = a)\n",
    "    lasso.fit(X_train_sc,y_train)\n",
    "    y_pred = lasso.predict(X_val_sc)\n",
    "    train = lasso.score(X_train_sc,y_train)\n",
    "    test = lasso.score(X_val_sc,y_val)\n",
    "    cv = cross_val_score(lasso,X_val_sc,y_val,cv=5).mean()\n",
    "    mse = mean_squared_error(y_val,y_pred,squared=False)\n",
    "    scores.append([a,train,test,cv,mse])"
   ]
  },
  {
   "cell_type": "code",
   "execution_count": null,
   "id": "386d9aeb",
   "metadata": {},
   "outputs": [],
   "source": [
    "scores"
   ]
  },
  {
   "cell_type": "code",
   "execution_count": 314,
   "id": "9ed50973-b071-4c83-8afa-dbfce10a0304",
   "metadata": {},
   "outputs": [
    {
     "data": {
      "text/html": [
       "<div>\n",
       "<style scoped>\n",
       "    .dataframe tbody tr th:only-of-type {\n",
       "        vertical-align: middle;\n",
       "    }\n",
       "\n",
       "    .dataframe tbody tr th {\n",
       "        vertical-align: top;\n",
       "    }\n",
       "\n",
       "    .dataframe thead th {\n",
       "        text-align: right;\n",
       "    }\n",
       "</style>\n",
       "<table border=\"1\" class=\"dataframe\">\n",
       "  <thead>\n",
       "    <tr style=\"text-align: right;\">\n",
       "      <th></th>\n",
       "      <th>alpha</th>\n",
       "      <th>train</th>\n",
       "      <th>test</th>\n",
       "      <th>cv</th>\n",
       "      <th>mse</th>\n",
       "    </tr>\n",
       "  </thead>\n",
       "  <tbody>\n",
       "    <tr>\n",
       "      <th>30</th>\n",
       "      <td>8111.308308</td>\n",
       "      <td>0.834805</td>\n",
       "      <td>0.847100</td>\n",
       "      <td>0.859439</td>\n",
       "      <td>30639.976092</td>\n",
       "    </tr>\n",
       "    <tr>\n",
       "      <th>31</th>\n",
       "      <td>8697.490026</td>\n",
       "      <td>0.823610</td>\n",
       "      <td>0.846035</td>\n",
       "      <td>0.855589</td>\n",
       "      <td>30746.569127</td>\n",
       "    </tr>\n",
       "    <tr>\n",
       "      <th>29</th>\n",
       "      <td>7564.633276</td>\n",
       "      <td>0.845103</td>\n",
       "      <td>0.845815</td>\n",
       "      <td>0.863199</td>\n",
       "      <td>30768.496732</td>\n",
       "    </tr>\n",
       "    <tr>\n",
       "      <th>28</th>\n",
       "      <td>7054.802311</td>\n",
       "      <td>0.854331</td>\n",
       "      <td>0.842466</td>\n",
       "      <td>0.866664</td>\n",
       "      <td>31100.833417</td>\n",
       "    </tr>\n",
       "    <tr>\n",
       "      <th>32</th>\n",
       "      <td>9326.033469</td>\n",
       "      <td>0.812138</td>\n",
       "      <td>0.842038</td>\n",
       "      <td>0.851756</td>\n",
       "      <td>31143.045237</td>\n",
       "    </tr>\n",
       "    <tr>\n",
       "      <th>27</th>\n",
       "      <td>6579.332247</td>\n",
       "      <td>0.862392</td>\n",
       "      <td>0.837081</td>\n",
       "      <td>0.869713</td>\n",
       "      <td>31627.955383</td>\n",
       "    </tr>\n",
       "    <tr>\n",
       "      <th>33</th>\n",
       "      <td>10000.000000</td>\n",
       "      <td>0.801282</td>\n",
       "      <td>0.835453</td>\n",
       "      <td>0.847520</td>\n",
       "      <td>31785.596905</td>\n",
       "    </tr>\n",
       "    <tr>\n",
       "      <th>26</th>\n",
       "      <td>6135.907273</td>\n",
       "      <td>0.869793</td>\n",
       "      <td>0.830813</td>\n",
       "      <td>0.872303</td>\n",
       "      <td>32230.620418</td>\n",
       "    </tr>\n",
       "    <tr>\n",
       "      <th>34</th>\n",
       "      <td>10722.672220</td>\n",
       "      <td>0.791906</td>\n",
       "      <td>0.827681</td>\n",
       "      <td>0.842712</td>\n",
       "      <td>32527.598797</td>\n",
       "    </tr>\n",
       "    <tr>\n",
       "      <th>25</th>\n",
       "      <td>5722.367659</td>\n",
       "      <td>0.876292</td>\n",
       "      <td>0.823540</td>\n",
       "      <td>0.874636</td>\n",
       "      <td>32916.112733</td>\n",
       "    </tr>\n",
       "    <tr>\n",
       "      <th>35</th>\n",
       "      <td>11497.569954</td>\n",
       "      <td>0.782046</td>\n",
       "      <td>0.818765</td>\n",
       "      <td>0.837700</td>\n",
       "      <td>33358.493863</td>\n",
       "    </tr>\n",
       "    <tr>\n",
       "      <th>24</th>\n",
       "      <td>5336.699231</td>\n",
       "      <td>0.882141</td>\n",
       "      <td>0.816306</td>\n",
       "      <td>0.876615</td>\n",
       "      <td>33583.975917</td>\n",
       "    </tr>\n",
       "    <tr>\n",
       "      <th>23</th>\n",
       "      <td>4977.023564</td>\n",
       "      <td>0.887221</td>\n",
       "      <td>0.809079</td>\n",
       "      <td>0.878455</td>\n",
       "      <td>34238.236237</td>\n",
       "    </tr>\n",
       "    <tr>\n",
       "      <th>36</th>\n",
       "      <td>12328.467394</td>\n",
       "      <td>0.773156</td>\n",
       "      <td>0.808636</td>\n",
       "      <td>0.832208</td>\n",
       "      <td>34277.989785</td>\n",
       "    </tr>\n",
       "    <tr>\n",
       "      <th>22</th>\n",
       "      <td>4641.588834</td>\n",
       "      <td>0.891691</td>\n",
       "      <td>0.801727</td>\n",
       "      <td>0.880289</td>\n",
       "      <td>34891.236206</td>\n",
       "    </tr>\n",
       "    <tr>\n",
       "      <th>37</th>\n",
       "      <td>13219.411485</td>\n",
       "      <td>0.765514</td>\n",
       "      <td>0.798930</td>\n",
       "      <td>0.826048</td>\n",
       "      <td>35136.539655</td>\n",
       "    </tr>\n",
       "    <tr>\n",
       "      <th>21</th>\n",
       "      <td>4328.761281</td>\n",
       "      <td>0.895708</td>\n",
       "      <td>0.794097</td>\n",
       "      <td>0.882259</td>\n",
       "      <td>35556.245614</td>\n",
       "    </tr>\n",
       "    <tr>\n",
       "      <th>38</th>\n",
       "      <td>14174.741629</td>\n",
       "      <td>0.758153</td>\n",
       "      <td>0.790825</td>\n",
       "      <td>0.819205</td>\n",
       "      <td>35837.669527</td>\n",
       "    </tr>\n",
       "    <tr>\n",
       "      <th>20</th>\n",
       "      <td>4037.017259</td>\n",
       "      <td>0.899790</td>\n",
       "      <td>0.786605</td>\n",
       "      <td>0.884423</td>\n",
       "      <td>36197.398419</td>\n",
       "    </tr>\n",
       "    <tr>\n",
       "      <th>39</th>\n",
       "      <td>15199.110830</td>\n",
       "      <td>0.750551</td>\n",
       "      <td>0.782542</td>\n",
       "      <td>0.811335</td>\n",
       "      <td>36540.341783</td>\n",
       "    </tr>\n",
       "    <tr>\n",
       "      <th>19</th>\n",
       "      <td>3764.935807</td>\n",
       "      <td>0.903547</td>\n",
       "      <td>0.777167</td>\n",
       "      <td>0.886477</td>\n",
       "      <td>36989.214588</td>\n",
       "    </tr>\n",
       "    <tr>\n",
       "      <th>40</th>\n",
       "      <td>16297.508346</td>\n",
       "      <td>0.742248</td>\n",
       "      <td>0.773422</td>\n",
       "      <td>0.802128</td>\n",
       "      <td>37298.731398</td>\n",
       "    </tr>\n",
       "    <tr>\n",
       "      <th>18</th>\n",
       "      <td>3511.191734</td>\n",
       "      <td>0.906869</td>\n",
       "      <td>0.766398</td>\n",
       "      <td>0.888374</td>\n",
       "      <td>37872.447636</td>\n",
       "    </tr>\n",
       "    <tr>\n",
       "      <th>41</th>\n",
       "      <td>17475.284000</td>\n",
       "      <td>0.733904</td>\n",
       "      <td>0.764245</td>\n",
       "      <td>0.792058</td>\n",
       "      <td>38046.535716</td>\n",
       "    </tr>\n",
       "    <tr>\n",
       "      <th>17</th>\n",
       "      <td>3274.549163</td>\n",
       "      <td>0.909774</td>\n",
       "      <td>0.755682</td>\n",
       "      <td>0.890004</td>\n",
       "      <td>38731.394718</td>\n",
       "    </tr>\n",
       "    <tr>\n",
       "      <th>42</th>\n",
       "      <td>18738.174229</td>\n",
       "      <td>0.724426</td>\n",
       "      <td>0.753916</td>\n",
       "      <td>0.781051</td>\n",
       "      <td>38871.054277</td>\n",
       "    </tr>\n",
       "    <tr>\n",
       "      <th>16</th>\n",
       "      <td>3053.855509</td>\n",
       "      <td>0.912541</td>\n",
       "      <td>0.746606</td>\n",
       "      <td>0.891520</td>\n",
       "      <td>39444.223445</td>\n",
       "    </tr>\n",
       "    <tr>\n",
       "      <th>43</th>\n",
       "      <td>20092.330026</td>\n",
       "      <td>0.713797</td>\n",
       "      <td>0.741857</td>\n",
       "      <td>0.768317</td>\n",
       "      <td>39812.099058</td>\n",
       "    </tr>\n",
       "    <tr>\n",
       "      <th>15</th>\n",
       "      <td>2848.035868</td>\n",
       "      <td>0.915031</td>\n",
       "      <td>0.737077</td>\n",
       "      <td>0.893053</td>\n",
       "      <td>40179.012317</td>\n",
       "    </tr>\n",
       "    <tr>\n",
       "      <th>44</th>\n",
       "      <td>21544.346900</td>\n",
       "      <td>0.701576</td>\n",
       "      <td>0.728154</td>\n",
       "      <td>0.753682</td>\n",
       "      <td>40855.126464</td>\n",
       "    </tr>\n",
       "    <tr>\n",
       "      <th>14</th>\n",
       "      <td>2656.087783</td>\n",
       "      <td>0.917386</td>\n",
       "      <td>0.728102</td>\n",
       "      <td>0.894742</td>\n",
       "      <td>40859.036422</td>\n",
       "    </tr>\n",
       "    <tr>\n",
       "      <th>13</th>\n",
       "      <td>2477.076356</td>\n",
       "      <td>0.919685</td>\n",
       "      <td>0.715451</td>\n",
       "      <td>0.896438</td>\n",
       "      <td>41798.769523</td>\n",
       "    </tr>\n",
       "    <tr>\n",
       "      <th>45</th>\n",
       "      <td>23101.297001</td>\n",
       "      <td>0.687525</td>\n",
       "      <td>0.712573</td>\n",
       "      <td>0.736841</td>\n",
       "      <td>42009.603711</td>\n",
       "    </tr>\n",
       "    <tr>\n",
       "      <th>12</th>\n",
       "      <td>2310.129700</td>\n",
       "      <td>0.921734</td>\n",
       "      <td>0.706748</td>\n",
       "      <td>0.897712</td>\n",
       "      <td>42433.165964</td>\n",
       "    </tr>\n",
       "    <tr>\n",
       "      <th>11</th>\n",
       "      <td>2154.434690</td>\n",
       "      <td>0.923643</td>\n",
       "      <td>0.697841</td>\n",
       "      <td>0.898950</td>\n",
       "      <td>43072.773191</td>\n",
       "    </tr>\n",
       "    <tr>\n",
       "      <th>46</th>\n",
       "      <td>24770.763560</td>\n",
       "      <td>0.671369</td>\n",
       "      <td>0.694847</td>\n",
       "      <td>0.717512</td>\n",
       "      <td>43285.667172</td>\n",
       "    </tr>\n",
       "    <tr>\n",
       "      <th>10</th>\n",
       "      <td>2009.233003</td>\n",
       "      <td>0.925339</td>\n",
       "      <td>0.691619</td>\n",
       "      <td>0.900238</td>\n",
       "      <td>43513.997279</td>\n",
       "    </tr>\n",
       "    <tr>\n",
       "      <th>9</th>\n",
       "      <td>1873.817423</td>\n",
       "      <td>0.926885</td>\n",
       "      <td>0.686650</td>\n",
       "      <td>0.901375</td>\n",
       "      <td>43863.154885</td>\n",
       "    </tr>\n",
       "    <tr>\n",
       "      <th>8</th>\n",
       "      <td>1747.528400</td>\n",
       "      <td>0.928453</td>\n",
       "      <td>0.681481</td>\n",
       "      <td>0.902381</td>\n",
       "      <td>44223.433534</td>\n",
       "    </tr>\n",
       "    <tr>\n",
       "      <th>47</th>\n",
       "      <td>26560.877829</td>\n",
       "      <td>0.653458</td>\n",
       "      <td>0.674763</td>\n",
       "      <td>0.695424</td>\n",
       "      <td>44687.426755</td>\n",
       "    </tr>\n",
       "    <tr>\n",
       "      <th>7</th>\n",
       "      <td>1629.750835</td>\n",
       "      <td>0.930136</td>\n",
       "      <td>0.672179</td>\n",
       "      <td>0.903018</td>\n",
       "      <td>44864.553213</td>\n",
       "    </tr>\n",
       "    <tr>\n",
       "      <th>6</th>\n",
       "      <td>1519.911083</td>\n",
       "      <td>0.931786</td>\n",
       "      <td>0.664701</td>\n",
       "      <td>0.903543</td>\n",
       "      <td>45373.392819</td>\n",
       "    </tr>\n",
       "    <tr>\n",
       "      <th>5</th>\n",
       "      <td>1417.474163</td>\n",
       "      <td>0.933217</td>\n",
       "      <td>0.659133</td>\n",
       "      <td>0.903744</td>\n",
       "      <td>45748.602007</td>\n",
       "    </tr>\n",
       "    <tr>\n",
       "      <th>4</th>\n",
       "      <td>1321.941148</td>\n",
       "      <td>0.934537</td>\n",
       "      <td>0.653300</td>\n",
       "      <td>0.903630</td>\n",
       "      <td>46138.310251</td>\n",
       "    </tr>\n",
       "    <tr>\n",
       "      <th>48</th>\n",
       "      <td>28480.358684</td>\n",
       "      <td>0.632946</td>\n",
       "      <td>0.651916</td>\n",
       "      <td>0.670348</td>\n",
       "      <td>46230.346223</td>\n",
       "    </tr>\n",
       "    <tr>\n",
       "      <th>3</th>\n",
       "      <td>1232.846739</td>\n",
       "      <td>0.935702</td>\n",
       "      <td>0.648589</td>\n",
       "      <td>0.903423</td>\n",
       "      <td>46450.768992</td>\n",
       "    </tr>\n",
       "    <tr>\n",
       "      <th>2</th>\n",
       "      <td>1149.756995</td>\n",
       "      <td>0.936702</td>\n",
       "      <td>0.645655</td>\n",
       "      <td>0.903154</td>\n",
       "      <td>46644.239115</td>\n",
       "    </tr>\n",
       "    <tr>\n",
       "      <th>1</th>\n",
       "      <td>1072.267222</td>\n",
       "      <td>0.937616</td>\n",
       "      <td>0.643183</td>\n",
       "      <td>0.902845</td>\n",
       "      <td>46806.699857</td>\n",
       "    </tr>\n",
       "    <tr>\n",
       "      <th>0</th>\n",
       "      <td>1000.000000</td>\n",
       "      <td>0.938602</td>\n",
       "      <td>0.641406</td>\n",
       "      <td>0.902733</td>\n",
       "      <td>46923.093042</td>\n",
       "    </tr>\n",
       "    <tr>\n",
       "      <th>49</th>\n",
       "      <td>30538.555088</td>\n",
       "      <td>0.609889</td>\n",
       "      <td>0.626790</td>\n",
       "      <td>0.642124</td>\n",
       "      <td>47869.839297</td>\n",
       "    </tr>\n",
       "  </tbody>\n",
       "</table>\n",
       "</div>"
      ],
      "text/plain": [
       "           alpha     train      test        cv           mse\n",
       "30   8111.308308  0.834805  0.847100  0.859439  30639.976092\n",
       "31   8697.490026  0.823610  0.846035  0.855589  30746.569127\n",
       "29   7564.633276  0.845103  0.845815  0.863199  30768.496732\n",
       "28   7054.802311  0.854331  0.842466  0.866664  31100.833417\n",
       "32   9326.033469  0.812138  0.842038  0.851756  31143.045237\n",
       "27   6579.332247  0.862392  0.837081  0.869713  31627.955383\n",
       "33  10000.000000  0.801282  0.835453  0.847520  31785.596905\n",
       "26   6135.907273  0.869793  0.830813  0.872303  32230.620418\n",
       "34  10722.672220  0.791906  0.827681  0.842712  32527.598797\n",
       "25   5722.367659  0.876292  0.823540  0.874636  32916.112733\n",
       "35  11497.569954  0.782046  0.818765  0.837700  33358.493863\n",
       "24   5336.699231  0.882141  0.816306  0.876615  33583.975917\n",
       "23   4977.023564  0.887221  0.809079  0.878455  34238.236237\n",
       "36  12328.467394  0.773156  0.808636  0.832208  34277.989785\n",
       "22   4641.588834  0.891691  0.801727  0.880289  34891.236206\n",
       "37  13219.411485  0.765514  0.798930  0.826048  35136.539655\n",
       "21   4328.761281  0.895708  0.794097  0.882259  35556.245614\n",
       "38  14174.741629  0.758153  0.790825  0.819205  35837.669527\n",
       "20   4037.017259  0.899790  0.786605  0.884423  36197.398419\n",
       "39  15199.110830  0.750551  0.782542  0.811335  36540.341783\n",
       "19   3764.935807  0.903547  0.777167  0.886477  36989.214588\n",
       "40  16297.508346  0.742248  0.773422  0.802128  37298.731398\n",
       "18   3511.191734  0.906869  0.766398  0.888374  37872.447636\n",
       "41  17475.284000  0.733904  0.764245  0.792058  38046.535716\n",
       "17   3274.549163  0.909774  0.755682  0.890004  38731.394718\n",
       "42  18738.174229  0.724426  0.753916  0.781051  38871.054277\n",
       "16   3053.855509  0.912541  0.746606  0.891520  39444.223445\n",
       "43  20092.330026  0.713797  0.741857  0.768317  39812.099058\n",
       "15   2848.035868  0.915031  0.737077  0.893053  40179.012317\n",
       "44  21544.346900  0.701576  0.728154  0.753682  40855.126464\n",
       "14   2656.087783  0.917386  0.728102  0.894742  40859.036422\n",
       "13   2477.076356  0.919685  0.715451  0.896438  41798.769523\n",
       "45  23101.297001  0.687525  0.712573  0.736841  42009.603711\n",
       "12   2310.129700  0.921734  0.706748  0.897712  42433.165964\n",
       "11   2154.434690  0.923643  0.697841  0.898950  43072.773191\n",
       "46  24770.763560  0.671369  0.694847  0.717512  43285.667172\n",
       "10   2009.233003  0.925339  0.691619  0.900238  43513.997279\n",
       "9    1873.817423  0.926885  0.686650  0.901375  43863.154885\n",
       "8    1747.528400  0.928453  0.681481  0.902381  44223.433534\n",
       "47  26560.877829  0.653458  0.674763  0.695424  44687.426755\n",
       "7    1629.750835  0.930136  0.672179  0.903018  44864.553213\n",
       "6    1519.911083  0.931786  0.664701  0.903543  45373.392819\n",
       "5    1417.474163  0.933217  0.659133  0.903744  45748.602007\n",
       "4    1321.941148  0.934537  0.653300  0.903630  46138.310251\n",
       "48  28480.358684  0.632946  0.651916  0.670348  46230.346223\n",
       "3    1232.846739  0.935702  0.648589  0.903423  46450.768992\n",
       "2    1149.756995  0.936702  0.645655  0.903154  46644.239115\n",
       "1    1072.267222  0.937616  0.643183  0.902845  46806.699857\n",
       "0    1000.000000  0.938602  0.641406  0.902733  46923.093042\n",
       "49  30538.555088  0.609889  0.626790  0.642124  47869.839297"
      ]
     },
     "execution_count": 314,
     "metadata": {},
     "output_type": "execute_result"
    }
   ],
   "source": [
    "pd.DataFrame(scores, columns=['alpha','train','test','cv','mse']).sort_values(by='mse').head(50)"
   ]
  },
  {
   "cell_type": "code",
   "execution_count": null,
   "id": "1ae64a2e",
   "metadata": {},
   "outputs": [],
   "source": []
  },
  {
   "cell_type": "code",
   "execution_count": null,
   "id": "c30d5542",
   "metadata": {},
   "outputs": [],
   "source": []
  },
  {
   "cell_type": "code",
   "execution_count": null,
   "id": "eb139567",
   "metadata": {},
   "outputs": [],
   "source": []
  },
  {
   "cell_type": "code",
   "execution_count": null,
   "id": "d0659ac8",
   "metadata": {},
   "outputs": [],
   "source": []
  },
  {
   "cell_type": "code",
   "execution_count": null,
   "id": "41aef8c4-895a-48dd-812d-ab50d7c0f866",
   "metadata": {},
   "outputs": [],
   "source": [
    "from statsmodels.stats.outliers_influence import variance_inflation_factor"
   ]
  },
  {
   "cell_type": "code",
   "execution_count": 129,
   "id": "32a089a9-0e49-46ad-9b05-08012c0c1aa7",
   "metadata": {},
   "outputs": [
    {
     "name": "stderr",
     "output_type": "stream",
     "text": [
      "C:\\Users\\Ari\\anaconda3\\lib\\site-packages\\statsmodels\\stats\\outliers_influence.py:195: RuntimeWarning: divide by zero encountered in double_scalars\n",
      "  vif = 1. / (1. - r_squared_i)\n"
     ]
    },
    {
     "ename": "KeyboardInterrupt",
     "evalue": "",
     "output_type": "error",
     "traceback": [
      "\u001b[1;31m---------------------------------------------------------------------------\u001b[0m",
      "\u001b[1;31mKeyboardInterrupt\u001b[0m                         Traceback (most recent call last)",
      "\u001b[1;32m~\\AppData\\Local\\Temp\\ipykernel_1232\\1799372286.py\u001b[0m in \u001b[0;36m<module>\u001b[1;34m\u001b[0m\n\u001b[1;32m----> 1\u001b[1;33m \u001b[0mx\u001b[0m \u001b[1;33m=\u001b[0m \u001b[1;33m[\u001b[0m\u001b[1;33m(\u001b[0m\u001b[0mX_train\u001b[0m\u001b[1;33m.\u001b[0m\u001b[0mcolumns\u001b[0m\u001b[1;33m[\u001b[0m\u001b[0mcol\u001b[0m\u001b[1;33m]\u001b[0m\u001b[1;33m,\u001b[0m \u001b[0mvariance_inflation_factor\u001b[0m\u001b[1;33m(\u001b[0m\u001b[0mX_train\u001b[0m\u001b[1;33m.\u001b[0m\u001b[0mvalues\u001b[0m\u001b[1;33m,\u001b[0m\u001b[0mcol\u001b[0m\u001b[1;33m)\u001b[0m\u001b[1;33m)\u001b[0m \u001b[1;32mfor\u001b[0m \u001b[0mcol\u001b[0m \u001b[1;32min\u001b[0m \u001b[0mrange\u001b[0m\u001b[1;33m(\u001b[0m\u001b[0mlen\u001b[0m\u001b[1;33m(\u001b[0m\u001b[0mX_train\u001b[0m\u001b[1;33m.\u001b[0m\u001b[0mcolumns\u001b[0m\u001b[1;33m)\u001b[0m\u001b[1;33m)\u001b[0m\u001b[1;33m]\u001b[0m\u001b[1;33m\u001b[0m\u001b[1;33m\u001b[0m\u001b[0m\n\u001b[0m",
      "\u001b[1;32m~\\AppData\\Local\\Temp\\ipykernel_1232\\1799372286.py\u001b[0m in \u001b[0;36m<listcomp>\u001b[1;34m(.0)\u001b[0m\n\u001b[1;32m----> 1\u001b[1;33m \u001b[0mx\u001b[0m \u001b[1;33m=\u001b[0m \u001b[1;33m[\u001b[0m\u001b[1;33m(\u001b[0m\u001b[0mX_train\u001b[0m\u001b[1;33m.\u001b[0m\u001b[0mcolumns\u001b[0m\u001b[1;33m[\u001b[0m\u001b[0mcol\u001b[0m\u001b[1;33m]\u001b[0m\u001b[1;33m,\u001b[0m \u001b[0mvariance_inflation_factor\u001b[0m\u001b[1;33m(\u001b[0m\u001b[0mX_train\u001b[0m\u001b[1;33m.\u001b[0m\u001b[0mvalues\u001b[0m\u001b[1;33m,\u001b[0m\u001b[0mcol\u001b[0m\u001b[1;33m)\u001b[0m\u001b[1;33m)\u001b[0m \u001b[1;32mfor\u001b[0m \u001b[0mcol\u001b[0m \u001b[1;32min\u001b[0m \u001b[0mrange\u001b[0m\u001b[1;33m(\u001b[0m\u001b[0mlen\u001b[0m\u001b[1;33m(\u001b[0m\u001b[0mX_train\u001b[0m\u001b[1;33m.\u001b[0m\u001b[0mcolumns\u001b[0m\u001b[1;33m)\u001b[0m\u001b[1;33m)\u001b[0m\u001b[1;33m]\u001b[0m\u001b[1;33m\u001b[0m\u001b[1;33m\u001b[0m\u001b[0m\n\u001b[0m",
      "\u001b[1;32m~\\anaconda3\\lib\\site-packages\\statsmodels\\stats\\outliers_influence.py\u001b[0m in \u001b[0;36mvariance_inflation_factor\u001b[1;34m(exog, exog_idx)\u001b[0m\n\u001b[0;32m    192\u001b[0m     \u001b[0mmask\u001b[0m \u001b[1;33m=\u001b[0m \u001b[0mnp\u001b[0m\u001b[1;33m.\u001b[0m\u001b[0marange\u001b[0m\u001b[1;33m(\u001b[0m\u001b[0mk_vars\u001b[0m\u001b[1;33m)\u001b[0m \u001b[1;33m!=\u001b[0m \u001b[0mexog_idx\u001b[0m\u001b[1;33m\u001b[0m\u001b[1;33m\u001b[0m\u001b[0m\n\u001b[0;32m    193\u001b[0m     \u001b[0mx_noti\u001b[0m \u001b[1;33m=\u001b[0m \u001b[0mexog\u001b[0m\u001b[1;33m[\u001b[0m\u001b[1;33m:\u001b[0m\u001b[1;33m,\u001b[0m \u001b[0mmask\u001b[0m\u001b[1;33m]\u001b[0m\u001b[1;33m\u001b[0m\u001b[1;33m\u001b[0m\u001b[0m\n\u001b[1;32m--> 194\u001b[1;33m     \u001b[0mr_squared_i\u001b[0m \u001b[1;33m=\u001b[0m \u001b[0mOLS\u001b[0m\u001b[1;33m(\u001b[0m\u001b[0mx_i\u001b[0m\u001b[1;33m,\u001b[0m \u001b[0mx_noti\u001b[0m\u001b[1;33m)\u001b[0m\u001b[1;33m.\u001b[0m\u001b[0mfit\u001b[0m\u001b[1;33m(\u001b[0m\u001b[1;33m)\u001b[0m\u001b[1;33m.\u001b[0m\u001b[0mrsquared\u001b[0m\u001b[1;33m\u001b[0m\u001b[1;33m\u001b[0m\u001b[0m\n\u001b[0m\u001b[0;32m    195\u001b[0m     \u001b[0mvif\u001b[0m \u001b[1;33m=\u001b[0m \u001b[1;36m1.\u001b[0m \u001b[1;33m/\u001b[0m \u001b[1;33m(\u001b[0m\u001b[1;36m1.\u001b[0m \u001b[1;33m-\u001b[0m \u001b[0mr_squared_i\u001b[0m\u001b[1;33m)\u001b[0m\u001b[1;33m\u001b[0m\u001b[1;33m\u001b[0m\u001b[0m\n\u001b[0;32m    196\u001b[0m     \u001b[1;32mreturn\u001b[0m \u001b[0mvif\u001b[0m\u001b[1;33m\u001b[0m\u001b[1;33m\u001b[0m\u001b[0m\n",
      "\u001b[1;32m~\\anaconda3\\lib\\site-packages\\statsmodels\\regression\\linear_model.py\u001b[0m in \u001b[0;36mfit\u001b[1;34m(self, method, cov_type, cov_kwds, use_t, **kwargs)\u001b[0m\n\u001b[0;32m    304\u001b[0m                     hasattr(self, 'rank')):\n\u001b[0;32m    305\u001b[0m \u001b[1;33m\u001b[0m\u001b[0m\n\u001b[1;32m--> 306\u001b[1;33m                 \u001b[0mself\u001b[0m\u001b[1;33m.\u001b[0m\u001b[0mpinv_wexog\u001b[0m\u001b[1;33m,\u001b[0m \u001b[0msingular_values\u001b[0m \u001b[1;33m=\u001b[0m \u001b[0mpinv_extended\u001b[0m\u001b[1;33m(\u001b[0m\u001b[0mself\u001b[0m\u001b[1;33m.\u001b[0m\u001b[0mwexog\u001b[0m\u001b[1;33m)\u001b[0m\u001b[1;33m\u001b[0m\u001b[1;33m\u001b[0m\u001b[0m\n\u001b[0m\u001b[0;32m    307\u001b[0m                 self.normalized_cov_params = np.dot(\n\u001b[0;32m    308\u001b[0m                     self.pinv_wexog, np.transpose(self.pinv_wexog))\n",
      "\u001b[1;32m~\\anaconda3\\lib\\site-packages\\statsmodels\\tools\\tools.py\u001b[0m in \u001b[0;36mpinv_extended\u001b[1;34m(x, rcond)\u001b[0m\n\u001b[0;32m    337\u001b[0m     \u001b[0mx\u001b[0m \u001b[1;33m=\u001b[0m \u001b[0mnp\u001b[0m\u001b[1;33m.\u001b[0m\u001b[0masarray\u001b[0m\u001b[1;33m(\u001b[0m\u001b[0mx\u001b[0m\u001b[1;33m)\u001b[0m\u001b[1;33m\u001b[0m\u001b[1;33m\u001b[0m\u001b[0m\n\u001b[0;32m    338\u001b[0m     \u001b[0mx\u001b[0m \u001b[1;33m=\u001b[0m \u001b[0mx\u001b[0m\u001b[1;33m.\u001b[0m\u001b[0mconjugate\u001b[0m\u001b[1;33m(\u001b[0m\u001b[1;33m)\u001b[0m\u001b[1;33m\u001b[0m\u001b[1;33m\u001b[0m\u001b[0m\n\u001b[1;32m--> 339\u001b[1;33m     \u001b[0mu\u001b[0m\u001b[1;33m,\u001b[0m \u001b[0ms\u001b[0m\u001b[1;33m,\u001b[0m \u001b[0mvt\u001b[0m \u001b[1;33m=\u001b[0m \u001b[0mnp\u001b[0m\u001b[1;33m.\u001b[0m\u001b[0mlinalg\u001b[0m\u001b[1;33m.\u001b[0m\u001b[0msvd\u001b[0m\u001b[1;33m(\u001b[0m\u001b[0mx\u001b[0m\u001b[1;33m,\u001b[0m \u001b[1;32mFalse\u001b[0m\u001b[1;33m)\u001b[0m\u001b[1;33m\u001b[0m\u001b[1;33m\u001b[0m\u001b[0m\n\u001b[0m\u001b[0;32m    340\u001b[0m     \u001b[0ms_orig\u001b[0m \u001b[1;33m=\u001b[0m \u001b[0mnp\u001b[0m\u001b[1;33m.\u001b[0m\u001b[0mcopy\u001b[0m\u001b[1;33m(\u001b[0m\u001b[0ms\u001b[0m\u001b[1;33m)\u001b[0m\u001b[1;33m\u001b[0m\u001b[1;33m\u001b[0m\u001b[0m\n\u001b[0;32m    341\u001b[0m     \u001b[0mm\u001b[0m \u001b[1;33m=\u001b[0m \u001b[0mu\u001b[0m\u001b[1;33m.\u001b[0m\u001b[0mshape\u001b[0m\u001b[1;33m[\u001b[0m\u001b[1;36m0\u001b[0m\u001b[1;33m]\u001b[0m\u001b[1;33m\u001b[0m\u001b[1;33m\u001b[0m\u001b[0m\n",
      "\u001b[1;32m<__array_function__ internals>\u001b[0m in \u001b[0;36msvd\u001b[1;34m(*args, **kwargs)\u001b[0m\n",
      "\u001b[1;32m~\\anaconda3\\lib\\site-packages\\numpy\\linalg\\linalg.py\u001b[0m in \u001b[0;36msvd\u001b[1;34m(a, full_matrices, compute_uv, hermitian)\u001b[0m\n\u001b[0;32m   1658\u001b[0m \u001b[1;33m\u001b[0m\u001b[0m\n\u001b[0;32m   1659\u001b[0m         \u001b[0msignature\u001b[0m \u001b[1;33m=\u001b[0m \u001b[1;34m'D->DdD'\u001b[0m \u001b[1;32mif\u001b[0m \u001b[0misComplexType\u001b[0m\u001b[1;33m(\u001b[0m\u001b[0mt\u001b[0m\u001b[1;33m)\u001b[0m \u001b[1;32melse\u001b[0m \u001b[1;34m'd->ddd'\u001b[0m\u001b[1;33m\u001b[0m\u001b[1;33m\u001b[0m\u001b[0m\n\u001b[1;32m-> 1660\u001b[1;33m         \u001b[0mu\u001b[0m\u001b[1;33m,\u001b[0m \u001b[0ms\u001b[0m\u001b[1;33m,\u001b[0m \u001b[0mvh\u001b[0m \u001b[1;33m=\u001b[0m \u001b[0mgufunc\u001b[0m\u001b[1;33m(\u001b[0m\u001b[0ma\u001b[0m\u001b[1;33m,\u001b[0m \u001b[0msignature\u001b[0m\u001b[1;33m=\u001b[0m\u001b[0msignature\u001b[0m\u001b[1;33m,\u001b[0m \u001b[0mextobj\u001b[0m\u001b[1;33m=\u001b[0m\u001b[0mextobj\u001b[0m\u001b[1;33m)\u001b[0m\u001b[1;33m\u001b[0m\u001b[1;33m\u001b[0m\u001b[0m\n\u001b[0m\u001b[0;32m   1661\u001b[0m         \u001b[0mu\u001b[0m \u001b[1;33m=\u001b[0m \u001b[0mu\u001b[0m\u001b[1;33m.\u001b[0m\u001b[0mastype\u001b[0m\u001b[1;33m(\u001b[0m\u001b[0mresult_t\u001b[0m\u001b[1;33m,\u001b[0m \u001b[0mcopy\u001b[0m\u001b[1;33m=\u001b[0m\u001b[1;32mFalse\u001b[0m\u001b[1;33m)\u001b[0m\u001b[1;33m\u001b[0m\u001b[1;33m\u001b[0m\u001b[0m\n\u001b[0;32m   1662\u001b[0m         \u001b[0ms\u001b[0m \u001b[1;33m=\u001b[0m \u001b[0ms\u001b[0m\u001b[1;33m.\u001b[0m\u001b[0mastype\u001b[0m\u001b[1;33m(\u001b[0m\u001b[0m_realType\u001b[0m\u001b[1;33m(\u001b[0m\u001b[0mresult_t\u001b[0m\u001b[1;33m)\u001b[0m\u001b[1;33m,\u001b[0m \u001b[0mcopy\u001b[0m\u001b[1;33m=\u001b[0m\u001b[1;32mFalse\u001b[0m\u001b[1;33m)\u001b[0m\u001b[1;33m\u001b[0m\u001b[1;33m\u001b[0m\u001b[0m\n",
      "\u001b[1;31mKeyboardInterrupt\u001b[0m: "
     ]
    }
   ],
   "source": [
    "x = [(X_train.columns[col], variance_inflation_factor(X_train.values,col)) for col in range(len(X_train.columns))]"
   ]
  },
  {
   "cell_type": "code",
   "execution_count": null,
   "id": "dc31a1d5-0f69-4a68-aa0e-6ce9c02debf4",
   "metadata": {},
   "outputs": [],
   "source": [
    "sorted(x, key=lambda x: x[1], reverse=True)"
   ]
  },
  {
   "cell_type": "code",
   "execution_count": null,
   "id": "0b65ccc0-42d0-4f6a-8b4b-1ea6d2dbeba2",
   "metadata": {},
   "outputs": [],
   "source": [
    "output = []\n",
    "for i in range(len(X_train.columns)):\n",
    "    print(f'{X_train.columns[i]}: {variance_inflation_factor(X_train.values,i)}')\n",
    "    output.append((X_train.columns[i],variance_inflation_factor(X_train.values,i)))"
   ]
  },
  {
   "cell_type": "code",
   "execution_count": null,
   "id": "5dcbfa43-ba1d-49ea-bfc6-58720589f48c",
   "metadata": {},
   "outputs": [],
   "source": [
    "sorted(output, key=lambda output: output[1], reverse=True)"
   ]
  },
  {
   "cell_type": "code",
   "execution_count": null,
   "id": "443b1c06-1034-4aaf-8497-fe6c8334e4f5",
   "metadata": {},
   "outputs": [],
   "source": []
  },
  {
   "cell_type": "markdown",
   "id": "7ccab13c-e17f-45fc-abd2-85559b79d58a",
   "metadata": {},
   "source": [
    "#### Make Predictions"
   ]
  },
  {
   "cell_type": "code",
   "execution_count": null,
   "id": "727a6224-8014-43ee-9922-6a0f5eb03b94",
   "metadata": {},
   "outputs": [],
   "source": [
    "# do to val and test everything done to train\n",
    "#  probably should do this as you go along"
   ]
  },
  {
   "cell_type": "code",
   "execution_count": null,
   "id": "f10c0056-d302-4276-92ef-219f56f7ab9d",
   "metadata": {},
   "outputs": [],
   "source": []
  },
  {
   "cell_type": "code",
   "execution_count": null,
   "id": "6b7d0234-ea00-4d21-b509-3450b426e9b3",
   "metadata": {},
   "outputs": [],
   "source": []
  },
  {
   "cell_type": "code",
   "execution_count": null,
   "id": "a22c7d8c-ef5d-41f9-a6b9-f5e570a74328",
   "metadata": {},
   "outputs": [],
   "source": [
    "test_id = df_test['id']"
   ]
  },
  {
   "cell_type": "code",
   "execution_count": null,
   "id": "f14c4530-a95a-41dc-9b6c-4bf0f0b84505",
   "metadata": {},
   "outputs": [],
   "source": [
    "df_test = poly.transform(df_test.drop(columns = ['id']))\n",
    "Xs_test = pd.DataFrame(\n",
    "    ss.transform(df_test),\n",
    "    columns = poly.get_feature_names_out()\n",
    ")"
   ]
  },
  {
   "cell_type": "code",
   "execution_count": null,
   "id": "e729ce3a-6887-41f0-b717-8fde6dab61aa",
   "metadata": {},
   "outputs": [],
   "source": [
    "# instantiate best model\n",
    "\n",
    "lasso_sub = Lasso(alpha = lasso.alpha_)\n",
    "lasso_sub.fit(Xs_train,y_train)\n",
    "preds = lasso_sub.predict(Xs_test)"
   ]
  },
  {
   "cell_type": "code",
   "execution_count": null,
   "id": "7f179f08-9f0e-4f17-b269-7fc8cb526ca1",
   "metadata": {},
   "outputs": [],
   "source": []
  },
  {
   "cell_type": "code",
   "execution_count": null,
   "id": "80c9432a-4043-4991-ab21-fe62cdd620b4",
   "metadata": {},
   "outputs": [],
   "source": []
  },
  {
   "cell_type": "code",
   "execution_count": null,
   "id": "03077398-4346-47de-919a-c4bd9417a904",
   "metadata": {},
   "outputs": [],
   "source": []
  },
  {
   "cell_type": "code",
   "execution_count": null,
   "id": "6444751a-e7b2-4eed-96d3-4700e1a2c047",
   "metadata": {},
   "outputs": [],
   "source": [
    "preds = pd.DataFrame({'Id': test_id,'SalePrice': preds})"
   ]
  },
  {
   "cell_type": "code",
   "execution_count": null,
   "id": "85403b58-8cc8-45e9-810c-4f6b767bf535",
   "metadata": {},
   "outputs": [],
   "source": [
    "preds.to_csv('./submissions/lasso_1_simple.csv', index=False)"
   ]
  },
  {
   "cell_type": "code",
   "execution_count": null,
   "id": "eea109a5-8d76-45bb-8fe1-45809b254bda",
   "metadata": {},
   "outputs": [],
   "source": [
    "## store scores along the way "
   ]
  },
  {
   "cell_type": "code",
   "execution_count": null,
   "id": "152728eb-204c-490d-9d3d-a23bfd1151db",
   "metadata": {},
   "outputs": [],
   "source": [
    "# Submit to kaggle"
   ]
  },
  {
   "cell_type": "code",
   "execution_count": null,
   "id": "1e2d7002-d569-4c5e-a55e-c76b8955013d",
   "metadata": {},
   "outputs": [],
   "source": []
  },
  {
   "cell_type": "code",
   "execution_count": null,
   "id": "27b9a1f5-bd68-4cfb-a8ab-c4d0e429211b",
   "metadata": {},
   "outputs": [],
   "source": [
    "mean_squared_error(y_val, lasso.predict(Xs_val), squared = False)"
   ]
  }
 ],
 "metadata": {
  "kernelspec": {
   "display_name": "Python 3 (ipykernel)",
   "language": "python",
   "name": "python3"
  },
  "language_info": {
   "codemirror_mode": {
    "name": "ipython",
    "version": 3
   },
   "file_extension": ".py",
   "mimetype": "text/x-python",
   "name": "python",
   "nbconvert_exporter": "python",
   "pygments_lexer": "ipython3",
   "version": "3.9.13"
  }
 },
 "nbformat": 4,
 "nbformat_minor": 5
}
