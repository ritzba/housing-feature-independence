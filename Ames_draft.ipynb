{
 "cells": [
  {
   "cell_type": "code",
   "execution_count": 1,
   "id": "af96a39d-60ec-421e-aa7c-484b7ceab05b",
   "metadata": {},
   "outputs": [],
   "source": [
    "import numpy as np\n",
    "import pandas as pd\n",
    "import matplotlib.pyplot as plt\n",
    "import seaborn as sns\n",
    "\n",
    "from sklearn.linear_model import LinearRegression, Lasso, LassoCV, Ridge, RidgeCV\n",
    "from sklearn.model_selection import train_test_split, cross_val_score\n",
    "from sklearn.preprocessing import PolynomialFeatures, StandardScaler\n",
    "from sklearn.metrics import r2_score, mean_squared_error\n",
    "\n",
    "from statsmodels.stats.outliers_influence import variance_inflation_factor"
   ]
  },
  {
   "cell_type": "code",
   "execution_count": 2,
   "id": "bb761046-e7c7-4e4e-9fe1-7d2a6165ea2a",
   "metadata": {},
   "outputs": [],
   "source": [
    "df_train = pd.read_csv('./datasets/train.csv')\n",
    "df_test = pd.read_csv('./datasets/test.csv')"
   ]
  },
  {
   "cell_type": "code",
   "execution_count": 3,
   "id": "4638fbcc-eaf5-4d6e-9d33-418c8847968b",
   "metadata": {},
   "outputs": [
    {
     "data": {
      "text/html": [
       "<div>\n",
       "<style scoped>\n",
       "    .dataframe tbody tr th:only-of-type {\n",
       "        vertical-align: middle;\n",
       "    }\n",
       "\n",
       "    .dataframe tbody tr th {\n",
       "        vertical-align: top;\n",
       "    }\n",
       "\n",
       "    .dataframe thead th {\n",
       "        text-align: right;\n",
       "    }\n",
       "</style>\n",
       "<table border=\"1\" class=\"dataframe\">\n",
       "  <thead>\n",
       "    <tr style=\"text-align: right;\">\n",
       "      <th></th>\n",
       "      <th>Id</th>\n",
       "      <th>PID</th>\n",
       "      <th>MS SubClass</th>\n",
       "      <th>MS Zoning</th>\n",
       "      <th>Lot Frontage</th>\n",
       "      <th>Lot Area</th>\n",
       "      <th>Street</th>\n",
       "      <th>Alley</th>\n",
       "      <th>Lot Shape</th>\n",
       "      <th>Land Contour</th>\n",
       "      <th>...</th>\n",
       "      <th>Screen Porch</th>\n",
       "      <th>Pool Area</th>\n",
       "      <th>Pool QC</th>\n",
       "      <th>Fence</th>\n",
       "      <th>Misc Feature</th>\n",
       "      <th>Misc Val</th>\n",
       "      <th>Mo Sold</th>\n",
       "      <th>Yr Sold</th>\n",
       "      <th>Sale Type</th>\n",
       "      <th>SalePrice</th>\n",
       "    </tr>\n",
       "  </thead>\n",
       "  <tbody>\n",
       "    <tr>\n",
       "      <th>0</th>\n",
       "      <td>109</td>\n",
       "      <td>533352170</td>\n",
       "      <td>60</td>\n",
       "      <td>RL</td>\n",
       "      <td>NaN</td>\n",
       "      <td>13517</td>\n",
       "      <td>Pave</td>\n",
       "      <td>NaN</td>\n",
       "      <td>IR1</td>\n",
       "      <td>Lvl</td>\n",
       "      <td>...</td>\n",
       "      <td>0</td>\n",
       "      <td>0</td>\n",
       "      <td>NaN</td>\n",
       "      <td>NaN</td>\n",
       "      <td>NaN</td>\n",
       "      <td>0</td>\n",
       "      <td>3</td>\n",
       "      <td>2010</td>\n",
       "      <td>WD</td>\n",
       "      <td>130500</td>\n",
       "    </tr>\n",
       "    <tr>\n",
       "      <th>1</th>\n",
       "      <td>544</td>\n",
       "      <td>531379050</td>\n",
       "      <td>60</td>\n",
       "      <td>RL</td>\n",
       "      <td>43.0</td>\n",
       "      <td>11492</td>\n",
       "      <td>Pave</td>\n",
       "      <td>NaN</td>\n",
       "      <td>IR1</td>\n",
       "      <td>Lvl</td>\n",
       "      <td>...</td>\n",
       "      <td>0</td>\n",
       "      <td>0</td>\n",
       "      <td>NaN</td>\n",
       "      <td>NaN</td>\n",
       "      <td>NaN</td>\n",
       "      <td>0</td>\n",
       "      <td>4</td>\n",
       "      <td>2009</td>\n",
       "      <td>WD</td>\n",
       "      <td>220000</td>\n",
       "    </tr>\n",
       "    <tr>\n",
       "      <th>2</th>\n",
       "      <td>153</td>\n",
       "      <td>535304180</td>\n",
       "      <td>20</td>\n",
       "      <td>RL</td>\n",
       "      <td>68.0</td>\n",
       "      <td>7922</td>\n",
       "      <td>Pave</td>\n",
       "      <td>NaN</td>\n",
       "      <td>Reg</td>\n",
       "      <td>Lvl</td>\n",
       "      <td>...</td>\n",
       "      <td>0</td>\n",
       "      <td>0</td>\n",
       "      <td>NaN</td>\n",
       "      <td>NaN</td>\n",
       "      <td>NaN</td>\n",
       "      <td>0</td>\n",
       "      <td>1</td>\n",
       "      <td>2010</td>\n",
       "      <td>WD</td>\n",
       "      <td>109000</td>\n",
       "    </tr>\n",
       "    <tr>\n",
       "      <th>3</th>\n",
       "      <td>318</td>\n",
       "      <td>916386060</td>\n",
       "      <td>60</td>\n",
       "      <td>RL</td>\n",
       "      <td>73.0</td>\n",
       "      <td>9802</td>\n",
       "      <td>Pave</td>\n",
       "      <td>NaN</td>\n",
       "      <td>Reg</td>\n",
       "      <td>Lvl</td>\n",
       "      <td>...</td>\n",
       "      <td>0</td>\n",
       "      <td>0</td>\n",
       "      <td>NaN</td>\n",
       "      <td>NaN</td>\n",
       "      <td>NaN</td>\n",
       "      <td>0</td>\n",
       "      <td>4</td>\n",
       "      <td>2010</td>\n",
       "      <td>WD</td>\n",
       "      <td>174000</td>\n",
       "    </tr>\n",
       "    <tr>\n",
       "      <th>4</th>\n",
       "      <td>255</td>\n",
       "      <td>906425045</td>\n",
       "      <td>50</td>\n",
       "      <td>RL</td>\n",
       "      <td>82.0</td>\n",
       "      <td>14235</td>\n",
       "      <td>Pave</td>\n",
       "      <td>NaN</td>\n",
       "      <td>IR1</td>\n",
       "      <td>Lvl</td>\n",
       "      <td>...</td>\n",
       "      <td>0</td>\n",
       "      <td>0</td>\n",
       "      <td>NaN</td>\n",
       "      <td>NaN</td>\n",
       "      <td>NaN</td>\n",
       "      <td>0</td>\n",
       "      <td>3</td>\n",
       "      <td>2010</td>\n",
       "      <td>WD</td>\n",
       "      <td>138500</td>\n",
       "    </tr>\n",
       "  </tbody>\n",
       "</table>\n",
       "<p>5 rows × 81 columns</p>\n",
       "</div>"
      ],
      "text/plain": [
       "    Id        PID  MS SubClass MS Zoning  Lot Frontage  Lot Area Street Alley  \\\n",
       "0  109  533352170           60        RL           NaN     13517   Pave   NaN   \n",
       "1  544  531379050           60        RL          43.0     11492   Pave   NaN   \n",
       "2  153  535304180           20        RL          68.0      7922   Pave   NaN   \n",
       "3  318  916386060           60        RL          73.0      9802   Pave   NaN   \n",
       "4  255  906425045           50        RL          82.0     14235   Pave   NaN   \n",
       "\n",
       "  Lot Shape Land Contour  ... Screen Porch Pool Area Pool QC Fence  \\\n",
       "0       IR1          Lvl  ...            0         0     NaN   NaN   \n",
       "1       IR1          Lvl  ...            0         0     NaN   NaN   \n",
       "2       Reg          Lvl  ...            0         0     NaN   NaN   \n",
       "3       Reg          Lvl  ...            0         0     NaN   NaN   \n",
       "4       IR1          Lvl  ...            0         0     NaN   NaN   \n",
       "\n",
       "  Misc Feature Misc Val Mo Sold Yr Sold  Sale Type  SalePrice  \n",
       "0          NaN        0       3    2010        WD      130500  \n",
       "1          NaN        0       4    2009        WD      220000  \n",
       "2          NaN        0       1    2010        WD      109000  \n",
       "3          NaN        0       4    2010        WD      174000  \n",
       "4          NaN        0       3    2010        WD      138500  \n",
       "\n",
       "[5 rows x 81 columns]"
      ]
     },
     "execution_count": 3,
     "metadata": {},
     "output_type": "execute_result"
    }
   ],
   "source": [
    "df_train.head()"
   ]
  },
  {
   "cell_type": "code",
   "execution_count": 4,
   "id": "9e1b9b5a-6d04-4bc9-b514-cd79d82a9cf4",
   "metadata": {},
   "outputs": [],
   "source": [
    "df_train.columns = [col.lower().replace(' ','_') for col in df_train.columns]\n",
    "df_test.columns = [col.lower().replace(' ','_') for col in df_test.columns]"
   ]
  },
  {
   "cell_type": "code",
   "execution_count": 5,
   "id": "2729f2fe-ed9b-4a06-acc1-4f33c93745ad",
   "metadata": {},
   "outputs": [
    {
     "name": "stdout",
     "output_type": "stream",
     "text": [
      "<class 'pandas.core.frame.DataFrame'>\n",
      "RangeIndex: 2051 entries, 0 to 2050\n",
      "Data columns (total 81 columns):\n",
      " #   Column           Non-Null Count  Dtype  \n",
      "---  ------           --------------  -----  \n",
      " 0   id               2051 non-null   int64  \n",
      " 1   pid              2051 non-null   int64  \n",
      " 2   ms_subclass      2051 non-null   int64  \n",
      " 3   ms_zoning        2051 non-null   object \n",
      " 4   lot_frontage     1721 non-null   float64\n",
      " 5   lot_area         2051 non-null   int64  \n",
      " 6   street           2051 non-null   object \n",
      " 7   alley            140 non-null    object \n",
      " 8   lot_shape        2051 non-null   object \n",
      " 9   land_contour     2051 non-null   object \n",
      " 10  utilities        2051 non-null   object \n",
      " 11  lot_config       2051 non-null   object \n",
      " 12  land_slope       2051 non-null   object \n",
      " 13  neighborhood     2051 non-null   object \n",
      " 14  condition_1      2051 non-null   object \n",
      " 15  condition_2      2051 non-null   object \n",
      " 16  bldg_type        2051 non-null   object \n",
      " 17  house_style      2051 non-null   object \n",
      " 18  overall_qual     2051 non-null   int64  \n",
      " 19  overall_cond     2051 non-null   int64  \n",
      " 20  year_built       2051 non-null   int64  \n",
      " 21  year_remod/add   2051 non-null   int64  \n",
      " 22  roof_style       2051 non-null   object \n",
      " 23  roof_matl        2051 non-null   object \n",
      " 24  exterior_1st     2051 non-null   object \n",
      " 25  exterior_2nd     2051 non-null   object \n",
      " 26  mas_vnr_type     2029 non-null   object \n",
      " 27  mas_vnr_area     2029 non-null   float64\n",
      " 28  exter_qual       2051 non-null   object \n",
      " 29  exter_cond       2051 non-null   object \n",
      " 30  foundation       2051 non-null   object \n",
      " 31  bsmt_qual        1996 non-null   object \n",
      " 32  bsmt_cond        1996 non-null   object \n",
      " 33  bsmt_exposure    1993 non-null   object \n",
      " 34  bsmtfin_type_1   1996 non-null   object \n",
      " 35  bsmtfin_sf_1     2050 non-null   float64\n",
      " 36  bsmtfin_type_2   1995 non-null   object \n",
      " 37  bsmtfin_sf_2     2050 non-null   float64\n",
      " 38  bsmt_unf_sf      2050 non-null   float64\n",
      " 39  total_bsmt_sf    2050 non-null   float64\n",
      " 40  heating          2051 non-null   object \n",
      " 41  heating_qc       2051 non-null   object \n",
      " 42  central_air      2051 non-null   object \n",
      " 43  electrical       2051 non-null   object \n",
      " 44  1st_flr_sf       2051 non-null   int64  \n",
      " 45  2nd_flr_sf       2051 non-null   int64  \n",
      " 46  low_qual_fin_sf  2051 non-null   int64  \n",
      " 47  gr_liv_area      2051 non-null   int64  \n",
      " 48  bsmt_full_bath   2049 non-null   float64\n",
      " 49  bsmt_half_bath   2049 non-null   float64\n",
      " 50  full_bath        2051 non-null   int64  \n",
      " 51  half_bath        2051 non-null   int64  \n",
      " 52  bedroom_abvgr    2051 non-null   int64  \n",
      " 53  kitchen_abvgr    2051 non-null   int64  \n",
      " 54  kitchen_qual     2051 non-null   object \n",
      " 55  totrms_abvgrd    2051 non-null   int64  \n",
      " 56  functional       2051 non-null   object \n",
      " 57  fireplaces       2051 non-null   int64  \n",
      " 58  fireplace_qu     1051 non-null   object \n",
      " 59  garage_type      1938 non-null   object \n",
      " 60  garage_yr_blt    1937 non-null   float64\n",
      " 61  garage_finish    1937 non-null   object \n",
      " 62  garage_cars      2050 non-null   float64\n",
      " 63  garage_area      2050 non-null   float64\n",
      " 64  garage_qual      1937 non-null   object \n",
      " 65  garage_cond      1937 non-null   object \n",
      " 66  paved_drive      2051 non-null   object \n",
      " 67  wood_deck_sf     2051 non-null   int64  \n",
      " 68  open_porch_sf    2051 non-null   int64  \n",
      " 69  enclosed_porch   2051 non-null   int64  \n",
      " 70  3ssn_porch       2051 non-null   int64  \n",
      " 71  screen_porch     2051 non-null   int64  \n",
      " 72  pool_area        2051 non-null   int64  \n",
      " 73  pool_qc          9 non-null      object \n",
      " 74  fence            400 non-null    object \n",
      " 75  misc_feature     65 non-null     object \n",
      " 76  misc_val         2051 non-null   int64  \n",
      " 77  mo_sold          2051 non-null   int64  \n",
      " 78  yr_sold          2051 non-null   int64  \n",
      " 79  sale_type        2051 non-null   object \n",
      " 80  saleprice        2051 non-null   int64  \n",
      "dtypes: float64(11), int64(28), object(42)\n",
      "memory usage: 1.3+ MB\n"
     ]
    }
   ],
   "source": [
    "#  Have to use categorical features as well\n",
    "\n",
    "df_train.info()"
   ]
  },
  {
   "cell_type": "code",
   "execution_count": 6,
   "id": "18508f92-8706-4211-b5d9-a31e4c6201a3",
   "metadata": {},
   "outputs": [
    {
     "data": {
      "text/plain": [
       "pool_qc           2042\n",
       "misc_feature      1986\n",
       "alley             1911\n",
       "fence             1651\n",
       "fireplace_qu      1000\n",
       "lot_frontage       330\n",
       "garage_yr_blt      114\n",
       "garage_cond        114\n",
       "garage_qual        114\n",
       "garage_finish      114\n",
       "garage_type        113\n",
       "bsmt_exposure       58\n",
       "bsmtfin_type_2      56\n",
       "bsmt_cond           55\n",
       "bsmt_qual           55\n",
       "bsmtfin_type_1      55\n",
       "mas_vnr_area        22\n",
       "mas_vnr_type        22\n",
       "bsmt_half_bath       2\n",
       "bsmt_full_bath       2\n",
       "total_bsmt_sf        1\n",
       "bsmt_unf_sf          1\n",
       "bsmtfin_sf_2         1\n",
       "garage_cars          1\n",
       "garage_area          1\n",
       "bsmtfin_sf_1         1\n",
       "dtype: int64"
      ]
     },
     "execution_count": 6,
     "metadata": {},
     "output_type": "execute_result"
    }
   ],
   "source": [
    "df_train.isnull().sum().loc[lambda x: x > 0].sort_values(ascending=False)"
   ]
  },
  {
   "cell_type": "code",
   "execution_count": 7,
   "id": "4e5568b4-4391-4a6e-9034-47459bac032e",
   "metadata": {},
   "outputs": [
    {
     "data": {
      "text/plain": [
       "pool_qc           874\n",
       "misc_feature      837\n",
       "alley             820\n",
       "fence             706\n",
       "fireplace_qu      422\n",
       "lot_frontage      160\n",
       "garage_yr_blt      45\n",
       "garage_finish      45\n",
       "garage_qual        45\n",
       "garage_cond        45\n",
       "garage_type        44\n",
       "bsmt_exposure      25\n",
       "bsmtfin_type_1     25\n",
       "bsmtfin_type_2     25\n",
       "bsmt_cond          25\n",
       "bsmt_qual          25\n",
       "mas_vnr_area        1\n",
       "mas_vnr_type        1\n",
       "electrical          1\n",
       "dtype: int64"
      ]
     },
     "execution_count": 7,
     "metadata": {},
     "output_type": "execute_result"
    }
   ],
   "source": [
    "df_test.isnull().sum().loc[lambda x: x > 0].sort_values(ascending=False)"
   ]
  },
  {
   "cell_type": "code",
   "execution_count": 8,
   "id": "ad3fa269-8f69-45f7-b572-3cd3b8a2f48e",
   "metadata": {},
   "outputs": [
    {
     "name": "stdout",
     "output_type": "stream",
     "text": [
      "0      2042\n",
      "519       1\n",
      "576       1\n",
      "800       1\n",
      "228       1\n",
      "480       1\n",
      "648       1\n",
      "738       1\n",
      "368       1\n",
      "561       1\n",
      "Name: pool_area, dtype: int64\n",
      "Gd    4\n",
      "Fa    2\n",
      "TA    2\n",
      "Ex    1\n",
      "Name: pool_qc, dtype: int64\n",
      "0      874\n",
      "144      1\n",
      "555      1\n",
      "512      1\n",
      "444      1\n",
      "Name: pool_area, dtype: int64\n",
      "Ex    3\n",
      "TA    1\n",
      "Name: pool_qc, dtype: int64\n"
     ]
    }
   ],
   "source": [
    "print(df_train['pool_area'].value_counts())\n",
    "print(df_train['pool_qc'].value_counts())\n",
    "print(df_test['pool_area'].value_counts())\n",
    "print(df_test['pool_qc'].value_counts())"
   ]
  },
  {
   "cell_type": "code",
   "execution_count": 9,
   "id": "41ecc76e-67eb-4d22-b606-435401c3a36b",
   "metadata": {},
   "outputs": [],
   "source": [
    "#  Pool nulls not a problem - null if no pool"
   ]
  },
  {
   "cell_type": "code",
   "execution_count": 10,
   "id": "403bbd43-e4ac-4573-badc-dc5804dc70ab",
   "metadata": {},
   "outputs": [],
   "source": [
    "#misc_feature      1986\n",
    "#alley             1911\n",
    "#fence             1651\n",
    "#fireplace_qu      1000\n",
    "#garage_yr_blt      114\n",
    "#garage_cond        114\n",
    "#garage_qual        114\n",
    "#garage_finish      114\n",
    "#garage_type        113\n",
    "#bsmt_exposure       58\n",
    "#bsmtfin_type_2      56\n",
    "#bsmt_cond           55\n",
    "#bsmt_qual           55\n",
    "#bsmtfin_type_1      55\n",
    "#mas_vnr_area        22\n",
    "#mas_vnr_type        22\n",
    "#bsmt_half_bath       2\n",
    "#bsmt_full_bath       2\n",
    "#total_bsmt_sf        1\n",
    "#bsmt_unf_sf          1\n",
    "#bsmtfin_sf_2         1\n",
    "#garage_cars          1\n",
    "#garage_area          1\n",
    "#bsmtfin_sf_1         1"
   ]
  },
  {
   "cell_type": "code",
   "execution_count": 11,
   "id": "8af246e0-915f-4aa0-aa44-d6a47e893736",
   "metadata": {},
   "outputs": [],
   "source": [
    "# frontage - interpolate based on size and type of lot"
   ]
  },
  {
   "cell_type": "code",
   "execution_count": null,
   "id": "1dfefdce-6389-472a-9649-d133c28fc96c",
   "metadata": {},
   "outputs": [],
   "source": []
  },
  {
   "cell_type": "code",
   "execution_count": null,
   "id": "4de67c55-83c2-47c7-b118-579901b4d555",
   "metadata": {},
   "outputs": [],
   "source": []
  },
  {
   "cell_type": "code",
   "execution_count": 12,
   "id": "45d3edd7-247e-427b-aba1-3c8939443bd9",
   "metadata": {},
   "outputs": [
    {
     "name": "stderr",
     "output_type": "stream",
     "text": [
      "C:\\Users\\Ari\\anaconda3\\lib\\site-packages\\seaborn\\_decorators.py:36: FutureWarning: Pass the following variables as keyword args: x, y. From version 0.12, the only valid positional argument will be `data`, and passing other arguments without an explicit keyword will result in an error or misinterpretation.\n",
      "  warnings.warn(\n"
     ]
    },
    {
     "data": {
      "text/plain": [
       "<AxesSubplot:xlabel='lot_frontage', ylabel='lot_area'>"
      ]
     },
     "execution_count": 12,
     "metadata": {},
     "output_type": "execute_result"
    },
    {
     "data": {
      "image/png": "[encoded data removed]",
      "text/plain": [
       "<Figure size 640x480 with 1 Axes>"
      ]
     },
     "metadata": {},
     "output_type": "display_data"
    }
   ],
   "source": [
    "sns.scatterplot(df_train['lot_frontage'],df_train['lot_area'],hue=df_train['lot_config'])"
   ]
  },
  {
   "cell_type": "code",
   "execution_count": 13,
   "id": "e4255f42-23b8-4438-8738-541a7b6c4041",
   "metadata": {},
   "outputs": [],
   "source": [
    "#for df in [df_train,df_test]:\n",
    " #   df['lot_config'] = [0 if val == 'FR3'\n",
    "  #                     else 1 if val == 'FR2'\n",
    "   #                    else 2 if val == 'Corner'\n",
    "    #                    else 3 if val == 'Inside'\n",
    "     #                   else 4\n",
    "      #                 for val in df['lot_config']]"
   ]
  },
  {
   "cell_type": "code",
   "execution_count": 14,
   "id": "480f3330-b584-4004-86f3-88006069d282",
   "metadata": {},
   "outputs": [],
   "source": [
    "#X = df_train.loc[df_train['lot_frontage'] > 0, ['lot_area','lot_config']]\n",
    "#y = df_train.loc[df_train['lot_frontage'] > 0, 'lot_frontage']\n",
    "#X_val = df_train.loc[df_train['lot_frontage'] == 0, ['lot_area','lot_config']]\n",
    "#y_val = df_train.loc[df_train['lot_frontage'] == 0, 'lot_frontage']\n",
    "\n",
    "#X,y,X_val,y_val = train_test_split(X,y,random_state=42)"
   ]
  },
  {
   "cell_type": "code",
   "execution_count": 15,
   "id": "58c5d24f-e64b-49c8-9027-9c17c150e7c4",
   "metadata": {},
   "outputs": [],
   "source": [
    "#lr = LinearRegression()\n",
    "#lr.fit(X,y)"
   ]
  },
  {
   "cell_type": "code",
   "execution_count": null,
   "id": "7000a803-e4d8-4e34-a7c4-cd7faec5771d",
   "metadata": {},
   "outputs": [],
   "source": []
  },
  {
   "cell_type": "code",
   "execution_count": null,
   "id": "7d220409-7f66-477e-bec3-804cb292a324",
   "metadata": {},
   "outputs": [],
   "source": []
  },
  {
   "cell_type": "code",
   "execution_count": 16,
   "id": "e6cf65a9-9bc6-4651-a608-98205c1b140e",
   "metadata": {},
   "outputs": [],
   "source": [
    "#  https://www.storycountyiowa.gov/DocumentCenter/View/6074/A-Guide-to-Geo-Numbering-in-Story-County?bidId="
   ]
  },
  {
   "cell_type": "code",
   "execution_count": null,
   "id": "610dff1e-6ca5-452d-8a22-8f9de1aa4396",
   "metadata": {},
   "outputs": [],
   "source": []
  },
  {
   "cell_type": "code",
   "execution_count": null,
   "id": "3974e943-04b0-4443-9f4c-75166cd9a2a6",
   "metadata": {},
   "outputs": [],
   "source": []
  },
  {
   "cell_type": "code",
   "execution_count": 17,
   "id": "d86db167-272e-4425-8ed7-d2d96c210132",
   "metadata": {},
   "outputs": [],
   "source": [
    "for df in [df_train,df_test]:\n",
    "    df['pid_1'] = df['pid'].astype('str').str[:1]\n",
    "    df['pid_2'] = df['pid'].astype('str').str[1:3]\n",
    "    df['pid_3'] = df['pid'].astype('str').str[3:6]\n",
    "    df['pid_4'] = df['pid'].astype('str').str[6:9]\n"
   ]
  },
  {
   "cell_type": "code",
   "execution_count": null,
   "id": "157eb466-8416-42de-b4dc-81213e00a2bf",
   "metadata": {},
   "outputs": [],
   "source": []
  },
  {
   "cell_type": "code",
   "execution_count": null,
   "id": "b8eee141-97d4-43db-8ff9-0e063a315787",
   "metadata": {},
   "outputs": [],
   "source": []
  },
  {
   "cell_type": "code",
   "execution_count": 18,
   "id": "f2a22f48-ab3d-4c9c-adec-a5229143ad0a",
   "metadata": {},
   "outputs": [
    {
     "data": {
      "text/plain": [
       "Index(['ms_zoning', 'street', 'alley', 'lot_shape', 'land_contour',\n",
       "       'utilities', 'lot_config', 'land_slope', 'neighborhood', 'condition_1',\n",
       "       'condition_2', 'bldg_type', 'house_style', 'roof_style', 'roof_matl',\n",
       "       'exterior_1st', 'exterior_2nd', 'mas_vnr_type', 'exter_qual',\n",
       "       'exter_cond', 'foundation', 'bsmt_qual', 'bsmt_cond', 'bsmt_exposure',\n",
       "       'bsmtfin_type_1', 'bsmtfin_type_2', 'heating', 'heating_qc',\n",
       "       'central_air', 'electrical', 'kitchen_qual', 'functional',\n",
       "       'fireplace_qu', 'garage_type', 'garage_finish', 'garage_qual',\n",
       "       'garage_cond', 'paved_drive', 'pool_qc', 'fence', 'misc_feature',\n",
       "       'sale_type', 'pid_1', 'pid_2', 'pid_3', 'pid_4'],\n",
       "      dtype='object')"
      ]
     },
     "execution_count": 18,
     "metadata": {},
     "output_type": "execute_result"
    }
   ],
   "source": [
    "df_train.select_dtypes('object').columns"
   ]
  },
  {
   "cell_type": "code",
   "execution_count": 19,
   "id": "813d662d-1a9f-4937-9c74-f63b828f32b6",
   "metadata": {},
   "outputs": [
    {
     "name": "stdout",
     "output_type": "stream",
     "text": [
      "RL         1598\n",
      "RM          316\n",
      "FV          101\n",
      "C (all)      19\n",
      "RH           14\n",
      "A (agr)       2\n",
      "I (all)       1\n",
      "Name: ms_zoning, dtype: int64\n",
      "RL         674\n",
      "RM         146\n",
      "FV          38\n",
      "RH          13\n",
      "C (all)      6\n",
      "I (all)      1\n",
      "Name: ms_zoning, dtype: int64\n"
     ]
    }
   ],
   "source": [
    "print(df_train.ms_zoning.value_counts())\n",
    "print(df_test.ms_zoning.value_counts())"
   ]
  },
  {
   "cell_type": "code",
   "execution_count": 20,
   "id": "dfe4662b-3964-446d-b622-ebeb1e9977c2",
   "metadata": {},
   "outputs": [],
   "source": [
    "for df in [df_train,df_test]:\n",
    "    df['ms_zoning'] = [0 if val == 'I (all)' \n",
    "                         else 1 if val == 'C (all)' \n",
    "                         else 2 if val == 'RH'\n",
    "                         else 3 if val == 'RM'\n",
    "                         else 4 if val == 'RL'\n",
    "                         else 5 if val == 'FV'\n",
    "                         else 6\n",
    "                         for val in df['ms_zoning']]"
   ]
  },
  {
   "cell_type": "code",
   "execution_count": 21,
   "id": "bc640b3c-ff6d-490a-929d-ce5b630c39c5",
   "metadata": {},
   "outputs": [
    {
     "data": {
      "text/plain": [
       "Pave    2044\n",
       "Grvl       7\n",
       "Name: street, dtype: int64"
      ]
     },
     "execution_count": 21,
     "metadata": {},
     "output_type": "execute_result"
    }
   ],
   "source": [
    "df_train['street'].value_counts()"
   ]
  },
  {
   "cell_type": "code",
   "execution_count": 22,
   "id": "46da61b1-af86-40f2-97d3-573ae7f5b408",
   "metadata": {},
   "outputs": [],
   "source": [
    "for df in [df_train,df_test]:\n",
    "    df['street'] = [0 if val == 'Grvl' else 1 for val in df['street']]"
   ]
  },
  {
   "cell_type": "code",
   "execution_count": 23,
   "id": "2daa33fc-e1cf-4301-b16b-70c7dcf232b5",
   "metadata": {},
   "outputs": [
    {
     "data": {
      "text/plain": [
       "Grvl    85\n",
       "Pave    55\n",
       "Name: alley, dtype: int64"
      ]
     },
     "execution_count": 23,
     "metadata": {},
     "output_type": "execute_result"
    }
   ],
   "source": [
    "df_train['alley'].value_counts()"
   ]
  },
  {
   "cell_type": "code",
   "execution_count": 24,
   "id": "c3e71c8c-2365-4caa-912f-762de9af0c2b",
   "metadata": {},
   "outputs": [],
   "source": [
    "for df in [df_train,df_test]:\n",
    "    df['alley'] = [0 if val == 'Grvl' else 1 for val in df['alley']]"
   ]
  },
  {
   "cell_type": "code",
   "execution_count": null,
   "id": "c5e41781-fae0-4336-9a0e-aa0efccf8639",
   "metadata": {},
   "outputs": [],
   "source": []
  },
  {
   "cell_type": "code",
   "execution_count": 25,
   "id": "57fc0bd5-5dee-4210-b560-bc694bf089c4",
   "metadata": {},
   "outputs": [
    {
     "data": {
      "text/plain": [
       "Reg    1295\n",
       "IR1     692\n",
       "IR2      55\n",
       "IR3       9\n",
       "Name: lot_shape, dtype: int64"
      ]
     },
     "execution_count": 25,
     "metadata": {},
     "output_type": "execute_result"
    }
   ],
   "source": [
    "df_train['lot_shape'].value_counts()"
   ]
  },
  {
   "cell_type": "code",
   "execution_count": 26,
   "id": "08dd896a-3bce-4cc3-be2b-278dcdbdc186",
   "metadata": {},
   "outputs": [],
   "source": [
    "for df in [df_train,df_test]:\n",
    "    df['lot_shape'] = [0 if val == 'IR3' \n",
    "                         else 1 if val == 'IR2' \n",
    "                         else 2 if val == 'IR1'\n",
    "                         else 3\n",
    "                         for val in df['lot_shape']]"
   ]
  },
  {
   "cell_type": "code",
   "execution_count": 27,
   "id": "61e8069b-6110-4ff3-9c28-bd4baaf665c1",
   "metadata": {},
   "outputs": [
    {
     "data": {
      "text/plain": [
       "Lvl    1843\n",
       "HLS      85\n",
       "Bnk      80\n",
       "Low      43\n",
       "Name: land_contour, dtype: int64"
      ]
     },
     "execution_count": 27,
     "metadata": {},
     "output_type": "execute_result"
    }
   ],
   "source": [
    "df_train['land_contour'].value_counts()"
   ]
  },
  {
   "cell_type": "code",
   "execution_count": 28,
   "id": "bac181e8-ae53-4a57-8754-92733234070b",
   "metadata": {},
   "outputs": [],
   "source": [
    "for df in [df_train,df_test]:\n",
    "    df['land_contour'] = [0 if val == 'IR3' \n",
    "                         else 1 if val == 'IR2' \n",
    "                         else 2 if val == 'IR1'\n",
    "                         else 3\n",
    "                         for val in df['land_contour']]"
   ]
  },
  {
   "cell_type": "code",
   "execution_count": 29,
   "id": "9484bec8-e448-4aa0-8412-e425462cef0d",
   "metadata": {},
   "outputs": [
    {
     "data": {
      "text/plain": [
       "AllPub    2049\n",
       "NoSeWa       1\n",
       "NoSewr       1\n",
       "Name: utilities, dtype: int64"
      ]
     },
     "execution_count": 29,
     "metadata": {},
     "output_type": "execute_result"
    }
   ],
   "source": [
    "df_train['utilities'].value_counts()"
   ]
  },
  {
   "cell_type": "code",
   "execution_count": 30,
   "id": "acefec72-452e-43cd-b7a8-371b5081e27d",
   "metadata": {},
   "outputs": [],
   "source": [
    "for df in [df_train,df_test]:\n",
    "    df['utilities'] = [0 if val == 'NoSeWa'\n",
    "                       else 1 if val == 'NoSeWr'\n",
    "                       else 2 \n",
    "                       for val in df['utilities']]"
   ]
  },
  {
   "cell_type": "code",
   "execution_count": 31,
   "id": "96283b9a-900b-455e-b89c-9a7890481c11",
   "metadata": {},
   "outputs": [
    {
     "data": {
      "text/plain": [
       "Inside     1503\n",
       "Corner      348\n",
       "CulDSac     131\n",
       "FR2          60\n",
       "FR3           9\n",
       "Name: lot_config, dtype: int64"
      ]
     },
     "execution_count": 31,
     "metadata": {},
     "output_type": "execute_result"
    }
   ],
   "source": [
    "df_train['lot_config'].value_counts()"
   ]
  },
  {
   "cell_type": "code",
   "execution_count": 32,
   "id": "5f7d33bb-1b80-464a-8d5d-279084dc5fd8",
   "metadata": {},
   "outputs": [],
   "source": [
    "for df in [df_train,df_test]:\n",
    "    df['lot_config'] = [0 if val == 'FR3'\n",
    "                       else 1 if val == 'FR2'\n",
    "                       else 2 if val == 'Corner'\n",
    "                        else 3 if val == 'Inside'\n",
    "                        else 4\n",
    "                       for val in df['lot_config']]"
   ]
  },
  {
   "cell_type": "code",
   "execution_count": 33,
   "id": "6bc3bfb6-0f63-48c2-ad56-a25c849b8e73",
   "metadata": {},
   "outputs": [
    {
     "data": {
      "text/plain": [
       "Gtl    1953\n",
       "Mod      88\n",
       "Sev      10\n",
       "Name: land_slope, dtype: int64"
      ]
     },
     "execution_count": 33,
     "metadata": {},
     "output_type": "execute_result"
    }
   ],
   "source": [
    "df_train['land_slope'].value_counts()"
   ]
  },
  {
   "cell_type": "code",
   "execution_count": 34,
   "id": "ca46b116-7e0a-4ec0-b3d8-9f45a49f6ad1",
   "metadata": {},
   "outputs": [],
   "source": [
    "for df in [df_train,df_test]:\n",
    "    df['land_slope'] = [0 if val == 'Sev'\n",
    "                       else 1 if val == 'Mod'\n",
    "                       else 2\n",
    "                       for val in df['land_slope']]"
   ]
  },
  {
   "cell_type": "code",
   "execution_count": 35,
   "id": "044c85e9-3550-4f66-b74b-9dfe0bde85ea",
   "metadata": {},
   "outputs": [
    {
     "data": {
      "text/plain": [
       "Norm      1767\n",
       "Feedr      109\n",
       "Artery      70\n",
       "RRAn        36\n",
       "PosN        27\n",
       "RRAe        21\n",
       "PosA        12\n",
       "RRNn         6\n",
       "RRNe         3\n",
       "Name: condition_1, dtype: int64"
      ]
     },
     "execution_count": 35,
     "metadata": {},
     "output_type": "execute_result"
    }
   ],
   "source": [
    "df_train['condition_1'].value_counts()"
   ]
  },
  {
   "cell_type": "code",
   "execution_count": 36,
   "id": "771b1e3a-1eff-4705-8f6a-5752343da76e",
   "metadata": {},
   "outputs": [],
   "source": [
    "for df in [df_train,df_test]:\n",
    "    for cond in ['condition_1','condition_2']:\n",
    "        df[cond] = [0 if (val == 'RRAe') | (val == 'RRAn')\n",
    "                    else 1 if (val == 'RRNe') | (val == 'RRNn')\n",
    "                    else 2 if val == 'Artery'\n",
    "                    else 3 if val == 'Feedr'\n",
    "                    else 4 if val == 'Normal'\n",
    "                    else 5 if val == 'PosN'\n",
    "                    else 6 \n",
    "                    for val in df[cond]]"
   ]
  },
  {
   "cell_type": "code",
   "execution_count": 37,
   "id": "950fcd2f-cfb3-41ee-99b5-f67db4cd893f",
   "metadata": {},
   "outputs": [
    {
     "data": {
      "text/plain": [
       "1Fam      1700\n",
       "TwnhsE     161\n",
       "Duplex      75\n",
       "Twnhs       69\n",
       "2fmCon      46\n",
       "Name: bldg_type, dtype: int64"
      ]
     },
     "execution_count": 37,
     "metadata": {},
     "output_type": "execute_result"
    }
   ],
   "source": [
    "df_train['bldg_type'].value_counts()"
   ]
  },
  {
   "cell_type": "code",
   "execution_count": 38,
   "id": "8b3c0ad6-ae90-4d26-8ba9-de188d3e8ee7",
   "metadata": {},
   "outputs": [],
   "source": [
    "for df in [df_train,df_test]:\n",
    "    df['bldg_type'] = [0 if val == 'Twnhs'\n",
    "                       else 1 if val == 'TwnhsE'\n",
    "                       else 2 if val == 'Duplex'\n",
    "                       else 3 if val == '2fmCon'\n",
    "                       else 4\n",
    "                       for val in df['bldg_type']]"
   ]
  },
  {
   "cell_type": "code",
   "execution_count": 39,
   "id": "14189795-9f73-428e-a558-f2be62a8f455",
   "metadata": {},
   "outputs": [
    {
     "data": {
      "text/plain": [
       "1Story    1059\n",
       "2Story     598\n",
       "1.5Fin     218\n",
       "SLvl        94\n",
       "SFoyer      50\n",
       "2.5Unf      14\n",
       "1.5Unf      12\n",
       "2.5Fin       6\n",
       "Name: house_style, dtype: int64"
      ]
     },
     "execution_count": 39,
     "metadata": {},
     "output_type": "execute_result"
    }
   ],
   "source": [
    "df_train['house_style'].value_counts()"
   ]
  },
  {
   "cell_type": "code",
   "execution_count": 40,
   "id": "bce72193-aa6b-401a-8a95-a847a75fa9d7",
   "metadata": {},
   "outputs": [],
   "source": [
    "for df in [df_train,df_test]:\n",
    "    df['house_style'] = [0 if val == '1Story'\n",
    "                         else 1 if val == '1.5Unf'\n",
    "                         else 2 if val == '1.5Fin'\n",
    "                         else 3 if val == 'SLvl'\n",
    "                         else 4 if val == 'SFoyer'\n",
    "                         else 5 if val == '2Story'\n",
    "                         else 6 if val == '2.5Unf'\n",
    "                         else 7\n",
    "                       for val in df['house_style']]"
   ]
  },
  {
   "cell_type": "code",
   "execution_count": null,
   "id": "afa49a90-408b-4c15-bfb5-2732cb930c17",
   "metadata": {},
   "outputs": [],
   "source": []
  },
  {
   "cell_type": "code",
   "execution_count": 41,
   "id": "fba845b2-36b9-46f3-a726-9df9ef7ce312",
   "metadata": {},
   "outputs": [
    {
     "name": "stdout",
     "output_type": "stream",
     "text": [
      "TA    552\n",
      "Gd    292\n",
      "Ex     25\n",
      "Fa      9\n",
      "Name: exter_qual, dtype: int64\n",
      "TA    770\n",
      "Gd     84\n",
      "Fa     18\n",
      "Ex      5\n",
      "Po      1\n",
      "Name: exter_cond, dtype: int64\n",
      "TA    396\n",
      "Gd    355\n",
      "Ex     73\n",
      "Fa     28\n",
      "Po      1\n",
      "Name: bsmt_qual, dtype: int64\n",
      "TA    781\n",
      "Fa     39\n",
      "Gd     33\n",
      "Name: bsmt_cond, dtype: int64\n",
      "Ex    429\n",
      "TA    267\n",
      "Gd    157\n",
      "Fa     25\n",
      "Name: heating_qc, dtype: int64\n",
      "TA    447\n",
      "Gd    354\n",
      "Ex     53\n",
      "Fa     23\n",
      "Po      1\n",
      "Name: kitchen_qual, dtype: int64\n",
      "Gd    220\n",
      "TA    193\n",
      "Fa     16\n",
      "Po     15\n",
      "Ex     12\n",
      "Name: fireplace_qu, dtype: int64\n",
      "TA    782\n",
      "Fa     42\n",
      "Gd      6\n",
      "Po      3\n",
      "Name: garage_qual, dtype: int64\n",
      "TA    796\n",
      "Fa     27\n",
      "Po      6\n",
      "Gd      3\n",
      "Ex      1\n",
      "Name: garage_cond, dtype: int64\n",
      "Ex    3\n",
      "TA    1\n",
      "Name: pool_qc, dtype: int64\n"
     ]
    }
   ],
   "source": [
    "for col in ['exter_qual','exter_cond','bsmt_qual','bsmt_cond','heating_qc','kitchen_qual','fireplace_qu','garage_qual','garage_cond','pool_qc']:\n",
    "    print(df[col].value_counts())"
   ]
  },
  {
   "cell_type": "code",
   "execution_count": 42,
   "id": "2af2db77-c2e1-44c9-b833-b8e161b486d5",
   "metadata": {},
   "outputs": [],
   "source": [
    "for df in [df_train,df_test]:\n",
    "    for col in ['exter_qual','exter_cond','bsmt_qual','bsmt_cond',\n",
    "                'heating_qc','kitchen_qual','fireplace_qu','garage_qual','garage_cond','pool_qc']:\n",
    "        df[col] = [0 if val == 'NA'\n",
    "                   else 1 if val == 'Po'\n",
    "                   else 2 if val == 'Fa'\n",
    "                   else 3 if val == 'TA'\n",
    "                   else 4 if val == 'Gd'\n",
    "                   else 5\n",
    "                   for val in df[col]]\n",
    "                "
   ]
  },
  {
   "cell_type": "code",
   "execution_count": 43,
   "id": "00a4572d-d0f3-4515-8688-f26a3e9d9409",
   "metadata": {},
   "outputs": [
    {
     "data": {
      "text/plain": [
       "No    1339\n",
       "Av     288\n",
       "Gd     203\n",
       "Mn     163\n",
       "Name: bsmt_exposure, dtype: int64"
      ]
     },
     "execution_count": 43,
     "metadata": {},
     "output_type": "execute_result"
    }
   ],
   "source": [
    "df_train['bsmt_exposure'].value_counts()"
   ]
  },
  {
   "cell_type": "code",
   "execution_count": 44,
   "id": "858a3579-2575-4e9b-8f3c-87392352c220",
   "metadata": {},
   "outputs": [],
   "source": [
    "for df in [df_train,df_test]:\n",
    "    df['bsmt_exposure'] = [0 if val == 'NA'\n",
    "                           else 1 if val == 'No'\n",
    "                           else 2 if val == 'Mn'\n",
    "                           else 3 if val == 'Av'\n",
    "                           else 4 \n",
    "                           for val in df['bsmt_exposure']]"
   ]
  },
  {
   "cell_type": "code",
   "execution_count": 45,
   "id": "29636a82-cd97-49cb-985e-02598f920c05",
   "metadata": {},
   "outputs": [
    {
     "name": "stdout",
     "output_type": "stream",
     "text": [
      "GLQ    615\n",
      "Unf    603\n",
      "ALQ    293\n",
      "BLQ    200\n",
      "Rec    183\n",
      "LwQ    102\n",
      "Name: bsmtfin_type_1, dtype: int64\n",
      "Unf    1749\n",
      "Rec      80\n",
      "LwQ      60\n",
      "BLQ      48\n",
      "ALQ      35\n",
      "GLQ      23\n",
      "Name: bsmtfin_type_2, dtype: int64\n"
     ]
    }
   ],
   "source": [
    "print(df_train['bsmtfin_type_1'].value_counts())\n",
    "print(df_train['bsmtfin_type_2'].value_counts())"
   ]
  },
  {
   "cell_type": "code",
   "execution_count": 46,
   "id": "fa63beaa-e46c-4f72-9aac-c156999f801b",
   "metadata": {},
   "outputs": [],
   "source": [
    "for df in [df_train,df_test]:\n",
    "    for col in ['bsmtfin_type_1','bsmtfin_type_2']:\n",
    "        df[col] = [0 if val == 'NA'\n",
    "                   else 1 if val == 'Unf'\n",
    "                   else 2 if val == 'LwQ'\n",
    "                   else 3 if val == 'Rec'\n",
    "                   else 4 if val == 'BLQ'\n",
    "                   else 5 if val == 'ALQ'\n",
    "                   else 6\n",
    "                   for val in df[col]]"
   ]
  },
  {
   "cell_type": "code",
   "execution_count": 47,
   "id": "b42712f3-1415-4af3-bd69-a98d10a46383",
   "metadata": {},
   "outputs": [
    {
     "data": {
      "text/plain": [
       "Attchd     1213\n",
       "Detchd      536\n",
       "BuiltIn     132\n",
       "Basment      27\n",
       "2Types       19\n",
       "CarPort      11\n",
       "Name: garage_type, dtype: int64"
      ]
     },
     "execution_count": 47,
     "metadata": {},
     "output_type": "execute_result"
    }
   ],
   "source": [
    "df_train['garage_type'].value_counts()"
   ]
  },
  {
   "cell_type": "code",
   "execution_count": 48,
   "id": "d72d3e01-abb6-4559-a2de-dc94e505ef70",
   "metadata": {},
   "outputs": [],
   "source": [
    "for df in [df_train,df_test]:\n",
    "    df['garage_type'] = [0 if val == 'NA'\n",
    "                         else 1 if val == 'CarPort'\n",
    "                         else 2 if val == 'Detchd'\n",
    "                         else 3 if val == 'Basment'\n",
    "                         else 4 if val == 'Attchd'\n",
    "                         else 5 if val == 'BuiltIn'\n",
    "                         else 6\n",
    "                         for val in df['garage_type']]"
   ]
  },
  {
   "cell_type": "code",
   "execution_count": 49,
   "id": "93e961f5-03ad-434a-905e-f26d5f67a798",
   "metadata": {},
   "outputs": [
    {
     "data": {
      "text/plain": [
       "Unf    849\n",
       "RFn    579\n",
       "Fin    509\n",
       "Name: garage_finish, dtype: int64"
      ]
     },
     "execution_count": 49,
     "metadata": {},
     "output_type": "execute_result"
    }
   ],
   "source": [
    "df_train['garage_finish'].value_counts()"
   ]
  },
  {
   "cell_type": "code",
   "execution_count": 50,
   "id": "5db2ae87-7e0a-482c-aff0-22ac5cbe1d2c",
   "metadata": {},
   "outputs": [],
   "source": [
    "for df in [df_train,df_test]:\n",
    "    df['garage_finish'] = [0 if val == 'NA'\n",
    "                           else 1 if val == 'Unf'\n",
    "                           else 2 if val == 'RFn'\n",
    "                           else 3\n",
    "                           for val in df['garage_finish']]"
   ]
  },
  {
   "cell_type": "code",
   "execution_count": null,
   "id": "425a10f9-fb14-465a-8de3-284e74c78a8f",
   "metadata": {},
   "outputs": [],
   "source": []
  },
  {
   "cell_type": "code",
   "execution_count": 51,
   "id": "e7651b6d-39b5-4a6b-8cbc-2474acd703bd",
   "metadata": {},
   "outputs": [
    {
     "data": {
      "text/plain": [
       "SBrkr    1868\n",
       "FuseA     140\n",
       "FuseF      35\n",
       "FuseP       7\n",
       "Mix         1\n",
       "Name: electrical, dtype: int64"
      ]
     },
     "execution_count": 51,
     "metadata": {},
     "output_type": "execute_result"
    }
   ],
   "source": [
    "df_train['electrical'].value_counts()"
   ]
  },
  {
   "cell_type": "code",
   "execution_count": 52,
   "id": "766b330a-4817-4492-b4b9-74573df398a4",
   "metadata": {},
   "outputs": [],
   "source": [
    "for df in [df_train,df_test]:\n",
    "    df['electrical'] = [0 if val == 'FuseP'\n",
    "                        else 1 if val == 'FuseF'\n",
    "                        else 2 if val == 'FuseA'\n",
    "                        else 3 if val == 'Mix'\n",
    "                        else 4\n",
    "                        for val in df['electrical']]"
   ]
  },
  {
   "cell_type": "code",
   "execution_count": 53,
   "id": "24dbee5c-7536-41ae-a6dd-d231c3118161",
   "metadata": {},
   "outputs": [
    {
     "data": {
      "text/plain": [
       "Y    1910\n",
       "N     141\n",
       "Name: central_air, dtype: int64"
      ]
     },
     "execution_count": 53,
     "metadata": {},
     "output_type": "execute_result"
    }
   ],
   "source": [
    "df_train['central_air'].value_counts()"
   ]
  },
  {
   "cell_type": "code",
   "execution_count": 54,
   "id": "0ceceadc-1cb1-403c-b9c3-58ee0ef48660",
   "metadata": {},
   "outputs": [],
   "source": [
    "for df in [df_train,df_test]:\n",
    "    df['central_air'] = [1 if val == 'Y' else 0 for val in df['central_air']]"
   ]
  },
  {
   "cell_type": "code",
   "execution_count": 55,
   "id": "5fb24916-81bd-493b-9ab5-92da220bb309",
   "metadata": {},
   "outputs": [
    {
     "data": {
      "text/plain": [
       "Typ     1915\n",
       "Min2      42\n",
       "Min1      42\n",
       "Mod       29\n",
       "Maj1      12\n",
       "Maj2       7\n",
       "Sev        2\n",
       "Sal        2\n",
       "Name: functional, dtype: int64"
      ]
     },
     "execution_count": 55,
     "metadata": {},
     "output_type": "execute_result"
    }
   ],
   "source": [
    "df_train['functional'].value_counts()"
   ]
  },
  {
   "cell_type": "code",
   "execution_count": 56,
   "id": "ad727ea6-8ad3-483a-a044-907bb0aeac19",
   "metadata": {},
   "outputs": [],
   "source": [
    "for df in [df_train,df_test]:\n",
    "    df['functional'] = [0 if val == 'Sal'\n",
    "                        else 1 if val == 'Sev'\n",
    "                        else 2 if val == 'Maj2'\n",
    "                        else 3 if val == 'Maj1'\n",
    "                        else 4 if val == 'Mod'\n",
    "                        else 5 if val == 'Min2'\n",
    "                        else 6 if val == 'Min1'\n",
    "                        else 7\n",
    "                        for val in df['functional']]"
   ]
  },
  {
   "cell_type": "code",
   "execution_count": 57,
   "id": "cea84c83-95ca-40ed-a795-a96c4b32fe98",
   "metadata": {},
   "outputs": [
    {
     "data": {
      "text/plain": [
       "Y    1861\n",
       "N     151\n",
       "P      39\n",
       "Name: paved_drive, dtype: int64"
      ]
     },
     "execution_count": 57,
     "metadata": {},
     "output_type": "execute_result"
    }
   ],
   "source": [
    "df_train['paved_drive'].value_counts()"
   ]
  },
  {
   "cell_type": "code",
   "execution_count": 58,
   "id": "7670503f-943e-4755-a949-04d52b83ad4d",
   "metadata": {},
   "outputs": [],
   "source": [
    "for df in [df_train,df_test]:\n",
    "    df['paved_drive'] = [0 if val == 'N'\n",
    "                         else 1 if val == 'P'\n",
    "                         else 2\n",
    "                         for val in df['paved_drive']]"
   ]
  },
  {
   "cell_type": "code",
   "execution_count": 59,
   "id": "d6f58286-a779-4698-8cb2-4bac937f6803",
   "metadata": {},
   "outputs": [
    {
     "data": {
      "text/plain": [
       "MnPrv    227\n",
       "GdPrv     83\n",
       "GdWo      80\n",
       "MnWw      10\n",
       "Name: fence, dtype: int64"
      ]
     },
     "execution_count": 59,
     "metadata": {},
     "output_type": "execute_result"
    }
   ],
   "source": [
    "df_train['fence'].value_counts()"
   ]
  },
  {
   "cell_type": "code",
   "execution_count": 60,
   "id": "59f64f8c-08b1-498f-9d94-1e88421326f4",
   "metadata": {},
   "outputs": [],
   "source": [
    "#for df in [df_train,df_test]:\n",
    " #   df['fence_mat'] = [0 if val == 'NA'\n",
    "  #                     else 1 if val == 'MnWw'\n",
    "   #                    else 2 if val == 'GdWo'\n",
    "    #                   for val in df['fence']]\n",
    "  #  df['fence_priv'] = [0 if val == 'NA'\n",
    "   #                     else 1 if val == 'MnPrv'\n",
    "    #                    else 2 if val == 'GdPrv'\n",
    "     #                   for val in df['fence']]"
   ]
  },
  {
   "cell_type": "code",
   "execution_count": 61,
   "id": "e6a2b8b2-9851-4067-aefb-050450f6edb3",
   "metadata": {},
   "outputs": [],
   "source": [
    "#  One-hot for  roof style, roof matl, exterior 1st/2nd, mas vnr type, foundation, \n",
    "# heating,  misc feature, sale type"
   ]
  },
  {
   "cell_type": "code",
   "execution_count": null,
   "id": "e95a8edc-dbdc-459e-84db-b6a379222af1",
   "metadata": {},
   "outputs": [],
   "source": []
  },
  {
   "cell_type": "code",
   "execution_count": 62,
   "id": "3530c3cf-251b-428c-af02-aaa8be38d0f2",
   "metadata": {},
   "outputs": [
    {
     "data": {
      "text/plain": [
       "((2051, 85), (878, 84))"
      ]
     },
     "execution_count": 62,
     "metadata": {},
     "output_type": "execute_result"
    }
   ],
   "source": [
    "df_train.shape, df_test.shape"
   ]
  },
  {
   "cell_type": "code",
   "execution_count": 63,
   "id": "44ef44dd-c2d7-4ced-8ed9-2a1ed4035c3d",
   "metadata": {},
   "outputs": [
    {
     "data": {
      "text/plain": [
       "{'saleprice'}"
      ]
     },
     "execution_count": 63,
     "metadata": {},
     "output_type": "execute_result"
    }
   ],
   "source": [
    "set(df_train.columns) - set(df_test.columns)"
   ]
  },
  {
   "cell_type": "code",
   "execution_count": 64,
   "id": "17024f49-24fb-4e67-ae58-e9deb4f6fa0c",
   "metadata": {},
   "outputs": [
    {
     "data": {
      "text/plain": [
       "misc_feature      1986\n",
       "fence             1651\n",
       "lot_frontage       330\n",
       "garage_yr_blt      114\n",
       "mas_vnr_type        22\n",
       "mas_vnr_area        22\n",
       "bsmt_full_bath       2\n",
       "bsmt_half_bath       2\n",
       "bsmtfin_sf_1         1\n",
       "bsmtfin_sf_2         1\n",
       "bsmt_unf_sf          1\n",
       "total_bsmt_sf        1\n",
       "garage_cars          1\n",
       "garage_area          1\n",
       "dtype: int64"
      ]
     },
     "execution_count": 64,
     "metadata": {},
     "output_type": "execute_result"
    }
   ],
   "source": [
    "df_train.isnull().sum().loc[lambda x: x > 0].sort_values(ascending=False)"
   ]
  },
  {
   "cell_type": "code",
   "execution_count": 65,
   "id": "8e4b089f-00bc-449a-8300-6da93609ec73",
   "metadata": {},
   "outputs": [
    {
     "data": {
      "text/plain": [
       "misc_feature     837\n",
       "fence            706\n",
       "lot_frontage     160\n",
       "garage_yr_blt     45\n",
       "mas_vnr_type       1\n",
       "mas_vnr_area       1\n",
       "dtype: int64"
      ]
     },
     "execution_count": 65,
     "metadata": {},
     "output_type": "execute_result"
    }
   ],
   "source": [
    "df_test.isnull().sum().loc[lambda x: x > 0].sort_values(ascending=False)"
   ]
  },
  {
   "cell_type": "code",
   "execution_count": 66,
   "id": "5a61b762-3a06-403d-a25b-6b51ceb7a021",
   "metadata": {},
   "outputs": [],
   "source": [
    "#  See if nulls are meaningful - can we impute? - null might mean it doesn't exist"
   ]
  },
  {
   "cell_type": "code",
   "execution_count": 67,
   "id": "6b3e99db-ba2b-4768-bcc4-c5a00b34e0d8",
   "metadata": {},
   "outputs": [],
   "source": [
    "for df in [df_train,df_test]:\n",
    "    df['pid_1'] = pd.to_numeric(df['pid_1'])\n",
    "    df['pid_2'] = pd.to_numeric(df['pid_2'])\n",
    "    df['pid_3'] = pd.to_numeric(df['pid_3'])\n",
    "    df['pid_4'] = pd.to_numeric(df['pid_4'])"
   ]
  },
  {
   "cell_type": "code",
   "execution_count": null,
   "id": "39be4378-028c-4edc-a8e5-831c9ab36062",
   "metadata": {},
   "outputs": [],
   "source": []
  },
  {
   "cell_type": "code",
   "execution_count": 68,
   "id": "d8683c46-fa5f-43a0-aba4-ed89f939db3c",
   "metadata": {},
   "outputs": [],
   "source": [
    "from sklearn.compose import ColumnTransformer\n",
    "from sklearn.preprocessing import OneHotEncoder\n",
    " \n",
    "ctx = ColumnTransformer(\n",
    "    [('ohe', \n",
    "      OneHotEncoder(drop='first',\n",
    "                   sparse=False,\n",
    "                   handle_unknown='ignore'),\n",
    "      ['neighborhood','roof_style','roof_matl','exterior_1st','exterior_2nd','heating','sale_type'])\n",
    "    ],\n",
    "    remainder='passthrough')\n",
    "ctx.fit_transform(df_train)\n",
    "ctx.fit_transform(df_test)\n",
    "\n",
    "df_train = pd.DataFrame(ctx.fit_transform(df_train), columns = ctx.get_feature_names_out())\n",
    "df_test = pd.DataFrame(ctx.fit_transform(df_test), columns = ctx.get_feature_names_out())"
   ]
  },
  {
   "cell_type": "code",
   "execution_count": null,
   "id": "74716396-79f4-4e5f-aa28-3219e683bdc9",
   "metadata": {},
   "outputs": [],
   "source": []
  },
  {
   "cell_type": "code",
   "execution_count": null,
   "id": "42a9a789-2886-4b73-9306-ddea6fff741a",
   "metadata": {},
   "outputs": [],
   "source": []
  },
  {
   "cell_type": "code",
   "execution_count": 69,
   "id": "c08c4a44-f4d1-4ce5-a03d-2bbac9c60499",
   "metadata": {},
   "outputs": [],
   "source": [
    "df_test = df_test[[col for col in df_train.columns if (col in df_test.columns) & (col != 'saleprice')]].copy()"
   ]
  },
  {
   "cell_type": "code",
   "execution_count": 70,
   "id": "087317a1-ff9c-46c1-8789-9f477a8e550f",
   "metadata": {},
   "outputs": [],
   "source": [
    "# Convert categoricals before doing this\n",
    "\n",
    "# df_train = df_train.select_dtypes('number')\n",
    "# df_test = df_test.select_dtypes('number')"
   ]
  },
  {
   "cell_type": "code",
   "execution_count": 71,
   "id": "0df1e7bd-6032-4421-8dca-5532c0b0b4ea",
   "metadata": {},
   "outputs": [],
   "source": [
    "df_train.dropna(axis = 1,inplace=True)"
   ]
  },
  {
   "cell_type": "code",
   "execution_count": 72,
   "id": "098f2b06-b724-4036-af87-b85440ccaad9",
   "metadata": {},
   "outputs": [
    {
     "data": {
      "text/plain": [
       "((2051, 141), (878, 144))"
      ]
     },
     "execution_count": 72,
     "metadata": {},
     "output_type": "execute_result"
    }
   ],
   "source": [
    "df_train.shape, df_test.shape"
   ]
  },
  {
   "cell_type": "code",
   "execution_count": null,
   "id": "5c6630d2-6505-4ff3-a8b5-6adc8a540642",
   "metadata": {},
   "outputs": [],
   "source": []
  },
  {
   "cell_type": "code",
   "execution_count": null,
   "id": "378dbe2c-1152-4f9e-93ae-0a88484f2700",
   "metadata": {},
   "outputs": [],
   "source": []
  },
  {
   "cell_type": "code",
   "execution_count": 73,
   "id": "02699caf-481a-4c24-bf56-f096351b129d",
   "metadata": {},
   "outputs": [
    {
     "data": {
      "text/plain": [
       "{'ohe__exterior_1st_CBlock',\n",
       " 'ohe__exterior_1st_ImStucc',\n",
       " 'ohe__exterior_1st_Stone',\n",
       " 'ohe__exterior_2nd_Stone',\n",
       " 'ohe__heating_OthW',\n",
       " 'ohe__heating_Wall',\n",
       " 'ohe__neighborhood_GrnHill',\n",
       " 'ohe__neighborhood_Landmrk',\n",
       " 'ohe__roof_matl_CompShg',\n",
       " 'ohe__roof_matl_Membran',\n",
       " 'remainder__saleprice'}"
      ]
     },
     "execution_count": 73,
     "metadata": {},
     "output_type": "execute_result"
    }
   ],
   "source": [
    "set(df_train.columns) - set(df_test.columns)"
   ]
  },
  {
   "cell_type": "code",
   "execution_count": 74,
   "id": "120b0e89-6ea4-4990-b49d-270f0c23e2ec",
   "metadata": {},
   "outputs": [],
   "source": [
    "df_train.drop(columns = ['ohe__exterior_1st_CBlock',\n",
    " 'ohe__exterior_1st_ImStucc',\n",
    " 'ohe__exterior_1st_Stone',\n",
    " 'ohe__exterior_2nd_Stone',\n",
    " 'ohe__heating_OthW',\n",
    " 'ohe__heating_Wall',\n",
    " 'ohe__neighborhood_GrnHill',\n",
    " 'ohe__neighborhood_Landmrk',\n",
    " 'ohe__roof_matl_CompShg',\n",
    " 'ohe__roof_matl_Membran'],axis=1, inplace=True) "
   ]
  },
  {
   "cell_type": "code",
   "execution_count": null,
   "id": "d4d5d59b-63ae-4e4c-91ff-61b5d6235906",
   "metadata": {},
   "outputs": [],
   "source": []
  },
  {
   "cell_type": "code",
   "execution_count": null,
   "id": "89aa9dc4-705a-4784-b3e2-ca23e3a100aa",
   "metadata": {},
   "outputs": [],
   "source": []
  },
  {
   "cell_type": "code",
   "execution_count": 75,
   "id": "d10598e8-36db-4d7f-96fc-02b0bb6c3e9d",
   "metadata": {},
   "outputs": [],
   "source": [
    "df_train = df_train.apply(pd.to_numeric,errors='coerce')"
   ]
  },
  {
   "cell_type": "code",
   "execution_count": 76,
   "id": "7a15ed92-1596-41dd-8bca-160e86ade334",
   "metadata": {},
   "outputs": [],
   "source": [
    "df_test = df_test.apply(pd.to_numeric,errors='coerce')"
   ]
  },
  {
   "cell_type": "code",
   "execution_count": null,
   "id": "375b7c37-60e4-45b4-9c5f-65c29b7435cb",
   "metadata": {},
   "outputs": [],
   "source": []
  },
  {
   "cell_type": "code",
   "execution_count": 77,
   "id": "7f40cc61-3afd-4549-ab55-9611648a1edd",
   "metadata": {},
   "outputs": [],
   "source": [
    "df_train.dropna(axis=1,inplace=True)"
   ]
  },
  {
   "cell_type": "code",
   "execution_count": 78,
   "id": "4422d153-3bf5-4dc3-b1da-9c4843219f51",
   "metadata": {},
   "outputs": [],
   "source": [
    "df_test.dropna(axis=1,inplace=True)"
   ]
  },
  {
   "cell_type": "code",
   "execution_count": 79,
   "id": "f186479c-8303-44a7-9988-2f02a6a89611",
   "metadata": {},
   "outputs": [
    {
     "data": {
      "text/plain": [
       "((2051, 130), (878, 137))"
      ]
     },
     "execution_count": 79,
     "metadata": {},
     "output_type": "execute_result"
    }
   ],
   "source": [
    "df_train.shape, df_test.shape"
   ]
  },
  {
   "cell_type": "code",
   "execution_count": 80,
   "id": "1170d247-e2a4-4f92-9199-fdee923bb861",
   "metadata": {},
   "outputs": [
    {
     "data": {
      "text/plain": [
       "{'remainder__bsmt_full_bath',\n",
       " 'remainder__bsmt_half_bath',\n",
       " 'remainder__bsmt_unf_sf',\n",
       " 'remainder__bsmtfin_sf_1',\n",
       " 'remainder__bsmtfin_sf_2',\n",
       " 'remainder__garage_area',\n",
       " 'remainder__garage_cars',\n",
       " 'remainder__total_bsmt_sf'}"
      ]
     },
     "execution_count": 80,
     "metadata": {},
     "output_type": "execute_result"
    }
   ],
   "source": [
    "set(df_test.columns) - set(df_train.columns)"
   ]
  },
  {
   "cell_type": "code",
   "execution_count": 81,
   "id": "3631ae0e-2d66-46f9-bb5c-e270e3fe0010",
   "metadata": {},
   "outputs": [],
   "source": [
    "df_test.drop(columns = ['remainder__bsmt_full_bath',\n",
    " 'remainder__bsmt_half_bath',\n",
    " 'remainder__bsmt_unf_sf',\n",
    " 'remainder__bsmtfin_sf_1',\n",
    " 'remainder__bsmtfin_sf_2',\n",
    " 'remainder__garage_area',\n",
    " 'remainder__garage_cars',\n",
    " 'remainder__total_bsmt_sf'],inplace=True)"
   ]
  },
  {
   "cell_type": "code",
   "execution_count": 82,
   "id": "53193720-0165-493c-8cc9-f612e6a40426",
   "metadata": {},
   "outputs": [
    {
     "data": {
      "text/plain": [
       "set()"
      ]
     },
     "execution_count": 82,
     "metadata": {},
     "output_type": "execute_result"
    }
   ],
   "source": [
    "set(df_test.columns) - set(df_train.columns)"
   ]
  },
  {
   "cell_type": "code",
   "execution_count": 83,
   "id": "59713b48-286a-4a36-b59a-c4d5eee67e5f",
   "metadata": {},
   "outputs": [
    {
     "data": {
      "text/plain": [
       "((2051, 130), (878, 129))"
      ]
     },
     "execution_count": 83,
     "metadata": {},
     "output_type": "execute_result"
    }
   ],
   "source": [
    "df_train.shape, df_test.shape"
   ]
  },
  {
   "cell_type": "code",
   "execution_count": null,
   "id": "11c79ea4-2432-4da0-9a4f-04b33f8fe6e4",
   "metadata": {},
   "outputs": [],
   "source": []
  },
  {
   "cell_type": "markdown",
   "id": "aeea0999-e789-4e2a-9aa8-3f0ff4004c28",
   "metadata": {},
   "source": [
    "### Preprocessing"
   ]
  },
  {
   "cell_type": "code",
   "execution_count": 84,
   "id": "0e4fc130-3fb4-4894-bce7-415a0f901a4c",
   "metadata": {},
   "outputs": [
    {
     "data": {
      "text/html": [
       "<div>\n",
       "<style scoped>\n",
       "    .dataframe tbody tr th:only-of-type {\n",
       "        vertical-align: middle;\n",
       "    }\n",
       "\n",
       "    .dataframe tbody tr th {\n",
       "        vertical-align: top;\n",
       "    }\n",
       "\n",
       "    .dataframe thead th {\n",
       "        text-align: right;\n",
       "    }\n",
       "</style>\n",
       "<table border=\"1\" class=\"dataframe\">\n",
       "  <thead>\n",
       "    <tr style=\"text-align: right;\">\n",
       "      <th></th>\n",
       "      <th>ohe__neighborhood_Blueste</th>\n",
       "      <th>ohe__neighborhood_BrDale</th>\n",
       "      <th>ohe__neighborhood_BrkSide</th>\n",
       "      <th>ohe__neighborhood_ClearCr</th>\n",
       "      <th>ohe__neighborhood_CollgCr</th>\n",
       "      <th>ohe__neighborhood_Crawfor</th>\n",
       "      <th>ohe__neighborhood_Edwards</th>\n",
       "      <th>ohe__neighborhood_Gilbert</th>\n",
       "      <th>ohe__neighborhood_Greens</th>\n",
       "      <th>ohe__neighborhood_IDOTRR</th>\n",
       "      <th>...</th>\n",
       "      <th>remainder__pool_area</th>\n",
       "      <th>remainder__pool_qc</th>\n",
       "      <th>remainder__misc_val</th>\n",
       "      <th>remainder__mo_sold</th>\n",
       "      <th>remainder__yr_sold</th>\n",
       "      <th>remainder__saleprice</th>\n",
       "      <th>remainder__pid_1</th>\n",
       "      <th>remainder__pid_2</th>\n",
       "      <th>remainder__pid_3</th>\n",
       "      <th>remainder__pid_4</th>\n",
       "    </tr>\n",
       "  </thead>\n",
       "  <tbody>\n",
       "    <tr>\n",
       "      <th>0</th>\n",
       "      <td>0.0</td>\n",
       "      <td>0.0</td>\n",
       "      <td>0.0</td>\n",
       "      <td>0.0</td>\n",
       "      <td>0.0</td>\n",
       "      <td>0.0</td>\n",
       "      <td>0.0</td>\n",
       "      <td>0.0</td>\n",
       "      <td>0.0</td>\n",
       "      <td>0.0</td>\n",
       "      <td>...</td>\n",
       "      <td>0</td>\n",
       "      <td>5</td>\n",
       "      <td>0</td>\n",
       "      <td>3</td>\n",
       "      <td>2010</td>\n",
       "      <td>130500</td>\n",
       "      <td>5</td>\n",
       "      <td>33</td>\n",
       "      <td>352</td>\n",
       "      <td>170</td>\n",
       "    </tr>\n",
       "    <tr>\n",
       "      <th>1</th>\n",
       "      <td>0.0</td>\n",
       "      <td>0.0</td>\n",
       "      <td>0.0</td>\n",
       "      <td>0.0</td>\n",
       "      <td>0.0</td>\n",
       "      <td>0.0</td>\n",
       "      <td>0.0</td>\n",
       "      <td>0.0</td>\n",
       "      <td>0.0</td>\n",
       "      <td>0.0</td>\n",
       "      <td>...</td>\n",
       "      <td>0</td>\n",
       "      <td>5</td>\n",
       "      <td>0</td>\n",
       "      <td>4</td>\n",
       "      <td>2009</td>\n",
       "      <td>220000</td>\n",
       "      <td>5</td>\n",
       "      <td>31</td>\n",
       "      <td>379</td>\n",
       "      <td>50</td>\n",
       "    </tr>\n",
       "    <tr>\n",
       "      <th>2</th>\n",
       "      <td>0.0</td>\n",
       "      <td>0.0</td>\n",
       "      <td>0.0</td>\n",
       "      <td>0.0</td>\n",
       "      <td>0.0</td>\n",
       "      <td>0.0</td>\n",
       "      <td>0.0</td>\n",
       "      <td>0.0</td>\n",
       "      <td>0.0</td>\n",
       "      <td>0.0</td>\n",
       "      <td>...</td>\n",
       "      <td>0</td>\n",
       "      <td>5</td>\n",
       "      <td>0</td>\n",
       "      <td>1</td>\n",
       "      <td>2010</td>\n",
       "      <td>109000</td>\n",
       "      <td>5</td>\n",
       "      <td>35</td>\n",
       "      <td>304</td>\n",
       "      <td>180</td>\n",
       "    </tr>\n",
       "    <tr>\n",
       "      <th>3</th>\n",
       "      <td>0.0</td>\n",
       "      <td>0.0</td>\n",
       "      <td>0.0</td>\n",
       "      <td>0.0</td>\n",
       "      <td>0.0</td>\n",
       "      <td>0.0</td>\n",
       "      <td>0.0</td>\n",
       "      <td>0.0</td>\n",
       "      <td>0.0</td>\n",
       "      <td>0.0</td>\n",
       "      <td>...</td>\n",
       "      <td>0</td>\n",
       "      <td>5</td>\n",
       "      <td>0</td>\n",
       "      <td>4</td>\n",
       "      <td>2010</td>\n",
       "      <td>174000</td>\n",
       "      <td>9</td>\n",
       "      <td>16</td>\n",
       "      <td>386</td>\n",
       "      <td>60</td>\n",
       "    </tr>\n",
       "    <tr>\n",
       "      <th>4</th>\n",
       "      <td>0.0</td>\n",
       "      <td>0.0</td>\n",
       "      <td>0.0</td>\n",
       "      <td>0.0</td>\n",
       "      <td>0.0</td>\n",
       "      <td>0.0</td>\n",
       "      <td>0.0</td>\n",
       "      <td>0.0</td>\n",
       "      <td>0.0</td>\n",
       "      <td>0.0</td>\n",
       "      <td>...</td>\n",
       "      <td>0</td>\n",
       "      <td>5</td>\n",
       "      <td>0</td>\n",
       "      <td>3</td>\n",
       "      <td>2010</td>\n",
       "      <td>138500</td>\n",
       "      <td>9</td>\n",
       "      <td>6</td>\n",
       "      <td>425</td>\n",
       "      <td>45</td>\n",
       "    </tr>\n",
       "  </tbody>\n",
       "</table>\n",
       "<p>5 rows × 130 columns</p>\n",
       "</div>"
      ],
      "text/plain": [
       "   ohe__neighborhood_Blueste  ohe__neighborhood_BrDale  \\\n",
       "0                        0.0                       0.0   \n",
       "1                        0.0                       0.0   \n",
       "2                        0.0                       0.0   \n",
       "3                        0.0                       0.0   \n",
       "4                        0.0                       0.0   \n",
       "\n",
       "   ohe__neighborhood_BrkSide  ohe__neighborhood_ClearCr  \\\n",
       "0                        0.0                        0.0   \n",
       "1                        0.0                        0.0   \n",
       "2                        0.0                        0.0   \n",
       "3                        0.0                        0.0   \n",
       "4                        0.0                        0.0   \n",
       "\n",
       "   ohe__neighborhood_CollgCr  ohe__neighborhood_Crawfor  \\\n",
       "0                        0.0                        0.0   \n",
       "1                        0.0                        0.0   \n",
       "2                        0.0                        0.0   \n",
       "3                        0.0                        0.0   \n",
       "4                        0.0                        0.0   \n",
       "\n",
       "   ohe__neighborhood_Edwards  ohe__neighborhood_Gilbert  \\\n",
       "0                        0.0                        0.0   \n",
       "1                        0.0                        0.0   \n",
       "2                        0.0                        0.0   \n",
       "3                        0.0                        0.0   \n",
       "4                        0.0                        0.0   \n",
       "\n",
       "   ohe__neighborhood_Greens  ohe__neighborhood_IDOTRR  ...  \\\n",
       "0                       0.0                       0.0  ...   \n",
       "1                       0.0                       0.0  ...   \n",
       "2                       0.0                       0.0  ...   \n",
       "3                       0.0                       0.0  ...   \n",
       "4                       0.0                       0.0  ...   \n",
       "\n",
       "   remainder__pool_area  remainder__pool_qc  remainder__misc_val  \\\n",
       "0                     0                   5                    0   \n",
       "1                     0                   5                    0   \n",
       "2                     0                   5                    0   \n",
       "3                     0                   5                    0   \n",
       "4                     0                   5                    0   \n",
       "\n",
       "   remainder__mo_sold  remainder__yr_sold  remainder__saleprice  \\\n",
       "0                   3                2010                130500   \n",
       "1                   4                2009                220000   \n",
       "2                   1                2010                109000   \n",
       "3                   4                2010                174000   \n",
       "4                   3                2010                138500   \n",
       "\n",
       "   remainder__pid_1  remainder__pid_2  remainder__pid_3  remainder__pid_4  \n",
       "0                 5                33               352               170  \n",
       "1                 5                31               379                50  \n",
       "2                 5                35               304               180  \n",
       "3                 9                16               386                60  \n",
       "4                 9                 6               425                45  \n",
       "\n",
       "[5 rows x 130 columns]"
      ]
     },
     "execution_count": 84,
     "metadata": {},
     "output_type": "execute_result"
    }
   ],
   "source": [
    "df_train.head()"
   ]
  },
  {
   "cell_type": "code",
   "execution_count": 101,
   "id": "bd799efd-0302-48bb-8989-68c7a5bcffb9",
   "metadata": {},
   "outputs": [],
   "source": [
    "#  Devin is dropping PID, I want to keep\n",
    "\n",
    "X = df_train.drop(columns = ['remainder__saleprice'])\n",
    "y = df_train['remainder__saleprice']"
   ]
  },
  {
   "cell_type": "code",
   "execution_count": 102,
   "id": "2886356a-bb50-4f34-907d-fe367d6f7bd2",
   "metadata": {},
   "outputs": [],
   "source": [
    "X_train, X_val, y_train, y_val = train_test_split(\n",
    "    X,\n",
    "    y,\n",
    "    test_size = 0.2,\n",
    "    random_state = 13\n",
    ")"
   ]
  },
  {
   "cell_type": "code",
   "execution_count": 103,
   "id": "5bdc4100-439b-4b55-a4c7-536747b503ed",
   "metadata": {},
   "outputs": [
    {
     "data": {
      "text/plain": [
       "((1640, 129), (411, 129), (1640,), (411,))"
      ]
     },
     "execution_count": 103,
     "metadata": {},
     "output_type": "execute_result"
    }
   ],
   "source": [
    "X_train.shape, X_val.shape, y_train.shape, y_val.shape"
   ]
  },
  {
   "cell_type": "code",
   "execution_count": 104,
   "id": "56d49e65-bc44-4518-bcca-36abb92df9d8",
   "metadata": {},
   "outputs": [
    {
     "name": "stdout",
     "output_type": "stream",
     "text": [
      "<class 'pandas.core.frame.DataFrame'>\n",
      "Int64Index: 1640 entries, 1405 to 338\n",
      "Columns: 129 entries, ohe__neighborhood_Blueste to remainder__pid_4\n",
      "dtypes: float64(67), int64(62)\n",
      "memory usage: 1.6 MB\n"
     ]
    }
   ],
   "source": [
    "X_train.info()"
   ]
  },
  {
   "cell_type": "code",
   "execution_count": 105,
   "id": "325bcd31-bfc3-4c48-9bcc-d4178178179c",
   "metadata": {},
   "outputs": [
    {
     "name": "stderr",
     "output_type": "stream",
     "text": [
      "C:\\Users\\Ari\\anaconda3\\lib\\site-packages\\statsmodels\\stats\\outliers_influence.py:195: RuntimeWarning: divide by zero encountered in double_scalars\n",
      "  vif = 1. / (1. - r_squared_i)\n",
      "C:\\Users\\Ari\\anaconda3\\lib\\site-packages\\statsmodels\\regression\\linear_model.py:1736: RuntimeWarning: divide by zero encountered in double_scalars\n",
      "  return 1 - self.ssr/self.centered_tss\n"
     ]
    }
   ],
   "source": [
    "x = [(X_train.columns[col], variance_inflation_factor(X_train.values,col)) for col in range(len(X_train.columns))]"
   ]
  },
  {
   "cell_type": "code",
   "execution_count": 90,
   "id": "9894ab08-b263-4bfc-b35c-6a646cddca9d",
   "metadata": {},
   "outputs": [
    {
     "data": {
      "text/plain": [
       "[('remainder__pid', inf),\n",
       " ('remainder__1st_flr_sf', inf),\n",
       " ('remainder__2nd_flr_sf', inf),\n",
       " ('remainder__low_qual_fin_sf', inf),\n",
       " ('remainder__gr_liv_area', inf),\n",
       " ('remainder__pid_1', inf),\n",
       " ('remainder__pid_4', 81145939231900.83),\n",
       " ('remainder__pid_2', 33114703142430.117),\n",
       " ('remainder__pid_3', 1690857753846.629),\n",
       " ('remainder__id', 266.21554607323344),\n",
       " ('remainder__yr_sold', 255.54942076055943),\n",
       " ('ohe__roof_style_Gable', 65.97538014457231),\n",
       " ('ohe__roof_style_Hip', 63.03357798222876),\n",
       " ('ohe__exterior_2nd_VinylSd', 53.08676586173865),\n",
       " ('ohe__exterior_1st_VinylSd', 50.76816320944323),\n",
       " ('ohe__exterior_2nd_CmentBd', 43.878158667650155),\n",
       " ('ohe__exterior_2nd_MetalSd', 43.1034686693894),\n",
       " ('ohe__exterior_1st_CemntBd', 42.86419425636311),\n",
       " ('ohe__exterior_1st_MetalSd', 42.63763925507215),\n",
       " ('ohe__exterior_1st_HdBoard', 23.666797004951484),\n",
       " ('ohe__exterior_2nd_HdBoard', 23.621603727764384),\n",
       " ('ohe__exterior_2nd_Wd Sdng', 19.739035171944362),\n",
       " ('ohe__exterior_1st_Wd Sdng', 19.657973289213853),\n",
       " ('ohe__neighborhood_NAmes', 19.17377162455957),\n",
       " ('ohe__exterior_2nd_Plywood', 15.827957845678199),\n",
       " ('ohe__neighborhood_CollgCr', 14.58293513650235),\n",
       " ('ohe__neighborhood_OldTown', 13.158570396094822),\n",
       " ('ohe__exterior_1st_Plywood', 13.073376078374645),\n",
       " ('ohe__neighborhood_Mitchel', 12.82284763279638),\n",
       " ('ohe__neighborhood_Edwards', 11.421631646982188),\n",
       " ('remainder__year_built', 10.18290437673498),\n",
       " ('ohe__neighborhood_Somerst', 8.610068759263356),\n",
       " ('ohe__neighborhood_IDOTRR', 8.330779042340316),\n",
       " ('ohe__neighborhood_Sawyer', 8.308114522265953),\n",
       " ('ohe__neighborhood_NridgHt', 8.175888069537118),\n",
       " ('ohe__exterior_2nd_Brk Cmn', 7.760464611264336),\n",
       " ('ohe__neighborhood_Gilbert', 7.679638671180195),\n",
       " ('remainder__house_style', 7.569761663168074),\n",
       " ('ohe__neighborhood_Crawfor', 7.390651730012261),\n",
       " ('ohe__neighborhood_BrkSide', 6.921579431016741),\n",
       " ('remainder__garage_cond', 6.908148335930726),\n",
       " ('remainder__garage_qual', 6.824452118557374),\n",
       " ('remainder__bldg_type', 6.804443620516101),\n",
       " ('ohe__neighborhood_SawyerW', 6.763895665002836),\n",
       " ('ohe__neighborhood_Timber', 6.610575941833916),\n",
       " ('ohe__neighborhood_NWAmes', 6.425937071734888),\n",
       " ('ohe__neighborhood_NPkVill', 6.005242722727438),\n",
       " ('remainder__ms_subclass', 5.9225202254833675),\n",
       " ('ohe__exterior_2nd_Wd Shng', 5.802072648465468),\n",
       " ('ohe__neighborhood_MeadowV', 5.587103446565048),\n",
       " ('ohe__exterior_1st_BrkFace', 5.37270333567712),\n",
       " ('remainder__totrms_abvgrd', 5.21458543563105),\n",
       " ('remainder__overall_qual', 4.689508192761102),\n",
       " ('ohe__exterior_1st_WdShing', 4.412777100317438),\n",
       " ('ohe__neighborhood_NoRidge', 4.2728010539806895),\n",
       " ('ohe__sale_type_WD ', 4.214605072850759),\n",
       " ('ohe__sale_type_New', 4.1218539917801),\n",
       " ('remainder__pool_area', 3.9868240689893804),\n",
       " ('remainder__exter_qual', 3.9719034148520285),\n",
       " ('ohe__neighborhood_SWISU', 3.873175951217226),\n",
       " ('ohe__exterior_2nd_BrkFace', 3.816847068900559),\n",
       " ('remainder__pool_qc', 3.7929082717176597),\n",
       " ('ohe__neighborhood_ClearCr', 3.7882442251151835),\n",
       " ('ohe__exterior_2nd_Stucco', 3.7343351676893186),\n",
       " ('remainder__bsmt_qual', 3.686785752893358),\n",
       " ('ohe__exterior_1st_Stucco', 3.6128913683839263),\n",
       " ('remainder__fireplaces', 3.484823374358989),\n",
       " ('ohe__roof_style_Gambrel', 3.423998420774964),\n",
       " ('remainder__ms_zoning', 3.4180993716953947),\n",
       " ('remainder__year_remod/add', 3.3744106908105653),\n",
       " ('ohe__neighborhood_StoneBr', 3.3662076423146114),\n",
       " ('remainder__full_bath', 3.265142604470842),\n",
       " ('ohe__roof_style_Mansard', 3.0848683968065838),\n",
       " ('remainder__kitchen_qual', 2.9998732820842786),\n",
       " ('remainder__bedroom_abvgr', 2.964934930074248),\n",
       " ('remainder__fireplace_qu', 2.8818034993812147),\n",
       " ('ohe__exterior_1st_BrkComm', 2.7158764137552827),\n",
       " ('remainder__garage_type', 2.6746042604507387),\n",
       " ('remainder__half_bath', 2.56452990260002),\n",
       " ('ohe__roof_matl_Tar&Grv', 2.496462756797508),\n",
       " ('remainder__garage_finish', 2.4341591105588507),\n",
       " ('ohe__neighborhood_BrDale', 2.4199085803964313),\n",
       " ('ohe__neighborhood_Veenker', 2.3773048929860425),\n",
       " ('ohe__exterior_2nd_AsphShn', 2.2216135501599457),\n",
       " ('remainder__overall_cond', 2.216655789253749),\n",
       " ('remainder__heating_qc', 2.157191117439492),\n",
       " ('remainder__kitchen_abvgr', 2.106376155048662),\n",
       " ('remainder__bsmt_cond', 2.027715723570797),\n",
       " ('remainder__lot_area', 2.0145172060636187),\n",
       " ('ohe__exterior_2nd_ImStucc', 1.9545163785525594),\n",
       " ('remainder__bsmt_exposure', 1.8963914806483735),\n",
       " ('remainder__central_air', 1.8884400745925276),\n",
       " ('remainder__paved_drive', 1.8751282137321446),\n",
       " ('ohe__exterior_1st_AsphShn', 1.8317348763474892),\n",
       " ('ohe__neighborhood_Blueste', 1.7500823659722935),\n",
       " ('remainder__bsmtfin_type_2', 1.7265412376482878),\n",
       " ('ohe__roof_style_Shed', 1.709011916849413),\n",
       " ('remainder__electrical', 1.548817916077906),\n",
       " ('ohe__roof_matl_WdShake', 1.543660078412729),\n",
       " ('remainder__alley', 1.5231709446896289),\n",
       " ('remainder__bsmtfin_type_1', 1.5207538339470785),\n",
       " ('ohe__sale_type_ConLD', 1.4447974510092265),\n",
       " ('remainder__exter_cond', 1.4268219503079607),\n",
       " ('remainder__open_porch_sf', 1.4228547503681994),\n",
       " ('remainder__land_slope', 1.4194091142060217),\n",
       " ('ohe__roof_matl_WdShngl', 1.4129434549273716),\n",
       " ('remainder__enclosed_porch', 1.4064346197502136),\n",
       " ('remainder__wood_deck_sf', 1.4012237185401868),\n",
       " ('remainder__lot_shape', 1.399445695853912),\n",
       " ('remainder__functional', 1.3738284503780869),\n",
       " ('ohe__exterior_2nd_CBlock', 1.367391094976815),\n",
       " ('remainder__condition_1', 1.3259031626463433),\n",
       " ('remainder__condition_2', 1.3239837502226728),\n",
       " ('ohe__neighborhood_Greens', 1.3224006812234264),\n",
       " ('ohe__heating_GasW', 1.2740846779522241),\n",
       " ('remainder__screen_porch', 1.205513538476905),\n",
       " ('remainder__misc_val', 1.1936322151578747),\n",
       " ('ohe__sale_type_CWD', 1.1930371053584556),\n",
       " ('ohe__sale_type_ConLI', 1.1798689964368734),\n",
       " ('ohe__heating_Grav', 1.1498572205859028),\n",
       " ('remainder__street', 1.1495844557378108),\n",
       " ('remainder__lot_config', 1.1452054571046628),\n",
       " ('remainder__mo_sold', 1.138378627269037),\n",
       " ('ohe__sale_type_ConLw', 1.1378391021547736),\n",
       " ('ohe__sale_type_Oth', 1.1226517545664172),\n",
       " ('remainder__utilities', 1.1137361619014874),\n",
       " ('ohe__sale_type_Con', 1.1097105919641512),\n",
       " ('remainder__3ssn_porch', 1.0893899609650997),\n",
       " ('remainder__land_contour', 0.0)]"
      ]
     },
     "execution_count": 90,
     "metadata": {},
     "output_type": "execute_result"
    }
   ],
   "source": [
    "sorted(x, key=lambda x: x[1], reverse=True)"
   ]
  },
  {
   "cell_type": "code",
   "execution_count": 106,
   "id": "490e06bc-bfb6-478b-b645-76b97890eb72",
   "metadata": {},
   "outputs": [
    {
     "name": "stderr",
     "output_type": "stream",
     "text": [
      "C:\\Users\\Ari\\anaconda3\\lib\\site-packages\\statsmodels\\stats\\outliers_influence.py:195: RuntimeWarning: divide by zero encountered in double_scalars\n",
      "  vif = 1. / (1. - r_squared_i)\n"
     ]
    },
    {
     "data": {
      "text/plain": [
       "[['remainder__1st_flr_sf', inf],\n",
       " ['remainder__2nd_flr_sf', inf],\n",
       " ['remainder__low_qual_fin_sf', inf],\n",
       " ['remainder__gr_liv_area', inf],\n",
       " ['remainder__land_contour', 601655866.6522424],\n",
       " ['remainder__id', 266.21554607405176],\n",
       " ['remainder__yr_sold', 255.54942084862964],\n",
       " ['remainder__pid_1', 151.8047448370827],\n",
       " ['remainder__pid_2', 81.44374338575624],\n",
       " ['ohe__roof_style_Gable', 65.97538014458682],\n",
       " ['ohe__roof_style_Hip', 63.03357798247711],\n",
       " ['ohe__exterior_2nd_VinylSd', 53.08676586175367],\n",
       " ['ohe__exterior_1st_VinylSd', 50.768163209451245],\n",
       " ['ohe__exterior_2nd_CmentBd', 43.878158667789734],\n",
       " ['ohe__exterior_2nd_MetalSd', 43.103468669392086],\n",
       " ['ohe__exterior_1st_CemntBd', 42.86419425641411],\n",
       " ['ohe__exterior_1st_MetalSd', 42.63763925511131],\n",
       " ['ohe__exterior_1st_HdBoard', 23.666797004952787],\n",
       " ['ohe__exterior_2nd_HdBoard', 23.62160372784145],\n",
       " ['ohe__exterior_2nd_Wd Sdng', 19.739035171951024],\n",
       " ['ohe__exterior_1st_Wd Sdng', 19.657973289218013],\n",
       " ['ohe__neighborhood_NAmes', 19.17377162578563],\n",
       " ['ohe__exterior_2nd_Plywood', 15.827957845678394],\n",
       " ['ohe__neighborhood_CollgCr', 14.58293513686047],\n",
       " ['ohe__neighborhood_OldTown', 13.158570396465255],\n",
       " ['ohe__exterior_1st_Plywood', 13.073376078407946],\n",
       " ['ohe__neighborhood_Mitchel', 12.822847633004395],\n",
       " ['ohe__neighborhood_Edwards', 11.421631648022942],\n",
       " ['remainder__year_built', 10.182904376738536],\n",
       " ['ohe__neighborhood_Somerst', 8.610068759601315],\n",
       " ['ohe__neighborhood_IDOTRR', 8.330779042540595],\n",
       " ['ohe__neighborhood_Sawyer', 8.308114522668046],\n",
       " ['ohe__neighborhood_NridgHt', 8.175888070149961],\n",
       " ['ohe__exterior_2nd_Brk Cmn', 7.760464611283358],\n",
       " ['ohe__neighborhood_Gilbert', 7.679638671662901],\n",
       " ['remainder__house_style', 7.5697616631854485],\n",
       " ['ohe__neighborhood_Crawfor', 7.390651730400063],\n",
       " ['ohe__neighborhood_BrkSide', 6.921579431150027],\n",
       " ['remainder__garage_cond', 6.908148335931239],\n",
       " ['remainder__garage_qual', 6.8244521185576845],\n",
       " ['remainder__bldg_type', 6.804443620524438],\n",
       " ['ohe__neighborhood_SawyerW', 6.763895665153355],\n",
       " ['ohe__neighborhood_Timber', 6.610575941996004],\n",
       " ['ohe__neighborhood_NWAmes', 6.4259370722372475],\n",
       " ['ohe__neighborhood_NPkVill', 6.005242722752418],\n",
       " ['remainder__ms_subclass', 5.92252022548845],\n",
       " ['ohe__exterior_2nd_Wd Shng', 5.802072648468036],\n",
       " ['ohe__neighborhood_MeadowV', 5.58710344659349],\n",
       " ['ohe__exterior_1st_BrkFace', 5.372703335677896],\n",
       " ['remainder__totrms_abvgrd', 5.214585435631702],\n",
       " ['remainder__overall_qual', 4.689508192761531],\n",
       " ['ohe__exterior_1st_WdShing', 4.4127771003181815],\n",
       " ['ohe__neighborhood_NoRidge', 4.272801054144051],\n",
       " ['ohe__sale_type_WD ', 4.214605072851113],\n",
       " ['ohe__sale_type_New', 4.121853991780546],\n",
       " ['remainder__pool_area', 3.986824068990132],\n",
       " ['remainder__exter_qual', 3.9719034148527936],\n",
       " ['ohe__neighborhood_SWISU', 3.8731759512738515],\n",
       " ['ohe__exterior_2nd_BrkFace', 3.8168470689009117],\n",
       " ['remainder__pool_qc', 3.792908271717711],\n",
       " ['ohe__neighborhood_ClearCr', 3.7882442251935196],\n",
       " ['ohe__exterior_2nd_Stucco', 3.7343351676893244],\n",
       " ['remainder__bsmt_qual', 3.686785752894372],\n",
       " ['ohe__exterior_1st_Stucco', 3.612891368384881],\n",
       " ['remainder__fireplaces', 3.484823374359036],\n",
       " ['ohe__roof_style_Gambrel', 3.4239984207822203],\n",
       " ['remainder__ms_zoning', 3.418099371708445],\n",
       " ['remainder__year_remod/add', 3.3744106908126223],\n",
       " ['ohe__neighborhood_StoneBr', 3.3662076423961684],\n",
       " ['remainder__full_bath', 3.265142604471301],\n",
       " ['ohe__roof_style_Mansard', 3.0848683968067774],\n",
       " ['remainder__kitchen_qual', 2.9998732820845704],\n",
       " ['remainder__bedroom_abvgr', 2.9649349300761676],\n",
       " ['remainder__fireplace_qu', 2.8818034993830075],\n",
       " ['ohe__exterior_1st_BrkComm', 2.7158764137569507],\n",
       " ['remainder__garage_type', 2.6746042604518423],\n",
       " ['remainder__half_bath', 2.5645299026017154],\n",
       " ['ohe__roof_matl_Tar&Grv', 2.4964627567976114],\n",
       " ['remainder__garage_finish', 2.4341591105594294],\n",
       " ['ohe__neighborhood_BrDale', 2.419908580439444],\n",
       " ['ohe__neighborhood_Veenker', 2.377304893025806],\n",
       " ['remainder__pid_3', 2.268027825096496],\n",
       " ['ohe__exterior_2nd_AsphShn', 2.2216135501600838],\n",
       " ['remainder__overall_cond', 2.2166557892541183],\n",
       " ['remainder__heating_qc', 2.1571911174397305],\n",
       " ['remainder__kitchen_abvgr', 2.1063761550494857],\n",
       " ['remainder__bsmt_cond', 2.027715723570849],\n",
       " ['remainder__lot_area', 2.014517206064892],\n",
       " ['ohe__exterior_2nd_ImStucc', 1.9545163785532165],\n",
       " ['remainder__bsmt_exposure', 1.8963914806487532],\n",
       " ['remainder__central_air', 1.8884400745925924],\n",
       " ['remainder__paved_drive', 1.8751282137323124],\n",
       " ['ohe__exterior_1st_AsphShn', 1.8317348763482353],\n",
       " ['ohe__neighborhood_Blueste', 1.7500823659932245],\n",
       " ['remainder__bsmtfin_type_2', 1.7265412376483342],\n",
       " ['ohe__roof_style_Shed', 1.7090119168494768],\n",
       " ['remainder__electrical', 1.5488179160779185],\n",
       " ['ohe__roof_matl_WdShake', 1.5436600784128442],\n",
       " ['remainder__alley', 1.52317094468968],\n",
       " ['remainder__bsmtfin_type_1', 1.5207538339475077],\n",
       " ['remainder__pid_4', 1.4886479262133228],\n",
       " ['ohe__sale_type_ConLD', 1.4447974510093324],\n",
       " ['remainder__exter_cond', 1.4268219503080277],\n",
       " ['remainder__open_porch_sf', 1.4228547503686455],\n",
       " ['remainder__land_slope', 1.4194091142061882],\n",
       " ['ohe__roof_matl_WdShngl', 1.4129434549273503],\n",
       " ['remainder__enclosed_porch', 1.4064346197503943],\n",
       " ['remainder__wood_deck_sf', 1.4012237185408598],\n",
       " ['remainder__lot_shape', 1.3994456958539347],\n",
       " ['remainder__functional', 1.3738284503782745],\n",
       " ['ohe__exterior_2nd_CBlock', 1.3673910949769268],\n",
       " ['remainder__condition_1', 1.325903162646437],\n",
       " ['remainder__condition_2', 1.3239837502227148],\n",
       " ['ohe__neighborhood_Greens', 1.322400681230757],\n",
       " ['ohe__heating_GasW', 1.2740846779522415],\n",
       " ['remainder__screen_porch', 1.2055135384769258],\n",
       " ['remainder__misc_val', 1.1936322151579268],\n",
       " ['ohe__sale_type_CWD', 1.193037105358722],\n",
       " ['ohe__sale_type_ConLI', 1.179868996437079],\n",
       " ['ohe__heating_Grav', 1.149857220585936],\n",
       " ['remainder__street', 1.1495844557381238],\n",
       " ['remainder__lot_config', 1.1452054571046777],\n",
       " ['remainder__mo_sold', 1.1383786272690035],\n",
       " ['ohe__sale_type_ConLw', 1.1378391021547782],\n",
       " ['ohe__sale_type_Oth', 1.1226517545664578],\n",
       " ['remainder__utilities', 1.1137361619018207],\n",
       " ['ohe__sale_type_Con', 1.1097105919641865],\n",
       " ['remainder__3ssn_porch', 1.089389960965202]]"
      ]
     },
     "execution_count": 106,
     "metadata": {},
     "output_type": "execute_result"
    }
   ],
   "source": [
    "for df in [X_train,X_val,y,y_val]:\n",
    "    df.drop(columns = ['remainder__pid'],inplace=True)\n",
    "x = [[X_train.columns[col], variance_inflation_factor(X_train.values,col)] for col in range(len(X_train.columns))]\n",
    "sorted(x, key=lambda x: x[1], reverse=True)"
   ]
  },
  {
   "cell_type": "code",
   "execution_count": 107,
   "id": "678686f6-2d70-41b6-8d7f-2e5e366e223b",
   "metadata": {},
   "outputs": [
    {
     "data": {
      "text/plain": [
       "[['remainder__land_contour', 601320435.9333848],\n",
       " ['remainder__id', 266.0787242626621],\n",
       " ['remainder__yr_sold', 255.41341829743826],\n",
       " ['remainder__pid_1', 151.78419881918936],\n",
       " ['remainder__pid_2', 81.40442592241811],\n",
       " ['ohe__roof_style_Gable', 65.92213602743976],\n",
       " ['ohe__roof_style_Hip', 62.99787289402879],\n",
       " ['ohe__exterior_2nd_VinylSd', 52.98633859665164],\n",
       " ['ohe__exterior_1st_VinylSd', 50.49375833503161],\n",
       " ['ohe__exterior_2nd_CmentBd', 43.716585906620146],\n",
       " ['ohe__exterior_2nd_MetalSd', 42.95400121762334],\n",
       " ['ohe__exterior_1st_CemntBd', 42.667894888371976],\n",
       " ['ohe__exterior_1st_MetalSd', 42.39081349041348],\n",
       " ['ohe__exterior_2nd_HdBoard', 23.542063198734663],\n",
       " ['ohe__exterior_1st_HdBoard', 23.526703242531568],\n",
       " ['ohe__exterior_2nd_Wd Sdng', 19.698980503533765],\n",
       " ['ohe__exterior_1st_Wd Sdng', 19.561410876424947],\n",
       " ['ohe__neighborhood_NAmes', 19.15925016091022],\n",
       " ['ohe__exterior_2nd_Plywood', 15.740628036820505],\n",
       " ['ohe__neighborhood_CollgCr', 14.566192170166266],\n",
       " ['ohe__neighborhood_OldTown', 13.1463637487429],\n",
       " ['ohe__exterior_1st_Plywood', 13.018849011173458],\n",
       " ['ohe__neighborhood_Mitchel', 12.812063880522807],\n",
       " ['ohe__neighborhood_Edwards', 11.420010887506695],\n",
       " ['remainder__year_built', 10.064407321833412],\n",
       " ['ohe__neighborhood_Somerst', 8.60779052528695],\n",
       " ['ohe__neighborhood_IDOTRR', 8.31381751423981],\n",
       " ['ohe__neighborhood_Sawyer', 8.302963958197296],\n",
       " ['ohe__neighborhood_NridgHt', 8.175596246803295],\n",
       " ['remainder__gr_liv_area', 7.81236203166049],\n",
       " ['ohe__exterior_2nd_Brk Cmn', 7.7274109096316],\n",
       " ['ohe__neighborhood_Gilbert', 7.676258067048997],\n",
       " ['ohe__neighborhood_Crawfor', 7.390439300152235],\n",
       " ['ohe__neighborhood_BrkSide', 6.9106377737967914],\n",
       " ['remainder__garage_cond', 6.905834821024428],\n",
       " ['remainder__bldg_type', 6.781612193805353],\n",
       " ['ohe__neighborhood_SawyerW', 6.7630702442396515],\n",
       " ['remainder__garage_qual', 6.762273962478412],\n",
       " ['ohe__neighborhood_Timber', 6.60891408483254],\n",
       " ['ohe__neighborhood_NWAmes', 6.415860183300236],\n",
       " ['ohe__neighborhood_NPkVill', 6.0013697469871135],\n",
       " ['remainder__ms_subclass', 5.89062424455487],\n",
       " ['ohe__exterior_2nd_Wd Shng', 5.791241166203879],\n",
       " ['ohe__neighborhood_MeadowV', 5.582519691177501],\n",
       " ['ohe__exterior_1st_BrkFace', 5.35031442985143],\n",
       " ['remainder__totrms_abvgrd', 5.193442154568089],\n",
       " ['remainder__overall_qual', 4.6025122413127955],\n",
       " ['ohe__exterior_1st_WdShing', 4.397313210657639],\n",
       " ['ohe__neighborhood_NoRidge', 4.265184221201258],\n",
       " ['ohe__sale_type_WD ', 4.206509559704291],\n",
       " ['ohe__sale_type_New', 4.118517097147309],\n",
       " ['remainder__house_style', 4.029123353709626],\n",
       " ['remainder__pool_area', 3.986769872020332],\n",
       " ['remainder__exter_qual', 3.9516369367685957],\n",
       " ['ohe__neighborhood_SWISU', 3.8378292896487864],\n",
       " ['ohe__exterior_2nd_BrkFace', 3.8003929444734],\n",
       " ['remainder__pool_qc', 3.790110440981572],\n",
       " ['ohe__neighborhood_ClearCr', 3.76745562289309],\n",
       " ['ohe__exterior_2nd_Stucco', 3.7274055074863166],\n",
       " ['remainder__bsmt_qual', 3.6861244683596888],\n",
       " ['ohe__exterior_1st_Stucco', 3.597530498849252],\n",
       " ['remainder__fireplaces', 3.468783798870169],\n",
       " ['ohe__roof_style_Gambrel', 3.419640318911227],\n",
       " ['remainder__ms_zoning', 3.4180598519565994],\n",
       " ['remainder__year_remod/add', 3.3715781916252703],\n",
       " ['ohe__neighborhood_StoneBr', 3.35835466668302],\n",
       " ['remainder__full_bath', 3.2302816161678094],\n",
       " ['ohe__roof_style_Mansard', 3.0828001378839263],\n",
       " ['remainder__kitchen_qual', 2.997472908861329],\n",
       " ['remainder__bedroom_abvgr', 2.9019080732441114],\n",
       " ['remainder__fireplace_qu', 2.8768813590274354],\n",
       " ['ohe__exterior_1st_BrkComm', 2.706879695094276],\n",
       " ['remainder__garage_type', 2.6558578817640455],\n",
       " ['ohe__roof_matl_Tar&Grv', 2.4962499410651393],\n",
       " ['remainder__garage_finish', 2.4333141876899447],\n",
       " ['ohe__neighborhood_BrDale', 2.4143144818331628],\n",
       " ['remainder__half_bath', 2.4122152884496533],\n",
       " ['ohe__neighborhood_Veenker', 2.3765875223136654],\n",
       " ['remainder__pid_3', 2.267013668029466],\n",
       " ['ohe__exterior_2nd_AsphShn', 2.220845407362313],\n",
       " ['remainder__overall_cond', 2.21236624502058],\n",
       " ['remainder__heating_qc', 2.155376880927128],\n",
       " ['remainder__kitchen_abvgr', 2.075965264991037],\n",
       " ['remainder__bsmt_cond', 2.0131534589244597],\n",
       " ['remainder__lot_area', 1.989346808424945],\n",
       " ['ohe__exterior_2nd_ImStucc', 1.949389893676531],\n",
       " ['remainder__central_air', 1.8860315867296227],\n",
       " ['remainder__paved_drive', 1.8705892801241701],\n",
       " ['ohe__exterior_1st_AsphShn', 1.8307742066985087],\n",
       " ['remainder__bsmt_exposure', 1.815635613005749],\n",
       " ['ohe__neighborhood_Blueste', 1.7488546308895299],\n",
       " ['remainder__bsmtfin_type_2', 1.7257553085561934],\n",
       " ['ohe__roof_style_Shed', 1.7050509884844465],\n",
       " ['remainder__electrical', 1.5443162047525392],\n",
       " ['ohe__roof_matl_WdShake', 1.5425971196667634],\n",
       " ['remainder__alley', 1.5226386902309232],\n",
       " ['remainder__bsmtfin_type_1', 1.5170922797699489],\n",
       " ['remainder__pid_4', 1.4866453972667824],\n",
       " ['ohe__sale_type_ConLD', 1.4428689152550105],\n",
       " ['remainder__exter_cond', 1.4227302260644599],\n",
       " ['remainder__open_porch_sf', 1.4188522928075396],\n",
       " ['remainder__land_slope', 1.4114610419010531],\n",
       " ['remainder__enclosed_porch', 1.4034848025644406],\n",
       " ['remainder__wood_deck_sf', 1.3998090544908453],\n",
       " ['remainder__lot_shape', 1.3992801377586042],\n",
       " ['ohe__roof_matl_WdShngl', 1.387858147279469],\n",
       " ['remainder__functional', 1.3665990469735614],\n",
       " ['ohe__exterior_2nd_CBlock', 1.3658493317569782],\n",
       " ['remainder__condition_1', 1.32343879519965],\n",
       " ['remainder__condition_2', 1.319729528747262],\n",
       " ['ohe__neighborhood_Greens', 1.3163566246357299],\n",
       " ['ohe__heating_GasW', 1.271676068921724],\n",
       " ['remainder__screen_porch', 1.2039337101810996],\n",
       " ['ohe__sale_type_CWD', 1.1925762936027005],\n",
       " ['remainder__misc_val', 1.1818474980535978],\n",
       " ['ohe__sale_type_ConLI', 1.1756256625649206],\n",
       " ['remainder__street', 1.149189424249164],\n",
       " ['ohe__heating_Grav', 1.1468876336891998],\n",
       " ['remainder__lot_config', 1.1443105241753118],\n",
       " ['remainder__mo_sold', 1.1381039268677067],\n",
       " ['ohe__sale_type_ConLw', 1.1370628855468643],\n",
       " ['ohe__sale_type_Oth', 1.1221989806203352],\n",
       " ['ohe__sale_type_Con', 1.1093443658786537],\n",
       " ['remainder__utilities', 1.1089870266173856],\n",
       " ['remainder__3ssn_porch', 1.0887630783894575]]"
      ]
     },
     "execution_count": 107,
     "metadata": {},
     "output_type": "execute_result"
    }
   ],
   "source": [
    "for df in [X_train,X_val,y,y_val]:\n",
    "    df.drop(columns = ['remainder__1st_flr_sf','remainder__2nd_flr_sf','remainder__low_qual_fin_sf'],inplace=True)\n",
    "x = [[X_train.columns[col], variance_inflation_factor(X_train.values,col)] for col in range(len(X_train.columns))]\n",
    "sorted(x, key=lambda x: x[1], reverse=True)"
   ]
  },
  {
   "cell_type": "code",
   "execution_count": 108,
   "id": "073b54ea-24e5-426a-814d-af0719892227",
   "metadata": {},
   "outputs": [
    {
     "data": {
      "text/plain": [
       "[['remainder__land_contour', 2774378.1306357663],\n",
       " ['remainder__pid_1', 80.75575079409946],\n",
       " ['ohe__roof_style_Gable', 65.88325125593414],\n",
       " ['ohe__roof_style_Hip', 62.95598887328536],\n",
       " ['ohe__exterior_2nd_VinylSd', 52.95299672828359],\n",
       " ['ohe__exterior_1st_VinylSd', 50.44828904601805],\n",
       " ['remainder__pid_2', 49.16234988741973],\n",
       " ['ohe__exterior_2nd_CmentBd', 43.59240681497448],\n",
       " ['ohe__exterior_2nd_MetalSd', 42.951337189644846],\n",
       " ['ohe__exterior_1st_CemntBd', 42.56348097824444],\n",
       " ['ohe__exterior_1st_MetalSd', 42.390244045450935],\n",
       " ['ohe__exterior_2nd_HdBoard', 23.5416542203916],\n",
       " ['ohe__exterior_1st_HdBoard', 23.518241942036855],\n",
       " ['ohe__exterior_2nd_Wd Sdng', 19.684745730309636],\n",
       " ['ohe__exterior_1st_Wd Sdng', 19.54500197002535],\n",
       " ['ohe__neighborhood_NAmes', 19.133290639676016],\n",
       " ['ohe__exterior_2nd_Plywood', 15.73824512660643],\n",
       " ['ohe__neighborhood_CollgCr', 14.533464162512653],\n",
       " ['ohe__neighborhood_OldTown', 13.135381300157709],\n",
       " ['ohe__exterior_1st_Plywood', 13.01875485977755],\n",
       " ['ohe__neighborhood_Mitchel', 12.428570034250242],\n",
       " ['ohe__neighborhood_Edwards', 11.385398524038896],\n",
       " ['remainder__year_built', 10.064105294082239],\n",
       " ['ohe__neighborhood_Somerst', 8.574433636663827],\n",
       " ['ohe__neighborhood_Sawyer', 8.297453383918642],\n",
       " ['ohe__neighborhood_IDOTRR', 8.292892540335492],\n",
       " ['ohe__neighborhood_NridgHt', 8.16872500684151],\n",
       " ['remainder__gr_liv_area', 7.810477100676702],\n",
       " ['ohe__exterior_2nd_Brk Cmn', 7.718990632338995],\n",
       " ['ohe__neighborhood_Gilbert', 7.671458148613716],\n",
       " ['ohe__neighborhood_Crawfor', 7.356597671010755],\n",
       " ['ohe__neighborhood_BrkSide', 6.907695708615362],\n",
       " ['remainder__garage_cond', 6.905581037710122],\n",
       " ['remainder__bldg_type', 6.766377690713913],\n",
       " ['remainder__garage_qual', 6.762230900940599],\n",
       " ['ohe__neighborhood_SawyerW', 6.761747989444049],\n",
       " ['ohe__neighborhood_Timber', 6.531068475530314],\n",
       " ['ohe__neighborhood_NWAmes', 6.412775475277144],\n",
       " ['ohe__neighborhood_NPkVill', 5.997443523085682],\n",
       " ['remainder__ms_subclass', 5.88631449226643],\n",
       " ['ohe__exterior_2nd_Wd Shng', 5.79043039240652],\n",
       " ['ohe__exterior_1st_BrkFace', 5.3462153489493645],\n",
       " ['ohe__neighborhood_MeadowV', 5.339784229988621],\n",
       " ['remainder__totrms_abvgrd', 5.187233563919897],\n",
       " ['remainder__overall_qual', 4.598748185247053],\n",
       " ['ohe__exterior_1st_WdShing', 4.397165011879767],\n",
       " ['ohe__neighborhood_NoRidge', 4.241183926139642],\n",
       " ['ohe__sale_type_WD ', 4.206504453729179],\n",
       " ['ohe__sale_type_New', 4.117311438955895],\n",
       " ['remainder__house_style', 4.028142330430726],\n",
       " ['remainder__pool_area', 3.9827985237323804],\n",
       " ['remainder__exter_qual', 3.9493705278767735],\n",
       " ['ohe__neighborhood_SWISU', 3.8262597979648763],\n",
       " ['ohe__exterior_2nd_BrkFace', 3.799330529556671],\n",
       " ['remainder__pool_qc', 3.7871806033284594],\n",
       " ['ohe__neighborhood_ClearCr', 3.764622463076437],\n",
       " ['ohe__exterior_2nd_Stucco', 3.726702177207824],\n",
       " ['remainder__bsmt_qual', 3.6765712540951085],\n",
       " ['ohe__exterior_1st_Stucco', 3.597027936426373],\n",
       " ['remainder__fireplaces', 3.46864913746178],\n",
       " ['ohe__roof_style_Gambrel', 3.419631011932207],\n",
       " ['remainder__ms_zoning', 3.417861183324655],\n",
       " ['remainder__year_remod/add', 3.3715249825491957],\n",
       " ['ohe__neighborhood_StoneBr', 3.3582275922732734],\n",
       " ['remainder__full_bath', 3.2300409238748995],\n",
       " ['ohe__roof_style_Mansard', 3.082448263642163],\n",
       " ['remainder__kitchen_qual', 2.9972475242668284],\n",
       " ['remainder__bedroom_abvgr', 2.901897874054029],\n",
       " ['remainder__fireplace_qu', 2.8725163823077033],\n",
       " ['ohe__exterior_1st_BrkComm', 2.7068693712163006],\n",
       " ['remainder__garage_type', 2.653278418463622],\n",
       " ['ohe__roof_matl_Tar&Grv', 2.496168616854491],\n",
       " ['remainder__garage_finish', 2.428132660164522],\n",
       " ['ohe__neighborhood_BrDale', 2.41365708439144],\n",
       " ['remainder__half_bath', 2.4112082198639757],\n",
       " ['ohe__neighborhood_Veenker', 2.3755782813140565],\n",
       " ['ohe__exterior_2nd_AsphShn', 2.2204818268863162],\n",
       " ['remainder__overall_cond', 2.20990435972819],\n",
       " ['remainder__pid_3', 2.1958341024023253],\n",
       " ['remainder__heating_qc', 2.155227652824105],\n",
       " ['remainder__kitchen_abvgr', 2.073223028969365],\n",
       " ['remainder__bsmt_cond', 2.0113937711875933],\n",
       " ['remainder__lot_area', 1.9888405537389635],\n",
       " ['ohe__exterior_2nd_ImStucc', 1.9492788650000228],\n",
       " ['remainder__central_air', 1.8860105530043232],\n",
       " ['remainder__paved_drive', 1.8704323187922929],\n",
       " ['ohe__exterior_1st_AsphShn', 1.830330821511017],\n",
       " ['remainder__bsmt_exposure', 1.8149380016495122],\n",
       " ['ohe__neighborhood_Blueste', 1.7476654381988208],\n",
       " ['remainder__bsmtfin_type_2', 1.7255264861336812],\n",
       " ['ohe__roof_style_Shed', 1.7050222714279164],\n",
       " ['remainder__electrical', 1.544111768932879],\n",
       " ['ohe__roof_matl_WdShake', 1.5425962085502405],\n",
       " ['remainder__alley', 1.5226273731101276],\n",
       " ['remainder__bsmtfin_type_1', 1.5170204894609205],\n",
       " ['remainder__pid_4', 1.4830549257113184],\n",
       " ['ohe__sale_type_ConLD', 1.4428672985101243],\n",
       " ['remainder__exter_cond', 1.4199047718925073],\n",
       " ['remainder__open_porch_sf', 1.4147643150791176],\n",
       " ['remainder__land_slope', 1.4113355990022778],\n",
       " ['remainder__enclosed_porch', 1.403190874200897],\n",
       " ['remainder__lot_shape', 1.3990634317695623],\n",
       " ['remainder__wood_deck_sf', 1.398395447357443],\n",
       " ['ohe__roof_matl_WdShngl', 1.3860960270221545],\n",
       " ['remainder__functional', 1.366212994648111],\n",
       " ['ohe__exterior_2nd_CBlock', 1.3652770382373305],\n",
       " ['remainder__condition_1', 1.322458762766708],\n",
       " ['remainder__condition_2', 1.3180930134752262],\n",
       " ['ohe__neighborhood_Greens', 1.3143405128554122],\n",
       " ['ohe__heating_GasW', 1.2716307675114364],\n",
       " ['remainder__screen_porch', 1.2038503754370806],\n",
       " ['ohe__sale_type_CWD', 1.1922616722224841],\n",
       " ['remainder__misc_val', 1.1815368655569598],\n",
       " ['ohe__sale_type_ConLI', 1.1752684053190774],\n",
       " ['remainder__street', 1.1483900267424516],\n",
       " ['ohe__heating_Grav', 1.1468768107675391],\n",
       " ['remainder__lot_config', 1.1439760594831598],\n",
       " ['remainder__yr_sold', 1.1438971752429938],\n",
       " ['ohe__sale_type_ConLw', 1.135871553748919],\n",
       " ['ohe__sale_type_Oth', 1.1216828030992705],\n",
       " ['ohe__sale_type_Con', 1.1093420181180058],\n",
       " ['remainder__utilities', 1.1089665533862572],\n",
       " ['remainder__mo_sold', 1.108032596670689],\n",
       " ['remainder__3ssn_porch', 1.0855776085034707]]"
      ]
     },
     "execution_count": 108,
     "metadata": {},
     "output_type": "execute_result"
    }
   ],
   "source": [
    "for df in [X_train,X_val,y,y_val]:\n",
    "    df.drop(columns = ['remainder__id'],inplace=True)\n",
    "x = [[X_train.columns[col], variance_inflation_factor(X_train.values,col)] for col in range(len(X_train.columns))]\n",
    "sorted(x, key=lambda x: x[1], reverse=True)"
   ]
  },
  {
   "cell_type": "code",
   "execution_count": null,
   "id": "5cce594c-d127-4989-b8d1-fac79faa8892",
   "metadata": {},
   "outputs": [],
   "source": []
  },
  {
   "cell_type": "code",
   "execution_count": null,
   "id": "e69ce9e5-484c-4472-ae99-e50b084d5fda",
   "metadata": {},
   "outputs": [],
   "source": []
  },
  {
   "cell_type": "code",
   "execution_count": null,
   "id": "83c9beb6-f5e1-46d3-8355-972424faffba",
   "metadata": {},
   "outputs": [],
   "source": []
  },
  {
   "cell_type": "code",
   "execution_count": null,
   "id": "8f308ca4-485f-4f18-9719-00832a9b8ddb",
   "metadata": {},
   "outputs": [],
   "source": []
  },
  {
   "cell_type": "code",
   "execution_count": null,
   "id": "c778286f-c10a-44ce-b2c6-1b5336f322db",
   "metadata": {},
   "outputs": [],
   "source": []
  },
  {
   "cell_type": "markdown",
   "id": "ee41c837-d6e3-4a30-a0ee-d10b452a5794",
   "metadata": {},
   "source": [
    "### Feature Engineering"
   ]
  },
  {
   "cell_type": "code",
   "execution_count": 78,
   "id": "c79bcdd9-4185-45f1-8994-2c71ff12f0d2",
   "metadata": {},
   "outputs": [],
   "source": [
    "tr_id = X_train['id']\n",
    "val_id = X_val['id']"
   ]
  },
  {
   "cell_type": "code",
   "execution_count": 109,
   "id": "adec38a9-cf97-46a4-afd6-342a15539350",
   "metadata": {},
   "outputs": [],
   "source": [
    "poly = PolynomialFeatures(\n",
    "    degree = 2,\n",
    "    interaction_only = True,\n",
    "    include_bias = False\n",
    ")"
   ]
  },
  {
   "cell_type": "code",
   "execution_count": null,
   "id": "b4a7a7de-5745-4323-bf8e-21802647f2c1",
   "metadata": {},
   "outputs": [],
   "source": []
  },
  {
   "cell_type": "code",
   "execution_count": 110,
   "id": "d258e7ff-ff91-4aa4-9a31-40fd5294ca8e",
   "metadata": {},
   "outputs": [],
   "source": [
    "X_train = poly.fit_transform(\n",
    "    X_train\n",
    ")\n",
    "\n",
    "# Reconstruct DataFrame\n",
    "X_train = pd.DataFrame(X_train, columns = poly.get_feature_names_out())\n",
    "\n",
    "X_val = poly.fit_transform(\n",
    "    X_val\n",
    ")\n",
    "\n",
    "# Reconstruct DataFrame\n",
    "X_val = pd.DataFrame(X_val, columns = poly.get_feature_names_out())"
   ]
  },
  {
   "cell_type": "code",
   "execution_count": 111,
   "id": "ca5bdc33-378f-4859-b9a3-8a4f8f94efb9",
   "metadata": {},
   "outputs": [
    {
     "data": {
      "text/plain": [
       "((1640, 7750), (411, 7750))"
      ]
     },
     "execution_count": 111,
     "metadata": {},
     "output_type": "execute_result"
    }
   ],
   "source": [
    "#  300 permutations (25*24/2) + original 25 features\n",
    "\n",
    "X_train.shape,X_val.shape"
   ]
  },
  {
   "cell_type": "code",
   "execution_count": null,
   "id": "ce103f70-d925-4f25-9b69-4881a3c4e2fc",
   "metadata": {},
   "outputs": [],
   "source": [
    "X_train.corr()"
   ]
  },
  {
   "cell_type": "code",
   "execution_count": null,
   "id": "192ee11d-21db-4d6d-890b-4849bca765ef",
   "metadata": {},
   "outputs": [],
   "source": []
  },
  {
   "cell_type": "code",
   "execution_count": null,
   "id": "0592a71d-8d59-476f-84cc-0763fcd615fe",
   "metadata": {},
   "outputs": [],
   "source": []
  },
  {
   "cell_type": "code",
   "execution_count": null,
   "id": "f7cd9c1c-5321-4617-b44d-fb2646abd4e4",
   "metadata": {},
   "outputs": [],
   "source": []
  },
  {
   "cell_type": "markdown",
   "id": "3bacdc7d-2724-495e-9d27-4a14a079287e",
   "metadata": {},
   "source": [
    "### More Pre-Processing"
   ]
  },
  {
   "cell_type": "code",
   "execution_count": 112,
   "id": "9caa8865-035a-49d5-9401-0d39712c0e48",
   "metadata": {},
   "outputs": [],
   "source": [
    "#  Scaling\n",
    "\n",
    "ss = StandardScaler()\n",
    "Xs_train = ss.fit_transform(X_train)\n",
    "Xs_train = pd.DataFrame(Xs_train, columns = ss.get_feature_names_out())\n",
    "\n",
    "Xs_val = pd.DataFrame(ss.transform(X_val), columns = ss.get_feature_names_out())"
   ]
  },
  {
   "cell_type": "markdown",
   "id": "40e7d0a0-d810-43ee-8296-0638f5d122c0",
   "metadata": {},
   "source": [
    "### Modeling and Evaluation"
   ]
  },
  {
   "cell_type": "markdown",
   "id": "8d5a21c7-4c7a-4e52-8f3a-5938cdbbbcd6",
   "metadata": {},
   "source": [
    "####  Linear Model"
   ]
  },
  {
   "cell_type": "code",
   "execution_count": 82,
   "id": "62eaf63a-0776-4140-b01a-f83e51f4cab1",
   "metadata": {},
   "outputs": [],
   "source": [
    "#  Create baseline (null) model and get score\n",
    "#  (Always predict mean_y)"
   ]
  },
  {
   "cell_type": "code",
   "execution_count": 113,
   "id": "fb443f86-9120-4865-9b80-21bddcd9ae87",
   "metadata": {},
   "outputs": [
    {
     "data": {
      "text/plain": [
       "LinearRegression()"
      ]
     },
     "execution_count": 113,
     "metadata": {},
     "output_type": "execute_result"
    }
   ],
   "source": [
    "lr = LinearRegression()\n",
    "\n",
    "# fit to scaled trained data\n",
    "lr.fit(Xs_train,y_train)"
   ]
  },
  {
   "cell_type": "code",
   "execution_count": 114,
   "id": "13b8d903-0749-487e-9387-f63c17f3f768",
   "metadata": {},
   "outputs": [
    {
     "data": {
      "text/plain": [
       "array([0.39417924, 0.38368049, 0.17270332, 0.12623197, 0.26039255])"
      ]
     },
     "execution_count": 114,
     "metadata": {},
     "output_type": "execute_result"
    }
   ],
   "source": [
    "cross_val_score(lr,Xs_train,y_train)"
   ]
  },
  {
   "cell_type": "code",
   "execution_count": 115,
   "id": "c84198cc-7d5c-43ba-8cd5-a6354692d06d",
   "metadata": {},
   "outputs": [
    {
     "data": {
      "text/plain": [
       "1.0"
      ]
     },
     "execution_count": 115,
     "metadata": {},
     "output_type": "execute_result"
    }
   ],
   "source": [
    "lr.score(Xs_train,y_train)"
   ]
  },
  {
   "cell_type": "code",
   "execution_count": 116,
   "id": "00a25601-9101-45cc-8a03-af4719c11a6c",
   "metadata": {},
   "outputs": [
    {
     "data": {
      "text/plain": [
       "-1.529123423324775"
      ]
     },
     "execution_count": 116,
     "metadata": {},
     "output_type": "execute_result"
    }
   ],
   "source": [
    "lr.score(Xs_val,y_val)"
   ]
  },
  {
   "cell_type": "code",
   "execution_count": 117,
   "id": "4d06cfe5-5cc0-466c-9da6-53f66b3b8204",
   "metadata": {},
   "outputs": [],
   "source": [
    "#  Horribly overfit!!!  Way too many features!!!"
   ]
  },
  {
   "cell_type": "code",
   "execution_count": 118,
   "id": "41085200-d537-489c-8569-6dd63c4fe2c0",
   "metadata": {},
   "outputs": [
    {
     "data": {
      "text/plain": [
       "1.4082690676420957e-09"
      ]
     },
     "execution_count": 118,
     "metadata": {},
     "output_type": "execute_result"
    }
   ],
   "source": [
    "#  Rank by RMSE\n",
    "\n",
    "mean_squared_error(y_train, lr.predict(Xs_train),squared=False)\n",
    "\n",
    "# Average prediction off by 21k on train"
   ]
  },
  {
   "cell_type": "code",
   "execution_count": 119,
   "id": "25517d90-66a5-4157-b30e-fd8357ddc210",
   "metadata": {},
   "outputs": [
    {
     "data": {
      "text/plain": [
       "125151.03306118428"
      ]
     },
     "execution_count": 119,
     "metadata": {},
     "output_type": "execute_result"
    }
   ],
   "source": [
    "mean_squared_error(y_val, lr.predict(Xs_val),squared=False)\n",
    "\n",
    "# Average prediction off by quadrillions on validation!!!"
   ]
  },
  {
   "cell_type": "code",
   "execution_count": null,
   "id": "2535d0e5-7cd5-41ad-ac14-aba59b86b6fb",
   "metadata": {},
   "outputs": [],
   "source": []
  },
  {
   "cell_type": "code",
   "execution_count": 90,
   "id": "08f15a63-d6d3-4af1-b209-6ce1449b6bf2",
   "metadata": {},
   "outputs": [],
   "source": [
    "from statsmodels.stats.outliers_influence import variance_inflation_factor"
   ]
  },
  {
   "cell_type": "code",
   "execution_count": 140,
   "id": "911c1f7d-6e2d-4b2f-b944-236694ad1d8a",
   "metadata": {},
   "outputs": [],
   "source": [
    "corr = pd.DataFrame(data = X_train.corr(), columns = X_train.columns)"
   ]
  },
  {
   "cell_type": "code",
   "execution_count": 178,
   "id": "ad8e503c-5fc7-4883-9779-416feb9ce7e3",
   "metadata": {},
   "outputs": [],
   "source": [
    "values = []\n",
    "for i in X_train.columns:\n",
    "    for j in X_train.columns:\n",
    "        values.append((i,j,X_train[[i,j]].corr().unstack()[1:][0]))\n",
    " "
   ]
  },
  {
   "cell_type": "code",
   "execution_count": 185,
   "id": "f0069c64-9ff8-4303-82ba-4604ea601e26",
   "metadata": {},
   "outputs": [
    {
     "ename": "TypeError",
     "evalue": "list indices must be integers or slices, not str",
     "output_type": "error",
     "traceback": [
      "\u001b[1;31m---------------------------------------------------------------------------\u001b[0m",
      "\u001b[1;31mTypeError\u001b[0m                                 Traceback (most recent call last)",
      "\u001b[1;32m~\\AppData\\Local\\Temp\\ipykernel_13396\\2238479790.py\u001b[0m in \u001b[0;36m<module>\u001b[1;34m\u001b[0m\n\u001b[1;32m----> 1\u001b[1;33m \u001b[0mvalues\u001b[0m\u001b[1;33m[\u001b[0m\u001b[0mi\u001b[0m\u001b[1;33m]\u001b[0m\u001b[1;33m[\u001b[0m\u001b[1;36m2\u001b[0m\u001b[1;33m]\u001b[0m\u001b[1;33m\u001b[0m\u001b[1;33m\u001b[0m\u001b[0m\n\u001b[0m",
      "\u001b[1;31mTypeError\u001b[0m: list indices must be integers or slices, not str"
     ]
    }
   ],
   "source": []
  },
  {
   "cell_type": "code",
   "execution_count": null,
   "id": "66538170-4671-4cfd-9fb1-5a275b4a321f",
   "metadata": {},
   "outputs": [],
   "source": []
  },
  {
   "cell_type": "code",
   "execution_count": 91,
   "id": "058d4c65-e93d-4600-8069-51c03301b8b3",
   "metadata": {},
   "outputs": [],
   "source": [
    "#  Combat overfitting\n",
    "#  1.  Reduce no of features (check for collinearity/ all 5 model assumptions)\n",
    "#  2.  Get more data\n",
    "#  3.  Regularization -- add penalty terms to square errors/loss function\n",
    "#       --- Ridge and Lasso"
   ]
  },
  {
   "cell_type": "markdown",
   "id": "29f53434-5c51-4cf4-8d5f-805c107f5903",
   "metadata": {},
   "source": [
    "#### Lasso "
   ]
  },
  {
   "cell_type": "markdown",
   "id": "2cef4070-9cce-4d8c-8d9b-69e85d364c35",
   "metadata": {},
   "source": [
    "#### Ridge"
   ]
  },
  {
   "cell_type": "code",
   "execution_count": 120,
   "id": "69ba2d17-62e9-434a-9cf5-2aef26425751",
   "metadata": {},
   "outputs": [
    {
     "data": {
      "text/plain": [
       "RidgeCV(alphas=array([1.00000000e+00, 1.12332403e+00, 1.26185688e+00, 1.41747416e+00,\n",
       "       1.59228279e+00, 1.78864953e+00, 2.00923300e+00, 2.25701972e+00,\n",
       "       2.53536449e+00, 2.84803587e+00, 3.19926714e+00, 3.59381366e+00,\n",
       "       4.03701726e+00, 4.53487851e+00, 5.09413801e+00, 5.72236766e+00,\n",
       "       6.42807312e+00, 7.22080902e+00, 8.11130831e+00, 9.11162756e+00,\n",
       "       1.02353102e+01, 1.14975700e+0...\n",
       "       6.89261210e+03, 7.74263683e+03, 8.69749003e+03, 9.77009957e+03,\n",
       "       1.09749877e+04, 1.23284674e+04, 1.38488637e+04, 1.55567614e+04,\n",
       "       1.74752840e+04, 1.96304065e+04, 2.20513074e+04, 2.47707636e+04,\n",
       "       2.78255940e+04, 3.12571585e+04, 3.51119173e+04, 3.94420606e+04,\n",
       "       4.43062146e+04, 4.97702356e+04, 5.59081018e+04, 6.28029144e+04,\n",
       "       7.05480231e+04, 7.92482898e+04, 8.90215085e+04, 1.00000000e+05]))"
      ]
     },
     "execution_count": 120,
     "metadata": {},
     "output_type": "execute_result"
    }
   ],
   "source": [
    "ridge = RidgeCV(alphas = np.logspace(0,5,100))\n",
    "ridge.fit(Xs_train,y_train)"
   ]
  },
  {
   "cell_type": "code",
   "execution_count": 121,
   "id": "dc0f7e46-9678-49f9-9140-278cd62ad8f5",
   "metadata": {},
   "outputs": [
    {
     "data": {
      "text/plain": [
       "4328.761281083057"
      ]
     },
     "execution_count": 121,
     "metadata": {},
     "output_type": "execute_result"
    }
   ],
   "source": [
    "#  what is best alpha?\n",
    "ridge.alpha_"
   ]
  },
  {
   "cell_type": "code",
   "execution_count": 122,
   "id": "da158516-5166-4754-924c-d3952d1a54bc",
   "metadata": {},
   "outputs": [
    {
     "data": {
      "text/plain": [
       "0.9424772818663066"
      ]
     },
     "execution_count": 122,
     "metadata": {},
     "output_type": "execute_result"
    }
   ],
   "source": [
    "# score it twice\n",
    "ridge.score(Xs_train,y_train)\n"
   ]
  },
  {
   "cell_type": "code",
   "execution_count": 123,
   "id": "f172616a-25af-4156-95a3-9251dda5f1f5",
   "metadata": {},
   "outputs": [
    {
     "data": {
      "text/plain": [
       "0.813434003394979"
      ]
     },
     "execution_count": 123,
     "metadata": {},
     "output_type": "execute_result"
    }
   ],
   "source": [
    "ridge.score(Xs_val,y_val)"
   ]
  },
  {
   "cell_type": "code",
   "execution_count": 124,
   "id": "1ac5b176-c22b-44bb-9ca8-2037fe4bd9a1",
   "metadata": {},
   "outputs": [],
   "source": [
    "# much less overfit"
   ]
  },
  {
   "cell_type": "code",
   "execution_count": 125,
   "id": "2b7de86b-0df1-4b79-bb62-b299b917db77",
   "metadata": {},
   "outputs": [
    {
     "data": {
      "text/plain": [
       "19036.462092060494"
      ]
     },
     "execution_count": 125,
     "metadata": {},
     "output_type": "execute_result"
    }
   ],
   "source": [
    "mean_squared_error(y_train,ridge.predict(Xs_train),squared=False)"
   ]
  },
  {
   "cell_type": "code",
   "execution_count": 126,
   "id": "0939b9f2-8490-4db1-a108-bde7003a0e75",
   "metadata": {},
   "outputs": [
    {
     "data": {
      "text/plain": [
       "33991.13553021051"
      ]
     },
     "execution_count": 126,
     "metadata": {},
     "output_type": "execute_result"
    }
   ],
   "source": [
    "mean_squared_error(y_val,ridge.predict(Xs_val),squared=False)"
   ]
  },
  {
   "cell_type": "code",
   "execution_count": 127,
   "id": "040944ca-9e83-4764-a73d-eb2e34c3248b",
   "metadata": {},
   "outputs": [],
   "source": [
    "# convergence warnings - gradient doesn't converge (esp on Lasso)\n",
    "# put import at top\n",
    "\n",
    "import warnings "
   ]
  },
  {
   "cell_type": "code",
   "execution_count": 128,
   "id": "7b2e730f-d541-4092-920d-dcf8d3b7e3f4",
   "metadata": {},
   "outputs": [
    {
     "ename": "KeyboardInterrupt",
     "evalue": "",
     "output_type": "error",
     "traceback": [
      "\u001b[1;31m---------------------------------------------------------------------------\u001b[0m",
      "\u001b[1;31mKeyboardInterrupt\u001b[0m                         Traceback (most recent call last)",
      "\u001b[1;32m~\\AppData\\Local\\Temp\\ipykernel_1232\\1494188570.py\u001b[0m in \u001b[0;36m<module>\u001b[1;34m\u001b[0m\n\u001b[0;32m      5\u001b[0m \u001b[1;32mwith\u001b[0m \u001b[0mwarnings\u001b[0m\u001b[1;33m.\u001b[0m\u001b[0mcatch_warnings\u001b[0m\u001b[1;33m(\u001b[0m\u001b[1;33m)\u001b[0m\u001b[1;33m:\u001b[0m\u001b[1;33m\u001b[0m\u001b[1;33m\u001b[0m\u001b[0m\n\u001b[0;32m      6\u001b[0m     \u001b[0mwarnings\u001b[0m\u001b[1;33m.\u001b[0m\u001b[0msimplefilter\u001b[0m\u001b[1;33m(\u001b[0m\u001b[1;34m'ignore'\u001b[0m\u001b[1;33m)\u001b[0m\u001b[1;33m\u001b[0m\u001b[1;33m\u001b[0m\u001b[0m\n\u001b[1;32m----> 7\u001b[1;33m     \u001b[0mlasso\u001b[0m\u001b[1;33m.\u001b[0m\u001b[0mfit\u001b[0m\u001b[1;33m(\u001b[0m\u001b[0mXs_train\u001b[0m\u001b[1;33m,\u001b[0m\u001b[0my_train\u001b[0m\u001b[1;33m)\u001b[0m\u001b[1;33m\u001b[0m\u001b[1;33m\u001b[0m\u001b[0m\n\u001b[0m\u001b[0;32m      8\u001b[0m \u001b[1;33m\u001b[0m\u001b[0m\n",
      "\u001b[1;32m~\\anaconda3\\lib\\site-packages\\sklearn\\linear_model\\_coordinate_descent.py\u001b[0m in \u001b[0;36mfit\u001b[1;34m(self, X, y, sample_weight)\u001b[0m\n\u001b[0;32m   1668\u001b[0m             \u001b[1;32mfor\u001b[0m \u001b[0mtrain\u001b[0m\u001b[1;33m,\u001b[0m \u001b[0mtest\u001b[0m \u001b[1;32min\u001b[0m \u001b[0mfolds\u001b[0m\u001b[1;33m\u001b[0m\u001b[1;33m\u001b[0m\u001b[0m\n\u001b[0;32m   1669\u001b[0m         )\n\u001b[1;32m-> 1670\u001b[1;33m         mse_paths = Parallel(\n\u001b[0m\u001b[0;32m   1671\u001b[0m             \u001b[0mn_jobs\u001b[0m\u001b[1;33m=\u001b[0m\u001b[0mself\u001b[0m\u001b[1;33m.\u001b[0m\u001b[0mn_jobs\u001b[0m\u001b[1;33m,\u001b[0m\u001b[1;33m\u001b[0m\u001b[1;33m\u001b[0m\u001b[0m\n\u001b[0;32m   1672\u001b[0m             \u001b[0mverbose\u001b[0m\u001b[1;33m=\u001b[0m\u001b[0mself\u001b[0m\u001b[1;33m.\u001b[0m\u001b[0mverbose\u001b[0m\u001b[1;33m,\u001b[0m\u001b[1;33m\u001b[0m\u001b[1;33m\u001b[0m\u001b[0m\n",
      "\u001b[1;32m~\\anaconda3\\lib\\site-packages\\joblib\\parallel.py\u001b[0m in \u001b[0;36m__call__\u001b[1;34m(self, iterable)\u001b[0m\n\u001b[0;32m   1044\u001b[0m                 \u001b[0mself\u001b[0m\u001b[1;33m.\u001b[0m\u001b[0m_iterating\u001b[0m \u001b[1;33m=\u001b[0m \u001b[0mself\u001b[0m\u001b[1;33m.\u001b[0m\u001b[0m_original_iterator\u001b[0m \u001b[1;32mis\u001b[0m \u001b[1;32mnot\u001b[0m \u001b[1;32mNone\u001b[0m\u001b[1;33m\u001b[0m\u001b[1;33m\u001b[0m\u001b[0m\n\u001b[0;32m   1045\u001b[0m \u001b[1;33m\u001b[0m\u001b[0m\n\u001b[1;32m-> 1046\u001b[1;33m             \u001b[1;32mwhile\u001b[0m \u001b[0mself\u001b[0m\u001b[1;33m.\u001b[0m\u001b[0mdispatch_one_batch\u001b[0m\u001b[1;33m(\u001b[0m\u001b[0miterator\u001b[0m\u001b[1;33m)\u001b[0m\u001b[1;33m:\u001b[0m\u001b[1;33m\u001b[0m\u001b[1;33m\u001b[0m\u001b[0m\n\u001b[0m\u001b[0;32m   1047\u001b[0m                 \u001b[1;32mpass\u001b[0m\u001b[1;33m\u001b[0m\u001b[1;33m\u001b[0m\u001b[0m\n\u001b[0;32m   1048\u001b[0m \u001b[1;33m\u001b[0m\u001b[0m\n",
      "\u001b[1;32m~\\anaconda3\\lib\\site-packages\\joblib\\parallel.py\u001b[0m in \u001b[0;36mdispatch_one_batch\u001b[1;34m(self, iterator)\u001b[0m\n\u001b[0;32m    859\u001b[0m                 \u001b[1;32mreturn\u001b[0m \u001b[1;32mFalse\u001b[0m\u001b[1;33m\u001b[0m\u001b[1;33m\u001b[0m\u001b[0m\n\u001b[0;32m    860\u001b[0m             \u001b[1;32melse\u001b[0m\u001b[1;33m:\u001b[0m\u001b[1;33m\u001b[0m\u001b[1;33m\u001b[0m\u001b[0m\n\u001b[1;32m--> 861\u001b[1;33m                 \u001b[0mself\u001b[0m\u001b[1;33m.\u001b[0m\u001b[0m_dispatch\u001b[0m\u001b[1;33m(\u001b[0m\u001b[0mtasks\u001b[0m\u001b[1;33m)\u001b[0m\u001b[1;33m\u001b[0m\u001b[1;33m\u001b[0m\u001b[0m\n\u001b[0m\u001b[0;32m    862\u001b[0m                 \u001b[1;32mreturn\u001b[0m \u001b[1;32mTrue\u001b[0m\u001b[1;33m\u001b[0m\u001b[1;33m\u001b[0m\u001b[0m\n\u001b[0;32m    863\u001b[0m \u001b[1;33m\u001b[0m\u001b[0m\n",
      "\u001b[1;32m~\\anaconda3\\lib\\site-packages\\joblib\\parallel.py\u001b[0m in \u001b[0;36m_dispatch\u001b[1;34m(self, batch)\u001b[0m\n\u001b[0;32m    777\u001b[0m         \u001b[1;32mwith\u001b[0m \u001b[0mself\u001b[0m\u001b[1;33m.\u001b[0m\u001b[0m_lock\u001b[0m\u001b[1;33m:\u001b[0m\u001b[1;33m\u001b[0m\u001b[1;33m\u001b[0m\u001b[0m\n\u001b[0;32m    778\u001b[0m             \u001b[0mjob_idx\u001b[0m \u001b[1;33m=\u001b[0m \u001b[0mlen\u001b[0m\u001b[1;33m(\u001b[0m\u001b[0mself\u001b[0m\u001b[1;33m.\u001b[0m\u001b[0m_jobs\u001b[0m\u001b[1;33m)\u001b[0m\u001b[1;33m\u001b[0m\u001b[1;33m\u001b[0m\u001b[0m\n\u001b[1;32m--> 779\u001b[1;33m             \u001b[0mjob\u001b[0m \u001b[1;33m=\u001b[0m \u001b[0mself\u001b[0m\u001b[1;33m.\u001b[0m\u001b[0m_backend\u001b[0m\u001b[1;33m.\u001b[0m\u001b[0mapply_async\u001b[0m\u001b[1;33m(\u001b[0m\u001b[0mbatch\u001b[0m\u001b[1;33m,\u001b[0m \u001b[0mcallback\u001b[0m\u001b[1;33m=\u001b[0m\u001b[0mcb\u001b[0m\u001b[1;33m)\u001b[0m\u001b[1;33m\u001b[0m\u001b[1;33m\u001b[0m\u001b[0m\n\u001b[0m\u001b[0;32m    780\u001b[0m             \u001b[1;31m# A job can complete so quickly than its callback is\u001b[0m\u001b[1;33m\u001b[0m\u001b[1;33m\u001b[0m\u001b[0m\n\u001b[0;32m    781\u001b[0m             \u001b[1;31m# called before we get here, causing self._jobs to\u001b[0m\u001b[1;33m\u001b[0m\u001b[1;33m\u001b[0m\u001b[0m\n",
      "\u001b[1;32m~\\anaconda3\\lib\\site-packages\\joblib\\_parallel_backends.py\u001b[0m in \u001b[0;36mapply_async\u001b[1;34m(self, func, callback)\u001b[0m\n\u001b[0;32m    206\u001b[0m     \u001b[1;32mdef\u001b[0m \u001b[0mapply_async\u001b[0m\u001b[1;33m(\u001b[0m\u001b[0mself\u001b[0m\u001b[1;33m,\u001b[0m \u001b[0mfunc\u001b[0m\u001b[1;33m,\u001b[0m \u001b[0mcallback\u001b[0m\u001b[1;33m=\u001b[0m\u001b[1;32mNone\u001b[0m\u001b[1;33m)\u001b[0m\u001b[1;33m:\u001b[0m\u001b[1;33m\u001b[0m\u001b[1;33m\u001b[0m\u001b[0m\n\u001b[0;32m    207\u001b[0m         \u001b[1;34m\"\"\"Schedule a func to be run\"\"\"\u001b[0m\u001b[1;33m\u001b[0m\u001b[1;33m\u001b[0m\u001b[0m\n\u001b[1;32m--> 208\u001b[1;33m         \u001b[0mresult\u001b[0m \u001b[1;33m=\u001b[0m \u001b[0mImmediateResult\u001b[0m\u001b[1;33m(\u001b[0m\u001b[0mfunc\u001b[0m\u001b[1;33m)\u001b[0m\u001b[1;33m\u001b[0m\u001b[1;33m\u001b[0m\u001b[0m\n\u001b[0m\u001b[0;32m    209\u001b[0m         \u001b[1;32mif\u001b[0m \u001b[0mcallback\u001b[0m\u001b[1;33m:\u001b[0m\u001b[1;33m\u001b[0m\u001b[1;33m\u001b[0m\u001b[0m\n\u001b[0;32m    210\u001b[0m             \u001b[0mcallback\u001b[0m\u001b[1;33m(\u001b[0m\u001b[0mresult\u001b[0m\u001b[1;33m)\u001b[0m\u001b[1;33m\u001b[0m\u001b[1;33m\u001b[0m\u001b[0m\n",
      "\u001b[1;32m~\\anaconda3\\lib\\site-packages\\joblib\\_parallel_backends.py\u001b[0m in \u001b[0;36m__init__\u001b[1;34m(self, batch)\u001b[0m\n\u001b[0;32m    570\u001b[0m         \u001b[1;31m# Don't delay the application, to avoid keeping the input\u001b[0m\u001b[1;33m\u001b[0m\u001b[1;33m\u001b[0m\u001b[0m\n\u001b[0;32m    571\u001b[0m         \u001b[1;31m# arguments in memory\u001b[0m\u001b[1;33m\u001b[0m\u001b[1;33m\u001b[0m\u001b[0m\n\u001b[1;32m--> 572\u001b[1;33m         \u001b[0mself\u001b[0m\u001b[1;33m.\u001b[0m\u001b[0mresults\u001b[0m \u001b[1;33m=\u001b[0m \u001b[0mbatch\u001b[0m\u001b[1;33m(\u001b[0m\u001b[1;33m)\u001b[0m\u001b[1;33m\u001b[0m\u001b[1;33m\u001b[0m\u001b[0m\n\u001b[0m\u001b[0;32m    573\u001b[0m \u001b[1;33m\u001b[0m\u001b[0m\n\u001b[0;32m    574\u001b[0m     \u001b[1;32mdef\u001b[0m \u001b[0mget\u001b[0m\u001b[1;33m(\u001b[0m\u001b[0mself\u001b[0m\u001b[1;33m)\u001b[0m\u001b[1;33m:\u001b[0m\u001b[1;33m\u001b[0m\u001b[1;33m\u001b[0m\u001b[0m\n",
      "\u001b[1;32m~\\anaconda3\\lib\\site-packages\\joblib\\parallel.py\u001b[0m in \u001b[0;36m__call__\u001b[1;34m(self)\u001b[0m\n\u001b[0;32m    260\u001b[0m         \u001b[1;31m# change the default number of processes to -1\u001b[0m\u001b[1;33m\u001b[0m\u001b[1;33m\u001b[0m\u001b[0m\n\u001b[0;32m    261\u001b[0m         \u001b[1;32mwith\u001b[0m \u001b[0mparallel_backend\u001b[0m\u001b[1;33m(\u001b[0m\u001b[0mself\u001b[0m\u001b[1;33m.\u001b[0m\u001b[0m_backend\u001b[0m\u001b[1;33m,\u001b[0m \u001b[0mn_jobs\u001b[0m\u001b[1;33m=\u001b[0m\u001b[0mself\u001b[0m\u001b[1;33m.\u001b[0m\u001b[0m_n_jobs\u001b[0m\u001b[1;33m)\u001b[0m\u001b[1;33m:\u001b[0m\u001b[1;33m\u001b[0m\u001b[1;33m\u001b[0m\u001b[0m\n\u001b[1;32m--> 262\u001b[1;33m             return [func(*args, **kwargs)\n\u001b[0m\u001b[0;32m    263\u001b[0m                     for func, args, kwargs in self.items]\n\u001b[0;32m    264\u001b[0m \u001b[1;33m\u001b[0m\u001b[0m\n",
      "\u001b[1;32m~\\anaconda3\\lib\\site-packages\\joblib\\parallel.py\u001b[0m in \u001b[0;36m<listcomp>\u001b[1;34m(.0)\u001b[0m\n\u001b[0;32m    260\u001b[0m         \u001b[1;31m# change the default number of processes to -1\u001b[0m\u001b[1;33m\u001b[0m\u001b[1;33m\u001b[0m\u001b[0m\n\u001b[0;32m    261\u001b[0m         \u001b[1;32mwith\u001b[0m \u001b[0mparallel_backend\u001b[0m\u001b[1;33m(\u001b[0m\u001b[0mself\u001b[0m\u001b[1;33m.\u001b[0m\u001b[0m_backend\u001b[0m\u001b[1;33m,\u001b[0m \u001b[0mn_jobs\u001b[0m\u001b[1;33m=\u001b[0m\u001b[0mself\u001b[0m\u001b[1;33m.\u001b[0m\u001b[0m_n_jobs\u001b[0m\u001b[1;33m)\u001b[0m\u001b[1;33m:\u001b[0m\u001b[1;33m\u001b[0m\u001b[1;33m\u001b[0m\u001b[0m\n\u001b[1;32m--> 262\u001b[1;33m             return [func(*args, **kwargs)\n\u001b[0m\u001b[0;32m    263\u001b[0m                     for func, args, kwargs in self.items]\n\u001b[0;32m    264\u001b[0m \u001b[1;33m\u001b[0m\u001b[0m\n",
      "\u001b[1;32m~\\anaconda3\\lib\\site-packages\\sklearn\\utils\\fixes.py\u001b[0m in \u001b[0;36m__call__\u001b[1;34m(self, *args, **kwargs)\u001b[0m\n\u001b[0;32m    214\u001b[0m     \u001b[1;32mdef\u001b[0m \u001b[0m__call__\u001b[0m\u001b[1;33m(\u001b[0m\u001b[0mself\u001b[0m\u001b[1;33m,\u001b[0m \u001b[1;33m*\u001b[0m\u001b[0margs\u001b[0m\u001b[1;33m,\u001b[0m \u001b[1;33m**\u001b[0m\u001b[0mkwargs\u001b[0m\u001b[1;33m)\u001b[0m\u001b[1;33m:\u001b[0m\u001b[1;33m\u001b[0m\u001b[1;33m\u001b[0m\u001b[0m\n\u001b[0;32m    215\u001b[0m         \u001b[1;32mwith\u001b[0m \u001b[0mconfig_context\u001b[0m\u001b[1;33m(\u001b[0m\u001b[1;33m**\u001b[0m\u001b[0mself\u001b[0m\u001b[1;33m.\u001b[0m\u001b[0mconfig\u001b[0m\u001b[1;33m)\u001b[0m\u001b[1;33m:\u001b[0m\u001b[1;33m\u001b[0m\u001b[1;33m\u001b[0m\u001b[0m\n\u001b[1;32m--> 216\u001b[1;33m             \u001b[1;32mreturn\u001b[0m \u001b[0mself\u001b[0m\u001b[1;33m.\u001b[0m\u001b[0mfunction\u001b[0m\u001b[1;33m(\u001b[0m\u001b[1;33m*\u001b[0m\u001b[0margs\u001b[0m\u001b[1;33m,\u001b[0m \u001b[1;33m**\u001b[0m\u001b[0mkwargs\u001b[0m\u001b[1;33m)\u001b[0m\u001b[1;33m\u001b[0m\u001b[1;33m\u001b[0m\u001b[0m\n\u001b[0m\u001b[0;32m    217\u001b[0m \u001b[1;33m\u001b[0m\u001b[0m\n\u001b[0;32m    218\u001b[0m \u001b[1;33m\u001b[0m\u001b[0m\n",
      "\u001b[1;32m~\\anaconda3\\lib\\site-packages\\sklearn\\linear_model\\_coordinate_descent.py\u001b[0m in \u001b[0;36m_path_residuals\u001b[1;34m(X, y, sample_weight, train, test, normalize, fit_intercept, path, path_params, alphas, l1_ratio, X_order, dtype)\u001b[0m\n\u001b[0;32m   1400\u001b[0m     \u001b[1;31m# X is copied and a reference is kept here\u001b[0m\u001b[1;33m\u001b[0m\u001b[1;33m\u001b[0m\u001b[0m\n\u001b[0;32m   1401\u001b[0m     \u001b[0mX_train\u001b[0m \u001b[1;33m=\u001b[0m \u001b[0mcheck_array\u001b[0m\u001b[1;33m(\u001b[0m\u001b[0mX_train\u001b[0m\u001b[1;33m,\u001b[0m \u001b[0maccept_sparse\u001b[0m\u001b[1;33m=\u001b[0m\u001b[1;34m\"csc\"\u001b[0m\u001b[1;33m,\u001b[0m \u001b[0mdtype\u001b[0m\u001b[1;33m=\u001b[0m\u001b[0mdtype\u001b[0m\u001b[1;33m,\u001b[0m \u001b[0morder\u001b[0m\u001b[1;33m=\u001b[0m\u001b[0mX_order\u001b[0m\u001b[1;33m)\u001b[0m\u001b[1;33m\u001b[0m\u001b[1;33m\u001b[0m\u001b[0m\n\u001b[1;32m-> 1402\u001b[1;33m     \u001b[0malphas\u001b[0m\u001b[1;33m,\u001b[0m \u001b[0mcoefs\u001b[0m\u001b[1;33m,\u001b[0m \u001b[0m_\u001b[0m \u001b[1;33m=\u001b[0m \u001b[0mpath\u001b[0m\u001b[1;33m(\u001b[0m\u001b[0mX_train\u001b[0m\u001b[1;33m,\u001b[0m \u001b[0my_train\u001b[0m\u001b[1;33m,\u001b[0m \u001b[1;33m**\u001b[0m\u001b[0mpath_params\u001b[0m\u001b[1;33m)\u001b[0m\u001b[1;33m\u001b[0m\u001b[1;33m\u001b[0m\u001b[0m\n\u001b[0m\u001b[0;32m   1403\u001b[0m     \u001b[1;32mdel\u001b[0m \u001b[0mX_train\u001b[0m\u001b[1;33m,\u001b[0m \u001b[0my_train\u001b[0m\u001b[1;33m\u001b[0m\u001b[1;33m\u001b[0m\u001b[0m\n\u001b[0;32m   1404\u001b[0m \u001b[1;33m\u001b[0m\u001b[0m\n",
      "\u001b[1;32m~\\anaconda3\\lib\\site-packages\\sklearn\\linear_model\\_coordinate_descent.py\u001b[0m in \u001b[0;36mlasso_path\u001b[1;34m(X, y, eps, n_alphas, alphas, precompute, Xy, copy_X, coef_init, verbose, return_n_iter, positive, **params)\u001b[0m\n\u001b[0;32m    347\u001b[0m      [0.2159048  0.4425765  0.23668876]]\n\u001b[0;32m    348\u001b[0m     \"\"\"\n\u001b[1;32m--> 349\u001b[1;33m     return enet_path(\n\u001b[0m\u001b[0;32m    350\u001b[0m         \u001b[0mX\u001b[0m\u001b[1;33m,\u001b[0m\u001b[1;33m\u001b[0m\u001b[1;33m\u001b[0m\u001b[0m\n\u001b[0;32m    351\u001b[0m         \u001b[0my\u001b[0m\u001b[1;33m,\u001b[0m\u001b[1;33m\u001b[0m\u001b[1;33m\u001b[0m\u001b[0m\n",
      "\u001b[1;32m~\\anaconda3\\lib\\site-packages\\sklearn\\linear_model\\_coordinate_descent.py\u001b[0m in \u001b[0;36menet_path\u001b[1;34m(X, y, l1_ratio, eps, n_alphas, alphas, precompute, Xy, copy_X, coef_init, verbose, return_n_iter, positive, check_input, **params)\u001b[0m\n\u001b[0;32m    645\u001b[0m             )\n\u001b[0;32m    646\u001b[0m         \u001b[1;32melif\u001b[0m \u001b[0mprecompute\u001b[0m \u001b[1;32mis\u001b[0m \u001b[1;32mFalse\u001b[0m\u001b[1;33m:\u001b[0m\u001b[1;33m\u001b[0m\u001b[1;33m\u001b[0m\u001b[0m\n\u001b[1;32m--> 647\u001b[1;33m             model = cd_fast.enet_coordinate_descent(\n\u001b[0m\u001b[0;32m    648\u001b[0m                 \u001b[0mcoef_\u001b[0m\u001b[1;33m,\u001b[0m \u001b[0ml1_reg\u001b[0m\u001b[1;33m,\u001b[0m \u001b[0ml2_reg\u001b[0m\u001b[1;33m,\u001b[0m \u001b[0mX\u001b[0m\u001b[1;33m,\u001b[0m \u001b[0my\u001b[0m\u001b[1;33m,\u001b[0m \u001b[0mmax_iter\u001b[0m\u001b[1;33m,\u001b[0m \u001b[0mtol\u001b[0m\u001b[1;33m,\u001b[0m \u001b[0mrng\u001b[0m\u001b[1;33m,\u001b[0m \u001b[0mrandom\u001b[0m\u001b[1;33m,\u001b[0m \u001b[0mpositive\u001b[0m\u001b[1;33m\u001b[0m\u001b[1;33m\u001b[0m\u001b[0m\n\u001b[0;32m    649\u001b[0m             )\n",
      "\u001b[1;32msklearn\\linear_model\\_cd_fast.pyx\u001b[0m in \u001b[0;36msklearn.linear_model._cd_fast.enet_coordinate_descent\u001b[1;34m()\u001b[0m\n",
      "\u001b[1;32m~\\anaconda3\\lib\\site-packages\\numpy\\core\\getlimits.py\u001b[0m in \u001b[0;36m__new__\u001b[1;34m(cls, dtype)\u001b[0m\n\u001b[0;32m    381\u001b[0m \u001b[1;33m\u001b[0m\u001b[0m\n\u001b[0;32m    382\u001b[0m     \u001b[1;32mdef\u001b[0m \u001b[0m__new__\u001b[0m\u001b[1;33m(\u001b[0m\u001b[0mcls\u001b[0m\u001b[1;33m,\u001b[0m \u001b[0mdtype\u001b[0m\u001b[1;33m)\u001b[0m\u001b[1;33m:\u001b[0m\u001b[1;33m\u001b[0m\u001b[1;33m\u001b[0m\u001b[0m\n\u001b[1;32m--> 383\u001b[1;33m         \u001b[1;32mtry\u001b[0m\u001b[1;33m:\u001b[0m\u001b[1;33m\u001b[0m\u001b[1;33m\u001b[0m\u001b[0m\n\u001b[0m\u001b[0;32m    384\u001b[0m             \u001b[0mdtype\u001b[0m \u001b[1;33m=\u001b[0m \u001b[0mnumeric\u001b[0m\u001b[1;33m.\u001b[0m\u001b[0mdtype\u001b[0m\u001b[1;33m(\u001b[0m\u001b[0mdtype\u001b[0m\u001b[1;33m)\u001b[0m\u001b[1;33m\u001b[0m\u001b[1;33m\u001b[0m\u001b[0m\n\u001b[0;32m    385\u001b[0m         \u001b[1;32mexcept\u001b[0m \u001b[0mTypeError\u001b[0m\u001b[1;33m:\u001b[0m\u001b[1;33m\u001b[0m\u001b[1;33m\u001b[0m\u001b[0m\n",
      "\u001b[1;31mKeyboardInterrupt\u001b[0m: "
     ]
    }
   ],
   "source": [
    "lasso = LassoCV(alphas = np.logspace(0.05,10,1))\n",
    "\n",
    "#  with - only in this function\n",
    "import warnings\n",
    "with warnings.catch_warnings():\n",
    "    warnings.simplefilter('ignore')\n",
    "    lasso.fit(Xs_train,y_train)\n",
    "    "
   ]
  },
  {
   "cell_type": "raw",
   "id": "cd9eddaf-b3ac-473d-af92-49ca812af148",
   "metadata": {},
   "source": [
    "lasso.alpha_"
   ]
  },
  {
   "cell_type": "code",
   "execution_count": null,
   "id": "59f38d2d-1764-4523-be70-dff7ebfccc78",
   "metadata": {},
   "outputs": [],
   "source": [
    "lasso = LassoCV(alphas = 1)\n",
    "lasso.fit(Xs_train, y_train)"
   ]
  },
  {
   "cell_type": "code",
   "execution_count": null,
   "id": "e3daff93-43af-43da-a9e5-901a42bf42ad",
   "metadata": {},
   "outputs": [],
   "source": [
    "lasso.score(Xs_train, y_train)"
   ]
  },
  {
   "cell_type": "code",
   "execution_count": null,
   "id": "a674542a-bcb3-4429-801a-765a3922b2f0",
   "metadata": {},
   "outputs": [],
   "source": [
    "lasso.score(Xs_val, y_val)"
   ]
  },
  {
   "cell_type": "code",
   "execution_count": null,
   "id": "2fbe42aa-3fa9-4705-8f7f-eef2f5365147",
   "metadata": {},
   "outputs": [],
   "source": [
    "mean_squared_error(y_train, lasso.predict(Xs_train), squared = False)"
   ]
  },
  {
   "cell_type": "code",
   "execution_count": null,
   "id": "27b9a1f5-bd68-4cfb-a8ab-c4d0e429211b",
   "metadata": {},
   "outputs": [],
   "source": [
    "mean_squared_error(y_val, lasso.predict(Xs_val), squared = False)"
   ]
  },
  {
   "cell_type": "code",
   "execution_count": null,
   "id": "9ed50973-b071-4c83-8afa-dbfce10a0304",
   "metadata": {},
   "outputs": [],
   "source": [
    "lasso.coef_"
   ]
  },
  {
   "cell_type": "code",
   "execution_count": null,
   "id": "41aef8c4-895a-48dd-812d-ab50d7c0f866",
   "metadata": {},
   "outputs": [],
   "source": [
    "from statsmodels.stats.outliers_influence import variance_inflation_factor"
   ]
  },
  {
   "cell_type": "code",
   "execution_count": 129,
   "id": "32a089a9-0e49-46ad-9b05-08012c0c1aa7",
   "metadata": {},
   "outputs": [
    {
     "name": "stderr",
     "output_type": "stream",
     "text": [
      "C:\\Users\\Ari\\anaconda3\\lib\\site-packages\\statsmodels\\stats\\outliers_influence.py:195: RuntimeWarning: divide by zero encountered in double_scalars\n",
      "  vif = 1. / (1. - r_squared_i)\n"
     ]
    },
    {
     "ename": "KeyboardInterrupt",
     "evalue": "",
     "output_type": "error",
     "traceback": [
      "\u001b[1;31m---------------------------------------------------------------------------\u001b[0m",
      "\u001b[1;31mKeyboardInterrupt\u001b[0m                         Traceback (most recent call last)",
      "\u001b[1;32m~\\AppData\\Local\\Temp\\ipykernel_1232\\1799372286.py\u001b[0m in \u001b[0;36m<module>\u001b[1;34m\u001b[0m\n\u001b[1;32m----> 1\u001b[1;33m \u001b[0mx\u001b[0m \u001b[1;33m=\u001b[0m \u001b[1;33m[\u001b[0m\u001b[1;33m(\u001b[0m\u001b[0mX_train\u001b[0m\u001b[1;33m.\u001b[0m\u001b[0mcolumns\u001b[0m\u001b[1;33m[\u001b[0m\u001b[0mcol\u001b[0m\u001b[1;33m]\u001b[0m\u001b[1;33m,\u001b[0m \u001b[0mvariance_inflation_factor\u001b[0m\u001b[1;33m(\u001b[0m\u001b[0mX_train\u001b[0m\u001b[1;33m.\u001b[0m\u001b[0mvalues\u001b[0m\u001b[1;33m,\u001b[0m\u001b[0mcol\u001b[0m\u001b[1;33m)\u001b[0m\u001b[1;33m)\u001b[0m \u001b[1;32mfor\u001b[0m \u001b[0mcol\u001b[0m \u001b[1;32min\u001b[0m \u001b[0mrange\u001b[0m\u001b[1;33m(\u001b[0m\u001b[0mlen\u001b[0m\u001b[1;33m(\u001b[0m\u001b[0mX_train\u001b[0m\u001b[1;33m.\u001b[0m\u001b[0mcolumns\u001b[0m\u001b[1;33m)\u001b[0m\u001b[1;33m)\u001b[0m\u001b[1;33m]\u001b[0m\u001b[1;33m\u001b[0m\u001b[1;33m\u001b[0m\u001b[0m\n\u001b[0m",
      "\u001b[1;32m~\\AppData\\Local\\Temp\\ipykernel_1232\\1799372286.py\u001b[0m in \u001b[0;36m<listcomp>\u001b[1;34m(.0)\u001b[0m\n\u001b[1;32m----> 1\u001b[1;33m \u001b[0mx\u001b[0m \u001b[1;33m=\u001b[0m \u001b[1;33m[\u001b[0m\u001b[1;33m(\u001b[0m\u001b[0mX_train\u001b[0m\u001b[1;33m.\u001b[0m\u001b[0mcolumns\u001b[0m\u001b[1;33m[\u001b[0m\u001b[0mcol\u001b[0m\u001b[1;33m]\u001b[0m\u001b[1;33m,\u001b[0m \u001b[0mvariance_inflation_factor\u001b[0m\u001b[1;33m(\u001b[0m\u001b[0mX_train\u001b[0m\u001b[1;33m.\u001b[0m\u001b[0mvalues\u001b[0m\u001b[1;33m,\u001b[0m\u001b[0mcol\u001b[0m\u001b[1;33m)\u001b[0m\u001b[1;33m)\u001b[0m \u001b[1;32mfor\u001b[0m \u001b[0mcol\u001b[0m \u001b[1;32min\u001b[0m \u001b[0mrange\u001b[0m\u001b[1;33m(\u001b[0m\u001b[0mlen\u001b[0m\u001b[1;33m(\u001b[0m\u001b[0mX_train\u001b[0m\u001b[1;33m.\u001b[0m\u001b[0mcolumns\u001b[0m\u001b[1;33m)\u001b[0m\u001b[1;33m)\u001b[0m\u001b[1;33m]\u001b[0m\u001b[1;33m\u001b[0m\u001b[1;33m\u001b[0m\u001b[0m\n\u001b[0m",
      "\u001b[1;32m~\\anaconda3\\lib\\site-packages\\statsmodels\\stats\\outliers_influence.py\u001b[0m in \u001b[0;36mvariance_inflation_factor\u001b[1;34m(exog, exog_idx)\u001b[0m\n\u001b[0;32m    192\u001b[0m     \u001b[0mmask\u001b[0m \u001b[1;33m=\u001b[0m \u001b[0mnp\u001b[0m\u001b[1;33m.\u001b[0m\u001b[0marange\u001b[0m\u001b[1;33m(\u001b[0m\u001b[0mk_vars\u001b[0m\u001b[1;33m)\u001b[0m \u001b[1;33m!=\u001b[0m \u001b[0mexog_idx\u001b[0m\u001b[1;33m\u001b[0m\u001b[1;33m\u001b[0m\u001b[0m\n\u001b[0;32m    193\u001b[0m     \u001b[0mx_noti\u001b[0m \u001b[1;33m=\u001b[0m \u001b[0mexog\u001b[0m\u001b[1;33m[\u001b[0m\u001b[1;33m:\u001b[0m\u001b[1;33m,\u001b[0m \u001b[0mmask\u001b[0m\u001b[1;33m]\u001b[0m\u001b[1;33m\u001b[0m\u001b[1;33m\u001b[0m\u001b[0m\n\u001b[1;32m--> 194\u001b[1;33m     \u001b[0mr_squared_i\u001b[0m \u001b[1;33m=\u001b[0m \u001b[0mOLS\u001b[0m\u001b[1;33m(\u001b[0m\u001b[0mx_i\u001b[0m\u001b[1;33m,\u001b[0m \u001b[0mx_noti\u001b[0m\u001b[1;33m)\u001b[0m\u001b[1;33m.\u001b[0m\u001b[0mfit\u001b[0m\u001b[1;33m(\u001b[0m\u001b[1;33m)\u001b[0m\u001b[1;33m.\u001b[0m\u001b[0mrsquared\u001b[0m\u001b[1;33m\u001b[0m\u001b[1;33m\u001b[0m\u001b[0m\n\u001b[0m\u001b[0;32m    195\u001b[0m     \u001b[0mvif\u001b[0m \u001b[1;33m=\u001b[0m \u001b[1;36m1.\u001b[0m \u001b[1;33m/\u001b[0m \u001b[1;33m(\u001b[0m\u001b[1;36m1.\u001b[0m \u001b[1;33m-\u001b[0m \u001b[0mr_squared_i\u001b[0m\u001b[1;33m)\u001b[0m\u001b[1;33m\u001b[0m\u001b[1;33m\u001b[0m\u001b[0m\n\u001b[0;32m    196\u001b[0m     \u001b[1;32mreturn\u001b[0m \u001b[0mvif\u001b[0m\u001b[1;33m\u001b[0m\u001b[1;33m\u001b[0m\u001b[0m\n",
      "\u001b[1;32m~\\anaconda3\\lib\\site-packages\\statsmodels\\regression\\linear_model.py\u001b[0m in \u001b[0;36mfit\u001b[1;34m(self, method, cov_type, cov_kwds, use_t, **kwargs)\u001b[0m\n\u001b[0;32m    304\u001b[0m                     hasattr(self, 'rank')):\n\u001b[0;32m    305\u001b[0m \u001b[1;33m\u001b[0m\u001b[0m\n\u001b[1;32m--> 306\u001b[1;33m                 \u001b[0mself\u001b[0m\u001b[1;33m.\u001b[0m\u001b[0mpinv_wexog\u001b[0m\u001b[1;33m,\u001b[0m \u001b[0msingular_values\u001b[0m \u001b[1;33m=\u001b[0m \u001b[0mpinv_extended\u001b[0m\u001b[1;33m(\u001b[0m\u001b[0mself\u001b[0m\u001b[1;33m.\u001b[0m\u001b[0mwexog\u001b[0m\u001b[1;33m)\u001b[0m\u001b[1;33m\u001b[0m\u001b[1;33m\u001b[0m\u001b[0m\n\u001b[0m\u001b[0;32m    307\u001b[0m                 self.normalized_cov_params = np.dot(\n\u001b[0;32m    308\u001b[0m                     self.pinv_wexog, np.transpose(self.pinv_wexog))\n",
      "\u001b[1;32m~\\anaconda3\\lib\\site-packages\\statsmodels\\tools\\tools.py\u001b[0m in \u001b[0;36mpinv_extended\u001b[1;34m(x, rcond)\u001b[0m\n\u001b[0;32m    337\u001b[0m     \u001b[0mx\u001b[0m \u001b[1;33m=\u001b[0m \u001b[0mnp\u001b[0m\u001b[1;33m.\u001b[0m\u001b[0masarray\u001b[0m\u001b[1;33m(\u001b[0m\u001b[0mx\u001b[0m\u001b[1;33m)\u001b[0m\u001b[1;33m\u001b[0m\u001b[1;33m\u001b[0m\u001b[0m\n\u001b[0;32m    338\u001b[0m     \u001b[0mx\u001b[0m \u001b[1;33m=\u001b[0m \u001b[0mx\u001b[0m\u001b[1;33m.\u001b[0m\u001b[0mconjugate\u001b[0m\u001b[1;33m(\u001b[0m\u001b[1;33m)\u001b[0m\u001b[1;33m\u001b[0m\u001b[1;33m\u001b[0m\u001b[0m\n\u001b[1;32m--> 339\u001b[1;33m     \u001b[0mu\u001b[0m\u001b[1;33m,\u001b[0m \u001b[0ms\u001b[0m\u001b[1;33m,\u001b[0m \u001b[0mvt\u001b[0m \u001b[1;33m=\u001b[0m \u001b[0mnp\u001b[0m\u001b[1;33m.\u001b[0m\u001b[0mlinalg\u001b[0m\u001b[1;33m.\u001b[0m\u001b[0msvd\u001b[0m\u001b[1;33m(\u001b[0m\u001b[0mx\u001b[0m\u001b[1;33m,\u001b[0m \u001b[1;32mFalse\u001b[0m\u001b[1;33m)\u001b[0m\u001b[1;33m\u001b[0m\u001b[1;33m\u001b[0m\u001b[0m\n\u001b[0m\u001b[0;32m    340\u001b[0m     \u001b[0ms_orig\u001b[0m \u001b[1;33m=\u001b[0m \u001b[0mnp\u001b[0m\u001b[1;33m.\u001b[0m\u001b[0mcopy\u001b[0m\u001b[1;33m(\u001b[0m\u001b[0ms\u001b[0m\u001b[1;33m)\u001b[0m\u001b[1;33m\u001b[0m\u001b[1;33m\u001b[0m\u001b[0m\n\u001b[0;32m    341\u001b[0m     \u001b[0mm\u001b[0m \u001b[1;33m=\u001b[0m \u001b[0mu\u001b[0m\u001b[1;33m.\u001b[0m\u001b[0mshape\u001b[0m\u001b[1;33m[\u001b[0m\u001b[1;36m0\u001b[0m\u001b[1;33m]\u001b[0m\u001b[1;33m\u001b[0m\u001b[1;33m\u001b[0m\u001b[0m\n",
      "\u001b[1;32m<__array_function__ internals>\u001b[0m in \u001b[0;36msvd\u001b[1;34m(*args, **kwargs)\u001b[0m\n",
      "\u001b[1;32m~\\anaconda3\\lib\\site-packages\\numpy\\linalg\\linalg.py\u001b[0m in \u001b[0;36msvd\u001b[1;34m(a, full_matrices, compute_uv, hermitian)\u001b[0m\n\u001b[0;32m   1658\u001b[0m \u001b[1;33m\u001b[0m\u001b[0m\n\u001b[0;32m   1659\u001b[0m         \u001b[0msignature\u001b[0m \u001b[1;33m=\u001b[0m \u001b[1;34m'D->DdD'\u001b[0m \u001b[1;32mif\u001b[0m \u001b[0misComplexType\u001b[0m\u001b[1;33m(\u001b[0m\u001b[0mt\u001b[0m\u001b[1;33m)\u001b[0m \u001b[1;32melse\u001b[0m \u001b[1;34m'd->ddd'\u001b[0m\u001b[1;33m\u001b[0m\u001b[1;33m\u001b[0m\u001b[0m\n\u001b[1;32m-> 1660\u001b[1;33m         \u001b[0mu\u001b[0m\u001b[1;33m,\u001b[0m \u001b[0ms\u001b[0m\u001b[1;33m,\u001b[0m \u001b[0mvh\u001b[0m \u001b[1;33m=\u001b[0m \u001b[0mgufunc\u001b[0m\u001b[1;33m(\u001b[0m\u001b[0ma\u001b[0m\u001b[1;33m,\u001b[0m \u001b[0msignature\u001b[0m\u001b[1;33m=\u001b[0m\u001b[0msignature\u001b[0m\u001b[1;33m,\u001b[0m \u001b[0mextobj\u001b[0m\u001b[1;33m=\u001b[0m\u001b[0mextobj\u001b[0m\u001b[1;33m)\u001b[0m\u001b[1;33m\u001b[0m\u001b[1;33m\u001b[0m\u001b[0m\n\u001b[0m\u001b[0;32m   1661\u001b[0m         \u001b[0mu\u001b[0m \u001b[1;33m=\u001b[0m \u001b[0mu\u001b[0m\u001b[1;33m.\u001b[0m\u001b[0mastype\u001b[0m\u001b[1;33m(\u001b[0m\u001b[0mresult_t\u001b[0m\u001b[1;33m,\u001b[0m \u001b[0mcopy\u001b[0m\u001b[1;33m=\u001b[0m\u001b[1;32mFalse\u001b[0m\u001b[1;33m)\u001b[0m\u001b[1;33m\u001b[0m\u001b[1;33m\u001b[0m\u001b[0m\n\u001b[0;32m   1662\u001b[0m         \u001b[0ms\u001b[0m \u001b[1;33m=\u001b[0m \u001b[0ms\u001b[0m\u001b[1;33m.\u001b[0m\u001b[0mastype\u001b[0m\u001b[1;33m(\u001b[0m\u001b[0m_realType\u001b[0m\u001b[1;33m(\u001b[0m\u001b[0mresult_t\u001b[0m\u001b[1;33m)\u001b[0m\u001b[1;33m,\u001b[0m \u001b[0mcopy\u001b[0m\u001b[1;33m=\u001b[0m\u001b[1;32mFalse\u001b[0m\u001b[1;33m)\u001b[0m\u001b[1;33m\u001b[0m\u001b[1;33m\u001b[0m\u001b[0m\n",
      "\u001b[1;31mKeyboardInterrupt\u001b[0m: "
     ]
    }
   ],
   "source": [
    "x = [(X_train.columns[col], variance_inflation_factor(X_train.values,col)) for col in range(len(X_train.columns))]"
   ]
  },
  {
   "cell_type": "code",
   "execution_count": null,
   "id": "dc31a1d5-0f69-4a68-aa0e-6ce9c02debf4",
   "metadata": {},
   "outputs": [],
   "source": [
    "sorted(x, key=lambda x: x[1], reverse=True)"
   ]
  },
  {
   "cell_type": "code",
   "execution_count": null,
   "id": "0b65ccc0-42d0-4f6a-8b4b-1ea6d2dbeba2",
   "metadata": {},
   "outputs": [],
   "source": [
    "output = []\n",
    "for i in range(len(X_train.columns)):\n",
    "    print(f'{X_train.columns[i]}: {variance_inflation_factor(X_train.values,i)}')\n",
    "    output.append((X_train.columns[i],variance_inflation_factor(X_train.values,i)))"
   ]
  },
  {
   "cell_type": "code",
   "execution_count": null,
   "id": "5dcbfa43-ba1d-49ea-bfc6-58720589f48c",
   "metadata": {},
   "outputs": [],
   "source": [
    "sorted(output, key=lambda output: output[1], reverse=True)"
   ]
  },
  {
   "cell_type": "code",
   "execution_count": null,
   "id": "443b1c06-1034-4aaf-8497-fe6c8334e4f5",
   "metadata": {},
   "outputs": [],
   "source": []
  },
  {
   "cell_type": "markdown",
   "id": "7ccab13c-e17f-45fc-abd2-85559b79d58a",
   "metadata": {},
   "source": [
    "#### Make Predictions"
   ]
  },
  {
   "cell_type": "code",
   "execution_count": null,
   "id": "727a6224-8014-43ee-9922-6a0f5eb03b94",
   "metadata": {},
   "outputs": [],
   "source": [
    "# do to val and test everything done to train\n",
    "#  probably should do this as you go along"
   ]
  },
  {
   "cell_type": "code",
   "execution_count": null,
   "id": "f10c0056-d302-4276-92ef-219f56f7ab9d",
   "metadata": {},
   "outputs": [],
   "source": []
  },
  {
   "cell_type": "code",
   "execution_count": null,
   "id": "6b7d0234-ea00-4d21-b509-3450b426e9b3",
   "metadata": {},
   "outputs": [],
   "source": []
  },
  {
   "cell_type": "code",
   "execution_count": null,
   "id": "a22c7d8c-ef5d-41f9-a6b9-f5e570a74328",
   "metadata": {},
   "outputs": [],
   "source": [
    "test_id = df_test['id']"
   ]
  },
  {
   "cell_type": "code",
   "execution_count": null,
   "id": "f14c4530-a95a-41dc-9b6c-4bf0f0b84505",
   "metadata": {},
   "outputs": [],
   "source": [
    "df_test = poly.transform(df_test.drop(columns = ['id']))\n",
    "Xs_test = pd.DataFrame(\n",
    "    ss.transform(df_test),\n",
    "    columns = poly.get_feature_names_out()\n",
    ")"
   ]
  },
  {
   "cell_type": "code",
   "execution_count": null,
   "id": "e729ce3a-6887-41f0-b717-8fde6dab61aa",
   "metadata": {},
   "outputs": [],
   "source": [
    "# instantiate best model\n",
    "\n",
    "lasso_sub = Lasso(alpha = lasso.alpha_)\n",
    "lasso_sub.fit(Xs_train,y_train)\n",
    "preds = lasso_sub.predict(Xs_test)"
   ]
  },
  {
   "cell_type": "code",
   "execution_count": null,
   "id": "7f179f08-9f0e-4f17-b269-7fc8cb526ca1",
   "metadata": {},
   "outputs": [],
   "source": []
  },
  {
   "cell_type": "code",
   "execution_count": null,
   "id": "80c9432a-4043-4991-ab21-fe62cdd620b4",
   "metadata": {},
   "outputs": [],
   "source": []
  },
  {
   "cell_type": "code",
   "execution_count": null,
   "id": "03077398-4346-47de-919a-c4bd9417a904",
   "metadata": {},
   "outputs": [],
   "source": []
  },
  {
   "cell_type": "code",
   "execution_count": null,
   "id": "6444751a-e7b2-4eed-96d3-4700e1a2c047",
   "metadata": {},
   "outputs": [],
   "source": [
    "preds = pd.DataFrame({'Id': test_id,'SalePrice': preds})"
   ]
  },
  {
   "cell_type": "code",
   "execution_count": null,
   "id": "85403b58-8cc8-45e9-810c-4f6b767bf535",
   "metadata": {},
   "outputs": [],
   "source": [
    "preds.to_csv('./submissions/lasso_1_simple.csv', index=False)"
   ]
  },
  {
   "cell_type": "code",
   "execution_count": null,
   "id": "eea109a5-8d76-45bb-8fe1-45809b254bda",
   "metadata": {},
   "outputs": [],
   "source": [
    "## store scores along the way "
   ]
  },
  {
   "cell_type": "code",
   "execution_count": null,
   "id": "152728eb-204c-490d-9d3d-a23bfd1151db",
   "metadata": {},
   "outputs": [],
   "source": [
    "# Submit to kaggle"
   ]
  },
  {
   "cell_type": "code",
   "execution_count": null,
   "id": "1e2d7002-d569-4c5e-a55e-c76b8955013d",
   "metadata": {},
   "outputs": [],
   "source": []
  }
 ],
 "metadata": {
  "kernelspec": {
   "display_name": "Python 3 (ipykernel)",
   "language": "python",
   "name": "python3"
  },
  "language_info": {
   "codemirror_mode": {
    "name": "ipython",
    "version": 3
   },
   "file_extension": ".py",
   "mimetype": "text/x-python",
   "name": "python",
   "nbconvert_exporter": "python",
   "pygments_lexer": "ipython3",
   "version": "3.9.13"
  }
 },
 "nbformat": 4,
 "nbformat_minor": 5
}
