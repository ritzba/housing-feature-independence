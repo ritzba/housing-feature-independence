{
 "cells": [
  {
   "cell_type": "markdown",
   "id": "e8da5478",
   "metadata": {},
   "source": [
    "#  Ames Housing - EDA and Data Cleaning"
   ]
  },
  {
   "cell_type": "code",
   "execution_count": 1,
   "id": "4c7b069c",
   "metadata": {},
   "outputs": [],
   "source": [
    "#  Import libraries\n",
    "\n",
    "import numpy as np\n",
    "import pandas as pd\n",
    "import matplotlib.pyplot as plt\n",
    "import seaborn as sns\n",
    "\n",
    "#  Use Seaborn formatting\n",
    "\n",
    "sns.set()"
   ]
  },
  {
   "cell_type": "code",
   "execution_count": null,
   "id": "54fdc993",
   "metadata": {},
   "outputs": [],
   "source": []
  },
  {
   "cell_type": "code",
   "execution_count": 2,
   "id": "836df1d0",
   "metadata": {},
   "outputs": [],
   "source": [
    "#  Read the data\n",
    "\n",
    "df_train = pd.read_csv('./datasets/train.csv')\n",
    "df_test = pd.read_csv('./datasets/test.csv')"
   ]
  },
  {
   "cell_type": "code",
   "execution_count": 3,
   "id": "5836bbbf",
   "metadata": {
    "scrolled": true
   },
   "outputs": [
    {
     "data": {
      "text/html": [
       "<div>\n",
       "<style scoped>\n",
       "    .dataframe tbody tr th:only-of-type {\n",
       "        vertical-align: middle;\n",
       "    }\n",
       "\n",
       "    .dataframe tbody tr th {\n",
       "        vertical-align: top;\n",
       "    }\n",
       "\n",
       "    .dataframe thead th {\n",
       "        text-align: right;\n",
       "    }\n",
       "</style>\n",
       "<table border=\"1\" class=\"dataframe\">\n",
       "  <thead>\n",
       "    <tr style=\"text-align: right;\">\n",
       "      <th></th>\n",
       "      <th>Id</th>\n",
       "      <th>PID</th>\n",
       "      <th>MS SubClass</th>\n",
       "      <th>MS Zoning</th>\n",
       "      <th>Lot Frontage</th>\n",
       "      <th>Lot Area</th>\n",
       "      <th>Street</th>\n",
       "      <th>Alley</th>\n",
       "      <th>Lot Shape</th>\n",
       "      <th>Land Contour</th>\n",
       "      <th>...</th>\n",
       "      <th>Screen Porch</th>\n",
       "      <th>Pool Area</th>\n",
       "      <th>Pool QC</th>\n",
       "      <th>Fence</th>\n",
       "      <th>Misc Feature</th>\n",
       "      <th>Misc Val</th>\n",
       "      <th>Mo Sold</th>\n",
       "      <th>Yr Sold</th>\n",
       "      <th>Sale Type</th>\n",
       "      <th>SalePrice</th>\n",
       "    </tr>\n",
       "  </thead>\n",
       "  <tbody>\n",
       "    <tr>\n",
       "      <th>0</th>\n",
       "      <td>109</td>\n",
       "      <td>533352170</td>\n",
       "      <td>60</td>\n",
       "      <td>RL</td>\n",
       "      <td>NaN</td>\n",
       "      <td>13517</td>\n",
       "      <td>Pave</td>\n",
       "      <td>NaN</td>\n",
       "      <td>IR1</td>\n",
       "      <td>Lvl</td>\n",
       "      <td>...</td>\n",
       "      <td>0</td>\n",
       "      <td>0</td>\n",
       "      <td>NaN</td>\n",
       "      <td>NaN</td>\n",
       "      <td>NaN</td>\n",
       "      <td>0</td>\n",
       "      <td>3</td>\n",
       "      <td>2010</td>\n",
       "      <td>WD</td>\n",
       "      <td>130500</td>\n",
       "    </tr>\n",
       "    <tr>\n",
       "      <th>1</th>\n",
       "      <td>544</td>\n",
       "      <td>531379050</td>\n",
       "      <td>60</td>\n",
       "      <td>RL</td>\n",
       "      <td>43.0</td>\n",
       "      <td>11492</td>\n",
       "      <td>Pave</td>\n",
       "      <td>NaN</td>\n",
       "      <td>IR1</td>\n",
       "      <td>Lvl</td>\n",
       "      <td>...</td>\n",
       "      <td>0</td>\n",
       "      <td>0</td>\n",
       "      <td>NaN</td>\n",
       "      <td>NaN</td>\n",
       "      <td>NaN</td>\n",
       "      <td>0</td>\n",
       "      <td>4</td>\n",
       "      <td>2009</td>\n",
       "      <td>WD</td>\n",
       "      <td>220000</td>\n",
       "    </tr>\n",
       "    <tr>\n",
       "      <th>2</th>\n",
       "      <td>153</td>\n",
       "      <td>535304180</td>\n",
       "      <td>20</td>\n",
       "      <td>RL</td>\n",
       "      <td>68.0</td>\n",
       "      <td>7922</td>\n",
       "      <td>Pave</td>\n",
       "      <td>NaN</td>\n",
       "      <td>Reg</td>\n",
       "      <td>Lvl</td>\n",
       "      <td>...</td>\n",
       "      <td>0</td>\n",
       "      <td>0</td>\n",
       "      <td>NaN</td>\n",
       "      <td>NaN</td>\n",
       "      <td>NaN</td>\n",
       "      <td>0</td>\n",
       "      <td>1</td>\n",
       "      <td>2010</td>\n",
       "      <td>WD</td>\n",
       "      <td>109000</td>\n",
       "    </tr>\n",
       "    <tr>\n",
       "      <th>3</th>\n",
       "      <td>318</td>\n",
       "      <td>916386060</td>\n",
       "      <td>60</td>\n",
       "      <td>RL</td>\n",
       "      <td>73.0</td>\n",
       "      <td>9802</td>\n",
       "      <td>Pave</td>\n",
       "      <td>NaN</td>\n",
       "      <td>Reg</td>\n",
       "      <td>Lvl</td>\n",
       "      <td>...</td>\n",
       "      <td>0</td>\n",
       "      <td>0</td>\n",
       "      <td>NaN</td>\n",
       "      <td>NaN</td>\n",
       "      <td>NaN</td>\n",
       "      <td>0</td>\n",
       "      <td>4</td>\n",
       "      <td>2010</td>\n",
       "      <td>WD</td>\n",
       "      <td>174000</td>\n",
       "    </tr>\n",
       "    <tr>\n",
       "      <th>4</th>\n",
       "      <td>255</td>\n",
       "      <td>906425045</td>\n",
       "      <td>50</td>\n",
       "      <td>RL</td>\n",
       "      <td>82.0</td>\n",
       "      <td>14235</td>\n",
       "      <td>Pave</td>\n",
       "      <td>NaN</td>\n",
       "      <td>IR1</td>\n",
       "      <td>Lvl</td>\n",
       "      <td>...</td>\n",
       "      <td>0</td>\n",
       "      <td>0</td>\n",
       "      <td>NaN</td>\n",
       "      <td>NaN</td>\n",
       "      <td>NaN</td>\n",
       "      <td>0</td>\n",
       "      <td>3</td>\n",
       "      <td>2010</td>\n",
       "      <td>WD</td>\n",
       "      <td>138500</td>\n",
       "    </tr>\n",
       "  </tbody>\n",
       "</table>\n",
       "<p>5 rows × 81 columns</p>\n",
       "</div>"
      ],
      "text/plain": [
       "    Id        PID  MS SubClass MS Zoning  Lot Frontage  Lot Area Street Alley  \\\n",
       "0  109  533352170           60        RL           NaN     13517   Pave   NaN   \n",
       "1  544  531379050           60        RL          43.0     11492   Pave   NaN   \n",
       "2  153  535304180           20        RL          68.0      7922   Pave   NaN   \n",
       "3  318  916386060           60        RL          73.0      9802   Pave   NaN   \n",
       "4  255  906425045           50        RL          82.0     14235   Pave   NaN   \n",
       "\n",
       "  Lot Shape Land Contour  ... Screen Porch Pool Area Pool QC Fence  \\\n",
       "0       IR1          Lvl  ...            0         0     NaN   NaN   \n",
       "1       IR1          Lvl  ...            0         0     NaN   NaN   \n",
       "2       Reg          Lvl  ...            0         0     NaN   NaN   \n",
       "3       Reg          Lvl  ...            0         0     NaN   NaN   \n",
       "4       IR1          Lvl  ...            0         0     NaN   NaN   \n",
       "\n",
       "  Misc Feature Misc Val Mo Sold Yr Sold  Sale Type  SalePrice  \n",
       "0          NaN        0       3    2010        WD      130500  \n",
       "1          NaN        0       4    2009        WD      220000  \n",
       "2          NaN        0       1    2010        WD      109000  \n",
       "3          NaN        0       4    2010        WD      174000  \n",
       "4          NaN        0       3    2010        WD      138500  \n",
       "\n",
       "[5 rows x 81 columns]"
      ]
     },
     "execution_count": 3,
     "metadata": {},
     "output_type": "execute_result"
    }
   ],
   "source": [
    "#  View the data\n",
    "\n",
    "df_train.head()"
   ]
  },
  {
   "cell_type": "code",
   "execution_count": 4,
   "id": "234a2beb",
   "metadata": {
    "scrolled": true
   },
   "outputs": [
    {
     "name": "stdout",
     "output_type": "stream",
     "text": [
      "<class 'pandas.core.frame.DataFrame'>\n",
      "RangeIndex: 2051 entries, 0 to 2050\n",
      "Data columns (total 81 columns):\n",
      " #   Column           Non-Null Count  Dtype  \n",
      "---  ------           --------------  -----  \n",
      " 0   Id               2051 non-null   int64  \n",
      " 1   PID              2051 non-null   int64  \n",
      " 2   MS SubClass      2051 non-null   int64  \n",
      " 3   MS Zoning        2051 non-null   object \n",
      " 4   Lot Frontage     1721 non-null   float64\n",
      " 5   Lot Area         2051 non-null   int64  \n",
      " 6   Street           2051 non-null   object \n",
      " 7   Alley            140 non-null    object \n",
      " 8   Lot Shape        2051 non-null   object \n",
      " 9   Land Contour     2051 non-null   object \n",
      " 10  Utilities        2051 non-null   object \n",
      " 11  Lot Config       2051 non-null   object \n",
      " 12  Land Slope       2051 non-null   object \n",
      " 13  Neighborhood     2051 non-null   object \n",
      " 14  Condition 1      2051 non-null   object \n",
      " 15  Condition 2      2051 non-null   object \n",
      " 16  Bldg Type        2051 non-null   object \n",
      " 17  House Style      2051 non-null   object \n",
      " 18  Overall Qual     2051 non-null   int64  \n",
      " 19  Overall Cond     2051 non-null   int64  \n",
      " 20  Year Built       2051 non-null   int64  \n",
      " 21  Year Remod/Add   2051 non-null   int64  \n",
      " 22  Roof Style       2051 non-null   object \n",
      " 23  Roof Matl        2051 non-null   object \n",
      " 24  Exterior 1st     2051 non-null   object \n",
      " 25  Exterior 2nd     2051 non-null   object \n",
      " 26  Mas Vnr Type     2029 non-null   object \n",
      " 27  Mas Vnr Area     2029 non-null   float64\n",
      " 28  Exter Qual       2051 non-null   object \n",
      " 29  Exter Cond       2051 non-null   object \n",
      " 30  Foundation       2051 non-null   object \n",
      " 31  Bsmt Qual        1996 non-null   object \n",
      " 32  Bsmt Cond        1996 non-null   object \n",
      " 33  Bsmt Exposure    1993 non-null   object \n",
      " 34  BsmtFin Type 1   1996 non-null   object \n",
      " 35  BsmtFin SF 1     2050 non-null   float64\n",
      " 36  BsmtFin Type 2   1995 non-null   object \n",
      " 37  BsmtFin SF 2     2050 non-null   float64\n",
      " 38  Bsmt Unf SF      2050 non-null   float64\n",
      " 39  Total Bsmt SF    2050 non-null   float64\n",
      " 40  Heating          2051 non-null   object \n",
      " 41  Heating QC       2051 non-null   object \n",
      " 42  Central Air      2051 non-null   object \n",
      " 43  Electrical       2051 non-null   object \n",
      " 44  1st Flr SF       2051 non-null   int64  \n",
      " 45  2nd Flr SF       2051 non-null   int64  \n",
      " 46  Low Qual Fin SF  2051 non-null   int64  \n",
      " 47  Gr Liv Area      2051 non-null   int64  \n",
      " 48  Bsmt Full Bath   2049 non-null   float64\n",
      " 49  Bsmt Half Bath   2049 non-null   float64\n",
      " 50  Full Bath        2051 non-null   int64  \n",
      " 51  Half Bath        2051 non-null   int64  \n",
      " 52  Bedroom AbvGr    2051 non-null   int64  \n",
      " 53  Kitchen AbvGr    2051 non-null   int64  \n",
      " 54  Kitchen Qual     2051 non-null   object \n",
      " 55  TotRms AbvGrd    2051 non-null   int64  \n",
      " 56  Functional       2051 non-null   object \n",
      " 57  Fireplaces       2051 non-null   int64  \n",
      " 58  Fireplace Qu     1051 non-null   object \n",
      " 59  Garage Type      1938 non-null   object \n",
      " 60  Garage Yr Blt    1937 non-null   float64\n",
      " 61  Garage Finish    1937 non-null   object \n",
      " 62  Garage Cars      2050 non-null   float64\n",
      " 63  Garage Area      2050 non-null   float64\n",
      " 64  Garage Qual      1937 non-null   object \n",
      " 65  Garage Cond      1937 non-null   object \n",
      " 66  Paved Drive      2051 non-null   object \n",
      " 67  Wood Deck SF     2051 non-null   int64  \n",
      " 68  Open Porch SF    2051 non-null   int64  \n",
      " 69  Enclosed Porch   2051 non-null   int64  \n",
      " 70  3Ssn Porch       2051 non-null   int64  \n",
      " 71  Screen Porch     2051 non-null   int64  \n",
      " 72  Pool Area        2051 non-null   int64  \n",
      " 73  Pool QC          9 non-null      object \n",
      " 74  Fence            400 non-null    object \n",
      " 75  Misc Feature     65 non-null     object \n",
      " 76  Misc Val         2051 non-null   int64  \n",
      " 77  Mo Sold          2051 non-null   int64  \n",
      " 78  Yr Sold          2051 non-null   int64  \n",
      " 79  Sale Type        2051 non-null   object \n",
      " 80  SalePrice        2051 non-null   int64  \n",
      "dtypes: float64(11), int64(28), object(42)\n",
      "memory usage: 1.3+ MB\n"
     ]
    }
   ],
   "source": [
    "#  View column info and data types\n",
    "\n",
    "df_train.info()"
   ]
  },
  {
   "cell_type": "code",
   "execution_count": 5,
   "id": "7b0b30eb",
   "metadata": {},
   "outputs": [
    {
     "name": "stdout",
     "output_type": "stream",
     "text": [
      "<class 'pandas.core.frame.DataFrame'>\n",
      "RangeIndex: 2051 entries, 0 to 2050\n",
      "Data columns (total 81 columns):\n",
      " #   Column           Non-Null Count  Dtype  \n",
      "---  ------           --------------  -----  \n",
      " 0   Id               2051 non-null   int64  \n",
      " 1   PID              2051 non-null   int64  \n",
      " 2   MS SubClass      2051 non-null   int64  \n",
      " 3   MS Zoning        2051 non-null   object \n",
      " 4   Lot Frontage     1721 non-null   float64\n",
      " 5   Lot Area         2051 non-null   int64  \n",
      " 6   Street           2051 non-null   object \n",
      " 7   Alley            140 non-null    object \n",
      " 8   Lot Shape        2051 non-null   object \n",
      " 9   Land Contour     2051 non-null   object \n",
      " 10  Utilities        2051 non-null   object \n",
      " 11  Lot Config       2051 non-null   object \n",
      " 12  Land Slope       2051 non-null   object \n",
      " 13  Neighborhood     2051 non-null   object \n",
      " 14  Condition 1      2051 non-null   object \n",
      " 15  Condition 2      2051 non-null   object \n",
      " 16  Bldg Type        2051 non-null   object \n",
      " 17  House Style      2051 non-null   object \n",
      " 18  Overall Qual     2051 non-null   int64  \n",
      " 19  Overall Cond     2051 non-null   int64  \n",
      " 20  Year Built       2051 non-null   int64  \n",
      " 21  Year Remod/Add   2051 non-null   int64  \n",
      " 22  Roof Style       2051 non-null   object \n",
      " 23  Roof Matl        2051 non-null   object \n",
      " 24  Exterior 1st     2051 non-null   object \n",
      " 25  Exterior 2nd     2051 non-null   object \n",
      " 26  Mas Vnr Type     2029 non-null   object \n",
      " 27  Mas Vnr Area     2029 non-null   float64\n",
      " 28  Exter Qual       2051 non-null   object \n",
      " 29  Exter Cond       2051 non-null   object \n",
      " 30  Foundation       2051 non-null   object \n",
      " 31  Bsmt Qual        1996 non-null   object \n",
      " 32  Bsmt Cond        1996 non-null   object \n",
      " 33  Bsmt Exposure    1993 non-null   object \n",
      " 34  BsmtFin Type 1   1996 non-null   object \n",
      " 35  BsmtFin SF 1     2050 non-null   float64\n",
      " 36  BsmtFin Type 2   1995 non-null   object \n",
      " 37  BsmtFin SF 2     2050 non-null   float64\n",
      " 38  Bsmt Unf SF      2050 non-null   float64\n",
      " 39  Total Bsmt SF    2050 non-null   float64\n",
      " 40  Heating          2051 non-null   object \n",
      " 41  Heating QC       2051 non-null   object \n",
      " 42  Central Air      2051 non-null   object \n",
      " 43  Electrical       2051 non-null   object \n",
      " 44  1st Flr SF       2051 non-null   int64  \n",
      " 45  2nd Flr SF       2051 non-null   int64  \n",
      " 46  Low Qual Fin SF  2051 non-null   int64  \n",
      " 47  Gr Liv Area      2051 non-null   int64  \n",
      " 48  Bsmt Full Bath   2049 non-null   float64\n",
      " 49  Bsmt Half Bath   2049 non-null   float64\n",
      " 50  Full Bath        2051 non-null   int64  \n",
      " 51  Half Bath        2051 non-null   int64  \n",
      " 52  Bedroom AbvGr    2051 non-null   int64  \n",
      " 53  Kitchen AbvGr    2051 non-null   int64  \n",
      " 54  Kitchen Qual     2051 non-null   object \n",
      " 55  TotRms AbvGrd    2051 non-null   int64  \n",
      " 56  Functional       2051 non-null   object \n",
      " 57  Fireplaces       2051 non-null   int64  \n",
      " 58  Fireplace Qu     1051 non-null   object \n",
      " 59  Garage Type      1938 non-null   object \n",
      " 60  Garage Yr Blt    1937 non-null   float64\n",
      " 61  Garage Finish    1937 non-null   object \n",
      " 62  Garage Cars      2050 non-null   float64\n",
      " 63  Garage Area      2050 non-null   float64\n",
      " 64  Garage Qual      1937 non-null   object \n",
      " 65  Garage Cond      1937 non-null   object \n",
      " 66  Paved Drive      2051 non-null   object \n",
      " 67  Wood Deck SF     2051 non-null   int64  \n",
      " 68  Open Porch SF    2051 non-null   int64  \n",
      " 69  Enclosed Porch   2051 non-null   int64  \n",
      " 70  3Ssn Porch       2051 non-null   int64  \n",
      " 71  Screen Porch     2051 non-null   int64  \n",
      " 72  Pool Area        2051 non-null   int64  \n",
      " 73  Pool QC          9 non-null      object \n",
      " 74  Fence            400 non-null    object \n",
      " 75  Misc Feature     65 non-null     object \n",
      " 76  Misc Val         2051 non-null   int64  \n",
      " 77  Mo Sold          2051 non-null   int64  \n",
      " 78  Yr Sold          2051 non-null   int64  \n",
      " 79  Sale Type        2051 non-null   object \n",
      " 80  SalePrice        2051 non-null   int64  \n",
      "dtypes: float64(11), int64(28), object(42)\n",
      "memory usage: 1.3+ MB\n"
     ]
    }
   ],
   "source": [
    "df_train.info()"
   ]
  },
  {
   "cell_type": "code",
   "execution_count": 6,
   "id": "aedc0b1b-085e-446d-903a-99d226beac17",
   "metadata": {},
   "outputs": [],
   "source": [
    "#  ID is merely an index column, so we drop it\n",
    "\n",
    "df_train.drop(columns = 'Id',inplace = True)\n",
    "df_test.drop(columns = 'Id',inplace = True)"
   ]
  },
  {
   "cell_type": "code",
   "execution_count": 7,
   "id": "f2610d11",
   "metadata": {},
   "outputs": [],
   "source": [
    "#  Reformat column names\n",
    "\n",
    "df_train.columns = [col.lower().replace(' ','_') for col in df_train.columns]\n",
    "df_test.columns = [col.lower().replace(' ','_') for col in df_test.columns]"
   ]
  },
  {
   "cell_type": "code",
   "execution_count": 8,
   "id": "810c94f8",
   "metadata": {},
   "outputs": [
    {
     "data": {
      "text/plain": [
       "pool_qc           2042\n",
       "misc_feature      1986\n",
       "alley             1911\n",
       "fence             1651\n",
       "fireplace_qu      1000\n",
       "lot_frontage       330\n",
       "garage_yr_blt      114\n",
       "garage_cond        114\n",
       "garage_qual        114\n",
       "garage_finish      114\n",
       "garage_type        113\n",
       "bsmt_exposure       58\n",
       "bsmtfin_type_2      56\n",
       "bsmt_cond           55\n",
       "bsmt_qual           55\n",
       "bsmtfin_type_1      55\n",
       "mas_vnr_area        22\n",
       "mas_vnr_type        22\n",
       "bsmt_half_bath       2\n",
       "bsmt_full_bath       2\n",
       "total_bsmt_sf        1\n",
       "bsmt_unf_sf          1\n",
       "bsmtfin_sf_2         1\n",
       "garage_cars          1\n",
       "garage_area          1\n",
       "bsmtfin_sf_1         1\n",
       "dtype: int64"
      ]
     },
     "execution_count": 8,
     "metadata": {},
     "output_type": "execute_result"
    }
   ],
   "source": [
    "#  Quantity of nulls per column\n",
    "\n",
    "df_train.isnull().sum().loc[lambda x: x > 0].sort_values(ascending=False)"
   ]
  },
  {
   "cell_type": "code",
   "execution_count": 9,
   "id": "7a6d6631",
   "metadata": {},
   "outputs": [
    {
     "data": {
      "text/plain": [
       "pool_qc           874\n",
       "misc_feature      837\n",
       "alley             820\n",
       "fence             706\n",
       "fireplace_qu      422\n",
       "lot_frontage      160\n",
       "garage_yr_blt      45\n",
       "garage_finish      45\n",
       "garage_qual        45\n",
       "garage_cond        45\n",
       "garage_type        44\n",
       "bsmt_exposure      25\n",
       "bsmtfin_type_1     25\n",
       "bsmtfin_type_2     25\n",
       "bsmt_cond          25\n",
       "bsmt_qual          25\n",
       "mas_vnr_area        1\n",
       "mas_vnr_type        1\n",
       "electrical          1\n",
       "dtype: int64"
      ]
     },
     "execution_count": 9,
     "metadata": {},
     "output_type": "execute_result"
    }
   ],
   "source": [
    "df_test.isnull().sum().loc[lambda x: x > 0].sort_values(ascending=False)"
   ]
  },
  {
   "cell_type": "markdown",
   "id": "ebbcaa6e",
   "metadata": {
    "tags": []
   },
   "source": [
    "##  PID"
   ]
  },
  {
   "cell_type": "markdown",
   "id": "3c3f3d2f",
   "metadata": {},
   "source": [
    "Property IDs in Story County are organized in numeric groups.  \n",
    "See https://www.storycountyiowa.gov/DocumentCenter/View/6074/A-Guide-to-Geo-Numbering-in-Story-County?bidId=\n",
    "\n",
    "They are divided into regional groups by first number, followed by next two, \n",
    "followed by two groups of three.\n",
    "These IDs are the only location info that we have, and as realtors know, the primary \n",
    "factors in housing price are 1. Location, 2. Location, and 3. Location.\n",
    "The broader regional groups will be the most informative and the least likely \n",
    "to clutter our column space when we reach one-hot encoding, so we will use these categories only.\n",
    "\n"
   ]
  },
  {
   "cell_type": "code",
   "execution_count": 10,
   "id": "3c1b576a",
   "metadata": {},
   "outputs": [],
   "source": [
    "for df in [df_train,df_test]:\n",
    "    df['pid_1'] = df['pid'].astype('str').str[:1]\n",
    "    df['pid_2'] = df['pid'].astype('str').str[1:3]\n",
    "    df.drop(columns = 'pid',inplace=True)"
   ]
  },
  {
   "cell_type": "markdown",
   "id": "a0093ee5",
   "metadata": {},
   "source": [
    "##  MS Subclass"
   ]
  },
  {
   "cell_type": "markdown",
   "id": "61c019ef",
   "metadata": {},
   "source": [
    "This category is an amalgamation of housing style and year built, and its useful \n",
    "information is completely covered by these other categories.  Accordingly, we will\n",
    "drop this category and rely on the independent, more specific categories."
   ]
  },
  {
   "cell_type": "code",
   "execution_count": 11,
   "id": "9304d678",
   "metadata": {},
   "outputs": [],
   "source": [
    "df_train.drop(columns = 'ms_subclass',axis = 1, inplace = True)\n",
    "df_test.drop(columns = 'ms_subclass',axis = 1, inplace = True)"
   ]
  },
  {
   "cell_type": "markdown",
   "id": "c4d6441a",
   "metadata": {},
   "source": [
    "## MS Zoning"
   ]
  },
  {
   "cell_type": "code",
   "execution_count": 12,
   "id": "a141642b",
   "metadata": {},
   "outputs": [
    {
     "data": {
      "text/plain": [
       "RL         1598\n",
       "RM          316\n",
       "FV          101\n",
       "C (all)      19\n",
       "RH           14\n",
       "A (agr)       2\n",
       "I (all)       1\n",
       "Name: ms_zoning, dtype: int64"
      ]
     },
     "execution_count": 12,
     "metadata": {},
     "output_type": "execute_result"
    }
   ],
   "source": [
    "df_train['ms_zoning'].value_counts()"
   ]
  },
  {
   "cell_type": "code",
   "execution_count": 13,
   "id": "ac582dda",
   "metadata": {},
   "outputs": [
    {
     "data": {
      "text/html": [
       "<div>\n",
       "<style scoped>\n",
       "    .dataframe tbody tr th:only-of-type {\n",
       "        vertical-align: middle;\n",
       "    }\n",
       "\n",
       "    .dataframe tbody tr th {\n",
       "        vertical-align: top;\n",
       "    }\n",
       "\n",
       "    .dataframe thead th {\n",
       "        text-align: right;\n",
       "    }\n",
       "</style>\n",
       "<table border=\"1\" class=\"dataframe\">\n",
       "  <thead>\n",
       "    <tr style=\"text-align: right;\">\n",
       "      <th></th>\n",
       "      <th>count</th>\n",
       "      <th>mean</th>\n",
       "      <th>std</th>\n",
       "      <th>min</th>\n",
       "      <th>25%</th>\n",
       "      <th>50%</th>\n",
       "      <th>75%</th>\n",
       "      <th>max</th>\n",
       "    </tr>\n",
       "    <tr>\n",
       "      <th>ms_zoning</th>\n",
       "      <th></th>\n",
       "      <th></th>\n",
       "      <th></th>\n",
       "      <th></th>\n",
       "      <th></th>\n",
       "      <th></th>\n",
       "      <th></th>\n",
       "      <th></th>\n",
       "    </tr>\n",
       "  </thead>\n",
       "  <tbody>\n",
       "    <tr>\n",
       "      <th>A (agr)</th>\n",
       "      <td>2.0</td>\n",
       "      <td>47300.000000</td>\n",
       "      <td>48366.103833</td>\n",
       "      <td>13100.0</td>\n",
       "      <td>30200.0</td>\n",
       "      <td>47300.0</td>\n",
       "      <td>64400.0</td>\n",
       "      <td>81500.0</td>\n",
       "    </tr>\n",
       "    <tr>\n",
       "      <th>C (all)</th>\n",
       "      <td>19.0</td>\n",
       "      <td>78010.894737</td>\n",
       "      <td>32781.478897</td>\n",
       "      <td>34900.0</td>\n",
       "      <td>50913.5</td>\n",
       "      <td>75000.0</td>\n",
       "      <td>105388.0</td>\n",
       "      <td>140000.0</td>\n",
       "    </tr>\n",
       "    <tr>\n",
       "      <th>FV</th>\n",
       "      <td>101.0</td>\n",
       "      <td>218618.316832</td>\n",
       "      <td>53063.423791</td>\n",
       "      <td>144152.0</td>\n",
       "      <td>176500.0</td>\n",
       "      <td>208900.0</td>\n",
       "      <td>254900.0</td>\n",
       "      <td>370878.0</td>\n",
       "    </tr>\n",
       "    <tr>\n",
       "      <th>I (all)</th>\n",
       "      <td>1.0</td>\n",
       "      <td>57625.000000</td>\n",
       "      <td>NaN</td>\n",
       "      <td>57625.0</td>\n",
       "      <td>57625.0</td>\n",
       "      <td>57625.0</td>\n",
       "      <td>57625.0</td>\n",
       "      <td>57625.0</td>\n",
       "    </tr>\n",
       "    <tr>\n",
       "      <th>RH</th>\n",
       "      <td>14.0</td>\n",
       "      <td>148859.571429</td>\n",
       "      <td>35970.877401</td>\n",
       "      <td>82000.0</td>\n",
       "      <td>128500.0</td>\n",
       "      <td>152217.0</td>\n",
       "      <td>180000.0</td>\n",
       "      <td>200000.0</td>\n",
       "    </tr>\n",
       "    <tr>\n",
       "      <th>RL</th>\n",
       "      <td>1598.0</td>\n",
       "      <td>191235.164581</td>\n",
       "      <td>80380.790716</td>\n",
       "      <td>35000.0</td>\n",
       "      <td>137500.0</td>\n",
       "      <td>172500.0</td>\n",
       "      <td>222375.0</td>\n",
       "      <td>611657.0</td>\n",
       "    </tr>\n",
       "    <tr>\n",
       "      <th>RM</th>\n",
       "      <td>316.0</td>\n",
       "      <td>129119.142405</td>\n",
       "      <td>50776.911622</td>\n",
       "      <td>12789.0</td>\n",
       "      <td>103300.0</td>\n",
       "      <td>123900.0</td>\n",
       "      <td>141500.0</td>\n",
       "      <td>475000.0</td>\n",
       "    </tr>\n",
       "  </tbody>\n",
       "</table>\n",
       "</div>"
      ],
      "text/plain": [
       "            count           mean           std       min       25%       50%  \\\n",
       "ms_zoning                                                                      \n",
       "A (agr)       2.0   47300.000000  48366.103833   13100.0   30200.0   47300.0   \n",
       "C (all)      19.0   78010.894737  32781.478897   34900.0   50913.5   75000.0   \n",
       "FV          101.0  218618.316832  53063.423791  144152.0  176500.0  208900.0   \n",
       "I (all)       1.0   57625.000000           NaN   57625.0   57625.0   57625.0   \n",
       "RH           14.0  148859.571429  35970.877401   82000.0  128500.0  152217.0   \n",
       "RL         1598.0  191235.164581  80380.790716   35000.0  137500.0  172500.0   \n",
       "RM          316.0  129119.142405  50776.911622   12789.0  103300.0  123900.0   \n",
       "\n",
       "                75%       max  \n",
       "ms_zoning                      \n",
       "A (agr)     64400.0   81500.0  \n",
       "C (all)    105388.0  140000.0  \n",
       "FV         254900.0  370878.0  \n",
       "I (all)     57625.0   57625.0  \n",
       "RH         180000.0  200000.0  \n",
       "RL         222375.0  611657.0  \n",
       "RM         141500.0  475000.0  "
      ]
     },
     "execution_count": 13,
     "metadata": {},
     "output_type": "execute_result"
    }
   ],
   "source": [
    "df_train.groupby(['ms_zoning'])['saleprice'].describe()"
   ]
  },
  {
   "cell_type": "markdown",
   "id": "e9452023",
   "metadata": {},
   "source": [
    "Although these categories could probably be organized ordinally (especially\n",
    "low, medium, and high-density residential), they are sufficiently noisy \n",
    "that we will preserve them as non-ordinal categories and process through one-hot encoding."
   ]
  },
  {
   "cell_type": "markdown",
   "id": "f496f5bc",
   "metadata": {},
   "source": [
    "## Lot Frontage"
   ]
  },
  {
   "cell_type": "markdown",
   "id": "8216f1ce",
   "metadata": {},
   "source": [
    "This is our first category with null values.  Frontage should depend primarily\n",
    "on lot area and lot shape (houses with street on multiple sides should have\n",
    "proportionally more frontage, and the shape of cul-de-sacs generally results in \n",
    "less frontage, particularly at the terminal circle)."
   ]
  },
  {
   "cell_type": "code",
   "execution_count": 14,
   "id": "1a398de2-eb8e-4564-b8b6-3a7f0991aae2",
   "metadata": {
    "scrolled": true
   },
   "outputs": [
    {
     "data": {
      "text/plain": [
       "Inside     190\n",
       "Corner      67\n",
       "CulDSac     61\n",
       "FR2         11\n",
       "FR3          1\n",
       "Name: lot_config, dtype: int64"
      ]
     },
     "execution_count": 14,
     "metadata": {},
     "output_type": "execute_result"
    }
   ],
   "source": [
    "df_train.loc[df_train['lot_frontage'].isnull() == True,'lot_config'].value_counts()"
   ]
  },
  {
   "cell_type": "code",
   "execution_count": 15,
   "id": "1717e163",
   "metadata": {},
   "outputs": [
    {
     "data": {
      "image/png": "[encoded data removed]",
      "text/plain": [
       "<Figure size 640x480 with 1 Axes>"
      ]
     },
     "metadata": {},
     "output_type": "display_data"
    }
   ],
   "source": [
    "sns.scatterplot(data = df_train, \n",
    "                y = 'lot_frontage',\n",
    "                x = 'lot_area',\n",
    "                hue=df_train['lot_config'], s=10)\n",
    "plt.xlabel('Lot Area (Sq Ft)')\n",
    "plt.ylabel('Lot Frontage (Feet)')\n",
    "plt.title('Lot Frontage by Lot Area and Configuration')\n",
    "plt.legend(title = 'Lot Configuration');"
   ]
  },
  {
   "cell_type": "code",
   "execution_count": 16,
   "id": "fe66ebdc",
   "metadata": {},
   "outputs": [
    {
     "data": {
      "text/plain": [
       "lot_area      0\n",
       "lot_config    0\n",
       "dtype: int64"
      ]
     },
     "execution_count": 16,
     "metadata": {},
     "output_type": "execute_result"
    }
   ],
   "source": [
    "#  Thankfully, none of the values in lot area or lot configuration are null\n",
    "\n",
    "df_train[['lot_area','lot_config']].isnull().sum()"
   ]
  },
  {
   "cell_type": "code",
   "execution_count": 17,
   "id": "49383ab1",
   "metadata": {},
   "outputs": [],
   "source": [
    "#  Calculate ratio of frontage to lot area for each house\n",
    "\n",
    "df_train['fr_rate'] = df_train['lot_frontage']/df_train['lot_area']"
   ]
  },
  {
   "cell_type": "code",
   "execution_count": 18,
   "id": "5d1be7e4-3794-4c67-afe3-cf735e50f4ee",
   "metadata": {},
   "outputs": [
    {
     "data": {
      "image/png": "[encoded data removed]",
      "text/plain": [
       "<Figure size 600x1800 with 5 Axes>"
      ]
     },
     "metadata": {},
     "output_type": "display_data"
    }
   ],
   "source": [
    "#  Plot distribution of frontage rate (histogram and smoothed kde) by lot configuration\n",
    "\n",
    "fig, axs = plt.subplots(ncols = 1, \n",
    "                        nrows = 5,\n",
    "                        figsize=(6,18),\n",
    "                        sharex = True,\n",
    "                       sharey = False)\n",
    "\n",
    "sns.histplot(df_train[df_train['lot_config'] == 'CulDSac']['fr_rate'],\n",
    "             ax = axs[0],\n",
    "            bins = 10)\n",
    "\n",
    "sns.histplot(df_train[df_train['lot_config'] == 'CulDSac']['fr_rate'],\n",
    "             ax = axs[0],kde=True)\n",
    "\n",
    "\n",
    "sns.histplot(df_train[df_train['lot_config'] == 'Inside']['fr_rate'],\n",
    "             bins = 20, \n",
    "             ax = axs[1])\n",
    "\n",
    "sns.histplot(df_train[df_train['lot_config'] == 'Inside']['fr_rate'],\n",
    "             bins = 20,\n",
    "             ax = axs[1],kde=True)\n",
    "\n",
    "sns.histplot(df_train[df_train['lot_config'] == 'FR2']['fr_rate'],\n",
    "             bins = 10, \n",
    "             ax = axs[2])\n",
    "\n",
    "sns.histplot(df_train[df_train['lot_config'] == 'FR2']['fr_rate'],\n",
    "             bins = 10, ax = axs[2],kde=True)\n",
    "\n",
    "\n",
    "sns.histplot(df_train[df_train['lot_config'] == 'Corner']['fr_rate'],\n",
    "             bins = 30, \n",
    "             ax = axs[3])\n",
    "\n",
    "sns.histplot(df_train[df_train['lot_config'] == 'Corner']['fr_rate'],\n",
    "            kde=True, bins = 30,\n",
    "             ax = axs[3])\n",
    "\n",
    "\n",
    "sns.histplot(df_train[df_train['lot_config'] == 'FR3']['fr_rate'],\n",
    "             bins = 10, \n",
    "             ax = axs[4])\n",
    "\n",
    "sns.histplot(df_train[df_train['lot_config'] == 'FR3']['fr_rate'],\n",
    "            kde=True, bins = 10,\n",
    "             ax = axs[4])\n",
    "\n",
    "\n",
    "plt.suptitle('Distribution of Frontage by Lot Configurations')\n",
    "\n",
    "axs[0].set_title('Distribution of Frontage Rates - CulDSac')\n",
    "axs[1].set_title('Distribution of Frontage Rates - Inside Lot')\n",
    "axs[2].set_title('Distribution of Frontage Rates - Two Sides of Frontage')\n",
    "axs[3].set_title('Distirbution of Frontage Rates - Corner Lot')\n",
    "axs[4].set_title('Distribution of Frontage Rates - Three Sides of Frontage')\n",
    "\n",
    "axs[4].set_xlim(0,0.02)\n",
    "axs[4].set_xlabel('Frontage Rate (Ft Frontage/Sq Ft Lot Area)')\n",
    "\n",
    "axs[0].set_ylabel('Count')\n",
    "axs[1].set_ylabel('Count')\n",
    "axs[2].set_ylabel('Count')\n",
    "axs[3].set_ylabel('Count')\n",
    "axs[4].set_ylabel('Count');\n",
    "\n",
    "\n"
   ]
  },
  {
   "cell_type": "code",
   "execution_count": 19,
   "id": "fb4870a2",
   "metadata": {},
   "outputs": [],
   "source": [
    "#  Fill missing lot frontage with lot area * frontage rate for house's lot configuration\n",
    "\n",
    "df_train['lot_frontage'].fillna(df_train['lot_area'] * df_train.groupby('lot_config')['fr_rate'].transform('mean'),inplace=True)"
   ]
  },
  {
   "cell_type": "code",
   "execution_count": 20,
   "id": "1a2f59d4",
   "metadata": {},
   "outputs": [],
   "source": [
    "df_test['lot_frontage'].fillna(df_test['lot_area'] * df_train.groupby('lot_config')['fr_rate'].transform('mean'),inplace=True)"
   ]
  },
  {
   "cell_type": "code",
   "execution_count": null,
   "id": "c653de96",
   "metadata": {},
   "outputs": [],
   "source": []
  },
  {
   "cell_type": "code",
   "execution_count": 21,
   "id": "2c80469e",
   "metadata": {
    "scrolled": true
   },
   "outputs": [
    {
     "data": {
      "image/png": "[encoded data removed]",
      "text/plain": [
       "<Figure size 640x480 with 1 Axes>"
      ]
     },
     "metadata": {},
     "output_type": "display_data"
    }
   ],
   "source": [
    "plt.title('Distribution of Frontage after Imputation')\n",
    "plt.xlim(0,200)\n",
    "plt.xlabel('Frontage - Feet')\n",
    "sns.histplot(df_test['lot_frontage'],\n",
    "             bins=100);"
   ]
  },
  {
   "cell_type": "code",
   "execution_count": 22,
   "id": "8717f58e",
   "metadata": {},
   "outputs": [],
   "source": [
    "#  Frontage rate column is no longer useful, so we will drop it.\n",
    "\n",
    "df_train.drop(columns = 'fr_rate',inplace=True)"
   ]
  },
  {
   "cell_type": "markdown",
   "id": "821be311",
   "metadata": {},
   "source": [
    "## Lot Area"
   ]
  },
  {
   "cell_type": "code",
   "execution_count": 23,
   "id": "148b3fc1",
   "metadata": {},
   "outputs": [
    {
     "data": {
      "text/plain": [
       "count      2051.000000\n",
       "mean      10065.208191\n",
       "std        6742.488909\n",
       "min        1300.000000\n",
       "25%        7500.000000\n",
       "50%        9430.000000\n",
       "75%       11513.500000\n",
       "max      159000.000000\n",
       "Name: lot_area, dtype: float64"
      ]
     },
     "execution_count": 23,
     "metadata": {},
     "output_type": "execute_result"
    }
   ],
   "source": [
    "#  No nulls, all numeric.\n",
    "\n",
    "df_train['lot_area'].describe()"
   ]
  },
  {
   "cell_type": "markdown",
   "id": "c357df85",
   "metadata": {},
   "source": [
    "## Street"
   ]
  },
  {
   "cell_type": "code",
   "execution_count": 24,
   "id": "1e85aaeb",
   "metadata": {},
   "outputs": [
    {
     "data": {
      "text/plain": [
       "Pave    2044\n",
       "Grvl       7\n",
       "Name: street, dtype: int64"
      ]
     },
     "execution_count": 24,
     "metadata": {},
     "output_type": "execute_result"
    }
   ],
   "source": [
    "#  Categorical - one-hot encoding\n",
    "\n",
    "df_train['street'].value_counts()"
   ]
  },
  {
   "cell_type": "code",
   "execution_count": 25,
   "id": "13fe7d1b",
   "metadata": {},
   "outputs": [
    {
     "data": {
      "text/html": [
       "<div>\n",
       "<style scoped>\n",
       "    .dataframe tbody tr th:only-of-type {\n",
       "        vertical-align: middle;\n",
       "    }\n",
       "\n",
       "    .dataframe tbody tr th {\n",
       "        vertical-align: top;\n",
       "    }\n",
       "\n",
       "    .dataframe thead th {\n",
       "        text-align: right;\n",
       "    }\n",
       "</style>\n",
       "<table border=\"1\" class=\"dataframe\">\n",
       "  <thead>\n",
       "    <tr style=\"text-align: right;\">\n",
       "      <th></th>\n",
       "      <th>count</th>\n",
       "      <th>mean</th>\n",
       "      <th>std</th>\n",
       "      <th>min</th>\n",
       "      <th>25%</th>\n",
       "      <th>50%</th>\n",
       "      <th>75%</th>\n",
       "      <th>max</th>\n",
       "    </tr>\n",
       "    <tr>\n",
       "      <th>street</th>\n",
       "      <th></th>\n",
       "      <th></th>\n",
       "      <th></th>\n",
       "      <th></th>\n",
       "      <th></th>\n",
       "      <th></th>\n",
       "      <th></th>\n",
       "      <th></th>\n",
       "    </tr>\n",
       "  </thead>\n",
       "  <tbody>\n",
       "    <tr>\n",
       "      <th>Grvl</th>\n",
       "      <td>7.0</td>\n",
       "      <td>86901.428571</td>\n",
       "      <td>38339.739652</td>\n",
       "      <td>50138.0</td>\n",
       "      <td>56809.0</td>\n",
       "      <td>78000.0</td>\n",
       "      <td>106175.0</td>\n",
       "      <td>154204.0</td>\n",
       "    </tr>\n",
       "    <tr>\n",
       "      <th>Pave</th>\n",
       "      <td>2044.0</td>\n",
       "      <td>181793.565558</td>\n",
       "      <td>79173.195670</td>\n",
       "      <td>12789.0</td>\n",
       "      <td>129975.0</td>\n",
       "      <td>163000.0</td>\n",
       "      <td>214000.0</td>\n",
       "      <td>611657.0</td>\n",
       "    </tr>\n",
       "  </tbody>\n",
       "</table>\n",
       "</div>"
      ],
      "text/plain": [
       "         count           mean           std      min       25%       50%  \\\n",
       "street                                                                     \n",
       "Grvl       7.0   86901.428571  38339.739652  50138.0   56809.0   78000.0   \n",
       "Pave    2044.0  181793.565558  79173.195670  12789.0  129975.0  163000.0   \n",
       "\n",
       "             75%       max  \n",
       "street                      \n",
       "Grvl    106175.0  154204.0  \n",
       "Pave    214000.0  611657.0  "
      ]
     },
     "execution_count": 25,
     "metadata": {},
     "output_type": "execute_result"
    }
   ],
   "source": [
    "df_train.groupby(['street'])['saleprice'].describe()"
   ]
  },
  {
   "cell_type": "markdown",
   "id": "c68ff57d",
   "metadata": {},
   "source": [
    "## Alley"
   ]
  },
  {
   "cell_type": "code",
   "execution_count": 26,
   "id": "3c3b494e",
   "metadata": {},
   "outputs": [
    {
     "data": {
      "text/html": [
       "<div>\n",
       "<style scoped>\n",
       "    .dataframe tbody tr th:only-of-type {\n",
       "        vertical-align: middle;\n",
       "    }\n",
       "\n",
       "    .dataframe tbody tr th {\n",
       "        vertical-align: top;\n",
       "    }\n",
       "\n",
       "    .dataframe thead th {\n",
       "        text-align: right;\n",
       "    }\n",
       "</style>\n",
       "<table border=\"1\" class=\"dataframe\">\n",
       "  <thead>\n",
       "    <tr style=\"text-align: right;\">\n",
       "      <th></th>\n",
       "      <th>count</th>\n",
       "      <th>mean</th>\n",
       "      <th>std</th>\n",
       "      <th>min</th>\n",
       "      <th>25%</th>\n",
       "      <th>50%</th>\n",
       "      <th>75%</th>\n",
       "      <th>max</th>\n",
       "    </tr>\n",
       "    <tr>\n",
       "      <th>alley</th>\n",
       "      <th></th>\n",
       "      <th></th>\n",
       "      <th></th>\n",
       "      <th></th>\n",
       "      <th></th>\n",
       "      <th></th>\n",
       "      <th></th>\n",
       "      <th></th>\n",
       "    </tr>\n",
       "  </thead>\n",
       "  <tbody>\n",
       "    <tr>\n",
       "      <th>Grvl</th>\n",
       "      <td>85.0</td>\n",
       "      <td>120835.635294</td>\n",
       "      <td>35647.047030</td>\n",
       "      <td>35000.0</td>\n",
       "      <td>99900.0</td>\n",
       "      <td>118000.0</td>\n",
       "      <td>142900.0</td>\n",
       "      <td>256000.0</td>\n",
       "    </tr>\n",
       "    <tr>\n",
       "      <th>Pave</th>\n",
       "      <td>55.0</td>\n",
       "      <td>174534.709091</td>\n",
       "      <td>46295.412205</td>\n",
       "      <td>40000.0</td>\n",
       "      <td>152000.0</td>\n",
       "      <td>172500.0</td>\n",
       "      <td>193900.0</td>\n",
       "      <td>345000.0</td>\n",
       "    </tr>\n",
       "  </tbody>\n",
       "</table>\n",
       "</div>"
      ],
      "text/plain": [
       "       count           mean           std      min       25%       50%  \\\n",
       "alley                                                                    \n",
       "Grvl    85.0  120835.635294  35647.047030  35000.0   99900.0  118000.0   \n",
       "Pave    55.0  174534.709091  46295.412205  40000.0  152000.0  172500.0   \n",
       "\n",
       "            75%       max  \n",
       "alley                      \n",
       "Grvl   142900.0  256000.0  \n",
       "Pave   193900.0  345000.0  "
      ]
     },
     "execution_count": 26,
     "metadata": {},
     "output_type": "execute_result"
    }
   ],
   "source": [
    "df_train.groupby(['alley'])['saleprice'].describe()"
   ]
  },
  {
   "cell_type": "code",
   "execution_count": 27,
   "id": "43d437d6",
   "metadata": {},
   "outputs": [
    {
     "data": {
      "text/plain": [
       "0.931740614334471"
      ]
     },
     "execution_count": 27,
     "metadata": {},
     "output_type": "execute_result"
    }
   ],
   "source": [
    "df_train['alley'].isnull().mean()"
   ]
  },
  {
   "cell_type": "markdown",
   "id": "d73d9343",
   "metadata": {},
   "source": [
    "93 % of values are missing for this feature.  \n",
    "There is not enough background information to impute values. \n",
    "We will drop this column."
   ]
  },
  {
   "cell_type": "code",
   "execution_count": 28,
   "id": "b37817de",
   "metadata": {},
   "outputs": [],
   "source": [
    "df_train.drop(columns = 'alley', inplace=True)\n",
    "df_test.drop(columns = 'alley', inplace=True)"
   ]
  },
  {
   "cell_type": "markdown",
   "id": "7c243a80",
   "metadata": {},
   "source": [
    "## Lot Shape"
   ]
  },
  {
   "cell_type": "code",
   "execution_count": 29,
   "id": "c7948c51",
   "metadata": {},
   "outputs": [
    {
     "data": {
      "text/plain": [
       "Reg    1295\n",
       "IR1     692\n",
       "IR2      55\n",
       "IR3       9\n",
       "Name: lot_shape, dtype: int64"
      ]
     },
     "execution_count": 29,
     "metadata": {},
     "output_type": "execute_result"
    }
   ],
   "source": [
    "df_train['lot_shape'].value_counts()"
   ]
  },
  {
   "cell_type": "code",
   "execution_count": 30,
   "id": "7fc3486c",
   "metadata": {},
   "outputs": [
    {
     "data": {
      "text/html": [
       "<div>\n",
       "<style scoped>\n",
       "    .dataframe tbody tr th:only-of-type {\n",
       "        vertical-align: middle;\n",
       "    }\n",
       "\n",
       "    .dataframe tbody tr th {\n",
       "        vertical-align: top;\n",
       "    }\n",
       "\n",
       "    .dataframe thead th {\n",
       "        text-align: right;\n",
       "    }\n",
       "</style>\n",
       "<table border=\"1\" class=\"dataframe\">\n",
       "  <thead>\n",
       "    <tr style=\"text-align: right;\">\n",
       "      <th></th>\n",
       "      <th>count</th>\n",
       "      <th>mean</th>\n",
       "      <th>std</th>\n",
       "      <th>min</th>\n",
       "      <th>25%</th>\n",
       "      <th>50%</th>\n",
       "      <th>75%</th>\n",
       "      <th>max</th>\n",
       "    </tr>\n",
       "    <tr>\n",
       "      <th>lot_shape</th>\n",
       "      <th></th>\n",
       "      <th></th>\n",
       "      <th></th>\n",
       "      <th></th>\n",
       "      <th></th>\n",
       "      <th></th>\n",
       "      <th></th>\n",
       "      <th></th>\n",
       "    </tr>\n",
       "  </thead>\n",
       "  <tbody>\n",
       "    <tr>\n",
       "      <th>IR1</th>\n",
       "      <td>692.0</td>\n",
       "      <td>211848.670520</td>\n",
       "      <td>83359.764142</td>\n",
       "      <td>52000.0</td>\n",
       "      <td>157000.0</td>\n",
       "      <td>190000.0</td>\n",
       "      <td>250000.0</td>\n",
       "      <td>611657.0</td>\n",
       "    </tr>\n",
       "    <tr>\n",
       "      <th>IR2</th>\n",
       "      <td>55.0</td>\n",
       "      <td>233954.745455</td>\n",
       "      <td>89824.066055</td>\n",
       "      <td>109000.0</td>\n",
       "      <td>174000.0</td>\n",
       "      <td>217500.0</td>\n",
       "      <td>247700.0</td>\n",
       "      <td>538000.0</td>\n",
       "    </tr>\n",
       "    <tr>\n",
       "      <th>IR3</th>\n",
       "      <td>9.0</td>\n",
       "      <td>193182.222222</td>\n",
       "      <td>58500.737982</td>\n",
       "      <td>73000.0</td>\n",
       "      <td>163500.0</td>\n",
       "      <td>192140.0</td>\n",
       "      <td>220000.0</td>\n",
       "      <td>267000.0</td>\n",
       "    </tr>\n",
       "    <tr>\n",
       "      <th>Reg</th>\n",
       "      <td>1295.0</td>\n",
       "      <td>162925.812355</td>\n",
       "      <td>70198.139114</td>\n",
       "      <td>12789.0</td>\n",
       "      <td>120000.0</td>\n",
       "      <td>145000.0</td>\n",
       "      <td>185492.5</td>\n",
       "      <td>582933.0</td>\n",
       "    </tr>\n",
       "  </tbody>\n",
       "</table>\n",
       "</div>"
      ],
      "text/plain": [
       "            count           mean           std       min       25%       50%  \\\n",
       "lot_shape                                                                      \n",
       "IR1         692.0  211848.670520  83359.764142   52000.0  157000.0  190000.0   \n",
       "IR2          55.0  233954.745455  89824.066055  109000.0  174000.0  217500.0   \n",
       "IR3           9.0  193182.222222  58500.737982   73000.0  163500.0  192140.0   \n",
       "Reg        1295.0  162925.812355  70198.139114   12789.0  120000.0  145000.0   \n",
       "\n",
       "                75%       max  \n",
       "lot_shape                      \n",
       "IR1        250000.0  611657.0  \n",
       "IR2        247700.0  538000.0  \n",
       "IR3        220000.0  267000.0  \n",
       "Reg        185492.5  582933.0  "
      ]
     },
     "execution_count": 30,
     "metadata": {},
     "output_type": "execute_result"
    }
   ],
   "source": [
    "df_train.groupby(['lot_shape'])['saleprice'].describe()"
   ]
  },
  {
   "cell_type": "markdown",
   "id": "592ded74",
   "metadata": {},
   "source": [
    "Regularity/irregularity of lot shape is ordinal (at least conceptually, if not in terms of price).\n",
    "We will rank ordinally in terms of irregularity.\n",
    "<p>\n",
    "Note:  We could use Ordinal Encoder during preprocessing for ordinal categories.  However, our ordinal\n",
    "categories do not match in ranked subcategories, so there is little added efficiency or precision\n",
    "in using Ordinal Encoder in the pipeline.  It is equally efficient to process them here during EDA."
   ]
  },
  {
   "cell_type": "code",
   "execution_count": 31,
   "id": "db7254c5",
   "metadata": {},
   "outputs": [],
   "source": [
    "df_train['lot_shape'].replace({'Reg':0,'IR1':1,'IR2':2,'IR3':3},inplace=True)\n",
    "df_test['lot_shape'].replace({'Reg':0,'IR1':1,'IR2':2,'IR3':3},inplace=True)"
   ]
  },
  {
   "cell_type": "markdown",
   "id": "8d1a6c68",
   "metadata": {},
   "source": [
    "## Land Contour"
   ]
  },
  {
   "cell_type": "code",
   "execution_count": 32,
   "id": "68c179e7",
   "metadata": {},
   "outputs": [
    {
     "data": {
      "text/plain": [
       "Lvl    1843\n",
       "HLS      85\n",
       "Bnk      80\n",
       "Low      43\n",
       "Name: land_contour, dtype: int64"
      ]
     },
     "execution_count": 32,
     "metadata": {},
     "output_type": "execute_result"
    }
   ],
   "source": [
    "df_train['land_contour'].value_counts()"
   ]
  },
  {
   "cell_type": "code",
   "execution_count": 33,
   "id": "db1b1334",
   "metadata": {
    "scrolled": true
   },
   "outputs": [
    {
     "data": {
      "text/html": [
       "<div>\n",
       "<style scoped>\n",
       "    .dataframe tbody tr th:only-of-type {\n",
       "        vertical-align: middle;\n",
       "    }\n",
       "\n",
       "    .dataframe tbody tr th {\n",
       "        vertical-align: top;\n",
       "    }\n",
       "\n",
       "    .dataframe thead th {\n",
       "        text-align: right;\n",
       "    }\n",
       "</style>\n",
       "<table border=\"1\" class=\"dataframe\">\n",
       "  <thead>\n",
       "    <tr style=\"text-align: right;\">\n",
       "      <th></th>\n",
       "      <th>count</th>\n",
       "      <th>mean</th>\n",
       "      <th>std</th>\n",
       "      <th>min</th>\n",
       "      <th>25%</th>\n",
       "      <th>50%</th>\n",
       "      <th>75%</th>\n",
       "      <th>max</th>\n",
       "    </tr>\n",
       "    <tr>\n",
       "      <th>land_contour</th>\n",
       "      <th></th>\n",
       "      <th></th>\n",
       "      <th></th>\n",
       "      <th></th>\n",
       "      <th></th>\n",
       "      <th></th>\n",
       "      <th></th>\n",
       "      <th></th>\n",
       "    </tr>\n",
       "  </thead>\n",
       "  <tbody>\n",
       "    <tr>\n",
       "      <th>Bnk</th>\n",
       "      <td>80.0</td>\n",
       "      <td>142868.775000</td>\n",
       "      <td>49275.865018</td>\n",
       "      <td>52500.0</td>\n",
       "      <td>109625.0</td>\n",
       "      <td>137250.0</td>\n",
       "      <td>170000.0</td>\n",
       "      <td>315000.0</td>\n",
       "    </tr>\n",
       "    <tr>\n",
       "      <th>HLS</th>\n",
       "      <td>85.0</td>\n",
       "      <td>262353.376471</td>\n",
       "      <td>116726.453660</td>\n",
       "      <td>79275.0</td>\n",
       "      <td>173000.0</td>\n",
       "      <td>242000.0</td>\n",
       "      <td>355000.0</td>\n",
       "      <td>552000.0</td>\n",
       "    </tr>\n",
       "    <tr>\n",
       "      <th>Low</th>\n",
       "      <td>43.0</td>\n",
       "      <td>199313.116279</td>\n",
       "      <td>82609.276243</td>\n",
       "      <td>13100.0</td>\n",
       "      <td>143500.0</td>\n",
       "      <td>207000.0</td>\n",
       "      <td>270000.0</td>\n",
       "      <td>385000.0</td>\n",
       "    </tr>\n",
       "    <tr>\n",
       "      <th>Lvl</th>\n",
       "      <td>1843.0</td>\n",
       "      <td>178998.564840</td>\n",
       "      <td>75697.224509</td>\n",
       "      <td>12789.0</td>\n",
       "      <td>129500.0</td>\n",
       "      <td>161000.0</td>\n",
       "      <td>211000.0</td>\n",
       "      <td>611657.0</td>\n",
       "    </tr>\n",
       "  </tbody>\n",
       "</table>\n",
       "</div>"
      ],
      "text/plain": [
       "               count           mean            std      min       25%  \\\n",
       "land_contour                                                            \n",
       "Bnk             80.0  142868.775000   49275.865018  52500.0  109625.0   \n",
       "HLS             85.0  262353.376471  116726.453660  79275.0  173000.0   \n",
       "Low             43.0  199313.116279   82609.276243  13100.0  143500.0   \n",
       "Lvl           1843.0  178998.564840   75697.224509  12789.0  129500.0   \n",
       "\n",
       "                   50%       75%       max  \n",
       "land_contour                                \n",
       "Bnk           137250.0  170000.0  315000.0  \n",
       "HLS           242000.0  355000.0  552000.0  \n",
       "Low           207000.0  270000.0  385000.0  \n",
       "Lvl           161000.0  211000.0  611657.0  "
      ]
     },
     "execution_count": 33,
     "metadata": {},
     "output_type": "execute_result"
    }
   ],
   "source": [
    "df_train.groupby(['land_contour'])['saleprice'].describe()"
   ]
  },
  {
   "cell_type": "markdown",
   "id": "73ac246f",
   "metadata": {},
   "source": [
    "Slope is harder to evaluate ordinally (a depression is not necessarily more or \n",
    "less \"sloped\" than a hill.  This will be processed through one-hot encoding."
   ]
  },
  {
   "cell_type": "markdown",
   "id": "966dda85",
   "metadata": {},
   "source": [
    "## Utilities"
   ]
  },
  {
   "cell_type": "code",
   "execution_count": 34,
   "id": "c63fc768",
   "metadata": {},
   "outputs": [
    {
     "data": {
      "text/plain": [
       "AllPub    2049\n",
       "NoSeWa       1\n",
       "NoSewr       1\n",
       "Name: utilities, dtype: int64"
      ]
     },
     "execution_count": 34,
     "metadata": {},
     "output_type": "execute_result"
    }
   ],
   "source": [
    "df_train['utilities'].value_counts()"
   ]
  },
  {
   "cell_type": "code",
   "execution_count": 35,
   "id": "2554fc77",
   "metadata": {},
   "outputs": [
    {
     "data": {
      "text/html": [
       "<div>\n",
       "<style scoped>\n",
       "    .dataframe tbody tr th:only-of-type {\n",
       "        vertical-align: middle;\n",
       "    }\n",
       "\n",
       "    .dataframe tbody tr th {\n",
       "        vertical-align: top;\n",
       "    }\n",
       "\n",
       "    .dataframe thead th {\n",
       "        text-align: right;\n",
       "    }\n",
       "</style>\n",
       "<table border=\"1\" class=\"dataframe\">\n",
       "  <thead>\n",
       "    <tr style=\"text-align: right;\">\n",
       "      <th></th>\n",
       "      <th>count</th>\n",
       "      <th>mean</th>\n",
       "      <th>std</th>\n",
       "      <th>min</th>\n",
       "      <th>25%</th>\n",
       "      <th>50%</th>\n",
       "      <th>75%</th>\n",
       "      <th>max</th>\n",
       "    </tr>\n",
       "    <tr>\n",
       "      <th>utilities</th>\n",
       "      <th></th>\n",
       "      <th></th>\n",
       "      <th></th>\n",
       "      <th></th>\n",
       "      <th></th>\n",
       "      <th></th>\n",
       "      <th></th>\n",
       "      <th></th>\n",
       "    </tr>\n",
       "  </thead>\n",
       "  <tbody>\n",
       "    <tr>\n",
       "      <th>AllPub</th>\n",
       "      <td>2049.0</td>\n",
       "      <td>181551.602245</td>\n",
       "      <td>79244.116778</td>\n",
       "      <td>12789.0</td>\n",
       "      <td>129850.0</td>\n",
       "      <td>162500.0</td>\n",
       "      <td>214000.0</td>\n",
       "      <td>611657.0</td>\n",
       "    </tr>\n",
       "    <tr>\n",
       "      <th>NoSeWa</th>\n",
       "      <td>1.0</td>\n",
       "      <td>137500.000000</td>\n",
       "      <td>NaN</td>\n",
       "      <td>137500.0</td>\n",
       "      <td>137500.0</td>\n",
       "      <td>137500.0</td>\n",
       "      <td>137500.0</td>\n",
       "      <td>137500.0</td>\n",
       "    </tr>\n",
       "    <tr>\n",
       "      <th>NoSewr</th>\n",
       "      <td>1.0</td>\n",
       "      <td>57625.000000</td>\n",
       "      <td>NaN</td>\n",
       "      <td>57625.0</td>\n",
       "      <td>57625.0</td>\n",
       "      <td>57625.0</td>\n",
       "      <td>57625.0</td>\n",
       "      <td>57625.0</td>\n",
       "    </tr>\n",
       "  </tbody>\n",
       "</table>\n",
       "</div>"
      ],
      "text/plain": [
       "            count           mean           std       min       25%       50%  \\\n",
       "utilities                                                                      \n",
       "AllPub     2049.0  181551.602245  79244.116778   12789.0  129850.0  162500.0   \n",
       "NoSeWa        1.0  137500.000000           NaN  137500.0  137500.0  137500.0   \n",
       "NoSewr        1.0   57625.000000           NaN   57625.0   57625.0   57625.0   \n",
       "\n",
       "                75%       max  \n",
       "utilities                      \n",
       "AllPub     214000.0  611657.0  \n",
       "NoSeWa     137500.0  137500.0  \n",
       "NoSewr      57625.0   57625.0  "
      ]
     },
     "execution_count": 35,
     "metadata": {},
     "output_type": "execute_result"
    }
   ],
   "source": [
    "df_train.groupby(['utilities'])['saleprice'].describe()"
   ]
  },
  {
   "cell_type": "markdown",
   "id": "50146ed4",
   "metadata": {},
   "source": [
    "There are only two houses with substandard utilities.  However, their utilities\n",
    "may be a significant factor in their low prices.  We will preserve the value\n",
    "through one-hot encoding."
   ]
  },
  {
   "cell_type": "markdown",
   "id": "2d792609",
   "metadata": {},
   "source": [
    "## Lot Config"
   ]
  },
  {
   "cell_type": "code",
   "execution_count": 36,
   "id": "220d2d07",
   "metadata": {},
   "outputs": [
    {
     "data": {
      "text/plain": [
       "Inside     1503\n",
       "Corner      348\n",
       "CulDSac     131\n",
       "FR2          60\n",
       "FR3           9\n",
       "Name: lot_config, dtype: int64"
      ]
     },
     "execution_count": 36,
     "metadata": {},
     "output_type": "execute_result"
    }
   ],
   "source": [
    "df_train['lot_config'].value_counts()"
   ]
  },
  {
   "cell_type": "code",
   "execution_count": 37,
   "id": "91f43a6d",
   "metadata": {},
   "outputs": [
    {
     "data": {
      "text/html": [
       "<div>\n",
       "<style scoped>\n",
       "    .dataframe tbody tr th:only-of-type {\n",
       "        vertical-align: middle;\n",
       "    }\n",
       "\n",
       "    .dataframe tbody tr th {\n",
       "        vertical-align: top;\n",
       "    }\n",
       "\n",
       "    .dataframe thead th {\n",
       "        text-align: right;\n",
       "    }\n",
       "</style>\n",
       "<table border=\"1\" class=\"dataframe\">\n",
       "  <thead>\n",
       "    <tr style=\"text-align: right;\">\n",
       "      <th></th>\n",
       "      <th>count</th>\n",
       "      <th>mean</th>\n",
       "      <th>std</th>\n",
       "      <th>min</th>\n",
       "      <th>25%</th>\n",
       "      <th>50%</th>\n",
       "      <th>75%</th>\n",
       "      <th>max</th>\n",
       "    </tr>\n",
       "    <tr>\n",
       "      <th>lot_config</th>\n",
       "      <th></th>\n",
       "      <th></th>\n",
       "      <th></th>\n",
       "      <th></th>\n",
       "      <th></th>\n",
       "      <th></th>\n",
       "      <th></th>\n",
       "      <th></th>\n",
       "    </tr>\n",
       "  </thead>\n",
       "  <tbody>\n",
       "    <tr>\n",
       "      <th>Corner</th>\n",
       "      <td>348.0</td>\n",
       "      <td>180629.591954</td>\n",
       "      <td>74223.005036</td>\n",
       "      <td>44000.0</td>\n",
       "      <td>132000.0</td>\n",
       "      <td>161000.0</td>\n",
       "      <td>218209.0</td>\n",
       "      <td>468000.0</td>\n",
       "    </tr>\n",
       "    <tr>\n",
       "      <th>CulDSac</th>\n",
       "      <td>131.0</td>\n",
       "      <td>230744.358779</td>\n",
       "      <td>98419.411679</td>\n",
       "      <td>80000.0</td>\n",
       "      <td>158000.0</td>\n",
       "      <td>215000.0</td>\n",
       "      <td>269000.0</td>\n",
       "      <td>591587.0</td>\n",
       "    </tr>\n",
       "    <tr>\n",
       "      <th>FR2</th>\n",
       "      <td>60.0</td>\n",
       "      <td>174703.600000</td>\n",
       "      <td>60125.817532</td>\n",
       "      <td>81000.0</td>\n",
       "      <td>132500.0</td>\n",
       "      <td>162250.0</td>\n",
       "      <td>195750.0</td>\n",
       "      <td>394617.0</td>\n",
       "    </tr>\n",
       "    <tr>\n",
       "      <th>FR3</th>\n",
       "      <td>9.0</td>\n",
       "      <td>198600.000000</td>\n",
       "      <td>91734.412845</td>\n",
       "      <td>79000.0</td>\n",
       "      <td>119900.0</td>\n",
       "      <td>207000.0</td>\n",
       "      <td>296000.0</td>\n",
       "      <td>315000.0</td>\n",
       "    </tr>\n",
       "    <tr>\n",
       "      <th>Inside</th>\n",
       "      <td>1503.0</td>\n",
       "      <td>177537.014637</td>\n",
       "      <td>77749.368500</td>\n",
       "      <td>12789.0</td>\n",
       "      <td>128000.0</td>\n",
       "      <td>159000.0</td>\n",
       "      <td>206740.0</td>\n",
       "      <td>611657.0</td>\n",
       "    </tr>\n",
       "  </tbody>\n",
       "</table>\n",
       "</div>"
      ],
      "text/plain": [
       "             count           mean           std      min       25%       50%  \\\n",
       "lot_config                                                                     \n",
       "Corner       348.0  180629.591954  74223.005036  44000.0  132000.0  161000.0   \n",
       "CulDSac      131.0  230744.358779  98419.411679  80000.0  158000.0  215000.0   \n",
       "FR2           60.0  174703.600000  60125.817532  81000.0  132500.0  162250.0   \n",
       "FR3            9.0  198600.000000  91734.412845  79000.0  119900.0  207000.0   \n",
       "Inside      1503.0  177537.014637  77749.368500  12789.0  128000.0  159000.0   \n",
       "\n",
       "                 75%       max  \n",
       "lot_config                      \n",
       "Corner      218209.0  468000.0  \n",
       "CulDSac     269000.0  591587.0  \n",
       "FR2         195750.0  394617.0  \n",
       "FR3         296000.0  315000.0  \n",
       "Inside      206740.0  611657.0  "
      ]
     },
     "execution_count": 37,
     "metadata": {},
     "output_type": "execute_result"
    }
   ],
   "source": [
    "df_train.groupby(['lot_config'])['saleprice'].describe()"
   ]
  },
  {
   "cell_type": "markdown",
   "id": "eb3bc076",
   "metadata": {},
   "source": [
    "Although an argument could be made for treating this as ordinal, we should preserve \n",
    "the feature as non-ordinal given the fact that we have already used the feature to impute another "
   ]
  },
  {
   "cell_type": "markdown",
   "id": "5202720d",
   "metadata": {},
   "source": [
    "## Land Slope"
   ]
  },
  {
   "cell_type": "code",
   "execution_count": 38,
   "id": "fbe818cf",
   "metadata": {
    "scrolled": true
   },
   "outputs": [
    {
     "data": {
      "text/plain": [
       "Gtl    1953\n",
       "Mod      88\n",
       "Sev      10\n",
       "Name: land_slope, dtype: int64"
      ]
     },
     "execution_count": 38,
     "metadata": {},
     "output_type": "execute_result"
    }
   ],
   "source": [
    "df_train['land_slope'].value_counts()"
   ]
  },
  {
   "cell_type": "code",
   "execution_count": 39,
   "id": "4303f1b2",
   "metadata": {},
   "outputs": [
    {
     "data": {
      "text/html": [
       "<div>\n",
       "<style scoped>\n",
       "    .dataframe tbody tr th:only-of-type {\n",
       "        vertical-align: middle;\n",
       "    }\n",
       "\n",
       "    .dataframe tbody tr th {\n",
       "        vertical-align: top;\n",
       "    }\n",
       "\n",
       "    .dataframe thead th {\n",
       "        text-align: right;\n",
       "    }\n",
       "</style>\n",
       "<table border=\"1\" class=\"dataframe\">\n",
       "  <thead>\n",
       "    <tr style=\"text-align: right;\">\n",
       "      <th></th>\n",
       "      <th>count</th>\n",
       "      <th>mean</th>\n",
       "      <th>std</th>\n",
       "      <th>min</th>\n",
       "      <th>25%</th>\n",
       "      <th>50%</th>\n",
       "      <th>75%</th>\n",
       "      <th>max</th>\n",
       "    </tr>\n",
       "    <tr>\n",
       "      <th>land_slope</th>\n",
       "      <th></th>\n",
       "      <th></th>\n",
       "      <th></th>\n",
       "      <th></th>\n",
       "      <th></th>\n",
       "      <th></th>\n",
       "      <th></th>\n",
       "      <th></th>\n",
       "    </tr>\n",
       "  </thead>\n",
       "  <tbody>\n",
       "    <tr>\n",
       "      <th>Gtl</th>\n",
       "      <td>1953.0</td>\n",
       "      <td>180358.476703</td>\n",
       "      <td>77897.279103</td>\n",
       "      <td>12789.0</td>\n",
       "      <td>129500.0</td>\n",
       "      <td>161000.0</td>\n",
       "      <td>212900.0</td>\n",
       "      <td>611657.0</td>\n",
       "    </tr>\n",
       "    <tr>\n",
       "      <th>Mod</th>\n",
       "      <td>88.0</td>\n",
       "      <td>204639.465909</td>\n",
       "      <td>102651.673838</td>\n",
       "      <td>13100.0</td>\n",
       "      <td>135125.0</td>\n",
       "      <td>188250.0</td>\n",
       "      <td>257682.0</td>\n",
       "      <td>552000.0</td>\n",
       "    </tr>\n",
       "    <tr>\n",
       "      <th>Sev</th>\n",
       "      <td>10.0</td>\n",
       "      <td>194598.000000</td>\n",
       "      <td>85068.824659</td>\n",
       "      <td>61000.0</td>\n",
       "      <td>131250.0</td>\n",
       "      <td>200750.0</td>\n",
       "      <td>270750.0</td>\n",
       "      <td>302000.0</td>\n",
       "    </tr>\n",
       "  </tbody>\n",
       "</table>\n",
       "</div>"
      ],
      "text/plain": [
       "             count           mean            std      min       25%       50%  \\\n",
       "land_slope                                                                      \n",
       "Gtl         1953.0  180358.476703   77897.279103  12789.0  129500.0  161000.0   \n",
       "Mod           88.0  204639.465909  102651.673838  13100.0  135125.0  188250.0   \n",
       "Sev           10.0  194598.000000   85068.824659  61000.0  131250.0  200750.0   \n",
       "\n",
       "                 75%       max  \n",
       "land_slope                      \n",
       "Gtl         212900.0  611657.0  \n",
       "Mod         257682.0  552000.0  \n",
       "Sev         270750.0  302000.0  "
      ]
     },
     "execution_count": 39,
     "metadata": {},
     "output_type": "execute_result"
    }
   ],
   "source": [
    "df_train.groupby(['land_slope'])['saleprice'].describe()"
   ]
  },
  {
   "cell_type": "markdown",
   "id": "c008d207",
   "metadata": {},
   "source": [
    "This feature explicitly tells us the rate of slope.  We will treat it as ordinal."
   ]
  },
  {
   "cell_type": "code",
   "execution_count": 40,
   "id": "3064d0f7",
   "metadata": {},
   "outputs": [],
   "source": [
    "df_train['land_slope'].replace({'Gtl':0,'Mod':1,'Sev':2},inplace=True)\n",
    "df_test['land_slope'].replace({'Gtl':0,'Mod':1,'Sev':2},inplace=True)"
   ]
  },
  {
   "cell_type": "markdown",
   "id": "0db36444",
   "metadata": {},
   "source": [
    "## Neighborhood"
   ]
  },
  {
   "cell_type": "code",
   "execution_count": 41,
   "id": "c0649c77",
   "metadata": {},
   "outputs": [
    {
     "data": {
      "text/plain": [
       "NAmes      133\n",
       "CollgCr     87\n",
       "OldTown     76\n",
       "Somerst     52\n",
       "Edwards     50\n",
       "Gilbert     49\n",
       "NridgHt     44\n",
       "NWAmes      44\n",
       "Sawyer      40\n",
       "SawyerW     38\n",
       "Mitchel     32\n",
       "Crawfor     32\n",
       "BrkSide     32\n",
       "Timber      24\n",
       "IDOTRR      24\n",
       "NoRidge     23\n",
       "ClearCr     17\n",
       "SWISU       16\n",
       "MeadowV     13\n",
       "StoneBr     13\n",
       "BrDale      11\n",
       "Veenker      7\n",
       "Blmngtn      6\n",
       "NPkVill      6\n",
       "Greens       5\n",
       "Blueste      4\n",
       "Name: neighborhood, dtype: int64"
      ]
     },
     "execution_count": 41,
     "metadata": {},
     "output_type": "execute_result"
    }
   ],
   "source": [
    "df['neighborhood'].value_counts()"
   ]
  },
  {
   "cell_type": "markdown",
   "id": "da2aa0ed",
   "metadata": {},
   "source": [
    "Neighborhood is categorical.  Evaluate through one-hot encoding."
   ]
  },
  {
   "cell_type": "markdown",
   "id": "c8cef0dd",
   "metadata": {},
   "source": [
    "## Proximity to \"Conditions\""
   ]
  },
  {
   "cell_type": "code",
   "execution_count": 42,
   "id": "9a80deb6",
   "metadata": {},
   "outputs": [
    {
     "data": {
      "text/html": [
       "<div>\n",
       "<style scoped>\n",
       "    .dataframe tbody tr th:only-of-type {\n",
       "        vertical-align: middle;\n",
       "    }\n",
       "\n",
       "    .dataframe tbody tr th {\n",
       "        vertical-align: top;\n",
       "    }\n",
       "\n",
       "    .dataframe thead th {\n",
       "        text-align: right;\n",
       "    }\n",
       "</style>\n",
       "<table border=\"1\" class=\"dataframe\">\n",
       "  <thead>\n",
       "    <tr style=\"text-align: right;\">\n",
       "      <th></th>\n",
       "      <th>count</th>\n",
       "      <th>mean</th>\n",
       "      <th>std</th>\n",
       "      <th>min</th>\n",
       "      <th>25%</th>\n",
       "      <th>50%</th>\n",
       "      <th>75%</th>\n",
       "      <th>max</th>\n",
       "    </tr>\n",
       "    <tr>\n",
       "      <th>condition_1</th>\n",
       "      <th></th>\n",
       "      <th></th>\n",
       "      <th></th>\n",
       "      <th></th>\n",
       "      <th></th>\n",
       "      <th></th>\n",
       "      <th></th>\n",
       "      <th></th>\n",
       "    </tr>\n",
       "  </thead>\n",
       "  <tbody>\n",
       "    <tr>\n",
       "      <th>Artery</th>\n",
       "      <td>70.0</td>\n",
       "      <td>128765.000000</td>\n",
       "      <td>58285.726961</td>\n",
       "      <td>50000.0</td>\n",
       "      <td>103150.0</td>\n",
       "      <td>118950.0</td>\n",
       "      <td>140750.0</td>\n",
       "      <td>475000.0</td>\n",
       "    </tr>\n",
       "    <tr>\n",
       "      <th>Feedr</th>\n",
       "      <td>109.0</td>\n",
       "      <td>143223.605505</td>\n",
       "      <td>45259.511847</td>\n",
       "      <td>35000.0</td>\n",
       "      <td>119600.0</td>\n",
       "      <td>140000.0</td>\n",
       "      <td>160000.0</td>\n",
       "      <td>269500.0</td>\n",
       "    </tr>\n",
       "    <tr>\n",
       "      <th>Norm</th>\n",
       "      <td>1767.0</td>\n",
       "      <td>185007.310130</td>\n",
       "      <td>79593.264680</td>\n",
       "      <td>12789.0</td>\n",
       "      <td>131125.0</td>\n",
       "      <td>167000.0</td>\n",
       "      <td>218000.0</td>\n",
       "      <td>611657.0</td>\n",
       "    </tr>\n",
       "    <tr>\n",
       "      <th>PosA</th>\n",
       "      <td>12.0</td>\n",
       "      <td>254733.333333</td>\n",
       "      <td>91755.092337</td>\n",
       "      <td>185000.0</td>\n",
       "      <td>188425.0</td>\n",
       "      <td>216000.0</td>\n",
       "      <td>276425.0</td>\n",
       "      <td>455000.0</td>\n",
       "    </tr>\n",
       "    <tr>\n",
       "      <th>PosN</th>\n",
       "      <td>27.0</td>\n",
       "      <td>254794.296296</td>\n",
       "      <td>117428.552257</td>\n",
       "      <td>109500.0</td>\n",
       "      <td>172000.0</td>\n",
       "      <td>214500.0</td>\n",
       "      <td>295500.0</td>\n",
       "      <td>591587.0</td>\n",
       "    </tr>\n",
       "    <tr>\n",
       "      <th>RRAe</th>\n",
       "      <td>21.0</td>\n",
       "      <td>139685.714286</td>\n",
       "      <td>21115.617105</td>\n",
       "      <td>87000.0</td>\n",
       "      <td>129000.0</td>\n",
       "      <td>142500.0</td>\n",
       "      <td>150000.0</td>\n",
       "      <td>184000.0</td>\n",
       "    </tr>\n",
       "    <tr>\n",
       "      <th>RRAn</th>\n",
       "      <td>36.0</td>\n",
       "      <td>172604.777778</td>\n",
       "      <td>55498.209382</td>\n",
       "      <td>79500.0</td>\n",
       "      <td>140150.0</td>\n",
       "      <td>167250.0</td>\n",
       "      <td>187460.0</td>\n",
       "      <td>336820.0</td>\n",
       "    </tr>\n",
       "    <tr>\n",
       "      <th>RRNe</th>\n",
       "      <td>3.0</td>\n",
       "      <td>129616.666667</td>\n",
       "      <td>37705.315717</td>\n",
       "      <td>93850.0</td>\n",
       "      <td>109925.0</td>\n",
       "      <td>126000.0</td>\n",
       "      <td>147500.0</td>\n",
       "      <td>169000.0</td>\n",
       "    </tr>\n",
       "    <tr>\n",
       "      <th>RRNn</th>\n",
       "      <td>6.0</td>\n",
       "      <td>198208.333333</td>\n",
       "      <td>76223.096347</td>\n",
       "      <td>128000.0</td>\n",
       "      <td>134687.5</td>\n",
       "      <td>184000.0</td>\n",
       "      <td>237250.0</td>\n",
       "      <td>320000.0</td>\n",
       "    </tr>\n",
       "  </tbody>\n",
       "</table>\n",
       "</div>"
      ],
      "text/plain": [
       "              count           mean            std       min       25%  \\\n",
       "condition_1                                                             \n",
       "Artery         70.0  128765.000000   58285.726961   50000.0  103150.0   \n",
       "Feedr         109.0  143223.605505   45259.511847   35000.0  119600.0   \n",
       "Norm         1767.0  185007.310130   79593.264680   12789.0  131125.0   \n",
       "PosA           12.0  254733.333333   91755.092337  185000.0  188425.0   \n",
       "PosN           27.0  254794.296296  117428.552257  109500.0  172000.0   \n",
       "RRAe           21.0  139685.714286   21115.617105   87000.0  129000.0   \n",
       "RRAn           36.0  172604.777778   55498.209382   79500.0  140150.0   \n",
       "RRNe            3.0  129616.666667   37705.315717   93850.0  109925.0   \n",
       "RRNn            6.0  198208.333333   76223.096347  128000.0  134687.5   \n",
       "\n",
       "                  50%       75%       max  \n",
       "condition_1                                \n",
       "Artery       118950.0  140750.0  475000.0  \n",
       "Feedr        140000.0  160000.0  269500.0  \n",
       "Norm         167000.0  218000.0  611657.0  \n",
       "PosA         216000.0  276425.0  455000.0  \n",
       "PosN         214500.0  295500.0  591587.0  \n",
       "RRAe         142500.0  150000.0  184000.0  \n",
       "RRAn         167250.0  187460.0  336820.0  \n",
       "RRNe         126000.0  147500.0  169000.0  \n",
       "RRNn         184000.0  237250.0  320000.0  "
      ]
     },
     "execution_count": 42,
     "metadata": {},
     "output_type": "execute_result"
    }
   ],
   "source": [
    "df_train.groupby(['condition_1'])['saleprice'].describe()"
   ]
  },
  {
   "cell_type": "code",
   "execution_count": 43,
   "id": "65a67075",
   "metadata": {},
   "outputs": [
    {
     "data": {
      "text/html": [
       "<div>\n",
       "<style scoped>\n",
       "    .dataframe tbody tr th:only-of-type {\n",
       "        vertical-align: middle;\n",
       "    }\n",
       "\n",
       "    .dataframe tbody tr th {\n",
       "        vertical-align: top;\n",
       "    }\n",
       "\n",
       "    .dataframe thead th {\n",
       "        text-align: right;\n",
       "    }\n",
       "</style>\n",
       "<table border=\"1\" class=\"dataframe\">\n",
       "  <thead>\n",
       "    <tr style=\"text-align: right;\">\n",
       "      <th></th>\n",
       "      <th>count</th>\n",
       "      <th>mean</th>\n",
       "      <th>std</th>\n",
       "      <th>min</th>\n",
       "      <th>25%</th>\n",
       "      <th>50%</th>\n",
       "      <th>75%</th>\n",
       "      <th>max</th>\n",
       "    </tr>\n",
       "    <tr>\n",
       "      <th>condition_2</th>\n",
       "      <th></th>\n",
       "      <th></th>\n",
       "      <th></th>\n",
       "      <th></th>\n",
       "      <th></th>\n",
       "      <th></th>\n",
       "      <th></th>\n",
       "      <th></th>\n",
       "    </tr>\n",
       "  </thead>\n",
       "  <tbody>\n",
       "    <tr>\n",
       "      <th>Artery</th>\n",
       "      <td>5.0</td>\n",
       "      <td>119050.000000</td>\n",
       "      <td>19445.757892</td>\n",
       "      <td>95000.0</td>\n",
       "      <td>108000.0</td>\n",
       "      <td>118000.0</td>\n",
       "      <td>128250.0</td>\n",
       "      <td>146000.0</td>\n",
       "    </tr>\n",
       "    <tr>\n",
       "      <th>Feedr</th>\n",
       "      <td>11.0</td>\n",
       "      <td>129181.818182</td>\n",
       "      <td>40785.581231</td>\n",
       "      <td>79500.0</td>\n",
       "      <td>99500.0</td>\n",
       "      <td>128000.0</td>\n",
       "      <td>143250.0</td>\n",
       "      <td>220000.0</td>\n",
       "    </tr>\n",
       "    <tr>\n",
       "      <th>Norm</th>\n",
       "      <td>2025.0</td>\n",
       "      <td>181382.075556</td>\n",
       "      <td>78604.763227</td>\n",
       "      <td>12789.0</td>\n",
       "      <td>130000.0</td>\n",
       "      <td>163000.0</td>\n",
       "      <td>214000.0</td>\n",
       "      <td>611657.0</td>\n",
       "    </tr>\n",
       "    <tr>\n",
       "      <th>PosA</th>\n",
       "      <td>3.0</td>\n",
       "      <td>390666.666667</td>\n",
       "      <td>65010.255601</td>\n",
       "      <td>325000.0</td>\n",
       "      <td>358500.0</td>\n",
       "      <td>392000.0</td>\n",
       "      <td>423500.0</td>\n",
       "      <td>455000.0</td>\n",
       "    </tr>\n",
       "    <tr>\n",
       "      <th>PosN</th>\n",
       "      <td>3.0</td>\n",
       "      <td>395666.666667</td>\n",
       "      <td>67633.817971</td>\n",
       "      <td>334000.0</td>\n",
       "      <td>359500.0</td>\n",
       "      <td>385000.0</td>\n",
       "      <td>426500.0</td>\n",
       "      <td>468000.0</td>\n",
       "    </tr>\n",
       "    <tr>\n",
       "      <th>RRAe</th>\n",
       "      <td>1.0</td>\n",
       "      <td>190000.000000</td>\n",
       "      <td>NaN</td>\n",
       "      <td>190000.0</td>\n",
       "      <td>190000.0</td>\n",
       "      <td>190000.0</td>\n",
       "      <td>190000.0</td>\n",
       "      <td>190000.0</td>\n",
       "    </tr>\n",
       "    <tr>\n",
       "      <th>RRAn</th>\n",
       "      <td>1.0</td>\n",
       "      <td>136905.000000</td>\n",
       "      <td>NaN</td>\n",
       "      <td>136905.0</td>\n",
       "      <td>136905.0</td>\n",
       "      <td>136905.0</td>\n",
       "      <td>136905.0</td>\n",
       "      <td>136905.0</td>\n",
       "    </tr>\n",
       "    <tr>\n",
       "      <th>RRNn</th>\n",
       "      <td>2.0</td>\n",
       "      <td>96750.000000</td>\n",
       "      <td>39951.533137</td>\n",
       "      <td>68500.0</td>\n",
       "      <td>82625.0</td>\n",
       "      <td>96750.0</td>\n",
       "      <td>110875.0</td>\n",
       "      <td>125000.0</td>\n",
       "    </tr>\n",
       "  </tbody>\n",
       "</table>\n",
       "</div>"
      ],
      "text/plain": [
       "              count           mean           std       min       25%  \\\n",
       "condition_2                                                            \n",
       "Artery          5.0  119050.000000  19445.757892   95000.0  108000.0   \n",
       "Feedr          11.0  129181.818182  40785.581231   79500.0   99500.0   \n",
       "Norm         2025.0  181382.075556  78604.763227   12789.0  130000.0   \n",
       "PosA            3.0  390666.666667  65010.255601  325000.0  358500.0   \n",
       "PosN            3.0  395666.666667  67633.817971  334000.0  359500.0   \n",
       "RRAe            1.0  190000.000000           NaN  190000.0  190000.0   \n",
       "RRAn            1.0  136905.000000           NaN  136905.0  136905.0   \n",
       "RRNn            2.0   96750.000000  39951.533137   68500.0   82625.0   \n",
       "\n",
       "                  50%       75%       max  \n",
       "condition_2                                \n",
       "Artery       118000.0  128250.0  146000.0  \n",
       "Feedr        128000.0  143250.0  220000.0  \n",
       "Norm         163000.0  214000.0  611657.0  \n",
       "PosA         392000.0  423500.0  455000.0  \n",
       "PosN         385000.0  426500.0  468000.0  \n",
       "RRAe         190000.0  190000.0  190000.0  \n",
       "RRAn         136905.0  136905.0  136905.0  \n",
       "RRNn          96750.0  110875.0  125000.0  "
      ]
     },
     "execution_count": 43,
     "metadata": {},
     "output_type": "execute_result"
    }
   ],
   "source": [
    "df_train.groupby(['condition_2'])['saleprice'].describe()"
   ]
  },
  {
   "cell_type": "code",
   "execution_count": 44,
   "id": "d9eb4516",
   "metadata": {
    "scrolled": true
   },
   "outputs": [
    {
     "data": {
      "text/html": [
       "<div>\n",
       "<style scoped>\n",
       "    .dataframe tbody tr th:only-of-type {\n",
       "        vertical-align: middle;\n",
       "    }\n",
       "\n",
       "    .dataframe tbody tr th {\n",
       "        vertical-align: top;\n",
       "    }\n",
       "\n",
       "    .dataframe thead th {\n",
       "        text-align: right;\n",
       "    }\n",
       "</style>\n",
       "<table border=\"1\" class=\"dataframe\">\n",
       "  <thead>\n",
       "    <tr style=\"text-align: right;\">\n",
       "      <th></th>\n",
       "      <th>condition_1</th>\n",
       "      <th>condition_2</th>\n",
       "    </tr>\n",
       "  </thead>\n",
       "  <tbody>\n",
       "    <tr>\n",
       "      <th>77</th>\n",
       "      <td>Feedr</td>\n",
       "      <td>RRNn</td>\n",
       "    </tr>\n",
       "    <tr>\n",
       "      <th>105</th>\n",
       "      <td>RRAn</td>\n",
       "      <td>Feedr</td>\n",
       "    </tr>\n",
       "    <tr>\n",
       "      <th>252</th>\n",
       "      <td>RRAn</td>\n",
       "      <td>Feedr</td>\n",
       "    </tr>\n",
       "    <tr>\n",
       "      <th>258</th>\n",
       "      <td>Artery</td>\n",
       "      <td>Artery</td>\n",
       "    </tr>\n",
       "    <tr>\n",
       "      <th>356</th>\n",
       "      <td>Feedr</td>\n",
       "      <td>Feedr</td>\n",
       "    </tr>\n",
       "    <tr>\n",
       "      <th>517</th>\n",
       "      <td>PosA</td>\n",
       "      <td>PosA</td>\n",
       "    </tr>\n",
       "    <tr>\n",
       "      <th>588</th>\n",
       "      <td>RRAn</td>\n",
       "      <td>Feedr</td>\n",
       "    </tr>\n",
       "    <tr>\n",
       "      <th>682</th>\n",
       "      <td>PosN</td>\n",
       "      <td>PosN</td>\n",
       "    </tr>\n",
       "    <tr>\n",
       "      <th>685</th>\n",
       "      <td>PosN</td>\n",
       "      <td>PosN</td>\n",
       "    </tr>\n",
       "    <tr>\n",
       "      <th>756</th>\n",
       "      <td>PosN</td>\n",
       "      <td>PosN</td>\n",
       "    </tr>\n",
       "    <tr>\n",
       "      <th>765</th>\n",
       "      <td>Feedr</td>\n",
       "      <td>RRAe</td>\n",
       "    </tr>\n",
       "    <tr>\n",
       "      <th>804</th>\n",
       "      <td>RRNn</td>\n",
       "      <td>Feedr</td>\n",
       "    </tr>\n",
       "    <tr>\n",
       "      <th>934</th>\n",
       "      <td>PosA</td>\n",
       "      <td>PosA</td>\n",
       "    </tr>\n",
       "    <tr>\n",
       "      <th>1031</th>\n",
       "      <td>Feedr</td>\n",
       "      <td>RRNn</td>\n",
       "    </tr>\n",
       "    <tr>\n",
       "      <th>1141</th>\n",
       "      <td>Artery</td>\n",
       "      <td>PosA</td>\n",
       "    </tr>\n",
       "    <tr>\n",
       "      <th>1332</th>\n",
       "      <td>Feedr</td>\n",
       "      <td>Feedr</td>\n",
       "    </tr>\n",
       "    <tr>\n",
       "      <th>1379</th>\n",
       "      <td>RRAn</td>\n",
       "      <td>Feedr</td>\n",
       "    </tr>\n",
       "    <tr>\n",
       "      <th>1508</th>\n",
       "      <td>RRAn</td>\n",
       "      <td>Artery</td>\n",
       "    </tr>\n",
       "    <tr>\n",
       "      <th>1661</th>\n",
       "      <td>RRAn</td>\n",
       "      <td>Feedr</td>\n",
       "    </tr>\n",
       "    <tr>\n",
       "      <th>1701</th>\n",
       "      <td>RRAn</td>\n",
       "      <td>Feedr</td>\n",
       "    </tr>\n",
       "    <tr>\n",
       "      <th>1916</th>\n",
       "      <td>RRNn</td>\n",
       "      <td>Artery</td>\n",
       "    </tr>\n",
       "    <tr>\n",
       "      <th>1927</th>\n",
       "      <td>Feedr</td>\n",
       "      <td>Artery</td>\n",
       "    </tr>\n",
       "    <tr>\n",
       "      <th>1942</th>\n",
       "      <td>RRAn</td>\n",
       "      <td>Feedr</td>\n",
       "    </tr>\n",
       "    <tr>\n",
       "      <th>1974</th>\n",
       "      <td>Artery</td>\n",
       "      <td>Artery</td>\n",
       "    </tr>\n",
       "    <tr>\n",
       "      <th>1978</th>\n",
       "      <td>RRAn</td>\n",
       "      <td>Feedr</td>\n",
       "    </tr>\n",
       "    <tr>\n",
       "      <th>2008</th>\n",
       "      <td>Feedr</td>\n",
       "      <td>RRAn</td>\n",
       "    </tr>\n",
       "  </tbody>\n",
       "</table>\n",
       "</div>"
      ],
      "text/plain": [
       "     condition_1 condition_2\n",
       "77         Feedr        RRNn\n",
       "105         RRAn       Feedr\n",
       "252         RRAn       Feedr\n",
       "258       Artery      Artery\n",
       "356        Feedr       Feedr\n",
       "517         PosA        PosA\n",
       "588         RRAn       Feedr\n",
       "682         PosN        PosN\n",
       "685         PosN        PosN\n",
       "756         PosN        PosN\n",
       "765        Feedr        RRAe\n",
       "804         RRNn       Feedr\n",
       "934         PosA        PosA\n",
       "1031       Feedr        RRNn\n",
       "1141      Artery        PosA\n",
       "1332       Feedr       Feedr\n",
       "1379        RRAn       Feedr\n",
       "1508        RRAn      Artery\n",
       "1661        RRAn       Feedr\n",
       "1701        RRAn       Feedr\n",
       "1916        RRNn      Artery\n",
       "1927       Feedr      Artery\n",
       "1942        RRAn       Feedr\n",
       "1974      Artery      Artery\n",
       "1978        RRAn       Feedr\n",
       "2008       Feedr        RRAn"
      ]
     },
     "execution_count": 44,
     "metadata": {},
     "output_type": "execute_result"
    }
   ],
   "source": [
    "df_train[df_train['condition_2'] !='Norm'][['condition_1','condition_2']]"
   ]
  },
  {
   "cell_type": "markdown",
   "id": "1c3b9222",
   "metadata": {},
   "source": [
    "If Condition 2 is the same as Condition 1, they are probably redundant.  (It is highly \n",
    "unlikely that a house borders two arteries, etc.).  We drop Condition 2 if it is identical\n",
    "to Condtion 1."
   ]
  },
  {
   "cell_type": "code",
   "execution_count": 45,
   "id": "5257b12f",
   "metadata": {},
   "outputs": [],
   "source": [
    "df_train.loc[df_train['condition_1'] == df_train['condition_2'],'condition_2'] = 'Norm'\n",
    "df_test.loc[df_test['condition_1'] == df_test['condition_2'],'condition_2'] = 'Norm'"
   ]
  },
  {
   "cell_type": "markdown",
   "id": "ece6d3fd",
   "metadata": {},
   "source": [
    "## Building Type"
   ]
  },
  {
   "cell_type": "code",
   "execution_count": 46,
   "id": "e3ec79ce",
   "metadata": {},
   "outputs": [
    {
     "data": {
      "text/html": [
       "<div>\n",
       "<style scoped>\n",
       "    .dataframe tbody tr th:only-of-type {\n",
       "        vertical-align: middle;\n",
       "    }\n",
       "\n",
       "    .dataframe tbody tr th {\n",
       "        vertical-align: top;\n",
       "    }\n",
       "\n",
       "    .dataframe thead th {\n",
       "        text-align: right;\n",
       "    }\n",
       "</style>\n",
       "<table border=\"1\" class=\"dataframe\">\n",
       "  <thead>\n",
       "    <tr style=\"text-align: right;\">\n",
       "      <th></th>\n",
       "      <th>count</th>\n",
       "      <th>mean</th>\n",
       "      <th>std</th>\n",
       "      <th>min</th>\n",
       "      <th>25%</th>\n",
       "      <th>50%</th>\n",
       "      <th>75%</th>\n",
       "      <th>max</th>\n",
       "    </tr>\n",
       "    <tr>\n",
       "      <th>bldg_type</th>\n",
       "      <th></th>\n",
       "      <th></th>\n",
       "      <th></th>\n",
       "      <th></th>\n",
       "      <th></th>\n",
       "      <th></th>\n",
       "      <th></th>\n",
       "      <th></th>\n",
       "    </tr>\n",
       "  </thead>\n",
       "  <tbody>\n",
       "    <tr>\n",
       "      <th>1Fam</th>\n",
       "      <td>1700.0</td>\n",
       "      <td>185275.685882</td>\n",
       "      <td>81912.397035</td>\n",
       "      <td>12789.0</td>\n",
       "      <td>130500.0</td>\n",
       "      <td>165200.0</td>\n",
       "      <td>219282.5</td>\n",
       "      <td>611657.0</td>\n",
       "    </tr>\n",
       "    <tr>\n",
       "      <th>2fmCon</th>\n",
       "      <td>46.0</td>\n",
       "      <td>123179.891304</td>\n",
       "      <td>30304.813341</td>\n",
       "      <td>55000.0</td>\n",
       "      <td>101187.5</td>\n",
       "      <td>121200.0</td>\n",
       "      <td>139875.0</td>\n",
       "      <td>200000.0</td>\n",
       "    </tr>\n",
       "    <tr>\n",
       "      <th>Duplex</th>\n",
       "      <td>75.0</td>\n",
       "      <td>139296.333333</td>\n",
       "      <td>40824.044796</td>\n",
       "      <td>62500.0</td>\n",
       "      <td>118250.0</td>\n",
       "      <td>136000.0</td>\n",
       "      <td>148991.5</td>\n",
       "      <td>269500.0</td>\n",
       "    </tr>\n",
       "    <tr>\n",
       "      <th>Twnhs</th>\n",
       "      <td>69.0</td>\n",
       "      <td>133100.000000</td>\n",
       "      <td>37977.260030</td>\n",
       "      <td>73000.0</td>\n",
       "      <td>100000.0</td>\n",
       "      <td>134000.0</td>\n",
       "      <td>160000.0</td>\n",
       "      <td>230000.0</td>\n",
       "    </tr>\n",
       "    <tr>\n",
       "      <th>TwnhsE</th>\n",
       "      <td>161.0</td>\n",
       "      <td>198312.372671</td>\n",
       "      <td>65866.184832</td>\n",
       "      <td>79400.0</td>\n",
       "      <td>147000.0</td>\n",
       "      <td>184000.0</td>\n",
       "      <td>234250.0</td>\n",
       "      <td>392500.0</td>\n",
       "    </tr>\n",
       "  </tbody>\n",
       "</table>\n",
       "</div>"
      ],
      "text/plain": [
       "            count           mean           std      min       25%       50%  \\\n",
       "bldg_type                                                                     \n",
       "1Fam       1700.0  185275.685882  81912.397035  12789.0  130500.0  165200.0   \n",
       "2fmCon       46.0  123179.891304  30304.813341  55000.0  101187.5  121200.0   \n",
       "Duplex       75.0  139296.333333  40824.044796  62500.0  118250.0  136000.0   \n",
       "Twnhs        69.0  133100.000000  37977.260030  73000.0  100000.0  134000.0   \n",
       "TwnhsE      161.0  198312.372671  65866.184832  79400.0  147000.0  184000.0   \n",
       "\n",
       "                75%       max  \n",
       "bldg_type                      \n",
       "1Fam       219282.5  611657.0  \n",
       "2fmCon     139875.0  200000.0  \n",
       "Duplex     148991.5  269500.0  \n",
       "Twnhs      160000.0  230000.0  \n",
       "TwnhsE     234250.0  392500.0  "
      ]
     },
     "execution_count": 46,
     "metadata": {},
     "output_type": "execute_result"
    }
   ],
   "source": [
    "df_train.groupby(['bldg_type'])['saleprice'].describe()"
   ]
  },
  {
   "cell_type": "markdown",
   "id": "4a35e351",
   "metadata": {},
   "source": [
    "Categorical - OHE"
   ]
  },
  {
   "cell_type": "markdown",
   "id": "8e29a22a",
   "metadata": {},
   "source": [
    "## House Style (floors)"
   ]
  },
  {
   "cell_type": "code",
   "execution_count": 47,
   "id": "529f3119",
   "metadata": {},
   "outputs": [
    {
     "data": {
      "text/plain": [
       "1Story    1059\n",
       "2Story     598\n",
       "1.5Fin     218\n",
       "SLvl        94\n",
       "SFoyer      50\n",
       "2.5Unf      14\n",
       "1.5Unf      12\n",
       "2.5Fin       6\n",
       "Name: house_style, dtype: int64"
      ]
     },
     "execution_count": 47,
     "metadata": {},
     "output_type": "execute_result"
    }
   ],
   "source": [
    "df_train['house_style'].value_counts()"
   ]
  },
  {
   "cell_type": "code",
   "execution_count": 48,
   "id": "48ca0c83",
   "metadata": {},
   "outputs": [
    {
     "data": {
      "text/html": [
       "<div>\n",
       "<style scoped>\n",
       "    .dataframe tbody tr th:only-of-type {\n",
       "        vertical-align: middle;\n",
       "    }\n",
       "\n",
       "    .dataframe tbody tr th {\n",
       "        vertical-align: top;\n",
       "    }\n",
       "\n",
       "    .dataframe thead th {\n",
       "        text-align: right;\n",
       "    }\n",
       "</style>\n",
       "<table border=\"1\" class=\"dataframe\">\n",
       "  <thead>\n",
       "    <tr style=\"text-align: right;\">\n",
       "      <th></th>\n",
       "      <th>count</th>\n",
       "      <th>mean</th>\n",
       "      <th>std</th>\n",
       "      <th>min</th>\n",
       "      <th>25%</th>\n",
       "      <th>50%</th>\n",
       "      <th>75%</th>\n",
       "      <th>max</th>\n",
       "    </tr>\n",
       "    <tr>\n",
       "      <th>house_style</th>\n",
       "      <th></th>\n",
       "      <th></th>\n",
       "      <th></th>\n",
       "      <th></th>\n",
       "      <th></th>\n",
       "      <th></th>\n",
       "      <th></th>\n",
       "      <th></th>\n",
       "    </tr>\n",
       "  </thead>\n",
       "  <tbody>\n",
       "    <tr>\n",
       "      <th>1.5Fin</th>\n",
       "      <td>218.0</td>\n",
       "      <td>136480.091743</td>\n",
       "      <td>44910.975892</td>\n",
       "      <td>37900.0</td>\n",
       "      <td>113250.00</td>\n",
       "      <td>128700.0</td>\n",
       "      <td>149375.0</td>\n",
       "      <td>410000.0</td>\n",
       "    </tr>\n",
       "    <tr>\n",
       "      <th>1.5Unf</th>\n",
       "      <td>12.0</td>\n",
       "      <td>112466.666667</td>\n",
       "      <td>21111.364166</td>\n",
       "      <td>64500.0</td>\n",
       "      <td>107925.00</td>\n",
       "      <td>113000.0</td>\n",
       "      <td>122250.0</td>\n",
       "      <td>139400.0</td>\n",
       "    </tr>\n",
       "    <tr>\n",
       "      <th>1Story</th>\n",
       "      <td>1059.0</td>\n",
       "      <td>179809.194523</td>\n",
       "      <td>81725.146760</td>\n",
       "      <td>12789.0</td>\n",
       "      <td>128000.00</td>\n",
       "      <td>156000.0</td>\n",
       "      <td>214000.0</td>\n",
       "      <td>611657.0</td>\n",
       "    </tr>\n",
       "    <tr>\n",
       "      <th>2.5Fin</th>\n",
       "      <td>6.0</td>\n",
       "      <td>243666.666667</td>\n",
       "      <td>128464.262216</td>\n",
       "      <td>104000.0</td>\n",
       "      <td>192500.00</td>\n",
       "      <td>198500.0</td>\n",
       "      <td>271250.0</td>\n",
       "      <td>475000.0</td>\n",
       "    </tr>\n",
       "    <tr>\n",
       "      <th>2.5Unf</th>\n",
       "      <td>14.0</td>\n",
       "      <td>191785.714286</td>\n",
       "      <td>87041.483100</td>\n",
       "      <td>101000.0</td>\n",
       "      <td>133125.00</td>\n",
       "      <td>165500.0</td>\n",
       "      <td>212125.0</td>\n",
       "      <td>415000.0</td>\n",
       "    </tr>\n",
       "    <tr>\n",
       "      <th>2Story</th>\n",
       "      <td>598.0</td>\n",
       "      <td>206408.963211</td>\n",
       "      <td>82240.431218</td>\n",
       "      <td>40000.0</td>\n",
       "      <td>152768.75</td>\n",
       "      <td>189000.0</td>\n",
       "      <td>243875.0</td>\n",
       "      <td>584500.0</td>\n",
       "    </tr>\n",
       "    <tr>\n",
       "      <th>SFoyer</th>\n",
       "      <td>50.0</td>\n",
       "      <td>149343.920000</td>\n",
       "      <td>31859.449693</td>\n",
       "      <td>73000.0</td>\n",
       "      <td>130475.00</td>\n",
       "      <td>147500.0</td>\n",
       "      <td>169625.0</td>\n",
       "      <td>224500.0</td>\n",
       "    </tr>\n",
       "    <tr>\n",
       "      <th>SLvl</th>\n",
       "      <td>94.0</td>\n",
       "      <td>166248.989362</td>\n",
       "      <td>37262.422556</td>\n",
       "      <td>91000.0</td>\n",
       "      <td>145000.00</td>\n",
       "      <td>164750.0</td>\n",
       "      <td>177875.0</td>\n",
       "      <td>345000.0</td>\n",
       "    </tr>\n",
       "  </tbody>\n",
       "</table>\n",
       "</div>"
      ],
      "text/plain": [
       "              count           mean            std       min        25%  \\\n",
       "house_style                                                              \n",
       "1.5Fin        218.0  136480.091743   44910.975892   37900.0  113250.00   \n",
       "1.5Unf         12.0  112466.666667   21111.364166   64500.0  107925.00   \n",
       "1Story       1059.0  179809.194523   81725.146760   12789.0  128000.00   \n",
       "2.5Fin          6.0  243666.666667  128464.262216  104000.0  192500.00   \n",
       "2.5Unf         14.0  191785.714286   87041.483100  101000.0  133125.00   \n",
       "2Story        598.0  206408.963211   82240.431218   40000.0  152768.75   \n",
       "SFoyer         50.0  149343.920000   31859.449693   73000.0  130475.00   \n",
       "SLvl           94.0  166248.989362   37262.422556   91000.0  145000.00   \n",
       "\n",
       "                  50%       75%       max  \n",
       "house_style                                \n",
       "1.5Fin       128700.0  149375.0  410000.0  \n",
       "1.5Unf       113000.0  122250.0  139400.0  \n",
       "1Story       156000.0  214000.0  611657.0  \n",
       "2.5Fin       198500.0  271250.0  475000.0  \n",
       "2.5Unf       165500.0  212125.0  415000.0  \n",
       "2Story       189000.0  243875.0  584500.0  \n",
       "SFoyer       147500.0  169625.0  224500.0  \n",
       "SLvl         164750.0  177875.0  345000.0  "
      ]
     },
     "execution_count": 48,
     "metadata": {},
     "output_type": "execute_result"
    }
   ],
   "source": [
    "df_train.groupby(['house_style'])['saleprice'].describe()"
   ]
  },
  {
   "cell_type": "markdown",
   "id": "25f44bfe",
   "metadata": {},
   "source": [
    "Categorical - OHE"
   ]
  },
  {
   "cell_type": "markdown",
   "id": "352771e0",
   "metadata": {},
   "source": [
    "## Quality/Condition Columns - Numeric"
   ]
  },
  {
   "cell_type": "code",
   "execution_count": 49,
   "id": "b82f4688",
   "metadata": {},
   "outputs": [
    {
     "data": {
      "text/plain": [
       "5     563\n",
       "6     506\n",
       "7     431\n",
       "8     250\n",
       "4     159\n",
       "9      77\n",
       "3      29\n",
       "10     23\n",
       "2       9\n",
       "1       4\n",
       "Name: overall_qual, dtype: int64"
      ]
     },
     "execution_count": 49,
     "metadata": {},
     "output_type": "execute_result"
    }
   ],
   "source": [
    "df_train['overall_qual'].value_counts()"
   ]
  },
  {
   "cell_type": "code",
   "execution_count": 50,
   "id": "6a3f685e",
   "metadata": {},
   "outputs": [
    {
     "data": {
      "text/plain": [
       "5    1168\n",
       "6     368\n",
       "7     270\n",
       "8     101\n",
       "4      70\n",
       "3      35\n",
       "9      29\n",
       "2       6\n",
       "1       4\n",
       "Name: overall_cond, dtype: int64"
      ]
     },
     "execution_count": 50,
     "metadata": {},
     "output_type": "execute_result"
    }
   ],
   "source": [
    "df_train['overall_cond'].value_counts()"
   ]
  },
  {
   "cell_type": "markdown",
   "id": "9e375a8a",
   "metadata": {},
   "source": [
    "These condition features are ordinal and numeric, with no nulls.\n",
    "We will preserve them as is."
   ]
  },
  {
   "cell_type": "markdown",
   "id": "aa0488c9",
   "metadata": {},
   "source": [
    "## Year Built/Remod"
   ]
  },
  {
   "cell_type": "code",
   "execution_count": 51,
   "id": "3b2496a5",
   "metadata": {},
   "outputs": [
    {
     "data": {
      "text/plain": [
       "count    2051.000000\n",
       "mean     1971.708922\n",
       "std        30.177889\n",
       "min      1872.000000\n",
       "25%      1953.500000\n",
       "50%      1974.000000\n",
       "75%      2001.000000\n",
       "max      2010.000000\n",
       "Name: year_built, dtype: float64"
      ]
     },
     "execution_count": 51,
     "metadata": {},
     "output_type": "execute_result"
    }
   ],
   "source": [
    "df_train['year_built'].describe()"
   ]
  },
  {
   "cell_type": "code",
   "execution_count": 52,
   "id": "de00901b",
   "metadata": {},
   "outputs": [
    {
     "data": {
      "text/plain": [
       "count    2051.000000\n",
       "mean     1984.190151\n",
       "std        21.036250\n",
       "min      1950.000000\n",
       "25%      1964.500000\n",
       "50%      1993.000000\n",
       "75%      2004.000000\n",
       "max      2010.000000\n",
       "Name: year_remod/add, dtype: float64"
      ]
     },
     "execution_count": 52,
     "metadata": {},
     "output_type": "execute_result"
    }
   ],
   "source": [
    "df_train['year_remod/add'].describe()"
   ]
  },
  {
   "cell_type": "markdown",
   "id": "d9a8f618",
   "metadata": {},
   "source": [
    "Numeric, no nulls."
   ]
  },
  {
   "cell_type": "markdown",
   "id": "4d4eac62",
   "metadata": {},
   "source": [
    "##  Roof"
   ]
  },
  {
   "cell_type": "code",
   "execution_count": 53,
   "id": "6dcb9db5",
   "metadata": {},
   "outputs": [
    {
     "data": {
      "text/plain": [
       "Gable      1619\n",
       "Hip         397\n",
       "Flat         13\n",
       "Gambrel      12\n",
       "Mansard       7\n",
       "Shed          3\n",
       "Name: roof_style, dtype: int64"
      ]
     },
     "execution_count": 53,
     "metadata": {},
     "output_type": "execute_result"
    }
   ],
   "source": [
    "df_train['roof_style'].value_counts()"
   ]
  },
  {
   "cell_type": "code",
   "execution_count": 54,
   "id": "8959f991",
   "metadata": {
    "scrolled": true
   },
   "outputs": [
    {
     "data": {
      "text/html": [
       "<div>\n",
       "<style scoped>\n",
       "    .dataframe tbody tr th:only-of-type {\n",
       "        vertical-align: middle;\n",
       "    }\n",
       "\n",
       "    .dataframe tbody tr th {\n",
       "        vertical-align: top;\n",
       "    }\n",
       "\n",
       "    .dataframe thead th {\n",
       "        text-align: right;\n",
       "    }\n",
       "</style>\n",
       "<table border=\"1\" class=\"dataframe\">\n",
       "  <thead>\n",
       "    <tr style=\"text-align: right;\">\n",
       "      <th></th>\n",
       "      <th>count</th>\n",
       "      <th>mean</th>\n",
       "      <th>std</th>\n",
       "      <th>min</th>\n",
       "      <th>25%</th>\n",
       "      <th>50%</th>\n",
       "      <th>75%</th>\n",
       "      <th>max</th>\n",
       "    </tr>\n",
       "    <tr>\n",
       "      <th>roof_style</th>\n",
       "      <th></th>\n",
       "      <th></th>\n",
       "      <th></th>\n",
       "      <th></th>\n",
       "      <th></th>\n",
       "      <th></th>\n",
       "      <th></th>\n",
       "      <th></th>\n",
       "    </tr>\n",
       "  </thead>\n",
       "  <tbody>\n",
       "    <tr>\n",
       "      <th>Flat</th>\n",
       "      <td>13.0</td>\n",
       "      <td>191613.076923</td>\n",
       "      <td>61659.734752</td>\n",
       "      <td>113500.0</td>\n",
       "      <td>129000.0</td>\n",
       "      <td>167000.0</td>\n",
       "      <td>242000.0</td>\n",
       "      <td>274970.0</td>\n",
       "    </tr>\n",
       "    <tr>\n",
       "      <th>Gable</th>\n",
       "      <td>1619.0</td>\n",
       "      <td>171264.253243</td>\n",
       "      <td>64948.908434</td>\n",
       "      <td>12789.0</td>\n",
       "      <td>128000.0</td>\n",
       "      <td>159000.0</td>\n",
       "      <td>203000.0</td>\n",
       "      <td>475000.0</td>\n",
       "    </tr>\n",
       "    <tr>\n",
       "      <th>Gambrel</th>\n",
       "      <td>12.0</td>\n",
       "      <td>138208.333333</td>\n",
       "      <td>66068.524459</td>\n",
       "      <td>40000.0</td>\n",
       "      <td>93725.0</td>\n",
       "      <td>125250.0</td>\n",
       "      <td>172500.0</td>\n",
       "      <td>259500.0</td>\n",
       "    </tr>\n",
       "    <tr>\n",
       "      <th>Hip</th>\n",
       "      <td>397.0</td>\n",
       "      <td>224366.654912</td>\n",
       "      <td>112153.404004</td>\n",
       "      <td>50138.0</td>\n",
       "      <td>140000.0</td>\n",
       "      <td>180500.0</td>\n",
       "      <td>290000.0</td>\n",
       "      <td>611657.0</td>\n",
       "    </tr>\n",
       "    <tr>\n",
       "      <th>Mansard</th>\n",
       "      <td>7.0</td>\n",
       "      <td>152642.857143</td>\n",
       "      <td>80646.716344</td>\n",
       "      <td>44000.0</td>\n",
       "      <td>108500.0</td>\n",
       "      <td>150000.0</td>\n",
       "      <td>182500.0</td>\n",
       "      <td>292500.0</td>\n",
       "    </tr>\n",
       "    <tr>\n",
       "      <th>Shed</th>\n",
       "      <td>3.0</td>\n",
       "      <td>208666.666667</td>\n",
       "      <td>63105.731383</td>\n",
       "      <td>157000.0</td>\n",
       "      <td>173500.0</td>\n",
       "      <td>190000.0</td>\n",
       "      <td>234500.0</td>\n",
       "      <td>279000.0</td>\n",
       "    </tr>\n",
       "  </tbody>\n",
       "</table>\n",
       "</div>"
      ],
      "text/plain": [
       "             count           mean            std       min       25%  \\\n",
       "roof_style                                                             \n",
       "Flat          13.0  191613.076923   61659.734752  113500.0  129000.0   \n",
       "Gable       1619.0  171264.253243   64948.908434   12789.0  128000.0   \n",
       "Gambrel       12.0  138208.333333   66068.524459   40000.0   93725.0   \n",
       "Hip          397.0  224366.654912  112153.404004   50138.0  140000.0   \n",
       "Mansard        7.0  152642.857143   80646.716344   44000.0  108500.0   \n",
       "Shed           3.0  208666.666667   63105.731383  157000.0  173500.0   \n",
       "\n",
       "                 50%       75%       max  \n",
       "roof_style                                \n",
       "Flat        167000.0  242000.0  274970.0  \n",
       "Gable       159000.0  203000.0  475000.0  \n",
       "Gambrel     125250.0  172500.0  259500.0  \n",
       "Hip         180500.0  290000.0  611657.0  \n",
       "Mansard     150000.0  182500.0  292500.0  \n",
       "Shed        190000.0  234500.0  279000.0  "
      ]
     },
     "execution_count": 54,
     "metadata": {},
     "output_type": "execute_result"
    }
   ],
   "source": [
    "df_train.groupby(['roof_style'])['saleprice'].describe()"
   ]
  },
  {
   "cell_type": "code",
   "execution_count": 55,
   "id": "79bac4e7",
   "metadata": {},
   "outputs": [
    {
     "data": {
      "text/html": [
       "<div>\n",
       "<style scoped>\n",
       "    .dataframe tbody tr th:only-of-type {\n",
       "        vertical-align: middle;\n",
       "    }\n",
       "\n",
       "    .dataframe tbody tr th {\n",
       "        vertical-align: top;\n",
       "    }\n",
       "\n",
       "    .dataframe thead th {\n",
       "        text-align: right;\n",
       "    }\n",
       "</style>\n",
       "<table border=\"1\" class=\"dataframe\">\n",
       "  <thead>\n",
       "    <tr style=\"text-align: right;\">\n",
       "      <th></th>\n",
       "      <th>count</th>\n",
       "      <th>mean</th>\n",
       "      <th>std</th>\n",
       "      <th>min</th>\n",
       "      <th>25%</th>\n",
       "      <th>50%</th>\n",
       "      <th>75%</th>\n",
       "      <th>max</th>\n",
       "    </tr>\n",
       "    <tr>\n",
       "      <th>roof_matl</th>\n",
       "      <th></th>\n",
       "      <th></th>\n",
       "      <th></th>\n",
       "      <th></th>\n",
       "      <th></th>\n",
       "      <th></th>\n",
       "      <th></th>\n",
       "      <th></th>\n",
       "    </tr>\n",
       "  </thead>\n",
       "  <tbody>\n",
       "    <tr>\n",
       "      <th>ClyTile</th>\n",
       "      <td>1.0</td>\n",
       "      <td>160000.000000</td>\n",
       "      <td>NaN</td>\n",
       "      <td>160000.0</td>\n",
       "      <td>160000.0</td>\n",
       "      <td>160000.0</td>\n",
       "      <td>160000.0</td>\n",
       "      <td>160000.0</td>\n",
       "    </tr>\n",
       "    <tr>\n",
       "      <th>CompShg</th>\n",
       "      <td>2025.0</td>\n",
       "      <td>180849.197037</td>\n",
       "      <td>79013.718606</td>\n",
       "      <td>12789.0</td>\n",
       "      <td>129500.0</td>\n",
       "      <td>161500.0</td>\n",
       "      <td>213000.0</td>\n",
       "      <td>611657.0</td>\n",
       "    </tr>\n",
       "    <tr>\n",
       "      <th>Membran</th>\n",
       "      <td>1.0</td>\n",
       "      <td>241500.000000</td>\n",
       "      <td>NaN</td>\n",
       "      <td>241500.0</td>\n",
       "      <td>241500.0</td>\n",
       "      <td>241500.0</td>\n",
       "      <td>241500.0</td>\n",
       "      <td>241500.0</td>\n",
       "    </tr>\n",
       "    <tr>\n",
       "      <th>Tar&amp;Grv</th>\n",
       "      <td>15.0</td>\n",
       "      <td>187948.933333</td>\n",
       "      <td>56957.886372</td>\n",
       "      <td>113500.0</td>\n",
       "      <td>137000.0</td>\n",
       "      <td>167000.0</td>\n",
       "      <td>246382.0</td>\n",
       "      <td>274970.0</td>\n",
       "    </tr>\n",
       "    <tr>\n",
       "      <th>WdShake</th>\n",
       "      <td>4.0</td>\n",
       "      <td>264250.000000</td>\n",
       "      <td>49562.250420</td>\n",
       "      <td>190000.0</td>\n",
       "      <td>262750.0</td>\n",
       "      <td>287250.0</td>\n",
       "      <td>288750.0</td>\n",
       "      <td>292500.0</td>\n",
       "    </tr>\n",
       "    <tr>\n",
       "      <th>WdShngl</th>\n",
       "      <td>5.0</td>\n",
       "      <td>339400.000000</td>\n",
       "      <td>88618.846754</td>\n",
       "      <td>278000.0</td>\n",
       "      <td>279000.0</td>\n",
       "      <td>280000.0</td>\n",
       "      <td>385000.0</td>\n",
       "      <td>475000.0</td>\n",
       "    </tr>\n",
       "  </tbody>\n",
       "</table>\n",
       "</div>"
      ],
      "text/plain": [
       "            count           mean           std       min       25%       50%  \\\n",
       "roof_matl                                                                      \n",
       "ClyTile       1.0  160000.000000           NaN  160000.0  160000.0  160000.0   \n",
       "CompShg    2025.0  180849.197037  79013.718606   12789.0  129500.0  161500.0   \n",
       "Membran       1.0  241500.000000           NaN  241500.0  241500.0  241500.0   \n",
       "Tar&Grv      15.0  187948.933333  56957.886372  113500.0  137000.0  167000.0   \n",
       "WdShake       4.0  264250.000000  49562.250420  190000.0  262750.0  287250.0   \n",
       "WdShngl       5.0  339400.000000  88618.846754  278000.0  279000.0  280000.0   \n",
       "\n",
       "                75%       max  \n",
       "roof_matl                      \n",
       "ClyTile    160000.0  160000.0  \n",
       "CompShg    213000.0  611657.0  \n",
       "Membran    241500.0  241500.0  \n",
       "Tar&Grv    246382.0  274970.0  \n",
       "WdShake    288750.0  292500.0  \n",
       "WdShngl    385000.0  475000.0  "
      ]
     },
     "execution_count": 55,
     "metadata": {},
     "output_type": "execute_result"
    }
   ],
   "source": [
    "df_train.groupby(['roof_matl'])['saleprice'].describe()"
   ]
  },
  {
   "cell_type": "markdown",
   "id": "89573d95",
   "metadata": {},
   "source": [
    "Categorical - OHE"
   ]
  },
  {
   "cell_type": "markdown",
   "id": "7ca0a315-38fc-4ec2-b9bd-61b07934b62a",
   "metadata": {},
   "source": [
    "##  Quality/Condition Columns - Categorical "
   ]
  },
  {
   "cell_type": "code",
   "execution_count": 56,
   "id": "8a14f761",
   "metadata": {},
   "outputs": [
    {
     "name": "stdout",
     "output_type": "stream",
     "text": [
      "TA    552\n",
      "Gd    292\n",
      "Ex     25\n",
      "Fa      9\n",
      "Name: exter_qual, dtype: int64\n",
      "TA    770\n",
      "Gd     84\n",
      "Fa     18\n",
      "Ex      5\n",
      "Po      1\n",
      "Name: exter_cond, dtype: int64\n",
      "TA    396\n",
      "Gd    355\n",
      "Ex     73\n",
      "Fa     28\n",
      "Po      1\n",
      "Name: bsmt_qual, dtype: int64\n",
      "TA    781\n",
      "Fa     39\n",
      "Gd     33\n",
      "Name: bsmt_cond, dtype: int64\n",
      "Ex    429\n",
      "TA    267\n",
      "Gd    157\n",
      "Fa     25\n",
      "Name: heating_qc, dtype: int64\n",
      "TA    447\n",
      "Gd    354\n",
      "Ex     53\n",
      "Fa     23\n",
      "Po      1\n",
      "Name: kitchen_qual, dtype: int64\n",
      "Gd    220\n",
      "TA    193\n",
      "Fa     16\n",
      "Po     15\n",
      "Ex     12\n",
      "Name: fireplace_qu, dtype: int64\n",
      "TA    782\n",
      "Fa     42\n",
      "Gd      6\n",
      "Po      3\n",
      "Name: garage_qual, dtype: int64\n",
      "TA    796\n",
      "Fa     27\n",
      "Po      6\n",
      "Gd      3\n",
      "Ex      1\n",
      "Name: garage_cond, dtype: int64\n",
      "Ex    3\n",
      "TA    1\n",
      "Name: pool_qc, dtype: int64\n",
      "No    567\n",
      "Av    130\n",
      "Gd     80\n",
      "Mn     76\n",
      "Name: bsmt_exposure, dtype: int64\n"
     ]
    }
   ],
   "source": [
    "for col in ['exter_qual','exter_cond','bsmt_qual','bsmt_cond',\n",
    "            'heating_qc','kitchen_qual','fireplace_qu','garage_qual',\n",
    "            'garage_cond','pool_qc','bsmt_exposure']:\n",
    "    print(df[col].value_counts())"
   ]
  },
  {
   "cell_type": "code",
   "execution_count": null,
   "id": "795b0056",
   "metadata": {},
   "outputs": [],
   "source": []
  },
  {
   "cell_type": "markdown",
   "id": "ae05f23b",
   "metadata": {},
   "source": [
    "These categories are ordinal.  Nulls likely represent houses which do not have the feature \n",
    "at all (e.g. garage quality is null for a house with no garage), so they will be placed at the \n",
    "bottom of the rank."
   ]
  },
  {
   "cell_type": "code",
   "execution_count": 57,
   "id": "c10761c7",
   "metadata": {},
   "outputs": [],
   "source": [
    "for col in ['exter_qual','exter_cond','bsmt_qual','bsmt_cond','heating_qc',\n",
    "            'kitchen_qual','fireplace_qu','garage_qual','garage_cond','pool_qc','bsmt_exposure']:\n",
    "    df_train[col].fillna('NONE',inplace=True)\n",
    "    df_test[col].fillna('NONE',inplace=True)"
   ]
  },
  {
   "cell_type": "code",
   "execution_count": 58,
   "id": "f4e12a56-a1fd-4241-bc9b-b93beb7a3b63",
   "metadata": {},
   "outputs": [],
   "source": [
    "for col in ['exter_qual','exter_cond','bsmt_qual','bsmt_cond','heating_qc','kitchen_qual','fireplace_qu','garage_qual','garage_cond','pool_qc']:\n",
    "    df_train[col].replace({'NONE':0,'NA':0,'No':0,'Po':1,'Fa':2,'TA':3,'Gd':4,'Ex':5},inplace=True)\n",
    "    df_test[col].replace({'NONE':0,'NA':0,'No':0,'Po':1,'Fa':2,'TA':3,'Gd':4,'Ex':5},inplace=True)"
   ]
  },
  {
   "cell_type": "markdown",
   "id": "e8f68b26",
   "metadata": {},
   "source": [
    "## Basement"
   ]
  },
  {
   "cell_type": "markdown",
   "id": "18f4f77b",
   "metadata": {},
   "source": [
    "According to the data dictionary, basement type is ordinal.  It will be processed accordingly.<p>\n",
    "Nulls likely have no basement at all, so nulls in categorical features will move to the bottom of the \n",
    "rank and nulls in numeric features will be filled as 0."
   ]
  },
  {
   "cell_type": "code",
   "execution_count": 59,
   "id": "07737ee6",
   "metadata": {},
   "outputs": [
    {
     "name": "stdout",
     "output_type": "stream",
     "text": [
      "GLQ    615\n",
      "Unf    603\n",
      "ALQ    293\n",
      "BLQ    200\n",
      "Rec    183\n",
      "LwQ    102\n",
      "Name: bsmtfin_type_1, dtype: int64\n",
      "Unf    1749\n",
      "Rec      80\n",
      "LwQ      60\n",
      "BLQ      48\n",
      "ALQ      35\n",
      "GLQ      23\n",
      "Name: bsmtfin_type_2, dtype: int64\n"
     ]
    }
   ],
   "source": [
    "print(df_train['bsmtfin_type_1'].value_counts())\n",
    "print(df_train['bsmtfin_type_2'].value_counts())"
   ]
  },
  {
   "cell_type": "code",
   "execution_count": 60,
   "id": "07a3e584-bd0a-4e2e-a0e3-d9265e108ce1",
   "metadata": {},
   "outputs": [
    {
     "data": {
      "text/html": [
       "<div>\n",
       "<style scoped>\n",
       "    .dataframe tbody tr th:only-of-type {\n",
       "        vertical-align: middle;\n",
       "    }\n",
       "\n",
       "    .dataframe tbody tr th {\n",
       "        vertical-align: top;\n",
       "    }\n",
       "\n",
       "    .dataframe thead th {\n",
       "        text-align: right;\n",
       "    }\n",
       "</style>\n",
       "<table border=\"1\" class=\"dataframe\">\n",
       "  <thead>\n",
       "    <tr style=\"text-align: right;\">\n",
       "      <th></th>\n",
       "      <th>count</th>\n",
       "      <th>mean</th>\n",
       "      <th>std</th>\n",
       "      <th>min</th>\n",
       "      <th>25%</th>\n",
       "      <th>50%</th>\n",
       "      <th>75%</th>\n",
       "      <th>max</th>\n",
       "    </tr>\n",
       "    <tr>\n",
       "      <th>bsmtfin_type_1</th>\n",
       "      <th></th>\n",
       "      <th></th>\n",
       "      <th></th>\n",
       "      <th></th>\n",
       "      <th></th>\n",
       "      <th></th>\n",
       "      <th></th>\n",
       "      <th></th>\n",
       "    </tr>\n",
       "  </thead>\n",
       "  <tbody>\n",
       "    <tr>\n",
       "      <th>ALQ</th>\n",
       "      <td>293.0</td>\n",
       "      <td>164368.017065</td>\n",
       "      <td>50942.184107</td>\n",
       "      <td>79275.0</td>\n",
       "      <td>130500.0</td>\n",
       "      <td>152500.0</td>\n",
       "      <td>180000.0</td>\n",
       "      <td>538000.0</td>\n",
       "    </tr>\n",
       "    <tr>\n",
       "      <th>BLQ</th>\n",
       "      <td>200.0</td>\n",
       "      <td>150107.020000</td>\n",
       "      <td>43436.441698</td>\n",
       "      <td>35311.0</td>\n",
       "      <td>125375.0</td>\n",
       "      <td>142500.0</td>\n",
       "      <td>163750.0</td>\n",
       "      <td>345000.0</td>\n",
       "    </tr>\n",
       "    <tr>\n",
       "      <th>GLQ</th>\n",
       "      <td>615.0</td>\n",
       "      <td>237597.245528</td>\n",
       "      <td>87455.995175</td>\n",
       "      <td>73000.0</td>\n",
       "      <td>177000.0</td>\n",
       "      <td>217000.0</td>\n",
       "      <td>284500.0</td>\n",
       "      <td>611657.0</td>\n",
       "    </tr>\n",
       "    <tr>\n",
       "      <th>LwQ</th>\n",
       "      <td>102.0</td>\n",
       "      <td>153266.921569</td>\n",
       "      <td>51833.183880</td>\n",
       "      <td>61500.0</td>\n",
       "      <td>123125.0</td>\n",
       "      <td>139000.0</td>\n",
       "      <td>171750.0</td>\n",
       "      <td>315000.0</td>\n",
       "    </tr>\n",
       "    <tr>\n",
       "      <th>Rec</th>\n",
       "      <td>183.0</td>\n",
       "      <td>143263.382514</td>\n",
       "      <td>51214.300952</td>\n",
       "      <td>34900.0</td>\n",
       "      <td>120000.0</td>\n",
       "      <td>135000.0</td>\n",
       "      <td>157250.0</td>\n",
       "      <td>584500.0</td>\n",
       "    </tr>\n",
       "    <tr>\n",
       "      <th>Unf</th>\n",
       "      <td>603.0</td>\n",
       "      <td>166155.257048</td>\n",
       "      <td>72618.244750</td>\n",
       "      <td>12789.0</td>\n",
       "      <td>117800.0</td>\n",
       "      <td>155835.0</td>\n",
       "      <td>193500.0</td>\n",
       "      <td>582933.0</td>\n",
       "    </tr>\n",
       "  </tbody>\n",
       "</table>\n",
       "</div>"
      ],
      "text/plain": [
       "                count           mean           std      min       25%  \\\n",
       "bsmtfin_type_1                                                          \n",
       "ALQ             293.0  164368.017065  50942.184107  79275.0  130500.0   \n",
       "BLQ             200.0  150107.020000  43436.441698  35311.0  125375.0   \n",
       "GLQ             615.0  237597.245528  87455.995175  73000.0  177000.0   \n",
       "LwQ             102.0  153266.921569  51833.183880  61500.0  123125.0   \n",
       "Rec             183.0  143263.382514  51214.300952  34900.0  120000.0   \n",
       "Unf             603.0  166155.257048  72618.244750  12789.0  117800.0   \n",
       "\n",
       "                     50%       75%       max  \n",
       "bsmtfin_type_1                                \n",
       "ALQ             152500.0  180000.0  538000.0  \n",
       "BLQ             142500.0  163750.0  345000.0  \n",
       "GLQ             217000.0  284500.0  611657.0  \n",
       "LwQ             139000.0  171750.0  315000.0  \n",
       "Rec             135000.0  157250.0  584500.0  \n",
       "Unf             155835.0  193500.0  582933.0  "
      ]
     },
     "execution_count": 60,
     "metadata": {},
     "output_type": "execute_result"
    }
   ],
   "source": [
    "df_train.groupby(['bsmtfin_type_1'])['saleprice'].describe()"
   ]
  },
  {
   "cell_type": "code",
   "execution_count": 61,
   "id": "ff1ceaa9-8f1e-4a5a-a2dc-ecd2a5a6ea08",
   "metadata": {},
   "outputs": [
    {
     "data": {
      "text/html": [
       "<div>\n",
       "<style scoped>\n",
       "    .dataframe tbody tr th:only-of-type {\n",
       "        vertical-align: middle;\n",
       "    }\n",
       "\n",
       "    .dataframe tbody tr th {\n",
       "        vertical-align: top;\n",
       "    }\n",
       "\n",
       "    .dataframe thead th {\n",
       "        text-align: right;\n",
       "    }\n",
       "</style>\n",
       "<table border=\"1\" class=\"dataframe\">\n",
       "  <thead>\n",
       "    <tr style=\"text-align: right;\">\n",
       "      <th></th>\n",
       "      <th>count</th>\n",
       "      <th>mean</th>\n",
       "      <th>std</th>\n",
       "      <th>min</th>\n",
       "      <th>25%</th>\n",
       "      <th>50%</th>\n",
       "      <th>75%</th>\n",
       "      <th>max</th>\n",
       "    </tr>\n",
       "    <tr>\n",
       "      <th>bsmtfin_type_2</th>\n",
       "      <th></th>\n",
       "      <th></th>\n",
       "      <th></th>\n",
       "      <th></th>\n",
       "      <th></th>\n",
       "      <th></th>\n",
       "      <th></th>\n",
       "      <th></th>\n",
       "    </tr>\n",
       "  </thead>\n",
       "  <tbody>\n",
       "    <tr>\n",
       "      <th>ALQ</th>\n",
       "      <td>35.0</td>\n",
       "      <td>188567.142857</td>\n",
       "      <td>91516.726969</td>\n",
       "      <td>99500.0</td>\n",
       "      <td>129100.0</td>\n",
       "      <td>162000.0</td>\n",
       "      <td>212750.00</td>\n",
       "      <td>555000.0</td>\n",
       "    </tr>\n",
       "    <tr>\n",
       "      <th>BLQ</th>\n",
       "      <td>48.0</td>\n",
       "      <td>156659.020833</td>\n",
       "      <td>55564.508874</td>\n",
       "      <td>62383.0</td>\n",
       "      <td>124875.0</td>\n",
       "      <td>140500.0</td>\n",
       "      <td>174625.00</td>\n",
       "      <td>417500.0</td>\n",
       "    </tr>\n",
       "    <tr>\n",
       "      <th>GLQ</th>\n",
       "      <td>23.0</td>\n",
       "      <td>221300.000000</td>\n",
       "      <td>103403.449696</td>\n",
       "      <td>84500.0</td>\n",
       "      <td>150450.0</td>\n",
       "      <td>217500.0</td>\n",
       "      <td>255750.00</td>\n",
       "      <td>584500.0</td>\n",
       "    </tr>\n",
       "    <tr>\n",
       "      <th>LwQ</th>\n",
       "      <td>60.0</td>\n",
       "      <td>162284.583333</td>\n",
       "      <td>42446.920765</td>\n",
       "      <td>88000.0</td>\n",
       "      <td>135500.0</td>\n",
       "      <td>154000.0</td>\n",
       "      <td>178468.75</td>\n",
       "      <td>287000.0</td>\n",
       "    </tr>\n",
       "    <tr>\n",
       "      <th>Rec</th>\n",
       "      <td>80.0</td>\n",
       "      <td>164538.750000</td>\n",
       "      <td>54047.229097</td>\n",
       "      <td>85000.0</td>\n",
       "      <td>134100.0</td>\n",
       "      <td>151750.0</td>\n",
       "      <td>174212.50</td>\n",
       "      <td>402000.0</td>\n",
       "    </tr>\n",
       "    <tr>\n",
       "      <th>Unf</th>\n",
       "      <td>1749.0</td>\n",
       "      <td>185221.284162</td>\n",
       "      <td>80445.614944</td>\n",
       "      <td>12789.0</td>\n",
       "      <td>130000.0</td>\n",
       "      <td>167000.0</td>\n",
       "      <td>219000.00</td>\n",
       "      <td>611657.0</td>\n",
       "    </tr>\n",
       "  </tbody>\n",
       "</table>\n",
       "</div>"
      ],
      "text/plain": [
       "                 count           mean            std      min       25%  \\\n",
       "bsmtfin_type_2                                                            \n",
       "ALQ               35.0  188567.142857   91516.726969  99500.0  129100.0   \n",
       "BLQ               48.0  156659.020833   55564.508874  62383.0  124875.0   \n",
       "GLQ               23.0  221300.000000  103403.449696  84500.0  150450.0   \n",
       "LwQ               60.0  162284.583333   42446.920765  88000.0  135500.0   \n",
       "Rec               80.0  164538.750000   54047.229097  85000.0  134100.0   \n",
       "Unf             1749.0  185221.284162   80445.614944  12789.0  130000.0   \n",
       "\n",
       "                     50%        75%       max  \n",
       "bsmtfin_type_2                                 \n",
       "ALQ             162000.0  212750.00  555000.0  \n",
       "BLQ             140500.0  174625.00  417500.0  \n",
       "GLQ             217500.0  255750.00  584500.0  \n",
       "LwQ             154000.0  178468.75  287000.0  \n",
       "Rec             151750.0  174212.50  402000.0  \n",
       "Unf             167000.0  219000.00  611657.0  "
      ]
     },
     "execution_count": 61,
     "metadata": {},
     "output_type": "execute_result"
    }
   ],
   "source": [
    "df_train.groupby(['bsmtfin_type_2'])['saleprice'].describe()"
   ]
  },
  {
   "cell_type": "code",
   "execution_count": 62,
   "id": "ab626612",
   "metadata": {},
   "outputs": [],
   "source": [
    "for col in ['bsmtfin_type_1','bsmtfin_type_2']:\n",
    "    df_train[col].fillna('NONE',inplace=True)\n",
    "    df_test[col].fillna('NONE',inplace=True)"
   ]
  },
  {
   "cell_type": "code",
   "execution_count": 63,
   "id": "0a07a1f7",
   "metadata": {
    "scrolled": true
   },
   "outputs": [],
   "source": [
    "for col in ['bsmtfin_type_1','bsmtfin_type_2']:\n",
    "    for df in [df_train,df_test]:\n",
    "        df[col].replace({'NONE':0,'NA':0,'Unf':1,'LwQ':2,'Rec':3,'BLQ':4,'ALQ':5,'GLQ':6},inplace=True)"
   ]
  },
  {
   "cell_type": "code",
   "execution_count": 64,
   "id": "9bf41bb6",
   "metadata": {},
   "outputs": [
    {
     "data": {
      "text/html": [
       "<div>\n",
       "<style scoped>\n",
       "    .dataframe tbody tr th:only-of-type {\n",
       "        vertical-align: middle;\n",
       "    }\n",
       "\n",
       "    .dataframe tbody tr th {\n",
       "        vertical-align: top;\n",
       "    }\n",
       "\n",
       "    .dataframe thead th {\n",
       "        text-align: right;\n",
       "    }\n",
       "</style>\n",
       "<table border=\"1\" class=\"dataframe\">\n",
       "  <thead>\n",
       "    <tr style=\"text-align: right;\">\n",
       "      <th></th>\n",
       "      <th>bsmt_full_bath</th>\n",
       "      <th>bsmt_half_bath</th>\n",
       "      <th>bsmtfin_sf_1</th>\n",
       "      <th>bsmt_unf_sf</th>\n",
       "      <th>bsmtfin_sf_2</th>\n",
       "      <th>total_bsmt_sf</th>\n",
       "    </tr>\n",
       "  </thead>\n",
       "  <tbody>\n",
       "    <tr>\n",
       "      <th>616</th>\n",
       "      <td>NaN</td>\n",
       "      <td>NaN</td>\n",
       "      <td>0.0</td>\n",
       "      <td>0.0</td>\n",
       "      <td>0.0</td>\n",
       "      <td>0.0</td>\n",
       "    </tr>\n",
       "    <tr>\n",
       "      <th>1327</th>\n",
       "      <td>NaN</td>\n",
       "      <td>NaN</td>\n",
       "      <td>NaN</td>\n",
       "      <td>NaN</td>\n",
       "      <td>NaN</td>\n",
       "      <td>NaN</td>\n",
       "    </tr>\n",
       "  </tbody>\n",
       "</table>\n",
       "</div>"
      ],
      "text/plain": [
       "      bsmt_full_bath  bsmt_half_bath  bsmtfin_sf_1  bsmt_unf_sf  bsmtfin_sf_2  \\\n",
       "616              NaN             NaN           0.0          0.0           0.0   \n",
       "1327             NaN             NaN           NaN          NaN           NaN   \n",
       "\n",
       "      total_bsmt_sf  \n",
       "616             0.0  \n",
       "1327            NaN  "
      ]
     },
     "execution_count": 64,
     "metadata": {},
     "output_type": "execute_result"
    }
   ],
   "source": [
    "df_train.loc[[616,1327],['bsmt_full_bath','bsmt_half_bath','bsmtfin_sf_1','bsmt_unf_sf','bsmtfin_sf_2','total_bsmt_sf']]"
   ]
  },
  {
   "cell_type": "code",
   "execution_count": 65,
   "id": "27046adb",
   "metadata": {},
   "outputs": [],
   "source": [
    "for col in ['bsmt_full_bath','bsmt_half_bath','bsmtfin_sf_1','bsmt_unf_sf','bsmtfin_sf_2','total_bsmt_sf']:\n",
    "    df_train[col].fillna(0,inplace=True)\n",
    "    df_test[col].fillna(0,inplace=True)"
   ]
  },
  {
   "cell_type": "markdown",
   "id": "3d55f346",
   "metadata": {},
   "source": [
    "Basement exposure is ordinal."
   ]
  },
  {
   "cell_type": "code",
   "execution_count": 66,
   "id": "67ec04aa",
   "metadata": {},
   "outputs": [],
   "source": [
    "df_train['bsmt_exposure'].replace({'NONE':0,'No':0,'Mn':1,'Av':2,'Gd':3},inplace=True)\n",
    "df_test['bsmt_exposure'].replace({'NONE':0,'No':0,'Mn':1,'Av':2,'Gd':3},inplace=True)"
   ]
  },
  {
   "cell_type": "markdown",
   "id": "207e5982",
   "metadata": {},
   "source": [
    "## Garage"
   ]
  },
  {
   "cell_type": "markdown",
   "id": "2199284e",
   "metadata": {},
   "source": [
    "Same logic as basement.  One-hot encoding for categoricals.  Assume that missing values\n",
    "do not have a garage - bottom of the list if ordinal, and 0 if numeric."
   ]
  },
  {
   "cell_type": "code",
   "execution_count": 67,
   "id": "891234f7",
   "metadata": {},
   "outputs": [
    {
     "data": {
      "text/plain": [
       "Attchd     1213\n",
       "Detchd      536\n",
       "BuiltIn     132\n",
       "Basment      27\n",
       "2Types       19\n",
       "CarPort      11\n",
       "Name: garage_type, dtype: int64"
      ]
     },
     "execution_count": 67,
     "metadata": {},
     "output_type": "execute_result"
    }
   ],
   "source": [
    "df_train['garage_type'].value_counts()"
   ]
  },
  {
   "cell_type": "code",
   "execution_count": 68,
   "id": "91eedbcd-fe07-48c8-9764-f35d11e595fd",
   "metadata": {},
   "outputs": [
    {
     "data": {
      "text/html": [
       "<div>\n",
       "<style scoped>\n",
       "    .dataframe tbody tr th:only-of-type {\n",
       "        vertical-align: middle;\n",
       "    }\n",
       "\n",
       "    .dataframe tbody tr th {\n",
       "        vertical-align: top;\n",
       "    }\n",
       "\n",
       "    .dataframe thead th {\n",
       "        text-align: right;\n",
       "    }\n",
       "</style>\n",
       "<table border=\"1\" class=\"dataframe\">\n",
       "  <thead>\n",
       "    <tr style=\"text-align: right;\">\n",
       "      <th></th>\n",
       "      <th>count</th>\n",
       "      <th>mean</th>\n",
       "      <th>std</th>\n",
       "      <th>min</th>\n",
       "      <th>25%</th>\n",
       "      <th>50%</th>\n",
       "      <th>75%</th>\n",
       "      <th>max</th>\n",
       "    </tr>\n",
       "    <tr>\n",
       "      <th>garage_type</th>\n",
       "      <th></th>\n",
       "      <th></th>\n",
       "      <th></th>\n",
       "      <th></th>\n",
       "      <th></th>\n",
       "      <th></th>\n",
       "      <th></th>\n",
       "      <th></th>\n",
       "    </tr>\n",
       "  </thead>\n",
       "  <tbody>\n",
       "    <tr>\n",
       "      <th>2Types</th>\n",
       "      <td>19.0</td>\n",
       "      <td>157184.210526</td>\n",
       "      <td>33828.017040</td>\n",
       "      <td>87000.0</td>\n",
       "      <td>143050.00</td>\n",
       "      <td>150000.0</td>\n",
       "      <td>170500.0</td>\n",
       "      <td>235000.0</td>\n",
       "    </tr>\n",
       "    <tr>\n",
       "      <th>Attchd</th>\n",
       "      <td>1213.0</td>\n",
       "      <td>205040.195383</td>\n",
       "      <td>76940.432090</td>\n",
       "      <td>13100.0</td>\n",
       "      <td>150000.00</td>\n",
       "      <td>185850.0</td>\n",
       "      <td>238500.0</td>\n",
       "      <td>611657.0</td>\n",
       "    </tr>\n",
       "    <tr>\n",
       "      <th>Basment</th>\n",
       "      <td>27.0</td>\n",
       "      <td>143242.333333</td>\n",
       "      <td>39079.659751</td>\n",
       "      <td>55993.0</td>\n",
       "      <td>122875.00</td>\n",
       "      <td>145000.0</td>\n",
       "      <td>159000.0</td>\n",
       "      <td>235000.0</td>\n",
       "    </tr>\n",
       "    <tr>\n",
       "      <th>BuiltIn</th>\n",
       "      <td>132.0</td>\n",
       "      <td>247883.522727</td>\n",
       "      <td>99764.995090</td>\n",
       "      <td>91000.0</td>\n",
       "      <td>176954.25</td>\n",
       "      <td>221900.0</td>\n",
       "      <td>292809.0</td>\n",
       "      <td>582933.0</td>\n",
       "    </tr>\n",
       "    <tr>\n",
       "      <th>CarPort</th>\n",
       "      <td>11.0</td>\n",
       "      <td>103823.545455</td>\n",
       "      <td>19675.502999</td>\n",
       "      <td>82000.0</td>\n",
       "      <td>89375.00</td>\n",
       "      <td>101800.0</td>\n",
       "      <td>108479.5</td>\n",
       "      <td>148000.0</td>\n",
       "    </tr>\n",
       "    <tr>\n",
       "      <th>Detchd</th>\n",
       "      <td>536.0</td>\n",
       "      <td>132132.947761</td>\n",
       "      <td>40575.547690</td>\n",
       "      <td>12789.0</td>\n",
       "      <td>110000.00</td>\n",
       "      <td>129500.0</td>\n",
       "      <td>147425.0</td>\n",
       "      <td>475000.0</td>\n",
       "    </tr>\n",
       "  </tbody>\n",
       "</table>\n",
       "</div>"
      ],
      "text/plain": [
       "              count           mean           std      min        25%  \\\n",
       "garage_type                                                            \n",
       "2Types         19.0  157184.210526  33828.017040  87000.0  143050.00   \n",
       "Attchd       1213.0  205040.195383  76940.432090  13100.0  150000.00   \n",
       "Basment        27.0  143242.333333  39079.659751  55993.0  122875.00   \n",
       "BuiltIn       132.0  247883.522727  99764.995090  91000.0  176954.25   \n",
       "CarPort        11.0  103823.545455  19675.502999  82000.0   89375.00   \n",
       "Detchd        536.0  132132.947761  40575.547690  12789.0  110000.00   \n",
       "\n",
       "                  50%       75%       max  \n",
       "garage_type                                \n",
       "2Types       150000.0  170500.0  235000.0  \n",
       "Attchd       185850.0  238500.0  611657.0  \n",
       "Basment      145000.0  159000.0  235000.0  \n",
       "BuiltIn      221900.0  292809.0  582933.0  \n",
       "CarPort      101800.0  108479.5  148000.0  \n",
       "Detchd       129500.0  147425.0  475000.0  "
      ]
     },
     "execution_count": 68,
     "metadata": {},
     "output_type": "execute_result"
    }
   ],
   "source": [
    "df_train.groupby(['garage_type'])['saleprice'].describe()"
   ]
  },
  {
   "cell_type": "code",
   "execution_count": 69,
   "id": "1a35ebf1-57f5-4cbd-a2fc-04c596a5c838",
   "metadata": {},
   "outputs": [],
   "source": [
    "df_train['garage_type'].fillna('NONE',inplace=True)\n",
    "df_test['garage_type'].fillna('NONE',inplace=True)"
   ]
  },
  {
   "cell_type": "code",
   "execution_count": 70,
   "id": "16842def",
   "metadata": {},
   "outputs": [
    {
     "data": {
      "text/html": [
       "<div>\n",
       "<style scoped>\n",
       "    .dataframe tbody tr th:only-of-type {\n",
       "        vertical-align: middle;\n",
       "    }\n",
       "\n",
       "    .dataframe tbody tr th {\n",
       "        vertical-align: top;\n",
       "    }\n",
       "\n",
       "    .dataframe thead th {\n",
       "        text-align: right;\n",
       "    }\n",
       "</style>\n",
       "<table border=\"1\" class=\"dataframe\">\n",
       "  <thead>\n",
       "    <tr style=\"text-align: right;\">\n",
       "      <th></th>\n",
       "      <th>count</th>\n",
       "      <th>mean</th>\n",
       "      <th>std</th>\n",
       "      <th>min</th>\n",
       "      <th>25%</th>\n",
       "      <th>50%</th>\n",
       "      <th>75%</th>\n",
       "      <th>max</th>\n",
       "    </tr>\n",
       "    <tr>\n",
       "      <th>garage_yr_blt</th>\n",
       "      <th></th>\n",
       "      <th></th>\n",
       "      <th></th>\n",
       "      <th></th>\n",
       "      <th></th>\n",
       "      <th></th>\n",
       "      <th></th>\n",
       "      <th></th>\n",
       "    </tr>\n",
       "  </thead>\n",
       "  <tbody>\n",
       "    <tr>\n",
       "      <th>1895.0</th>\n",
       "      <td>1.0</td>\n",
       "      <td>89000.000000</td>\n",
       "      <td>NaN</td>\n",
       "      <td>89000.0</td>\n",
       "      <td>89000.00</td>\n",
       "      <td>89000.0</td>\n",
       "      <td>89000.00</td>\n",
       "      <td>89000.0</td>\n",
       "    </tr>\n",
       "    <tr>\n",
       "      <th>1896.0</th>\n",
       "      <td>1.0</td>\n",
       "      <td>50138.000000</td>\n",
       "      <td>NaN</td>\n",
       "      <td>50138.0</td>\n",
       "      <td>50138.00</td>\n",
       "      <td>50138.0</td>\n",
       "      <td>50138.00</td>\n",
       "      <td>50138.0</td>\n",
       "    </tr>\n",
       "    <tr>\n",
       "      <th>1900.0</th>\n",
       "      <td>3.0</td>\n",
       "      <td>128966.666667</td>\n",
       "      <td>41087.751622</td>\n",
       "      <td>86900.0</td>\n",
       "      <td>108950.00</td>\n",
       "      <td>131000.0</td>\n",
       "      <td>150000.00</td>\n",
       "      <td>169000.0</td>\n",
       "    </tr>\n",
       "    <tr>\n",
       "      <th>1910.0</th>\n",
       "      <td>5.0</td>\n",
       "      <td>105300.000000</td>\n",
       "      <td>32774.990465</td>\n",
       "      <td>50000.0</td>\n",
       "      <td>106000.00</td>\n",
       "      <td>111000.0</td>\n",
       "      <td>127500.00</td>\n",
       "      <td>132000.0</td>\n",
       "    </tr>\n",
       "    <tr>\n",
       "      <th>1914.0</th>\n",
       "      <td>2.0</td>\n",
       "      <td>150943.500000</td>\n",
       "      <td>17050.465815</td>\n",
       "      <td>138887.0</td>\n",
       "      <td>144915.25</td>\n",
       "      <td>150943.5</td>\n",
       "      <td>156971.75</td>\n",
       "      <td>163000.0</td>\n",
       "    </tr>\n",
       "    <tr>\n",
       "      <th>...</th>\n",
       "      <td>...</td>\n",
       "      <td>...</td>\n",
       "      <td>...</td>\n",
       "      <td>...</td>\n",
       "      <td>...</td>\n",
       "      <td>...</td>\n",
       "      <td>...</td>\n",
       "      <td>...</td>\n",
       "    </tr>\n",
       "    <tr>\n",
       "      <th>2007.0</th>\n",
       "      <td>84.0</td>\n",
       "      <td>250276.630952</td>\n",
       "      <td>80992.649723</td>\n",
       "      <td>112000.0</td>\n",
       "      <td>181938.75</td>\n",
       "      <td>235063.0</td>\n",
       "      <td>297437.75</td>\n",
       "      <td>500067.0</td>\n",
       "    </tr>\n",
       "    <tr>\n",
       "      <th>2008.0</th>\n",
       "      <td>44.0</td>\n",
       "      <td>299296.727273</td>\n",
       "      <td>97265.344742</td>\n",
       "      <td>127500.0</td>\n",
       "      <td>228600.00</td>\n",
       "      <td>290083.5</td>\n",
       "      <td>368212.25</td>\n",
       "      <td>555000.0</td>\n",
       "    </tr>\n",
       "    <tr>\n",
       "      <th>2009.0</th>\n",
       "      <td>17.0</td>\n",
       "      <td>339983.941176</td>\n",
       "      <td>136114.059595</td>\n",
       "      <td>173733.0</td>\n",
       "      <td>222000.00</td>\n",
       "      <td>308030.0</td>\n",
       "      <td>398800.00</td>\n",
       "      <td>611657.0</td>\n",
       "    </tr>\n",
       "    <tr>\n",
       "      <th>2010.0</th>\n",
       "      <td>2.0</td>\n",
       "      <td>223848.500000</td>\n",
       "      <td>62320.856160</td>\n",
       "      <td>179781.0</td>\n",
       "      <td>201814.75</td>\n",
       "      <td>223848.5</td>\n",
       "      <td>245882.25</td>\n",
       "      <td>267916.0</td>\n",
       "    </tr>\n",
       "    <tr>\n",
       "      <th>2207.0</th>\n",
       "      <td>1.0</td>\n",
       "      <td>267300.000000</td>\n",
       "      <td>NaN</td>\n",
       "      <td>267300.0</td>\n",
       "      <td>267300.00</td>\n",
       "      <td>267300.0</td>\n",
       "      <td>267300.00</td>\n",
       "      <td>267300.0</td>\n",
       "    </tr>\n",
       "  </tbody>\n",
       "</table>\n",
       "<p>100 rows × 8 columns</p>\n",
       "</div>"
      ],
      "text/plain": [
       "               count           mean            std       min        25%  \\\n",
       "garage_yr_blt                                                             \n",
       "1895.0           1.0   89000.000000            NaN   89000.0   89000.00   \n",
       "1896.0           1.0   50138.000000            NaN   50138.0   50138.00   \n",
       "1900.0           3.0  128966.666667   41087.751622   86900.0  108950.00   \n",
       "1910.0           5.0  105300.000000   32774.990465   50000.0  106000.00   \n",
       "1914.0           2.0  150943.500000   17050.465815  138887.0  144915.25   \n",
       "...              ...            ...            ...       ...        ...   \n",
       "2007.0          84.0  250276.630952   80992.649723  112000.0  181938.75   \n",
       "2008.0          44.0  299296.727273   97265.344742  127500.0  228600.00   \n",
       "2009.0          17.0  339983.941176  136114.059595  173733.0  222000.00   \n",
       "2010.0           2.0  223848.500000   62320.856160  179781.0  201814.75   \n",
       "2207.0           1.0  267300.000000            NaN  267300.0  267300.00   \n",
       "\n",
       "                    50%        75%       max  \n",
       "garage_yr_blt                                 \n",
       "1895.0          89000.0   89000.00   89000.0  \n",
       "1896.0          50138.0   50138.00   50138.0  \n",
       "1900.0         131000.0  150000.00  169000.0  \n",
       "1910.0         111000.0  127500.00  132000.0  \n",
       "1914.0         150943.5  156971.75  163000.0  \n",
       "...                 ...        ...       ...  \n",
       "2007.0         235063.0  297437.75  500067.0  \n",
       "2008.0         290083.5  368212.25  555000.0  \n",
       "2009.0         308030.0  398800.00  611657.0  \n",
       "2010.0         223848.5  245882.25  267916.0  \n",
       "2207.0         267300.0  267300.00  267300.0  \n",
       "\n",
       "[100 rows x 8 columns]"
      ]
     },
     "execution_count": 70,
     "metadata": {},
     "output_type": "execute_result"
    }
   ],
   "source": [
    "df_train.groupby(['garage_yr_blt'])['saleprice'].describe()"
   ]
  },
  {
   "cell_type": "code",
   "execution_count": 71,
   "id": "45365c09",
   "metadata": {
    "scrolled": true
   },
   "outputs": [
    {
     "data": {
      "text/plain": [
       "2005.0    105\n",
       "2007.0     84\n",
       "2006.0     80\n",
       "2004.0     72\n",
       "2003.0     66\n",
       "1977.0     46\n",
       "1998.0     45\n",
       "2008.0     44\n",
       "2000.0     41\n",
       "2002.0     40\n",
       "1999.0     39\n",
       "1976.0     35\n",
       "1993.0     34\n",
       "1978.0     33\n",
       "1950.0     32\n",
       "1958.0     32\n",
       "1968.0     32\n",
       "1956.0     31\n",
       "1996.0     31\n",
       "1966.0     29\n",
       "2001.0     27\n",
       "1965.0     27\n",
       "1997.0     26\n",
       "1967.0     26\n",
       "1995.0     26\n",
       "1994.0     25\n",
       "1979.0     25\n",
       "1964.0     25\n",
       "1954.0     25\n",
       "1975.0     25\n",
       "1962.0     25\n",
       "1959.0     23\n",
       "1963.0     22\n",
       "1980.0     22\n",
       "1992.0     22\n",
       "1990.0     21\n",
       "1920.0     21\n",
       "1960.0     21\n",
       "1970.0     20\n",
       "1957.0     20\n",
       "1973.0     20\n",
       "1930.0     20\n",
       "1940.0     20\n",
       "1961.0     20\n",
       "1974.0     19\n",
       "1953.0     19\n",
       "1971.0     18\n",
       "1969.0     18\n",
       "1972.0     17\n",
       "2009.0     17\n",
       "Name: garage_yr_blt, dtype: int64"
      ]
     },
     "execution_count": 71,
     "metadata": {},
     "output_type": "execute_result"
    }
   ],
   "source": [
    "df_train['garage_yr_blt'].value_counts().head(50)"
   ]
  },
  {
   "cell_type": "code",
   "execution_count": 72,
   "id": "769f6433",
   "metadata": {},
   "outputs": [],
   "source": [
    "df_train['garage_yr_blt'].fillna(0,inplace=True)\n",
    "df_test['garage_yr_blt'].fillna(0,inplace=True)"
   ]
  },
  {
   "cell_type": "markdown",
   "id": "27468470",
   "metadata": {},
   "source": [
    "### -- Garage Finish"
   ]
  },
  {
   "cell_type": "code",
   "execution_count": 73,
   "id": "8c21c5a5",
   "metadata": {
    "scrolled": false
   },
   "outputs": [
    {
     "data": {
      "text/html": [
       "<div>\n",
       "<style scoped>\n",
       "    .dataframe tbody tr th:only-of-type {\n",
       "        vertical-align: middle;\n",
       "    }\n",
       "\n",
       "    .dataframe tbody tr th {\n",
       "        vertical-align: top;\n",
       "    }\n",
       "\n",
       "    .dataframe thead th {\n",
       "        text-align: right;\n",
       "    }\n",
       "</style>\n",
       "<table border=\"1\" class=\"dataframe\">\n",
       "  <thead>\n",
       "    <tr style=\"text-align: right;\">\n",
       "      <th></th>\n",
       "      <th>count</th>\n",
       "      <th>mean</th>\n",
       "      <th>std</th>\n",
       "      <th>min</th>\n",
       "      <th>25%</th>\n",
       "      <th>50%</th>\n",
       "      <th>75%</th>\n",
       "      <th>max</th>\n",
       "    </tr>\n",
       "    <tr>\n",
       "      <th>garage_finish</th>\n",
       "      <th></th>\n",
       "      <th></th>\n",
       "      <th></th>\n",
       "      <th></th>\n",
       "      <th></th>\n",
       "      <th></th>\n",
       "      <th></th>\n",
       "      <th></th>\n",
       "    </tr>\n",
       "  </thead>\n",
       "  <tbody>\n",
       "    <tr>\n",
       "      <th>Fin</th>\n",
       "      <td>509.0</td>\n",
       "      <td>239800.664047</td>\n",
       "      <td>90474.520620</td>\n",
       "      <td>102900.0</td>\n",
       "      <td>175000.0</td>\n",
       "      <td>215000.0</td>\n",
       "      <td>287000.0</td>\n",
       "      <td>611657.0</td>\n",
       "    </tr>\n",
       "    <tr>\n",
       "      <th>RFn</th>\n",
       "      <td>579.0</td>\n",
       "      <td>204792.036269</td>\n",
       "      <td>69739.691832</td>\n",
       "      <td>50138.0</td>\n",
       "      <td>156250.0</td>\n",
       "      <td>190550.0</td>\n",
       "      <td>235064.0</td>\n",
       "      <td>584500.0</td>\n",
       "    </tr>\n",
       "    <tr>\n",
       "      <th>Unf</th>\n",
       "      <td>849.0</td>\n",
       "      <td>140718.148410</td>\n",
       "      <td>44434.590021</td>\n",
       "      <td>12789.0</td>\n",
       "      <td>115400.0</td>\n",
       "      <td>135000.0</td>\n",
       "      <td>157000.0</td>\n",
       "      <td>475000.0</td>\n",
       "    </tr>\n",
       "  </tbody>\n",
       "</table>\n",
       "</div>"
      ],
      "text/plain": [
       "               count           mean           std       min       25%  \\\n",
       "garage_finish                                                           \n",
       "Fin            509.0  239800.664047  90474.520620  102900.0  175000.0   \n",
       "RFn            579.0  204792.036269  69739.691832   50138.0  156250.0   \n",
       "Unf            849.0  140718.148410  44434.590021   12789.0  115400.0   \n",
       "\n",
       "                    50%       75%       max  \n",
       "garage_finish                                \n",
       "Fin            215000.0  287000.0  611657.0  \n",
       "RFn            190550.0  235064.0  584500.0  \n",
       "Unf            135000.0  157000.0  475000.0  "
      ]
     },
     "execution_count": 73,
     "metadata": {},
     "output_type": "execute_result"
    }
   ],
   "source": [
    "df_train.groupby(['garage_finish'])['saleprice'].describe()"
   ]
  },
  {
   "cell_type": "markdown",
   "id": "d7eef1c1",
   "metadata": {},
   "source": [
    "This category is ordinal.  Nulls have no garage."
   ]
  },
  {
   "cell_type": "code",
   "execution_count": 74,
   "id": "e5c75ff3",
   "metadata": {},
   "outputs": [],
   "source": [
    "df_train['garage_finish'].fillna(0,inplace=True)\n",
    "df_test['garage_finish'].fillna(0,inplace=True)"
   ]
  },
  {
   "cell_type": "code",
   "execution_count": 75,
   "id": "a6232971",
   "metadata": {},
   "outputs": [],
   "source": [
    "df_train['garage_finish'].replace({'None':0,'Unf':1,'RFn':2,'Fin':3},inplace=True)\n",
    "df_test['garage_finish'].replace({'None':0,'Unf':1,'RFn':2,'Fin':3},inplace=True)"
   ]
  },
  {
   "cell_type": "markdown",
   "id": "7deca767",
   "metadata": {},
   "source": [
    "### -- Garage Area/Cars"
   ]
  },
  {
   "cell_type": "markdown",
   "id": "c1eb4aae",
   "metadata": {},
   "source": [
    "One house has a detached garage, with null area and number of cars.\n",
    "We can impute values based on the mean area and cars for detached garages."
   ]
  },
  {
   "cell_type": "code",
   "execution_count": 76,
   "id": "d3543362",
   "metadata": {},
   "outputs": [
    {
     "data": {
      "text/html": [
       "<div>\n",
       "<style scoped>\n",
       "    .dataframe tbody tr th:only-of-type {\n",
       "        vertical-align: middle;\n",
       "    }\n",
       "\n",
       "    .dataframe tbody tr th {\n",
       "        vertical-align: top;\n",
       "    }\n",
       "\n",
       "    .dataframe thead th {\n",
       "        text-align: right;\n",
       "    }\n",
       "</style>\n",
       "<table border=\"1\" class=\"dataframe\">\n",
       "  <thead>\n",
       "    <tr style=\"text-align: right;\">\n",
       "      <th></th>\n",
       "      <th>garage_cars</th>\n",
       "      <th>garage_type</th>\n",
       "    </tr>\n",
       "  </thead>\n",
       "  <tbody>\n",
       "    <tr>\n",
       "      <th>1712</th>\n",
       "      <td>NaN</td>\n",
       "      <td>Detchd</td>\n",
       "    </tr>\n",
       "  </tbody>\n",
       "</table>\n",
       "</div>"
      ],
      "text/plain": [
       "      garage_cars garage_type\n",
       "1712          NaN      Detchd"
      ]
     },
     "execution_count": 76,
     "metadata": {},
     "output_type": "execute_result"
    }
   ],
   "source": [
    "df_train.loc[df_train['garage_area'].isnull() == True,['garage_cars','garage_type']]"
   ]
  },
  {
   "cell_type": "code",
   "execution_count": 77,
   "id": "5b08a990",
   "metadata": {},
   "outputs": [
    {
     "data": {
      "text/html": [
       "<div>\n",
       "<style scoped>\n",
       "    .dataframe tbody tr th:only-of-type {\n",
       "        vertical-align: middle;\n",
       "    }\n",
       "\n",
       "    .dataframe tbody tr th {\n",
       "        vertical-align: top;\n",
       "    }\n",
       "\n",
       "    .dataframe thead th {\n",
       "        text-align: right;\n",
       "    }\n",
       "</style>\n",
       "<table border=\"1\" class=\"dataframe\">\n",
       "  <thead>\n",
       "    <tr style=\"text-align: right;\">\n",
       "      <th></th>\n",
       "      <th>garage_area</th>\n",
       "      <th>garage_cars</th>\n",
       "    </tr>\n",
       "    <tr>\n",
       "      <th>garage_type</th>\n",
       "      <th></th>\n",
       "      <th></th>\n",
       "    </tr>\n",
       "  </thead>\n",
       "  <tbody>\n",
       "    <tr>\n",
       "      <th>2Types</th>\n",
       "      <td>799.210526</td>\n",
       "      <td>2.842105</td>\n",
       "    </tr>\n",
       "    <tr>\n",
       "      <th>Attchd</th>\n",
       "      <td>527.614180</td>\n",
       "      <td>1.968673</td>\n",
       "    </tr>\n",
       "    <tr>\n",
       "      <th>Basment</th>\n",
       "      <td>435.592593</td>\n",
       "      <td>1.555556</td>\n",
       "    </tr>\n",
       "    <tr>\n",
       "      <th>BuiltIn</th>\n",
       "      <td>567.681818</td>\n",
       "      <td>2.318182</td>\n",
       "    </tr>\n",
       "    <tr>\n",
       "      <th>CarPort</th>\n",
       "      <td>426.818182</td>\n",
       "      <td>1.636364</td>\n",
       "    </tr>\n",
       "    <tr>\n",
       "      <th>Detchd</th>\n",
       "      <td>419.543925</td>\n",
       "      <td>1.558879</td>\n",
       "    </tr>\n",
       "    <tr>\n",
       "      <th>NONE</th>\n",
       "      <td>0.000000</td>\n",
       "      <td>0.000000</td>\n",
       "    </tr>\n",
       "  </tbody>\n",
       "</table>\n",
       "</div>"
      ],
      "text/plain": [
       "             garage_area  garage_cars\n",
       "garage_type                          \n",
       "2Types        799.210526     2.842105\n",
       "Attchd        527.614180     1.968673\n",
       "Basment       435.592593     1.555556\n",
       "BuiltIn       567.681818     2.318182\n",
       "CarPort       426.818182     1.636364\n",
       "Detchd        419.543925     1.558879\n",
       "NONE            0.000000     0.000000"
      ]
     },
     "execution_count": 77,
     "metadata": {},
     "output_type": "execute_result"
    }
   ],
   "source": [
    "df_train.groupby('garage_type')[['garage_area','garage_cars']].mean()"
   ]
  },
  {
   "cell_type": "code",
   "execution_count": 78,
   "id": "0064d20d",
   "metadata": {},
   "outputs": [
    {
     "data": {
      "text/plain": [
       "garage_type  garage_cars\n",
       "2Types       3.0             10\n",
       "             2.0              6\n",
       "             4.0              3\n",
       "Attchd       2.0            768\n",
       "             1.0            244\n",
       "             3.0            196\n",
       "             4.0              5\n",
       "Basment      2.0             15\n",
       "             1.0             12\n",
       "BuiltIn      2.0             69\n",
       "             3.0             48\n",
       "             1.0             12\n",
       "             4.0              3\n",
       "CarPort      1.0              5\n",
       "             2.0              5\n",
       "             3.0              1\n",
       "Detchd       2.0            273\n",
       "             1.0            251\n",
       "             3.0              8\n",
       "             4.0              2\n",
       "             5.0              1\n",
       "NONE         0.0            113\n",
       "Name: garage_cars, dtype: int64"
      ]
     },
     "execution_count": 78,
     "metadata": {},
     "output_type": "execute_result"
    }
   ],
   "source": [
    "df_train.groupby('garage_type')['garage_cars'].value_counts()"
   ]
  },
  {
   "cell_type": "markdown",
   "id": "904b1a1c",
   "metadata": {},
   "source": [
    "Number of cars in a garage is discrete.  It is tempting to impute the mean of 1.55, \n",
    "but the proper approach is to round to the nearest discrete value."
   ]
  },
  {
   "cell_type": "code",
   "execution_count": 79,
   "id": "c6c68cc1",
   "metadata": {},
   "outputs": [],
   "source": [
    "df_train.loc[1712,['garage_area','garage_cars']] = [419.54,2]"
   ]
  },
  {
   "cell_type": "markdown",
   "id": "cbf49d48",
   "metadata": {},
   "source": [
    "## Fence/Miscellaneous"
   ]
  },
  {
   "cell_type": "markdown",
   "id": "3249efd7",
   "metadata": {},
   "source": [
    "Categorical - OHE.  If null, house does not have the feature, so fill with \"NONE.\""
   ]
  },
  {
   "cell_type": "code",
   "execution_count": 80,
   "id": "02ea8cff",
   "metadata": {},
   "outputs": [],
   "source": [
    "df_train['fence'].fillna('NONE',inplace=True)\n",
    "df_test['fence'].fillna('NONE',inplace=True)"
   ]
  },
  {
   "cell_type": "code",
   "execution_count": 81,
   "id": "4bbde636",
   "metadata": {},
   "outputs": [],
   "source": [
    "df_train['misc_feature'].fillna('NONE',inplace=True)\n",
    "df_test['misc_feature'].fillna('NONE',inplace=True)"
   ]
  },
  {
   "cell_type": "markdown",
   "id": "c90c9f0e",
   "metadata": {},
   "source": [
    "## Masonry"
   ]
  },
  {
   "cell_type": "markdown",
   "id": "a7b33ea9",
   "metadata": {},
   "source": [
    "If null, does not have masonry.  Impute \"none\" for type and 0 for area."
   ]
  },
  {
   "cell_type": "code",
   "execution_count": 82,
   "id": "7d7da53f",
   "metadata": {
    "scrolled": true
   },
   "outputs": [
    {
     "data": {
      "text/plain": [
       "0.0      1216\n",
       "120.0      11\n",
       "176.0      10\n",
       "200.0      10\n",
       "108.0       9\n",
       "         ... \n",
       "142.0       1\n",
       "215.0       1\n",
       "235.0       1\n",
       "233.0       1\n",
       "426.0       1\n",
       "Name: mas_vnr_area, Length: 373, dtype: int64"
      ]
     },
     "execution_count": 82,
     "metadata": {},
     "output_type": "execute_result"
    }
   ],
   "source": [
    "df_train['mas_vnr_area'].value_counts()"
   ]
  },
  {
   "cell_type": "code",
   "execution_count": 83,
   "id": "b9e90395",
   "metadata": {},
   "outputs": [],
   "source": [
    "df_train['mas_vnr_area'].fillna(0,inplace=True)\n",
    "df_test['mas_vnr_area'].fillna(0,inplace=True)"
   ]
  },
  {
   "cell_type": "code",
   "execution_count": 84,
   "id": "6e0dae6f",
   "metadata": {},
   "outputs": [
    {
     "data": {
      "text/plain": [
       "None       1218\n",
       "BrkFace     630\n",
       "Stone       168\n",
       "BrkCmn       13\n",
       "Name: mas_vnr_type, dtype: int64"
      ]
     },
     "execution_count": 84,
     "metadata": {},
     "output_type": "execute_result"
    }
   ],
   "source": [
    "df_train['mas_vnr_type'].value_counts()"
   ]
  },
  {
   "cell_type": "code",
   "execution_count": 85,
   "id": "0a7c637c",
   "metadata": {},
   "outputs": [],
   "source": [
    "df_train['mas_vnr_type'].fillna('NONE',inplace=True)\n",
    "df_test['mas_vnr_type'].fillna('NONE',inplace=True)"
   ]
  },
  {
   "cell_type": "markdown",
   "id": "e7a8f254",
   "metadata": {},
   "source": [
    "##  Electrical"
   ]
  },
  {
   "cell_type": "markdown",
   "id": "00956ad8",
   "metadata": {},
   "source": [
    "There is one null for electrical.  Most houses, especially newer ones, have circuit breakers.  \n",
    "This house is less than 20 years old.  It likely has a circuit breaker."
   ]
  },
  {
   "cell_type": "code",
   "execution_count": 86,
   "id": "823d3bf9",
   "metadata": {},
   "outputs": [
    {
     "data": {
      "text/plain": [
       "SBrkr    813\n",
       "FuseA     48\n",
       "FuseF     15\n",
       "FuseP      1\n",
       "Name: electrical, dtype: int64"
      ]
     },
     "execution_count": 86,
     "metadata": {},
     "output_type": "execute_result"
    }
   ],
   "source": [
    "df_test['electrical'].value_counts()"
   ]
  },
  {
   "cell_type": "code",
   "execution_count": 87,
   "id": "e10bb54d",
   "metadata": {},
   "outputs": [
    {
     "data": {
      "text/plain": [
       "634    2006\n",
       "Name: year_built, dtype: int64"
      ]
     },
     "execution_count": 87,
     "metadata": {},
     "output_type": "execute_result"
    }
   ],
   "source": [
    "df_test.loc[df_test['electrical'].isnull() == True,'year_built']"
   ]
  },
  {
   "cell_type": "code",
   "execution_count": 88,
   "id": "16d31c78",
   "metadata": {},
   "outputs": [
    {
     "data": {
      "text/plain": [
       "electrical\n",
       "FuseA    1937.229167\n",
       "FuseF    1928.533333\n",
       "FuseP    1910.000000\n",
       "SBrkr    1973.260763\n",
       "Name: year_built, dtype: float64"
      ]
     },
     "execution_count": 88,
     "metadata": {},
     "output_type": "execute_result"
    }
   ],
   "source": [
    "df_test.groupby('electrical')['year_built'].mean()"
   ]
  },
  {
   "cell_type": "code",
   "execution_count": 89,
   "id": "41700645",
   "metadata": {},
   "outputs": [],
   "source": [
    "df_test.loc[634,'electrical'] = 'SBrkr'"
   ]
  },
  {
   "cell_type": "markdown",
   "id": "a5ab3ee1",
   "metadata": {},
   "source": [
    "## Functionality"
   ]
  },
  {
   "cell_type": "code",
   "execution_count": 90,
   "id": "53fc1421",
   "metadata": {},
   "outputs": [
    {
     "data": {
      "text/plain": [
       "Typ     1915\n",
       "Min2      42\n",
       "Min1      42\n",
       "Mod       29\n",
       "Maj1      12\n",
       "Maj2       7\n",
       "Sev        2\n",
       "Sal        2\n",
       "Name: functional, dtype: int64"
      ]
     },
     "execution_count": 90,
     "metadata": {},
     "output_type": "execute_result"
    }
   ],
   "source": [
    "df_train['functional'].value_counts()"
   ]
  },
  {
   "cell_type": "markdown",
   "id": "cf31cef1",
   "metadata": {},
   "source": [
    "This category is ordinal, and is encoded as such."
   ]
  },
  {
   "cell_type": "code",
   "execution_count": 91,
   "id": "f3684428",
   "metadata": {},
   "outputs": [],
   "source": [
    "df_train['functional'].replace({'Sal':0,'Sev':1,'Maj2':2,'Maj1':3,'Mod':4,\n",
    "                                'Min2':5,'Min1':6,'Typ':7},inplace=True)\n",
    "\n",
    "\n",
    "df_test['functional'].replace({'Sal':0,'Sev':1,'Maj2':2,'Maj1':3,'Mod':4,\n",
    "                                'Min2':5,'Min1':6,'Typ':7},inplace=True)"
   ]
  },
  {
   "cell_type": "markdown",
   "id": "3c1debed",
   "metadata": {},
   "source": [
    "## Driveway"
   ]
  },
  {
   "cell_type": "markdown",
   "id": "f389b7f4",
   "metadata": {},
   "source": [
    "Although one could argue that this category is ordinal, there is a chance that partial paving\n",
    "could be more or less desirable than complete paving or non-paving.  (People might not like a job \n",
    "that is half-done).  Processing as OHE rather than ordinal only adds one feature, so it will\n",
    "not contribute significantly to overfitting.  "
   ]
  },
  {
   "cell_type": "code",
   "execution_count": 92,
   "id": "68678cc9",
   "metadata": {
    "scrolled": true
   },
   "outputs": [
    {
     "data": {
      "text/plain": [
       "Y    1861\n",
       "N     151\n",
       "P      39\n",
       "Name: paved_drive, dtype: int64"
      ]
     },
     "execution_count": 92,
     "metadata": {},
     "output_type": "execute_result"
    }
   ],
   "source": [
    "df_train['paved_drive'].value_counts()"
   ]
  },
  {
   "cell_type": "markdown",
   "id": "7cb565e9",
   "metadata": {},
   "source": [
    "## Exterior - 1st and 2nd"
   ]
  },
  {
   "cell_type": "markdown",
   "id": "db88fc7e",
   "metadata": {},
   "source": [
    "Nearly all of the houses have only one type of exterior.  Most of the \"Exterior 2nd\"s are either\n",
    "identical to the 1st, or at least functionally equivalent.  \n",
    "We will impute Exterior 2nd to Exterior 1st if Exterior 1st is missing, and otherwise drop Exterior 2nd."
   ]
  },
  {
   "cell_type": "code",
   "execution_count": 93,
   "id": "9fb88467",
   "metadata": {
    "scrolled": true
   },
   "outputs": [
    {
     "data": {
      "text/plain": [
       "exterior_1st  exterior_2nd\n",
       "CemntBd       CmentBd         89\n",
       "WdShing       Wd Shng         34\n",
       "HdBoard       Plywood         27\n",
       "BrkFace       Wd Sdng         15\n",
       "Plywood       Brk Cmn         14\n",
       "Wd Sdng       Plywood         13\n",
       "              Wd Shng         12\n",
       "WdShing       Plywood          9\n",
       "VinylSd       Wd Shng          7\n",
       "BrkFace       Plywood          6\n",
       "Plywood       HdBoard          6\n",
       "Wd Sdng       HdBoard          5\n",
       "AsbShng       Plywood          4\n",
       "HdBoard       Wd Shng          4\n",
       "              ImStucc          4\n",
       "BrkComm       Brk Cmn          3\n",
       "HdBoard       Wd Sdng          3\n",
       "Wd Sdng       VinylSd          3\n",
       "Stucco        Wd Shng          3\n",
       "Plywood       Wd Sdng          3\n",
       "              ImStucc          3\n",
       "BrkFace       Stone            3\n",
       "              HdBoard          2\n",
       "              MetalSd          2\n",
       "MetalSd       Stucco           2\n",
       "              VinylSd          2\n",
       "              Wd Sdng          2\n",
       "Wd Sdng       Stucco           2\n",
       "BrkFace       Stucco           2\n",
       "Wd Sdng       ImStucc          2\n",
       "HdBoard       Stucco           1\n",
       "Wd Sdng       AsbShng          1\n",
       "VinylSd       ImStucc          1\n",
       "              Plywood          1\n",
       "              Stucco           1\n",
       "AsbShng       Wd Sdng          1\n",
       "Wd Sdng       Stone            1\n",
       "BrkFace       VinylSd          1\n",
       "Wd Sdng       MetalSd          1\n",
       "VinylSd       AsbShng          1\n",
       "WdShing       Stucco           1\n",
       "              Wd Sdng          1\n",
       "VinylSd       HdBoard          1\n",
       "Stucco        Wd Sdng          1\n",
       "CBlock        VinylSd          1\n",
       "AsbShng       Stucco           1\n",
       "HdBoard       BrkFace          1\n",
       "MetalSd       AsphShn          1\n",
       "              CBlock           1\n",
       "              HdBoard          1\n",
       "dtype: int64"
      ]
     },
     "execution_count": 93,
     "metadata": {},
     "output_type": "execute_result"
    }
   ],
   "source": [
    "df_train.loc[df_train['exterior_1st'] != df_train['exterior_2nd'],['exterior_1st','exterior_2nd']].value_counts().head(50)"
   ]
  },
  {
   "cell_type": "code",
   "execution_count": 94,
   "id": "2f4d93bf",
   "metadata": {},
   "outputs": [],
   "source": [
    "df_train['exterior_1st'].fillna(df_train['exterior_2nd'],inplace=True)"
   ]
  },
  {
   "cell_type": "code",
   "execution_count": 95,
   "id": "07c282e7",
   "metadata": {},
   "outputs": [],
   "source": [
    "df_test['exterior_1st'].fillna(df_test['exterior_2nd'],inplace=True)"
   ]
  },
  {
   "cell_type": "code",
   "execution_count": 96,
   "id": "0dfed4f4",
   "metadata": {},
   "outputs": [],
   "source": [
    "df_train.drop(columns='exterior_2nd',inplace=True)\n",
    "df_test.drop(columns='exterior_2nd',inplace=True)"
   ]
  },
  {
   "cell_type": "markdown",
   "id": "74fd5bd7",
   "metadata": {},
   "source": [
    "#  Checking Our Work"
   ]
  },
  {
   "cell_type": "code",
   "execution_count": 97,
   "id": "073c32ad",
   "metadata": {},
   "outputs": [
    {
     "data": {
      "text/plain": [
       "0    78\n",
       "dtype: int64"
      ]
     },
     "execution_count": 97,
     "metadata": {},
     "output_type": "execute_result"
    }
   ],
   "source": [
    "#  All nulls resolved\n",
    "\n",
    "df_train.isnull().sum().value_counts()"
   ]
  },
  {
   "cell_type": "code",
   "execution_count": 98,
   "id": "d866cb7c",
   "metadata": {},
   "outputs": [
    {
     "data": {
      "text/plain": [
       "0    77\n",
       "dtype: int64"
      ]
     },
     "execution_count": 98,
     "metadata": {},
     "output_type": "execute_result"
    }
   ],
   "source": [
    "df_test.isnull().sum().value_counts()"
   ]
  },
  {
   "cell_type": "markdown",
   "id": "c498e2a5",
   "metadata": {},
   "source": [
    "#  Saving Our Data"
   ]
  },
  {
   "cell_type": "markdown",
   "id": "2e07b446",
   "metadata": {},
   "source": [
    "We will preserve our efforts in cleaning the data by saving it to our output folder \n",
    "(without an index column, to prevent unnecessary complications in future steps)."
   ]
  },
  {
   "cell_type": "code",
   "execution_count": 99,
   "id": "7789ee0c",
   "metadata": {},
   "outputs": [],
   "source": [
    "df_train.to_csv('./output/train_cleaned.csv',index=False)\n"
   ]
  },
  {
   "cell_type": "code",
   "execution_count": 100,
   "id": "a3d0720c-3f3b-4702-9114-bb7a9d3afb3a",
   "metadata": {},
   "outputs": [],
   "source": [
    "df_test.to_csv('./output/test_cleaned.csv',index=False)"
   ]
  },
  {
   "cell_type": "code",
   "execution_count": null,
   "id": "312637d1",
   "metadata": {},
   "outputs": [],
   "source": []
  }
 ],
 "metadata": {
  "kernelspec": {
   "display_name": "Python 3 (ipykernel)",
   "language": "python",
   "name": "python3"
  },
  "language_info": {
   "codemirror_mode": {
    "name": "ipython",
    "version": 3
   },
   "file_extension": ".py",
   "mimetype": "text/x-python",
   "name": "python",
   "nbconvert_exporter": "python",
   "pygments_lexer": "ipython3",
   "version": "3.9.13"
  }
 },
 "nbformat": 4,
 "nbformat_minor": 5
}
