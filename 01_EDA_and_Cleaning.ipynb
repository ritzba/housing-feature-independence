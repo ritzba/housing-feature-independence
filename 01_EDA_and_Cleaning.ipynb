{
 "cells": [
  {
   "cell_type": "code",
   "execution_count": 6,
   "id": "4c7b069c",
   "metadata": {},
   "outputs": [],
   "source": [
    "import numpy as np\n",
    "import pandas as pd\n",
    "import matplotlib.pyplot as plt\n",
    "import seaborn as sns\n"
   ]
  },
  {
   "cell_type": "code",
   "execution_count": 7,
   "id": "836df1d0",
   "metadata": {},
   "outputs": [],
   "source": [
    "df_train = pd.read_csv('./datasets/train.csv')\n",
    "df_test = pd.read_csv('./datasets/test.csv')"
   ]
  },
  {
   "cell_type": "code",
   "execution_count": 8,
   "id": "5836bbbf",
   "metadata": {},
   "outputs": [
    {
     "data": {
      "text/html": [
       "<div>\n",
       "<style scoped>\n",
       "    .dataframe tbody tr th:only-of-type {\n",
       "        vertical-align: middle;\n",
       "    }\n",
       "\n",
       "    .dataframe tbody tr th {\n",
       "        vertical-align: top;\n",
       "    }\n",
       "\n",
       "    .dataframe thead th {\n",
       "        text-align: right;\n",
       "    }\n",
       "</style>\n",
       "<table border=\"1\" class=\"dataframe\">\n",
       "  <thead>\n",
       "    <tr style=\"text-align: right;\">\n",
       "      <th></th>\n",
       "      <th>Id</th>\n",
       "      <th>PID</th>\n",
       "      <th>MS SubClass</th>\n",
       "      <th>MS Zoning</th>\n",
       "      <th>Lot Frontage</th>\n",
       "      <th>Lot Area</th>\n",
       "      <th>Street</th>\n",
       "      <th>Alley</th>\n",
       "      <th>Lot Shape</th>\n",
       "      <th>Land Contour</th>\n",
       "      <th>...</th>\n",
       "      <th>Screen Porch</th>\n",
       "      <th>Pool Area</th>\n",
       "      <th>Pool QC</th>\n",
       "      <th>Fence</th>\n",
       "      <th>Misc Feature</th>\n",
       "      <th>Misc Val</th>\n",
       "      <th>Mo Sold</th>\n",
       "      <th>Yr Sold</th>\n",
       "      <th>Sale Type</th>\n",
       "      <th>SalePrice</th>\n",
       "    </tr>\n",
       "  </thead>\n",
       "  <tbody>\n",
       "    <tr>\n",
       "      <th>0</th>\n",
       "      <td>109</td>\n",
       "      <td>533352170</td>\n",
       "      <td>60</td>\n",
       "      <td>RL</td>\n",
       "      <td>NaN</td>\n",
       "      <td>13517</td>\n",
       "      <td>Pave</td>\n",
       "      <td>NaN</td>\n",
       "      <td>IR1</td>\n",
       "      <td>Lvl</td>\n",
       "      <td>...</td>\n",
       "      <td>0</td>\n",
       "      <td>0</td>\n",
       "      <td>NaN</td>\n",
       "      <td>NaN</td>\n",
       "      <td>NaN</td>\n",
       "      <td>0</td>\n",
       "      <td>3</td>\n",
       "      <td>2010</td>\n",
       "      <td>WD</td>\n",
       "      <td>130500</td>\n",
       "    </tr>\n",
       "    <tr>\n",
       "      <th>1</th>\n",
       "      <td>544</td>\n",
       "      <td>531379050</td>\n",
       "      <td>60</td>\n",
       "      <td>RL</td>\n",
       "      <td>43.0</td>\n",
       "      <td>11492</td>\n",
       "      <td>Pave</td>\n",
       "      <td>NaN</td>\n",
       "      <td>IR1</td>\n",
       "      <td>Lvl</td>\n",
       "      <td>...</td>\n",
       "      <td>0</td>\n",
       "      <td>0</td>\n",
       "      <td>NaN</td>\n",
       "      <td>NaN</td>\n",
       "      <td>NaN</td>\n",
       "      <td>0</td>\n",
       "      <td>4</td>\n",
       "      <td>2009</td>\n",
       "      <td>WD</td>\n",
       "      <td>220000</td>\n",
       "    </tr>\n",
       "    <tr>\n",
       "      <th>2</th>\n",
       "      <td>153</td>\n",
       "      <td>535304180</td>\n",
       "      <td>20</td>\n",
       "      <td>RL</td>\n",
       "      <td>68.0</td>\n",
       "      <td>7922</td>\n",
       "      <td>Pave</td>\n",
       "      <td>NaN</td>\n",
       "      <td>Reg</td>\n",
       "      <td>Lvl</td>\n",
       "      <td>...</td>\n",
       "      <td>0</td>\n",
       "      <td>0</td>\n",
       "      <td>NaN</td>\n",
       "      <td>NaN</td>\n",
       "      <td>NaN</td>\n",
       "      <td>0</td>\n",
       "      <td>1</td>\n",
       "      <td>2010</td>\n",
       "      <td>WD</td>\n",
       "      <td>109000</td>\n",
       "    </tr>\n",
       "    <tr>\n",
       "      <th>3</th>\n",
       "      <td>318</td>\n",
       "      <td>916386060</td>\n",
       "      <td>60</td>\n",
       "      <td>RL</td>\n",
       "      <td>73.0</td>\n",
       "      <td>9802</td>\n",
       "      <td>Pave</td>\n",
       "      <td>NaN</td>\n",
       "      <td>Reg</td>\n",
       "      <td>Lvl</td>\n",
       "      <td>...</td>\n",
       "      <td>0</td>\n",
       "      <td>0</td>\n",
       "      <td>NaN</td>\n",
       "      <td>NaN</td>\n",
       "      <td>NaN</td>\n",
       "      <td>0</td>\n",
       "      <td>4</td>\n",
       "      <td>2010</td>\n",
       "      <td>WD</td>\n",
       "      <td>174000</td>\n",
       "    </tr>\n",
       "    <tr>\n",
       "      <th>4</th>\n",
       "      <td>255</td>\n",
       "      <td>906425045</td>\n",
       "      <td>50</td>\n",
       "      <td>RL</td>\n",
       "      <td>82.0</td>\n",
       "      <td>14235</td>\n",
       "      <td>Pave</td>\n",
       "      <td>NaN</td>\n",
       "      <td>IR1</td>\n",
       "      <td>Lvl</td>\n",
       "      <td>...</td>\n",
       "      <td>0</td>\n",
       "      <td>0</td>\n",
       "      <td>NaN</td>\n",
       "      <td>NaN</td>\n",
       "      <td>NaN</td>\n",
       "      <td>0</td>\n",
       "      <td>3</td>\n",
       "      <td>2010</td>\n",
       "      <td>WD</td>\n",
       "      <td>138500</td>\n",
       "    </tr>\n",
       "  </tbody>\n",
       "</table>\n",
       "<p>5 rows × 81 columns</p>\n",
       "</div>"
      ],
      "text/plain": [
       "    Id        PID  MS SubClass MS Zoning  Lot Frontage  Lot Area Street Alley  \\\n",
       "0  109  533352170           60        RL           NaN     13517   Pave   NaN   \n",
       "1  544  531379050           60        RL          43.0     11492   Pave   NaN   \n",
       "2  153  535304180           20        RL          68.0      7922   Pave   NaN   \n",
       "3  318  916386060           60        RL          73.0      9802   Pave   NaN   \n",
       "4  255  906425045           50        RL          82.0     14235   Pave   NaN   \n",
       "\n",
       "  Lot Shape Land Contour  ... Screen Porch Pool Area Pool QC Fence  \\\n",
       "0       IR1          Lvl  ...            0         0     NaN   NaN   \n",
       "1       IR1          Lvl  ...            0         0     NaN   NaN   \n",
       "2       Reg          Lvl  ...            0         0     NaN   NaN   \n",
       "3       Reg          Lvl  ...            0         0     NaN   NaN   \n",
       "4       IR1          Lvl  ...            0         0     NaN   NaN   \n",
       "\n",
       "  Misc Feature Misc Val Mo Sold Yr Sold  Sale Type  SalePrice  \n",
       "0          NaN        0       3    2010        WD      130500  \n",
       "1          NaN        0       4    2009        WD      220000  \n",
       "2          NaN        0       1    2010        WD      109000  \n",
       "3          NaN        0       4    2010        WD      174000  \n",
       "4          NaN        0       3    2010        WD      138500  \n",
       "\n",
       "[5 rows x 81 columns]"
      ]
     },
     "execution_count": 8,
     "metadata": {},
     "output_type": "execute_result"
    }
   ],
   "source": [
    "df_train.head()"
   ]
  },
  {
   "cell_type": "code",
   "execution_count": 9,
   "id": "234a2beb",
   "metadata": {},
   "outputs": [
    {
     "name": "stdout",
     "output_type": "stream",
     "text": [
      "<class 'pandas.core.frame.DataFrame'>\n",
      "RangeIndex: 2051 entries, 0 to 2050\n",
      "Data columns (total 81 columns):\n",
      " #   Column           Non-Null Count  Dtype  \n",
      "---  ------           --------------  -----  \n",
      " 0   Id               2051 non-null   int64  \n",
      " 1   PID              2051 non-null   int64  \n",
      " 2   MS SubClass      2051 non-null   int64  \n",
      " 3   MS Zoning        2051 non-null   object \n",
      " 4   Lot Frontage     1721 non-null   float64\n",
      " 5   Lot Area         2051 non-null   int64  \n",
      " 6   Street           2051 non-null   object \n",
      " 7   Alley            140 non-null    object \n",
      " 8   Lot Shape        2051 non-null   object \n",
      " 9   Land Contour     2051 non-null   object \n",
      " 10  Utilities        2051 non-null   object \n",
      " 11  Lot Config       2051 non-null   object \n",
      " 12  Land Slope       2051 non-null   object \n",
      " 13  Neighborhood     2051 non-null   object \n",
      " 14  Condition 1      2051 non-null   object \n",
      " 15  Condition 2      2051 non-null   object \n",
      " 16  Bldg Type        2051 non-null   object \n",
      " 17  House Style      2051 non-null   object \n",
      " 18  Overall Qual     2051 non-null   int64  \n",
      " 19  Overall Cond     2051 non-null   int64  \n",
      " 20  Year Built       2051 non-null   int64  \n",
      " 21  Year Remod/Add   2051 non-null   int64  \n",
      " 22  Roof Style       2051 non-null   object \n",
      " 23  Roof Matl        2051 non-null   object \n",
      " 24  Exterior 1st     2051 non-null   object \n",
      " 25  Exterior 2nd     2051 non-null   object \n",
      " 26  Mas Vnr Type     2029 non-null   object \n",
      " 27  Mas Vnr Area     2029 non-null   float64\n",
      " 28  Exter Qual       2051 non-null   object \n",
      " 29  Exter Cond       2051 non-null   object \n",
      " 30  Foundation       2051 non-null   object \n",
      " 31  Bsmt Qual        1996 non-null   object \n",
      " 32  Bsmt Cond        1996 non-null   object \n",
      " 33  Bsmt Exposure    1993 non-null   object \n",
      " 34  BsmtFin Type 1   1996 non-null   object \n",
      " 35  BsmtFin SF 1     2050 non-null   float64\n",
      " 36  BsmtFin Type 2   1995 non-null   object \n",
      " 37  BsmtFin SF 2     2050 non-null   float64\n",
      " 38  Bsmt Unf SF      2050 non-null   float64\n",
      " 39  Total Bsmt SF    2050 non-null   float64\n",
      " 40  Heating          2051 non-null   object \n",
      " 41  Heating QC       2051 non-null   object \n",
      " 42  Central Air      2051 non-null   object \n",
      " 43  Electrical       2051 non-null   object \n",
      " 44  1st Flr SF       2051 non-null   int64  \n",
      " 45  2nd Flr SF       2051 non-null   int64  \n",
      " 46  Low Qual Fin SF  2051 non-null   int64  \n",
      " 47  Gr Liv Area      2051 non-null   int64  \n",
      " 48  Bsmt Full Bath   2049 non-null   float64\n",
      " 49  Bsmt Half Bath   2049 non-null   float64\n",
      " 50  Full Bath        2051 non-null   int64  \n",
      " 51  Half Bath        2051 non-null   int64  \n",
      " 52  Bedroom AbvGr    2051 non-null   int64  \n",
      " 53  Kitchen AbvGr    2051 non-null   int64  \n",
      " 54  Kitchen Qual     2051 non-null   object \n",
      " 55  TotRms AbvGrd    2051 non-null   int64  \n",
      " 56  Functional       2051 non-null   object \n",
      " 57  Fireplaces       2051 non-null   int64  \n",
      " 58  Fireplace Qu     1051 non-null   object \n",
      " 59  Garage Type      1938 non-null   object \n",
      " 60  Garage Yr Blt    1937 non-null   float64\n",
      " 61  Garage Finish    1937 non-null   object \n",
      " 62  Garage Cars      2050 non-null   float64\n",
      " 63  Garage Area      2050 non-null   float64\n",
      " 64  Garage Qual      1937 non-null   object \n",
      " 65  Garage Cond      1937 non-null   object \n",
      " 66  Paved Drive      2051 non-null   object \n",
      " 67  Wood Deck SF     2051 non-null   int64  \n",
      " 68  Open Porch SF    2051 non-null   int64  \n",
      " 69  Enclosed Porch   2051 non-null   int64  \n",
      " 70  3Ssn Porch       2051 non-null   int64  \n",
      " 71  Screen Porch     2051 non-null   int64  \n",
      " 72  Pool Area        2051 non-null   int64  \n",
      " 73  Pool QC          9 non-null      object \n",
      " 74  Fence            400 non-null    object \n",
      " 75  Misc Feature     65 non-null     object \n",
      " 76  Misc Val         2051 non-null   int64  \n",
      " 77  Mo Sold          2051 non-null   int64  \n",
      " 78  Yr Sold          2051 non-null   int64  \n",
      " 79  Sale Type        2051 non-null   object \n",
      " 80  SalePrice        2051 non-null   int64  \n",
      "dtypes: float64(11), int64(28), object(42)\n",
      "memory usage: 1.3+ MB\n"
     ]
    }
   ],
   "source": [
    "df_train.info()"
   ]
  },
  {
   "cell_type": "code",
   "execution_count": 10,
   "id": "f2610d11",
   "metadata": {},
   "outputs": [],
   "source": [
    "df_train.columns = [col.lower().replace(' ','_') for col in df_train.columns]\n",
    "df_test.columns = [col.lower().replace(' ','_') for col in df_test.columns]"
   ]
  },
  {
   "cell_type": "code",
   "execution_count": 11,
   "id": "810c94f8",
   "metadata": {},
   "outputs": [
    {
     "data": {
      "text/plain": [
       "pool_qc           2042\n",
       "misc_feature      1986\n",
       "alley             1911\n",
       "fence             1651\n",
       "fireplace_qu      1000\n",
       "lot_frontage       330\n",
       "garage_yr_blt      114\n",
       "garage_cond        114\n",
       "garage_qual        114\n",
       "garage_finish      114\n",
       "garage_type        113\n",
       "bsmt_exposure       58\n",
       "bsmtfin_type_2      56\n",
       "bsmt_cond           55\n",
       "bsmt_qual           55\n",
       "bsmtfin_type_1      55\n",
       "mas_vnr_area        22\n",
       "mas_vnr_type        22\n",
       "bsmt_half_bath       2\n",
       "bsmt_full_bath       2\n",
       "total_bsmt_sf        1\n",
       "bsmt_unf_sf          1\n",
       "bsmtfin_sf_2         1\n",
       "garage_cars          1\n",
       "garage_area          1\n",
       "bsmtfin_sf_1         1\n",
       "dtype: int64"
      ]
     },
     "execution_count": 11,
     "metadata": {},
     "output_type": "execute_result"
    }
   ],
   "source": [
    "df_train.isnull().sum().loc[lambda x: x > 0].sort_values(ascending=False)"
   ]
  },
  {
   "cell_type": "code",
   "execution_count": 12,
   "id": "7a6d6631",
   "metadata": {},
   "outputs": [
    {
     "data": {
      "text/plain": [
       "pool_qc           874\n",
       "misc_feature      837\n",
       "alley             820\n",
       "fence             706\n",
       "fireplace_qu      422\n",
       "lot_frontage      160\n",
       "garage_yr_blt      45\n",
       "garage_finish      45\n",
       "garage_qual        45\n",
       "garage_cond        45\n",
       "garage_type        44\n",
       "bsmt_exposure      25\n",
       "bsmtfin_type_1     25\n",
       "bsmtfin_type_2     25\n",
       "bsmt_cond          25\n",
       "bsmt_qual          25\n",
       "mas_vnr_area        1\n",
       "mas_vnr_type        1\n",
       "electrical          1\n",
       "dtype: int64"
      ]
     },
     "execution_count": 12,
     "metadata": {},
     "output_type": "execute_result"
    }
   ],
   "source": [
    "df_test.isnull().sum().loc[lambda x: x > 0].sort_values(ascending=False)"
   ]
  },
  {
   "cell_type": "code",
   "execution_count": 13,
   "id": "64e5c43d",
   "metadata": {},
   "outputs": [
    {
     "name": "stdout",
     "output_type": "stream",
     "text": [
      "0      2042\n",
      "519       1\n",
      "576       1\n",
      "800       1\n",
      "228       1\n",
      "480       1\n",
      "648       1\n",
      "738       1\n",
      "368       1\n",
      "561       1\n",
      "Name: pool_area, dtype: int64\n",
      "Gd    4\n",
      "Fa    2\n",
      "TA    2\n",
      "Ex    1\n",
      "Name: pool_qc, dtype: int64\n",
      "0      874\n",
      "144      1\n",
      "555      1\n",
      "512      1\n",
      "444      1\n",
      "Name: pool_area, dtype: int64\n",
      "Ex    3\n",
      "TA    1\n",
      "Name: pool_qc, dtype: int64\n"
     ]
    }
   ],
   "source": [
    "print(df_train['pool_area'].value_counts())\n",
    "print(df_train['pool_qc'].value_counts())\n",
    "print(df_test['pool_area'].value_counts())\n",
    "print(df_test['pool_qc'].value_counts())"
   ]
  },
  {
   "cell_type": "code",
   "execution_count": 14,
   "id": "f78f4ab7",
   "metadata": {},
   "outputs": [],
   "source": [
    "#misc_feature      1986\n",
    "#alley             1911\n",
    "#fence             1651\n",
    "#fireplace_qu      1000\n",
    "#garage_yr_blt      114\n",
    "#garage_cond        114\n",
    "#garage_qual        114\n",
    "#garage_finish      114\n",
    "#garage_type        113\n",
    "#bsmt_exposure       58\n",
    "#bsmtfin_type_2      56\n",
    "#bsmt_cond           55\n",
    "#bsmt_qual           55\n",
    "#bsmtfin_type_1      55\n",
    "#mas_vnr_area        22\n",
    "#mas_vnr_type        22\n",
    "#bsmt_half_bath       2\n",
    "#bsmt_full_bath       2\n",
    "#total_bsmt_sf        1\n",
    "#bsmt_unf_sf          1\n",
    "#bsmtfin_sf_2         1\n",
    "#garage_cars          1\n",
    "#garage_area          1\n",
    "#bsmtfin_sf_1         1"
   ]
  },
  {
   "cell_type": "code",
   "execution_count": 15,
   "id": "8ebcbdde",
   "metadata": {},
   "outputs": [],
   "source": [
    "# frontage - interpolate based on size and type of lot"
   ]
  },
  {
   "cell_type": "code",
   "execution_count": null,
   "id": "a833252a",
   "metadata": {},
   "outputs": [],
   "source": []
  },
  {
   "cell_type": "code",
   "execution_count": null,
   "id": "f69e3b32",
   "metadata": {},
   "outputs": [],
   "source": []
  },
  {
   "cell_type": "code",
   "execution_count": null,
   "id": "8ca4899b",
   "metadata": {},
   "outputs": [],
   "source": []
  },
  {
   "cell_type": "markdown",
   "id": "ebbcaa6e",
   "metadata": {},
   "source": [
    "##  PID"
   ]
  },
  {
   "cell_type": "code",
   "execution_count": 16,
   "id": "3c1b576a",
   "metadata": {},
   "outputs": [],
   "source": [
    "#  Property IDs in Story County are made of groups...\n",
    "\n",
    "#  https://www.storycountyiowa.gov/DocumentCenter/View/6074/A-Guide-to-Geo-Numbering-in-Story-County?bidId=\n",
    "\n",
    "for df in [df_train,df_test]:\n",
    "    df['pid_1'] = df['pid'].astype('str').str[:1]\n",
    "    df['pid_2'] = df['pid'].astype('str').str[1:3]\n",
    "    df['pid_3'] = df['pid'].astype('str').str[3:6]\n",
    "    df['pid_4'] = df['pid'].astype('str').str[6:9]"
   ]
  },
  {
   "cell_type": "markdown",
   "id": "a0093ee5",
   "metadata": {},
   "source": [
    "##  MS Subclass"
   ]
  },
  {
   "cell_type": "code",
   "execution_count": 17,
   "id": "e7e87224",
   "metadata": {},
   "outputs": [],
   "source": [
    "#  Not numeric!!!"
   ]
  },
  {
   "cell_type": "markdown",
   "id": "c4d6441a",
   "metadata": {},
   "source": [
    "## MS Zoning"
   ]
  },
  {
   "cell_type": "code",
   "execution_count": 21,
   "id": "a141642b",
   "metadata": {},
   "outputs": [
    {
     "data": {
      "text/plain": [
       "RL         1598\n",
       "RM          316\n",
       "FV          101\n",
       "C (all)      19\n",
       "RH           14\n",
       "A (agr)       2\n",
       "I (all)       1\n",
       "Name: ms_zoning, dtype: int64"
      ]
     },
     "execution_count": 21,
     "metadata": {},
     "output_type": "execute_result"
    }
   ],
   "source": [
    "df_train['ms_zoning'].value_counts()"
   ]
  },
  {
   "cell_type": "code",
   "execution_count": 22,
   "id": "ac582dda",
   "metadata": {},
   "outputs": [
    {
     "data": {
      "text/html": [
       "<div>\n",
       "<style scoped>\n",
       "    .dataframe tbody tr th:only-of-type {\n",
       "        vertical-align: middle;\n",
       "    }\n",
       "\n",
       "    .dataframe tbody tr th {\n",
       "        vertical-align: top;\n",
       "    }\n",
       "\n",
       "    .dataframe thead th {\n",
       "        text-align: right;\n",
       "    }\n",
       "</style>\n",
       "<table border=\"1\" class=\"dataframe\">\n",
       "  <thead>\n",
       "    <tr style=\"text-align: right;\">\n",
       "      <th></th>\n",
       "      <th>count</th>\n",
       "      <th>mean</th>\n",
       "      <th>std</th>\n",
       "      <th>min</th>\n",
       "      <th>25%</th>\n",
       "      <th>50%</th>\n",
       "      <th>75%</th>\n",
       "      <th>max</th>\n",
       "    </tr>\n",
       "    <tr>\n",
       "      <th>ms_zoning</th>\n",
       "      <th></th>\n",
       "      <th></th>\n",
       "      <th></th>\n",
       "      <th></th>\n",
       "      <th></th>\n",
       "      <th></th>\n",
       "      <th></th>\n",
       "      <th></th>\n",
       "    </tr>\n",
       "  </thead>\n",
       "  <tbody>\n",
       "    <tr>\n",
       "      <th>A (agr)</th>\n",
       "      <td>2.0</td>\n",
       "      <td>47300.000000</td>\n",
       "      <td>48366.103833</td>\n",
       "      <td>13100.0</td>\n",
       "      <td>30200.0</td>\n",
       "      <td>47300.0</td>\n",
       "      <td>64400.0</td>\n",
       "      <td>81500.0</td>\n",
       "    </tr>\n",
       "    <tr>\n",
       "      <th>C (all)</th>\n",
       "      <td>19.0</td>\n",
       "      <td>78010.894737</td>\n",
       "      <td>32781.478897</td>\n",
       "      <td>34900.0</td>\n",
       "      <td>50913.5</td>\n",
       "      <td>75000.0</td>\n",
       "      <td>105388.0</td>\n",
       "      <td>140000.0</td>\n",
       "    </tr>\n",
       "    <tr>\n",
       "      <th>FV</th>\n",
       "      <td>101.0</td>\n",
       "      <td>218618.316832</td>\n",
       "      <td>53063.423791</td>\n",
       "      <td>144152.0</td>\n",
       "      <td>176500.0</td>\n",
       "      <td>208900.0</td>\n",
       "      <td>254900.0</td>\n",
       "      <td>370878.0</td>\n",
       "    </tr>\n",
       "    <tr>\n",
       "      <th>I (all)</th>\n",
       "      <td>1.0</td>\n",
       "      <td>57625.000000</td>\n",
       "      <td>NaN</td>\n",
       "      <td>57625.0</td>\n",
       "      <td>57625.0</td>\n",
       "      <td>57625.0</td>\n",
       "      <td>57625.0</td>\n",
       "      <td>57625.0</td>\n",
       "    </tr>\n",
       "    <tr>\n",
       "      <th>RH</th>\n",
       "      <td>14.0</td>\n",
       "      <td>148859.571429</td>\n",
       "      <td>35970.877401</td>\n",
       "      <td>82000.0</td>\n",
       "      <td>128500.0</td>\n",
       "      <td>152217.0</td>\n",
       "      <td>180000.0</td>\n",
       "      <td>200000.0</td>\n",
       "    </tr>\n",
       "    <tr>\n",
       "      <th>RL</th>\n",
       "      <td>1598.0</td>\n",
       "      <td>191235.164581</td>\n",
       "      <td>80380.790716</td>\n",
       "      <td>35000.0</td>\n",
       "      <td>137500.0</td>\n",
       "      <td>172500.0</td>\n",
       "      <td>222375.0</td>\n",
       "      <td>611657.0</td>\n",
       "    </tr>\n",
       "    <tr>\n",
       "      <th>RM</th>\n",
       "      <td>316.0</td>\n",
       "      <td>129119.142405</td>\n",
       "      <td>50776.911622</td>\n",
       "      <td>12789.0</td>\n",
       "      <td>103300.0</td>\n",
       "      <td>123900.0</td>\n",
       "      <td>141500.0</td>\n",
       "      <td>475000.0</td>\n",
       "    </tr>\n",
       "  </tbody>\n",
       "</table>\n",
       "</div>"
      ],
      "text/plain": [
       "            count           mean           std       min       25%       50%  \\\n",
       "ms_zoning                                                                      \n",
       "A (agr)       2.0   47300.000000  48366.103833   13100.0   30200.0   47300.0   \n",
       "C (all)      19.0   78010.894737  32781.478897   34900.0   50913.5   75000.0   \n",
       "FV          101.0  218618.316832  53063.423791  144152.0  176500.0  208900.0   \n",
       "I (all)       1.0   57625.000000           NaN   57625.0   57625.0   57625.0   \n",
       "RH           14.0  148859.571429  35970.877401   82000.0  128500.0  152217.0   \n",
       "RL         1598.0  191235.164581  80380.790716   35000.0  137500.0  172500.0   \n",
       "RM          316.0  129119.142405  50776.911622   12789.0  103300.0  123900.0   \n",
       "\n",
       "                75%       max  \n",
       "ms_zoning                      \n",
       "A (agr)     64400.0   81500.0  \n",
       "C (all)    105388.0  140000.0  \n",
       "FV         254900.0  370878.0  \n",
       "I (all)     57625.0   57625.0  \n",
       "RH         180000.0  200000.0  \n",
       "RL         222375.0  611657.0  \n",
       "RM         141500.0  475000.0  "
      ]
     },
     "execution_count": 22,
     "metadata": {},
     "output_type": "execute_result"
    }
   ],
   "source": [
    "df_train.groupby(['ms_zoning'])['saleprice'].describe()"
   ]
  },
  {
   "cell_type": "code",
   "execution_count": 23,
   "id": "55878b5e",
   "metadata": {},
   "outputs": [],
   "source": [
    "for df in [df_train,df_test]:\n",
    "    df['ms_zoning'] = [0 if val == 'A (agr)' \n",
    "                         else 1 if val == 'I (all)' \n",
    "                         else 2 if val == 'C (all)'\n",
    "                         else 3 if val == 'RH'\n",
    "                         else 4 if val == 'RM'\n",
    "                         else 5 if val == 'RL'\n",
    "                         else 6\n",
    "                         for val in df['ms_zoning']]"
   ]
  },
  {
   "cell_type": "markdown",
   "id": "f496f5bc",
   "metadata": {},
   "source": [
    "## Lot Frontage"
   ]
  },
  {
   "cell_type": "code",
   "execution_count": null,
   "id": "1717e163",
   "metadata": {},
   "outputs": [],
   "source": [
    "sns.scatterplot(df_train['lot_frontage'],df_train['lot_area'],hue=df_train['lot_config'])"
   ]
  },
  {
   "cell_type": "code",
   "execution_count": null,
   "id": "c143b704",
   "metadata": {},
   "outputs": [],
   "source": [
    "#for df in [df_train,df_test]:\n",
    " #   df['lot_config'] = [0 if val == 'FR3'\n",
    "  #                     else 1 if val == 'FR2'\n",
    "   #                    else 2 if val == 'Corner'\n",
    "    #                    else 3 if val == 'Inside'\n",
    "     #                   else 4\n",
    "      #                 for val in df['lot_config']]"
   ]
  },
  {
   "cell_type": "code",
   "execution_count": null,
   "id": "f659a40f",
   "metadata": {},
   "outputs": [],
   "source": [
    "#X = df_train.loc[df_train['lot_frontage'] > 0, ['lot_area','lot_config']]\n",
    "#y = df_train.loc[df_train['lot_frontage'] > 0, 'lot_frontage']\n",
    "#X_val = df_train.loc[df_train['lot_frontage'] == 0, ['lot_area','lot_config']]\n",
    "#y_val = df_train.loc[df_train['lot_frontage'] == 0, 'lot_frontage']\n",
    "\n",
    "#X,y,X_val,y_val = train_test_split(X,y,random_state=42)"
   ]
  },
  {
   "cell_type": "code",
   "execution_count": null,
   "id": "c5a29205",
   "metadata": {},
   "outputs": [],
   "source": [
    "#  https://www.storycountyiowa.gov/DocumentCenter/View/6074/A-Guide-to-Geo-Numbering-in-Story-County?bidId="
   ]
  },
  {
   "cell_type": "markdown",
   "id": "821be311",
   "metadata": {},
   "source": [
    "## Lot Area"
   ]
  },
  {
   "cell_type": "code",
   "execution_count": 25,
   "id": "148b3fc1",
   "metadata": {},
   "outputs": [
    {
     "data": {
      "text/plain": [
       "count      2051.000000\n",
       "mean      10065.208191\n",
       "std        6742.488909\n",
       "min        1300.000000\n",
       "25%        7500.000000\n",
       "50%        9430.000000\n",
       "75%       11513.500000\n",
       "max      159000.000000\n",
       "Name: lot_area, dtype: float64"
      ]
     },
     "execution_count": 25,
     "metadata": {},
     "output_type": "execute_result"
    }
   ],
   "source": [
    "df_train['lot_area'].describe()"
   ]
  },
  {
   "cell_type": "markdown",
   "id": "c357df85",
   "metadata": {},
   "source": [
    "## Street"
   ]
  },
  {
   "cell_type": "code",
   "execution_count": 28,
   "id": "1e85aaeb",
   "metadata": {},
   "outputs": [
    {
     "data": {
      "text/plain": [
       "Pave    2044\n",
       "Grvl       7\n",
       "Name: street, dtype: int64"
      ]
     },
     "execution_count": 28,
     "metadata": {},
     "output_type": "execute_result"
    }
   ],
   "source": [
    "df_train['street'].value_counts()"
   ]
  },
  {
   "cell_type": "code",
   "execution_count": 30,
   "id": "13fe7d1b",
   "metadata": {},
   "outputs": [
    {
     "data": {
      "text/html": [
       "<div>\n",
       "<style scoped>\n",
       "    .dataframe tbody tr th:only-of-type {\n",
       "        vertical-align: middle;\n",
       "    }\n",
       "\n",
       "    .dataframe tbody tr th {\n",
       "        vertical-align: top;\n",
       "    }\n",
       "\n",
       "    .dataframe thead th {\n",
       "        text-align: right;\n",
       "    }\n",
       "</style>\n",
       "<table border=\"1\" class=\"dataframe\">\n",
       "  <thead>\n",
       "    <tr style=\"text-align: right;\">\n",
       "      <th></th>\n",
       "      <th>count</th>\n",
       "      <th>mean</th>\n",
       "      <th>std</th>\n",
       "      <th>min</th>\n",
       "      <th>25%</th>\n",
       "      <th>50%</th>\n",
       "      <th>75%</th>\n",
       "      <th>max</th>\n",
       "    </tr>\n",
       "    <tr>\n",
       "      <th>street</th>\n",
       "      <th></th>\n",
       "      <th></th>\n",
       "      <th></th>\n",
       "      <th></th>\n",
       "      <th></th>\n",
       "      <th></th>\n",
       "      <th></th>\n",
       "      <th></th>\n",
       "    </tr>\n",
       "  </thead>\n",
       "  <tbody>\n",
       "    <tr>\n",
       "      <th>0</th>\n",
       "      <td>7.0</td>\n",
       "      <td>86901.428571</td>\n",
       "      <td>38339.739652</td>\n",
       "      <td>50138.0</td>\n",
       "      <td>56809.0</td>\n",
       "      <td>78000.0</td>\n",
       "      <td>106175.0</td>\n",
       "      <td>154204.0</td>\n",
       "    </tr>\n",
       "    <tr>\n",
       "      <th>1</th>\n",
       "      <td>2044.0</td>\n",
       "      <td>181793.565558</td>\n",
       "      <td>79173.195670</td>\n",
       "      <td>12789.0</td>\n",
       "      <td>129975.0</td>\n",
       "      <td>163000.0</td>\n",
       "      <td>214000.0</td>\n",
       "      <td>611657.0</td>\n",
       "    </tr>\n",
       "  </tbody>\n",
       "</table>\n",
       "</div>"
      ],
      "text/plain": [
       "         count           mean           std      min       25%       50%  \\\n",
       "street                                                                     \n",
       "0          7.0   86901.428571  38339.739652  50138.0   56809.0   78000.0   \n",
       "1       2044.0  181793.565558  79173.195670  12789.0  129975.0  163000.0   \n",
       "\n",
       "             75%       max  \n",
       "street                      \n",
       "0       106175.0  154204.0  \n",
       "1       214000.0  611657.0  "
      ]
     },
     "execution_count": 30,
     "metadata": {},
     "output_type": "execute_result"
    }
   ],
   "source": [
    "df_train.groupby(['street'])['saleprice'].describe()"
   ]
  },
  {
   "cell_type": "code",
   "execution_count": 31,
   "id": "bd345003",
   "metadata": {},
   "outputs": [],
   "source": [
    "for df in [df_train,df_test]:\n",
    "    df['street'] = [0 if val == 'Grvl' else 1 for val in df['street']]"
   ]
  },
  {
   "cell_type": "markdown",
   "id": "c68ff57d",
   "metadata": {},
   "source": [
    "## Alley"
   ]
  },
  {
   "cell_type": "code",
   "execution_count": 33,
   "id": "2b938324",
   "metadata": {},
   "outputs": [
    {
     "data": {
      "text/plain": [
       "Grvl    85\n",
       "Pave    55\n",
       "Name: alley, dtype: int64"
      ]
     },
     "execution_count": 33,
     "metadata": {},
     "output_type": "execute_result"
    }
   ],
   "source": [
    "df_train['alley'].value_counts()"
   ]
  },
  {
   "cell_type": "code",
   "execution_count": 32,
   "id": "3c3b494e",
   "metadata": {},
   "outputs": [
    {
     "data": {
      "text/html": [
       "<div>\n",
       "<style scoped>\n",
       "    .dataframe tbody tr th:only-of-type {\n",
       "        vertical-align: middle;\n",
       "    }\n",
       "\n",
       "    .dataframe tbody tr th {\n",
       "        vertical-align: top;\n",
       "    }\n",
       "\n",
       "    .dataframe thead th {\n",
       "        text-align: right;\n",
       "    }\n",
       "</style>\n",
       "<table border=\"1\" class=\"dataframe\">\n",
       "  <thead>\n",
       "    <tr style=\"text-align: right;\">\n",
       "      <th></th>\n",
       "      <th>count</th>\n",
       "      <th>mean</th>\n",
       "      <th>std</th>\n",
       "      <th>min</th>\n",
       "      <th>25%</th>\n",
       "      <th>50%</th>\n",
       "      <th>75%</th>\n",
       "      <th>max</th>\n",
       "    </tr>\n",
       "    <tr>\n",
       "      <th>alley</th>\n",
       "      <th></th>\n",
       "      <th></th>\n",
       "      <th></th>\n",
       "      <th></th>\n",
       "      <th></th>\n",
       "      <th></th>\n",
       "      <th></th>\n",
       "      <th></th>\n",
       "    </tr>\n",
       "  </thead>\n",
       "  <tbody>\n",
       "    <tr>\n",
       "      <th>Grvl</th>\n",
       "      <td>85.0</td>\n",
       "      <td>120835.635294</td>\n",
       "      <td>35647.047030</td>\n",
       "      <td>35000.0</td>\n",
       "      <td>99900.0</td>\n",
       "      <td>118000.0</td>\n",
       "      <td>142900.0</td>\n",
       "      <td>256000.0</td>\n",
       "    </tr>\n",
       "    <tr>\n",
       "      <th>Pave</th>\n",
       "      <td>55.0</td>\n",
       "      <td>174534.709091</td>\n",
       "      <td>46295.412205</td>\n",
       "      <td>40000.0</td>\n",
       "      <td>152000.0</td>\n",
       "      <td>172500.0</td>\n",
       "      <td>193900.0</td>\n",
       "      <td>345000.0</td>\n",
       "    </tr>\n",
       "  </tbody>\n",
       "</table>\n",
       "</div>"
      ],
      "text/plain": [
       "       count           mean           std      min       25%       50%  \\\n",
       "alley                                                                    \n",
       "Grvl    85.0  120835.635294  35647.047030  35000.0   99900.0  118000.0   \n",
       "Pave    55.0  174534.709091  46295.412205  40000.0  152000.0  172500.0   \n",
       "\n",
       "            75%       max  \n",
       "alley                      \n",
       "Grvl   142900.0  256000.0  \n",
       "Pave   193900.0  345000.0  "
      ]
     },
     "execution_count": 32,
     "metadata": {},
     "output_type": "execute_result"
    }
   ],
   "source": [
    "df_train.groupby(['alley'])['saleprice'].describe()"
   ]
  },
  {
   "cell_type": "code",
   "execution_count": null,
   "id": "3dfd3b14",
   "metadata": {},
   "outputs": [],
   "source": [
    "for df in [df_train,df_test]:\n",
    "    df['alley'] = [0 if val == 'Grvl' else 1 for val in df['alley']]"
   ]
  },
  {
   "cell_type": "markdown",
   "id": "7c243a80",
   "metadata": {},
   "source": [
    "## Lot Shape"
   ]
  },
  {
   "cell_type": "code",
   "execution_count": null,
   "id": "c7948c51",
   "metadata": {},
   "outputs": [],
   "source": [
    "###### ?????\n",
    "\n",
    "df_train['lot_shape'].value_counts()"
   ]
  },
  {
   "cell_type": "code",
   "execution_count": 34,
   "id": "7fc3486c",
   "metadata": {},
   "outputs": [
    {
     "data": {
      "text/html": [
       "<div>\n",
       "<style scoped>\n",
       "    .dataframe tbody tr th:only-of-type {\n",
       "        vertical-align: middle;\n",
       "    }\n",
       "\n",
       "    .dataframe tbody tr th {\n",
       "        vertical-align: top;\n",
       "    }\n",
       "\n",
       "    .dataframe thead th {\n",
       "        text-align: right;\n",
       "    }\n",
       "</style>\n",
       "<table border=\"1\" class=\"dataframe\">\n",
       "  <thead>\n",
       "    <tr style=\"text-align: right;\">\n",
       "      <th></th>\n",
       "      <th>count</th>\n",
       "      <th>mean</th>\n",
       "      <th>std</th>\n",
       "      <th>min</th>\n",
       "      <th>25%</th>\n",
       "      <th>50%</th>\n",
       "      <th>75%</th>\n",
       "      <th>max</th>\n",
       "    </tr>\n",
       "    <tr>\n",
       "      <th>lot_shape</th>\n",
       "      <th></th>\n",
       "      <th></th>\n",
       "      <th></th>\n",
       "      <th></th>\n",
       "      <th></th>\n",
       "      <th></th>\n",
       "      <th></th>\n",
       "      <th></th>\n",
       "    </tr>\n",
       "  </thead>\n",
       "  <tbody>\n",
       "    <tr>\n",
       "      <th>IR1</th>\n",
       "      <td>692.0</td>\n",
       "      <td>211848.670520</td>\n",
       "      <td>83359.764142</td>\n",
       "      <td>52000.0</td>\n",
       "      <td>157000.0</td>\n",
       "      <td>190000.0</td>\n",
       "      <td>250000.0</td>\n",
       "      <td>611657.0</td>\n",
       "    </tr>\n",
       "    <tr>\n",
       "      <th>IR2</th>\n",
       "      <td>55.0</td>\n",
       "      <td>233954.745455</td>\n",
       "      <td>89824.066055</td>\n",
       "      <td>109000.0</td>\n",
       "      <td>174000.0</td>\n",
       "      <td>217500.0</td>\n",
       "      <td>247700.0</td>\n",
       "      <td>538000.0</td>\n",
       "    </tr>\n",
       "    <tr>\n",
       "      <th>IR3</th>\n",
       "      <td>9.0</td>\n",
       "      <td>193182.222222</td>\n",
       "      <td>58500.737982</td>\n",
       "      <td>73000.0</td>\n",
       "      <td>163500.0</td>\n",
       "      <td>192140.0</td>\n",
       "      <td>220000.0</td>\n",
       "      <td>267000.0</td>\n",
       "    </tr>\n",
       "    <tr>\n",
       "      <th>Reg</th>\n",
       "      <td>1295.0</td>\n",
       "      <td>162925.812355</td>\n",
       "      <td>70198.139114</td>\n",
       "      <td>12789.0</td>\n",
       "      <td>120000.0</td>\n",
       "      <td>145000.0</td>\n",
       "      <td>185492.5</td>\n",
       "      <td>582933.0</td>\n",
       "    </tr>\n",
       "  </tbody>\n",
       "</table>\n",
       "</div>"
      ],
      "text/plain": [
       "            count           mean           std       min       25%       50%  \\\n",
       "lot_shape                                                                      \n",
       "IR1         692.0  211848.670520  83359.764142   52000.0  157000.0  190000.0   \n",
       "IR2          55.0  233954.745455  89824.066055  109000.0  174000.0  217500.0   \n",
       "IR3           9.0  193182.222222  58500.737982   73000.0  163500.0  192140.0   \n",
       "Reg        1295.0  162925.812355  70198.139114   12789.0  120000.0  145000.0   \n",
       "\n",
       "                75%       max  \n",
       "lot_shape                      \n",
       "IR1        250000.0  611657.0  \n",
       "IR2        247700.0  538000.0  \n",
       "IR3        220000.0  267000.0  \n",
       "Reg        185492.5  582933.0  "
      ]
     },
     "execution_count": 34,
     "metadata": {},
     "output_type": "execute_result"
    }
   ],
   "source": [
    "df_train.groupby(['lot_shape'])['saleprice'].describe()"
   ]
  },
  {
   "cell_type": "code",
   "execution_count": null,
   "id": "d1e58f2e",
   "metadata": {},
   "outputs": [],
   "source": [
    "for df in [df_train,df_test]:\n",
    "    df['lot_shape'] = [0 if val == 'IR3' \n",
    "                         else 1 if val == 'IR2' \n",
    "                         else 2 if val == 'IR1'\n",
    "                         else 3\n",
    "                         for val in df['lot_shape']]"
   ]
  },
  {
   "cell_type": "markdown",
   "id": "8d1a6c68",
   "metadata": {},
   "source": [
    "## Land Contour"
   ]
  },
  {
   "cell_type": "code",
   "execution_count": 35,
   "id": "68c179e7",
   "metadata": {},
   "outputs": [
    {
     "data": {
      "text/plain": [
       "Lvl    1843\n",
       "HLS      85\n",
       "Bnk      80\n",
       "Low      43\n",
       "Name: land_contour, dtype: int64"
      ]
     },
     "execution_count": 35,
     "metadata": {},
     "output_type": "execute_result"
    }
   ],
   "source": [
    "df_train['land_contour'].value_counts()"
   ]
  },
  {
   "cell_type": "code",
   "execution_count": 36,
   "id": "db1b1334",
   "metadata": {},
   "outputs": [
    {
     "data": {
      "text/html": [
       "<div>\n",
       "<style scoped>\n",
       "    .dataframe tbody tr th:only-of-type {\n",
       "        vertical-align: middle;\n",
       "    }\n",
       "\n",
       "    .dataframe tbody tr th {\n",
       "        vertical-align: top;\n",
       "    }\n",
       "\n",
       "    .dataframe thead th {\n",
       "        text-align: right;\n",
       "    }\n",
       "</style>\n",
       "<table border=\"1\" class=\"dataframe\">\n",
       "  <thead>\n",
       "    <tr style=\"text-align: right;\">\n",
       "      <th></th>\n",
       "      <th>count</th>\n",
       "      <th>mean</th>\n",
       "      <th>std</th>\n",
       "      <th>min</th>\n",
       "      <th>25%</th>\n",
       "      <th>50%</th>\n",
       "      <th>75%</th>\n",
       "      <th>max</th>\n",
       "    </tr>\n",
       "    <tr>\n",
       "      <th>land_contour</th>\n",
       "      <th></th>\n",
       "      <th></th>\n",
       "      <th></th>\n",
       "      <th></th>\n",
       "      <th></th>\n",
       "      <th></th>\n",
       "      <th></th>\n",
       "      <th></th>\n",
       "    </tr>\n",
       "  </thead>\n",
       "  <tbody>\n",
       "    <tr>\n",
       "      <th>Bnk</th>\n",
       "      <td>80.0</td>\n",
       "      <td>142868.775000</td>\n",
       "      <td>49275.865018</td>\n",
       "      <td>52500.0</td>\n",
       "      <td>109625.0</td>\n",
       "      <td>137250.0</td>\n",
       "      <td>170000.0</td>\n",
       "      <td>315000.0</td>\n",
       "    </tr>\n",
       "    <tr>\n",
       "      <th>HLS</th>\n",
       "      <td>85.0</td>\n",
       "      <td>262353.376471</td>\n",
       "      <td>116726.453660</td>\n",
       "      <td>79275.0</td>\n",
       "      <td>173000.0</td>\n",
       "      <td>242000.0</td>\n",
       "      <td>355000.0</td>\n",
       "      <td>552000.0</td>\n",
       "    </tr>\n",
       "    <tr>\n",
       "      <th>Low</th>\n",
       "      <td>43.0</td>\n",
       "      <td>199313.116279</td>\n",
       "      <td>82609.276243</td>\n",
       "      <td>13100.0</td>\n",
       "      <td>143500.0</td>\n",
       "      <td>207000.0</td>\n",
       "      <td>270000.0</td>\n",
       "      <td>385000.0</td>\n",
       "    </tr>\n",
       "    <tr>\n",
       "      <th>Lvl</th>\n",
       "      <td>1843.0</td>\n",
       "      <td>178998.564840</td>\n",
       "      <td>75697.224509</td>\n",
       "      <td>12789.0</td>\n",
       "      <td>129500.0</td>\n",
       "      <td>161000.0</td>\n",
       "      <td>211000.0</td>\n",
       "      <td>611657.0</td>\n",
       "    </tr>\n",
       "  </tbody>\n",
       "</table>\n",
       "</div>"
      ],
      "text/plain": [
       "               count           mean            std      min       25%  \\\n",
       "land_contour                                                            \n",
       "Bnk             80.0  142868.775000   49275.865018  52500.0  109625.0   \n",
       "HLS             85.0  262353.376471  116726.453660  79275.0  173000.0   \n",
       "Low             43.0  199313.116279   82609.276243  13100.0  143500.0   \n",
       "Lvl           1843.0  178998.564840   75697.224509  12789.0  129500.0   \n",
       "\n",
       "                   50%       75%       max  \n",
       "land_contour                                \n",
       "Bnk           137250.0  170000.0  315000.0  \n",
       "HLS           242000.0  355000.0  552000.0  \n",
       "Low           207000.0  270000.0  385000.0  \n",
       "Lvl           161000.0  211000.0  611657.0  "
      ]
     },
     "execution_count": 36,
     "metadata": {},
     "output_type": "execute_result"
    }
   ],
   "source": [
    "df_train.groupby(['land_contour'])['saleprice'].describe()"
   ]
  },
  {
   "cell_type": "code",
   "execution_count": 37,
   "id": "1ede4286",
   "metadata": {},
   "outputs": [],
   "source": [
    "for df in [df_train,df_test]:\n",
    "    df['land_contour'] = [0 if val == 'Bnk' \n",
    "                         else 1 if val == 'Lvl' \n",
    "                         else 2 if val == 'Low'\n",
    "                         else 3\n",
    "                         for val in df['land_contour']]"
   ]
  },
  {
   "cell_type": "markdown",
   "id": "966dda85",
   "metadata": {},
   "source": [
    "## Utilities"
   ]
  },
  {
   "cell_type": "code",
   "execution_count": 38,
   "id": "c63fc768",
   "metadata": {},
   "outputs": [
    {
     "data": {
      "text/plain": [
       "AllPub    2049\n",
       "NoSeWa       1\n",
       "NoSewr       1\n",
       "Name: utilities, dtype: int64"
      ]
     },
     "execution_count": 38,
     "metadata": {},
     "output_type": "execute_result"
    }
   ],
   "source": [
    "df_train['utilities'].value_counts()"
   ]
  },
  {
   "cell_type": "code",
   "execution_count": 39,
   "id": "2554fc77",
   "metadata": {},
   "outputs": [
    {
     "data": {
      "text/html": [
       "<div>\n",
       "<style scoped>\n",
       "    .dataframe tbody tr th:only-of-type {\n",
       "        vertical-align: middle;\n",
       "    }\n",
       "\n",
       "    .dataframe tbody tr th {\n",
       "        vertical-align: top;\n",
       "    }\n",
       "\n",
       "    .dataframe thead th {\n",
       "        text-align: right;\n",
       "    }\n",
       "</style>\n",
       "<table border=\"1\" class=\"dataframe\">\n",
       "  <thead>\n",
       "    <tr style=\"text-align: right;\">\n",
       "      <th></th>\n",
       "      <th>count</th>\n",
       "      <th>mean</th>\n",
       "      <th>std</th>\n",
       "      <th>min</th>\n",
       "      <th>25%</th>\n",
       "      <th>50%</th>\n",
       "      <th>75%</th>\n",
       "      <th>max</th>\n",
       "    </tr>\n",
       "    <tr>\n",
       "      <th>utilities</th>\n",
       "      <th></th>\n",
       "      <th></th>\n",
       "      <th></th>\n",
       "      <th></th>\n",
       "      <th></th>\n",
       "      <th></th>\n",
       "      <th></th>\n",
       "      <th></th>\n",
       "    </tr>\n",
       "  </thead>\n",
       "  <tbody>\n",
       "    <tr>\n",
       "      <th>AllPub</th>\n",
       "      <td>2049.0</td>\n",
       "      <td>181551.602245</td>\n",
       "      <td>79244.116778</td>\n",
       "      <td>12789.0</td>\n",
       "      <td>129850.0</td>\n",
       "      <td>162500.0</td>\n",
       "      <td>214000.0</td>\n",
       "      <td>611657.0</td>\n",
       "    </tr>\n",
       "    <tr>\n",
       "      <th>NoSeWa</th>\n",
       "      <td>1.0</td>\n",
       "      <td>137500.000000</td>\n",
       "      <td>NaN</td>\n",
       "      <td>137500.0</td>\n",
       "      <td>137500.0</td>\n",
       "      <td>137500.0</td>\n",
       "      <td>137500.0</td>\n",
       "      <td>137500.0</td>\n",
       "    </tr>\n",
       "    <tr>\n",
       "      <th>NoSewr</th>\n",
       "      <td>1.0</td>\n",
       "      <td>57625.000000</td>\n",
       "      <td>NaN</td>\n",
       "      <td>57625.0</td>\n",
       "      <td>57625.0</td>\n",
       "      <td>57625.0</td>\n",
       "      <td>57625.0</td>\n",
       "      <td>57625.0</td>\n",
       "    </tr>\n",
       "  </tbody>\n",
       "</table>\n",
       "</div>"
      ],
      "text/plain": [
       "            count           mean           std       min       25%       50%  \\\n",
       "utilities                                                                      \n",
       "AllPub     2049.0  181551.602245  79244.116778   12789.0  129850.0  162500.0   \n",
       "NoSeWa        1.0  137500.000000           NaN  137500.0  137500.0  137500.0   \n",
       "NoSewr        1.0   57625.000000           NaN   57625.0   57625.0   57625.0   \n",
       "\n",
       "                75%       max  \n",
       "utilities                      \n",
       "AllPub     214000.0  611657.0  \n",
       "NoSeWa     137500.0  137500.0  \n",
       "NoSewr      57625.0   57625.0  "
      ]
     },
     "execution_count": 39,
     "metadata": {},
     "output_type": "execute_result"
    }
   ],
   "source": [
    "df_train.groupby(['utilities'])['saleprice'].describe()"
   ]
  },
  {
   "cell_type": "code",
   "execution_count": 40,
   "id": "2bdfdb34",
   "metadata": {},
   "outputs": [],
   "source": [
    "for df in [df_train,df_test]:\n",
    "    df['utilities'] = [0 if (val == 'NoSeWa') | (val == 'NoSeWr')\n",
    "                       else 1\n",
    "                       for val in df['utilities']]"
   ]
  },
  {
   "cell_type": "markdown",
   "id": "2d792609",
   "metadata": {},
   "source": [
    "## Lot Config"
   ]
  },
  {
   "cell_type": "code",
   "execution_count": 41,
   "id": "220d2d07",
   "metadata": {},
   "outputs": [
    {
     "data": {
      "text/plain": [
       "Inside     1503\n",
       "Corner      348\n",
       "CulDSac     131\n",
       "FR2          60\n",
       "FR3           9\n",
       "Name: lot_config, dtype: int64"
      ]
     },
     "execution_count": 41,
     "metadata": {},
     "output_type": "execute_result"
    }
   ],
   "source": [
    "df_train['lot_config'].value_counts()"
   ]
  },
  {
   "cell_type": "code",
   "execution_count": 42,
   "id": "91f43a6d",
   "metadata": {},
   "outputs": [
    {
     "data": {
      "text/html": [
       "<div>\n",
       "<style scoped>\n",
       "    .dataframe tbody tr th:only-of-type {\n",
       "        vertical-align: middle;\n",
       "    }\n",
       "\n",
       "    .dataframe tbody tr th {\n",
       "        vertical-align: top;\n",
       "    }\n",
       "\n",
       "    .dataframe thead th {\n",
       "        text-align: right;\n",
       "    }\n",
       "</style>\n",
       "<table border=\"1\" class=\"dataframe\">\n",
       "  <thead>\n",
       "    <tr style=\"text-align: right;\">\n",
       "      <th></th>\n",
       "      <th>count</th>\n",
       "      <th>mean</th>\n",
       "      <th>std</th>\n",
       "      <th>min</th>\n",
       "      <th>25%</th>\n",
       "      <th>50%</th>\n",
       "      <th>75%</th>\n",
       "      <th>max</th>\n",
       "    </tr>\n",
       "    <tr>\n",
       "      <th>lot_config</th>\n",
       "      <th></th>\n",
       "      <th></th>\n",
       "      <th></th>\n",
       "      <th></th>\n",
       "      <th></th>\n",
       "      <th></th>\n",
       "      <th></th>\n",
       "      <th></th>\n",
       "    </tr>\n",
       "  </thead>\n",
       "  <tbody>\n",
       "    <tr>\n",
       "      <th>Corner</th>\n",
       "      <td>348.0</td>\n",
       "      <td>180629.591954</td>\n",
       "      <td>74223.005036</td>\n",
       "      <td>44000.0</td>\n",
       "      <td>132000.0</td>\n",
       "      <td>161000.0</td>\n",
       "      <td>218209.0</td>\n",
       "      <td>468000.0</td>\n",
       "    </tr>\n",
       "    <tr>\n",
       "      <th>CulDSac</th>\n",
       "      <td>131.0</td>\n",
       "      <td>230744.358779</td>\n",
       "      <td>98419.411679</td>\n",
       "      <td>80000.0</td>\n",
       "      <td>158000.0</td>\n",
       "      <td>215000.0</td>\n",
       "      <td>269000.0</td>\n",
       "      <td>591587.0</td>\n",
       "    </tr>\n",
       "    <tr>\n",
       "      <th>FR2</th>\n",
       "      <td>60.0</td>\n",
       "      <td>174703.600000</td>\n",
       "      <td>60125.817532</td>\n",
       "      <td>81000.0</td>\n",
       "      <td>132500.0</td>\n",
       "      <td>162250.0</td>\n",
       "      <td>195750.0</td>\n",
       "      <td>394617.0</td>\n",
       "    </tr>\n",
       "    <tr>\n",
       "      <th>FR3</th>\n",
       "      <td>9.0</td>\n",
       "      <td>198600.000000</td>\n",
       "      <td>91734.412845</td>\n",
       "      <td>79000.0</td>\n",
       "      <td>119900.0</td>\n",
       "      <td>207000.0</td>\n",
       "      <td>296000.0</td>\n",
       "      <td>315000.0</td>\n",
       "    </tr>\n",
       "    <tr>\n",
       "      <th>Inside</th>\n",
       "      <td>1503.0</td>\n",
       "      <td>177537.014637</td>\n",
       "      <td>77749.368500</td>\n",
       "      <td>12789.0</td>\n",
       "      <td>128000.0</td>\n",
       "      <td>159000.0</td>\n",
       "      <td>206740.0</td>\n",
       "      <td>611657.0</td>\n",
       "    </tr>\n",
       "  </tbody>\n",
       "</table>\n",
       "</div>"
      ],
      "text/plain": [
       "             count           mean           std      min       25%       50%  \\\n",
       "lot_config                                                                     \n",
       "Corner       348.0  180629.591954  74223.005036  44000.0  132000.0  161000.0   \n",
       "CulDSac      131.0  230744.358779  98419.411679  80000.0  158000.0  215000.0   \n",
       "FR2           60.0  174703.600000  60125.817532  81000.0  132500.0  162250.0   \n",
       "FR3            9.0  198600.000000  91734.412845  79000.0  119900.0  207000.0   \n",
       "Inside      1503.0  177537.014637  77749.368500  12789.0  128000.0  159000.0   \n",
       "\n",
       "                 75%       max  \n",
       "lot_config                      \n",
       "Corner      218209.0  468000.0  \n",
       "CulDSac     269000.0  591587.0  \n",
       "FR2         195750.0  394617.0  \n",
       "FR3         296000.0  315000.0  \n",
       "Inside      206740.0  611657.0  "
      ]
     },
     "execution_count": 42,
     "metadata": {},
     "output_type": "execute_result"
    }
   ],
   "source": [
    "df_train.groupby(['lot_config'])['saleprice'].describe()"
   ]
  },
  {
   "cell_type": "code",
   "execution_count": 54,
   "id": "55e9eb21",
   "metadata": {},
   "outputs": [
    {
     "name": "stderr",
     "output_type": "stream",
     "text": [
      "C:\\Anaconda\\lib\\site-packages\\numpy\\core\\fromnumeric.py:43: VisibleDeprecationWarning: Creating an ndarray from ragged nested sequences (which is a list-or-tuple of lists-or-tuples-or ndarrays with different lengths or shapes) is deprecated. If you meant to do this, you must specify 'dtype=object' when creating the ndarray.\n",
      "  result = getattr(asarray(obj), method)(*args, **kwds)\n"
     ]
    },
    {
     "ename": "ValueError",
     "evalue": "setting an array element with a sequence.",
     "output_type": "error",
     "traceback": [
      "\u001b[1;31m---------------------------------------------------------------------------\u001b[0m",
      "\u001b[1;31mTypeError\u001b[0m                                 Traceback (most recent call last)",
      "\u001b[1;32mC:\\Anaconda\\lib\\site-packages\\pandas\\core\\series.py\u001b[0m in \u001b[0;36mwrapper\u001b[1;34m(self)\u001b[0m\n\u001b[0;32m    190\u001b[0m             \u001b[1;32mreturn\u001b[0m \u001b[0mconverter\u001b[0m\u001b[1;33m(\u001b[0m\u001b[0mself\u001b[0m\u001b[1;33m.\u001b[0m\u001b[0miloc\u001b[0m\u001b[1;33m[\u001b[0m\u001b[1;36m0\u001b[0m\u001b[1;33m]\u001b[0m\u001b[1;33m)\u001b[0m\u001b[1;33m\u001b[0m\u001b[1;33m\u001b[0m\u001b[0m\n\u001b[1;32m--> 191\u001b[1;33m         \u001b[1;32mraise\u001b[0m \u001b[0mTypeError\u001b[0m\u001b[1;33m(\u001b[0m\u001b[1;34mf\"cannot convert the series to {converter}\"\u001b[0m\u001b[1;33m)\u001b[0m\u001b[1;33m\u001b[0m\u001b[1;33m\u001b[0m\u001b[0m\n\u001b[0m\u001b[0;32m    192\u001b[0m \u001b[1;33m\u001b[0m\u001b[0m\n",
      "\u001b[1;31mTypeError\u001b[0m: cannot convert the series to <class 'float'>",
      "\nThe above exception was the direct cause of the following exception:\n",
      "\u001b[1;31mValueError\u001b[0m                                Traceback (most recent call last)",
      "\u001b[1;32mC:\\Anaconda\\lib\\site-packages\\IPython\\core\\formatters.py\u001b[0m in \u001b[0;36m__call__\u001b[1;34m(self, obj)\u001b[0m\n\u001b[0;32m    339\u001b[0m                 \u001b[1;32mpass\u001b[0m\u001b[1;33m\u001b[0m\u001b[1;33m\u001b[0m\u001b[0m\n\u001b[0;32m    340\u001b[0m             \u001b[1;32melse\u001b[0m\u001b[1;33m:\u001b[0m\u001b[1;33m\u001b[0m\u001b[1;33m\u001b[0m\u001b[0m\n\u001b[1;32m--> 341\u001b[1;33m                 \u001b[1;32mreturn\u001b[0m \u001b[0mprinter\u001b[0m\u001b[1;33m(\u001b[0m\u001b[0mobj\u001b[0m\u001b[1;33m)\u001b[0m\u001b[1;33m\u001b[0m\u001b[1;33m\u001b[0m\u001b[0m\n\u001b[0m\u001b[0;32m    342\u001b[0m             \u001b[1;31m# Finally look for special method names\u001b[0m\u001b[1;33m\u001b[0m\u001b[1;33m\u001b[0m\u001b[0m\n\u001b[0;32m    343\u001b[0m             \u001b[0mmethod\u001b[0m \u001b[1;33m=\u001b[0m \u001b[0mget_real_method\u001b[0m\u001b[1;33m(\u001b[0m\u001b[0mobj\u001b[0m\u001b[1;33m,\u001b[0m \u001b[0mself\u001b[0m\u001b[1;33m.\u001b[0m\u001b[0mprint_method\u001b[0m\u001b[1;33m)\u001b[0m\u001b[1;33m\u001b[0m\u001b[1;33m\u001b[0m\u001b[0m\n",
      "\u001b[1;32mC:\\Anaconda\\lib\\site-packages\\IPython\\core\\pylabtools.py\u001b[0m in \u001b[0;36mprint_figure\u001b[1;34m(fig, fmt, bbox_inches, base64, **kwargs)\u001b[0m\n\u001b[0;32m    149\u001b[0m         \u001b[0mFigureCanvasBase\u001b[0m\u001b[1;33m(\u001b[0m\u001b[0mfig\u001b[0m\u001b[1;33m)\u001b[0m\u001b[1;33m\u001b[0m\u001b[1;33m\u001b[0m\u001b[0m\n\u001b[0;32m    150\u001b[0m \u001b[1;33m\u001b[0m\u001b[0m\n\u001b[1;32m--> 151\u001b[1;33m     \u001b[0mfig\u001b[0m\u001b[1;33m.\u001b[0m\u001b[0mcanvas\u001b[0m\u001b[1;33m.\u001b[0m\u001b[0mprint_figure\u001b[0m\u001b[1;33m(\u001b[0m\u001b[0mbytes_io\u001b[0m\u001b[1;33m,\u001b[0m \u001b[1;33m**\u001b[0m\u001b[0mkw\u001b[0m\u001b[1;33m)\u001b[0m\u001b[1;33m\u001b[0m\u001b[1;33m\u001b[0m\u001b[0m\n\u001b[0m\u001b[0;32m    152\u001b[0m     \u001b[0mdata\u001b[0m \u001b[1;33m=\u001b[0m \u001b[0mbytes_io\u001b[0m\u001b[1;33m.\u001b[0m\u001b[0mgetvalue\u001b[0m\u001b[1;33m(\u001b[0m\u001b[1;33m)\u001b[0m\u001b[1;33m\u001b[0m\u001b[1;33m\u001b[0m\u001b[0m\n\u001b[0;32m    153\u001b[0m     \u001b[1;32mif\u001b[0m \u001b[0mfmt\u001b[0m \u001b[1;33m==\u001b[0m \u001b[1;34m'svg'\u001b[0m\u001b[1;33m:\u001b[0m\u001b[1;33m\u001b[0m\u001b[1;33m\u001b[0m\u001b[0m\n",
      "\u001b[1;32mC:\\Anaconda\\lib\\site-packages\\matplotlib\\backend_bases.py\u001b[0m in \u001b[0;36mprint_figure\u001b[1;34m(self, filename, dpi, facecolor, edgecolor, orientation, format, bbox_inches, pad_inches, bbox_extra_artists, backend, **kwargs)\u001b[0m\n\u001b[0;32m   2293\u001b[0m                 )\n\u001b[0;32m   2294\u001b[0m                 \u001b[1;32mwith\u001b[0m \u001b[0mgetattr\u001b[0m\u001b[1;33m(\u001b[0m\u001b[0mrenderer\u001b[0m\u001b[1;33m,\u001b[0m \u001b[1;34m\"_draw_disabled\"\u001b[0m\u001b[1;33m,\u001b[0m \u001b[0mnullcontext\u001b[0m\u001b[1;33m)\u001b[0m\u001b[1;33m(\u001b[0m\u001b[1;33m)\u001b[0m\u001b[1;33m:\u001b[0m\u001b[1;33m\u001b[0m\u001b[1;33m\u001b[0m\u001b[0m\n\u001b[1;32m-> 2295\u001b[1;33m                     \u001b[0mself\u001b[0m\u001b[1;33m.\u001b[0m\u001b[0mfigure\u001b[0m\u001b[1;33m.\u001b[0m\u001b[0mdraw\u001b[0m\u001b[1;33m(\u001b[0m\u001b[0mrenderer\u001b[0m\u001b[1;33m)\u001b[0m\u001b[1;33m\u001b[0m\u001b[1;33m\u001b[0m\u001b[0m\n\u001b[0m\u001b[0;32m   2296\u001b[0m \u001b[1;33m\u001b[0m\u001b[0m\n\u001b[0;32m   2297\u001b[0m             \u001b[1;32mif\u001b[0m \u001b[0mbbox_inches\u001b[0m\u001b[1;33m:\u001b[0m\u001b[1;33m\u001b[0m\u001b[1;33m\u001b[0m\u001b[0m\n",
      "\u001b[1;32mC:\\Anaconda\\lib\\site-packages\\matplotlib\\artist.py\u001b[0m in \u001b[0;36mdraw_wrapper\u001b[1;34m(artist, renderer, *args, **kwargs)\u001b[0m\n\u001b[0;32m     71\u001b[0m     \u001b[1;33m@\u001b[0m\u001b[0mwraps\u001b[0m\u001b[1;33m(\u001b[0m\u001b[0mdraw\u001b[0m\u001b[1;33m)\u001b[0m\u001b[1;33m\u001b[0m\u001b[1;33m\u001b[0m\u001b[0m\n\u001b[0;32m     72\u001b[0m     \u001b[1;32mdef\u001b[0m \u001b[0mdraw_wrapper\u001b[0m\u001b[1;33m(\u001b[0m\u001b[0martist\u001b[0m\u001b[1;33m,\u001b[0m \u001b[0mrenderer\u001b[0m\u001b[1;33m,\u001b[0m \u001b[1;33m*\u001b[0m\u001b[0margs\u001b[0m\u001b[1;33m,\u001b[0m \u001b[1;33m**\u001b[0m\u001b[0mkwargs\u001b[0m\u001b[1;33m)\u001b[0m\u001b[1;33m:\u001b[0m\u001b[1;33m\u001b[0m\u001b[1;33m\u001b[0m\u001b[0m\n\u001b[1;32m---> 73\u001b[1;33m         \u001b[0mresult\u001b[0m \u001b[1;33m=\u001b[0m \u001b[0mdraw\u001b[0m\u001b[1;33m(\u001b[0m\u001b[0martist\u001b[0m\u001b[1;33m,\u001b[0m \u001b[0mrenderer\u001b[0m\u001b[1;33m,\u001b[0m \u001b[1;33m*\u001b[0m\u001b[0margs\u001b[0m\u001b[1;33m,\u001b[0m \u001b[1;33m**\u001b[0m\u001b[0mkwargs\u001b[0m\u001b[1;33m)\u001b[0m\u001b[1;33m\u001b[0m\u001b[1;33m\u001b[0m\u001b[0m\n\u001b[0m\u001b[0;32m     74\u001b[0m         \u001b[1;32mif\u001b[0m \u001b[0mrenderer\u001b[0m\u001b[1;33m.\u001b[0m\u001b[0m_rasterizing\u001b[0m\u001b[1;33m:\u001b[0m\u001b[1;33m\u001b[0m\u001b[1;33m\u001b[0m\u001b[0m\n\u001b[0;32m     75\u001b[0m             \u001b[0mrenderer\u001b[0m\u001b[1;33m.\u001b[0m\u001b[0mstop_rasterizing\u001b[0m\u001b[1;33m(\u001b[0m\u001b[1;33m)\u001b[0m\u001b[1;33m\u001b[0m\u001b[1;33m\u001b[0m\u001b[0m\n",
      "\u001b[1;32mC:\\Anaconda\\lib\\site-packages\\matplotlib\\artist.py\u001b[0m in \u001b[0;36mdraw_wrapper\u001b[1;34m(artist, renderer)\u001b[0m\n\u001b[0;32m     48\u001b[0m                 \u001b[0mrenderer\u001b[0m\u001b[1;33m.\u001b[0m\u001b[0mstart_filter\u001b[0m\u001b[1;33m(\u001b[0m\u001b[1;33m)\u001b[0m\u001b[1;33m\u001b[0m\u001b[1;33m\u001b[0m\u001b[0m\n\u001b[0;32m     49\u001b[0m \u001b[1;33m\u001b[0m\u001b[0m\n\u001b[1;32m---> 50\u001b[1;33m             \u001b[1;32mreturn\u001b[0m \u001b[0mdraw\u001b[0m\u001b[1;33m(\u001b[0m\u001b[0martist\u001b[0m\u001b[1;33m,\u001b[0m \u001b[0mrenderer\u001b[0m\u001b[1;33m)\u001b[0m\u001b[1;33m\u001b[0m\u001b[1;33m\u001b[0m\u001b[0m\n\u001b[0m\u001b[0;32m     51\u001b[0m         \u001b[1;32mfinally\u001b[0m\u001b[1;33m:\u001b[0m\u001b[1;33m\u001b[0m\u001b[1;33m\u001b[0m\u001b[0m\n\u001b[0;32m     52\u001b[0m             \u001b[1;32mif\u001b[0m \u001b[0martist\u001b[0m\u001b[1;33m.\u001b[0m\u001b[0mget_agg_filter\u001b[0m\u001b[1;33m(\u001b[0m\u001b[1;33m)\u001b[0m \u001b[1;32mis\u001b[0m \u001b[1;32mnot\u001b[0m \u001b[1;32mNone\u001b[0m\u001b[1;33m:\u001b[0m\u001b[1;33m\u001b[0m\u001b[1;33m\u001b[0m\u001b[0m\n",
      "\u001b[1;32mC:\\Anaconda\\lib\\site-packages\\matplotlib\\figure.py\u001b[0m in \u001b[0;36mdraw\u001b[1;34m(self, renderer)\u001b[0m\n\u001b[0;32m   2835\u001b[0m \u001b[1;33m\u001b[0m\u001b[0m\n\u001b[0;32m   2836\u001b[0m             \u001b[0mself\u001b[0m\u001b[1;33m.\u001b[0m\u001b[0mpatch\u001b[0m\u001b[1;33m.\u001b[0m\u001b[0mdraw\u001b[0m\u001b[1;33m(\u001b[0m\u001b[0mrenderer\u001b[0m\u001b[1;33m)\u001b[0m\u001b[1;33m\u001b[0m\u001b[1;33m\u001b[0m\u001b[0m\n\u001b[1;32m-> 2837\u001b[1;33m             mimage._draw_list_compositing_images(\n\u001b[0m\u001b[0;32m   2838\u001b[0m                 renderer, self, artists, self.suppressComposite)\n\u001b[0;32m   2839\u001b[0m \u001b[1;33m\u001b[0m\u001b[0m\n",
      "\u001b[1;32mC:\\Anaconda\\lib\\site-packages\\matplotlib\\image.py\u001b[0m in \u001b[0;36m_draw_list_compositing_images\u001b[1;34m(renderer, parent, artists, suppress_composite)\u001b[0m\n\u001b[0;32m    130\u001b[0m     \u001b[1;32mif\u001b[0m \u001b[0mnot_composite\u001b[0m \u001b[1;32mor\u001b[0m \u001b[1;32mnot\u001b[0m \u001b[0mhas_images\u001b[0m\u001b[1;33m:\u001b[0m\u001b[1;33m\u001b[0m\u001b[1;33m\u001b[0m\u001b[0m\n\u001b[0;32m    131\u001b[0m         \u001b[1;32mfor\u001b[0m \u001b[0ma\u001b[0m \u001b[1;32min\u001b[0m \u001b[0martists\u001b[0m\u001b[1;33m:\u001b[0m\u001b[1;33m\u001b[0m\u001b[1;33m\u001b[0m\u001b[0m\n\u001b[1;32m--> 132\u001b[1;33m             \u001b[0ma\u001b[0m\u001b[1;33m.\u001b[0m\u001b[0mdraw\u001b[0m\u001b[1;33m(\u001b[0m\u001b[0mrenderer\u001b[0m\u001b[1;33m)\u001b[0m\u001b[1;33m\u001b[0m\u001b[1;33m\u001b[0m\u001b[0m\n\u001b[0m\u001b[0;32m    133\u001b[0m     \u001b[1;32melse\u001b[0m\u001b[1;33m:\u001b[0m\u001b[1;33m\u001b[0m\u001b[1;33m\u001b[0m\u001b[0m\n\u001b[0;32m    134\u001b[0m         \u001b[1;31m# Composite any adjacent images together\u001b[0m\u001b[1;33m\u001b[0m\u001b[1;33m\u001b[0m\u001b[0m\n",
      "\u001b[1;32mC:\\Anaconda\\lib\\site-packages\\matplotlib\\artist.py\u001b[0m in \u001b[0;36mdraw_wrapper\u001b[1;34m(artist, renderer)\u001b[0m\n\u001b[0;32m     48\u001b[0m                 \u001b[0mrenderer\u001b[0m\u001b[1;33m.\u001b[0m\u001b[0mstart_filter\u001b[0m\u001b[1;33m(\u001b[0m\u001b[1;33m)\u001b[0m\u001b[1;33m\u001b[0m\u001b[1;33m\u001b[0m\u001b[0m\n\u001b[0;32m     49\u001b[0m \u001b[1;33m\u001b[0m\u001b[0m\n\u001b[1;32m---> 50\u001b[1;33m             \u001b[1;32mreturn\u001b[0m \u001b[0mdraw\u001b[0m\u001b[1;33m(\u001b[0m\u001b[0martist\u001b[0m\u001b[1;33m,\u001b[0m \u001b[0mrenderer\u001b[0m\u001b[1;33m)\u001b[0m\u001b[1;33m\u001b[0m\u001b[1;33m\u001b[0m\u001b[0m\n\u001b[0m\u001b[0;32m     51\u001b[0m         \u001b[1;32mfinally\u001b[0m\u001b[1;33m:\u001b[0m\u001b[1;33m\u001b[0m\u001b[1;33m\u001b[0m\u001b[0m\n\u001b[0;32m     52\u001b[0m             \u001b[1;32mif\u001b[0m \u001b[0martist\u001b[0m\u001b[1;33m.\u001b[0m\u001b[0mget_agg_filter\u001b[0m\u001b[1;33m(\u001b[0m\u001b[1;33m)\u001b[0m \u001b[1;32mis\u001b[0m \u001b[1;32mnot\u001b[0m \u001b[1;32mNone\u001b[0m\u001b[1;33m:\u001b[0m\u001b[1;33m\u001b[0m\u001b[1;33m\u001b[0m\u001b[0m\n",
      "\u001b[1;32mC:\\Anaconda\\lib\\site-packages\\matplotlib\\axes\\_base.py\u001b[0m in \u001b[0;36mdraw\u001b[1;34m(self, renderer)\u001b[0m\n\u001b[0;32m   3089\u001b[0m             \u001b[0mrenderer\u001b[0m\u001b[1;33m.\u001b[0m\u001b[0mstop_rasterizing\u001b[0m\u001b[1;33m(\u001b[0m\u001b[1;33m)\u001b[0m\u001b[1;33m\u001b[0m\u001b[1;33m\u001b[0m\u001b[0m\n\u001b[0;32m   3090\u001b[0m \u001b[1;33m\u001b[0m\u001b[0m\n\u001b[1;32m-> 3091\u001b[1;33m         mimage._draw_list_compositing_images(\n\u001b[0m\u001b[0;32m   3092\u001b[0m             renderer, self, artists, self.figure.suppressComposite)\n\u001b[0;32m   3093\u001b[0m \u001b[1;33m\u001b[0m\u001b[0m\n",
      "\u001b[1;32mC:\\Anaconda\\lib\\site-packages\\matplotlib\\image.py\u001b[0m in \u001b[0;36m_draw_list_compositing_images\u001b[1;34m(renderer, parent, artists, suppress_composite)\u001b[0m\n\u001b[0;32m    130\u001b[0m     \u001b[1;32mif\u001b[0m \u001b[0mnot_composite\u001b[0m \u001b[1;32mor\u001b[0m \u001b[1;32mnot\u001b[0m \u001b[0mhas_images\u001b[0m\u001b[1;33m:\u001b[0m\u001b[1;33m\u001b[0m\u001b[1;33m\u001b[0m\u001b[0m\n\u001b[0;32m    131\u001b[0m         \u001b[1;32mfor\u001b[0m \u001b[0ma\u001b[0m \u001b[1;32min\u001b[0m \u001b[0martists\u001b[0m\u001b[1;33m:\u001b[0m\u001b[1;33m\u001b[0m\u001b[1;33m\u001b[0m\u001b[0m\n\u001b[1;32m--> 132\u001b[1;33m             \u001b[0ma\u001b[0m\u001b[1;33m.\u001b[0m\u001b[0mdraw\u001b[0m\u001b[1;33m(\u001b[0m\u001b[0mrenderer\u001b[0m\u001b[1;33m)\u001b[0m\u001b[1;33m\u001b[0m\u001b[1;33m\u001b[0m\u001b[0m\n\u001b[0m\u001b[0;32m    133\u001b[0m     \u001b[1;32melse\u001b[0m\u001b[1;33m:\u001b[0m\u001b[1;33m\u001b[0m\u001b[1;33m\u001b[0m\u001b[0m\n\u001b[0;32m    134\u001b[0m         \u001b[1;31m# Composite any adjacent images together\u001b[0m\u001b[1;33m\u001b[0m\u001b[1;33m\u001b[0m\u001b[0m\n",
      "\u001b[1;32mC:\\Anaconda\\lib\\site-packages\\matplotlib\\artist.py\u001b[0m in \u001b[0;36mdraw_wrapper\u001b[1;34m(artist, renderer)\u001b[0m\n\u001b[0;32m     48\u001b[0m                 \u001b[0mrenderer\u001b[0m\u001b[1;33m.\u001b[0m\u001b[0mstart_filter\u001b[0m\u001b[1;33m(\u001b[0m\u001b[1;33m)\u001b[0m\u001b[1;33m\u001b[0m\u001b[1;33m\u001b[0m\u001b[0m\n\u001b[0;32m     49\u001b[0m \u001b[1;33m\u001b[0m\u001b[0m\n\u001b[1;32m---> 50\u001b[1;33m             \u001b[1;32mreturn\u001b[0m \u001b[0mdraw\u001b[0m\u001b[1;33m(\u001b[0m\u001b[0martist\u001b[0m\u001b[1;33m,\u001b[0m \u001b[0mrenderer\u001b[0m\u001b[1;33m)\u001b[0m\u001b[1;33m\u001b[0m\u001b[1;33m\u001b[0m\u001b[0m\n\u001b[0m\u001b[0;32m     51\u001b[0m         \u001b[1;32mfinally\u001b[0m\u001b[1;33m:\u001b[0m\u001b[1;33m\u001b[0m\u001b[1;33m\u001b[0m\u001b[0m\n\u001b[0;32m     52\u001b[0m             \u001b[1;32mif\u001b[0m \u001b[0martist\u001b[0m\u001b[1;33m.\u001b[0m\u001b[0mget_agg_filter\u001b[0m\u001b[1;33m(\u001b[0m\u001b[1;33m)\u001b[0m \u001b[1;32mis\u001b[0m \u001b[1;32mnot\u001b[0m \u001b[1;32mNone\u001b[0m\u001b[1;33m:\u001b[0m\u001b[1;33m\u001b[0m\u001b[1;33m\u001b[0m\u001b[0m\n",
      "\u001b[1;32mC:\\Anaconda\\lib\\site-packages\\matplotlib\\patches.py\u001b[0m in \u001b[0;36mdraw\u001b[1;34m(self, renderer)\u001b[0m\n\u001b[0;32m    613\u001b[0m                 \u001b[0mself\u001b[0m\u001b[1;33m.\u001b[0m\u001b[0m_bind_draw_path_function\u001b[0m\u001b[1;33m(\u001b[0m\u001b[0mrenderer\u001b[0m\u001b[1;33m)\u001b[0m \u001b[1;32mas\u001b[0m \u001b[0mdraw_path\u001b[0m\u001b[1;33m:\u001b[0m\u001b[1;33m\u001b[0m\u001b[1;33m\u001b[0m\u001b[0m\n\u001b[0;32m    614\u001b[0m             \u001b[0mpath\u001b[0m \u001b[1;33m=\u001b[0m \u001b[0mself\u001b[0m\u001b[1;33m.\u001b[0m\u001b[0mget_path\u001b[0m\u001b[1;33m(\u001b[0m\u001b[1;33m)\u001b[0m\u001b[1;33m\u001b[0m\u001b[1;33m\u001b[0m\u001b[0m\n\u001b[1;32m--> 615\u001b[1;33m             \u001b[0mtransform\u001b[0m \u001b[1;33m=\u001b[0m \u001b[0mself\u001b[0m\u001b[1;33m.\u001b[0m\u001b[0mget_transform\u001b[0m\u001b[1;33m(\u001b[0m\u001b[1;33m)\u001b[0m\u001b[1;33m\u001b[0m\u001b[1;33m\u001b[0m\u001b[0m\n\u001b[0m\u001b[0;32m    616\u001b[0m             \u001b[0mtpath\u001b[0m \u001b[1;33m=\u001b[0m \u001b[0mtransform\u001b[0m\u001b[1;33m.\u001b[0m\u001b[0mtransform_path_non_affine\u001b[0m\u001b[1;33m(\u001b[0m\u001b[0mpath\u001b[0m\u001b[1;33m)\u001b[0m\u001b[1;33m\u001b[0m\u001b[1;33m\u001b[0m\u001b[0m\n\u001b[0;32m    617\u001b[0m             \u001b[0maffine\u001b[0m \u001b[1;33m=\u001b[0m \u001b[0mtransform\u001b[0m\u001b[1;33m.\u001b[0m\u001b[0mget_affine\u001b[0m\u001b[1;33m(\u001b[0m\u001b[1;33m)\u001b[0m\u001b[1;33m\u001b[0m\u001b[1;33m\u001b[0m\u001b[0m\n",
      "\u001b[1;32mC:\\Anaconda\\lib\\site-packages\\matplotlib\\patches.py\u001b[0m in \u001b[0;36mget_transform\u001b[1;34m(self)\u001b[0m\n\u001b[0;32m    276\u001b[0m     \u001b[1;32mdef\u001b[0m \u001b[0mget_transform\u001b[0m\u001b[1;33m(\u001b[0m\u001b[0mself\u001b[0m\u001b[1;33m)\u001b[0m\u001b[1;33m:\u001b[0m\u001b[1;33m\u001b[0m\u001b[1;33m\u001b[0m\u001b[0m\n\u001b[0;32m    277\u001b[0m         \u001b[1;34m\"\"\"Return the `~.transforms.Transform` applied to the `Patch`.\"\"\"\u001b[0m\u001b[1;33m\u001b[0m\u001b[1;33m\u001b[0m\u001b[0m\n\u001b[1;32m--> 278\u001b[1;33m         \u001b[1;32mreturn\u001b[0m \u001b[0mself\u001b[0m\u001b[1;33m.\u001b[0m\u001b[0mget_patch_transform\u001b[0m\u001b[1;33m(\u001b[0m\u001b[1;33m)\u001b[0m \u001b[1;33m+\u001b[0m \u001b[0martist\u001b[0m\u001b[1;33m.\u001b[0m\u001b[0mArtist\u001b[0m\u001b[1;33m.\u001b[0m\u001b[0mget_transform\u001b[0m\u001b[1;33m(\u001b[0m\u001b[0mself\u001b[0m\u001b[1;33m)\u001b[0m\u001b[1;33m\u001b[0m\u001b[1;33m\u001b[0m\u001b[0m\n\u001b[0m\u001b[0;32m    279\u001b[0m \u001b[1;33m\u001b[0m\u001b[0m\n\u001b[0;32m    280\u001b[0m     \u001b[1;32mdef\u001b[0m \u001b[0mget_data_transform\u001b[0m\u001b[1;33m(\u001b[0m\u001b[0mself\u001b[0m\u001b[1;33m)\u001b[0m\u001b[1;33m:\u001b[0m\u001b[1;33m\u001b[0m\u001b[1;33m\u001b[0m\u001b[0m\n",
      "\u001b[1;32mC:\\Anaconda\\lib\\site-packages\\matplotlib\\patches.py\u001b[0m in \u001b[0;36mget_patch_transform\u001b[1;34m(self)\u001b[0m\n\u001b[0;32m    756\u001b[0m         \u001b[1;31m# important to call the accessor method and not directly access the\u001b[0m\u001b[1;33m\u001b[0m\u001b[1;33m\u001b[0m\u001b[0m\n\u001b[0;32m    757\u001b[0m         \u001b[1;31m# transformation member variable.\u001b[0m\u001b[1;33m\u001b[0m\u001b[1;33m\u001b[0m\u001b[0m\n\u001b[1;32m--> 758\u001b[1;33m         \u001b[0mbbox\u001b[0m \u001b[1;33m=\u001b[0m \u001b[0mself\u001b[0m\u001b[1;33m.\u001b[0m\u001b[0mget_bbox\u001b[0m\u001b[1;33m(\u001b[0m\u001b[1;33m)\u001b[0m\u001b[1;33m\u001b[0m\u001b[1;33m\u001b[0m\u001b[0m\n\u001b[0m\u001b[0;32m    759\u001b[0m         return (transforms.BboxTransformTo(bbox)\n\u001b[0;32m    760\u001b[0m                 + transforms.Affine2D().rotate_deg_around(\n",
      "\u001b[1;32mC:\\Anaconda\\lib\\site-packages\\matplotlib\\patches.py\u001b[0m in \u001b[0;36mget_bbox\u001b[1;34m(self)\u001b[0m\n\u001b[0;32m    849\u001b[0m         \u001b[1;34m\"\"\"Return the `.Bbox`.\"\"\"\u001b[0m\u001b[1;33m\u001b[0m\u001b[1;33m\u001b[0m\u001b[0m\n\u001b[0;32m    850\u001b[0m         \u001b[0mx0\u001b[0m\u001b[1;33m,\u001b[0m \u001b[0my0\u001b[0m\u001b[1;33m,\u001b[0m \u001b[0mx1\u001b[0m\u001b[1;33m,\u001b[0m \u001b[0my1\u001b[0m \u001b[1;33m=\u001b[0m \u001b[0mself\u001b[0m\u001b[1;33m.\u001b[0m\u001b[0m_convert_units\u001b[0m\u001b[1;33m(\u001b[0m\u001b[1;33m)\u001b[0m\u001b[1;33m\u001b[0m\u001b[1;33m\u001b[0m\u001b[0m\n\u001b[1;32m--> 851\u001b[1;33m         \u001b[1;32mreturn\u001b[0m \u001b[0mtransforms\u001b[0m\u001b[1;33m.\u001b[0m\u001b[0mBbox\u001b[0m\u001b[1;33m.\u001b[0m\u001b[0mfrom_extents\u001b[0m\u001b[1;33m(\u001b[0m\u001b[0mx0\u001b[0m\u001b[1;33m,\u001b[0m \u001b[0my0\u001b[0m\u001b[1;33m,\u001b[0m \u001b[0mx1\u001b[0m\u001b[1;33m,\u001b[0m \u001b[0my1\u001b[0m\u001b[1;33m)\u001b[0m\u001b[1;33m\u001b[0m\u001b[1;33m\u001b[0m\u001b[0m\n\u001b[0m\u001b[0;32m    852\u001b[0m \u001b[1;33m\u001b[0m\u001b[0m\n\u001b[0;32m    853\u001b[0m     \u001b[0mxy\u001b[0m \u001b[1;33m=\u001b[0m \u001b[0mproperty\u001b[0m\u001b[1;33m(\u001b[0m\u001b[0mget_xy\u001b[0m\u001b[1;33m,\u001b[0m \u001b[0mset_xy\u001b[0m\u001b[1;33m)\u001b[0m\u001b[1;33m\u001b[0m\u001b[1;33m\u001b[0m\u001b[0m\n",
      "\u001b[1;32mC:\\Anaconda\\lib\\site-packages\\matplotlib\\transforms.py\u001b[0m in \u001b[0;36mfrom_extents\u001b[1;34m(minpos, *args)\u001b[0m\n\u001b[0;32m    837\u001b[0m            \u001b[0mscales\u001b[0m \u001b[0mwhere\u001b[0m \u001b[0mnegative\u001b[0m \u001b[0mbounds\u001b[0m \u001b[0mresult\u001b[0m \u001b[1;32min\u001b[0m \u001b[0mfloating\u001b[0m \u001b[0mpoint\u001b[0m \u001b[0merrors\u001b[0m\u001b[1;33m.\u001b[0m\u001b[1;33m\u001b[0m\u001b[1;33m\u001b[0m\u001b[0m\n\u001b[0;32m    838\u001b[0m         \"\"\"\n\u001b[1;32m--> 839\u001b[1;33m         \u001b[0mbbox\u001b[0m \u001b[1;33m=\u001b[0m \u001b[0mBbox\u001b[0m\u001b[1;33m(\u001b[0m\u001b[0mnp\u001b[0m\u001b[1;33m.\u001b[0m\u001b[0mreshape\u001b[0m\u001b[1;33m(\u001b[0m\u001b[0margs\u001b[0m\u001b[1;33m,\u001b[0m \u001b[1;33m(\u001b[0m\u001b[1;36m2\u001b[0m\u001b[1;33m,\u001b[0m \u001b[1;36m2\u001b[0m\u001b[1;33m)\u001b[0m\u001b[1;33m)\u001b[0m\u001b[1;33m)\u001b[0m\u001b[1;33m\u001b[0m\u001b[1;33m\u001b[0m\u001b[0m\n\u001b[0m\u001b[0;32m    840\u001b[0m         \u001b[1;32mif\u001b[0m \u001b[0mminpos\u001b[0m \u001b[1;32mis\u001b[0m \u001b[1;32mnot\u001b[0m \u001b[1;32mNone\u001b[0m\u001b[1;33m:\u001b[0m\u001b[1;33m\u001b[0m\u001b[1;33m\u001b[0m\u001b[0m\n\u001b[0;32m    841\u001b[0m             \u001b[0mbbox\u001b[0m\u001b[1;33m.\u001b[0m\u001b[0m_minpos\u001b[0m\u001b[1;33m[\u001b[0m\u001b[1;33m:\u001b[0m\u001b[1;33m]\u001b[0m \u001b[1;33m=\u001b[0m \u001b[0mminpos\u001b[0m\u001b[1;33m\u001b[0m\u001b[1;33m\u001b[0m\u001b[0m\n",
      "\u001b[1;32mC:\\Anaconda\\lib\\site-packages\\matplotlib\\transforms.py\u001b[0m in \u001b[0;36m__init__\u001b[1;34m(self, points, **kwargs)\u001b[0m\n\u001b[0;32m    773\u001b[0m         \"\"\"\n\u001b[0;32m    774\u001b[0m         \u001b[0msuper\u001b[0m\u001b[1;33m(\u001b[0m\u001b[1;33m)\u001b[0m\u001b[1;33m.\u001b[0m\u001b[0m__init__\u001b[0m\u001b[1;33m(\u001b[0m\u001b[1;33m**\u001b[0m\u001b[0mkwargs\u001b[0m\u001b[1;33m)\u001b[0m\u001b[1;33m\u001b[0m\u001b[1;33m\u001b[0m\u001b[0m\n\u001b[1;32m--> 775\u001b[1;33m         \u001b[0mpoints\u001b[0m \u001b[1;33m=\u001b[0m \u001b[0mnp\u001b[0m\u001b[1;33m.\u001b[0m\u001b[0masarray\u001b[0m\u001b[1;33m(\u001b[0m\u001b[0mpoints\u001b[0m\u001b[1;33m,\u001b[0m \u001b[0mfloat\u001b[0m\u001b[1;33m)\u001b[0m\u001b[1;33m\u001b[0m\u001b[1;33m\u001b[0m\u001b[0m\n\u001b[0m\u001b[0;32m    776\u001b[0m         \u001b[1;32mif\u001b[0m \u001b[0mpoints\u001b[0m\u001b[1;33m.\u001b[0m\u001b[0mshape\u001b[0m \u001b[1;33m!=\u001b[0m \u001b[1;33m(\u001b[0m\u001b[1;36m2\u001b[0m\u001b[1;33m,\u001b[0m \u001b[1;36m2\u001b[0m\u001b[1;33m)\u001b[0m\u001b[1;33m:\u001b[0m\u001b[1;33m\u001b[0m\u001b[1;33m\u001b[0m\u001b[0m\n\u001b[0;32m    777\u001b[0m             raise ValueError('Bbox points must be of the form '\n",
      "\u001b[1;31mValueError\u001b[0m: setting an array element with a sequence."
     ]
    },
    {
     "data": {
      "text/plain": [
       "<Figure size 640x480 with 1 Axes>"
      ]
     },
     "metadata": {},
     "output_type": "display_data"
    }
   ],
   "source": [
    "plt.hist(y=df_train['saleprice'],x=df_train['lot_config'])\n"
   ]
  },
  {
   "cell_type": "code",
   "execution_count": null,
   "id": "00a688c0",
   "metadata": {},
   "outputs": [],
   "source": [
    "for df in [df_train,df_test]:\n",
    "    df['lot_config'] = [0 if val == 'FR3'\n",
    "                       else 1 if val == 'FR2'\n",
    "                       else 2 if val == 'Corner'\n",
    "                        else 3 if val == 'Inside'\n",
    "                        else 4\n",
    "                       for val in df['lot_config']]"
   ]
  },
  {
   "cell_type": "markdown",
   "id": "5202720d",
   "metadata": {},
   "source": [
    "## Land Slope"
   ]
  },
  {
   "cell_type": "code",
   "execution_count": 55,
   "id": "fbe818cf",
   "metadata": {},
   "outputs": [
    {
     "data": {
      "text/plain": [
       "Gtl    1953\n",
       "Mod      88\n",
       "Sev      10\n",
       "Name: land_slope, dtype: int64"
      ]
     },
     "execution_count": 55,
     "metadata": {},
     "output_type": "execute_result"
    }
   ],
   "source": [
    "df_train['land_slope'].value_counts()"
   ]
  },
  {
   "cell_type": "code",
   "execution_count": 56,
   "id": "4303f1b2",
   "metadata": {},
   "outputs": [
    {
     "data": {
      "text/html": [
       "<div>\n",
       "<style scoped>\n",
       "    .dataframe tbody tr th:only-of-type {\n",
       "        vertical-align: middle;\n",
       "    }\n",
       "\n",
       "    .dataframe tbody tr th {\n",
       "        vertical-align: top;\n",
       "    }\n",
       "\n",
       "    .dataframe thead th {\n",
       "        text-align: right;\n",
       "    }\n",
       "</style>\n",
       "<table border=\"1\" class=\"dataframe\">\n",
       "  <thead>\n",
       "    <tr style=\"text-align: right;\">\n",
       "      <th></th>\n",
       "      <th>count</th>\n",
       "      <th>mean</th>\n",
       "      <th>std</th>\n",
       "      <th>min</th>\n",
       "      <th>25%</th>\n",
       "      <th>50%</th>\n",
       "      <th>75%</th>\n",
       "      <th>max</th>\n",
       "    </tr>\n",
       "    <tr>\n",
       "      <th>land_slope</th>\n",
       "      <th></th>\n",
       "      <th></th>\n",
       "      <th></th>\n",
       "      <th></th>\n",
       "      <th></th>\n",
       "      <th></th>\n",
       "      <th></th>\n",
       "      <th></th>\n",
       "    </tr>\n",
       "  </thead>\n",
       "  <tbody>\n",
       "    <tr>\n",
       "      <th>Gtl</th>\n",
       "      <td>1953.0</td>\n",
       "      <td>180358.476703</td>\n",
       "      <td>77897.279103</td>\n",
       "      <td>12789.0</td>\n",
       "      <td>129500.0</td>\n",
       "      <td>161000.0</td>\n",
       "      <td>212900.0</td>\n",
       "      <td>611657.0</td>\n",
       "    </tr>\n",
       "    <tr>\n",
       "      <th>Mod</th>\n",
       "      <td>88.0</td>\n",
       "      <td>204639.465909</td>\n",
       "      <td>102651.673838</td>\n",
       "      <td>13100.0</td>\n",
       "      <td>135125.0</td>\n",
       "      <td>188250.0</td>\n",
       "      <td>257682.0</td>\n",
       "      <td>552000.0</td>\n",
       "    </tr>\n",
       "    <tr>\n",
       "      <th>Sev</th>\n",
       "      <td>10.0</td>\n",
       "      <td>194598.000000</td>\n",
       "      <td>85068.824659</td>\n",
       "      <td>61000.0</td>\n",
       "      <td>131250.0</td>\n",
       "      <td>200750.0</td>\n",
       "      <td>270750.0</td>\n",
       "      <td>302000.0</td>\n",
       "    </tr>\n",
       "  </tbody>\n",
       "</table>\n",
       "</div>"
      ],
      "text/plain": [
       "             count           mean            std      min       25%       50%  \\\n",
       "land_slope                                                                      \n",
       "Gtl         1953.0  180358.476703   77897.279103  12789.0  129500.0  161000.0   \n",
       "Mod           88.0  204639.465909  102651.673838  13100.0  135125.0  188250.0   \n",
       "Sev           10.0  194598.000000   85068.824659  61000.0  131250.0  200750.0   \n",
       "\n",
       "                 75%       max  \n",
       "land_slope                      \n",
       "Gtl         212900.0  611657.0  \n",
       "Mod         257682.0  552000.0  \n",
       "Sev         270750.0  302000.0  "
      ]
     },
     "execution_count": 56,
     "metadata": {},
     "output_type": "execute_result"
    }
   ],
   "source": [
    "df_train.groupby(['land_slope'])['saleprice'].describe()"
   ]
  },
  {
   "cell_type": "code",
   "execution_count": 57,
   "id": "dac2fbac",
   "metadata": {},
   "outputs": [],
   "source": [
    "for df in [df_train,df_test]:\n",
    "    df['land_slope'] = [0 if val == 'Sev'\n",
    "                       else 1 if val == 'Gtl'\n",
    "                       else 2\n",
    "                       for val in df['land_slope']]"
   ]
  },
  {
   "cell_type": "markdown",
   "id": "0db36444",
   "metadata": {},
   "source": [
    "## Neighborhood"
   ]
  },
  {
   "cell_type": "code",
   "execution_count": 58,
   "id": "c0649c77",
   "metadata": {},
   "outputs": [
    {
     "data": {
      "text/plain": [
       "NAmes      133\n",
       "CollgCr     87\n",
       "OldTown     76\n",
       "Somerst     52\n",
       "Edwards     50\n",
       "Gilbert     49\n",
       "NridgHt     44\n",
       "NWAmes      44\n",
       "Sawyer      40\n",
       "SawyerW     38\n",
       "Mitchel     32\n",
       "Crawfor     32\n",
       "BrkSide     32\n",
       "Timber      24\n",
       "IDOTRR      24\n",
       "NoRidge     23\n",
       "ClearCr     17\n",
       "SWISU       16\n",
       "MeadowV     13\n",
       "StoneBr     13\n",
       "BrDale      11\n",
       "Veenker      7\n",
       "Blmngtn      6\n",
       "NPkVill      6\n",
       "Greens       5\n",
       "Blueste      4\n",
       "Name: neighborhood, dtype: int64"
      ]
     },
     "execution_count": 58,
     "metadata": {},
     "output_type": "execute_result"
    }
   ],
   "source": [
    "df['neighborhood'].value_counts()"
   ]
  },
  {
   "cell_type": "markdown",
   "id": "c8cef0dd",
   "metadata": {},
   "source": [
    "## Proximity to \"Conditions\""
   ]
  },
  {
   "cell_type": "code",
   "execution_count": 60,
   "id": "9a80deb6",
   "metadata": {
    "scrolled": false
   },
   "outputs": [
    {
     "data": {
      "text/html": [
       "<div>\n",
       "<style scoped>\n",
       "    .dataframe tbody tr th:only-of-type {\n",
       "        vertical-align: middle;\n",
       "    }\n",
       "\n",
       "    .dataframe tbody tr th {\n",
       "        vertical-align: top;\n",
       "    }\n",
       "\n",
       "    .dataframe thead th {\n",
       "        text-align: right;\n",
       "    }\n",
       "</style>\n",
       "<table border=\"1\" class=\"dataframe\">\n",
       "  <thead>\n",
       "    <tr style=\"text-align: right;\">\n",
       "      <th></th>\n",
       "      <th>count</th>\n",
       "      <th>mean</th>\n",
       "      <th>std</th>\n",
       "      <th>min</th>\n",
       "      <th>25%</th>\n",
       "      <th>50%</th>\n",
       "      <th>75%</th>\n",
       "      <th>max</th>\n",
       "    </tr>\n",
       "    <tr>\n",
       "      <th>condition_1</th>\n",
       "      <th></th>\n",
       "      <th></th>\n",
       "      <th></th>\n",
       "      <th></th>\n",
       "      <th></th>\n",
       "      <th></th>\n",
       "      <th></th>\n",
       "      <th></th>\n",
       "    </tr>\n",
       "  </thead>\n",
       "  <tbody>\n",
       "    <tr>\n",
       "      <th>Artery</th>\n",
       "      <td>70.0</td>\n",
       "      <td>128765.000000</td>\n",
       "      <td>58285.726961</td>\n",
       "      <td>50000.0</td>\n",
       "      <td>103150.0</td>\n",
       "      <td>118950.0</td>\n",
       "      <td>140750.0</td>\n",
       "      <td>475000.0</td>\n",
       "    </tr>\n",
       "    <tr>\n",
       "      <th>Feedr</th>\n",
       "      <td>109.0</td>\n",
       "      <td>143223.605505</td>\n",
       "      <td>45259.511847</td>\n",
       "      <td>35000.0</td>\n",
       "      <td>119600.0</td>\n",
       "      <td>140000.0</td>\n",
       "      <td>160000.0</td>\n",
       "      <td>269500.0</td>\n",
       "    </tr>\n",
       "    <tr>\n",
       "      <th>Norm</th>\n",
       "      <td>1767.0</td>\n",
       "      <td>185007.310130</td>\n",
       "      <td>79593.264680</td>\n",
       "      <td>12789.0</td>\n",
       "      <td>131125.0</td>\n",
       "      <td>167000.0</td>\n",
       "      <td>218000.0</td>\n",
       "      <td>611657.0</td>\n",
       "    </tr>\n",
       "    <tr>\n",
       "      <th>PosA</th>\n",
       "      <td>12.0</td>\n",
       "      <td>254733.333333</td>\n",
       "      <td>91755.092337</td>\n",
       "      <td>185000.0</td>\n",
       "      <td>188425.0</td>\n",
       "      <td>216000.0</td>\n",
       "      <td>276425.0</td>\n",
       "      <td>455000.0</td>\n",
       "    </tr>\n",
       "    <tr>\n",
       "      <th>PosN</th>\n",
       "      <td>27.0</td>\n",
       "      <td>254794.296296</td>\n",
       "      <td>117428.552257</td>\n",
       "      <td>109500.0</td>\n",
       "      <td>172000.0</td>\n",
       "      <td>214500.0</td>\n",
       "      <td>295500.0</td>\n",
       "      <td>591587.0</td>\n",
       "    </tr>\n",
       "    <tr>\n",
       "      <th>RRAe</th>\n",
       "      <td>21.0</td>\n",
       "      <td>139685.714286</td>\n",
       "      <td>21115.617105</td>\n",
       "      <td>87000.0</td>\n",
       "      <td>129000.0</td>\n",
       "      <td>142500.0</td>\n",
       "      <td>150000.0</td>\n",
       "      <td>184000.0</td>\n",
       "    </tr>\n",
       "    <tr>\n",
       "      <th>RRAn</th>\n",
       "      <td>36.0</td>\n",
       "      <td>172604.777778</td>\n",
       "      <td>55498.209382</td>\n",
       "      <td>79500.0</td>\n",
       "      <td>140150.0</td>\n",
       "      <td>167250.0</td>\n",
       "      <td>187460.0</td>\n",
       "      <td>336820.0</td>\n",
       "    </tr>\n",
       "    <tr>\n",
       "      <th>RRNe</th>\n",
       "      <td>3.0</td>\n",
       "      <td>129616.666667</td>\n",
       "      <td>37705.315717</td>\n",
       "      <td>93850.0</td>\n",
       "      <td>109925.0</td>\n",
       "      <td>126000.0</td>\n",
       "      <td>147500.0</td>\n",
       "      <td>169000.0</td>\n",
       "    </tr>\n",
       "    <tr>\n",
       "      <th>RRNn</th>\n",
       "      <td>6.0</td>\n",
       "      <td>198208.333333</td>\n",
       "      <td>76223.096347</td>\n",
       "      <td>128000.0</td>\n",
       "      <td>134687.5</td>\n",
       "      <td>184000.0</td>\n",
       "      <td>237250.0</td>\n",
       "      <td>320000.0</td>\n",
       "    </tr>\n",
       "  </tbody>\n",
       "</table>\n",
       "</div>"
      ],
      "text/plain": [
       "              count           mean            std       min       25%  \\\n",
       "condition_1                                                             \n",
       "Artery         70.0  128765.000000   58285.726961   50000.0  103150.0   \n",
       "Feedr         109.0  143223.605505   45259.511847   35000.0  119600.0   \n",
       "Norm         1767.0  185007.310130   79593.264680   12789.0  131125.0   \n",
       "PosA           12.0  254733.333333   91755.092337  185000.0  188425.0   \n",
       "PosN           27.0  254794.296296  117428.552257  109500.0  172000.0   \n",
       "RRAe           21.0  139685.714286   21115.617105   87000.0  129000.0   \n",
       "RRAn           36.0  172604.777778   55498.209382   79500.0  140150.0   \n",
       "RRNe            3.0  129616.666667   37705.315717   93850.0  109925.0   \n",
       "RRNn            6.0  198208.333333   76223.096347  128000.0  134687.5   \n",
       "\n",
       "                  50%       75%       max  \n",
       "condition_1                                \n",
       "Artery       118950.0  140750.0  475000.0  \n",
       "Feedr        140000.0  160000.0  269500.0  \n",
       "Norm         167000.0  218000.0  611657.0  \n",
       "PosA         216000.0  276425.0  455000.0  \n",
       "PosN         214500.0  295500.0  591587.0  \n",
       "RRAe         142500.0  150000.0  184000.0  \n",
       "RRAn         167250.0  187460.0  336820.0  \n",
       "RRNe         126000.0  147500.0  169000.0  \n",
       "RRNn         184000.0  237250.0  320000.0  "
      ]
     },
     "execution_count": 60,
     "metadata": {},
     "output_type": "execute_result"
    }
   ],
   "source": [
    "df_train.groupby(['condition_1'])['saleprice'].describe()"
   ]
  },
  {
   "cell_type": "code",
   "execution_count": 61,
   "id": "65a67075",
   "metadata": {},
   "outputs": [
    {
     "data": {
      "text/html": [
       "<div>\n",
       "<style scoped>\n",
       "    .dataframe tbody tr th:only-of-type {\n",
       "        vertical-align: middle;\n",
       "    }\n",
       "\n",
       "    .dataframe tbody tr th {\n",
       "        vertical-align: top;\n",
       "    }\n",
       "\n",
       "    .dataframe thead th {\n",
       "        text-align: right;\n",
       "    }\n",
       "</style>\n",
       "<table border=\"1\" class=\"dataframe\">\n",
       "  <thead>\n",
       "    <tr style=\"text-align: right;\">\n",
       "      <th></th>\n",
       "      <th>count</th>\n",
       "      <th>mean</th>\n",
       "      <th>std</th>\n",
       "      <th>min</th>\n",
       "      <th>25%</th>\n",
       "      <th>50%</th>\n",
       "      <th>75%</th>\n",
       "      <th>max</th>\n",
       "    </tr>\n",
       "    <tr>\n",
       "      <th>condition_2</th>\n",
       "      <th></th>\n",
       "      <th></th>\n",
       "      <th></th>\n",
       "      <th></th>\n",
       "      <th></th>\n",
       "      <th></th>\n",
       "      <th></th>\n",
       "      <th></th>\n",
       "    </tr>\n",
       "  </thead>\n",
       "  <tbody>\n",
       "    <tr>\n",
       "      <th>Artery</th>\n",
       "      <td>5.0</td>\n",
       "      <td>119050.000000</td>\n",
       "      <td>19445.757892</td>\n",
       "      <td>95000.0</td>\n",
       "      <td>108000.0</td>\n",
       "      <td>118000.0</td>\n",
       "      <td>128250.0</td>\n",
       "      <td>146000.0</td>\n",
       "    </tr>\n",
       "    <tr>\n",
       "      <th>Feedr</th>\n",
       "      <td>11.0</td>\n",
       "      <td>129181.818182</td>\n",
       "      <td>40785.581231</td>\n",
       "      <td>79500.0</td>\n",
       "      <td>99500.0</td>\n",
       "      <td>128000.0</td>\n",
       "      <td>143250.0</td>\n",
       "      <td>220000.0</td>\n",
       "    </tr>\n",
       "    <tr>\n",
       "      <th>Norm</th>\n",
       "      <td>2025.0</td>\n",
       "      <td>181382.075556</td>\n",
       "      <td>78604.763227</td>\n",
       "      <td>12789.0</td>\n",
       "      <td>130000.0</td>\n",
       "      <td>163000.0</td>\n",
       "      <td>214000.0</td>\n",
       "      <td>611657.0</td>\n",
       "    </tr>\n",
       "    <tr>\n",
       "      <th>PosA</th>\n",
       "      <td>3.0</td>\n",
       "      <td>390666.666667</td>\n",
       "      <td>65010.255601</td>\n",
       "      <td>325000.0</td>\n",
       "      <td>358500.0</td>\n",
       "      <td>392000.0</td>\n",
       "      <td>423500.0</td>\n",
       "      <td>455000.0</td>\n",
       "    </tr>\n",
       "    <tr>\n",
       "      <th>PosN</th>\n",
       "      <td>3.0</td>\n",
       "      <td>395666.666667</td>\n",
       "      <td>67633.817971</td>\n",
       "      <td>334000.0</td>\n",
       "      <td>359500.0</td>\n",
       "      <td>385000.0</td>\n",
       "      <td>426500.0</td>\n",
       "      <td>468000.0</td>\n",
       "    </tr>\n",
       "    <tr>\n",
       "      <th>RRAe</th>\n",
       "      <td>1.0</td>\n",
       "      <td>190000.000000</td>\n",
       "      <td>NaN</td>\n",
       "      <td>190000.0</td>\n",
       "      <td>190000.0</td>\n",
       "      <td>190000.0</td>\n",
       "      <td>190000.0</td>\n",
       "      <td>190000.0</td>\n",
       "    </tr>\n",
       "    <tr>\n",
       "      <th>RRAn</th>\n",
       "      <td>1.0</td>\n",
       "      <td>136905.000000</td>\n",
       "      <td>NaN</td>\n",
       "      <td>136905.0</td>\n",
       "      <td>136905.0</td>\n",
       "      <td>136905.0</td>\n",
       "      <td>136905.0</td>\n",
       "      <td>136905.0</td>\n",
       "    </tr>\n",
       "    <tr>\n",
       "      <th>RRNn</th>\n",
       "      <td>2.0</td>\n",
       "      <td>96750.000000</td>\n",
       "      <td>39951.533137</td>\n",
       "      <td>68500.0</td>\n",
       "      <td>82625.0</td>\n",
       "      <td>96750.0</td>\n",
       "      <td>110875.0</td>\n",
       "      <td>125000.0</td>\n",
       "    </tr>\n",
       "  </tbody>\n",
       "</table>\n",
       "</div>"
      ],
      "text/plain": [
       "              count           mean           std       min       25%  \\\n",
       "condition_2                                                            \n",
       "Artery          5.0  119050.000000  19445.757892   95000.0  108000.0   \n",
       "Feedr          11.0  129181.818182  40785.581231   79500.0   99500.0   \n",
       "Norm         2025.0  181382.075556  78604.763227   12789.0  130000.0   \n",
       "PosA            3.0  390666.666667  65010.255601  325000.0  358500.0   \n",
       "PosN            3.0  395666.666667  67633.817971  334000.0  359500.0   \n",
       "RRAe            1.0  190000.000000           NaN  190000.0  190000.0   \n",
       "RRAn            1.0  136905.000000           NaN  136905.0  136905.0   \n",
       "RRNn            2.0   96750.000000  39951.533137   68500.0   82625.0   \n",
       "\n",
       "                  50%       75%       max  \n",
       "condition_2                                \n",
       "Artery       118000.0  128250.0  146000.0  \n",
       "Feedr        128000.0  143250.0  220000.0  \n",
       "Norm         163000.0  214000.0  611657.0  \n",
       "PosA         392000.0  423500.0  455000.0  \n",
       "PosN         385000.0  426500.0  468000.0  \n",
       "RRAe         190000.0  190000.0  190000.0  \n",
       "RRAn         136905.0  136905.0  136905.0  \n",
       "RRNn          96750.0  110875.0  125000.0  "
      ]
     },
     "execution_count": 61,
     "metadata": {},
     "output_type": "execute_result"
    }
   ],
   "source": [
    "df_train.groupby(['condition_2'])['saleprice'].describe()"
   ]
  },
  {
   "cell_type": "code",
   "execution_count": null,
   "id": "d9eb4516",
   "metadata": {},
   "outputs": [],
   "source": [
    "df_train['condition_1'].value_counts()"
   ]
  },
  {
   "cell_type": "code",
   "execution_count": null,
   "id": "d6389e26",
   "metadata": {},
   "outputs": [],
   "source": [
    "#  Apparently E-W is worse\n",
    "#  Rethink this one\n",
    "\n",
    "for df in [df_train,df_test]:\n",
    "    for cond in ['condition_1','condition_2']:\n",
    "        df[cond] = [0 if (val == 'RRAe') | (val == 'RRNe')\n",
    "                    else 1 if (val == 'RRAn') | (val == 'RRNn')\n",
    "                    else 2 if val == 'Artery'\n",
    "                    else 3 if val == 'Feedr'\n",
    "                    else 4 if val == 'Normal'\n",
    "                    else 5 if val == 'PosN'\n",
    "                    else 6 \n",
    "                    for val in df[cond]]"
   ]
  },
  {
   "cell_type": "markdown",
   "id": "ece6d3fd",
   "metadata": {},
   "source": [
    "## Building Type"
   ]
  },
  {
   "cell_type": "code",
   "execution_count": 65,
   "id": "e3ec79ce",
   "metadata": {},
   "outputs": [
    {
     "data": {
      "text/html": [
       "<div>\n",
       "<style scoped>\n",
       "    .dataframe tbody tr th:only-of-type {\n",
       "        vertical-align: middle;\n",
       "    }\n",
       "\n",
       "    .dataframe tbody tr th {\n",
       "        vertical-align: top;\n",
       "    }\n",
       "\n",
       "    .dataframe thead th {\n",
       "        text-align: right;\n",
       "    }\n",
       "</style>\n",
       "<table border=\"1\" class=\"dataframe\">\n",
       "  <thead>\n",
       "    <tr style=\"text-align: right;\">\n",
       "      <th></th>\n",
       "      <th>count</th>\n",
       "      <th>mean</th>\n",
       "      <th>std</th>\n",
       "      <th>min</th>\n",
       "      <th>25%</th>\n",
       "      <th>50%</th>\n",
       "      <th>75%</th>\n",
       "      <th>max</th>\n",
       "    </tr>\n",
       "    <tr>\n",
       "      <th>bldg_type</th>\n",
       "      <th></th>\n",
       "      <th></th>\n",
       "      <th></th>\n",
       "      <th></th>\n",
       "      <th></th>\n",
       "      <th></th>\n",
       "      <th></th>\n",
       "      <th></th>\n",
       "    </tr>\n",
       "  </thead>\n",
       "  <tbody>\n",
       "    <tr>\n",
       "      <th>1Fam</th>\n",
       "      <td>1700.0</td>\n",
       "      <td>185275.685882</td>\n",
       "      <td>81912.397035</td>\n",
       "      <td>12789.0</td>\n",
       "      <td>130500.0</td>\n",
       "      <td>165200.0</td>\n",
       "      <td>219282.5</td>\n",
       "      <td>611657.0</td>\n",
       "    </tr>\n",
       "    <tr>\n",
       "      <th>2fmCon</th>\n",
       "      <td>46.0</td>\n",
       "      <td>123179.891304</td>\n",
       "      <td>30304.813341</td>\n",
       "      <td>55000.0</td>\n",
       "      <td>101187.5</td>\n",
       "      <td>121200.0</td>\n",
       "      <td>139875.0</td>\n",
       "      <td>200000.0</td>\n",
       "    </tr>\n",
       "    <tr>\n",
       "      <th>Duplex</th>\n",
       "      <td>75.0</td>\n",
       "      <td>139296.333333</td>\n",
       "      <td>40824.044796</td>\n",
       "      <td>62500.0</td>\n",
       "      <td>118250.0</td>\n",
       "      <td>136000.0</td>\n",
       "      <td>148991.5</td>\n",
       "      <td>269500.0</td>\n",
       "    </tr>\n",
       "    <tr>\n",
       "      <th>Twnhs</th>\n",
       "      <td>69.0</td>\n",
       "      <td>133100.000000</td>\n",
       "      <td>37977.260030</td>\n",
       "      <td>73000.0</td>\n",
       "      <td>100000.0</td>\n",
       "      <td>134000.0</td>\n",
       "      <td>160000.0</td>\n",
       "      <td>230000.0</td>\n",
       "    </tr>\n",
       "    <tr>\n",
       "      <th>TwnhsE</th>\n",
       "      <td>161.0</td>\n",
       "      <td>198312.372671</td>\n",
       "      <td>65866.184832</td>\n",
       "      <td>79400.0</td>\n",
       "      <td>147000.0</td>\n",
       "      <td>184000.0</td>\n",
       "      <td>234250.0</td>\n",
       "      <td>392500.0</td>\n",
       "    </tr>\n",
       "  </tbody>\n",
       "</table>\n",
       "</div>"
      ],
      "text/plain": [
       "            count           mean           std      min       25%       50%  \\\n",
       "bldg_type                                                                     \n",
       "1Fam       1700.0  185275.685882  81912.397035  12789.0  130500.0  165200.0   \n",
       "2fmCon       46.0  123179.891304  30304.813341  55000.0  101187.5  121200.0   \n",
       "Duplex       75.0  139296.333333  40824.044796  62500.0  118250.0  136000.0   \n",
       "Twnhs        69.0  133100.000000  37977.260030  73000.0  100000.0  134000.0   \n",
       "TwnhsE      161.0  198312.372671  65866.184832  79400.0  147000.0  184000.0   \n",
       "\n",
       "                75%       max  \n",
       "bldg_type                      \n",
       "1Fam       219282.5  611657.0  \n",
       "2fmCon     139875.0  200000.0  \n",
       "Duplex     148991.5  269500.0  \n",
       "Twnhs      160000.0  230000.0  \n",
       "TwnhsE     234250.0  392500.0  "
      ]
     },
     "execution_count": 65,
     "metadata": {},
     "output_type": "execute_result"
    }
   ],
   "source": [
    "df_train.groupby(['bldg_type'])['saleprice'].describe()"
   ]
  },
  {
   "cell_type": "code",
   "execution_count": null,
   "id": "fc7f0a63",
   "metadata": {},
   "outputs": [],
   "source": [
    "for df in [df_train,df_test]:\n",
    "    df['bldg_type'] = [0 if val == '2fmCon'\n",
    "                       else 1 if val == 'Twnhs'\n",
    "                       else 2 if val == 'Duplex'\n",
    "                       else 3 \n",
    "                       for val in df['bldg_type']]"
   ]
  },
  {
   "cell_type": "markdown",
   "id": "8e29a22a",
   "metadata": {},
   "source": [
    "## House Style (floors)"
   ]
  },
  {
   "cell_type": "code",
   "execution_count": 66,
   "id": "529f3119",
   "metadata": {},
   "outputs": [
    {
     "data": {
      "text/plain": [
       "1Story    1059\n",
       "2Story     598\n",
       "1.5Fin     218\n",
       "SLvl        94\n",
       "SFoyer      50\n",
       "2.5Unf      14\n",
       "1.5Unf      12\n",
       "2.5Fin       6\n",
       "Name: house_style, dtype: int64"
      ]
     },
     "execution_count": 66,
     "metadata": {},
     "output_type": "execute_result"
    }
   ],
   "source": [
    "df_train['house_style'].value_counts()"
   ]
  },
  {
   "cell_type": "code",
   "execution_count": 67,
   "id": "48ca0c83",
   "metadata": {},
   "outputs": [
    {
     "data": {
      "text/html": [
       "<div>\n",
       "<style scoped>\n",
       "    .dataframe tbody tr th:only-of-type {\n",
       "        vertical-align: middle;\n",
       "    }\n",
       "\n",
       "    .dataframe tbody tr th {\n",
       "        vertical-align: top;\n",
       "    }\n",
       "\n",
       "    .dataframe thead th {\n",
       "        text-align: right;\n",
       "    }\n",
       "</style>\n",
       "<table border=\"1\" class=\"dataframe\">\n",
       "  <thead>\n",
       "    <tr style=\"text-align: right;\">\n",
       "      <th></th>\n",
       "      <th>count</th>\n",
       "      <th>mean</th>\n",
       "      <th>std</th>\n",
       "      <th>min</th>\n",
       "      <th>25%</th>\n",
       "      <th>50%</th>\n",
       "      <th>75%</th>\n",
       "      <th>max</th>\n",
       "    </tr>\n",
       "    <tr>\n",
       "      <th>house_style</th>\n",
       "      <th></th>\n",
       "      <th></th>\n",
       "      <th></th>\n",
       "      <th></th>\n",
       "      <th></th>\n",
       "      <th></th>\n",
       "      <th></th>\n",
       "      <th></th>\n",
       "    </tr>\n",
       "  </thead>\n",
       "  <tbody>\n",
       "    <tr>\n",
       "      <th>1.5Fin</th>\n",
       "      <td>218.0</td>\n",
       "      <td>136480.091743</td>\n",
       "      <td>44910.975892</td>\n",
       "      <td>37900.0</td>\n",
       "      <td>113250.00</td>\n",
       "      <td>128700.0</td>\n",
       "      <td>149375.0</td>\n",
       "      <td>410000.0</td>\n",
       "    </tr>\n",
       "    <tr>\n",
       "      <th>1.5Unf</th>\n",
       "      <td>12.0</td>\n",
       "      <td>112466.666667</td>\n",
       "      <td>21111.364166</td>\n",
       "      <td>64500.0</td>\n",
       "      <td>107925.00</td>\n",
       "      <td>113000.0</td>\n",
       "      <td>122250.0</td>\n",
       "      <td>139400.0</td>\n",
       "    </tr>\n",
       "    <tr>\n",
       "      <th>1Story</th>\n",
       "      <td>1059.0</td>\n",
       "      <td>179809.194523</td>\n",
       "      <td>81725.146760</td>\n",
       "      <td>12789.0</td>\n",
       "      <td>128000.00</td>\n",
       "      <td>156000.0</td>\n",
       "      <td>214000.0</td>\n",
       "      <td>611657.0</td>\n",
       "    </tr>\n",
       "    <tr>\n",
       "      <th>2.5Fin</th>\n",
       "      <td>6.0</td>\n",
       "      <td>243666.666667</td>\n",
       "      <td>128464.262216</td>\n",
       "      <td>104000.0</td>\n",
       "      <td>192500.00</td>\n",
       "      <td>198500.0</td>\n",
       "      <td>271250.0</td>\n",
       "      <td>475000.0</td>\n",
       "    </tr>\n",
       "    <tr>\n",
       "      <th>2.5Unf</th>\n",
       "      <td>14.0</td>\n",
       "      <td>191785.714286</td>\n",
       "      <td>87041.483100</td>\n",
       "      <td>101000.0</td>\n",
       "      <td>133125.00</td>\n",
       "      <td>165500.0</td>\n",
       "      <td>212125.0</td>\n",
       "      <td>415000.0</td>\n",
       "    </tr>\n",
       "    <tr>\n",
       "      <th>2Story</th>\n",
       "      <td>598.0</td>\n",
       "      <td>206408.963211</td>\n",
       "      <td>82240.431218</td>\n",
       "      <td>40000.0</td>\n",
       "      <td>152768.75</td>\n",
       "      <td>189000.0</td>\n",
       "      <td>243875.0</td>\n",
       "      <td>584500.0</td>\n",
       "    </tr>\n",
       "    <tr>\n",
       "      <th>SFoyer</th>\n",
       "      <td>50.0</td>\n",
       "      <td>149343.920000</td>\n",
       "      <td>31859.449693</td>\n",
       "      <td>73000.0</td>\n",
       "      <td>130475.00</td>\n",
       "      <td>147500.0</td>\n",
       "      <td>169625.0</td>\n",
       "      <td>224500.0</td>\n",
       "    </tr>\n",
       "    <tr>\n",
       "      <th>SLvl</th>\n",
       "      <td>94.0</td>\n",
       "      <td>166248.989362</td>\n",
       "      <td>37262.422556</td>\n",
       "      <td>91000.0</td>\n",
       "      <td>145000.00</td>\n",
       "      <td>164750.0</td>\n",
       "      <td>177875.0</td>\n",
       "      <td>345000.0</td>\n",
       "    </tr>\n",
       "  </tbody>\n",
       "</table>\n",
       "</div>"
      ],
      "text/plain": [
       "              count           mean            std       min        25%  \\\n",
       "house_style                                                              \n",
       "1.5Fin        218.0  136480.091743   44910.975892   37900.0  113250.00   \n",
       "1.5Unf         12.0  112466.666667   21111.364166   64500.0  107925.00   \n",
       "1Story       1059.0  179809.194523   81725.146760   12789.0  128000.00   \n",
       "2.5Fin          6.0  243666.666667  128464.262216  104000.0  192500.00   \n",
       "2.5Unf         14.0  191785.714286   87041.483100  101000.0  133125.00   \n",
       "2Story        598.0  206408.963211   82240.431218   40000.0  152768.75   \n",
       "SFoyer         50.0  149343.920000   31859.449693   73000.0  130475.00   \n",
       "SLvl           94.0  166248.989362   37262.422556   91000.0  145000.00   \n",
       "\n",
       "                  50%       75%       max  \n",
       "house_style                                \n",
       "1.5Fin       128700.0  149375.0  410000.0  \n",
       "1.5Unf       113000.0  122250.0  139400.0  \n",
       "1Story       156000.0  214000.0  611657.0  \n",
       "2.5Fin       198500.0  271250.0  475000.0  \n",
       "2.5Unf       165500.0  212125.0  415000.0  \n",
       "2Story       189000.0  243875.0  584500.0  \n",
       "SFoyer       147500.0  169625.0  224500.0  \n",
       "SLvl         164750.0  177875.0  345000.0  "
      ]
     },
     "execution_count": 67,
     "metadata": {},
     "output_type": "execute_result"
    }
   ],
   "source": [
    "df_train.groupby(['house_style'])['saleprice'].describe()"
   ]
  },
  {
   "cell_type": "code",
   "execution_count": null,
   "id": "c4fe42a9",
   "metadata": {},
   "outputs": [],
   "source": [
    "## rethink\n",
    "\n",
    "for df in [df_train,df_test]:\n",
    "    df['house_style'] = [0 if val == '1Story'\n",
    "                         else 1 if val == '1.5Unf'\n",
    "                         else 2 if val == '1.5Fin'\n",
    "                         else 3 if val == 'SLvl'\n",
    "                         else 4 if val == 'SFoyer'\n",
    "                         else 5 if val == '2Story'\n",
    "                         else 6 if val == '2.5Unf'\n",
    "                         else 7\n",
    "                       for val in df['house_style']]"
   ]
  },
  {
   "cell_type": "markdown",
   "id": "352771e0",
   "metadata": {},
   "source": [
    "## Quality/Condition Columns - Ordinal"
   ]
  },
  {
   "cell_type": "code",
   "execution_count": 78,
   "id": "b82f4688",
   "metadata": {},
   "outputs": [
    {
     "data": {
      "text/plain": [
       "5     563\n",
       "6     506\n",
       "7     431\n",
       "8     250\n",
       "4     159\n",
       "9      77\n",
       "3      29\n",
       "10     23\n",
       "2       9\n",
       "1       4\n",
       "Name: overall_qual, dtype: int64"
      ]
     },
     "execution_count": 78,
     "metadata": {},
     "output_type": "execute_result"
    }
   ],
   "source": [
    "df_train['overall_qual'].value_counts()"
   ]
  },
  {
   "cell_type": "code",
   "execution_count": 71,
   "id": "6a3f685e",
   "metadata": {},
   "outputs": [
    {
     "data": {
      "text/plain": [
       "5    1168\n",
       "6     368\n",
       "7     270\n",
       "8     101\n",
       "4      70\n",
       "3      35\n",
       "9      29\n",
       "2       6\n",
       "1       4\n",
       "Name: overall_cond, dtype: int64"
      ]
     },
     "execution_count": 71,
     "metadata": {},
     "output_type": "execute_result"
    }
   ],
   "source": [
    "df_train['overall_cond'].value_counts()"
   ]
  },
  {
   "cell_type": "markdown",
   "id": "aa0488c9",
   "metadata": {},
   "source": [
    "## Year Built/Remod"
   ]
  },
  {
   "cell_type": "code",
   "execution_count": 84,
   "id": "3b2496a5",
   "metadata": {},
   "outputs": [
    {
     "data": {
      "text/plain": [
       "count    2051.000000\n",
       "mean     1971.708922\n",
       "std        30.177889\n",
       "min      1872.000000\n",
       "25%      1953.500000\n",
       "50%      1974.000000\n",
       "75%      2001.000000\n",
       "max      2010.000000\n",
       "Name: year_built, dtype: float64"
      ]
     },
     "execution_count": 84,
     "metadata": {},
     "output_type": "execute_result"
    }
   ],
   "source": [
    "df_train['year_built'].describe()"
   ]
  },
  {
   "cell_type": "code",
   "execution_count": 83,
   "id": "de00901b",
   "metadata": {},
   "outputs": [
    {
     "data": {
      "text/plain": [
       "count    2051.000000\n",
       "mean     1984.190151\n",
       "std        21.036250\n",
       "min      1950.000000\n",
       "25%      1964.500000\n",
       "50%      1993.000000\n",
       "75%      2004.000000\n",
       "max      2010.000000\n",
       "Name: year_remod/add, dtype: float64"
      ]
     },
     "execution_count": 83,
     "metadata": {},
     "output_type": "execute_result"
    }
   ],
   "source": [
    "df_train['year_remod/add'].describe()"
   ]
  },
  {
   "cell_type": "markdown",
   "id": "4d4eac62",
   "metadata": {},
   "source": [
    "##  Roof"
   ]
  },
  {
   "cell_type": "code",
   "execution_count": null,
   "id": "6dcb9db5",
   "metadata": {},
   "outputs": [],
   "source": [
    "df_train['roof_style'].value_counts()"
   ]
  },
  {
   "cell_type": "code",
   "execution_count": 76,
   "id": "8959f991",
   "metadata": {
    "scrolled": true
   },
   "outputs": [
    {
     "data": {
      "text/html": [
       "<div>\n",
       "<style scoped>\n",
       "    .dataframe tbody tr th:only-of-type {\n",
       "        vertical-align: middle;\n",
       "    }\n",
       "\n",
       "    .dataframe tbody tr th {\n",
       "        vertical-align: top;\n",
       "    }\n",
       "\n",
       "    .dataframe thead th {\n",
       "        text-align: right;\n",
       "    }\n",
       "</style>\n",
       "<table border=\"1\" class=\"dataframe\">\n",
       "  <thead>\n",
       "    <tr style=\"text-align: right;\">\n",
       "      <th></th>\n",
       "      <th>count</th>\n",
       "      <th>mean</th>\n",
       "      <th>std</th>\n",
       "      <th>min</th>\n",
       "      <th>25%</th>\n",
       "      <th>50%</th>\n",
       "      <th>75%</th>\n",
       "      <th>max</th>\n",
       "    </tr>\n",
       "    <tr>\n",
       "      <th>roof_style</th>\n",
       "      <th></th>\n",
       "      <th></th>\n",
       "      <th></th>\n",
       "      <th></th>\n",
       "      <th></th>\n",
       "      <th></th>\n",
       "      <th></th>\n",
       "      <th></th>\n",
       "    </tr>\n",
       "  </thead>\n",
       "  <tbody>\n",
       "    <tr>\n",
       "      <th>Flat</th>\n",
       "      <td>13.0</td>\n",
       "      <td>191613.076923</td>\n",
       "      <td>61659.734752</td>\n",
       "      <td>113500.0</td>\n",
       "      <td>129000.0</td>\n",
       "      <td>167000.0</td>\n",
       "      <td>242000.0</td>\n",
       "      <td>274970.0</td>\n",
       "    </tr>\n",
       "    <tr>\n",
       "      <th>Gable</th>\n",
       "      <td>1619.0</td>\n",
       "      <td>171264.253243</td>\n",
       "      <td>64948.908434</td>\n",
       "      <td>12789.0</td>\n",
       "      <td>128000.0</td>\n",
       "      <td>159000.0</td>\n",
       "      <td>203000.0</td>\n",
       "      <td>475000.0</td>\n",
       "    </tr>\n",
       "    <tr>\n",
       "      <th>Gambrel</th>\n",
       "      <td>12.0</td>\n",
       "      <td>138208.333333</td>\n",
       "      <td>66068.524459</td>\n",
       "      <td>40000.0</td>\n",
       "      <td>93725.0</td>\n",
       "      <td>125250.0</td>\n",
       "      <td>172500.0</td>\n",
       "      <td>259500.0</td>\n",
       "    </tr>\n",
       "    <tr>\n",
       "      <th>Hip</th>\n",
       "      <td>397.0</td>\n",
       "      <td>224366.654912</td>\n",
       "      <td>112153.404004</td>\n",
       "      <td>50138.0</td>\n",
       "      <td>140000.0</td>\n",
       "      <td>180500.0</td>\n",
       "      <td>290000.0</td>\n",
       "      <td>611657.0</td>\n",
       "    </tr>\n",
       "    <tr>\n",
       "      <th>Mansard</th>\n",
       "      <td>7.0</td>\n",
       "      <td>152642.857143</td>\n",
       "      <td>80646.716344</td>\n",
       "      <td>44000.0</td>\n",
       "      <td>108500.0</td>\n",
       "      <td>150000.0</td>\n",
       "      <td>182500.0</td>\n",
       "      <td>292500.0</td>\n",
       "    </tr>\n",
       "    <tr>\n",
       "      <th>Shed</th>\n",
       "      <td>3.0</td>\n",
       "      <td>208666.666667</td>\n",
       "      <td>63105.731383</td>\n",
       "      <td>157000.0</td>\n",
       "      <td>173500.0</td>\n",
       "      <td>190000.0</td>\n",
       "      <td>234500.0</td>\n",
       "      <td>279000.0</td>\n",
       "    </tr>\n",
       "  </tbody>\n",
       "</table>\n",
       "</div>"
      ],
      "text/plain": [
       "             count           mean            std       min       25%  \\\n",
       "roof_style                                                             \n",
       "Flat          13.0  191613.076923   61659.734752  113500.0  129000.0   \n",
       "Gable       1619.0  171264.253243   64948.908434   12789.0  128000.0   \n",
       "Gambrel       12.0  138208.333333   66068.524459   40000.0   93725.0   \n",
       "Hip          397.0  224366.654912  112153.404004   50138.0  140000.0   \n",
       "Mansard        7.0  152642.857143   80646.716344   44000.0  108500.0   \n",
       "Shed           3.0  208666.666667   63105.731383  157000.0  173500.0   \n",
       "\n",
       "                 50%       75%       max  \n",
       "roof_style                                \n",
       "Flat        167000.0  242000.0  274970.0  \n",
       "Gable       159000.0  203000.0  475000.0  \n",
       "Gambrel     125250.0  172500.0  259500.0  \n",
       "Hip         180500.0  290000.0  611657.0  \n",
       "Mansard     150000.0  182500.0  292500.0  \n",
       "Shed        190000.0  234500.0  279000.0  "
      ]
     },
     "execution_count": 76,
     "metadata": {},
     "output_type": "execute_result"
    }
   ],
   "source": [
    "df_train.groupby(['roof_style'])['saleprice'].describe()"
   ]
  },
  {
   "cell_type": "code",
   "execution_count": null,
   "id": "4bb448eb",
   "metadata": {},
   "outputs": [],
   "source": []
  },
  {
   "cell_type": "code",
   "execution_count": null,
   "id": "79bac4e7",
   "metadata": {},
   "outputs": [],
   "source": []
  },
  {
   "cell_type": "code",
   "execution_count": null,
   "id": "dd93bf30",
   "metadata": {},
   "outputs": [],
   "source": []
  },
  {
   "cell_type": "code",
   "execution_count": null,
   "id": "8a14f761",
   "metadata": {},
   "outputs": [],
   "source": [
    "for col in ['exter_qual','exter_cond','bsmt_qual','bsmt_cond','heating_qc','kitchen_qual','fireplace_qu','garage_qual','garage_cond','pool_qc']:\n",
    "    print(df[col].value_counts())"
   ]
  },
  {
   "cell_type": "code",
   "execution_count": null,
   "id": "4bea7734",
   "metadata": {},
   "outputs": [],
   "source": [
    "for df in [df_train,df_test]:\n",
    "    for col in ['exter_qual','exter_cond','bsmt_qual','bsmt_cond',\n",
    "                'heating_qc','kitchen_qual','fireplace_qu','garage_qual','garage_cond','pool_qc']:\n",
    "        df[col] = [0 if val == 'NA'\n",
    "                   else 1 if val == 'Po'\n",
    "                   else 2 if val == 'Fa'\n",
    "                   else 3 if val == 'TA'\n",
    "                   else 4 if val == 'Gd'\n",
    "                   else 5\n",
    "                   for val in df[col]]\n",
    "                "
   ]
  },
  {
   "cell_type": "code",
   "execution_count": null,
   "id": "37d24831",
   "metadata": {},
   "outputs": [],
   "source": [
    "df_train['bsmt_exposure'].value_counts()"
   ]
  },
  {
   "cell_type": "code",
   "execution_count": null,
   "id": "e4b56401",
   "metadata": {},
   "outputs": [],
   "source": [
    "for df in [df_train,df_test]:\n",
    "    df['bsmt_exposure'] = [0 if val == 'NA'\n",
    "                           else 1 if val == 'No'\n",
    "                           else 2 if val == 'Mn'\n",
    "                           else 3 if val == 'Av'\n",
    "                           else 4 \n",
    "                           for val in df['bsmt_exposure']]"
   ]
  },
  {
   "cell_type": "code",
   "execution_count": null,
   "id": "07737ee6",
   "metadata": {},
   "outputs": [],
   "source": [
    "print(df_train['bsmtfin_type_1'].value_counts())\n",
    "print(df_train['bsmtfin_type_2'].value_counts())"
   ]
  },
  {
   "cell_type": "code",
   "execution_count": null,
   "id": "bf55938a",
   "metadata": {},
   "outputs": [],
   "source": [
    "for df in [df_train,df_test]:\n",
    "    for col in ['bsmtfin_type_1','bsmtfin_type_2']:\n",
    "        df[col] = [0 if val == 'NA'\n",
    "                   else 1 if val == 'Unf'\n",
    "                   else 2 if val == 'LwQ'\n",
    "                   else 3 if val == 'Rec'\n",
    "                   else 4 if val == 'BLQ'\n",
    "                   else 5 if val == 'ALQ'\n",
    "                   else 6\n",
    "                   for val in df[col]]"
   ]
  },
  {
   "cell_type": "code",
   "execution_count": null,
   "id": "891234f7",
   "metadata": {},
   "outputs": [],
   "source": [
    "df_train['garage_type'].value_counts()"
   ]
  },
  {
   "cell_type": "code",
   "execution_count": null,
   "id": "cc9dc497",
   "metadata": {},
   "outputs": [],
   "source": [
    "for df in [df_train,df_test]:\n",
    "    df['garage_type'] = [0 if val == 'NA'\n",
    "                         else 1 if val == 'CarPort'\n",
    "                         else 2 if val == 'Detchd'\n",
    "                         else 3 if val == 'Basment'\n",
    "                         else 4 if val == 'Attchd'\n",
    "                         else 5 if val == 'BuiltIn'\n",
    "                         else 6\n",
    "                         for val in df['garage_type']]"
   ]
  },
  {
   "cell_type": "code",
   "execution_count": null,
   "id": "9213653a",
   "metadata": {},
   "outputs": [],
   "source": [
    "df_train['garage_finish'].value_counts()"
   ]
  },
  {
   "cell_type": "code",
   "execution_count": null,
   "id": "8e006dd9",
   "metadata": {},
   "outputs": [],
   "source": [
    "for df in [df_train,df_test]:\n",
    "    df['garage_finish'] = [0 if val == 'NA'\n",
    "                           else 1 if val == 'Unf'\n",
    "                           else 2 if val == 'RFn'\n",
    "                           else 3\n",
    "                           for val in df['garage_finish']]"
   ]
  },
  {
   "cell_type": "code",
   "execution_count": null,
   "id": "7b406f12",
   "metadata": {},
   "outputs": [],
   "source": [
    "df_train['electrical'].value_counts()"
   ]
  },
  {
   "cell_type": "code",
   "execution_count": null,
   "id": "b2316996",
   "metadata": {},
   "outputs": [],
   "source": [
    "for df in [df_train,df_test]:\n",
    "    df['electrical'] = [0 if val == 'FuseP'\n",
    "                        else 1 if val == 'FuseF'\n",
    "                        else 2 if val == 'FuseA'\n",
    "                        else 3 if val == 'Mix'\n",
    "                        else 4\n",
    "                        for val in df['electrical']]"
   ]
  },
  {
   "cell_type": "code",
   "execution_count": null,
   "id": "d5d8c62b",
   "metadata": {},
   "outputs": [],
   "source": [
    "df_train['central_air'].value_counts()"
   ]
  },
  {
   "cell_type": "code",
   "execution_count": null,
   "id": "14f38952",
   "metadata": {},
   "outputs": [],
   "source": [
    "for df in [df_train,df_test]:\n",
    "    df['central_air'] = [1 if val == 'Y' else 0 for val in df['central_air']]"
   ]
  },
  {
   "cell_type": "code",
   "execution_count": null,
   "id": "53fc1421",
   "metadata": {},
   "outputs": [],
   "source": [
    "df_train['functional'].value_counts()"
   ]
  },
  {
   "cell_type": "code",
   "execution_count": null,
   "id": "305b7f40",
   "metadata": {},
   "outputs": [],
   "source": [
    "for df in [df_train,df_test]:\n",
    "    df['functional'] = [0 if val == 'Sal'\n",
    "                        else 1 if val == 'Sev'\n",
    "                        else 2 if val == 'Maj2'\n",
    "                        else 3 if val == 'Maj1'\n",
    "                        else 4 if val == 'Mod'\n",
    "                        else 5 if val == 'Min2'\n",
    "                        else 6 if val == 'Min1'\n",
    "                        else 7\n",
    "                        for val in df['functional']]"
   ]
  },
  {
   "cell_type": "code",
   "execution_count": null,
   "id": "68678cc9",
   "metadata": {},
   "outputs": [],
   "source": [
    "df_train['paved_drive'].value_counts()"
   ]
  },
  {
   "cell_type": "code",
   "execution_count": null,
   "id": "b838d589",
   "metadata": {},
   "outputs": [],
   "source": [
    "for df in [df_train,df_test]:\n",
    "    df['paved_drive'] = [0 if val == 'N'\n",
    "                         else 1 if val == 'P'\n",
    "                         else 2\n",
    "                         for val in df['paved_drive']]"
   ]
  },
  {
   "cell_type": "code",
   "execution_count": null,
   "id": "d3a3d5a6",
   "metadata": {},
   "outputs": [],
   "source": [
    "df_train['fence'].value_counts()"
   ]
  },
  {
   "cell_type": "code",
   "execution_count": null,
   "id": "67a06586",
   "metadata": {},
   "outputs": [],
   "source": [
    "df_train.select_dtypes('object').columns"
   ]
  },
  {
   "cell_type": "code",
   "execution_count": null,
   "id": "5a97975b",
   "metadata": {},
   "outputs": [],
   "source": [
    "print(df_train.ms_zoning.value_counts())\n",
    "print(df_test.ms_zoning.value_counts())"
   ]
  },
  {
   "cell_type": "code",
   "execution_count": null,
   "id": "6014d27b",
   "metadata": {},
   "outputs": [],
   "source": [
    "for df in [df_train,df_test]:\n",
    "    df['ms_zoning'] = [0 if val == 'I (all)' \n",
    "                         else 1 if val == 'C (all)' \n",
    "                         else 2 if val == 'RH'\n",
    "                         else 3 if val == 'RM'\n",
    "                         else 4 if val == 'RL'\n",
    "                         else 5 if val == 'FV'\n",
    "                         else 6\n",
    "                         for val in df['ms_zoning']]"
   ]
  },
  {
   "cell_type": "code",
   "execution_count": null,
   "id": "8809e0eb",
   "metadata": {},
   "outputs": [],
   "source": [
    "df_train['street'].value_counts()"
   ]
  },
  {
   "cell_type": "code",
   "execution_count": null,
   "id": "4b37d52f",
   "metadata": {},
   "outputs": [],
   "source": [
    "for df in [df_train,df_test]:\n",
    "    df['street'] = [0 if val == 'Grvl' else 1 for val in df['street']]"
   ]
  },
  {
   "cell_type": "code",
   "execution_count": null,
   "id": "80ea4376",
   "metadata": {},
   "outputs": [],
   "source": [
    "df_train['alley'].value_counts()"
   ]
  },
  {
   "cell_type": "code",
   "execution_count": null,
   "id": "c5ac607f",
   "metadata": {},
   "outputs": [],
   "source": [
    "for df in [df_train,df_test]:\n",
    "    df['alley'] = [0 if val == 'Grvl' else 1 for val in df['alley']]"
   ]
  },
  {
   "cell_type": "code",
   "execution_count": null,
   "id": "30a72e29",
   "metadata": {},
   "outputs": [],
   "source": [
    "df_train['lot_shape'].value_counts()"
   ]
  },
  {
   "cell_type": "code",
   "execution_count": null,
   "id": "0fcfe304",
   "metadata": {},
   "outputs": [],
   "source": [
    "for df in [df_train,df_test]:\n",
    "    df['lot_shape'] = [0 if val == 'IR3' \n",
    "                         else 1 if val == 'IR2' \n",
    "                         else 2 if val == 'IR1'\n",
    "                         else 3\n",
    "                         for val in df['lot_shape']]"
   ]
  },
  {
   "cell_type": "code",
   "execution_count": null,
   "id": "6cada878",
   "metadata": {},
   "outputs": [],
   "source": [
    "df_train['land_contour'].value_counts()"
   ]
  },
  {
   "cell_type": "code",
   "execution_count": null,
   "id": "fa577f43",
   "metadata": {},
   "outputs": [],
   "source": [
    "for df in [df_train,df_test]:\n",
    "    df['land_contour'] = [0 if val == 'IR3' \n",
    "                         else 1 if val == 'IR2' \n",
    "                         else 2 if val == 'IR1'\n",
    "                         else 3\n",
    "                         for val in df['land_contour']]"
   ]
  },
  {
   "cell_type": "code",
   "execution_count": null,
   "id": "48ec3c4c",
   "metadata": {},
   "outputs": [],
   "source": [
    "df_train['utilities'].value_counts()"
   ]
  },
  {
   "cell_type": "code",
   "execution_count": null,
   "id": "a6a37980",
   "metadata": {},
   "outputs": [],
   "source": [
    "for df in [df_train,df_test]:\n",
    "    df['utilities'] = [0 if val == 'NoSeWa'\n",
    "                       else 1 if val == 'NoSeWr'\n",
    "                       else 2 \n",
    "                       for val in df['utilities']]"
   ]
  },
  {
   "cell_type": "code",
   "execution_count": null,
   "id": "f581b0b7",
   "metadata": {},
   "outputs": [],
   "source": [
    "df_train['lot_config'].value_counts()"
   ]
  },
  {
   "cell_type": "code",
   "execution_count": null,
   "id": "d578500f",
   "metadata": {},
   "outputs": [],
   "source": [
    "for df in [df_train,df_test]:\n",
    "    df['lot_config'] = [0 if val == 'FR3'\n",
    "                       else 1 if val == 'FR2'\n",
    "                       else 2 if val == 'Corner'\n",
    "                        else 3 if val == 'Inside'\n",
    "                        else 4\n",
    "                       for val in df['lot_config']]"
   ]
  },
  {
   "cell_type": "code",
   "execution_count": null,
   "id": "2a89db5a",
   "metadata": {},
   "outputs": [],
   "source": [
    "df_train['land_slope'].value_counts()"
   ]
  },
  {
   "cell_type": "code",
   "execution_count": null,
   "id": "f028ce85",
   "metadata": {},
   "outputs": [],
   "source": [
    "for df in [df_train,df_test]:\n",
    "    df['land_slope'] = [0 if val == 'Sev'\n",
    "                       else 1 if val == 'Mod'\n",
    "                       else 2\n",
    "                       for val in df['land_slope']]"
   ]
  },
  {
   "cell_type": "code",
   "execution_count": null,
   "id": "d04a3daf",
   "metadata": {},
   "outputs": [],
   "source": [
    "df_train['condition_1'].value_counts()"
   ]
  },
  {
   "cell_type": "code",
   "execution_count": null,
   "id": "6cd5d651",
   "metadata": {},
   "outputs": [],
   "source": [
    "for df in [df_train,df_test]:\n",
    "    for cond in ['condition_1','condition_2']:\n",
    "        df[cond] = [0 if (val == 'RRAe') | (val == 'RRAn')\n",
    "                    else 1 if (val == 'RRNe') | (val == 'RRNn')\n",
    "                    else 2 if val == 'Artery'\n",
    "                    else 3 if val == 'Feedr'\n",
    "                    else 4 if val == 'Normal'\n",
    "                    else 5 if val == 'PosN'\n",
    "                    else 6 \n",
    "                    for val in df[cond]]"
   ]
  },
  {
   "cell_type": "code",
   "execution_count": null,
   "id": "d10a6243",
   "metadata": {},
   "outputs": [],
   "source": [
    "df_train['bldg_type'].value_counts()"
   ]
  },
  {
   "cell_type": "code",
   "execution_count": null,
   "id": "8a9bb02b",
   "metadata": {},
   "outputs": [],
   "source": [
    "for df in [df_train,df_test]:\n",
    "    df['bldg_type'] = [0 if val == 'Twnhs'\n",
    "                       else 1 if val == 'TwnhsE'\n",
    "                       else 2 if val == 'Duplex'\n",
    "                       else 3 if val == '2fmCon'\n",
    "                       else 4\n",
    "                       for val in df['bldg_type']]"
   ]
  },
  {
   "cell_type": "code",
   "execution_count": null,
   "id": "38f1139c",
   "metadata": {},
   "outputs": [],
   "source": [
    "df_train['house_style'].value_counts()"
   ]
  },
  {
   "cell_type": "code",
   "execution_count": null,
   "id": "d1a0da3f",
   "metadata": {},
   "outputs": [],
   "source": [
    "for df in [df_train,df_test]:\n",
    "    df['house_style'] = [0 if val == '1Story'\n",
    "                         else 1 if val == '1.5Unf'\n",
    "                         else 2 if val == '1.5Fin'\n",
    "                         else 3 if val == 'SLvl'\n",
    "                         else 4 if val == 'SFoyer'\n",
    "                         else 5 if val == '2Story'\n",
    "                         else 6 if val == '2.5Unf'\n",
    "                         else 7\n",
    "                       for val in df['house_style']]"
   ]
  },
  {
   "cell_type": "code",
   "execution_count": null,
   "id": "5eecca61",
   "metadata": {},
   "outputs": [],
   "source": [
    "for col in ['exter_qual','exter_cond','bsmt_qual','bsmt_cond','heating_qc','kitchen_qual','fireplace_qu','garage_qual','garage_cond','pool_qc']:\n",
    "    print(df[col].value_counts())"
   ]
  },
  {
   "cell_type": "code",
   "execution_count": null,
   "id": "b00c0aab",
   "metadata": {},
   "outputs": [],
   "source": [
    "for df in [df_train,df_test]:\n",
    "    for col in ['exter_qual','exter_cond','bsmt_qual','bsmt_cond',\n",
    "                'heating_qc','kitchen_qual','fireplace_qu','garage_qual','garage_cond','pool_qc']:\n",
    "        df[col] = [0 if val == 'NA'\n",
    "                   else 1 if val == 'Po'\n",
    "                   else 2 if val == 'Fa'\n",
    "                   else 3 if val == 'TA'\n",
    "                   else 4 if val == 'Gd'\n",
    "                   else 5\n",
    "                   for val in df[col]]\n",
    "                "
   ]
  },
  {
   "cell_type": "code",
   "execution_count": null,
   "id": "7eda7b9a",
   "metadata": {},
   "outputs": [],
   "source": [
    "df_train['bsmt_exposure'].value_counts()"
   ]
  },
  {
   "cell_type": "code",
   "execution_count": null,
   "id": "d0f9066c",
   "metadata": {},
   "outputs": [],
   "source": [
    "for df in [df_train,df_test]:\n",
    "    df['bsmt_exposure'] = [0 if val == 'NA'\n",
    "                           else 1 if val == 'No'\n",
    "                           else 2 if val == 'Mn'\n",
    "                           else 3 if val == 'Av'\n",
    "                           else 4 \n",
    "                           for val in df['bsmt_exposure']]"
   ]
  },
  {
   "cell_type": "code",
   "execution_count": null,
   "id": "e7183a55",
   "metadata": {},
   "outputs": [],
   "source": [
    "print(df_train['bsmtfin_type_1'].value_counts())\n",
    "print(df_train['bsmtfin_type_2'].value_counts())"
   ]
  },
  {
   "cell_type": "code",
   "execution_count": null,
   "id": "00e8df9d",
   "metadata": {},
   "outputs": [],
   "source": [
    "for df in [df_train,df_test]:\n",
    "    for col in ['bsmtfin_type_1','bsmtfin_type_2']:\n",
    "        df[col] = [0 if val == 'NA'\n",
    "                   else 1 if val == 'Unf'\n",
    "                   else 2 if val == 'LwQ'\n",
    "                   else 3 if val == 'Rec'\n",
    "                   else 4 if val == 'BLQ'\n",
    "                   else 5 if val == 'ALQ'\n",
    "                   else 6\n",
    "                   for val in df[col]]"
   ]
  },
  {
   "cell_type": "code",
   "execution_count": null,
   "id": "79dccbe2",
   "metadata": {},
   "outputs": [],
   "source": [
    "df_train['garage_type'].value_counts()"
   ]
  },
  {
   "cell_type": "code",
   "execution_count": null,
   "id": "ef55c223",
   "metadata": {},
   "outputs": [],
   "source": [
    "for df in [df_train,df_test]:\n",
    "    df['garage_type'] = [0 if val == 'NA'\n",
    "                         else 1 if val == 'CarPort'\n",
    "                         else 2 if val == 'Detchd'\n",
    "                         else 3 if val == 'Basment'\n",
    "                         else 4 if val == 'Attchd'\n",
    "                         else 5 if val == 'BuiltIn'\n",
    "                         else 6\n",
    "                         for val in df['garage_type']]"
   ]
  },
  {
   "cell_type": "code",
   "execution_count": null,
   "id": "fde0eac9",
   "metadata": {},
   "outputs": [],
   "source": [
    "df_train['garage_finish'].value_counts()"
   ]
  },
  {
   "cell_type": "code",
   "execution_count": null,
   "id": "2f8a1423",
   "metadata": {},
   "outputs": [],
   "source": [
    "for df in [df_train,df_test]:\n",
    "    df['garage_finish'] = [0 if val == 'NA'\n",
    "                           else 1 if val == 'Unf'\n",
    "                           else 2 if val == 'RFn'\n",
    "                           else 3\n",
    "                           for val in df['garage_finish']]"
   ]
  },
  {
   "cell_type": "code",
   "execution_count": null,
   "id": "64979f2e",
   "metadata": {},
   "outputs": [],
   "source": [
    "df_train['electrical'].value_counts()"
   ]
  },
  {
   "cell_type": "code",
   "execution_count": null,
   "id": "0357e1f4",
   "metadata": {},
   "outputs": [],
   "source": [
    "for df in [df_train,df_test]:\n",
    "    df['electrical'] = [0 if val == 'FuseP'\n",
    "                        else 1 if val == 'FuseF'\n",
    "                        else 2 if val == 'FuseA'\n",
    "                        else 3 if val == 'Mix'\n",
    "                        else 4\n",
    "                        for val in df['electrical']]"
   ]
  },
  {
   "cell_type": "code",
   "execution_count": null,
   "id": "06d49037",
   "metadata": {},
   "outputs": [],
   "source": [
    "df_train['central_air'].value_counts()"
   ]
  },
  {
   "cell_type": "code",
   "execution_count": null,
   "id": "2945b2a0",
   "metadata": {},
   "outputs": [],
   "source": [
    "for df in [df_train,df_test]:\n",
    "    df['central_air'] = [1 if val == 'Y' else 0 for val in df['central_air']]"
   ]
  },
  {
   "cell_type": "code",
   "execution_count": null,
   "id": "be96a383",
   "metadata": {},
   "outputs": [],
   "source": [
    "df_train['functional'].value_counts()"
   ]
  },
  {
   "cell_type": "code",
   "execution_count": null,
   "id": "a14633a5",
   "metadata": {},
   "outputs": [],
   "source": [
    "for df in [df_train,df_test]:\n",
    "    df['functional'] = [0 if val == 'Sal'\n",
    "                        else 1 if val == 'Sev'\n",
    "                        else 2 if val == 'Maj2'\n",
    "                        else 3 if val == 'Maj1'\n",
    "                        else 4 if val == 'Mod'\n",
    "                        else 5 if val == 'Min2'\n",
    "                        else 6 if val == 'Min1'\n",
    "                        else 7\n",
    "                        for val in df['functional']]"
   ]
  },
  {
   "cell_type": "code",
   "execution_count": null,
   "id": "0713c754",
   "metadata": {},
   "outputs": [],
   "source": [
    "df_train['paved_drive'].value_counts()"
   ]
  },
  {
   "cell_type": "code",
   "execution_count": null,
   "id": "2ad389b1",
   "metadata": {},
   "outputs": [],
   "source": [
    "for df in [df_train,df_test]:\n",
    "    df['paved_drive'] = [0 if val == 'N'\n",
    "                         else 1 if val == 'P'\n",
    "                         else 2\n",
    "                         for val in df['paved_drive']]"
   ]
  },
  {
   "cell_type": "code",
   "execution_count": null,
   "id": "cdedcfe4",
   "metadata": {},
   "outputs": [],
   "source": [
    "df_train['fence'].value_counts()"
   ]
  },
  {
   "cell_type": "code",
   "execution_count": null,
   "id": "34b8ac4a",
   "metadata": {},
   "outputs": [],
   "source": [
    "for df in [df_train,df_test]:\n",
    "    df['fence_mat'] = [0 if val == 'NA'\n",
    "                       else 1 if val == 'MnWw'\n",
    "                       else 2 if val == 'GdWo'\n",
    "                       else 0\n",
    "                       for val in df['fence']]"
   ]
  },
  {
   "cell_type": "code",
   "execution_count": null,
   "id": "df993c58",
   "metadata": {},
   "outputs": [],
   "source": [
    "for df in [df_train,df_test]:\n",
    "    df['fence_priv'] = [0 if val == 'NA'\n",
    "                       else 1 if val == 'MnPrv'\n",
    "                       else 2 if val == 'GdPrv'\n",
    "                       else 0\n",
    "                       for val in df['fence']]"
   ]
  },
  {
   "cell_type": "code",
   "execution_count": null,
   "id": "c1f50caf",
   "metadata": {},
   "outputs": [],
   "source": []
  },
  {
   "cell_type": "code",
   "execution_count": null,
   "id": "7789ee0c",
   "metadata": {},
   "outputs": [],
   "source": []
  }
 ],
 "metadata": {
  "kernelspec": {
   "display_name": "Python 3 (ipykernel)",
   "language": "python",
   "name": "python3"
  },
  "language_info": {
   "codemirror_mode": {
    "name": "ipython",
    "version": 3
   },
   "file_extension": ".py",
   "mimetype": "text/x-python",
   "name": "python",
   "nbconvert_exporter": "python",
   "pygments_lexer": "ipython3",
   "version": "3.9.13"
  }
 },
 "nbformat": 4,
 "nbformat_minor": 5
}
