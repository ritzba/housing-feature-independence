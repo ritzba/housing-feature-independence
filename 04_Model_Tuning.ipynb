{
 "cells": [
  {
   "cell_type": "code",
   "execution_count": 3,
   "id": "3c29f565",
   "metadata": {},
   "outputs": [],
   "source": [
    "import numpy as np\n",
    "import pandas as pd\n",
    "import matplotlib.pyplot as plt\n",
    "import seaborn as sns\n",
    "\n",
    "from sklearn.compose import ColumnTransformer\n",
    "from sklearn.preprocessing import OneHotEncoder"
   ]
  },
  {
   "cell_type": "code",
   "execution_count": 4,
   "id": "145e7030",
   "metadata": {},
   "outputs": [],
   "source": [
    "from sklearn.linear_model import LinearRegression, Lasso, LassoCV, Ridge, RidgeCV, ElasticNet, ElasticNetCV\n",
    "from sklearn.model_selection import train_test_split, cross_val_score\n",
    "from sklearn.preprocessing import PolynomialFeatures, StandardScaler\n",
    "from sklearn.metrics import r2_score, mean_squared_error\n",
    "\n",
    "from statsmodels.stats.outliers_influence import variance_inflation_factor\n",
    "from sklearn.pipeline import Pipeline\n",
    "\n",
    "from sklearn.model_selection import \\\n",
    "    KFold, RepeatedKFold, GridSearchCV, \\\n",
    "    cross_validate, train_test_split\n",
    "\n",
    "from ipywidgets import *\n",
    "from IPython.display import display\n",
    "\n",
    "import warnings"
   ]
  },
  {
   "cell_type": "code",
   "execution_count": null,
   "id": "7e240e00",
   "metadata": {},
   "outputs": [],
   "source": []
  },
  {
   "cell_type": "code",
   "execution_count": 79,
   "id": "5a9b0555",
   "metadata": {},
   "outputs": [],
   "source": [
    "X_train = pd.read_csv('./output/X_train_sc.csv')\n",
    "X_val = pd.read_csv('./output/X_val_sc.csv')\n",
    "X_test = pd.read_csv('./output/X_test_sc.csv')"
   ]
  },
  {
   "cell_type": "code",
   "execution_count": 80,
   "id": "5bce6fbe",
   "metadata": {},
   "outputs": [],
   "source": [
    "y_train = pd.read_csv('./output/y_train.csv')\n",
    "y_val = pd.read_csv('./output/y_val.csv')"
   ]
  },
  {
   "cell_type": "markdown",
   "id": "b937b225",
   "metadata": {},
   "source": [
    "# Ridge"
   ]
  },
  {
   "cell_type": "markdown",
   "id": "9b8a6966",
   "metadata": {},
   "source": [
    "We will now tune parameters for Ridge, Lasso, and Elastic Net to improve performance."
   ]
  },
  {
   "cell_type": "code",
   "execution_count": 70,
   "id": "320f1283",
   "metadata": {},
   "outputs": [],
   "source": [
    "params = {'alpha':np.logspace(0,5,200)}"
   ]
  },
  {
   "cell_type": "code",
   "execution_count": 71,
   "id": "2539d72c",
   "metadata": {},
   "outputs": [],
   "source": [
    "grid = GridSearchCV(estimator = Ridge(),param_grid = params, cv = 5)"
   ]
  },
  {
   "cell_type": "code",
   "execution_count": 72,
   "id": "aa1b93f9",
   "metadata": {},
   "outputs": [
    {
     "data": {
      "text/plain": [
       "GridSearchCV(cv=5, estimator=Ridge(),\n",
       "             param_grid={'alpha': array([1.00000000e+00, 1.05956018e+00, 1.12266777e+00, 1.18953407e+00,\n",
       "       1.26038293e+00, 1.33545156e+00, 1.41499130e+00, 1.49926843e+00,\n",
       "       1.58856513e+00, 1.68318035e+00, 1.78343088e+00, 1.88965234e+00,\n",
       "       2.00220037e+00, 2.12145178e+00, 2.24780583e+00, 2.38168555e+00,\n",
       "       2.52353917e+00, 2.67384162e+00, 2.83309610e+00, 3....\n",
       "       2.64308149e+04, 2.80050389e+04, 2.96730241e+04, 3.14403547e+04,\n",
       "       3.33129479e+04, 3.52970730e+04, 3.73993730e+04, 3.96268864e+04,\n",
       "       4.19870708e+04, 4.44878283e+04, 4.71375313e+04, 4.99450512e+04,\n",
       "       5.29197874e+04, 5.60716994e+04, 5.94113398e+04, 6.29498899e+04,\n",
       "       6.66991966e+04, 7.06718127e+04, 7.48810386e+04, 7.93409667e+04,\n",
       "       8.40665289e+04, 8.90735464e+04, 9.43787828e+04, 1.00000000e+05])})"
      ]
     },
     "execution_count": 72,
     "metadata": {},
     "output_type": "execute_result"
    }
   ],
   "source": [
    "grid.fit(X_train,y_train)"
   ]
  },
  {
   "cell_type": "code",
   "execution_count": 73,
   "id": "ff02ffa5",
   "metadata": {},
   "outputs": [
    {
     "data": {
      "text/plain": [
       "0.8405563266703211"
      ]
     },
     "execution_count": 73,
     "metadata": {},
     "output_type": "execute_result"
    }
   ],
   "source": [
    "grid.best_score_"
   ]
  },
  {
   "cell_type": "code",
   "execution_count": 74,
   "id": "d6b554ba",
   "metadata": {},
   "outputs": [
    {
     "data": {
      "text/plain": [
       "Ridge(alpha=273.6439997074672)"
      ]
     },
     "execution_count": 74,
     "metadata": {},
     "output_type": "execute_result"
    }
   ],
   "source": [
    "grid.best_estimator_"
   ]
  },
  {
   "cell_type": "code",
   "execution_count": 82,
   "id": "01c36851",
   "metadata": {},
   "outputs": [],
   "source": [
    "ridge = Ridge(alpha = 273.64)\n",
    "model = 'ridge'\n",
    "ridge.fit(X_train,y_train)\n",
    "train = ridge.score(X_train,y_train)\n",
    "y_pred = ridge.predict(X_val)\n",
    "test = ridge.score(X_val,y_val)\n",
    "mse = mean_squared_error(y_val,y_pred,squared=False)\n"
   ]
  },
  {
   "cell_type": "code",
   "execution_count": 83,
   "id": "f1390ba2",
   "metadata": {},
   "outputs": [
    {
     "name": "stdout",
     "output_type": "stream",
     "text": [
      "0.8833543225585851 0.839744602093918 31368.32967037231\n"
     ]
    }
   ],
   "source": [
    "print(train,test,mse)"
   ]
  },
  {
   "cell_type": "markdown",
   "id": "9c6bfd50",
   "metadata": {},
   "source": [
    "Sligtly more overfit than E-Net default, but also better MSE."
   ]
  },
  {
   "cell_type": "markdown",
   "id": "1ac2174f",
   "metadata": {},
   "source": [
    "# Lasso"
   ]
  },
  {
   "cell_type": "code",
   "execution_count": 91,
   "id": "4858a4c4",
   "metadata": {},
   "outputs": [],
   "source": [
    "params = {'alpha':np.logspace(0,5,200)}"
   ]
  },
  {
   "cell_type": "code",
   "execution_count": 92,
   "id": "789db38c",
   "metadata": {},
   "outputs": [],
   "source": [
    "grid = GridSearchCV(estimator = Lasso(),param_grid = params, cv = 5)"
   ]
  },
  {
   "cell_type": "code",
   "execution_count": 93,
   "id": "ef6fb02e",
   "metadata": {},
   "outputs": [
    {
     "data": {
      "text/plain": [
       "GridSearchCV(cv=5, estimator=Lasso(),\n",
       "             param_grid={'alpha': array([1.00000000e+00, 1.05956018e+00, 1.12266777e+00, 1.18953407e+00,\n",
       "       1.26038293e+00, 1.33545156e+00, 1.41499130e+00, 1.49926843e+00,\n",
       "       1.58856513e+00, 1.68318035e+00, 1.78343088e+00, 1.88965234e+00,\n",
       "       2.00220037e+00, 2.12145178e+00, 2.24780583e+00, 2.38168555e+00,\n",
       "       2.52353917e+00, 2.67384162e+00, 2.83309610e+00, 3....\n",
       "       2.64308149e+04, 2.80050389e+04, 2.96730241e+04, 3.14403547e+04,\n",
       "       3.33129479e+04, 3.52970730e+04, 3.73993730e+04, 3.96268864e+04,\n",
       "       4.19870708e+04, 4.44878283e+04, 4.71375313e+04, 4.99450512e+04,\n",
       "       5.29197874e+04, 5.60716994e+04, 5.94113398e+04, 6.29498899e+04,\n",
       "       6.66991966e+04, 7.06718127e+04, 7.48810386e+04, 7.93409667e+04,\n",
       "       8.40665289e+04, 8.90735464e+04, 9.43787828e+04, 1.00000000e+05])})"
      ]
     },
     "execution_count": 93,
     "metadata": {},
     "output_type": "execute_result"
    }
   ],
   "source": [
    "grid.fit(X_train,y_train)"
   ]
  },
  {
   "cell_type": "code",
   "execution_count": 94,
   "id": "fa31eee0",
   "metadata": {},
   "outputs": [
    {
     "data": {
      "text/plain": [
       "0.8392638174562727"
      ]
     },
     "execution_count": 94,
     "metadata": {},
     "output_type": "execute_result"
    }
   ],
   "source": [
    "grid.best_score_"
   ]
  },
  {
   "cell_type": "code",
   "execution_count": 95,
   "id": "ee4558fb",
   "metadata": {},
   "outputs": [
    {
     "data": {
      "text/plain": [
       "Lasso(alpha=547.8901179593945)"
      ]
     },
     "execution_count": 95,
     "metadata": {},
     "output_type": "execute_result"
    }
   ],
   "source": [
    "grid.best_estimator_"
   ]
  },
  {
   "cell_type": "code",
   "execution_count": 96,
   "id": "a4f6285d",
   "metadata": {},
   "outputs": [],
   "source": [
    "lasso = Lasso(alpha = 547.89)\n",
    "model = 'lasso'\n",
    "lasso.fit(X_train,y_train)\n",
    "train = lasso.score(X_train,y_train)\n",
    "y_pred = lasso.predict(X_val)\n",
    "test = lasso.score(X_val,y_val)\n",
    "mse = mean_squared_error(y_val,y_pred,squared=False)\n"
   ]
  },
  {
   "cell_type": "code",
   "execution_count": 97,
   "id": "b6425055",
   "metadata": {},
   "outputs": [
    {
     "name": "stdout",
     "output_type": "stream",
     "text": [
      "0.8827528359813215 0.8445525536769786 30894.193057709577\n"
     ]
    }
   ],
   "source": [
    "print(train,test,mse)"
   ]
  },
  {
   "cell_type": "markdown",
   "id": "b6386112",
   "metadata": {},
   "source": [
    "#  Elastic Net"
   ]
  },
  {
   "cell_type": "code",
   "execution_count": 102,
   "id": "f7093ce0",
   "metadata": {},
   "outputs": [],
   "source": [
    "params = {'alpha':np.logspace(0,5,200),'l1_ratio':[0.01,0.1,0.2,0.3,0.4,0.5,0.6,0.7,0.8,0.9,0.99]}"
   ]
  },
  {
   "cell_type": "code",
   "execution_count": 103,
   "id": "6ca4d02b",
   "metadata": {},
   "outputs": [],
   "source": [
    "grid = GridSearchCV(estimator = ElasticNet(),param_grid = params, cv = 5)"
   ]
  },
  {
   "cell_type": "code",
   "execution_count": 104,
   "id": "2da9d2e3",
   "metadata": {},
   "outputs": [
    {
     "data": {
      "text/plain": [
       "GridSearchCV(cv=5, estimator=ElasticNet(),\n",
       "             param_grid={'alpha': array([1.00000000e+00, 1.05956018e+00, 1.12266777e+00, 1.18953407e+00,\n",
       "       1.26038293e+00, 1.33545156e+00, 1.41499130e+00, 1.49926843e+00,\n",
       "       1.58856513e+00, 1.68318035e+00, 1.78343088e+00, 1.88965234e+00,\n",
       "       2.00220037e+00, 2.12145178e+00, 2.24780583e+00, 2.38168555e+00,\n",
       "       2.52353917e+00, 2.67384162e+00, 2.83309610e+...\n",
       "       3.33129479e+04, 3.52970730e+04, 3.73993730e+04, 3.96268864e+04,\n",
       "       4.19870708e+04, 4.44878283e+04, 4.71375313e+04, 4.99450512e+04,\n",
       "       5.29197874e+04, 5.60716994e+04, 5.94113398e+04, 6.29498899e+04,\n",
       "       6.66991966e+04, 7.06718127e+04, 7.48810386e+04, 7.93409667e+04,\n",
       "       8.40665289e+04, 8.90735464e+04, 9.43787828e+04, 1.00000000e+05]),\n",
       "                         'l1_ratio': [0.01, 0.1, 0.2, 0.3, 0.4, 0.5, 0.6, 0.7,\n",
       "                                      0.8, 0.9, 0.99]})"
      ]
     },
     "execution_count": 104,
     "metadata": {},
     "output_type": "execute_result"
    }
   ],
   "source": [
    "grid.fit(X_train,y_train)"
   ]
  },
  {
   "cell_type": "code",
   "execution_count": 105,
   "id": "9aee214f",
   "metadata": {},
   "outputs": [
    {
     "data": {
      "text/plain": [
       "0.8407793102421802"
      ]
     },
     "execution_count": 105,
     "metadata": {},
     "output_type": "execute_result"
    }
   ],
   "source": [
    "grid.best_score_"
   ]
  },
  {
   "cell_type": "code",
   "execution_count": 106,
   "id": "b8bdff15",
   "metadata": {},
   "outputs": [
    {
     "data": {
      "text/plain": [
       "ElasticNet(alpha=22.739657523579286, l1_ratio=0.99)"
      ]
     },
     "execution_count": 106,
     "metadata": {},
     "output_type": "execute_result"
    }
   ],
   "source": [
    "grid.best_estimator_"
   ]
  },
  {
   "cell_type": "markdown",
   "id": "93cbc38e",
   "metadata": {},
   "source": [
    "The L1 ratio close to 1 shows that Lasso is actually the preferable model"
   ]
  },
  {
   "cell_type": "code",
   "execution_count": 110,
   "id": "f5ebfde7",
   "metadata": {},
   "outputs": [],
   "source": [
    "lasso_coef = pd.DataFrame(lasso.coef_.reshape(-1,1),X_train.columns,columns=['coef'])"
   ]
  },
  {
   "cell_type": "code",
   "execution_count": 111,
   "id": "69772f54",
   "metadata": {},
   "outputs": [
    {
     "data": {
      "text/html": [
       "<div>\n",
       "<style scoped>\n",
       "    .dataframe tbody tr th:only-of-type {\n",
       "        vertical-align: middle;\n",
       "    }\n",
       "\n",
       "    .dataframe tbody tr th {\n",
       "        vertical-align: top;\n",
       "    }\n",
       "\n",
       "    .dataframe thead th {\n",
       "        text-align: right;\n",
       "    }\n",
       "</style>\n",
       "<table border=\"1\" class=\"dataframe\">\n",
       "  <thead>\n",
       "    <tr style=\"text-align: right;\">\n",
       "      <th></th>\n",
       "      <th>coef</th>\n",
       "    </tr>\n",
       "  </thead>\n",
       "  <tbody>\n",
       "    <tr>\n",
       "      <th>remainder__totrms_abvgrd</th>\n",
       "      <td>12016.311772</td>\n",
       "    </tr>\n",
       "    <tr>\n",
       "      <th>remainder__exter_qual</th>\n",
       "      <td>11008.050141</td>\n",
       "    </tr>\n",
       "    <tr>\n",
       "      <th>ohe__neighborhood_NridgHt</th>\n",
       "      <td>10819.986422</td>\n",
       "    </tr>\n",
       "    <tr>\n",
       "      <th>ohe__neighborhood_StoneBr</th>\n",
       "      <td>9313.700591</td>\n",
       "    </tr>\n",
       "    <tr>\n",
       "      <th>remainder__full_bath</th>\n",
       "      <td>8461.122743</td>\n",
       "    </tr>\n",
       "    <tr>\n",
       "      <th>remainder__garage_area</th>\n",
       "      <td>8323.808882</td>\n",
       "    </tr>\n",
       "    <tr>\n",
       "      <th>remainder__kitchen_qual</th>\n",
       "      <td>8239.289832</td>\n",
       "    </tr>\n",
       "    <tr>\n",
       "      <th>remainder__fireplaces</th>\n",
       "      <td>7614.856173</td>\n",
       "    </tr>\n",
       "    <tr>\n",
       "      <th>ohe__neighborhood_NoRidge</th>\n",
       "      <td>7544.228835</td>\n",
       "    </tr>\n",
       "    <tr>\n",
       "      <th>remainder__bsmt_exposure</th>\n",
       "      <td>7370.889437</td>\n",
       "    </tr>\n",
       "  </tbody>\n",
       "</table>\n",
       "</div>"
      ],
      "text/plain": [
       "                                   coef\n",
       "remainder__totrms_abvgrd   12016.311772\n",
       "remainder__exter_qual      11008.050141\n",
       "ohe__neighborhood_NridgHt  10819.986422\n",
       "ohe__neighborhood_StoneBr   9313.700591\n",
       "remainder__full_bath        8461.122743\n",
       "remainder__garage_area      8323.808882\n",
       "remainder__kitchen_qual     8239.289832\n",
       "remainder__fireplaces       7614.856173\n",
       "ohe__neighborhood_NoRidge   7544.228835\n",
       "remainder__bsmt_exposure    7370.889437"
      ]
     },
     "execution_count": 111,
     "metadata": {},
     "output_type": "execute_result"
    }
   ],
   "source": [
    "lasso_coef.sort_values(by = 'coef', key = abs, ascending=False).head(10)"
   ]
  },
  {
   "cell_type": "code",
   "execution_count": 117,
   "id": "9127f836",
   "metadata": {},
   "outputs": [
    {
     "data": {
      "image/png": "[encoded data removed]",
      "text/plain": [
       "<Figure size 640x480 with 1 Axes>"
      ]
     },
     "metadata": {},
     "output_type": "display_data"
    }
   ],
   "source": [
    "lasso_coef.hist(bins=50);\n",
    "plt.title('Distribution of Lasso Coefficients')\n",
    "plt.xlabel('Coefficients')\n",
    "plt.ylabel('Count');"
   ]
  },
  {
   "cell_type": "code",
   "execution_count": 118,
   "id": "d2590b67",
   "metadata": {},
   "outputs": [
    {
     "data": {
      "text/html": [
       "<div>\n",
       "<style scoped>\n",
       "    .dataframe tbody tr th:only-of-type {\n",
       "        vertical-align: middle;\n",
       "    }\n",
       "\n",
       "    .dataframe tbody tr th {\n",
       "        vertical-align: top;\n",
       "    }\n",
       "\n",
       "    .dataframe thead th {\n",
       "        text-align: right;\n",
       "    }\n",
       "</style>\n",
       "<table border=\"1\" class=\"dataframe\">\n",
       "  <thead>\n",
       "    <tr style=\"text-align: right;\">\n",
       "      <th></th>\n",
       "      <th>coef</th>\n",
       "    </tr>\n",
       "  </thead>\n",
       "  <tbody>\n",
       "    <tr>\n",
       "      <th>ohe__foundation_Slab</th>\n",
       "      <td>-0.0</td>\n",
       "    </tr>\n",
       "    <tr>\n",
       "      <th>ohe__foundation_Stone</th>\n",
       "      <td>-0.0</td>\n",
       "    </tr>\n",
       "    <tr>\n",
       "      <th>ohe__foundation_Wood</th>\n",
       "      <td>-0.0</td>\n",
       "    </tr>\n",
       "    <tr>\n",
       "      <th>ohe__sale_type_CWD</th>\n",
       "      <td>-0.0</td>\n",
       "    </tr>\n",
       "    <tr>\n",
       "      <th>ohe__condition_2_Feedr</th>\n",
       "      <td>-0.0</td>\n",
       "    </tr>\n",
       "    <tr>\n",
       "      <th>ohe__sale_type_ConLD</th>\n",
       "      <td>0.0</td>\n",
       "    </tr>\n",
       "    <tr>\n",
       "      <th>ohe__exterior_1st_BrkComm</th>\n",
       "      <td>0.0</td>\n",
       "    </tr>\n",
       "    <tr>\n",
       "      <th>ohe__condition_1_RRNn</th>\n",
       "      <td>-0.0</td>\n",
       "    </tr>\n",
       "    <tr>\n",
       "      <th>ohe__sale_type_WD</th>\n",
       "      <td>-0.0</td>\n",
       "    </tr>\n",
       "    <tr>\n",
       "      <th>ohe__sale_type_ConLw</th>\n",
       "      <td>0.0</td>\n",
       "    </tr>\n",
       "  </tbody>\n",
       "</table>\n",
       "</div>"
      ],
      "text/plain": [
       "                           coef\n",
       "ohe__foundation_Slab       -0.0\n",
       "ohe__foundation_Stone      -0.0\n",
       "ohe__foundation_Wood       -0.0\n",
       "ohe__sale_type_CWD         -0.0\n",
       "ohe__condition_2_Feedr     -0.0\n",
       "ohe__sale_type_ConLD        0.0\n",
       "ohe__exterior_1st_BrkComm   0.0\n",
       "ohe__condition_1_RRNn      -0.0\n",
       "ohe__sale_type_WD          -0.0\n",
       "ohe__sale_type_ConLw        0.0"
      ]
     },
     "execution_count": 118,
     "metadata": {},
     "output_type": "execute_result"
    }
   ],
   "source": [
    "lasso_coef.sort_values(by = 'coef', key = abs, ascending=False).tail(10)"
   ]
  },
  {
   "cell_type": "markdown",
   "id": "0cfe0089",
   "metadata": {},
   "source": [
    "Lasso zeroes out numerous unnecessary features.  \n",
    "\n",
    "Final top 3 are total rooms (12k), Exterior Quality (11k) and the neighborhood categories (10.8k for Northridge Heights and 9300 for Stone Brook."
   ]
  },
  {
   "cell_type": "markdown",
   "id": "f03497d2",
   "metadata": {},
   "source": [
    "# Conclusion"
   ]
  },
  {
   "cell_type": "markdown",
   "id": "a4a49484",
   "metadata": {},
   "source": [
    "Ultimately, the model is slightly underfit, and can only explain 84% of the variance in sale price for the test data.  We have attempted and rejected ways to tighten the fit by increasing the number of features through polynomial features engineering, but this produced severely over-fitted results.\n",
    "\n",
    "In further iterations, we would likely attempt to manually generate a few additional features rather than open the floodgates of polynomial engineering.  However, this process must be done artfully, as we have invested significant effort to maintain the independence of our features."
   ]
  },
  {
   "cell_type": "code",
   "execution_count": null,
   "id": "de4e64ee",
   "metadata": {},
   "outputs": [],
   "source": []
  }
 ],
 "metadata": {
  "kernelspec": {
   "display_name": "Python 3 (ipykernel)",
   "language": "python",
   "name": "python3"
  },
  "language_info": {
   "codemirror_mode": {
    "name": "ipython",
    "version": 3
   },
   "file_extension": ".py",
   "mimetype": "text/x-python",
   "name": "python",
   "nbconvert_exporter": "python",
   "pygments_lexer": "ipython3",
   "version": "3.9.13"
  }
 },
 "nbformat": 4,
 "nbformat_minor": 5
}
