{
 "cells": [
  {
   "cell_type": "code",
   "execution_count": 37,
   "id": "507c77b1",
   "metadata": {},
   "outputs": [],
   "source": [
    "import numpy as np\n",
    "import pandas as pd\n",
    "import matplotlib.pyplot as plt\n",
    "import seaborn as sns\n",
    "\n",
    "from sklearn.compose import ColumnTransformer\n",
    "from sklearn.preprocessing import OneHotEncoder"
   ]
  },
  {
   "cell_type": "code",
   "execution_count": 38,
   "id": "b12c291c",
   "metadata": {},
   "outputs": [],
   "source": [
    "from sklearn.linear_model import LinearRegression, Lasso, LassoCV, Ridge, RidgeCV, ElasticNet, ElasticNetCV\n",
    "from sklearn.model_selection import train_test_split, cross_val_score\n",
    "from sklearn.preprocessing import PolynomialFeatures, StandardScaler\n",
    "from sklearn.metrics import r2_score, mean_squared_error\n",
    "\n",
    "from statsmodels.stats.outliers_influence import variance_inflation_factor\n",
    "from sklearn.pipeline import Pipeline\n",
    "\n",
    "from sklearn.model_selection import \\\n",
    "    KFold, RepeatedKFold, GridSearchCV, \\\n",
    "    cross_validate, train_test_split\n",
    "\n",
    "from ipywidgets import *\n",
    "from IPython.display import display\n",
    "\n",
    "import warnings"
   ]
  },
  {
   "cell_type": "code",
   "execution_count": 39,
   "id": "6b3a792c",
   "metadata": {},
   "outputs": [],
   "source": [
    "X_train = pd.read_csv('./output/X_train_sc.csv')\n",
    "X_val = pd.read_csv('./output/X_val_sc.csv')\n",
    "X_test = pd.read_csv('./output/X_test_sc.csv')"
   ]
  },
  {
   "cell_type": "code",
   "execution_count": 40,
   "id": "f4adc159",
   "metadata": {},
   "outputs": [],
   "source": [
    "y_train = pd.read_csv('./output/y_train.csv')\n",
    "y_val = pd.read_csv('./output/y_val.csv')"
   ]
  },
  {
   "cell_type": "markdown",
   "id": "ac7ef9a2",
   "metadata": {},
   "source": [
    "# Baseline"
   ]
  },
  {
   "cell_type": "code",
   "execution_count": 72,
   "id": "cb7f2334",
   "metadata": {},
   "outputs": [],
   "source": [
    "y_base = [y_train.mean()] * len(y_val)"
   ]
  },
  {
   "cell_type": "code",
   "execution_count": 73,
   "id": "06a8ef70",
   "metadata": {},
   "outputs": [
    {
     "data": {
      "text/plain": [
       "-7.25199860654408e+30"
      ]
     },
     "execution_count": 73,
     "metadata": {},
     "output_type": "execute_result"
    }
   ],
   "source": [
    "r2_score(y_base,y_val)"
   ]
  },
  {
   "cell_type": "code",
   "execution_count": 74,
   "id": "d6e89282",
   "metadata": {},
   "outputs": [
    {
     "data": {
      "text/plain": [
       "78375.26238032707"
      ]
     },
     "execution_count": 74,
     "metadata": {},
     "output_type": "execute_result"
    }
   ],
   "source": [
    "mean_squared_error(y_base,y_val,squared=False)"
   ]
  },
  {
   "cell_type": "code",
   "execution_count": null,
   "id": "16c7ffd5",
   "metadata": {},
   "outputs": [],
   "source": []
  },
  {
   "cell_type": "code",
   "execution_count": 129,
   "id": "ed3ed087",
   "metadata": {},
   "outputs": [],
   "source": [
    "scores = []"
   ]
  },
  {
   "cell_type": "code",
   "execution_count": 130,
   "id": "7b948c85",
   "metadata": {},
   "outputs": [
    {
     "data": {
      "text/plain": [
       "[['lr', 'NA', 0.8899121313763972, 0.8337993575737654, 31944.89090121677]]"
      ]
     },
     "execution_count": 130,
     "metadata": {},
     "output_type": "execute_result"
    }
   ],
   "source": [
    "lr = LinearRegression()\n",
    "model = 'lr'\n",
    "params = 'NA'\n",
    "lr.fit(X_train,y_train)\n",
    "train = lr.score(X_train,y_train)\n",
    "y_pred = lr.predict(X_val)\n",
    "test = lr.score(X_val,y_val)\n",
    "mse = mean_squared_error(y_val,y_pred,squared=False)\n",
    "scores.append([model,params,train,test,mse])\n",
    "scores"
   ]
  },
  {
   "cell_type": "code",
   "execution_count": 131,
   "id": "f8d458a0",
   "metadata": {},
   "outputs": [
    {
     "data": {
      "text/plain": [
       "array([[-5.51377985e+02,  3.96127650e+03,  1.20062081e+03,\n",
       "         2.47372558e+03,  2.01978833e+03, -9.95365427e+02,\n",
       "        -5.14126957e+01, -4.44484386e+02, -2.96893820e+02,\n",
       "         3.88556093e+03,  1.22153365e+03,  2.48174487e+03,\n",
       "         3.78908743e+02,  1.33032200e+03, -5.18941385e+02,\n",
       "         2.37339432e+02,  2.63455108e+02,  3.91589518e+03,\n",
       "        -3.23089936e+03, -4.33572664e+02,  1.02756766e+03,\n",
       "         5.05315724e+03, -2.27356957e+03,  3.61405218e+02,\n",
       "        -8.10702041e+02,  1.39616560e+03,  2.36848580e+03,\n",
       "         3.13345798e+02,  8.28249067e+03,  1.17413095e+04,\n",
       "        -3.56382398e+03,  6.25922005e+02, -3.25180043e+02,\n",
       "         5.78715277e+02,  1.00809116e+04,  1.63383068e+03,\n",
       "         2.13617418e+03, -7.20991436e+02,  1.05000208e+03,\n",
       "         1.75482494e+03, -2.02021607e+03, -7.39537366e+02,\n",
       "        -9.25526616e+02, -5.65989033e+02,  4.78529369e+02,\n",
       "         1.42648154e+03,  1.32707120e+03,  2.43824636e+02,\n",
       "        -3.28784027e+02, -1.47420985e+03,  1.16269436e+01,\n",
       "        -5.81535088e+03, -8.36068580e+03,  2.36926904e+02,\n",
       "         2.20841447e+03,  6.82078592e+02, -2.96730858e+03,\n",
       "        -2.13448767e+03, -2.27493166e+03, -1.63909569e+02,\n",
       "         4.39908553e+03, -2.50943696e+03, -5.74154168e+02,\n",
       "         6.42724791e+02, -5.98464085e+02,  7.46205143e+02,\n",
       "         3.84067735e+03,  3.93699180e+02,  4.16658076e+02,\n",
       "         1.58052041e+03, -1.12946978e+02,  1.48163572e+03,\n",
       "        -2.87152863e+03, -1.66179681e+02,  8.89312323e+02,\n",
       "        -4.67354145e+02,  3.84359676e+02, -1.37837196e+03,\n",
       "        -1.68239576e+03, -5.05325082e+02, -2.54855027e+03,\n",
       "         1.11406207e+03,  7.92323526e+02,  6.25994507e+02,\n",
       "        -7.17434606e+02, -2.92265459e+02, -7.30173069e+02,\n",
       "         3.05194885e+02, -3.38661776e+02,  1.16608742e+03,\n",
       "        -7.05929168e+02, -1.85265641e+03, -3.53157578e+01,\n",
       "         2.55879079e+03,  1.48492965e+01,  2.90798013e+02,\n",
       "        -2.58062555e+02, -1.18593052e+02, -1.31119362e+03,\n",
       "        -6.62851799e+02, -8.12820297e+02, -1.89132536e+03,\n",
       "         4.57883998e+03,  3.78110986e+03,  1.66410999e+03,\n",
       "         4.74097206e+02, -2.22122782e+03,  7.34364472e+02,\n",
       "         3.69149382e+01, -1.78570407e+02,  9.08993986e+01,\n",
       "         1.28323949e+03,  8.37991567e+02, -7.09442391e+02,\n",
       "         6.23699474e+02,  4.60717174e+03,  1.30892328e+03,\n",
       "         1.16588423e+03, -2.45893659e+03,  4.69251558e+03,\n",
       "        -9.85118497e+02,  1.29868800e+03,  4.14682796e+03,\n",
       "         2.02357030e+03,  7.71400396e+03,  9.66685296e+03,\n",
       "        -1.04956044e+03, -2.77630268e+02,  7.75768576e+03,\n",
       "         5.77200636e+03, -8.53075512e+01,  1.45447282e+03,\n",
       "         2.40747782e+03,  9.89693850e+02, -4.29154763e+02,\n",
       "         5.72716682e+03,  4.80539858e+02,  9.19750403e+03,\n",
       "         5.30046385e+03, -1.16763124e+03, -4.45798676e+03,\n",
       "         7.66858928e+03,  1.31715081e+04,  2.58771120e+03,\n",
       "         7.53254827e+03,  1.55438655e+03,  8.31032144e+03,\n",
       "        -1.99719646e+03,  1.34157122e+03,  2.18084577e+03,\n",
       "         8.96616503e+01,  1.41900386e+03,  4.49445941e+03,\n",
       "        -4.45616449e+03, -8.53248428e+03, -6.86858504e+02,\n",
       "         4.04512898e+02]])"
      ]
     },
     "execution_count": 131,
     "metadata": {},
     "output_type": "execute_result"
    }
   ],
   "source": [
    "lr.coef_"
   ]
  },
  {
   "cell_type": "code",
   "execution_count": 132,
   "id": "a4150759",
   "metadata": {},
   "outputs": [],
   "source": [
    "lr_coef = pd.DataFrame(lr.coef_.reshape(-1,1),X_train.columns,columns=['coef'])"
   ]
  },
  {
   "cell_type": "code",
   "execution_count": 133,
   "id": "1ac6684a",
   "metadata": {},
   "outputs": [
    {
     "data": {
      "text/html": [
       "<div>\n",
       "<style scoped>\n",
       "    .dataframe tbody tr th:only-of-type {\n",
       "        vertical-align: middle;\n",
       "    }\n",
       "\n",
       "    .dataframe tbody tr th {\n",
       "        vertical-align: top;\n",
       "    }\n",
       "\n",
       "    .dataframe thead th {\n",
       "        text-align: right;\n",
       "    }\n",
       "</style>\n",
       "<table border=\"1\" class=\"dataframe\">\n",
       "  <thead>\n",
       "    <tr style=\"text-align: right;\">\n",
       "      <th></th>\n",
       "      <th>coef</th>\n",
       "    </tr>\n",
       "  </thead>\n",
       "  <tbody>\n",
       "    <tr>\n",
       "      <th>remainder__totrms_abvgrd</th>\n",
       "      <td>13171.508062</td>\n",
       "    </tr>\n",
       "    <tr>\n",
       "      <th>ohe__neighborhood_NridgHt</th>\n",
       "      <td>11741.309474</td>\n",
       "    </tr>\n",
       "    <tr>\n",
       "      <th>ohe__neighborhood_StoneBr</th>\n",
       "      <td>10080.911557</td>\n",
       "    </tr>\n",
       "    <tr>\n",
       "      <th>remainder__exter_qual</th>\n",
       "      <td>9666.852961</td>\n",
       "    </tr>\n",
       "    <tr>\n",
       "      <th>remainder__full_bath</th>\n",
       "      <td>9197.504033</td>\n",
       "    </tr>\n",
       "    <tr>\n",
       "      <th>remainder__misc_val</th>\n",
       "      <td>-8532.484284</td>\n",
       "    </tr>\n",
       "    <tr>\n",
       "      <th>ohe__bldg_type_TwnhsE</th>\n",
       "      <td>-8360.685802</td>\n",
       "    </tr>\n",
       "    <tr>\n",
       "      <th>remainder__garage_area</th>\n",
       "      <td>8310.321438</td>\n",
       "    </tr>\n",
       "    <tr>\n",
       "      <th>ohe__neighborhood_NoRidge</th>\n",
       "      <td>8282.490665</td>\n",
       "    </tr>\n",
       "    <tr>\n",
       "      <th>remainder__bsmt_exposure</th>\n",
       "      <td>7757.685756</td>\n",
       "    </tr>\n",
       "  </tbody>\n",
       "</table>\n",
       "</div>"
      ],
      "text/plain": [
       "                                   coef\n",
       "remainder__totrms_abvgrd   13171.508062\n",
       "ohe__neighborhood_NridgHt  11741.309474\n",
       "ohe__neighborhood_StoneBr  10080.911557\n",
       "remainder__exter_qual       9666.852961\n",
       "remainder__full_bath        9197.504033\n",
       "remainder__misc_val        -8532.484284\n",
       "ohe__bldg_type_TwnhsE      -8360.685802\n",
       "remainder__garage_area      8310.321438\n",
       "ohe__neighborhood_NoRidge   8282.490665\n",
       "remainder__bsmt_exposure    7757.685756"
      ]
     },
     "execution_count": 133,
     "metadata": {},
     "output_type": "execute_result"
    }
   ],
   "source": [
    "lr_coef.sort_values(by = 'coef', key = abs, ascending=False).head(10)"
   ]
  },
  {
   "cell_type": "code",
   "execution_count": 134,
   "id": "50c54d23",
   "metadata": {},
   "outputs": [
    {
     "data": {
      "text/html": [
       "<div>\n",
       "<style scoped>\n",
       "    .dataframe tbody tr th:only-of-type {\n",
       "        vertical-align: middle;\n",
       "    }\n",
       "\n",
       "    .dataframe tbody tr th {\n",
       "        vertical-align: top;\n",
       "    }\n",
       "\n",
       "    .dataframe thead th {\n",
       "        text-align: right;\n",
       "    }\n",
       "</style>\n",
       "<table border=\"1\" class=\"dataframe\">\n",
       "  <thead>\n",
       "    <tr style=\"text-align: right;\">\n",
       "      <th></th>\n",
       "      <th>coef</th>\n",
       "    </tr>\n",
       "  </thead>\n",
       "  <tbody>\n",
       "    <tr>\n",
       "      <th>ohe__electrical_SBrkr</th>\n",
       "      <td>-118.593052</td>\n",
       "    </tr>\n",
       "    <tr>\n",
       "      <th>ohe__exterior_1st_CBlock</th>\n",
       "      <td>-112.946978</td>\n",
       "    </tr>\n",
       "    <tr>\n",
       "      <th>ohe__sale_type_CWD</th>\n",
       "      <td>90.899399</td>\n",
       "    </tr>\n",
       "    <tr>\n",
       "      <th>remainder__enclosed_porch</th>\n",
       "      <td>89.661650</td>\n",
       "    </tr>\n",
       "    <tr>\n",
       "      <th>remainder__bsmtfin_type_2</th>\n",
       "      <td>-85.307551</td>\n",
       "    </tr>\n",
       "    <tr>\n",
       "      <th>ohe__lot_config_FR3</th>\n",
       "      <td>-51.412696</td>\n",
       "    </tr>\n",
       "    <tr>\n",
       "      <th>ohe__foundation_Stone</th>\n",
       "      <td>36.914938</td>\n",
       "    </tr>\n",
       "    <tr>\n",
       "      <th>ohe__paved_drive_P</th>\n",
       "      <td>-35.315758</td>\n",
       "    </tr>\n",
       "    <tr>\n",
       "      <th>ohe__electrical_FuseF</th>\n",
       "      <td>14.849296</td>\n",
       "    </tr>\n",
       "    <tr>\n",
       "      <th>ohe__bldg_type_Duplex</th>\n",
       "      <td>11.626944</td>\n",
       "    </tr>\n",
       "  </tbody>\n",
       "</table>\n",
       "</div>"
      ],
      "text/plain": [
       "                                 coef\n",
       "ohe__electrical_SBrkr     -118.593052\n",
       "ohe__exterior_1st_CBlock  -112.946978\n",
       "ohe__sale_type_CWD          90.899399\n",
       "remainder__enclosed_porch   89.661650\n",
       "remainder__bsmtfin_type_2  -85.307551\n",
       "ohe__lot_config_FR3        -51.412696\n",
       "ohe__foundation_Stone       36.914938\n",
       "ohe__paved_drive_P         -35.315758\n",
       "ohe__electrical_FuseF       14.849296\n",
       "ohe__bldg_type_Duplex       11.626944"
      ]
     },
     "execution_count": 134,
     "metadata": {},
     "output_type": "execute_result"
    }
   ],
   "source": [
    "lr_coef.sort_values(by = 'coef', key = abs, ascending=False).tail(10)"
   ]
  },
  {
   "cell_type": "code",
   "execution_count": 135,
   "id": "839e873d",
   "metadata": {},
   "outputs": [
    {
     "data": {
      "text/plain": [
       "array([[<AxesSubplot:title={'center':'coef'}>]], dtype=object)"
      ]
     },
     "execution_count": 135,
     "metadata": {},
     "output_type": "execute_result"
    },
    {
     "data": {
      "image/png": "[encoded data removed]",
      "text/plain": [
       "<Figure size 640x480 with 1 Axes>"
      ]
     },
     "metadata": {},
     "output_type": "display_data"
    }
   ],
   "source": [
    "lr_coef.hist(bins=50)"
   ]
  },
  {
   "cell_type": "code",
   "execution_count": null,
   "id": "415b9f93",
   "metadata": {},
   "outputs": [],
   "source": []
  },
  {
   "cell_type": "code",
   "execution_count": 136,
   "id": "f15da2dd",
   "metadata": {},
   "outputs": [
    {
     "data": {
      "text/plain": [
       "[['lr', 'NA', 0.8899121313763972, 0.8337993575737654, 31944.89090121677],\n",
       " ['ridge', [], 0.8899118887509456, 0.8338530611313537, 31939.72939019591]]"
      ]
     },
     "execution_count": 136,
     "metadata": {},
     "output_type": "execute_result"
    }
   ],
   "source": [
    "ridge = Ridge()\n",
    "model = 'ridge'\n",
    "params = []\n",
    "ridge.fit(X_train,y_train)\n",
    "train = ridge.score(X_train,y_train)\n",
    "y_pred = ridge.predict(X_val)\n",
    "test = ridge.score(X_val,y_val)\n",
    "mse = mean_squared_error(y_val,y_pred,squared=False)\n",
    "scores.append([model,params,train,test,mse])\n",
    "scores"
   ]
  },
  {
   "cell_type": "code",
   "execution_count": null,
   "id": "bab5cadf",
   "metadata": {},
   "outputs": [],
   "source": []
  },
  {
   "cell_type": "code",
   "execution_count": 137,
   "id": "f6fadfde",
   "metadata": {},
   "outputs": [
    {
     "data": {
      "text/plain": [
       "array([[-5.57298716e+02,  3.94052069e+03,  1.19514039e+03,\n",
       "         2.44987658e+03,  2.02391286e+03, -9.95621866e+02,\n",
       "        -5.01665953e+01, -4.43180703e+02, -2.95810321e+02,\n",
       "         3.88247972e+03,  1.21778292e+03,  2.47215723e+03,\n",
       "         3.75774526e+02,  1.32159362e+03, -5.10906656e+02,\n",
       "         2.34200756e+02,  2.49543235e+02,  3.90912986e+03,\n",
       "        -3.23228529e+03, -4.46857620e+02,  1.02368294e+03,\n",
       "         5.04859562e+03, -2.25976725e+03,  3.58263903e+02,\n",
       "        -8.19218973e+02,  1.38743717e+03,  2.35725673e+03,\n",
       "         3.09052622e+02,  8.27111614e+03,  1.17226780e+04,\n",
       "        -3.55083621e+03,  6.23256162e+02, -3.31720782e+02,\n",
       "         5.67048581e+02,  1.00649272e+04,  1.62543976e+03,\n",
       "         2.13266018e+03, -7.21709976e+02,  1.04862756e+03,\n",
       "         1.75435579e+03, -2.01764745e+03, -7.40764345e+02,\n",
       "        -9.24545035e+02, -5.65726667e+02,  4.76522849e+02,\n",
       "         1.42874532e+03,  1.32807153e+03,  2.43075181e+02,\n",
       "        -3.27833656e+02, -1.47619332e+03,  8.63114504e+00,\n",
       "        -5.79430947e+03, -8.33943366e+03,  2.37821819e+02,\n",
       "         2.21044011e+03,  6.83649507e+02, -2.95039084e+03,\n",
       "        -2.12943719e+03, -2.27125545e+03, -1.63077125e+02,\n",
       "         4.39985479e+03, -2.50688931e+03, -5.73922198e+02,\n",
       "         6.42931260e+02, -5.97837427e+02,  7.45807387e+02,\n",
       "         3.84059429e+03,  3.91640054e+02,  4.14936098e+02,\n",
       "         1.57998578e+03, -1.13783771e+02,  1.48629823e+03,\n",
       "        -2.86962366e+03, -1.64282806e+02,  8.84604735e+02,\n",
       "        -4.66770801e+02,  3.85824370e+02, -1.37874197e+03,\n",
       "        -1.68451318e+03, -5.05722273e+02, -2.54304227e+03,\n",
       "         1.11360160e+03,  7.96502313e+02,  6.26792628e+02,\n",
       "        -7.15916953e+02, -2.90818038e+02, -7.30622338e+02,\n",
       "         3.07678668e+02, -3.42571343e+02,  1.16759220e+03,\n",
       "        -7.08789449e+02, -1.85713575e+03, -3.48886140e+01,\n",
       "         2.55619057e+03,  1.52578010e+01,  2.90072989e+02,\n",
       "        -2.57549385e+02, -1.17991576e+02, -1.30649281e+03,\n",
       "        -6.54143949e+02, -8.10738158e+02, -1.87979645e+03,\n",
       "         4.56742501e+03,  3.77245593e+03,  1.65988389e+03,\n",
       "         4.73176850e+02, -2.22730683e+03,  7.33654711e+02,\n",
       "         3.63789536e+01, -1.77945075e+02,  8.93960200e+01,\n",
       "         1.28159142e+03,  8.33108291e+02, -7.09008763e+02,\n",
       "         6.21319946e+02,  4.60008609e+03,  1.30555113e+03,\n",
       "         1.15410415e+03, -2.44280806e+03,  4.68753855e+03,\n",
       "        -9.80832004e+02,  1.29733010e+03,  4.13526989e+03,\n",
       "         2.03372111e+03,  7.71230617e+03,  9.66374431e+03,\n",
       "        -1.04599236e+03, -2.73273922e+02,  7.75279448e+03,\n",
       "         5.76958043e+03, -8.41623381e+01,  1.45246749e+03,\n",
       "         2.40310855e+03,  9.96055583e+02, -4.27180609e+02,\n",
       "         5.72411753e+03,  4.76521188e+02,  9.18766883e+03,\n",
       "         5.29232405e+03, -1.15180507e+03, -4.44302463e+03,\n",
       "         7.66966258e+03,  1.31472693e+04,  2.58685769e+03,\n",
       "         7.53063078e+03,  1.55529473e+03,  8.30702702e+03,\n",
       "        -1.98732870e+03,  1.34581569e+03,  2.18184949e+03,\n",
       "         8.96401849e+01,  1.41808618e+03,  4.49359033e+03,\n",
       "        -4.45135180e+03, -8.51739389e+03, -6.86072059e+02,\n",
       "         4.04839613e+02]])"
      ]
     },
     "execution_count": 137,
     "metadata": {},
     "output_type": "execute_result"
    }
   ],
   "source": [
    "ridge.coef_"
   ]
  },
  {
   "cell_type": "code",
   "execution_count": 138,
   "id": "652e94f1",
   "metadata": {
    "scrolled": true
   },
   "outputs": [],
   "source": [
    "ridge_coef = pd.DataFrame(ridge.coef_.reshape(-1,1),X_train.columns,columns=['coef'])"
   ]
  },
  {
   "cell_type": "code",
   "execution_count": 139,
   "id": "d2e445cd",
   "metadata": {},
   "outputs": [
    {
     "data": {
      "text/html": [
       "<div>\n",
       "<style scoped>\n",
       "    .dataframe tbody tr th:only-of-type {\n",
       "        vertical-align: middle;\n",
       "    }\n",
       "\n",
       "    .dataframe tbody tr th {\n",
       "        vertical-align: top;\n",
       "    }\n",
       "\n",
       "    .dataframe thead th {\n",
       "        text-align: right;\n",
       "    }\n",
       "</style>\n",
       "<table border=\"1\" class=\"dataframe\">\n",
       "  <thead>\n",
       "    <tr style=\"text-align: right;\">\n",
       "      <th></th>\n",
       "      <th>coef</th>\n",
       "    </tr>\n",
       "  </thead>\n",
       "  <tbody>\n",
       "    <tr>\n",
       "      <th>remainder__totrms_abvgrd</th>\n",
       "      <td>13147.269310</td>\n",
       "    </tr>\n",
       "    <tr>\n",
       "      <th>ohe__neighborhood_NridgHt</th>\n",
       "      <td>11722.677968</td>\n",
       "    </tr>\n",
       "    <tr>\n",
       "      <th>ohe__neighborhood_StoneBr</th>\n",
       "      <td>10064.927178</td>\n",
       "    </tr>\n",
       "    <tr>\n",
       "      <th>remainder__exter_qual</th>\n",
       "      <td>9663.744314</td>\n",
       "    </tr>\n",
       "    <tr>\n",
       "      <th>remainder__full_bath</th>\n",
       "      <td>9187.668832</td>\n",
       "    </tr>\n",
       "    <tr>\n",
       "      <th>remainder__misc_val</th>\n",
       "      <td>-8517.393888</td>\n",
       "    </tr>\n",
       "    <tr>\n",
       "      <th>ohe__bldg_type_TwnhsE</th>\n",
       "      <td>-8339.433658</td>\n",
       "    </tr>\n",
       "    <tr>\n",
       "      <th>remainder__garage_area</th>\n",
       "      <td>8307.027016</td>\n",
       "    </tr>\n",
       "    <tr>\n",
       "      <th>ohe__neighborhood_NoRidge</th>\n",
       "      <td>8271.116139</td>\n",
       "    </tr>\n",
       "    <tr>\n",
       "      <th>remainder__bsmt_exposure</th>\n",
       "      <td>7752.794479</td>\n",
       "    </tr>\n",
       "  </tbody>\n",
       "</table>\n",
       "</div>"
      ],
      "text/plain": [
       "                                   coef\n",
       "remainder__totrms_abvgrd   13147.269310\n",
       "ohe__neighborhood_NridgHt  11722.677968\n",
       "ohe__neighborhood_StoneBr  10064.927178\n",
       "remainder__exter_qual       9663.744314\n",
       "remainder__full_bath        9187.668832\n",
       "remainder__misc_val        -8517.393888\n",
       "ohe__bldg_type_TwnhsE      -8339.433658\n",
       "remainder__garage_area      8307.027016\n",
       "ohe__neighborhood_NoRidge   8271.116139\n",
       "remainder__bsmt_exposure    7752.794479"
      ]
     },
     "execution_count": 139,
     "metadata": {},
     "output_type": "execute_result"
    }
   ],
   "source": [
    "ridge_coef.sort_values(by = 'coef', key = abs, ascending=False).head(10)"
   ]
  },
  {
   "cell_type": "code",
   "execution_count": 140,
   "id": "f4b84bb2",
   "metadata": {},
   "outputs": [
    {
     "data": {
      "text/html": [
       "<div>\n",
       "<style scoped>\n",
       "    .dataframe tbody tr th:only-of-type {\n",
       "        vertical-align: middle;\n",
       "    }\n",
       "\n",
       "    .dataframe tbody tr th {\n",
       "        vertical-align: top;\n",
       "    }\n",
       "\n",
       "    .dataframe thead th {\n",
       "        text-align: right;\n",
       "    }\n",
       "</style>\n",
       "<table border=\"1\" class=\"dataframe\">\n",
       "  <thead>\n",
       "    <tr style=\"text-align: right;\">\n",
       "      <th></th>\n",
       "      <th>coef</th>\n",
       "    </tr>\n",
       "  </thead>\n",
       "  <tbody>\n",
       "    <tr>\n",
       "      <th>ohe__electrical_SBrkr</th>\n",
       "      <td>-117.991576</td>\n",
       "    </tr>\n",
       "    <tr>\n",
       "      <th>ohe__exterior_1st_CBlock</th>\n",
       "      <td>-113.783771</td>\n",
       "    </tr>\n",
       "    <tr>\n",
       "      <th>remainder__enclosed_porch</th>\n",
       "      <td>89.640185</td>\n",
       "    </tr>\n",
       "    <tr>\n",
       "      <th>ohe__sale_type_CWD</th>\n",
       "      <td>89.396020</td>\n",
       "    </tr>\n",
       "    <tr>\n",
       "      <th>remainder__bsmtfin_type_2</th>\n",
       "      <td>-84.162338</td>\n",
       "    </tr>\n",
       "    <tr>\n",
       "      <th>ohe__lot_config_FR3</th>\n",
       "      <td>-50.166595</td>\n",
       "    </tr>\n",
       "    <tr>\n",
       "      <th>ohe__foundation_Stone</th>\n",
       "      <td>36.378954</td>\n",
       "    </tr>\n",
       "    <tr>\n",
       "      <th>ohe__paved_drive_P</th>\n",
       "      <td>-34.888614</td>\n",
       "    </tr>\n",
       "    <tr>\n",
       "      <th>ohe__electrical_FuseF</th>\n",
       "      <td>15.257801</td>\n",
       "    </tr>\n",
       "    <tr>\n",
       "      <th>ohe__bldg_type_Duplex</th>\n",
       "      <td>8.631145</td>\n",
       "    </tr>\n",
       "  </tbody>\n",
       "</table>\n",
       "</div>"
      ],
      "text/plain": [
       "                                 coef\n",
       "ohe__electrical_SBrkr     -117.991576\n",
       "ohe__exterior_1st_CBlock  -113.783771\n",
       "remainder__enclosed_porch   89.640185\n",
       "ohe__sale_type_CWD          89.396020\n",
       "remainder__bsmtfin_type_2  -84.162338\n",
       "ohe__lot_config_FR3        -50.166595\n",
       "ohe__foundation_Stone       36.378954\n",
       "ohe__paved_drive_P         -34.888614\n",
       "ohe__electrical_FuseF       15.257801\n",
       "ohe__bldg_type_Duplex        8.631145"
      ]
     },
     "execution_count": 140,
     "metadata": {},
     "output_type": "execute_result"
    }
   ],
   "source": [
    "ridge_coef.sort_values(by = 'coef', key = abs, ascending=False).tail(10)"
   ]
  },
  {
   "cell_type": "code",
   "execution_count": 141,
   "id": "10bc98fa",
   "metadata": {},
   "outputs": [
    {
     "data": {
      "text/plain": [
       "array([[<AxesSubplot:title={'center':'coef'}>]], dtype=object)"
      ]
     },
     "execution_count": 141,
     "metadata": {},
     "output_type": "execute_result"
    },
    {
     "data": {
      "image/png": "[encoded data removed]",
      "text/plain": [
       "<Figure size 640x480 with 1 Axes>"
      ]
     },
     "metadata": {},
     "output_type": "display_data"
    }
   ],
   "source": [
    "ridge_coef.hist(bins=50)"
   ]
  },
  {
   "cell_type": "code",
   "execution_count": 142,
   "id": "afbb35fe",
   "metadata": {},
   "outputs": [],
   "source": [
    "lasso = Lasso()\n",
    "model = 'lasso'\n",
    "params = []\n",
    "lasso.fit(X_train,y_train)\n",
    "train = lasso.score(X_train,y_train)\n",
    "y_pred = lasso.predict(X_val)\n",
    "test = lasso.score(X_val,y_val)\n",
    "mse = mean_squared_error(y_val,y_pred,squared=False)\n",
    "scores.append([model,params,train,test,mse])"
   ]
  },
  {
   "cell_type": "code",
   "execution_count": 143,
   "id": "bb20bff3",
   "metadata": {},
   "outputs": [
    {
     "data": {
      "text/plain": [
       "[['lr', 'NA', 0.8899121313763972, 0.8337993575737654, 31944.89090121677],\n",
       " ['ridge', [], 0.8899118887509456, 0.8338530611313537, 31939.72939019591],\n",
       " ['lasso', 0.8899120782781222, 0.833840594252439, 31940.927670682806]]"
      ]
     },
     "execution_count": 143,
     "metadata": {},
     "output_type": "execute_result"
    }
   ],
   "source": [
    "scores"
   ]
  },
  {
   "cell_type": "code",
   "execution_count": 144,
   "id": "85f6acf2",
   "metadata": {},
   "outputs": [
    {
     "data": {
      "text/plain": [
       "[['lr', 'NA', 0.8899121313763972, 0.8337993575737654, 31944.89090121677],\n",
       " ['ridge', [], 0.8899118887509456, 0.8338530611313537, 31939.72939019591],\n",
       " ['lasso', 0.8899120782781222, 0.833840594252439, 31940.927670682806],\n",
       " ['enet', [], 0.8689598690064231, 0.8379479916380016, 31543.673516875326]]"
      ]
     },
     "execution_count": 144,
     "metadata": {},
     "output_type": "execute_result"
    }
   ],
   "source": [
    "enet = ElasticNet()\n",
    "model = 'enet'\n",
    "params = []\n",
    "enet.fit(X_train,y_train)\n",
    "train = enet.score(X_train,y_train)\n",
    "y_pred = enet.predict(X_val)\n",
    "test = enet.score(X_val,y_val)\n",
    "mse = mean_squared_error(y_val,y_pred,squared=False)\n",
    "scores.append([model,params,train,test,mse])\n",
    "scores"
   ]
  },
  {
   "cell_type": "code",
   "execution_count": null,
   "id": "3ec343e4",
   "metadata": {},
   "outputs": [],
   "source": []
  },
  {
   "cell_type": "code",
   "execution_count": null,
   "id": "807644d3",
   "metadata": {},
   "outputs": [],
   "source": []
  },
  {
   "cell_type": "code",
   "execution_count": null,
   "id": "b06597c0",
   "metadata": {},
   "outputs": [],
   "source": []
  },
  {
   "cell_type": "code",
   "execution_count": null,
   "id": "827a6498",
   "metadata": {},
   "outputs": [],
   "source": []
  },
  {
   "cell_type": "code",
   "execution_count": null,
   "id": "8c9bc880",
   "metadata": {},
   "outputs": [],
   "source": []
  },
  {
   "cell_type": "code",
   "execution_count": 238,
   "id": "9d0d114d",
   "metadata": {},
   "outputs": [
    {
     "data": {
      "text/plain": [
       "['enet', 0.9475674197881954, 0.7940942744335877, 35556.52186435542]"
      ]
     },
     "execution_count": 238,
     "metadata": {},
     "output_type": "execute_result"
    }
   ],
   "source": [
    "enet = ElasticNet(\n",
    "alpha = 10,\n",
    "l1_ratio=0.91)\n",
    "\n",
    "model = 'enet'\n",
    "enet.fit(X_train,y_train)\n",
    "train = enet.score(X_train,y_train)\n",
    "y_pred = enet.predict(X_val)\n",
    "test = enet.score(X_val,y_val)\n",
    "mse = mean_squared_error(y_val,y_pred,squared=False)\n",
    "scores = [model,train,test,mse]\n",
    "scores"
   ]
  },
  {
   "cell_type": "code",
   "execution_count": null,
   "id": "df318f57",
   "metadata": {},
   "outputs": [],
   "source": []
  }
 ],
 "metadata": {
  "kernelspec": {
   "display_name": "Python 3 (ipykernel)",
   "language": "python",
   "name": "python3"
  },
  "language_info": {
   "codemirror_mode": {
    "name": "ipython",
    "version": 3
   },
   "file_extension": ".py",
   "mimetype": "text/x-python",
   "name": "python",
   "nbconvert_exporter": "python",
   "pygments_lexer": "ipython3",
   "version": "3.9.13"
  }
 },
 "nbformat": 4,
 "nbformat_minor": 5
}
