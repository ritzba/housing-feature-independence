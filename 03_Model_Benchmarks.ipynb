{
 "cells": [
  {
   "cell_type": "markdown",
   "id": "7a843e54",
   "metadata": {},
   "source": [
    "#  Initial Modeling/Benchmarks"
   ]
  },
  {
   "cell_type": "code",
   "execution_count": 38,
   "id": "507c77b1",
   "metadata": {},
   "outputs": [],
   "source": [
    "import numpy as np\n",
    "import pandas as pd\n",
    "import matplotlib.pyplot as plt\n",
    "import seaborn as sns\n",
    "sns.set()"
   ]
  },
  {
   "cell_type": "code",
   "execution_count": 55,
   "id": "b12c291c",
   "metadata": {},
   "outputs": [],
   "source": [
    "from sklearn.linear_model import LinearRegression, Lasso, LassoCV, Ridge, RidgeCV, ElasticNet, ElasticNetCV\n",
    "from sklearn.metrics import r2_score, mean_squared_error"
   ]
  },
  {
   "cell_type": "code",
   "execution_count": 19,
   "id": "9c5ff0ee",
   "metadata": {},
   "outputs": [],
   "source": [
    "X_train = pd.read_csv('./output/X_train_sc.csv')\n",
    "X_val = pd.read_csv('./output/X_val_sc.csv')\n",
    "X_test = pd.read_csv('./output/X_test_sc.csv')"
   ]
  },
  {
   "cell_type": "code",
   "execution_count": 20,
   "id": "0b0b8a67",
   "metadata": {},
   "outputs": [],
   "source": [
    "y_train = pd.read_csv('./output/y_train.csv')\n",
    "y_val = pd.read_csv('./output/y_val.csv')"
   ]
  },
  {
   "cell_type": "markdown",
   "id": "aabf55f3",
   "metadata": {},
   "source": [
    "## Baseline Model"
   ]
  },
  {
   "cell_type": "markdown",
   "id": "55ea77a5",
   "metadata": {},
   "source": [
    "Our baseline model assumes that saleprice will be the mean for all houses."
   ]
  },
  {
   "cell_type": "code",
   "execution_count": 25,
   "id": "128cf6b4",
   "metadata": {},
   "outputs": [],
   "source": [
    "y_base = [y_train.mean()] * len(y_val)"
   ]
  },
  {
   "cell_type": "code",
   "execution_count": 26,
   "id": "cc03f4a8",
   "metadata": {},
   "outputs": [
    {
     "data": {
      "text/plain": [
       "-7.25199860654408e+30"
      ]
     },
     "execution_count": 26,
     "metadata": {},
     "output_type": "execute_result"
    }
   ],
   "source": [
    "r2_score(y_base,y_val)"
   ]
  },
  {
   "cell_type": "code",
   "execution_count": 27,
   "id": "9ad60eba",
   "metadata": {},
   "outputs": [
    {
     "data": {
      "text/plain": [
       "78375.26238032707"
      ]
     },
     "execution_count": 27,
     "metadata": {},
     "output_type": "execute_result"
    }
   ],
   "source": [
    "mean_squared_error(y_base,y_val,squared=False)"
   ]
  },
  {
   "cell_type": "markdown",
   "id": "dbf911c1",
   "metadata": {},
   "source": [
    "Baseline model has terrible R^2.  \n",
    "The MSE is not particularly great, but not terrible either.\n",
    "The natural variance in the dataset is around 78k.  \n",
    "We can still do much better than this with our model."
   ]
  },
  {
   "cell_type": "markdown",
   "id": "2c2dd856",
   "metadata": {},
   "source": [
    "## Linear Regression"
   ]
  },
  {
   "cell_type": "code",
   "execution_count": 28,
   "id": "f9ac6b96",
   "metadata": {},
   "outputs": [
    {
     "data": {
      "text/plain": [
       "((1538, 155), (513, 155), (1538, 1), (513, 1))"
      ]
     },
     "execution_count": 28,
     "metadata": {},
     "output_type": "execute_result"
    }
   ],
   "source": [
    "# Check shapes\n",
    "\n",
    "X_train.shape,X_val.shape,y_train.shape,y_val.shape"
   ]
  },
  {
   "cell_type": "code",
   "execution_count": 29,
   "id": "577e6338",
   "metadata": {},
   "outputs": [],
   "source": [
    "scores = []"
   ]
  },
  {
   "cell_type": "code",
   "execution_count": 30,
   "id": "e15df809",
   "metadata": {},
   "outputs": [
    {
     "data": {
      "text/plain": [
       "[['lr', 'NA', 0.8894472186766949, 0.8342182814924959, 31904.60548995268]]"
      ]
     },
     "execution_count": 30,
     "metadata": {},
     "output_type": "execute_result"
    }
   ],
   "source": [
    "# Instantiate linear model \n",
    "lr = LinearRegression()\n",
    "model = 'lr'\n",
    "params = 'NA'\n",
    "\n",
    "# Fit to train\n",
    "lr.fit(X_train,y_train)\n",
    "\n",
    "# Training score\n",
    "train = lr.score(X_train,y_train)\n",
    "\n",
    "#  Predict target\n",
    "y_pred = lr.predict(X_val)\n",
    "\n",
    "# Test score\n",
    "test = lr.score(X_val,y_val)\n",
    "\n",
    "# MSE\n",
    "mse = mean_squared_error(y_val,y_pred,squared=False)\n",
    "\n",
    "# Add to list\n",
    "scores.append([model,params,train,test,mse])\n",
    "scores"
   ]
  },
  {
   "cell_type": "code",
   "execution_count": 31,
   "id": "5f6a42f9",
   "metadata": {},
   "outputs": [
    {
     "data": {
      "text/plain": [
       "array([[-5.39843455e+02,  3.86043656e+03,  1.19694872e+03,\n",
       "         2.42964251e+03,  1.95433834e+03, -1.01946881e+03,\n",
       "        -1.26756661e+01, -5.51542722e+02, -2.64305935e+02,\n",
       "         3.89676238e+03,  1.29988528e+03,  2.41993007e+03,\n",
       "         4.36663776e+02,  1.30924815e+03, -4.90331741e+02,\n",
       "         2.08525322e+02,  1.64885981e+02,  3.97832402e+03,\n",
       "        -3.23641130e+03, -4.72136248e+02,  1.01481686e+03,\n",
       "         5.03079899e+03, -2.26119694e+03,  3.75337146e+02,\n",
       "        -8.75990925e+02,  1.40513828e+03,  2.37302057e+03,\n",
       "         1.59315907e+02,  8.18909403e+03,  1.16695183e+04,\n",
       "        -3.52693823e+03,  5.97654203e+02, -3.72554357e+02,\n",
       "         5.79359275e+02,  1.00606475e+04,  1.67629860e+03,\n",
       "         2.10113216e+03, -6.84627287e+02,  1.62357074e+03,\n",
       "         2.22565294e+03, -2.03297868e+03, -6.20286273e+02,\n",
       "        -8.58781145e+02, -5.04544802e+02,  2.93532227e+02,\n",
       "         9.97831853e+02,  2.70852095e+02, -3.46904785e+02,\n",
       "        -1.48608147e+03, -2.70264664e+01, -5.86727330e+03,\n",
       "        -8.53870925e+03,  3.23648806e+02,  2.24435301e+03,\n",
       "         5.95166643e+02, -3.06476748e+03, -2.18898600e+03,\n",
       "        -2.25144567e+03, -1.96450224e+02,  4.45414207e+03,\n",
       "        -2.55214401e+03, -6.26740590e+02,  6.77282992e+02,\n",
       "        -6.60387115e+02,  6.77538146e+02,  3.91917075e+03,\n",
       "         4.13537017e+02,  4.37150586e+02,  1.59089803e+03,\n",
       "        -1.52655302e+02,  1.73711304e+03, -2.75513905e+03,\n",
       "        -3.60545325e+01,  9.78696391e+02, -3.67310135e+02,\n",
       "         3.85098141e+02, -1.39936904e+03, -1.61794074e+03,\n",
       "        -5.46571521e+02, -2.52423984e+03,  1.07702070e+03,\n",
       "         7.11798261e+02,  6.39341779e+02, -7.28419629e+02,\n",
       "        -2.80730920e+02, -7.30309460e+02,  2.87025103e+02,\n",
       "        -3.38037568e+02,  1.08725419e+03, -7.02230806e+02,\n",
       "        -1.82272624e+03, -5.93532910e+01,  2.47238075e+03,\n",
       "         3.02757395e+01,  2.46305063e+02, -2.36176760e+02,\n",
       "        -6.83107703e+01, -4.50631581e+02,  8.03144520e+02,\n",
       "        -5.30822103e+02,  4.60574037e+03,  3.80263564e+03,\n",
       "         1.72018177e+03,  4.28880272e+02, -2.30019494e+03,\n",
       "         4.53094455e+02,  5.31901298e+01, -1.86696796e+02,\n",
       "         7.16430387e+01,  1.28761845e+03,  7.99119337e+02,\n",
       "        -6.47351645e+02,  6.18042713e+02,  4.66835296e+03,\n",
       "         1.29464145e+03,  1.16106895e+03, -2.49072605e+03,\n",
       "         4.44368964e+03, -9.99355401e+02,  1.17261155e+03,\n",
       "         4.02725236e+03,  2.07768391e+03,  7.77974470e+03,\n",
       "         9.70223173e+03, -1.02618112e+03,  1.22395661e+02,\n",
       "         7.69475333e+03,  5.86880135e+03, -1.63198066e+02,\n",
       "         1.53103375e+03,  2.32175100e+03,  1.02186076e+03,\n",
       "        -3.86204762e+02,  5.71532491e+03,  5.00687597e+02,\n",
       "         9.06909631e+03,  5.29354486e+03, -1.13943001e+03,\n",
       "        -4.47485871e+03,  7.72221259e+03,  1.32920230e+04,\n",
       "         2.63260261e+03,  7.55311643e+03,  1.59734725e+03,\n",
       "         8.37629016e+03, -2.00074435e+03,  1.37381036e+03,\n",
       "         2.13470013e+03,  1.15681442e+02,  1.39336804e+03,\n",
       "         4.48505511e+03, -4.24573173e+03, -8.59576592e+03,\n",
       "        -6.48281342e+02,  5.11265671e+02]])"
      ]
     },
     "execution_count": 31,
     "metadata": {},
     "output_type": "execute_result"
    }
   ],
   "source": [
    "lr.coef_"
   ]
  },
  {
   "cell_type": "code",
   "execution_count": 32,
   "id": "5bf82056",
   "metadata": {},
   "outputs": [],
   "source": [
    "# Combine coefficients with feature names\n",
    "\n",
    "lr_coef = pd.DataFrame(lr.coef_.reshape(-1,1),X_train.columns,columns=['coef'])"
   ]
  },
  {
   "cell_type": "code",
   "execution_count": 33,
   "id": "a42a1deb",
   "metadata": {},
   "outputs": [
    {
     "data": {
      "text/html": [
       "<div>\n",
       "<style scoped>\n",
       "    .dataframe tbody tr th:only-of-type {\n",
       "        vertical-align: middle;\n",
       "    }\n",
       "\n",
       "    .dataframe tbody tr th {\n",
       "        vertical-align: top;\n",
       "    }\n",
       "\n",
       "    .dataframe thead th {\n",
       "        text-align: right;\n",
       "    }\n",
       "</style>\n",
       "<table border=\"1\" class=\"dataframe\">\n",
       "  <thead>\n",
       "    <tr style=\"text-align: right;\">\n",
       "      <th></th>\n",
       "      <th>coef</th>\n",
       "    </tr>\n",
       "  </thead>\n",
       "  <tbody>\n",
       "    <tr>\n",
       "      <th>remainder__totrms_abvgrd</th>\n",
       "      <td>13292.023045</td>\n",
       "    </tr>\n",
       "    <tr>\n",
       "      <th>ohe__neighborhood_NridgHt</th>\n",
       "      <td>11669.518274</td>\n",
       "    </tr>\n",
       "    <tr>\n",
       "      <th>ohe__neighborhood_StoneBr</th>\n",
       "      <td>10060.647459</td>\n",
       "    </tr>\n",
       "    <tr>\n",
       "      <th>remainder__exter_qual</th>\n",
       "      <td>9702.231729</td>\n",
       "    </tr>\n",
       "    <tr>\n",
       "      <th>remainder__full_bath</th>\n",
       "      <td>9069.096310</td>\n",
       "    </tr>\n",
       "    <tr>\n",
       "      <th>remainder__misc_val</th>\n",
       "      <td>-8595.765924</td>\n",
       "    </tr>\n",
       "    <tr>\n",
       "      <th>ohe__bldg_type_TwnhsE</th>\n",
       "      <td>-8538.709250</td>\n",
       "    </tr>\n",
       "    <tr>\n",
       "      <th>remainder__garage_area</th>\n",
       "      <td>8376.290156</td>\n",
       "    </tr>\n",
       "    <tr>\n",
       "      <th>ohe__neighborhood_NoRidge</th>\n",
       "      <td>8189.094033</td>\n",
       "    </tr>\n",
       "    <tr>\n",
       "      <th>remainder__mas_vnr_area</th>\n",
       "      <td>7779.744699</td>\n",
       "    </tr>\n",
       "  </tbody>\n",
       "</table>\n",
       "</div>"
      ],
      "text/plain": [
       "                                   coef\n",
       "remainder__totrms_abvgrd   13292.023045\n",
       "ohe__neighborhood_NridgHt  11669.518274\n",
       "ohe__neighborhood_StoneBr  10060.647459\n",
       "remainder__exter_qual       9702.231729\n",
       "remainder__full_bath        9069.096310\n",
       "remainder__misc_val        -8595.765924\n",
       "ohe__bldg_type_TwnhsE      -8538.709250\n",
       "remainder__garage_area      8376.290156\n",
       "ohe__neighborhood_NoRidge   8189.094033\n",
       "remainder__mas_vnr_area     7779.744699"
      ]
     },
     "execution_count": 33,
     "metadata": {},
     "output_type": "execute_result"
    }
   ],
   "source": [
    "# Sort to find coefficients with greatest absolute value - most significant\n",
    "\n",
    "lr_coef.sort_values(by = 'coef', key = abs, ascending=False).head(10)"
   ]
  },
  {
   "cell_type": "code",
   "execution_count": 35,
   "id": "3dcab9f6",
   "metadata": {},
   "outputs": [
    {
     "data": {
      "text/html": [
       "<div>\n",
       "<style scoped>\n",
       "    .dataframe tbody tr th:only-of-type {\n",
       "        vertical-align: middle;\n",
       "    }\n",
       "\n",
       "    .dataframe tbody tr th {\n",
       "        vertical-align: top;\n",
       "    }\n",
       "\n",
       "    .dataframe thead th {\n",
       "        text-align: right;\n",
       "    }\n",
       "</style>\n",
       "<table border=\"1\" class=\"dataframe\">\n",
       "  <thead>\n",
       "    <tr style=\"text-align: right;\">\n",
       "      <th></th>\n",
       "      <th>coef</th>\n",
       "    </tr>\n",
       "  </thead>\n",
       "  <tbody>\n",
       "    <tr>\n",
       "      <th>ohe__lot_config_FR3</th>\n",
       "      <td>-12.675666</td>\n",
       "    </tr>\n",
       "    <tr>\n",
       "      <th>ohe__bldg_type_Duplex</th>\n",
       "      <td>-27.026466</td>\n",
       "    </tr>\n",
       "    <tr>\n",
       "      <th>ohe__electrical_FuseF</th>\n",
       "      <td>30.275740</td>\n",
       "    </tr>\n",
       "    <tr>\n",
       "      <th>ohe__exterior_1st_ImStucc</th>\n",
       "      <td>-36.054533</td>\n",
       "    </tr>\n",
       "    <tr>\n",
       "      <th>ohe__foundation_Stone</th>\n",
       "      <td>53.190130</td>\n",
       "    </tr>\n",
       "    <tr>\n",
       "      <th>...</th>\n",
       "      <td>...</td>\n",
       "    </tr>\n",
       "    <tr>\n",
       "      <th>remainder__full_bath</th>\n",
       "      <td>9069.096310</td>\n",
       "    </tr>\n",
       "    <tr>\n",
       "      <th>remainder__exter_qual</th>\n",
       "      <td>9702.231729</td>\n",
       "    </tr>\n",
       "    <tr>\n",
       "      <th>ohe__neighborhood_StoneBr</th>\n",
       "      <td>10060.647459</td>\n",
       "    </tr>\n",
       "    <tr>\n",
       "      <th>ohe__neighborhood_NridgHt</th>\n",
       "      <td>11669.518274</td>\n",
       "    </tr>\n",
       "    <tr>\n",
       "      <th>remainder__totrms_abvgrd</th>\n",
       "      <td>13292.023045</td>\n",
       "    </tr>\n",
       "  </tbody>\n",
       "</table>\n",
       "<p>155 rows × 1 columns</p>\n",
       "</div>"
      ],
      "text/plain": [
       "                                   coef\n",
       "ohe__lot_config_FR3          -12.675666\n",
       "ohe__bldg_type_Duplex        -27.026466\n",
       "ohe__electrical_FuseF         30.275740\n",
       "ohe__exterior_1st_ImStucc    -36.054533\n",
       "ohe__foundation_Stone         53.190130\n",
       "...                                 ...\n",
       "remainder__full_bath        9069.096310\n",
       "remainder__exter_qual       9702.231729\n",
       "ohe__neighborhood_StoneBr  10060.647459\n",
       "ohe__neighborhood_NridgHt  11669.518274\n",
       "remainder__totrms_abvgrd   13292.023045\n",
       "\n",
       "[155 rows x 1 columns]"
      ]
     },
     "execution_count": 35,
     "metadata": {},
     "output_type": "execute_result"
    }
   ],
   "source": [
    "#  Sort to find coefs with least abs, least significant\n",
    "\n",
    "lr_coef.sort_values(by = 'coef', key = abs, ascending=True)"
   ]
  },
  {
   "cell_type": "code",
   "execution_count": 49,
   "id": "71b240ea",
   "metadata": {},
   "outputs": [
    {
     "data": {
      "image/png": "[encoded data removed]",
      "text/plain": [
       "<Figure size 640x480 with 1 Axes>"
      ]
     },
     "metadata": {},
     "output_type": "display_data"
    }
   ],
   "source": [
    "lr_coef.hist(bins=50)\n",
    "plt.title('Distribution of Coefficients')\n",
    "plt.xlabel('Coefficients');\n"
   ]
  },
  {
   "cell_type": "markdown",
   "id": "ae76784f",
   "metadata": {},
   "source": [
    "Linear model has an MSE of less than 32k.  It is slightly overfit.\n",
    "The model explains approximately 89% of the variance in the training data and approximately 83% of the variance in the test data.\n",
    "\n",
    "Coefficients are close to normally distributed, centered close to 0.\n",
    "\n",
    "The top 3 significant features are total rooms above ground and two different neighborhoods.\n",
    "\n",
    "According to this model, keeping all other variables constant, an extra above ground room is worth about 13k, location in \n",
    "Northridge Heights is worth about 11.7k and location in Stone Brook is worth about 10k."
   ]
  },
  {
   "cell_type": "markdown",
   "id": "9159637c",
   "metadata": {},
   "source": [
    "## Ridge"
   ]
  },
  {
   "cell_type": "code",
   "execution_count": 43,
   "id": "cf926a74",
   "metadata": {},
   "outputs": [
    {
     "data": {
      "text/plain": [
       "[['lr', 'NA', 0.8894472186766949, 0.8342182814924959, 31904.60548995268],\n",
       " ['ridge', [], 0.8894469814275529, 0.8342708849271849, 31899.54333653741]]"
      ]
     },
     "execution_count": 43,
     "metadata": {},
     "output_type": "execute_result"
    }
   ],
   "source": [
    "# Instantiate\n",
    "\n",
    "ridge = Ridge()\n",
    "model = 'ridge'\n",
    "params = []\n",
    "\n",
    "#  Fit\n",
    "ridge.fit(X_train,y_train)\n",
    "\n",
    "# Training score\n",
    "train = ridge.score(X_train,y_train)\n",
    "\n",
    "# Predict target\n",
    "y_pred = ridge.predict(X_val)\n",
    "\n",
    "# Test score\n",
    "test = ridge.score(X_val,y_val)\n",
    "\n",
    "# MSE\n",
    "mse = mean_squared_error(y_val,y_pred,squared=False)\n",
    "\n",
    "# Add to list\n",
    "scores.append([model,params,train,test,mse])\n",
    "scores"
   ]
  },
  {
   "cell_type": "code",
   "execution_count": 44,
   "id": "74416191",
   "metadata": {
    "scrolled": true
   },
   "outputs": [],
   "source": [
    "#  Combine coefs with features in dataframe\n",
    "\n",
    "ridge_coef = pd.DataFrame(ridge.coef_.reshape(-1,1),X_train.columns,columns=['coef'])"
   ]
  },
  {
   "cell_type": "code",
   "execution_count": 45,
   "id": "7867594c",
   "metadata": {},
   "outputs": [
    {
     "data": {
      "text/html": [
       "<div>\n",
       "<style scoped>\n",
       "    .dataframe tbody tr th:only-of-type {\n",
       "        vertical-align: middle;\n",
       "    }\n",
       "\n",
       "    .dataframe tbody tr th {\n",
       "        vertical-align: top;\n",
       "    }\n",
       "\n",
       "    .dataframe thead th {\n",
       "        text-align: right;\n",
       "    }\n",
       "</style>\n",
       "<table border=\"1\" class=\"dataframe\">\n",
       "  <thead>\n",
       "    <tr style=\"text-align: right;\">\n",
       "      <th></th>\n",
       "      <th>coef</th>\n",
       "    </tr>\n",
       "  </thead>\n",
       "  <tbody>\n",
       "    <tr>\n",
       "      <th>remainder__totrms_abvgrd</th>\n",
       "      <td>13267.074237</td>\n",
       "    </tr>\n",
       "    <tr>\n",
       "      <th>ohe__neighborhood_NridgHt</th>\n",
       "      <td>11651.359095</td>\n",
       "    </tr>\n",
       "    <tr>\n",
       "      <th>ohe__neighborhood_StoneBr</th>\n",
       "      <td>10045.099318</td>\n",
       "    </tr>\n",
       "    <tr>\n",
       "      <th>remainder__exter_qual</th>\n",
       "      <td>9699.868845</td>\n",
       "    </tr>\n",
       "    <tr>\n",
       "      <th>remainder__full_bath</th>\n",
       "      <td>9058.921313</td>\n",
       "    </tr>\n",
       "    <tr>\n",
       "      <th>remainder__misc_val</th>\n",
       "      <td>-8580.492875</td>\n",
       "    </tr>\n",
       "    <tr>\n",
       "      <th>ohe__bldg_type_TwnhsE</th>\n",
       "      <td>-8517.093413</td>\n",
       "    </tr>\n",
       "    <tr>\n",
       "      <th>remainder__garage_area</th>\n",
       "      <td>8372.951186</td>\n",
       "    </tr>\n",
       "    <tr>\n",
       "      <th>ohe__neighborhood_NoRidge</th>\n",
       "      <td>8178.345243</td>\n",
       "    </tr>\n",
       "    <tr>\n",
       "      <th>remainder__mas_vnr_area</th>\n",
       "      <td>7777.580837</td>\n",
       "    </tr>\n",
       "  </tbody>\n",
       "</table>\n",
       "</div>"
      ],
      "text/plain": [
       "                                   coef\n",
       "remainder__totrms_abvgrd   13267.074237\n",
       "ohe__neighborhood_NridgHt  11651.359095\n",
       "ohe__neighborhood_StoneBr  10045.099318\n",
       "remainder__exter_qual       9699.868845\n",
       "remainder__full_bath        9058.921313\n",
       "remainder__misc_val        -8580.492875\n",
       "ohe__bldg_type_TwnhsE      -8517.093413\n",
       "remainder__garage_area      8372.951186\n",
       "ohe__neighborhood_NoRidge   8178.345243\n",
       "remainder__mas_vnr_area     7777.580837"
      ]
     },
     "execution_count": 45,
     "metadata": {},
     "output_type": "execute_result"
    }
   ],
   "source": [
    "ridge_coef.sort_values(by = 'coef', key = abs, ascending=False).head(10)"
   ]
  },
  {
   "cell_type": "code",
   "execution_count": 46,
   "id": "a31773c8",
   "metadata": {},
   "outputs": [
    {
     "data": {
      "text/html": [
       "<div>\n",
       "<style scoped>\n",
       "    .dataframe tbody tr th:only-of-type {\n",
       "        vertical-align: middle;\n",
       "    }\n",
       "\n",
       "    .dataframe tbody tr th {\n",
       "        vertical-align: top;\n",
       "    }\n",
       "\n",
       "    .dataframe thead th {\n",
       "        text-align: right;\n",
       "    }\n",
       "</style>\n",
       "<table border=\"1\" class=\"dataframe\">\n",
       "  <thead>\n",
       "    <tr style=\"text-align: right;\">\n",
       "      <th></th>\n",
       "      <th>coef</th>\n",
       "    </tr>\n",
       "  </thead>\n",
       "  <tbody>\n",
       "    <tr>\n",
       "      <th>remainder__bsmt_cond</th>\n",
       "      <td>125.984902</td>\n",
       "    </tr>\n",
       "    <tr>\n",
       "      <th>remainder__enclosed_porch</th>\n",
       "      <td>115.431514</td>\n",
       "    </tr>\n",
       "    <tr>\n",
       "      <th>ohe__sale_type_CWD</th>\n",
       "      <td>70.293808</td>\n",
       "    </tr>\n",
       "    <tr>\n",
       "      <th>ohe__electrical_SBrkr</th>\n",
       "      <td>-67.973826</td>\n",
       "    </tr>\n",
       "    <tr>\n",
       "      <th>ohe__paved_drive_P</th>\n",
       "      <td>-58.614923</td>\n",
       "    </tr>\n",
       "    <tr>\n",
       "      <th>ohe__foundation_Stone</th>\n",
       "      <td>52.413094</td>\n",
       "    </tr>\n",
       "    <tr>\n",
       "      <th>ohe__exterior_1st_ImStucc</th>\n",
       "      <td>-35.031291</td>\n",
       "    </tr>\n",
       "    <tr>\n",
       "      <th>ohe__electrical_FuseF</th>\n",
       "      <td>30.437979</td>\n",
       "    </tr>\n",
       "    <tr>\n",
       "      <th>ohe__bldg_type_Duplex</th>\n",
       "      <td>-30.035373</td>\n",
       "    </tr>\n",
       "    <tr>\n",
       "      <th>ohe__lot_config_FR3</th>\n",
       "      <td>-11.638962</td>\n",
       "    </tr>\n",
       "  </tbody>\n",
       "</table>\n",
       "</div>"
      ],
      "text/plain": [
       "                                 coef\n",
       "remainder__bsmt_cond       125.984902\n",
       "remainder__enclosed_porch  115.431514\n",
       "ohe__sale_type_CWD          70.293808\n",
       "ohe__electrical_SBrkr      -67.973826\n",
       "ohe__paved_drive_P         -58.614923\n",
       "ohe__foundation_Stone       52.413094\n",
       "ohe__exterior_1st_ImStucc  -35.031291\n",
       "ohe__electrical_FuseF       30.437979\n",
       "ohe__bldg_type_Duplex      -30.035373\n",
       "ohe__lot_config_FR3        -11.638962"
      ]
     },
     "execution_count": 46,
     "metadata": {},
     "output_type": "execute_result"
    }
   ],
   "source": [
    "ridge_coef.sort_values(by = 'coef', key = abs, ascending=False).tail(10)"
   ]
  },
  {
   "cell_type": "code",
   "execution_count": 51,
   "id": "47ae9e02",
   "metadata": {},
   "outputs": [
    {
     "data": {
      "image/png": "[encoded data removed]",
      "text/plain": [
       "<Figure size 640x480 with 1 Axes>"
      ]
     },
     "metadata": {},
     "output_type": "display_data"
    }
   ],
   "source": [
    "ridge_coef.hist(bins=50)\n",
    "plt.title('Distribution of Coefficients')\n",
    "plt.xlabel('Coefficients');"
   ]
  },
  {
   "cell_type": "markdown",
   "id": "8afbdb3f",
   "metadata": {},
   "source": [
    "Similar performance to linear model."
   ]
  },
  {
   "cell_type": "markdown",
   "id": "d8cd2c9b",
   "metadata": {},
   "source": [
    "## Lasso"
   ]
  },
  {
   "cell_type": "code",
   "execution_count": 52,
   "id": "5c8ec9c8",
   "metadata": {},
   "outputs": [],
   "source": [
    "# Instantiate\n",
    "lasso = Lasso()\n",
    "model = 'lasso'\n",
    "params = []\n",
    "\n",
    "# Fit\n",
    "lasso.fit(X_train,y_train)\n",
    "\n",
    "# Score train\n",
    "train = lasso.score(X_train,y_train)\n",
    "\n",
    "# Predict\n",
    "y_pred = lasso.predict(X_val)\n",
    "\n",
    "# Score test\n",
    "test = lasso.score(X_val,y_val)\n",
    "\n",
    "# MSE\n",
    "mse = mean_squared_error(y_val,y_pred,squared=False)\n",
    "\n",
    "# Add to list\n",
    "scores.append([model,params,train,test,mse])"
   ]
  },
  {
   "cell_type": "code",
   "execution_count": 53,
   "id": "394b3f5f",
   "metadata": {},
   "outputs": [
    {
     "data": {
      "text/plain": [
       "[['lr', 'NA', 0.8894472186766949, 0.8342182814924959, 31904.60548995268],\n",
       " ['ridge', [], 0.8894469814275529, 0.8342708849271849, 31899.54333653741],\n",
       " ['lasso', [], 0.8894471706663667, 0.8342506260150067, 31901.49299486487]]"
      ]
     },
     "execution_count": 53,
     "metadata": {},
     "output_type": "execute_result"
    }
   ],
   "source": [
    "scores"
   ]
  },
  {
   "cell_type": "markdown",
   "id": "190baa8e",
   "metadata": {},
   "source": [
    "Similar performance."
   ]
  },
  {
   "cell_type": "markdown",
   "id": "28cbef3e",
   "metadata": {},
   "source": [
    "## Elastic Net"
   ]
  },
  {
   "cell_type": "code",
   "execution_count": 54,
   "id": "9af1cb95",
   "metadata": {},
   "outputs": [
    {
     "data": {
      "text/plain": [
       "[['lr', 'NA', 0.8894472186766949, 0.8342182814924959, 31904.60548995268],\n",
       " ['ridge', [], 0.8894469814275529, 0.8342708849271849, 31899.54333653741],\n",
       " ['lasso', [], 0.8894471706663667, 0.8342506260150067, 31901.49299486487],\n",
       " ['enet', [], 0.8685143395898783, 0.8387711237007962, 31463.459563712182]]"
      ]
     },
     "execution_count": 54,
     "metadata": {},
     "output_type": "execute_result"
    }
   ],
   "source": [
    "enet = ElasticNet()\n",
    "model = 'enet'\n",
    "params = []\n",
    "enet.fit(X_train,y_train)\n",
    "train = enet.score(X_train,y_train)\n",
    "y_pred = enet.predict(X_val)\n",
    "test = enet.score(X_val,y_val)\n",
    "mse = mean_squared_error(y_val,y_pred,squared=False)\n",
    "scores.append([model,params,train,test,mse])\n",
    "scores"
   ]
  },
  {
   "cell_type": "markdown",
   "id": "6b23e63e",
   "metadata": {},
   "source": [
    "With default paramets, elastic net performs better.  The lower train score is actually preferable - it means the data is less overfit.  The MSE is about $500 better as well.  "
   ]
  },
  {
   "cell_type": "code",
   "execution_count": null,
   "id": "73302864",
   "metadata": {},
   "outputs": [],
   "source": []
  }
 ],
 "metadata": {
  "kernelspec": {
   "display_name": "Python 3 (ipykernel)",
   "language": "python",
   "name": "python3"
  },
  "language_info": {
   "codemirror_mode": {
    "name": "ipython",
    "version": 3
   },
   "file_extension": ".py",
   "mimetype": "text/x-python",
   "name": "python",
   "nbconvert_exporter": "python",
   "pygments_lexer": "ipython3",
   "version": "3.9.13"
  }
 },
 "nbformat": 4,
 "nbformat_minor": 5
}
