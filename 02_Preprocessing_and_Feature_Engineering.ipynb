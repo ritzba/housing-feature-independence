{
 "cells": [
  {
   "cell_type": "markdown",
   "id": "b6cab3e1",
   "metadata": {},
   "source": [
    "#  Preprocessing and Feature Engineering"
   ]
  },
  {
   "cell_type": "code",
   "execution_count": 1,
   "id": "ff194c37",
   "metadata": {},
   "outputs": [],
   "source": [
    "# Import libraries\n",
    "\n",
    "import numpy as np\n",
    "import pandas as pd\n",
    "\n",
    "from sklearn.compose import ColumnTransformer\n",
    "from sklearn.preprocessing import OneHotEncoder\n",
    "from sklearn.model_selection import train_test_split\n",
    "from sklearn.pipeline import Pipeline\n",
    "from statsmodels.stats.outliers_influence import variance_inflation_factor\n",
    "from sklearn.preprocessing import StandardScaler"
   ]
  },
  {
   "cell_type": "code",
   "execution_count": 2,
   "id": "2915a476",
   "metadata": {},
   "outputs": [],
   "source": [
    "#  Read cleaned data\n",
    "\n",
    "df_train = pd.read_csv('./output/train_cleaned.csv')\n",
    "df_test = pd.read_csv('./output/test_cleaned.csv')"
   ]
  },
  {
   "cell_type": "code",
   "execution_count": 3,
   "id": "985a9faf",
   "metadata": {},
   "outputs": [
    {
     "name": "stdout",
     "output_type": "stream",
     "text": [
      "<class 'pandas.core.frame.DataFrame'>\n",
      "RangeIndex: 2051 entries, 0 to 2050\n",
      "Data columns (total 78 columns):\n",
      " #   Column           Non-Null Count  Dtype  \n",
      "---  ------           --------------  -----  \n",
      " 0   ms_zoning        2051 non-null   object \n",
      " 1   lot_frontage     2051 non-null   float64\n",
      " 2   lot_area         2051 non-null   int64  \n",
      " 3   street           2051 non-null   object \n",
      " 4   lot_shape        2051 non-null   int64  \n",
      " 5   land_contour     2051 non-null   object \n",
      " 6   utilities        2051 non-null   object \n",
      " 7   lot_config       2051 non-null   object \n",
      " 8   land_slope       2051 non-null   int64  \n",
      " 9   neighborhood     2051 non-null   object \n",
      " 10  condition_1      2051 non-null   object \n",
      " 11  condition_2      2051 non-null   object \n",
      " 12  bldg_type        2051 non-null   object \n",
      " 13  house_style      2051 non-null   object \n",
      " 14  overall_qual     2051 non-null   int64  \n",
      " 15  overall_cond     2051 non-null   int64  \n",
      " 16  year_built       2051 non-null   int64  \n",
      " 17  year_remod/add   2051 non-null   int64  \n",
      " 18  roof_style       2051 non-null   object \n",
      " 19  roof_matl        2051 non-null   object \n",
      " 20  exterior_1st     2051 non-null   object \n",
      " 21  mas_vnr_type     2051 non-null   object \n",
      " 22  mas_vnr_area     2051 non-null   float64\n",
      " 23  exter_qual       2051 non-null   int64  \n",
      " 24  exter_cond       2051 non-null   int64  \n",
      " 25  foundation       2051 non-null   object \n",
      " 26  bsmt_qual        2051 non-null   int64  \n",
      " 27  bsmt_cond        2051 non-null   int64  \n",
      " 28  bsmt_exposure    2051 non-null   int64  \n",
      " 29  bsmtfin_type_1   2051 non-null   int64  \n",
      " 30  bsmtfin_sf_1     2051 non-null   float64\n",
      " 31  bsmtfin_type_2   2051 non-null   int64  \n",
      " 32  bsmtfin_sf_2     2051 non-null   float64\n",
      " 33  bsmt_unf_sf      2051 non-null   float64\n",
      " 34  total_bsmt_sf    2051 non-null   float64\n",
      " 35  heating          2051 non-null   object \n",
      " 36  heating_qc       2051 non-null   int64  \n",
      " 37  central_air      2051 non-null   object \n",
      " 38  electrical       2051 non-null   object \n",
      " 39  1st_flr_sf       2051 non-null   int64  \n",
      " 40  2nd_flr_sf       2051 non-null   int64  \n",
      " 41  low_qual_fin_sf  2051 non-null   int64  \n",
      " 42  gr_liv_area      2051 non-null   int64  \n",
      " 43  bsmt_full_bath   2051 non-null   float64\n",
      " 44  bsmt_half_bath   2051 non-null   float64\n",
      " 45  full_bath        2051 non-null   int64  \n",
      " 46  half_bath        2051 non-null   int64  \n",
      " 47  bedroom_abvgr    2051 non-null   int64  \n",
      " 48  kitchen_abvgr    2051 non-null   int64  \n",
      " 49  kitchen_qual     2051 non-null   int64  \n",
      " 50  totrms_abvgrd    2051 non-null   int64  \n",
      " 51  functional       2051 non-null   int64  \n",
      " 52  fireplaces       2051 non-null   int64  \n",
      " 53  fireplace_qu     2051 non-null   int64  \n",
      " 54  garage_type      2051 non-null   object \n",
      " 55  garage_yr_blt    2051 non-null   float64\n",
      " 56  garage_finish    2051 non-null   int64  \n",
      " 57  garage_cars      2051 non-null   float64\n",
      " 58  garage_area      2051 non-null   float64\n",
      " 59  garage_qual      2051 non-null   int64  \n",
      " 60  garage_cond      2051 non-null   int64  \n",
      " 61  paved_drive      2051 non-null   object \n",
      " 62  wood_deck_sf     2051 non-null   int64  \n",
      " 63  open_porch_sf    2051 non-null   int64  \n",
      " 64  enclosed_porch   2051 non-null   int64  \n",
      " 65  3ssn_porch       2051 non-null   int64  \n",
      " 66  screen_porch     2051 non-null   int64  \n",
      " 67  pool_area        2051 non-null   int64  \n",
      " 68  pool_qc          2051 non-null   int64  \n",
      " 69  fence            2051 non-null   object \n",
      " 70  misc_feature     2051 non-null   object \n",
      " 71  misc_val         2051 non-null   int64  \n",
      " 72  mo_sold          2051 non-null   int64  \n",
      " 73  yr_sold          2051 non-null   int64  \n",
      " 74  sale_type        2051 non-null   object \n",
      " 75  saleprice        2051 non-null   int64  \n",
      " 76  pid_1            2051 non-null   int64  \n",
      " 77  pid_2            2051 non-null   int64  \n",
      "dtypes: float64(11), int64(44), object(23)\n",
      "memory usage: 1.2+ MB\n"
     ]
    }
   ],
   "source": [
    "#  View columns and column types\n",
    "\n",
    "df_train.info()"
   ]
  },
  {
   "cell_type": "code",
   "execution_count": 4,
   "id": "93420b2c-bb7e-4ab3-a047-375dba6757db",
   "metadata": {},
   "outputs": [
    {
     "name": "stdout",
     "output_type": "stream",
     "text": [
      "<class 'pandas.core.frame.DataFrame'>\n",
      "RangeIndex: 878 entries, 0 to 877\n",
      "Data columns (total 77 columns):\n",
      " #   Column           Non-Null Count  Dtype  \n",
      "---  ------           --------------  -----  \n",
      " 0   ms_zoning        878 non-null    object \n",
      " 1   lot_frontage     878 non-null    float64\n",
      " 2   lot_area         878 non-null    int64  \n",
      " 3   street           878 non-null    object \n",
      " 4   lot_shape        878 non-null    int64  \n",
      " 5   land_contour     878 non-null    object \n",
      " 6   utilities        878 non-null    object \n",
      " 7   lot_config       878 non-null    object \n",
      " 8   land_slope       878 non-null    int64  \n",
      " 9   neighborhood     878 non-null    object \n",
      " 10  condition_1      878 non-null    object \n",
      " 11  condition_2      878 non-null    object \n",
      " 12  bldg_type        878 non-null    object \n",
      " 13  house_style      878 non-null    object \n",
      " 14  overall_qual     878 non-null    int64  \n",
      " 15  overall_cond     878 non-null    int64  \n",
      " 16  year_built       878 non-null    int64  \n",
      " 17  year_remod/add   878 non-null    int64  \n",
      " 18  roof_style       878 non-null    object \n",
      " 19  roof_matl        878 non-null    object \n",
      " 20  exterior_1st     878 non-null    object \n",
      " 21  mas_vnr_type     878 non-null    object \n",
      " 22  mas_vnr_area     878 non-null    float64\n",
      " 23  exter_qual       878 non-null    int64  \n",
      " 24  exter_cond       878 non-null    int64  \n",
      " 25  foundation       878 non-null    object \n",
      " 26  bsmt_qual        878 non-null    int64  \n",
      " 27  bsmt_cond        878 non-null    int64  \n",
      " 28  bsmt_exposure    878 non-null    int64  \n",
      " 29  bsmtfin_type_1   878 non-null    int64  \n",
      " 30  bsmtfin_sf_1     878 non-null    int64  \n",
      " 31  bsmtfin_type_2   878 non-null    int64  \n",
      " 32  bsmtfin_sf_2     878 non-null    int64  \n",
      " 33  bsmt_unf_sf      878 non-null    int64  \n",
      " 34  total_bsmt_sf    878 non-null    int64  \n",
      " 35  heating          878 non-null    object \n",
      " 36  heating_qc       878 non-null    int64  \n",
      " 37  central_air      878 non-null    object \n",
      " 38  electrical       878 non-null    object \n",
      " 39  1st_flr_sf       878 non-null    int64  \n",
      " 40  2nd_flr_sf       878 non-null    int64  \n",
      " 41  low_qual_fin_sf  878 non-null    int64  \n",
      " 42  gr_liv_area      878 non-null    int64  \n",
      " 43  bsmt_full_bath   878 non-null    int64  \n",
      " 44  bsmt_half_bath   878 non-null    int64  \n",
      " 45  full_bath        878 non-null    int64  \n",
      " 46  half_bath        878 non-null    int64  \n",
      " 47  bedroom_abvgr    878 non-null    int64  \n",
      " 48  kitchen_abvgr    878 non-null    int64  \n",
      " 49  kitchen_qual     878 non-null    int64  \n",
      " 50  totrms_abvgrd    878 non-null    int64  \n",
      " 51  functional       878 non-null    int64  \n",
      " 52  fireplaces       878 non-null    int64  \n",
      " 53  fireplace_qu     878 non-null    int64  \n",
      " 54  garage_type      878 non-null    object \n",
      " 55  garage_yr_blt    878 non-null    float64\n",
      " 56  garage_finish    878 non-null    int64  \n",
      " 57  garage_cars      878 non-null    int64  \n",
      " 58  garage_area      878 non-null    int64  \n",
      " 59  garage_qual      878 non-null    int64  \n",
      " 60  garage_cond      878 non-null    int64  \n",
      " 61  paved_drive      878 non-null    object \n",
      " 62  wood_deck_sf     878 non-null    int64  \n",
      " 63  open_porch_sf    878 non-null    int64  \n",
      " 64  enclosed_porch   878 non-null    int64  \n",
      " 65  3ssn_porch       878 non-null    int64  \n",
      " 66  screen_porch     878 non-null    int64  \n",
      " 67  pool_area        878 non-null    int64  \n",
      " 68  pool_qc          878 non-null    int64  \n",
      " 69  fence            878 non-null    object \n",
      " 70  misc_feature     878 non-null    object \n",
      " 71  misc_val         878 non-null    int64  \n",
      " 72  mo_sold          878 non-null    int64  \n",
      " 73  yr_sold          878 non-null    int64  \n",
      " 74  sale_type        878 non-null    object \n",
      " 75  pid_1            878 non-null    int64  \n",
      " 76  pid_2            878 non-null    int64  \n",
      "dtypes: float64(3), int64(51), object(23)\n",
      "memory usage: 528.3+ KB\n"
     ]
    }
   ],
   "source": [
    "df_test.info()"
   ]
  },
  {
   "cell_type": "code",
   "execution_count": 5,
   "id": "c536bd44",
   "metadata": {},
   "outputs": [
    {
     "name": "stdout",
     "output_type": "stream",
     "text": [
      "<class 'pandas.core.frame.DataFrame'>\n",
      "RangeIndex: 878 entries, 0 to 877\n",
      "Data columns (total 77 columns):\n",
      " #   Column           Non-Null Count  Dtype  \n",
      "---  ------           --------------  -----  \n",
      " 0   ms_zoning        878 non-null    object \n",
      " 1   lot_frontage     878 non-null    float64\n",
      " 2   lot_area         878 non-null    int64  \n",
      " 3   street           878 non-null    object \n",
      " 4   lot_shape        878 non-null    int64  \n",
      " 5   land_contour     878 non-null    object \n",
      " 6   utilities        878 non-null    object \n",
      " 7   lot_config       878 non-null    object \n",
      " 8   land_slope       878 non-null    int64  \n",
      " 9   neighborhood     878 non-null    object \n",
      " 10  condition_1      878 non-null    object \n",
      " 11  condition_2      878 non-null    object \n",
      " 12  bldg_type        878 non-null    object \n",
      " 13  house_style      878 non-null    object \n",
      " 14  overall_qual     878 non-null    int64  \n",
      " 15  overall_cond     878 non-null    int64  \n",
      " 16  year_built       878 non-null    int64  \n",
      " 17  year_remod/add   878 non-null    int64  \n",
      " 18  roof_style       878 non-null    object \n",
      " 19  roof_matl        878 non-null    object \n",
      " 20  exterior_1st     878 non-null    object \n",
      " 21  mas_vnr_type     878 non-null    object \n",
      " 22  mas_vnr_area     878 non-null    float64\n",
      " 23  exter_qual       878 non-null    int64  \n",
      " 24  exter_cond       878 non-null    int64  \n",
      " 25  foundation       878 non-null    object \n",
      " 26  bsmt_qual        878 non-null    int64  \n",
      " 27  bsmt_cond        878 non-null    int64  \n",
      " 28  bsmt_exposure    878 non-null    int64  \n",
      " 29  bsmtfin_type_1   878 non-null    int64  \n",
      " 30  bsmtfin_sf_1     878 non-null    int64  \n",
      " 31  bsmtfin_type_2   878 non-null    int64  \n",
      " 32  bsmtfin_sf_2     878 non-null    int64  \n",
      " 33  bsmt_unf_sf      878 non-null    int64  \n",
      " 34  total_bsmt_sf    878 non-null    int64  \n",
      " 35  heating          878 non-null    object \n",
      " 36  heating_qc       878 non-null    int64  \n",
      " 37  central_air      878 non-null    object \n",
      " 38  electrical       878 non-null    object \n",
      " 39  1st_flr_sf       878 non-null    int64  \n",
      " 40  2nd_flr_sf       878 non-null    int64  \n",
      " 41  low_qual_fin_sf  878 non-null    int64  \n",
      " 42  gr_liv_area      878 non-null    int64  \n",
      " 43  bsmt_full_bath   878 non-null    int64  \n",
      " 44  bsmt_half_bath   878 non-null    int64  \n",
      " 45  full_bath        878 non-null    int64  \n",
      " 46  half_bath        878 non-null    int64  \n",
      " 47  bedroom_abvgr    878 non-null    int64  \n",
      " 48  kitchen_abvgr    878 non-null    int64  \n",
      " 49  kitchen_qual     878 non-null    int64  \n",
      " 50  totrms_abvgrd    878 non-null    int64  \n",
      " 51  functional       878 non-null    int64  \n",
      " 52  fireplaces       878 non-null    int64  \n",
      " 53  fireplace_qu     878 non-null    int64  \n",
      " 54  garage_type      878 non-null    object \n",
      " 55  garage_yr_blt    878 non-null    float64\n",
      " 56  garage_finish    878 non-null    int64  \n",
      " 57  garage_cars      878 non-null    int64  \n",
      " 58  garage_area      878 non-null    int64  \n",
      " 59  garage_qual      878 non-null    int64  \n",
      " 60  garage_cond      878 non-null    int64  \n",
      " 61  paved_drive      878 non-null    object \n",
      " 62  wood_deck_sf     878 non-null    int64  \n",
      " 63  open_porch_sf    878 non-null    int64  \n",
      " 64  enclosed_porch   878 non-null    int64  \n",
      " 65  3ssn_porch       878 non-null    int64  \n",
      " 66  screen_porch     878 non-null    int64  \n",
      " 67  pool_area        878 non-null    int64  \n",
      " 68  pool_qc          878 non-null    int64  \n",
      " 69  fence            878 non-null    object \n",
      " 70  misc_feature     878 non-null    object \n",
      " 71  misc_val         878 non-null    int64  \n",
      " 72  mo_sold          878 non-null    int64  \n",
      " 73  yr_sold          878 non-null    int64  \n",
      " 74  sale_type        878 non-null    object \n",
      " 75  pid_1            878 non-null    int64  \n",
      " 76  pid_2            878 non-null    int64  \n",
      "dtypes: float64(3), int64(51), object(23)\n",
      "memory usage: 528.3+ KB\n"
     ]
    }
   ],
   "source": [
    "df_test.info()"
   ]
  },
  {
   "cell_type": "code",
   "execution_count": 6,
   "id": "4703e747",
   "metadata": {},
   "outputs": [
    {
     "data": {
      "text/plain": [
       "0    78\n",
       "dtype: int64"
      ]
     },
     "execution_count": 6,
     "metadata": {},
     "output_type": "execute_result"
    }
   ],
   "source": [
    "#  Stil no nulls\n",
    "\n",
    "df_train.isnull().sum().value_counts()"
   ]
  },
  {
   "cell_type": "code",
   "execution_count": 7,
   "id": "0970edc3",
   "metadata": {},
   "outputs": [
    {
     "data": {
      "text/plain": [
       "0    77\n",
       "dtype: int64"
      ]
     },
     "execution_count": 7,
     "metadata": {},
     "output_type": "execute_result"
    }
   ],
   "source": [
    "df_test.isnull().sum().value_counts()"
   ]
  },
  {
   "cell_type": "code",
   "execution_count": 8,
   "id": "d12da9c8",
   "metadata": {},
   "outputs": [],
   "source": [
    "#  Select 'saleprice' as target\n",
    "\n",
    "X = df_train.drop(columns='saleprice')\n",
    "y = df_train['saleprice']"
   ]
  },
  {
   "cell_type": "code",
   "execution_count": 9,
   "id": "cf11338a",
   "metadata": {},
   "outputs": [],
   "source": [
    "#  split into training and validation set\n",
    "\n",
    "X_train,X_val,y_train,y_val = train_test_split(X, y, random_state = 42)"
   ]
  },
  {
   "cell_type": "code",
   "execution_count": 10,
   "id": "d3a8be26",
   "metadata": {
    "scrolled": false
   },
   "outputs": [
    {
     "data": {
      "text/plain": [
       "((1538, 77), (513, 77), (1538,), (513,))"
      ]
     },
     "execution_count": 10,
     "metadata": {},
     "output_type": "execute_result"
    }
   ],
   "source": [
    "#  Check shape\n",
    "\n",
    "X_train.shape,X_val.shape,y_train.shape,y_val.shape"
   ]
  },
  {
   "cell_type": "markdown",
   "id": "f89be00b-f2e3-483b-9415-3df4903c5a84",
   "metadata": {},
   "source": [
    "#  One-Hot Encoding and Scaling"
   ]
  },
  {
   "cell_type": "code",
   "execution_count": 11,
   "id": "868eaffe",
   "metadata": {},
   "outputs": [],
   "source": [
    "#  One-Hot Encoding for variables designated as categorical during EDA\n",
    "\n",
    "ctx = ColumnTransformer(transformers = [\n",
    "    ('ohe',OneHotEncoder(\n",
    "        drop='first',\n",
    "        sparse=False,\n",
    "        handle_unknown='ignore'),\n",
    "     ['ms_zoning','lot_config',\n",
    "      'street','land_contour','utilities','neighborhood',\n",
    "      'condition_1','condition_2','bldg_type','house_style','roof_style','roof_matl',\n",
    "      'exterior_1st','mas_vnr_type','heating','central_air',\n",
    "      'garage_type','paved_drive','electrical','fence','misc_feature','foundation','sale_type'])\n",
    "],remainder='passthrough')"
   ]
  },
  {
   "cell_type": "code",
   "execution_count": 12,
   "id": "fdbcb7e2-ea02-4ad2-9e8f-1a0e7c5c951c",
   "metadata": {},
   "outputs": [],
   "source": [
    "#  Pipeline for column transformation and scaling\n",
    "#  Estimators will be handled individually with scaled data\n",
    "\n",
    "pipe = Pipeline(\n",
    "    steps = [\n",
    "        ('ctx',ctx),\n",
    "        ('ss',StandardScaler())\n",
    "    ]\n",
    ")"
   ]
  },
  {
   "cell_type": "code",
   "execution_count": 13,
   "id": "2d4b5d50-d5e6-4d30-8760-a887ca3fc46c",
   "metadata": {},
   "outputs": [
    {
     "data": {
      "text/plain": [
       "Pipeline(steps=[('ctx',\n",
       "                 ColumnTransformer(remainder='passthrough',\n",
       "                                   transformers=[('ohe',\n",
       "                                                  OneHotEncoder(drop='first',\n",
       "                                                                handle_unknown='ignore',\n",
       "                                                                sparse=False),\n",
       "                                                  ['ms_zoning', 'lot_config',\n",
       "                                                   'street', 'land_contour',\n",
       "                                                   'utilities', 'neighborhood',\n",
       "                                                   'condition_1', 'condition_2',\n",
       "                                                   'bldg_type', 'house_style',\n",
       "                                                   'roof_style', 'roof_matl',\n",
       "                                                   'exterior_1st',\n",
       "                                                   'mas_vnr_type', 'heating',\n",
       "                                                   'central_air', 'garage_type',\n",
       "                                                   'paved_drive', 'electrical',\n",
       "                                                   'fence', 'misc_feature',\n",
       "                                                   'foundation',\n",
       "                                                   'sale_type'])])),\n",
       "                ('ss', StandardScaler())])"
      ]
     },
     "execution_count": 13,
     "metadata": {},
     "output_type": "execute_result"
    }
   ],
   "source": [
    "# Fit pipeline on training data\n",
    "\n",
    "pipe.fit(X_train,y_train)"
   ]
  },
  {
   "cell_type": "code",
   "execution_count": 14,
   "id": "a3f51edb-3f20-4456-b7b9-5ac429d01760",
   "metadata": {},
   "outputs": [
    {
     "name": "stderr",
     "output_type": "stream",
     "text": [
      "C:\\Anaconda\\lib\\site-packages\\sklearn\\preprocessing\\_encoders.py:170: UserWarning: Found unknown categories in columns [0, 4, 7] during transform. These unknown categories will be encoded as all zeros\n",
      "  warnings.warn(\n",
      "C:\\Anaconda\\lib\\site-packages\\sklearn\\preprocessing\\_encoders.py:170: UserWarning: Found unknown categories in columns [0, 4, 11, 12, 13, 14, 22] during transform. These unknown categories will be encoded as all zeros\n",
      "  warnings.warn(\n"
     ]
    }
   ],
   "source": [
    "#  Use pipe to transform train, validation, and test\n",
    "\n",
    "X_train_sc = pipe.transform(X_train)\n",
    "X_val_sc = pipe.transform(X_val)\n",
    "X_test_sc = pipe.transform(df_test)"
   ]
  },
  {
   "cell_type": "code",
   "execution_count": 15,
   "id": "121cc2c1-5ba4-41b3-9315-46e7b70ce5df",
   "metadata": {},
   "outputs": [],
   "source": [
    "#  Reassemble as dataframes\n",
    "\n",
    "X_train_sc = pd.DataFrame(data = X_train_sc, columns = pipe.get_feature_names_out())\n",
    "X_val_sc = pd.DataFrame(data = X_val_sc, columns = pipe.get_feature_names_out())\n",
    "X_test_sc = pd.DataFrame(data = X_test_sc, columns = pipe.get_feature_names_out())"
   ]
  },
  {
   "cell_type": "code",
   "execution_count": 16,
   "id": "b032da47-a8f0-41c9-9851-c22365f73c0b",
   "metadata": {},
   "outputs": [
    {
     "data": {
      "text/plain": [
       "((1538, 185), (513, 185), (878, 185))"
      ]
     },
     "execution_count": 16,
     "metadata": {},
     "output_type": "execute_result"
    }
   ],
   "source": [
    "#  Check shape\n",
    "\n",
    "X_train_sc.shape,X_val_sc.shape,X_test_sc.shape"
   ]
  },
  {
   "cell_type": "markdown",
   "id": "9e4e3118-671e-447e-8a9c-0361c853dce1",
   "metadata": {},
   "source": [
    "# Reducing Multicollinearity"
   ]
  },
  {
   "cell_type": "markdown",
   "id": "92fd5c4c",
   "metadata": {},
   "source": [
    "Variance Inflation Factor (VIF) is a strong metric for multicollinearity.  \n",
    "\n",
    "A VIF of greater than 5 is considered problematic.  \n",
    "\n",
    "The following loop runs through the feature space, drops the feature with highest VIF, and \n",
    "repeats until no feature has a VIF greater than 5."
   ]
  },
  {
   "cell_type": "code",
   "execution_count": 17,
   "id": "e0970872-b4c5-44dc-9729-dbc47356f077",
   "metadata": {},
   "outputs": [
    {
     "name": "stderr",
     "output_type": "stream",
     "text": [
      "C:\\Anaconda\\lib\\site-packages\\statsmodels\\stats\\outliers_influence.py:195: RuntimeWarning: divide by zero encountered in double_scalars\n",
      "  vif = 1. / (1. - r_squared_i)\n"
     ]
    },
    {
     "name": "stdout",
     "output_type": "stream",
     "text": [
      "('remainder__bsmtfin_sf_1', inf)\n"
     ]
    },
    {
     "name": "stderr",
     "output_type": "stream",
     "text": [
      "C:\\Anaconda\\lib\\site-packages\\statsmodels\\stats\\outliers_influence.py:195: RuntimeWarning: divide by zero encountered in double_scalars\n",
      "  vif = 1. / (1. - r_squared_i)\n"
     ]
    },
    {
     "name": "stdout",
     "output_type": "stream",
     "text": [
      "('remainder__1st_flr_sf', inf)\n",
      "('remainder__garage_yr_blt', 1734.5408831009668)\n",
      "('ohe__ms_zoning_RL', 322.29125124555117)\n",
      "('ohe__misc_feature_NONE', 261.12032469374054)\n",
      "('ohe__roof_style_Gable', 83.01501770203208)\n",
      "('remainder__pid_1', 72.90287183917538)\n",
      "('ohe__roof_matl_CompShg', 52.95513707471433)\n",
      "('ohe__mas_vnr_type_None', 39.84393197181128)\n",
      "('ohe__garage_type_Attchd', 35.83100267879756)\n",
      "('ohe__exterior_1st_VinylSd', 20.707938013388326)\n",
      "('ohe__neighborhood_NAmes', 19.124325501854738)\n",
      "('remainder__2nd_flr_sf', 18.49743524187252)\n",
      "('ohe__garage_type_NONE', 18.46581434665116)\n",
      "('remainder__pool_area', 15.315232500086145)\n",
      "('remainder__garage_qual', 12.844195960309225)\n",
      "('remainder__gr_liv_area', 12.06441821680474)\n",
      "('remainder__year_built', 11.728677127981305)\n",
      "('remainder__garage_cars', 8.264427166587545)\n",
      "('ohe__foundation_PConc', 6.91492797061613)\n",
      "('ohe__neighborhood_Somerst', 6.849660773913976)\n",
      "('remainder__total_bsmt_sf', 6.260419618100167)\n",
      "('remainder__pid_2', 6.106434410466769)\n",
      "('ohe__condition_2_Norm', 5.824575582071426)\n",
      "('remainder__fireplace_qu', 5.779324620698269)\n",
      "('ohe__house_style_1Story', 5.472644988240954)\n",
      "('remainder__bsmt_qual', 5.337641667305494)\n",
      "('ohe__condition_1_Norm', 5.0296700267784935)\n",
      "('remainder__overall_qual', 5.022778703601206)\n",
      "('ohe__fence_NONE', 4.834032538553254)\n"
     ]
    }
   ],
   "source": [
    "max_x = ('feat',10)\n",
    "while max_x[1] > 5:\n",
    "    x = [(X_train_sc.columns[col],variance_inflation_factor(X_train_sc,col)) for col in range(len(X_train_sc.columns))]\n",
    "    max_x = max(x,key=lambda x: x[1])\n",
    "    print(max_x)\n",
    "    X_train_sc.drop(columns = max_x[0],inplace=True)"
   ]
  },
  {
   "cell_type": "code",
   "execution_count": 18,
   "id": "67d544aa-4e7e-4f3c-92d3-7c9b9ffab4f5",
   "metadata": {},
   "outputs": [],
   "source": [
    "#  Select corresponding columns from validation and test \n",
    "\n",
    "X_val_sc = X_val_sc[[col for col in X_train_sc.columns]]\n",
    "X_test_sc = X_test_sc[[col for col in X_train_sc.columns]]"
   ]
  },
  {
   "cell_type": "code",
   "execution_count": 19,
   "id": "d2a6dca0",
   "metadata": {},
   "outputs": [],
   "source": [
    "#  Reassemble as dataframes\n",
    "\n",
    "X_train_sc = pd.DataFrame(data = X_train_sc, columns = X_train_sc.columns)\n",
    "X_val_sc = pd.DataFrame(data = X_val_sc, columns = X_train_sc.columns)\n",
    "X_test_sc = pd.DataFrame(data = X_test_sc, columns = X_train_sc.columns)"
   ]
  },
  {
   "cell_type": "code",
   "execution_count": 22,
   "id": "44ed9269",
   "metadata": {},
   "outputs": [],
   "source": [
    "X_train_sc.to_csv('./output/X_train_sc.csv',index=False)\n",
    "X_val_sc.to_csv('./output/X_val_sc.csv',index=False)\n",
    "X_test_sc.to_csv('./output/X_test_sc.csv',index=False)\n",
    "\n",
    "y_train.to_csv('./output/y_train.csv',index=False)\n",
    "y_val.to_csv('./output/y_val.csv',index=False)"
   ]
  },
  {
   "cell_type": "code",
   "execution_count": null,
   "id": "45a3bd5d",
   "metadata": {},
   "outputs": [],
   "source": []
  }
 ],
 "metadata": {
  "kernelspec": {
   "display_name": "Python 3 (ipykernel)",
   "language": "python",
   "name": "python3"
  },
  "language_info": {
   "codemirror_mode": {
    "name": "ipython",
    "version": 3
   },
   "file_extension": ".py",
   "mimetype": "text/x-python",
   "name": "python",
   "nbconvert_exporter": "python",
   "pygments_lexer": "ipython3",
   "version": "3.9.13"
  }
 },
 "nbformat": 4,
 "nbformat_minor": 5
}
