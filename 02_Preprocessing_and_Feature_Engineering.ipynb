{
 "cells": [
  {
   "cell_type": "code",
   "execution_count": 28,
   "id": "ff194c37",
   "metadata": {},
   "outputs": [],
   "source": [
    "import numpy as np\n",
    "import pandas as pd\n",
    "import matplotlib.pyplot as plt\n",
    "import seaborn as sns\n",
    "\n",
    "from sklearn.compose import ColumnTransformer\n",
    "from sklearn.preprocessing import OneHotEncoder"
   ]
  },
  {
   "cell_type": "code",
   "execution_count": 433,
   "id": "811fe142",
   "metadata": {},
   "outputs": [],
   "source": [
    "from sklearn.linear_model import LinearRegression, Lasso, LassoCV, Ridge, RidgeCV, ElasticNet, ElasticNetCV\n",
    "from sklearn.model_selection import train_test_split, cross_val_score\n",
    "from sklearn.preprocessing import PolynomialFeatures, StandardScaler\n",
    "from sklearn.metrics import r2_score, mean_squared_error\n",
    "\n",
    "from statsmodels.stats.outliers_influence import variance_inflation_factor\n",
    "from sklearn.pipeline import Pipeline\n",
    "\n",
    "from sklearn.model_selection import \\\n",
    "    KFold, RepeatedKFold, GridSearchCV, \\\n",
    "    cross_validate, train_test_split\n",
    "\n",
    "from ipywidgets import *\n",
    "from IPython.display import display\n",
    "\n",
    "import warnings\n",
    "\n"
   ]
  },
  {
   "cell_type": "code",
   "execution_count": 412,
   "id": "2915a476",
   "metadata": {},
   "outputs": [],
   "source": [
    "df_train = pd.read_csv('./datasets/df_train.csv')\n",
    "df_test = pd.read_csv('./datasets/df_test.csv')"
   ]
  },
  {
   "cell_type": "code",
   "execution_count": 413,
   "id": "7a0701cf",
   "metadata": {},
   "outputs": [
    {
     "data": {
      "text/plain": [
       "Index(['id', 'ms_subclass', 'ms_zoning', 'lot_frontage', 'lot_area', 'street',\n",
       "       'alley', 'lot_shape', 'land_contour', 'utilities', 'lot_config',\n",
       "       'land_slope', 'neighborhood', 'condition_1', 'condition_2', 'bldg_type',\n",
       "       'house_style', 'overall_qual', 'overall_cond', 'year_built',\n",
       "       'year_remod/add', 'roof_style', 'roof_matl', 'exterior_1st',\n",
       "       'exterior_2nd', 'mas_vnr_type', 'mas_vnr_area', 'exter_qual',\n",
       "       'exter_cond', 'foundation', 'bsmt_qual', 'bsmt_cond', 'bsmt_exposure',\n",
       "       'bsmtfin_type_1', 'bsmtfin_sf_1', 'bsmtfin_type_2', 'bsmtfin_sf_2',\n",
       "       'bsmt_unf_sf', 'total_bsmt_sf', 'heating', 'heating_qc', 'central_air',\n",
       "       'electrical', '1st_flr_sf', '2nd_flr_sf', 'low_qual_fin_sf',\n",
       "       'gr_liv_area', 'bsmt_full_bath', 'bsmt_half_bath', 'full_bath',\n",
       "       'half_bath', 'bedroom_abvgr', 'kitchen_abvgr', 'kitchen_qual',\n",
       "       'totrms_abvgrd', 'functional', 'fireplaces', 'fireplace_qu',\n",
       "       'garage_type', 'garage_yr_blt', 'garage_finish', 'garage_cars',\n",
       "       'garage_area', 'garage_qual', 'garage_cond', 'paved_drive',\n",
       "       'wood_deck_sf', 'open_porch_sf', 'enclosed_porch', '3ssn_porch',\n",
       "       'screen_porch', 'pool_area', 'pool_qc', 'misc_feature', 'misc_val',\n",
       "       'mo_sold', 'yr_sold', 'sale_type', 'saleprice', 'pid_1', 'pid_2',\n",
       "       'pid_3', 'pid_4', 'fence_prv', 'fence_wood'],\n",
       "      dtype='object')"
      ]
     },
     "execution_count": 413,
     "metadata": {},
     "output_type": "execute_result"
    }
   ],
   "source": [
    "df_train.columns"
   ]
  },
  {
   "cell_type": "code",
   "execution_count": 426,
   "id": "985a9faf",
   "metadata": {},
   "outputs": [],
   "source": [
    "df_train = df_train.dropna(how='any',axis=1)"
   ]
  },
  {
   "cell_type": "code",
   "execution_count": 427,
   "id": "c536bd44",
   "metadata": {},
   "outputs": [
    {
     "name": "stdout",
     "output_type": "stream",
     "text": [
      "<class 'pandas.core.frame.DataFrame'>\n",
      "RangeIndex: 2051 entries, 0 to 2050\n",
      "Data columns (total 72 columns):\n",
      " #   Column           Non-Null Count  Dtype \n",
      "---  ------           --------------  ----- \n",
      " 0   id               2051 non-null   int64 \n",
      " 1   ms_subclass      2051 non-null   int64 \n",
      " 2   ms_zoning        2051 non-null   int64 \n",
      " 3   lot_area         2051 non-null   int64 \n",
      " 4   street           2051 non-null   int64 \n",
      " 5   alley            2051 non-null   int64 \n",
      " 6   lot_shape        2051 non-null   int64 \n",
      " 7   land_contour     2051 non-null   int64 \n",
      " 8   utilities        2051 non-null   int64 \n",
      " 9   lot_config       2051 non-null   int64 \n",
      " 10  land_slope       2051 non-null   int64 \n",
      " 11  neighborhood     2051 non-null   object\n",
      " 12  condition_1      2051 non-null   int64 \n",
      " 13  condition_2      2051 non-null   int64 \n",
      " 14  bldg_type        2051 non-null   int64 \n",
      " 15  house_style      2051 non-null   int64 \n",
      " 16  overall_qual     2051 non-null   int64 \n",
      " 17  overall_cond     2051 non-null   int64 \n",
      " 18  year_built       2051 non-null   int64 \n",
      " 19  year_remod/add   2051 non-null   int64 \n",
      " 20  roof_style       2051 non-null   object\n",
      " 21  roof_matl        2051 non-null   object\n",
      " 22  exterior_1st     2051 non-null   object\n",
      " 23  exterior_2nd     2051 non-null   object\n",
      " 24  exter_qual       2051 non-null   int64 \n",
      " 25  exter_cond       2051 non-null   int64 \n",
      " 26  foundation       2051 non-null   object\n",
      " 27  bsmt_qual        2051 non-null   int64 \n",
      " 28  bsmt_cond        2051 non-null   int64 \n",
      " 29  bsmt_exposure    2051 non-null   int64 \n",
      " 30  bsmtfin_type_1   2051 non-null   int64 \n",
      " 31  bsmtfin_type_2   2051 non-null   int64 \n",
      " 32  heating          2051 non-null   object\n",
      " 33  heating_qc       2051 non-null   int64 \n",
      " 34  central_air      2051 non-null   int64 \n",
      " 35  electrical       2051 non-null   int64 \n",
      " 36  1st_flr_sf       2051 non-null   int64 \n",
      " 37  2nd_flr_sf       2051 non-null   int64 \n",
      " 38  low_qual_fin_sf  2051 non-null   int64 \n",
      " 39  gr_liv_area      2051 non-null   int64 \n",
      " 40  full_bath        2051 non-null   int64 \n",
      " 41  half_bath        2051 non-null   int64 \n",
      " 42  bedroom_abvgr    2051 non-null   int64 \n",
      " 43  kitchen_abvgr    2051 non-null   int64 \n",
      " 44  kitchen_qual     2051 non-null   int64 \n",
      " 45  totrms_abvgrd    2051 non-null   int64 \n",
      " 46  functional       2051 non-null   int64 \n",
      " 47  fireplaces       2051 non-null   int64 \n",
      " 48  fireplace_qu     2051 non-null   int64 \n",
      " 49  garage_type      2051 non-null   int64 \n",
      " 50  garage_finish    2051 non-null   int64 \n",
      " 51  garage_qual      2051 non-null   int64 \n",
      " 52  garage_cond      2051 non-null   int64 \n",
      " 53  paved_drive      2051 non-null   int64 \n",
      " 54  wood_deck_sf     2051 non-null   int64 \n",
      " 55  open_porch_sf    2051 non-null   int64 \n",
      " 56  enclosed_porch   2051 non-null   int64 \n",
      " 57  3ssn_porch       2051 non-null   int64 \n",
      " 58  screen_porch     2051 non-null   int64 \n",
      " 59  pool_area        2051 non-null   int64 \n",
      " 60  pool_qc          2051 non-null   int64 \n",
      " 61  misc_val         2051 non-null   int64 \n",
      " 62  mo_sold          2051 non-null   int64 \n",
      " 63  yr_sold          2051 non-null   int64 \n",
      " 64  sale_type        2051 non-null   object\n",
      " 65  saleprice        2051 non-null   int64 \n",
      " 66  pid_1            2051 non-null   int64 \n",
      " 67  pid_2            2051 non-null   int64 \n",
      " 68  pid_3            2051 non-null   int64 \n",
      " 69  pid_4            2051 non-null   int64 \n",
      " 70  fence_prv        2051 non-null   int64 \n",
      " 71  fence_wood       2051 non-null   int64 \n",
      "dtypes: int64(64), object(8)\n",
      "memory usage: 1.1+ MB\n"
     ]
    }
   ],
   "source": [
    "df_train.info()"
   ]
  },
  {
   "cell_type": "code",
   "execution_count": 457,
   "id": "d12da9c8",
   "metadata": {},
   "outputs": [],
   "source": [
    "X = df_train.drop(columns='saleprice')\n",
    "y = df_train['saleprice']"
   ]
  },
  {
   "cell_type": "code",
   "execution_count": 458,
   "id": "cf11338a",
   "metadata": {},
   "outputs": [],
   "source": [
    "X_train,X_val,y_train,y_val = train_test_split(X, y, random_state = 42)"
   ]
  },
  {
   "cell_type": "code",
   "execution_count": 459,
   "id": "d3a8be26",
   "metadata": {
    "scrolled": true
   },
   "outputs": [
    {
     "name": "stdout",
     "output_type": "stream",
     "text": [
      "<class 'pandas.core.frame.DataFrame'>\n",
      "Int64Index: 1538 entries, 532 to 860\n",
      "Data columns (total 71 columns):\n",
      " #   Column           Non-Null Count  Dtype \n",
      "---  ------           --------------  ----- \n",
      " 0   id               1538 non-null   int64 \n",
      " 1   ms_subclass      1538 non-null   int64 \n",
      " 2   ms_zoning        1538 non-null   int64 \n",
      " 3   lot_area         1538 non-null   int64 \n",
      " 4   street           1538 non-null   int64 \n",
      " 5   alley            1538 non-null   int64 \n",
      " 6   lot_shape        1538 non-null   int64 \n",
      " 7   land_contour     1538 non-null   int64 \n",
      " 8   utilities        1538 non-null   int64 \n",
      " 9   lot_config       1538 non-null   int64 \n",
      " 10  land_slope       1538 non-null   int64 \n",
      " 11  neighborhood     1538 non-null   object\n",
      " 12  condition_1      1538 non-null   int64 \n",
      " 13  condition_2      1538 non-null   int64 \n",
      " 14  bldg_type        1538 non-null   int64 \n",
      " 15  house_style      1538 non-null   int64 \n",
      " 16  overall_qual     1538 non-null   int64 \n",
      " 17  overall_cond     1538 non-null   int64 \n",
      " 18  year_built       1538 non-null   int64 \n",
      " 19  year_remod/add   1538 non-null   int64 \n",
      " 20  roof_style       1538 non-null   object\n",
      " 21  roof_matl        1538 non-null   object\n",
      " 22  exterior_1st     1538 non-null   object\n",
      " 23  exterior_2nd     1538 non-null   object\n",
      " 24  exter_qual       1538 non-null   int64 \n",
      " 25  exter_cond       1538 non-null   int64 \n",
      " 26  foundation       1538 non-null   object\n",
      " 27  bsmt_qual        1538 non-null   int64 \n",
      " 28  bsmt_cond        1538 non-null   int64 \n",
      " 29  bsmt_exposure    1538 non-null   int64 \n",
      " 30  bsmtfin_type_1   1538 non-null   int64 \n",
      " 31  bsmtfin_type_2   1538 non-null   int64 \n",
      " 32  heating          1538 non-null   object\n",
      " 33  heating_qc       1538 non-null   int64 \n",
      " 34  central_air      1538 non-null   int64 \n",
      " 35  electrical       1538 non-null   int64 \n",
      " 36  1st_flr_sf       1538 non-null   int64 \n",
      " 37  2nd_flr_sf       1538 non-null   int64 \n",
      " 38  low_qual_fin_sf  1538 non-null   int64 \n",
      " 39  gr_liv_area      1538 non-null   int64 \n",
      " 40  full_bath        1538 non-null   int64 \n",
      " 41  half_bath        1538 non-null   int64 \n",
      " 42  bedroom_abvgr    1538 non-null   int64 \n",
      " 43  kitchen_abvgr    1538 non-null   int64 \n",
      " 44  kitchen_qual     1538 non-null   int64 \n",
      " 45  totrms_abvgrd    1538 non-null   int64 \n",
      " 46  functional       1538 non-null   int64 \n",
      " 47  fireplaces       1538 non-null   int64 \n",
      " 48  fireplace_qu     1538 non-null   int64 \n",
      " 49  garage_type      1538 non-null   int64 \n",
      " 50  garage_finish    1538 non-null   int64 \n",
      " 51  garage_qual      1538 non-null   int64 \n",
      " 52  garage_cond      1538 non-null   int64 \n",
      " 53  paved_drive      1538 non-null   int64 \n",
      " 54  wood_deck_sf     1538 non-null   int64 \n",
      " 55  open_porch_sf    1538 non-null   int64 \n",
      " 56  enclosed_porch   1538 non-null   int64 \n",
      " 57  3ssn_porch       1538 non-null   int64 \n",
      " 58  screen_porch     1538 non-null   int64 \n",
      " 59  pool_area        1538 non-null   int64 \n",
      " 60  pool_qc          1538 non-null   int64 \n",
      " 61  misc_val         1538 non-null   int64 \n",
      " 62  mo_sold          1538 non-null   int64 \n",
      " 63  yr_sold          1538 non-null   int64 \n",
      " 64  sale_type        1538 non-null   object\n",
      " 65  pid_1            1538 non-null   int64 \n",
      " 66  pid_2            1538 non-null   int64 \n",
      " 67  pid_3            1538 non-null   int64 \n",
      " 68  pid_4            1538 non-null   int64 \n",
      " 69  fence_prv        1538 non-null   int64 \n",
      " 70  fence_wood       1538 non-null   int64 \n",
      "dtypes: int64(63), object(8)\n",
      "memory usage: 865.1+ KB\n"
     ]
    }
   ],
   "source": [
    "X_train.info()"
   ]
  },
  {
   "cell_type": "code",
   "execution_count": null,
   "id": "ee6c6241",
   "metadata": {},
   "outputs": [],
   "source": []
  },
  {
   "cell_type": "code",
   "execution_count": null,
   "id": "e5b70bcf",
   "metadata": {},
   "outputs": [],
   "source": []
  },
  {
   "cell_type": "code",
   "execution_count": null,
   "id": "2ccc30fe",
   "metadata": {},
   "outputs": [],
   "source": []
  },
  {
   "cell_type": "code",
   "execution_count": 460,
   "id": "868eaffe",
   "metadata": {},
   "outputs": [],
   "source": [
    "ctx = ColumnTransformer(transformers = [\n",
    "    ('ohe',OneHotEncoder(\n",
    "        drop='first',\n",
    "        sparse=False,\n",
    "        handle_unknown='ignore'),\n",
    "     ['neighborhood','roof_style','roof_matl','exterior_1st','exterior_2nd',\n",
    "      'heating','foundation','sale_type'])\n",
    "],remainder='passthrough')"
   ]
  },
  {
   "cell_type": "code",
   "execution_count": null,
   "id": "a973fbef",
   "metadata": {},
   "outputs": [],
   "source": []
  },
  {
   "cell_type": "code",
   "execution_count": 461,
   "id": "5b38c5ac",
   "metadata": {},
   "outputs": [],
   "source": [
    "pipe = Pipeline(\n",
    "    steps = [\n",
    "    ('ctx',ctx),\n",
    "    ('ss',StandardScaler()),\n",
    "])"
   ]
  },
  {
   "cell_type": "code",
   "execution_count": 462,
   "id": "bd108bc2",
   "metadata": {},
   "outputs": [
    {
     "data": {
      "text/plain": [
       "Pipeline(steps=[('ctx',\n",
       "                 ColumnTransformer(remainder='passthrough',\n",
       "                                   transformers=[('ohe',\n",
       "                                                  OneHotEncoder(drop='first',\n",
       "                                                                handle_unknown='ignore',\n",
       "                                                                sparse=False),\n",
       "                                                  ['neighborhood', 'roof_style',\n",
       "                                                   'roof_matl', 'exterior_1st',\n",
       "                                                   'exterior_2nd', 'heating',\n",
       "                                                   'foundation',\n",
       "                                                   'sale_type'])])),\n",
       "                ('ss', StandardScaler())])"
      ]
     },
     "execution_count": 462,
     "metadata": {},
     "output_type": "execute_result"
    }
   ],
   "source": [
    "pipe.fit(X_train,y_train)"
   ]
  },
  {
   "cell_type": "code",
   "execution_count": 463,
   "id": "d4ac413a",
   "metadata": {},
   "outputs": [],
   "source": [
    "X_train = pipe.transform(X_train)\n",
    "X_val = pipe.transform(X_val)"
   ]
  },
  {
   "cell_type": "code",
   "execution_count": 464,
   "id": "8c0afbc9",
   "metadata": {},
   "outputs": [],
   "source": [
    "X_train = pd.DataFrame(data = X_train, columns = pipe.get_feature_names_out())\n",
    "X_val = pd.DataFrame(data = X_val, columns = pipe.get_feature_names_out())"
   ]
  },
  {
   "cell_type": "code",
   "execution_count": 465,
   "id": "bf6a253b",
   "metadata": {},
   "outputs": [
    {
     "name": "stderr",
     "output_type": "stream",
     "text": [
      "C:\\Anaconda\\lib\\site-packages\\statsmodels\\regression\\linear_model.py:1738: RuntimeWarning: invalid value encountered in double_scalars\n",
      "  return 1 - self.ssr/self.uncentered_tss\n",
      "C:\\Anaconda\\lib\\site-packages\\statsmodels\\stats\\outliers_influence.py:195: RuntimeWarning: divide by zero encountered in double_scalars\n",
      "  vif = 1. / (1. - r_squared_i)\n"
     ]
    }
   ],
   "source": [
    "x = [(X_train.columns[col], variance_inflation_factor(X_train,col)) for col in range(len(X_train.columns))]"
   ]
  },
  {
   "cell_type": "code",
   "execution_count": 466,
   "id": "4af9a33f",
   "metadata": {},
   "outputs": [
    {
     "data": {
      "text/plain": [
       "[('remainder__1st_flr_sf', inf),\n",
       " ('remainder__id', 257.89400639229234),\n",
       " ('remainder__utilities', nan),\n",
       " ('remainder__2nd_flr_sf', inf),\n",
       " ('remainder__low_qual_fin_sf', inf),\n",
       " ('remainder__gr_liv_area', inf),\n",
       " ('remainder__yr_sold', 245.87688986417564),\n",
       " ('remainder__pid_1', 163.407102843969),\n",
       " ('ohe__exterior_2nd_VinylSd', 129.91226643404457),\n",
       " ('ohe__exterior_1st_VinylSd', 109.11720613532914),\n",
       " ('ohe__exterior_2nd_MetalSd', 95.46770870792264),\n",
       " ('remainder__pid_2', 87.18021250074874),\n",
       " ('ohe__exterior_1st_MetalSd', 84.02964640704673),\n",
       " ('ohe__roof_style_Gable', 77.54629431336515),\n",
       " ('ohe__roof_style_Hip', 74.05325815388464),\n",
       " ('ohe__exterior_2nd_HdBoard', 58.064169462467376),\n",
       " ('ohe__exterior_2nd_Wd Sdng', 55.19960706370978),\n",
       " ('ohe__exterior_1st_HdBoard', 51.17821876761946),\n",
       " ('ohe__exterior_1st_Wd Sdng', 46.73171732777966),\n",
       " ('ohe__exterior_2nd_CmentBd', 46.70294493598491),\n",
       " ('ohe__exterior_1st_CemntBd', 43.14450701984665),\n",
       " ('ohe__exterior_2nd_Plywood', 38.457948696336295),\n",
       " ('ohe__roof_matl_CompShg', 32.62937727445359),\n",
       " ('ohe__exterior_1st_Plywood', 27.421837042954714),\n",
       " ('ohe__roof_matl_Tar&Grv', 21.238816223244083),\n",
       " ('ohe__neighborhood_NAmes', 19.989700235851103),\n",
       " ('ohe__neighborhood_CollgCr', 16.916817260937925),\n",
       " ('ohe__neighborhood_Mitchel', 15.713203381093372),\n",
       " ('ohe__neighborhood_OldTown', 14.682785876124349),\n",
       " ('ohe__exterior_2nd_Wd Shng', 14.479463155293582),\n",
       " ('ohe__neighborhood_Edwards', 13.452422431969493),\n",
       " ('remainder__year_built', 11.116633515812184),\n",
       " ('ohe__exterior_1st_BrkFace', 10.58824721178528),\n",
       " ('ohe__exterior_2nd_Brk Cmn', 10.287851812836758),\n",
       " ('ohe__neighborhood_IDOTRR', 9.855801651418991),\n",
       " ('ohe__neighborhood_Sawyer', 9.654051156757793),\n",
       " ('ohe__neighborhood_Somerst', 9.397379138203824),\n",
       " ('ohe__exterior_1st_WdShing', 8.947230445021443),\n",
       " ('ohe__exterior_2nd_Stucco', 8.396677259568879),\n",
       " ('ohe__neighborhood_BrkSide', 8.34416858070575),\n",
       " ('ohe__neighborhood_Crawfor', 8.263017353476338),\n",
       " ('ohe__exterior_2nd_BrkFace', 8.203436741790021),\n",
       " ('ohe__roof_matl_WdShake', 8.108925901128819),\n",
       " ('ohe__neighborhood_Timber', 8.068704336518381),\n",
       " ('ohe__neighborhood_Gilbert', 7.8223378778266195),\n",
       " ('ohe__foundation_PConc', 7.646749738244029),\n",
       " ('ohe__neighborhood_SawyerW', 7.518175095834598),\n",
       " ('ohe__neighborhood_NWAmes', 7.321282383766702),\n",
       " ('ohe__neighborhood_NridgHt', 7.026700728293112),\n",
       " ('remainder__house_style', 6.92489754105913),\n",
       " ('ohe__neighborhood_MeadowV', 6.651749839110224),\n",
       " ('ohe__neighborhood_NPkVill', 6.58831153675502),\n",
       " ('ohe__exterior_1st_Stucco', 6.497162957796309),\n",
       " ('remainder__garage_cond', 6.458211008669172),\n",
       " ('remainder__garage_qual', 6.3781927827928815),\n",
       " ('ohe__foundation_CBlock', 6.13622705596723),\n",
       " ('ohe__roof_matl_WdShngl', 6.108673954291308),\n",
       " ('remainder__pool_area', 5.869240041519073),\n",
       " ('remainder__totrms_abvgrd', 5.413130229276806),\n",
       " ('remainder__pool_qc', 5.0693480558951505),\n",
       " ('remainder__overall_qual', 4.931374274901443),\n",
       " ('ohe__neighborhood_NoRidge', 4.377724659979582),\n",
       " ('remainder__ms_subclass', 4.204818100232556),\n",
       " ('remainder__exter_qual', 4.102311128309938),\n",
       " ('ohe__neighborhood_SWISU', 4.062936332780801),\n",
       " ('ohe__roof_style_Gambrel', 4.061757897080412),\n",
       " ('ohe__exterior_2nd_ImStucc', 3.9567656891722147),\n",
       " ('remainder__bsmt_qual', 3.9337733187123662),\n",
       " ('ohe__sale_type_WD ', 3.862756499104179),\n",
       " ('ohe__sale_type_New', 3.80197627384646),\n",
       " ('remainder__fireplaces', 3.795114296251602),\n",
       " ('remainder__ms_zoning', 3.727637792547678),\n",
       " ('ohe__neighborhood_ClearCr', 3.506130929033735),\n",
       " ('remainder__year_remod/add', 3.4665397768716972),\n",
       " ('ohe__neighborhood_StoneBr', 3.403969173091287),\n",
       " ('remainder__full_bath', 3.3690539473498),\n",
       " ('ohe__exterior_2nd_AsphShn', 3.3455794038659077),\n",
       " ('remainder__fireplace_qu', 3.0980931448128155),\n",
       " ('remainder__kitchen_qual', 3.0663594681496313),\n",
       " ('ohe__roof_matl_Membran', 2.9741882609640595),\n",
       " ('remainder__bldg_type', 2.8832336721953746),\n",
       " ('ohe__roof_style_Mansard', 2.8311151966127186),\n",
       " ('remainder__bedroom_abvgr', 2.741281605113905),\n",
       " ('ohe__exterior_1st_AsphShn', 2.7138971927877646),\n",
       " ('ohe__neighborhood_BrDale', 2.6704012501012975),\n",
       " ('remainder__lot_area', 2.548598728250911),\n",
       " ('remainder__garage_type', 2.5280143741693917),\n",
       " ('remainder__pid_3', 2.479842156415909),\n",
       " ('remainder__half_bath', 2.4730011434263215),\n",
       " ('remainder__garage_finish', 2.44621893127588),\n",
       " ('ohe__foundation_Slab', 2.4404856609920795),\n",
       " ('ohe__exterior_2nd_Stone', 2.440217940709971),\n",
       " ('ohe__exterior_1st_BrkComm', 2.4172097060822955),\n",
       " ('ohe__exterior_2nd_CBlock', 2.384062528524079),\n",
       " ('remainder__overall_cond', 2.32760143916654),\n",
       " ('ohe__neighborhood_Veenker', 2.2950728305499353),\n",
       " ('remainder__heating_qc', 2.2108311767703066),\n",
       " ('ohe__exterior_1st_Stone', 2.2001321966076888),\n",
       " ('ohe__exterior_1st_CBlock', 2.1733583098922287),\n",
       " ('remainder__bsmt_cond', 2.1681302111615355),\n",
       " ('remainder__kitchen_abvgr', 2.101229944194403),\n",
       " ('remainder__bsmt_exposure', 1.9600845931836135),\n",
       " ('ohe__roof_style_Shed', 1.940020872778914),\n",
       " ('ohe__neighborhood_Blueste', 1.9230924044330082),\n",
       " ('remainder__bsmtfin_type_2', 1.8596184293969402),\n",
       " ('remainder__paved_drive', 1.8554713749786722),\n",
       " ('remainder__central_air', 1.8486462465086622),\n",
       " ('remainder__alley', 1.6496317320030809),\n",
       " ('remainder__bsmtfin_type_1', 1.562288083814473),\n",
       " ('remainder__electrical', 1.5113958538825243),\n",
       " ('remainder__land_contour', 1.489442669815664),\n",
       " ('remainder__pid_4', 1.4786984077013845),\n",
       " ('remainder__open_porch_sf', 1.4577610416282905),\n",
       " ('remainder__enclosed_porch', 1.4516246327838003),\n",
       " ('ohe__exterior_1st_ImStucc', 1.444233583872631),\n",
       " ('remainder__exter_cond', 1.4410727887424701),\n",
       " ('remainder__lot_shape', 1.43788767646459),\n",
       " ('ohe__neighborhood_GrnHill', 1.4335495298397372),\n",
       " ('remainder__wood_deck_sf', 1.4313917610729927),\n",
       " ('remainder__functional', 1.4313505232784223),\n",
       " ('ohe__heating_Wall', 1.4266766327686888),\n",
       " ('ohe__sale_type_ConLD', 1.420062542825597),\n",
       " ('remainder__land_slope', 1.4187977487025991),\n",
       " ('remainder__condition_1', 1.3606274917641872),\n",
       " ('remainder__condition_2', 1.3056865285780204),\n",
       " ('ohe__heating_GasW', 1.2980835480613298),\n",
       " ('ohe__sale_type_CWD', 1.2652026038042088),\n",
       " ('ohe__neighborhood_Greens', 1.2388187928070258),\n",
       " ('remainder__screen_porch', 1.2384947032073284),\n",
       " ('remainder__fence_wood', 1.2348694371502602),\n",
       " ('remainder__fence_prv', 1.2099307957368728),\n",
       " ('ohe__neighborhood_Landmrk', 1.1897997570666363),\n",
       " ('ohe__foundation_Stone', 1.1845191184628727),\n",
       " ('remainder__misc_val', 1.1796135653040505),\n",
       " ('ohe__heating_Grav', 1.1700245983487645),\n",
       " ('remainder__lot_config', 1.1666112261696624),\n",
       " ('ohe__sale_type_Con', 1.159167189575998),\n",
       " ('remainder__street', 1.1432780374247418),\n",
       " ('remainder__mo_sold', 1.1426713545766174),\n",
       " ('ohe__heating_OthW', 1.126712433875498),\n",
       " ('ohe__sale_type_Oth', 1.126475851125539),\n",
       " ('ohe__sale_type_ConLI', 1.113289523977791),\n",
       " ('ohe__sale_type_ConLw', 1.093192576009795),\n",
       " ('remainder__3ssn_porch', 1.0912453030412612),\n",
       " ('ohe__foundation_Wood', 1.082596686586678)]"
      ]
     },
     "execution_count": 466,
     "metadata": {},
     "output_type": "execute_result"
    }
   ],
   "source": [
    "sorted(x,key=lambda x: x[1],reverse=True)"
   ]
  },
  {
   "cell_type": "code",
   "execution_count": 467,
   "id": "284369cb",
   "metadata": {},
   "outputs": [],
   "source": [
    "X_train.drop(columns=['remainder__1st_flr_sf','remainder__id','remainder__utilities',\n",
    "                      'remainder__2nd_flr_sf','remainder__low_qual_fin_sf'],inplace=True)\n",
    "X_val.drop(columns=['remainder__1st_flr_sf','remainder__id','remainder__utilities',\n",
    "                      'remainder__2nd_flr_sf','remainder__low_qual_fin_sf'],inplace=True)"
   ]
  },
  {
   "cell_type": "code",
   "execution_count": null,
   "id": "31f3308f",
   "metadata": {},
   "outputs": [],
   "source": []
  },
  {
   "cell_type": "code",
   "execution_count": null,
   "id": "a42a38c7",
   "metadata": {},
   "outputs": [],
   "source": []
  },
  {
   "cell_type": "code",
   "execution_count": null,
   "id": "58822804",
   "metadata": {},
   "outputs": [],
   "source": []
  },
  {
   "cell_type": "code",
   "execution_count": 468,
   "id": "e3a0f4d5",
   "metadata": {},
   "outputs": [],
   "source": [
    "poly = PolynomialFeatures(\n",
    "degree = 2,\n",
    "include_bias=False)"
   ]
  },
  {
   "cell_type": "code",
   "execution_count": 469,
   "id": "dad0bfd5",
   "metadata": {},
   "outputs": [
    {
     "data": {
      "text/plain": [
       "PolynomialFeatures(include_bias=False)"
      ]
     },
     "execution_count": 469,
     "metadata": {},
     "output_type": "execute_result"
    }
   ],
   "source": [
    "poly.fit(X_train,y_train)"
   ]
  },
  {
   "cell_type": "code",
   "execution_count": 470,
   "id": "9200e579",
   "metadata": {},
   "outputs": [],
   "source": [
    "X_train = poly.transform(X_train)"
   ]
  },
  {
   "cell_type": "code",
   "execution_count": 471,
   "id": "89daa30d",
   "metadata": {},
   "outputs": [],
   "source": [
    "X_val = poly.transform(X_val)"
   ]
  },
  {
   "cell_type": "code",
   "execution_count": 475,
   "id": "c182ffe7",
   "metadata": {},
   "outputs": [],
   "source": [
    "X_train = pd.DataFrame(data = X_train, columns = poly.get_feature_names_out())\n",
    "X_val = pd.DataFrame(data = X_val, columns = poly.get_feature_names_out())"
   ]
  },
  {
   "cell_type": "code",
   "execution_count": 476,
   "id": "e7809066",
   "metadata": {},
   "outputs": [],
   "source": [
    "\n",
    "X_train.to_csv('./datasets/X_train.csv')"
   ]
  },
  {
   "cell_type": "code",
   "execution_count": 477,
   "id": "f3c9d7e4",
   "metadata": {},
   "outputs": [],
   "source": [
    "X_val.to_csv('./datasets/X_val.csv')"
   ]
  },
  {
   "cell_type": "code",
   "execution_count": 478,
   "id": "53b8a057",
   "metadata": {},
   "outputs": [],
   "source": [
    "y_train.to_csv('./datasets/y_train.csv')\n",
    "y_val.to_csv('./datasets/y_val.csv')"
   ]
  },
  {
   "cell_type": "code",
   "execution_count": null,
   "id": "f995223c",
   "metadata": {},
   "outputs": [],
   "source": []
  },
  {
   "cell_type": "code",
   "execution_count": null,
   "id": "d0ce0a2e",
   "metadata": {},
   "outputs": [],
   "source": []
  },
  {
   "cell_type": "code",
   "execution_count": null,
   "id": "04bb67ce",
   "metadata": {},
   "outputs": [],
   "source": []
  },
  {
   "cell_type": "code",
   "execution_count": null,
   "id": "8e6c1c32",
   "metadata": {},
   "outputs": [],
   "source": []
  },
  {
   "cell_type": "code",
   "execution_count": null,
   "id": "206dbe60",
   "metadata": {},
   "outputs": [],
   "source": []
  },
  {
   "cell_type": "code",
   "execution_count": 377,
   "id": "e92c59bb",
   "metadata": {},
   "outputs": [],
   "source": [
    "ctx = ColumnTransformer(transformers = [\n",
    "    ('ohe',OneHotEncoder(\n",
    "        drop='first',\n",
    "        sparse=False,\n",
    "        handle_unknown='ignore'),\n",
    "     ['neighborhood','roof_style','roof_matl','exterior_1st','exterior_2nd',\n",
    "      'heating','foundation','sale_type'])\n",
    "],remainder='passthrough')"
   ]
  },
  {
   "cell_type": "code",
   "execution_count": 378,
   "id": "efa9b641",
   "metadata": {},
   "outputs": [],
   "source": [
    "pipe = Pipeline(\n",
    "    steps = [\n",
    "    ('ctx',ctx),\n",
    "    ('ss',StandardScaler()),\n",
    "])"
   ]
  },
  {
   "cell_type": "code",
   "execution_count": null,
   "id": "44dbd2a3",
   "metadata": {},
   "outputs": [],
   "source": []
  },
  {
   "cell_type": "code",
   "execution_count": 379,
   "id": "7251f67a",
   "metadata": {},
   "outputs": [
    {
     "data": {
      "text/plain": [
       "Pipeline(steps=[('ctx',\n",
       "                 ColumnTransformer(remainder='passthrough',\n",
       "                                   transformers=[('ohe',\n",
       "                                                  OneHotEncoder(drop='first',\n",
       "                                                                handle_unknown='ignore',\n",
       "                                                                sparse=False),\n",
       "                                                  ['neighborhood', 'roof_style',\n",
       "                                                   'roof_matl', 'exterior_1st',\n",
       "                                                   'exterior_2nd', 'heating',\n",
       "                                                   'foundation',\n",
       "                                                   'sale_type'])])),\n",
       "                ('ss', StandardScaler())])"
      ]
     },
     "execution_count": 379,
     "metadata": {},
     "output_type": "execute_result"
    }
   ],
   "source": [
    "pipe.fit(X_train,y_train)"
   ]
  },
  {
   "cell_type": "code",
   "execution_count": 380,
   "id": "ab52aa3e",
   "metadata": {},
   "outputs": [],
   "source": [
    "X_train = pipe.transform(X_train)\n",
    "X_val = pipe.transform(X_val)"
   ]
  },
  {
   "cell_type": "code",
   "execution_count": 381,
   "id": "2ff15f77",
   "metadata": {},
   "outputs": [],
   "source": [
    "X_train = pd.DataFrame(data = X_train, columns = pipe.get_feature_names_out())"
   ]
  },
  {
   "cell_type": "code",
   "execution_count": 382,
   "id": "fa04a4a4",
   "metadata": {},
   "outputs": [],
   "source": [
    "X_val = pd.DataFrame(data = X_val, columns = pipe.get_feature_names_out())"
   ]
  },
  {
   "cell_type": "code",
   "execution_count": 383,
   "id": "6673c031",
   "metadata": {},
   "outputs": [
    {
     "name": "stderr",
     "output_type": "stream",
     "text": [
      "C:\\Anaconda\\lib\\site-packages\\statsmodels\\regression\\linear_model.py:1738: RuntimeWarning: invalid value encountered in double_scalars\n",
      "  return 1 - self.ssr/self.uncentered_tss\n",
      "C:\\Anaconda\\lib\\site-packages\\statsmodels\\stats\\outliers_influence.py:195: RuntimeWarning: divide by zero encountered in double_scalars\n",
      "  vif = 1. / (1. - r_squared_i)\n"
     ]
    }
   ],
   "source": [
    "x = [(X_train.columns[col], variance_inflation_factor(X_train,col)) for col in range(len(X_train.columns))]"
   ]
  },
  {
   "cell_type": "code",
   "execution_count": 384,
   "id": "a4fa489b",
   "metadata": {},
   "outputs": [
    {
     "data": {
      "text/plain": [
       "[('remainder__1st_flr_sf', inf),\n",
       " ('remainder__id', 257.89400639229234),\n",
       " ('remainder__utilities', nan),\n",
       " ('remainder__2nd_flr_sf', inf),\n",
       " ('remainder__low_qual_fin_sf', inf),\n",
       " ('remainder__gr_liv_area', inf),\n",
       " ('remainder__yr_sold', 245.87688986417564),\n",
       " ('remainder__pid_1', 163.407102843969),\n",
       " ('ohe__exterior_2nd_VinylSd', 129.91226643404457),\n",
       " ('ohe__exterior_1st_VinylSd', 109.11720613532914),\n",
       " ('ohe__exterior_2nd_MetalSd', 95.46770870792264),\n",
       " ('remainder__pid_2', 87.18021250074874),\n",
       " ('ohe__exterior_1st_MetalSd', 84.02964640704673),\n",
       " ('ohe__roof_style_Gable', 77.54629431336515),\n",
       " ('ohe__roof_style_Hip', 74.05325815388464),\n",
       " ('ohe__exterior_2nd_HdBoard', 58.064169462467376),\n",
       " ('ohe__exterior_2nd_Wd Sdng', 55.19960706370978),\n",
       " ('ohe__exterior_1st_HdBoard', 51.17821876761946),\n",
       " ('ohe__exterior_1st_Wd Sdng', 46.73171732777966),\n",
       " ('ohe__exterior_2nd_CmentBd', 46.70294493598491),\n",
       " ('ohe__exterior_1st_CemntBd', 43.14450701984665),\n",
       " ('ohe__exterior_2nd_Plywood', 38.457948696336295),\n",
       " ('ohe__roof_matl_CompShg', 32.62937727445359),\n",
       " ('ohe__exterior_1st_Plywood', 27.421837042954714),\n",
       " ('ohe__roof_matl_Tar&Grv', 21.238816223244083),\n",
       " ('ohe__neighborhood_NAmes', 19.989700235851103),\n",
       " ('ohe__neighborhood_CollgCr', 16.916817260937925),\n",
       " ('ohe__neighborhood_Mitchel', 15.713203381093372),\n",
       " ('ohe__neighborhood_OldTown', 14.682785876124349),\n",
       " ('ohe__exterior_2nd_Wd Shng', 14.479463155293582),\n",
       " ('ohe__neighborhood_Edwards', 13.452422431969493),\n",
       " ('remainder__year_built', 11.116633515812184),\n",
       " ('ohe__exterior_1st_BrkFace', 10.58824721178528),\n",
       " ('ohe__exterior_2nd_Brk Cmn', 10.287851812836758),\n",
       " ('ohe__neighborhood_IDOTRR', 9.855801651418991),\n",
       " ('ohe__neighborhood_Sawyer', 9.654051156757793),\n",
       " ('ohe__neighborhood_Somerst', 9.397379138203824),\n",
       " ('ohe__exterior_1st_WdShing', 8.947230445021443),\n",
       " ('ohe__exterior_2nd_Stucco', 8.396677259568879),\n",
       " ('ohe__neighborhood_BrkSide', 8.34416858070575),\n",
       " ('ohe__neighborhood_Crawfor', 8.263017353476338),\n",
       " ('ohe__exterior_2nd_BrkFace', 8.203436741790021),\n",
       " ('ohe__roof_matl_WdShake', 8.108925901128819),\n",
       " ('ohe__neighborhood_Timber', 8.068704336518381),\n",
       " ('ohe__neighborhood_Gilbert', 7.8223378778266195),\n",
       " ('ohe__foundation_PConc', 7.646749738244029),\n",
       " ('ohe__neighborhood_SawyerW', 7.518175095834598),\n",
       " ('ohe__neighborhood_NWAmes', 7.321282383766702),\n",
       " ('ohe__neighborhood_NridgHt', 7.026700728293112),\n",
       " ('remainder__house_style', 6.92489754105913),\n",
       " ('ohe__neighborhood_MeadowV', 6.651749839110224),\n",
       " ('ohe__neighborhood_NPkVill', 6.58831153675502),\n",
       " ('ohe__exterior_1st_Stucco', 6.497162957796309),\n",
       " ('remainder__garage_cond', 6.458211008669172),\n",
       " ('remainder__garage_qual', 6.3781927827928815),\n",
       " ('ohe__foundation_CBlock', 6.13622705596723),\n",
       " ('ohe__roof_matl_WdShngl', 6.108673954291308),\n",
       " ('remainder__pool_area', 5.869240041519073),\n",
       " ('remainder__totrms_abvgrd', 5.413130229276806),\n",
       " ('remainder__pool_qc', 5.0693480558951505),\n",
       " ('remainder__overall_qual', 4.931374274901443),\n",
       " ('ohe__neighborhood_NoRidge', 4.377724659979582),\n",
       " ('remainder__ms_subclass', 4.204818100232556),\n",
       " ('remainder__exter_qual', 4.102311128309938),\n",
       " ('ohe__neighborhood_SWISU', 4.062936332780801),\n",
       " ('ohe__roof_style_Gambrel', 4.061757897080412),\n",
       " ('ohe__exterior_2nd_ImStucc', 3.9567656891722147),\n",
       " ('remainder__bsmt_qual', 3.9337733187123662),\n",
       " ('ohe__sale_type_WD ', 3.862756499104179),\n",
       " ('ohe__sale_type_New', 3.80197627384646),\n",
       " ('remainder__fireplaces', 3.795114296251602),\n",
       " ('remainder__ms_zoning', 3.727637792547678),\n",
       " ('ohe__neighborhood_ClearCr', 3.506130929033735),\n",
       " ('remainder__year_remod/add', 3.4665397768716972),\n",
       " ('ohe__neighborhood_StoneBr', 3.403969173091287),\n",
       " ('remainder__full_bath', 3.3690539473498),\n",
       " ('ohe__exterior_2nd_AsphShn', 3.3455794038659077),\n",
       " ('remainder__fireplace_qu', 3.0980931448128155),\n",
       " ('remainder__kitchen_qual', 3.0663594681496313),\n",
       " ('ohe__roof_matl_Membran', 2.9741882609640595),\n",
       " ('remainder__bldg_type', 2.8832336721953746),\n",
       " ('ohe__roof_style_Mansard', 2.8311151966127186),\n",
       " ('remainder__bedroom_abvgr', 2.741281605113905),\n",
       " ('ohe__exterior_1st_AsphShn', 2.7138971927877646),\n",
       " ('ohe__neighborhood_BrDale', 2.6704012501012975),\n",
       " ('remainder__lot_area', 2.548598728250911),\n",
       " ('remainder__garage_type', 2.5280143741693917),\n",
       " ('remainder__pid_3', 2.479842156415909),\n",
       " ('remainder__half_bath', 2.4730011434263215),\n",
       " ('remainder__garage_finish', 2.44621893127588),\n",
       " ('ohe__foundation_Slab', 2.4404856609920795),\n",
       " ('ohe__exterior_2nd_Stone', 2.440217940709971),\n",
       " ('ohe__exterior_1st_BrkComm', 2.4172097060822955),\n",
       " ('ohe__exterior_2nd_CBlock', 2.384062528524079),\n",
       " ('remainder__overall_cond', 2.32760143916654),\n",
       " ('ohe__neighborhood_Veenker', 2.2950728305499353),\n",
       " ('remainder__heating_qc', 2.2108311767703066),\n",
       " ('ohe__exterior_1st_Stone', 2.2001321966076888),\n",
       " ('ohe__exterior_1st_CBlock', 2.1733583098922287),\n",
       " ('remainder__bsmt_cond', 2.1681302111615355),\n",
       " ('remainder__kitchen_abvgr', 2.101229944194403),\n",
       " ('remainder__bsmt_exposure', 1.9600845931836135),\n",
       " ('ohe__roof_style_Shed', 1.940020872778914),\n",
       " ('ohe__neighborhood_Blueste', 1.9230924044330082),\n",
       " ('remainder__bsmtfin_type_2', 1.8596184293969402),\n",
       " ('remainder__paved_drive', 1.8554713749786722),\n",
       " ('remainder__central_air', 1.8486462465086622),\n",
       " ('remainder__alley', 1.6496317320030809),\n",
       " ('remainder__bsmtfin_type_1', 1.562288083814473),\n",
       " ('remainder__electrical', 1.5113958538825243),\n",
       " ('remainder__land_contour', 1.489442669815664),\n",
       " ('remainder__pid_4', 1.4786984077013845),\n",
       " ('remainder__open_porch_sf', 1.4577610416282905),\n",
       " ('remainder__enclosed_porch', 1.4516246327838003),\n",
       " ('ohe__exterior_1st_ImStucc', 1.444233583872631),\n",
       " ('remainder__exter_cond', 1.4410727887424701),\n",
       " ('remainder__lot_shape', 1.43788767646459),\n",
       " ('ohe__neighborhood_GrnHill', 1.4335495298397372),\n",
       " ('remainder__wood_deck_sf', 1.4313917610729927),\n",
       " ('remainder__functional', 1.4313505232784223),\n",
       " ('ohe__heating_Wall', 1.4266766327686888),\n",
       " ('ohe__sale_type_ConLD', 1.420062542825597),\n",
       " ('remainder__land_slope', 1.4187977487025991),\n",
       " ('remainder__condition_1', 1.3606274917641872),\n",
       " ('remainder__condition_2', 1.3056865285780204),\n",
       " ('ohe__heating_GasW', 1.2980835480613298),\n",
       " ('ohe__sale_type_CWD', 1.2652026038042088),\n",
       " ('ohe__neighborhood_Greens', 1.2388187928070258),\n",
       " ('remainder__screen_porch', 1.2384947032073284),\n",
       " ('remainder__fence_wood', 1.2348694371502602),\n",
       " ('remainder__fence_prv', 1.2099307957368728),\n",
       " ('ohe__neighborhood_Landmrk', 1.1897997570666363),\n",
       " ('ohe__foundation_Stone', 1.1845191184628727),\n",
       " ('remainder__misc_val', 1.1796135653040505),\n",
       " ('ohe__heating_Grav', 1.1700245983487645),\n",
       " ('remainder__lot_config', 1.1666112261696624),\n",
       " ('ohe__sale_type_Con', 1.159167189575998),\n",
       " ('remainder__street', 1.1432780374247418),\n",
       " ('remainder__mo_sold', 1.1426713545766174),\n",
       " ('ohe__heating_OthW', 1.126712433875498),\n",
       " ('ohe__sale_type_Oth', 1.126475851125539),\n",
       " ('ohe__sale_type_ConLI', 1.113289523977791),\n",
       " ('ohe__sale_type_ConLw', 1.093192576009795),\n",
       " ('remainder__3ssn_porch', 1.0912453030412612),\n",
       " ('ohe__foundation_Wood', 1.082596686586678)]"
      ]
     },
     "execution_count": 384,
     "metadata": {},
     "output_type": "execute_result"
    }
   ],
   "source": [
    "sorted(x,key=lambda x: x[1],reverse=True)"
   ]
  },
  {
   "cell_type": "code",
   "execution_count": 385,
   "id": "12382d2d",
   "metadata": {},
   "outputs": [
    {
     "data": {
      "text/plain": [
       "[('ohe__exterior_2nd_VinylSd', 129.6634575010401),\n",
       " ('ohe__exterior_1st_VinylSd', 108.94044100764502),\n",
       " ('ohe__exterior_2nd_MetalSd', 95.3901807983008),\n",
       " ('remainder__pid_1', 92.7089493512871),\n",
       " ('ohe__exterior_1st_MetalSd', 83.97683040870534),\n",
       " ('ohe__roof_style_Gable', 77.4167879649698),\n",
       " ('ohe__roof_style_Hip', 73.96509785674297),\n",
       " ('ohe__exterior_2nd_HdBoard', 57.87402812472054),\n",
       " ('ohe__exterior_2nd_Wd Sdng', 55.1320241627533),\n",
       " ('remainder__pid_2', 54.89715715534771),\n",
       " ('ohe__exterior_1st_HdBoard', 50.96400527720432),\n",
       " ('ohe__exterior_1st_Wd Sdng', 46.688003346802525),\n",
       " ('ohe__exterior_2nd_CmentBd', 46.26491367183146),\n",
       " ('ohe__exterior_1st_CemntBd', 42.711326799631266),\n",
       " ('ohe__exterior_2nd_Plywood', 38.28630081874023),\n",
       " ('ohe__roof_matl_CompShg', 32.53584730100593),\n",
       " ('ohe__exterior_1st_Plywood', 27.362609662784347),\n",
       " ('ohe__roof_matl_Tar&Grv', 21.18621530697453),\n",
       " ('ohe__neighborhood_NAmes', 19.956902523250182),\n",
       " ('ohe__neighborhood_CollgCr', 16.90755981699915),\n",
       " ('ohe__neighborhood_Mitchel', 15.136629092427645),\n",
       " ('ohe__neighborhood_OldTown', 14.680131425627842),\n",
       " ('ohe__exterior_2nd_Wd Shng', 14.451359460390556),\n",
       " ('ohe__neighborhood_Edwards', 13.443091232686042),\n",
       " ('remainder__year_built', 10.908218011302036),\n",
       " ('ohe__exterior_1st_BrkFace', 10.582297866320195),\n",
       " ('ohe__exterior_2nd_Brk Cmn', 10.260372760181895),\n",
       " ('ohe__neighborhood_IDOTRR', 9.844776251185822),\n",
       " ('ohe__neighborhood_Sawyer', 9.637885463189441),\n",
       " ('ohe__neighborhood_Somerst', 9.389832368161372),\n",
       " ('ohe__exterior_1st_WdShing', 8.934893281334663),\n",
       " ('remainder__gr_liv_area', 8.663287971819653),\n",
       " ('ohe__exterior_2nd_Stucco', 8.364109788595618),\n",
       " ('ohe__neighborhood_BrkSide', 8.34152472569743),\n",
       " ('ohe__neighborhood_Crawfor', 8.254576587973844),\n",
       " ('ohe__exterior_2nd_BrkFace', 8.180358497099173),\n",
       " ('ohe__roof_matl_WdShake', 8.08699486213571),\n",
       " ('ohe__neighborhood_Timber', 7.955124403154809),\n",
       " ('ohe__neighborhood_Gilbert', 7.814815202405017),\n",
       " ('ohe__foundation_PConc', 7.623351683510434),\n",
       " ('ohe__neighborhood_SawyerW', 7.516586450641396),\n",
       " ('ohe__neighborhood_NWAmes', 7.290631761941616),\n",
       " ('ohe__neighborhood_NridgHt', 7.023733200915614),\n",
       " ('ohe__neighborhood_NPkVill', 6.582004138178793),\n",
       " ('ohe__exterior_1st_Stucco', 6.476927766245075),\n",
       " ('remainder__garage_cond', 6.457654425652688),\n",
       " ('ohe__neighborhood_MeadowV', 6.399167159281611),\n",
       " ('remainder__garage_qual', 6.315835090469514),\n",
       " ('ohe__foundation_CBlock', 6.108580150976539),\n",
       " ('ohe__roof_matl_WdShngl', 6.026427591008032),\n",
       " ('remainder__pool_area', 5.853114307939865),\n",
       " ('remainder__totrms_abvgrd', 5.373537801969144),\n",
       " ('remainder__pool_qc', 5.059726232389185),\n",
       " ('remainder__overall_qual', 4.838550090086613),\n",
       " ('ohe__neighborhood_NoRidge', 4.359288400842532),\n",
       " ('remainder__ms_subclass', 4.189164687723805),\n",
       " ('remainder__exter_qual', 4.0907696319379445),\n",
       " ('ohe__roof_style_Gambrel', 4.055633293055048),\n",
       " ('ohe__neighborhood_SWISU', 4.05352926288385),\n",
       " ('ohe__exterior_2nd_ImStucc', 3.9415326046237427),\n",
       " ('remainder__bsmt_qual', 3.909447556995772),\n",
       " ('ohe__sale_type_WD ', 3.8527674095859066),\n",
       " ('ohe__sale_type_New', 3.79361670258835),\n",
       " ('remainder__fireplaces', 3.7899001085383963),\n",
       " ('remainder__ms_zoning', 3.7249536879094083),\n",
       " ('remainder__house_style', 3.518121932559984),\n",
       " ('ohe__neighborhood_ClearCr', 3.49941572273962),\n",
       " ('remainder__year_remod/add', 3.4615900851487718),\n",
       " ('ohe__neighborhood_StoneBr', 3.399268288462554),\n",
       " ('remainder__full_bath', 3.350348919476851),\n",
       " ('ohe__exterior_2nd_AsphShn', 3.340379040369722),\n",
       " ('remainder__fireplace_qu', 3.0943152056708136),\n",
       " ('remainder__kitchen_qual', 3.0582516567515396),\n",
       " ('ohe__roof_matl_Membran', 2.9547775062032975),\n",
       " ('remainder__bldg_type', 2.869899992268031),\n",
       " ('ohe__roof_style_Mansard', 2.82805394631632),\n",
       " ('ohe__exterior_1st_AsphShn', 2.705165511593224),\n",
       " ('remainder__bedroom_abvgr', 2.6822386156957942),\n",
       " ('ohe__neighborhood_BrDale', 2.656306016778077),\n",
       " ('remainder__garage_type', 2.5097018657748533),\n",
       " ('remainder__lot_area', 2.4453160595647145),\n",
       " ('remainder__garage_finish', 2.44016866780025),\n",
       " ('ohe__exterior_2nd_Stone', 2.4328188421202745),\n",
       " ('ohe__foundation_Slab', 2.4267733156931257),\n",
       " ('ohe__exterior_1st_BrkComm', 2.4129524449038233),\n",
       " ('remainder__pid_3', 2.4102959950592933),\n",
       " ('ohe__exterior_2nd_CBlock', 2.3833219708758286),\n",
       " ('remainder__overall_cond', 2.323392617724445),\n",
       " ('remainder__half_bath', 2.3206627244602744),\n",
       " ('ohe__neighborhood_Veenker', 2.284810486906316),\n",
       " ('remainder__heating_qc', 2.203346223283174),\n",
       " ('ohe__exterior_1st_Stone', 2.1948639468903752),\n",
       " ('ohe__exterior_1st_CBlock', 2.1727060672192215),\n",
       " ('remainder__bsmt_cond', 2.160985875161133),\n",
       " ('remainder__kitchen_abvgr', 2.0679457169736013),\n",
       " ('ohe__roof_style_Shed', 1.9356891431421155),\n",
       " ('ohe__neighborhood_Blueste', 1.9227927987404374),\n",
       " ('remainder__bsmtfin_type_2', 1.8586185012218395),\n",
       " ('remainder__paved_drive', 1.8485589087428567),\n",
       " ('remainder__central_air', 1.846530261007905),\n",
       " ('remainder__bsmt_exposure', 1.8394684344033705),\n",
       " ('remainder__alley', 1.6479140620475023),\n",
       " ('remainder__bsmtfin_type_1', 1.559150993616369),\n",
       " ('remainder__electrical', 1.504454901827221),\n",
       " ('remainder__pid_4', 1.4760261954396983),\n",
       " ('remainder__land_contour', 1.4592390725202087),\n",
       " ('remainder__open_porch_sf', 1.4546042976188296),\n",
       " ('remainder__enclosed_porch', 1.4499423156846545),\n",
       " ('ohe__exterior_1st_ImStucc', 1.4425291615228168),\n",
       " ('remainder__lot_shape', 1.4362267100525896),\n",
       " ('remainder__exter_cond', 1.4358625144123274),\n",
       " ('ohe__neighborhood_GrnHill', 1.43179341715577),\n",
       " ('remainder__wood_deck_sf', 1.4261819008569634),\n",
       " ('ohe__heating_Wall', 1.4239483077368824),\n",
       " ('ohe__sale_type_ConLD', 1.4179475724168775),\n",
       " ('remainder__land_slope', 1.4177466381381663),\n",
       " ('remainder__functional', 1.414373569392455),\n",
       " ('remainder__condition_1', 1.3579669139086503),\n",
       " ('remainder__condition_2', 1.3003130758849266),\n",
       " ('ohe__heating_GasW', 1.2960210953062445),\n",
       " ('ohe__sale_type_CWD', 1.2645821773295411),\n",
       " ('remainder__screen_porch', 1.2374028330241753),\n",
       " ('ohe__neighborhood_Greens', 1.2362811066328485),\n",
       " ('remainder__fence_wood', 1.2331924065525042),\n",
       " ('remainder__fence_prv', 1.2093673903590383),\n",
       " ('ohe__neighborhood_Landmrk', 1.1893454385859261),\n",
       " ('ohe__foundation_Stone', 1.1831317725138553),\n",
       " ('remainder__yr_sold', 1.1728961436627894),\n",
       " ('remainder__misc_val', 1.1671790465894603),\n",
       " ('remainder__lot_config', 1.1660062256456443),\n",
       " ('ohe__heating_Grav', 1.1659439640139198),\n",
       " ('ohe__sale_type_Con', 1.1568532159688047),\n",
       " ('remainder__street', 1.1420410436033344),\n",
       " ('ohe__sale_type_Oth', 1.1253507363513633),\n",
       " ('remainder__mo_sold', 1.124992999099006),\n",
       " ('ohe__heating_OthW', 1.1246404377097239),\n",
       " ('ohe__sale_type_ConLI', 1.1085674152979288),\n",
       " ('ohe__sale_type_ConLw', 1.0917374441094139),\n",
       " ('remainder__3ssn_porch', 1.090542000077654),\n",
       " ('ohe__foundation_Wood', 1.081999516782653)]"
      ]
     },
     "execution_count": 385,
     "metadata": {},
     "output_type": "execute_result"
    }
   ],
   "source": [
    "X_train.drop(columns=['remainder__1st_flr_sf','remainder__id','remainder__utilities',\n",
    "                      'remainder__2nd_flr_sf','remainder__low_qual_fin_sf'],inplace=True)\n",
    "X_val.drop(columns=['remainder__1st_flr_sf','remainder__id','remainder__utilities',\n",
    "                      'remainder__2nd_flr_sf','remainder__low_qual_fin_sf'],inplace=True)\n",
    "x = [(X_train.columns[col], variance_inflation_factor(X_train,col)) for col in range(len(X_train.columns))]\n",
    "sorted(x,key=lambda x: x[1],reverse=True)"
   ]
  },
  {
   "cell_type": "markdown",
   "id": "2e813dcf",
   "metadata": {},
   "source": [
    "##  Step 2:  Baseline scores after Step 1"
   ]
  },
  {
   "cell_type": "code",
   "execution_count": 386,
   "id": "4617b33b",
   "metadata": {},
   "outputs": [
    {
     "data": {
      "text/plain": [
       "LinearRegression()"
      ]
     },
     "execution_count": 386,
     "metadata": {},
     "output_type": "execute_result"
    }
   ],
   "source": [
    "lr = LinearRegression()\n",
    "model = 'lr'\n",
    "lr.fit(X_train,y_train)\n"
   ]
  },
  {
   "cell_type": "code",
   "execution_count": 387,
   "id": "8293ccb7",
   "metadata": {},
   "outputs": [
    {
     "data": {
      "text/plain": [
       "((513, 140), (513,))"
      ]
     },
     "execution_count": 387,
     "metadata": {},
     "output_type": "execute_result"
    }
   ],
   "source": [
    "X_train.shape,y_train.shape\n",
    "X_val.shape,y_val.shape"
   ]
  },
  {
   "cell_type": "code",
   "execution_count": 388,
   "id": "0b68746e",
   "metadata": {},
   "outputs": [],
   "source": [
    "train = lr.score(X_train,y_train)\n",
    "y_pred = lr.predict(X_val)\n",
    "test = lr.score(X_val,y_val)\n",
    "mse = mean_squared_error(y_val,y_pred,squared=False)\n",
    "scores = [model,train,test,mse]"
   ]
  },
  {
   "cell_type": "code",
   "execution_count": 389,
   "id": "45245de8",
   "metadata": {},
   "outputs": [
    {
     "data": {
      "text/plain": [
       "['lr', 0.9019003495758131, 0.882760260655939, 26830.111795289635]"
      ]
     },
     "execution_count": 389,
     "metadata": {},
     "output_type": "execute_result"
    }
   ],
   "source": [
    "scores"
   ]
  },
  {
   "cell_type": "code",
   "execution_count": 390,
   "id": "dc019fb9",
   "metadata": {},
   "outputs": [
    {
     "data": {
      "text/plain": [
       "['ridge', 0.9006643401946709, 0.8816150074721487, 26960.83792871951]"
      ]
     },
     "execution_count": 390,
     "metadata": {},
     "output_type": "execute_result"
    }
   ],
   "source": [
    "ridge = RidgeCV()\n",
    "model = 'ridge'\n",
    "ridge.fit(X_train,y_train)\n",
    "train = ridge.score(X_train,y_train)\n",
    "y_pred = ridge.predict(X_val)\n",
    "test = ridge.score(X_val,y_val)\n",
    "mse = mean_squared_error(y_val,y_pred,squared=False)\n",
    "scores = [model,train,test,mse]\n",
    "scores"
   ]
  },
  {
   "cell_type": "code",
   "execution_count": 391,
   "id": "1d41e6c3",
   "metadata": {
    "scrolled": true
   },
   "outputs": [
    {
     "data": {
      "text/plain": [
       "['lasso', 0.8796674896308648, 0.8828839017946517, 26815.960532831206]"
      ]
     },
     "execution_count": 391,
     "metadata": {},
     "output_type": "execute_result"
    }
   ],
   "source": [
    "lasso = LassoCV()\n",
    "model = 'lasso'\n",
    "lasso.fit(X_train,y_train)\n",
    "train = lasso.score(X_train,y_train)\n",
    "y_pred = lasso.predict(X_val)\n",
    "test = lasso.score(X_val,y_val)\n",
    "mse = mean_squared_error(y_val,y_pred,squared=False)\n",
    "scores = [model,train,test,mse]\n",
    "scores"
   ]
  },
  {
   "cell_type": "code",
   "execution_count": null,
   "id": "3a3d9934",
   "metadata": {},
   "outputs": [],
   "source": []
  },
  {
   "cell_type": "code",
   "execution_count": null,
   "id": "945d42c7",
   "metadata": {},
   "outputs": [],
   "source": []
  },
  {
   "cell_type": "markdown",
   "id": "9300df65",
   "metadata": {},
   "source": [
    "##  Step 3 Get best columns from Lasso"
   ]
  },
  {
   "cell_type": "code",
   "execution_count": 347,
   "id": "fbc6041e",
   "metadata": {},
   "outputs": [],
   "source": [
    "lasso_col = zip(X_train.columns, lasso.coef_)"
   ]
  },
  {
   "cell_type": "code",
   "execution_count": 348,
   "id": "980377b7",
   "metadata": {},
   "outputs": [],
   "source": [
    "lasso_col = [col for col,coef in lasso_col if abs(coef) > 0.0001]"
   ]
  },
  {
   "cell_type": "code",
   "execution_count": null,
   "id": "dd066b55",
   "metadata": {},
   "outputs": [],
   "source": []
  },
  {
   "cell_type": "code",
   "execution_count": null,
   "id": "f4ca699d",
   "metadata": {},
   "outputs": [],
   "source": []
  },
  {
   "cell_type": "code",
   "execution_count": null,
   "id": "e6ea4d04",
   "metadata": {},
   "outputs": [],
   "source": []
  },
  {
   "cell_type": "code",
   "execution_count": null,
   "id": "14fc856a",
   "metadata": {},
   "outputs": [],
   "source": []
  },
  {
   "cell_type": "code",
   "execution_count": 276,
   "id": "b1ba49f1",
   "metadata": {},
   "outputs": [
    {
     "name": "stderr",
     "output_type": "stream",
     "text": [
      "C:\\Anaconda\\lib\\site-packages\\sklearn\\linear_model\\_coordinate_descent.py:647: ConvergenceWarning: Objective did not converge. You might want to increase the number of iterations, check the scale of the features or consider increasing regularisation. Duality gap: 4.018e+11, tolerance: 9.727e+08\n",
      "  model = cd_fast.enet_coordinate_descent(\n"
     ]
    },
    {
     "data": {
      "text/plain": [
       "['enet', 0.9018996454981228, 0.882756965498898, 26830.488838138266]"
      ]
     },
     "execution_count": 276,
     "metadata": {},
     "output_type": "execute_result"
    }
   ],
   "source": [
    "enet = ElasticNet(\n",
    "alpha = 0.01,\n",
    "l1_ratio=0.99)\n",
    "\n",
    "model = 'enet'\n",
    "enet.fit(X_train,y_train)\n",
    "train = enet.score(X_train,y_train)\n",
    "y_pred = enet.predict(X_val)\n",
    "test = enet.score(X_val,y_val)\n",
    "mse = mean_squared_error(y_val,y_pred,squared=False)\n",
    "scores = [model,train,test,mse]\n",
    "scores"
   ]
  },
  {
   "cell_type": "code",
   "execution_count": 277,
   "id": "acd5ba37",
   "metadata": {},
   "outputs": [
    {
     "data": {
      "text/plain": [
       "array([ 3.97454600e+02,  1.76334341e+03,  3.30075691e+03,  6.06366156e+02,\n",
       "        8.88230971e+02,  4.70304794e+03,  3.27963507e+02, -2.66083201e+01,\n",
       "        1.17526955e+02,  4.02002662e+03,  1.92256128e+03,  2.39930564e+02,\n",
       "        2.25027629e+03,  4.27140175e+03,  3.87273232e+03,  1.82793170e+03,\n",
       "        1.48074182e+03,  6.03214511e+03,  1.11063034e+04,  1.97997461e+03,\n",
       "        1.27083318e+03,  2.46857069e+03,  4.26783895e+02,  3.16366098e+03,\n",
       "        8.12556650e+03,  2.20773232e+03,  6.87916191e+02,  3.13452996e+03,\n",
       "        4.85949392e+02,  8.01438271e+03, -2.12876371e+03, -5.68153792e+02,\n",
       "        4.95469686e+04,  1.19564523e+04,  3.70544404e+04,  2.23591374e+04,\n",
       "        2.16283747e+04, -6.71867863e+01, -6.61560962e+02,  8.94603473e+02,\n",
       "        9.21561738e+01,  7.54577065e+02, -2.33183655e+03, -2.16216687e+02,\n",
       "       -9.92570218e+02, -4.52782273e+02, -8.93994672e+02, -9.38039753e+02,\n",
       "        1.01916832e+03, -2.71876198e+03, -1.07151907e+03,  6.84825652e+02,\n",
       "        4.23487535e+02, -2.90621572e+01, -6.33744755e+02,  5.93986591e+02,\n",
       "        1.76619350e+03,  5.13721720e+02,  2.58727709e+03,  1.04191944e+03,\n",
       "       -3.39036137e+02,  5.63299960e+02,  5.78750799e+02,  2.27338700e+03,\n",
       "        1.21375940e+03,  1.56846369e+02, -1.34473200e+03, -1.93739181e+03,\n",
       "        6.18513911e+02, -1.10475247e+03,  9.02697036e+02, -3.71882842e+03,\n",
       "        3.37391326e+02, -3.52112927e+01,  7.44205237e+01,  1.69029836e+03,\n",
       "        9.19311459e+02, -2.34391193e+02,  9.57023854e+02,  6.88524510e+03,\n",
       "        1.47602255e+03,  2.90000357e+03, -1.06825000e+04,  1.33526317e+03,\n",
       "        6.63135158e+03,  7.94050935e+02, -9.08572074e+02,  4.34062670e+01,\n",
       "        2.26052785e+03,  9.97915468e+02,  1.81510805e+03,  2.11897357e+03,\n",
       "       -1.66335231e+02, -3.46157948e+03, -1.43527066e+03,  1.41004968e+04,\n",
       "        4.18452404e+03,  8.08544484e+03,  3.41000240e+02,  6.86147839e+03,\n",
       "       -5.99628988e+02,  2.02508178e+03, -2.87449482e+03,  6.95506144e+03,\n",
       "        6.62583330e+03,  1.14945070e+02,  8.48967891e+02, -1.24146557e+03,\n",
       "        3.80396127e+02,  2.68569732e+04,  1.76286708e+03,  1.31362121e+03,\n",
       "       -2.25979400e+03, -1.86848143e+03,  4.30091282e+03,  2.88083349e+03,\n",
       "        3.59811947e+03,  5.84256205e+03,  2.40887394e+03, -1.31768220e+03,\n",
       "        1.92396242e+03,  4.17813628e+03, -2.96377087e+03,  1.75708406e+03,\n",
       "        1.52935012e+03,  7.19550332e+02,  9.96788959e+02,  8.67889522e+02,\n",
       "        4.41009356e+03, -1.37429468e+03,  1.54363212e+02, -6.92487885e+03,\n",
       "       -9.23657216e+02,  4.70926237e+02, -7.20912248e+03, -6.89413523e+03,\n",
       "       -4.51480488e+02, -2.18342867e+02,  8.90551855e+02,  1.07097576e+03])"
      ]
     },
     "execution_count": 277,
     "metadata": {},
     "output_type": "execute_result"
    }
   ],
   "source": [
    "enet.coef_"
   ]
  },
  {
   "cell_type": "code",
   "execution_count": null,
   "id": "5ead9aaa",
   "metadata": {},
   "outputs": [],
   "source": []
  },
  {
   "cell_type": "markdown",
   "id": "a15da06d",
   "metadata": {},
   "source": [
    "## Step 4:  Poly with best features"
   ]
  },
  {
   "cell_type": "code",
   "execution_count": 349,
   "id": "ab0b55cc",
   "metadata": {},
   "outputs": [
    {
     "data": {
      "text/plain": [
       "((1538, 140), (513, 140), (1538,), (513,))"
      ]
     },
     "execution_count": 349,
     "metadata": {},
     "output_type": "execute_result"
    }
   ],
   "source": [
    "X_train.shape,X_val.shape,y_train.shape,y_val.shape"
   ]
  },
  {
   "cell_type": "code",
   "execution_count": 350,
   "id": "06c5f9eb",
   "metadata": {},
   "outputs": [],
   "source": [
    "X_train = X_train.loc[:,lasso_col]"
   ]
  },
  {
   "cell_type": "code",
   "execution_count": 352,
   "id": "3f9adc85",
   "metadata": {},
   "outputs": [],
   "source": [
    "X_val = X_val.loc[:,lasso_col]"
   ]
  },
  {
   "cell_type": "code",
   "execution_count": 354,
   "id": "bb5d6e03",
   "metadata": {},
   "outputs": [],
   "source": [
    "poly = PolynomialFeatures(\n",
    "degree = 2,\n",
    "include_bias=False)"
   ]
  },
  {
   "cell_type": "code",
   "execution_count": 363,
   "id": "168d9feb",
   "metadata": {},
   "outputs": [],
   "source": [
    "poly.fit(X_train,y_train)\n",
    "X_train = poly.transform(X_train)\n",
    "X_val = poly.transform(X_val)"
   ]
  },
  {
   "cell_type": "raw",
   "id": "9a145b0e",
   "metadata": {},
   "source": []
  },
  {
   "cell_type": "code",
   "execution_count": 364,
   "id": "fd7bc2cc",
   "metadata": {},
   "outputs": [
    {
     "data": {
      "text/plain": [
       "(1538, 2210)"
      ]
     },
     "execution_count": 364,
     "metadata": {},
     "output_type": "execute_result"
    }
   ],
   "source": []
  },
  {
   "cell_type": "code",
   "execution_count": 365,
   "id": "8d3123d8",
   "metadata": {},
   "outputs": [
    {
     "data": {
      "text/plain": [
       "['lr', 0.9921538387155522, -8.711101944497426e+21, 7313438409358058.0]"
      ]
     },
     "execution_count": 365,
     "metadata": {},
     "output_type": "execute_result"
    }
   ],
   "source": [
    "lr = LinearRegression()\n",
    "model = 'lr'\n",
    "lr.fit(X_train,y_train)\n",
    "train = lr.score(X_train,y_train)\n",
    "y_pred = lr.predict(X_val)\n",
    "test = lr.score(X_val,y_val)\n",
    "mse = mean_squared_error(y_val,y_pred,squared=False)\n",
    "scores = [model,train,test,mse]\n",
    "scores"
   ]
  },
  {
   "cell_type": "code",
   "execution_count": 366,
   "id": "c46bc7c3",
   "metadata": {},
   "outputs": [
    {
     "data": {
      "text/plain": [
       "['ridge', 0.9909020843789949, 0.543709647902167, 52930.464253423765]"
      ]
     },
     "execution_count": 366,
     "metadata": {},
     "output_type": "execute_result"
    }
   ],
   "source": [
    "ridge = RidgeCV()\n",
    "model = 'ridge'\n",
    "ridge.fit(X_train,y_train)\n",
    "train = ridge.score(X_train,y_train)\n",
    "y_pred = ridge.predict(X_val)\n",
    "test = ridge.score(X_val,y_val)\n",
    "mse = mean_squared_error(y_val,y_pred,squared=False)\n",
    "scores = [model,train,test,mse]\n",
    "scores"
   ]
  },
  {
   "cell_type": "code",
   "execution_count": 367,
   "id": "578c9cb8",
   "metadata": {},
   "outputs": [
    {
     "name": "stderr",
     "output_type": "stream",
     "text": [
      "C:\\Anaconda\\lib\\site-packages\\sklearn\\linear_model\\_coordinate_descent.py:647: ConvergenceWarning: Objective did not converge. You might want to increase the number of iterations, check the scale of the features or consider increasing regularisation. Duality gap: 1.288e+09, tolerance: 7.781e+08\n",
      "  model = cd_fast.enet_coordinate_descent(\n",
      "C:\\Anaconda\\lib\\site-packages\\sklearn\\linear_model\\_coordinate_descent.py:647: ConvergenceWarning: Objective did not converge. You might want to increase the number of iterations, check the scale of the features or consider increasing regularisation. Duality gap: 9.175e+08, tolerance: 8.169e+08\n",
      "  model = cd_fast.enet_coordinate_descent(\n",
      "C:\\Anaconda\\lib\\site-packages\\sklearn\\linear_model\\_coordinate_descent.py:647: ConvergenceWarning: Objective did not converge. You might want to increase the number of iterations, check the scale of the features or consider increasing regularisation. Duality gap: 2.178e+09, tolerance: 8.169e+08\n",
      "  model = cd_fast.enet_coordinate_descent(\n",
      "C:\\Anaconda\\lib\\site-packages\\sklearn\\linear_model\\_coordinate_descent.py:647: ConvergenceWarning: Objective did not converge. You might want to increase the number of iterations, check the scale of the features or consider increasing regularisation. Duality gap: 2.044e+09, tolerance: 8.169e+08\n",
      "  model = cd_fast.enet_coordinate_descent(\n"
     ]
    },
    {
     "data": {
      "text/plain": [
       "['lasso', 0.9552825192514054, 0.832505502357755, 32068.993712219726]"
      ]
     },
     "execution_count": 367,
     "metadata": {},
     "output_type": "execute_result"
    }
   ],
   "source": [
    "lasso = LassoCV()\n",
    "model = 'lasso'\n",
    "lasso.fit(X_train,y_train)\n",
    "train = lasso.score(X_train,y_train)\n",
    "y_pred = lasso.predict(X_val)\n",
    "test = lasso.score(X_val,y_val)\n",
    "mse = mean_squared_error(y_val,y_pred,squared=False)\n",
    "scores = [model,train,test,mse]\n",
    "scores"
   ]
  },
  {
   "cell_type": "code",
   "execution_count": 368,
   "id": "583dd51a",
   "metadata": {},
   "outputs": [
    {
     "name": "stderr",
     "output_type": "stream",
     "text": [
      "C:\\Anaconda\\lib\\site-packages\\sklearn\\linear_model\\_coordinate_descent.py:647: ConvergenceWarning: Objective did not converge. You might want to increase the number of iterations, check the scale of the features or consider increasing regularisation. Duality gap: 3.197e+10, tolerance: 9.727e+08\n",
      "  model = cd_fast.enet_coordinate_descent(\n"
     ]
    },
    {
     "data": {
      "text/plain": [
       "['enet', 0.9939178321992128, -0.4932368568778973, 95752.34320601264]"
      ]
     },
     "execution_count": 368,
     "metadata": {},
     "output_type": "execute_result"
    }
   ],
   "source": [
    "enet = ElasticNet(\n",
    "alpha = 0.01,\n",
    "l1_ratio=0.99)\n",
    "\n",
    "model = 'enet'\n",
    "enet.fit(X_train,y_train)\n",
    "train = enet.score(X_train,y_train)\n",
    "y_pred = enet.predict(X_val)\n",
    "test = enet.score(X_val,y_val)\n",
    "mse = mean_squared_error(y_val,y_pred,squared=False)\n",
    "scores = [model,train,test,mse]\n",
    "scores"
   ]
  },
  {
   "cell_type": "code",
   "execution_count": null,
   "id": "c4349bbf",
   "metadata": {},
   "outputs": [],
   "source": []
  },
  {
   "cell_type": "code",
   "execution_count": null,
   "id": "05521561",
   "metadata": {},
   "outputs": [],
   "source": []
  },
  {
   "cell_type": "code",
   "execution_count": 123,
   "id": "6d9fa2ea",
   "metadata": {},
   "outputs": [],
   "source": [
    "alphas = [1400,1425,1450,1475,1500,1525,1550,1575,1600]\n",
    "results = []\n",
    "for a in alphas:\n",
    "    pipe = Pipeline(\n",
    "        steps = [\n",
    "        ('ctx',ctx),\n",
    "        ('ss',StandardScaler()),\n",
    "        ('poly',poly),\n",
    "        ('lasso',Lasso(alpha=a)),\n",
    "    ])\n",
    "    pipe.fit(X_train,y_train)\n",
    "    train = pipe.score(X_train,y_train)\n",
    "    test = pipe.score(X_val,y_val)\n",
    "    y_pred = pipe.predict(X_val)\n",
    "    mse = mean_squared_error(y_pred,y_val,squared=False)\n",
    "    results.append([a,train,test,mse])"
   ]
  },
  {
   "cell_type": "code",
   "execution_count": 124,
   "id": "717dd7f1",
   "metadata": {},
   "outputs": [
    {
     "data": {
      "text/plain": [
       "[[1400, 0.9512781589837208, 0.9203527378413868, 22114.161963670285],\n",
       " [1425, 0.950894538858513, 0.9204752956717416, 22097.141246011222],\n",
       " [1450, 0.9505109528838381, 0.9205602387342333, 22085.336735983958],\n",
       " [1475, 0.9501381730642383, 0.9206400420600506, 22074.2407422707],\n",
       " [1500, 0.9497735056038243, 0.9205284124554061, 22089.760362685596],\n",
       " [1525, 0.9494240158337535, 0.9204183988780468, 22105.044649729432],\n",
       " [1550, 0.9491025057874914, 0.9203614881285695, 22112.947166213344],\n",
       " [1575, 0.9487836238262699, 0.9203132001748817, 22119.650123940974],\n",
       " [1600, 0.9484787957456288, 0.9202831172687801, 22123.82497202926]]"
      ]
     },
     "execution_count": 124,
     "metadata": {},
     "output_type": "execute_result"
    }
   ],
   "source": [
    "results"
   ]
  },
  {
   "cell_type": "code",
   "execution_count": null,
   "id": "2f1d09f5",
   "metadata": {},
   "outputs": [],
   "source": []
  },
  {
   "cell_type": "code",
   "execution_count": null,
   "id": "5e9b1c4e",
   "metadata": {},
   "outputs": [],
   "source": []
  },
  {
   "cell_type": "code",
   "execution_count": null,
   "id": "4de8394a",
   "metadata": {},
   "outputs": [],
   "source": [
    "    "
   ]
  },
  {
   "cell_type": "code",
   "execution_count": null,
   "id": "0a0a13d6",
   "metadata": {},
   "outputs": [],
   "source": [
    "    "
   ]
  },
  {
   "cell_type": "code",
   "execution_count": null,
   "id": "76d4869f",
   "metadata": {},
   "outputs": [],
   "source": []
  },
  {
   "cell_type": "code",
   "execution_count": null,
   "id": "3904d5bf",
   "metadata": {},
   "outputs": [],
   "source": []
  },
  {
   "cell_type": "code",
   "execution_count": null,
   "id": "5109516b",
   "metadata": {},
   "outputs": [],
   "source": []
  },
  {
   "cell_type": "code",
   "execution_count": null,
   "id": "b6febd3a",
   "metadata": {},
   "outputs": [],
   "source": []
  },
  {
   "cell_type": "code",
   "execution_count": null,
   "id": "f402a6ea",
   "metadata": {},
   "outputs": [],
   "source": []
  },
  {
   "cell_type": "code",
   "execution_count": 86,
   "id": "3f0bfe28",
   "metadata": {},
   "outputs": [
    {
     "data": {
      "text/html": [
       "<div>\n",
       "<style scoped>\n",
       "    .dataframe tbody tr th:only-of-type {\n",
       "        vertical-align: middle;\n",
       "    }\n",
       "\n",
       "    .dataframe tbody tr th {\n",
       "        vertical-align: top;\n",
       "    }\n",
       "\n",
       "    .dataframe thead th {\n",
       "        text-align: right;\n",
       "    }\n",
       "</style>\n",
       "<table border=\"1\" class=\"dataframe\">\n",
       "  <thead>\n",
       "    <tr style=\"text-align: right;\">\n",
       "      <th></th>\n",
       "      <th>0</th>\n",
       "    </tr>\n",
       "  </thead>\n",
       "  <tbody>\n",
       "    <tr>\n",
       "      <th>x0</th>\n",
       "      <td>-20.190664</td>\n",
       "    </tr>\n",
       "    <tr>\n",
       "      <th>x1</th>\n",
       "      <td>-52.917506</td>\n",
       "    </tr>\n",
       "    <tr>\n",
       "      <th>x2</th>\n",
       "      <td>-40.790627</td>\n",
       "    </tr>\n",
       "    <tr>\n",
       "      <th>x3</th>\n",
       "      <td>9.399357</td>\n",
       "    </tr>\n",
       "    <tr>\n",
       "      <th>x4</th>\n",
       "      <td>-311.782806</td>\n",
       "    </tr>\n",
       "    <tr>\n",
       "      <th>...</th>\n",
       "      <td>...</td>\n",
       "    </tr>\n",
       "    <tr>\n",
       "      <th>x142 x143</th>\n",
       "      <td>783.258989</td>\n",
       "    </tr>\n",
       "    <tr>\n",
       "      <th>x142 x144</th>\n",
       "      <td>1595.167820</td>\n",
       "    </tr>\n",
       "    <tr>\n",
       "      <th>x143^2</th>\n",
       "      <td>342.731254</td>\n",
       "    </tr>\n",
       "    <tr>\n",
       "      <th>x143 x144</th>\n",
       "      <td>-130.317110</td>\n",
       "    </tr>\n",
       "    <tr>\n",
       "      <th>x144^2</th>\n",
       "      <td>1127.271078</td>\n",
       "    </tr>\n",
       "  </tbody>\n",
       "</table>\n",
       "<p>10730 rows × 1 columns</p>\n",
       "</div>"
      ],
      "text/plain": [
       "                     0\n",
       "x0          -20.190664\n",
       "x1          -52.917506\n",
       "x2          -40.790627\n",
       "x3            9.399357\n",
       "x4         -311.782806\n",
       "...                ...\n",
       "x142 x143   783.258989\n",
       "x142 x144  1595.167820\n",
       "x143^2      342.731254\n",
       "x143 x144  -130.317110\n",
       "x144^2     1127.271078\n",
       "\n",
       "[10730 rows x 1 columns]"
      ]
     },
     "execution_count": 86,
     "metadata": {},
     "output_type": "execute_result"
    }
   ],
   "source": [
    "pd.DataFrame(\n",
    "    data= pipe.named_steps['lr'].coef_,\n",
    "    index = pipe[1:-1].get_feature_names_out()\n",
    ")"
   ]
  },
  {
   "cell_type": "code",
   "execution_count": null,
   "id": "9b9a0c45",
   "metadata": {},
   "outputs": [],
   "source": []
  },
  {
   "cell_type": "code",
   "execution_count": null,
   "id": "45d23709",
   "metadata": {},
   "outputs": [],
   "source": []
  }
 ],
 "metadata": {
  "kernelspec": {
   "display_name": "Python 3 (ipykernel)",
   "language": "python",
   "name": "python3"
  },
  "language_info": {
   "codemirror_mode": {
    "name": "ipython",
    "version": 3
   },
   "file_extension": ".py",
   "mimetype": "text/x-python",
   "name": "python",
   "nbconvert_exporter": "python",
   "pygments_lexer": "ipython3",
   "version": "3.9.13"
  }
 },
 "nbformat": 4,
 "nbformat_minor": 5
}
