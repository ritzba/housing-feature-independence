{
 "cells": [
  {
   "cell_type": "code",
   "execution_count": 201,
   "id": "ff194c37",
   "metadata": {},
   "outputs": [],
   "source": [
    "import numpy as np\n",
    "import pandas as pd\n",
    "import matplotlib.pyplot as plt\n",
    "import seaborn as sns\n",
    "\n",
    "from sklearn.compose import ColumnTransformer\n",
    "from sklearn.preprocessing import OneHotEncoder"
   ]
  },
  {
   "cell_type": "code",
   "execution_count": 202,
   "id": "811fe142",
   "metadata": {},
   "outputs": [],
   "source": [
    "from sklearn.linear_model import LinearRegression, Lasso, LassoCV, Ridge, RidgeCV, ElasticNet, ElasticNetCV\n",
    "from sklearn.model_selection import train_test_split, cross_val_score\n",
    "from sklearn.preprocessing import PolynomialFeatures, StandardScaler\n",
    "from sklearn.metrics import r2_score, mean_squared_error\n",
    "\n",
    "from statsmodels.stats.outliers_influence import variance_inflation_factor\n",
    "from sklearn.pipeline import Pipeline\n",
    "\n",
    "from sklearn.model_selection import \\\n",
    "    KFold, RepeatedKFold, GridSearchCV, \\\n",
    "    cross_validate, train_test_split\n",
    "\n",
    "from ipywidgets import *\n",
    "from IPython.display import display\n",
    "\n",
    "import warnings\n",
    "\n"
   ]
  },
  {
   "cell_type": "code",
   "execution_count": 203,
   "id": "2915a476",
   "metadata": {},
   "outputs": [],
   "source": [
    "df_train = pd.read_csv('./datasets/df_train.csv')\n",
    "df_test = pd.read_csv('./datasets/df_test.csv')"
   ]
  },
  {
   "cell_type": "code",
   "execution_count": 204,
   "id": "7a0701cf",
   "metadata": {},
   "outputs": [
    {
     "data": {
      "text/plain": [
       "Index(['pid', 'ms_subclass', 'ms_zoning', 'lot_frontage', 'lot_area', 'street',\n",
       "       'lot_shape', 'land_contour', 'utilities', 'lot_config', 'land_slope',\n",
       "       'neighborhood', 'condition_1', 'condition_2', 'bldg_type',\n",
       "       'house_style', 'overall_qual', 'overall_cond', 'year_built',\n",
       "       'year_remod/add', 'roof_style', 'roof_matl', 'exterior_1st',\n",
       "       'exterior_2nd', 'mas_vnr_type', 'mas_vnr_area', 'exter_qual',\n",
       "       'exter_cond', 'foundation', 'bsmt_qual', 'bsmt_cond', 'bsmt_exposure',\n",
       "       'bsmtfin_type_1', 'bsmtfin_sf_1', 'bsmtfin_type_2', 'bsmtfin_sf_2',\n",
       "       'bsmt_unf_sf', 'total_bsmt_sf', 'heating', 'heating_qc', 'central_air',\n",
       "       'electrical', '1st_flr_sf', '2nd_flr_sf', 'low_qual_fin_sf',\n",
       "       'gr_liv_area', 'bsmt_full_bath', 'bsmt_half_bath', 'full_bath',\n",
       "       'half_bath', 'bedroom_abvgr', 'kitchen_abvgr', 'kitchen_qual',\n",
       "       'totrms_abvgrd', 'functional', 'fireplaces', 'fireplace_qu',\n",
       "       'garage_type', 'garage_yr_blt', 'garage_finish', 'garage_cars',\n",
       "       'garage_area', 'garage_qual', 'garage_cond', 'paved_drive',\n",
       "       'wood_deck_sf', 'open_porch_sf', 'enclosed_porch', '3ssn_porch',\n",
       "       'screen_porch', 'pool_area', 'pool_qc', 'fence', 'misc_feature',\n",
       "       'misc_val', 'mo_sold', 'yr_sold', 'sale_type', 'saleprice', 'pid_1',\n",
       "       'pid_2', 'pid_3', 'pid_4', 'fr_rate', 'fence_mat', 'fence_priv'],\n",
       "      dtype='object')"
      ]
     },
     "execution_count": 204,
     "metadata": {},
     "output_type": "execute_result"
    }
   ],
   "source": [
    "df_train.columns"
   ]
  },
  {
   "cell_type": "code",
   "execution_count": 205,
   "id": "985a9faf",
   "metadata": {},
   "outputs": [],
   "source": [
    "df_train = df_train.dropna(how='any',axis=1)"
   ]
  },
  {
   "cell_type": "code",
   "execution_count": 269,
   "id": "93420b2c-bb7e-4ab3-a047-375dba6757db",
   "metadata": {},
   "outputs": [
    {
     "name": "stdout",
     "output_type": "stream",
     "text": [
      "<class 'pandas.core.frame.DataFrame'>\n",
      "RangeIndex: 878 entries, 0 to 877\n",
      "Data columns (total 80 columns):\n",
      " #   Column           Non-Null Count  Dtype  \n",
      "---  ------           --------------  -----  \n",
      " 0   Id               878 non-null    int64  \n",
      " 1   PID              878 non-null    int64  \n",
      " 2   MS SubClass      878 non-null    int64  \n",
      " 3   MS Zoning        878 non-null    object \n",
      " 4   Lot Frontage     718 non-null    float64\n",
      " 5   Lot Area         878 non-null    int64  \n",
      " 6   Street           878 non-null    object \n",
      " 7   Alley            58 non-null     object \n",
      " 8   Lot Shape        878 non-null    object \n",
      " 9   Land Contour     878 non-null    object \n",
      " 10  Utilities        878 non-null    object \n",
      " 11  Lot Config       878 non-null    object \n",
      " 12  Land Slope       878 non-null    object \n",
      " 13  Neighborhood     878 non-null    object \n",
      " 14  Condition 1      878 non-null    object \n",
      " 15  Condition 2      878 non-null    object \n",
      " 16  Bldg Type        878 non-null    object \n",
      " 17  House Style      878 non-null    object \n",
      " 18  Overall Qual     878 non-null    int64  \n",
      " 19  Overall Cond     878 non-null    int64  \n",
      " 20  Year Built       878 non-null    int64  \n",
      " 21  Year Remod/Add   878 non-null    int64  \n",
      " 22  Roof Style       878 non-null    object \n",
      " 23  Roof Matl        878 non-null    object \n",
      " 24  Exterior 1st     878 non-null    object \n",
      " 25  Exterior 2nd     878 non-null    object \n",
      " 26  Mas Vnr Type     877 non-null    object \n",
      " 27  Mas Vnr Area     877 non-null    float64\n",
      " 28  Exter Qual       878 non-null    object \n",
      " 29  Exter Cond       878 non-null    object \n",
      " 30  Foundation       878 non-null    object \n",
      " 31  Bsmt Qual        853 non-null    object \n",
      " 32  Bsmt Cond        853 non-null    object \n",
      " 33  Bsmt Exposure    853 non-null    object \n",
      " 34  BsmtFin Type 1   853 non-null    object \n",
      " 35  BsmtFin SF 1     878 non-null    int64  \n",
      " 36  BsmtFin Type 2   853 non-null    object \n",
      " 37  BsmtFin SF 2     878 non-null    int64  \n",
      " 38  Bsmt Unf SF      878 non-null    int64  \n",
      " 39  Total Bsmt SF    878 non-null    int64  \n",
      " 40  Heating          878 non-null    object \n",
      " 41  Heating QC       878 non-null    object \n",
      " 42  Central Air      878 non-null    object \n",
      " 43  Electrical       877 non-null    object \n",
      " 44  1st Flr SF       878 non-null    int64  \n",
      " 45  2nd Flr SF       878 non-null    int64  \n",
      " 46  Low Qual Fin SF  878 non-null    int64  \n",
      " 47  Gr Liv Area      878 non-null    int64  \n",
      " 48  Bsmt Full Bath   878 non-null    int64  \n",
      " 49  Bsmt Half Bath   878 non-null    int64  \n",
      " 50  Full Bath        878 non-null    int64  \n",
      " 51  Half Bath        878 non-null    int64  \n",
      " 52  Bedroom AbvGr    878 non-null    int64  \n",
      " 53  Kitchen AbvGr    878 non-null    int64  \n",
      " 54  Kitchen Qual     878 non-null    object \n",
      " 55  TotRms AbvGrd    878 non-null    int64  \n",
      " 56  Functional       878 non-null    object \n",
      " 57  Fireplaces       878 non-null    int64  \n",
      " 58  Fireplace Qu     456 non-null    object \n",
      " 59  Garage Type      834 non-null    object \n",
      " 60  Garage Yr Blt    833 non-null    float64\n",
      " 61  Garage Finish    833 non-null    object \n",
      " 62  Garage Cars      878 non-null    int64  \n",
      " 63  Garage Area      878 non-null    int64  \n",
      " 64  Garage Qual      833 non-null    object \n",
      " 65  Garage Cond      833 non-null    object \n",
      " 66  Paved Drive      878 non-null    object \n",
      " 67  Wood Deck SF     878 non-null    int64  \n",
      " 68  Open Porch SF    878 non-null    int64  \n",
      " 69  Enclosed Porch   878 non-null    int64  \n",
      " 70  3Ssn Porch       878 non-null    int64  \n",
      " 71  Screen Porch     878 non-null    int64  \n",
      " 72  Pool Area        878 non-null    int64  \n",
      " 73  Pool QC          4 non-null      object \n",
      " 74  Fence            172 non-null    object \n",
      " 75  Misc Feature     41 non-null     object \n",
      " 76  Misc Val         878 non-null    int64  \n",
      " 77  Mo Sold          878 non-null    int64  \n",
      " 78  Yr Sold          878 non-null    int64  \n",
      " 79  Sale Type        878 non-null    object \n",
      "dtypes: float64(3), int64(35), object(42)\n",
      "memory usage: 548.9+ KB\n"
     ]
    }
   ],
   "source": [
    "df_test.info()"
   ]
  },
  {
   "cell_type": "code",
   "execution_count": 206,
   "id": "c536bd44",
   "metadata": {},
   "outputs": [
    {
     "name": "stdout",
     "output_type": "stream",
     "text": [
      "<class 'pandas.core.frame.DataFrame'>\n",
      "RangeIndex: 2051 entries, 0 to 2050\n",
      "Data columns (total 71 columns):\n",
      " #   Column           Non-Null Count  Dtype \n",
      "---  ------           --------------  ----- \n",
      " 0   pid              2051 non-null   int64 \n",
      " 1   ms_subclass      2051 non-null   int64 \n",
      " 2   ms_zoning        2051 non-null   int64 \n",
      " 3   lot_area         2051 non-null   int64 \n",
      " 4   street           2051 non-null   int64 \n",
      " 5   lot_shape        2051 non-null   int64 \n",
      " 6   land_contour     2051 non-null   int64 \n",
      " 7   utilities        2051 non-null   int64 \n",
      " 8   lot_config       2051 non-null   object\n",
      " 9   land_slope       2051 non-null   int64 \n",
      " 10  neighborhood     2051 non-null   object\n",
      " 11  condition_1      2051 non-null   int64 \n",
      " 12  condition_2      2051 non-null   int64 \n",
      " 13  bldg_type        2051 non-null   int64 \n",
      " 14  house_style      2051 non-null   int64 \n",
      " 15  overall_qual     2051 non-null   int64 \n",
      " 16  overall_cond     2051 non-null   int64 \n",
      " 17  year_built       2051 non-null   int64 \n",
      " 18  year_remod/add   2051 non-null   int64 \n",
      " 19  roof_style       2051 non-null   object\n",
      " 20  roof_matl        2051 non-null   object\n",
      " 21  exterior_1st     2051 non-null   object\n",
      " 22  exterior_2nd     2051 non-null   object\n",
      " 23  exter_qual       2051 non-null   int64 \n",
      " 24  exter_cond       2051 non-null   int64 \n",
      " 25  foundation       2051 non-null   object\n",
      " 26  bsmt_qual        2051 non-null   int64 \n",
      " 27  bsmt_cond        2051 non-null   int64 \n",
      " 28  bsmt_exposure    2051 non-null   int64 \n",
      " 29  bsmtfin_type_1   2051 non-null   int64 \n",
      " 30  bsmtfin_type_2   2051 non-null   int64 \n",
      " 31  heating          2051 non-null   object\n",
      " 32  heating_qc       2051 non-null   int64 \n",
      " 33  central_air      2051 non-null   int64 \n",
      " 34  electrical       2051 non-null   int64 \n",
      " 35  1st_flr_sf       2051 non-null   int64 \n",
      " 36  2nd_flr_sf       2051 non-null   int64 \n",
      " 37  low_qual_fin_sf  2051 non-null   int64 \n",
      " 38  gr_liv_area      2051 non-null   int64 \n",
      " 39  full_bath        2051 non-null   int64 \n",
      " 40  half_bath        2051 non-null   int64 \n",
      " 41  bedroom_abvgr    2051 non-null   int64 \n",
      " 42  kitchen_abvgr    2051 non-null   int64 \n",
      " 43  kitchen_qual     2051 non-null   int64 \n",
      " 44  totrms_abvgrd    2051 non-null   int64 \n",
      " 45  functional       2051 non-null   int64 \n",
      " 46  fireplaces       2051 non-null   int64 \n",
      " 47  fireplace_qu     2051 non-null   int64 \n",
      " 48  garage_type      2051 non-null   int64 \n",
      " 49  garage_finish    2051 non-null   int64 \n",
      " 50  garage_qual      2051 non-null   int64 \n",
      " 51  garage_cond      2051 non-null   int64 \n",
      " 52  paved_drive      2051 non-null   int64 \n",
      " 53  wood_deck_sf     2051 non-null   int64 \n",
      " 54  open_porch_sf    2051 non-null   int64 \n",
      " 55  enclosed_porch   2051 non-null   int64 \n",
      " 56  3ssn_porch       2051 non-null   int64 \n",
      " 57  screen_porch     2051 non-null   int64 \n",
      " 58  pool_area        2051 non-null   int64 \n",
      " 59  pool_qc          2051 non-null   int64 \n",
      " 60  misc_val         2051 non-null   int64 \n",
      " 61  mo_sold          2051 non-null   int64 \n",
      " 62  yr_sold          2051 non-null   int64 \n",
      " 63  sale_type        2051 non-null   object\n",
      " 64  saleprice        2051 non-null   int64 \n",
      " 65  pid_1            2051 non-null   int64 \n",
      " 66  pid_2            2051 non-null   int64 \n",
      " 67  pid_3            2051 non-null   int64 \n",
      " 68  pid_4            2051 non-null   int64 \n",
      " 69  fence_mat        2051 non-null   int64 \n",
      " 70  fence_priv       2051 non-null   int64 \n",
      "dtypes: int64(62), object(9)\n",
      "memory usage: 1.1+ MB\n"
     ]
    }
   ],
   "source": [
    "df_train.info()"
   ]
  },
  {
   "cell_type": "code",
   "execution_count": 271,
   "id": "d12da9c8",
   "metadata": {},
   "outputs": [
    {
     "data": {
      "text/plain": [
       "(513, 170)"
      ]
     },
     "execution_count": 271,
     "metadata": {},
     "output_type": "execute_result"
    }
   ],
   "source": []
  },
  {
   "cell_type": "code",
   "execution_count": 272,
   "id": "cf11338a",
   "metadata": {},
   "outputs": [],
   "source": [
    "X_train,X_val,y_train,y_val = train_test_split(X, y, random_state = 42)"
   ]
  },
  {
   "cell_type": "code",
   "execution_count": 209,
   "id": "d3a8be26",
   "metadata": {
    "scrolled": true
   },
   "outputs": [
    {
     "name": "stdout",
     "output_type": "stream",
     "text": [
      "<class 'pandas.core.frame.DataFrame'>\n",
      "Int64Index: 1538 entries, 532 to 860\n",
      "Data columns (total 69 columns):\n",
      " #   Column           Non-Null Count  Dtype \n",
      "---  ------           --------------  ----- \n",
      " 0   ms_subclass      1538 non-null   int64 \n",
      " 1   ms_zoning        1538 non-null   int64 \n",
      " 2   lot_area         1538 non-null   int64 \n",
      " 3   street           1538 non-null   int64 \n",
      " 4   lot_shape        1538 non-null   int64 \n",
      " 5   land_contour     1538 non-null   int64 \n",
      " 6   utilities        1538 non-null   int64 \n",
      " 7   lot_config       1538 non-null   object\n",
      " 8   land_slope       1538 non-null   int64 \n",
      " 9   neighborhood     1538 non-null   object\n",
      " 10  condition_1      1538 non-null   int64 \n",
      " 11  condition_2      1538 non-null   int64 \n",
      " 12  bldg_type        1538 non-null   int64 \n",
      " 13  house_style      1538 non-null   int64 \n",
      " 14  overall_qual     1538 non-null   int64 \n",
      " 15  overall_cond     1538 non-null   int64 \n",
      " 16  year_built       1538 non-null   int64 \n",
      " 17  year_remod/add   1538 non-null   int64 \n",
      " 18  roof_style       1538 non-null   object\n",
      " 19  roof_matl        1538 non-null   object\n",
      " 20  exterior_1st     1538 non-null   object\n",
      " 21  exterior_2nd     1538 non-null   object\n",
      " 22  exter_qual       1538 non-null   int64 \n",
      " 23  exter_cond       1538 non-null   int64 \n",
      " 24  foundation       1538 non-null   object\n",
      " 25  bsmt_qual        1538 non-null   int64 \n",
      " 26  bsmt_cond        1538 non-null   int64 \n",
      " 27  bsmt_exposure    1538 non-null   int64 \n",
      " 28  bsmtfin_type_1   1538 non-null   int64 \n",
      " 29  bsmtfin_type_2   1538 non-null   int64 \n",
      " 30  heating          1538 non-null   object\n",
      " 31  heating_qc       1538 non-null   int64 \n",
      " 32  central_air      1538 non-null   int64 \n",
      " 33  electrical       1538 non-null   int64 \n",
      " 34  1st_flr_sf       1538 non-null   int64 \n",
      " 35  2nd_flr_sf       1538 non-null   int64 \n",
      " 36  low_qual_fin_sf  1538 non-null   int64 \n",
      " 37  gr_liv_area      1538 non-null   int64 \n",
      " 38  full_bath        1538 non-null   int64 \n",
      " 39  half_bath        1538 non-null   int64 \n",
      " 40  bedroom_abvgr    1538 non-null   int64 \n",
      " 41  kitchen_abvgr    1538 non-null   int64 \n",
      " 42  kitchen_qual     1538 non-null   int64 \n",
      " 43  totrms_abvgrd    1538 non-null   int64 \n",
      " 44  functional       1538 non-null   int64 \n",
      " 45  fireplaces       1538 non-null   int64 \n",
      " 46  fireplace_qu     1538 non-null   int64 \n",
      " 47  garage_type      1538 non-null   int64 \n",
      " 48  garage_finish    1538 non-null   int64 \n",
      " 49  garage_qual      1538 non-null   int64 \n",
      " 50  garage_cond      1538 non-null   int64 \n",
      " 51  paved_drive      1538 non-null   int64 \n",
      " 52  wood_deck_sf     1538 non-null   int64 \n",
      " 53  open_porch_sf    1538 non-null   int64 \n",
      " 54  enclosed_porch   1538 non-null   int64 \n",
      " 55  3ssn_porch       1538 non-null   int64 \n",
      " 56  screen_porch     1538 non-null   int64 \n",
      " 57  pool_area        1538 non-null   int64 \n",
      " 58  pool_qc          1538 non-null   int64 \n",
      " 59  misc_val         1538 non-null   int64 \n",
      " 60  mo_sold          1538 non-null   int64 \n",
      " 61  yr_sold          1538 non-null   int64 \n",
      " 62  sale_type        1538 non-null   object\n",
      " 63  pid_1            1538 non-null   int64 \n",
      " 64  pid_2            1538 non-null   int64 \n",
      " 65  pid_3            1538 non-null   int64 \n",
      " 66  pid_4            1538 non-null   int64 \n",
      " 67  fence_mat        1538 non-null   int64 \n",
      " 68  fence_priv       1538 non-null   int64 \n",
      "dtypes: int64(60), object(9)\n",
      "memory usage: 841.1+ KB\n"
     ]
    }
   ],
   "source": [
    "X_train.info()"
   ]
  },
  {
   "cell_type": "code",
   "execution_count": null,
   "id": "ee6c6241",
   "metadata": {},
   "outputs": [],
   "source": []
  },
  {
   "cell_type": "code",
   "execution_count": null,
   "id": "e5b70bcf",
   "metadata": {},
   "outputs": [],
   "source": []
  },
  {
   "cell_type": "code",
   "execution_count": null,
   "id": "2ccc30fe",
   "metadata": {},
   "outputs": [],
   "source": []
  },
  {
   "cell_type": "code",
   "execution_count": 210,
   "id": "868eaffe",
   "metadata": {},
   "outputs": [],
   "source": [
    "ctx = ColumnTransformer(transformers = [\n",
    "    ('ohe',OneHotEncoder(\n",
    "        drop='first',\n",
    "        sparse=False,\n",
    "        handle_unknown='ignore'),\n",
    "     ['ms_subclass','ms_zoning','lot_config','neighborhood','house_style','roof_style','roof_matl','exterior_1st','exterior_2nd',\n",
    "      'heating','foundation','sale_type'])\n",
    "],remainder='passthrough')"
   ]
  },
  {
   "cell_type": "code",
   "execution_count": null,
   "id": "a973fbef",
   "metadata": {},
   "outputs": [],
   "source": []
  },
  {
   "cell_type": "code",
   "execution_count": 211,
   "id": "5b38c5ac",
   "metadata": {},
   "outputs": [],
   "source": [
    "pipe = Pipeline(\n",
    "    steps = [\n",
    "    ('ctx',ctx),\n",
    "    ('ss',StandardScaler()),\n",
    "])"
   ]
  },
  {
   "cell_type": "code",
   "execution_count": 212,
   "id": "bd108bc2",
   "metadata": {},
   "outputs": [
    {
     "data": {
      "text/plain": [
       "Pipeline(steps=[('ctx',\n",
       "                 ColumnTransformer(remainder='passthrough',\n",
       "                                   transformers=[('ohe',\n",
       "                                                  OneHotEncoder(drop='first',\n",
       "                                                                handle_unknown='ignore',\n",
       "                                                                sparse=False),\n",
       "                                                  ['ms_subclass', 'ms_zoning',\n",
       "                                                   'lot_config', 'neighborhood',\n",
       "                                                   'house_style', 'roof_style',\n",
       "                                                   'roof_matl', 'exterior_1st',\n",
       "                                                   'exterior_2nd', 'heating',\n",
       "                                                   'foundation',\n",
       "                                                   'sale_type'])])),\n",
       "                ('ss', StandardScaler())])"
      ]
     },
     "execution_count": 212,
     "metadata": {},
     "output_type": "execute_result"
    }
   ],
   "source": [
    "pipe.fit(X_train,y_train)"
   ]
  },
  {
   "cell_type": "code",
   "execution_count": 213,
   "id": "d4ac413a",
   "metadata": {},
   "outputs": [
    {
     "name": "stderr",
     "output_type": "stream",
     "text": [
      "C:\\Users\\Ari\\anaconda3\\lib\\site-packages\\sklearn\\preprocessing\\_encoders.py:170: UserWarning: Found unknown categories in columns [1] during transform. These unknown categories will be encoded as all zeros\n",
      "  warnings.warn(\n"
     ]
    }
   ],
   "source": [
    "X_train = pipe.transform(X_train)\n",
    "X_val = pipe.transform(X_val)"
   ]
  },
  {
   "cell_type": "code",
   "execution_count": 214,
   "id": "8c0afbc9",
   "metadata": {},
   "outputs": [],
   "source": [
    "X_train = pd.DataFrame(data = X_train, columns = pipe.get_feature_names_out())\n",
    "X_val = pd.DataFrame(data = X_val, columns = pipe.get_feature_names_out())"
   ]
  },
  {
   "cell_type": "code",
   "execution_count": null,
   "id": "3be17baa-5747-43f2-8cc4-a20072d849ce",
   "metadata": {},
   "outputs": [],
   "source": []
  },
  {
   "cell_type": "code",
   "execution_count": 215,
   "id": "f24f0f31-777c-4e35-be83-1359f667d9c3",
   "metadata": {},
   "outputs": [
    {
     "data": {
      "text/plain": [
       "((1538, 170), (1538,))"
      ]
     },
     "execution_count": 215,
     "metadata": {},
     "output_type": "execute_result"
    }
   ],
   "source": [
    "X_train.shape,y_train.shape"
   ]
  },
  {
   "cell_type": "code",
   "execution_count": 274,
   "id": "2b71974c-0018-44e4-aae3-96369b5bc062",
   "metadata": {},
   "outputs": [
    {
     "data": {
      "text/plain": [
       "Pipeline(steps=[('ctx',\n",
       "                 ColumnTransformer(remainder='passthrough',\n",
       "                                   transformers=[('ohe',\n",
       "                                                  OneHotEncoder(drop='first',\n",
       "                                                                handle_unknown='ignore',\n",
       "                                                                sparse=False),\n",
       "                                                  ['ms_subclass', 'ms_zoning',\n",
       "                                                   'lot_config', 'neighborhood',\n",
       "                                                   'house_style', 'roof_style',\n",
       "                                                   'roof_matl', 'exterior_1st',\n",
       "                                                   'exterior_2nd', 'heating',\n",
       "                                                   'foundation',\n",
       "                                                   'sale_type'])])),\n",
       "                ('ss', StandardScaler())])"
      ]
     },
     "execution_count": 274,
     "metadata": {},
     "output_type": "execute_result"
    }
   ],
   "source": [
    "pipe.fit(X,df_test)"
   ]
  },
  {
   "cell_type": "code",
   "execution_count": 275,
   "id": "940b35a0-73ac-4307-84ff-bea89e4547cb",
   "metadata": {},
   "outputs": [
    {
     "ename": "ValueError",
     "evalue": "columns are missing: {'half_bath', 'wood_deck_sf', 'pool_area', 'street', 'gr_liv_area', 'fireplace_qu', 'bsmt_cond', 'garage_type', '3ssn_porch', 'misc_val', 'land_contour', 'bsmt_exposure', 'condition_2', 'utilities', 'bedroom_abvgr', 'low_qual_fin_sf', 'lot_area', 'bsmtfin_type_1', 'screen_porch', 'exter_qual', 'lot_shape', 'pid_1', 'functional', 'condition_1', 'yr_sold', 'pool_qc', 'bsmtfin_type_2', 'totrms_abvgrd', 'enclosed_porch', 'pid_4', '2nd_flr_sf', 'full_bath', '1st_flr_sf', 'pid_3', 'land_slope', 'fireplaces', 'fence_priv', 'fence_mat', 'year_built', 'overall_cond', 'exter_cond', 'pid_2', 'bsmt_qual', 'kitchen_abvgr', 'garage_qual', 'garage_finish', 'overall_qual', 'electrical', 'central_air', 'heating_qc', 'mo_sold', 'year_remod/add', 'open_porch_sf', 'garage_cond', 'paved_drive', 'kitchen_qual', 'bldg_type'}",
     "output_type": "error",
     "traceback": [
      "\u001b[1;31m---------------------------------------------------------------------------\u001b[0m",
      "\u001b[1;31mValueError\u001b[0m                                Traceback (most recent call last)",
      "\u001b[1;32m~\\AppData\\Local\\Temp\\ipykernel_10320\\3590839219.py\u001b[0m in \u001b[0;36m<module>\u001b[1;34m\u001b[0m\n\u001b[1;32m----> 1\u001b[1;33m \u001b[0mdf_test\u001b[0m \u001b[1;33m=\u001b[0m \u001b[0mpipe\u001b[0m\u001b[1;33m.\u001b[0m\u001b[0mtransform\u001b[0m\u001b[1;33m(\u001b[0m\u001b[0mdf_test\u001b[0m\u001b[1;33m)\u001b[0m\u001b[1;33m\u001b[0m\u001b[1;33m\u001b[0m\u001b[0m\n\u001b[0m",
      "\u001b[1;32m~\\anaconda3\\lib\\site-packages\\sklearn\\utils\\metaestimators.py\u001b[0m in \u001b[0;36m<lambda>\u001b[1;34m(*args, **kwargs)\u001b[0m\n\u001b[0;32m    111\u001b[0m \u001b[1;33m\u001b[0m\u001b[0m\n\u001b[0;32m    112\u001b[0m             \u001b[1;31m# lambda, but not partial, allows help() to work with update_wrapper\u001b[0m\u001b[1;33m\u001b[0m\u001b[1;33m\u001b[0m\u001b[0m\n\u001b[1;32m--> 113\u001b[1;33m             \u001b[0mout\u001b[0m \u001b[1;33m=\u001b[0m \u001b[1;32mlambda\u001b[0m \u001b[1;33m*\u001b[0m\u001b[0margs\u001b[0m\u001b[1;33m,\u001b[0m \u001b[1;33m**\u001b[0m\u001b[0mkwargs\u001b[0m\u001b[1;33m:\u001b[0m \u001b[0mself\u001b[0m\u001b[1;33m.\u001b[0m\u001b[0mfn\u001b[0m\u001b[1;33m(\u001b[0m\u001b[0mobj\u001b[0m\u001b[1;33m,\u001b[0m \u001b[1;33m*\u001b[0m\u001b[0margs\u001b[0m\u001b[1;33m,\u001b[0m \u001b[1;33m**\u001b[0m\u001b[0mkwargs\u001b[0m\u001b[1;33m)\u001b[0m  \u001b[1;31m# noqa\u001b[0m\u001b[1;33m\u001b[0m\u001b[1;33m\u001b[0m\u001b[0m\n\u001b[0m\u001b[0;32m    114\u001b[0m         \u001b[1;32melse\u001b[0m\u001b[1;33m:\u001b[0m\u001b[1;33m\u001b[0m\u001b[1;33m\u001b[0m\u001b[0m\n\u001b[0;32m    115\u001b[0m \u001b[1;33m\u001b[0m\u001b[0m\n",
      "\u001b[1;32m~\\anaconda3\\lib\\site-packages\\sklearn\\pipeline.py\u001b[0m in \u001b[0;36mtransform\u001b[1;34m(self, X)\u001b[0m\n\u001b[0;32m    645\u001b[0m         \u001b[0mXt\u001b[0m \u001b[1;33m=\u001b[0m \u001b[0mX\u001b[0m\u001b[1;33m\u001b[0m\u001b[1;33m\u001b[0m\u001b[0m\n\u001b[0;32m    646\u001b[0m         \u001b[1;32mfor\u001b[0m \u001b[0m_\u001b[0m\u001b[1;33m,\u001b[0m \u001b[0m_\u001b[0m\u001b[1;33m,\u001b[0m \u001b[0mtransform\u001b[0m \u001b[1;32min\u001b[0m \u001b[0mself\u001b[0m\u001b[1;33m.\u001b[0m\u001b[0m_iter\u001b[0m\u001b[1;33m(\u001b[0m\u001b[1;33m)\u001b[0m\u001b[1;33m:\u001b[0m\u001b[1;33m\u001b[0m\u001b[1;33m\u001b[0m\u001b[0m\n\u001b[1;32m--> 647\u001b[1;33m             \u001b[0mXt\u001b[0m \u001b[1;33m=\u001b[0m \u001b[0mtransform\u001b[0m\u001b[1;33m.\u001b[0m\u001b[0mtransform\u001b[0m\u001b[1;33m(\u001b[0m\u001b[0mXt\u001b[0m\u001b[1;33m)\u001b[0m\u001b[1;33m\u001b[0m\u001b[1;33m\u001b[0m\u001b[0m\n\u001b[0m\u001b[0;32m    648\u001b[0m         \u001b[1;32mreturn\u001b[0m \u001b[0mXt\u001b[0m\u001b[1;33m\u001b[0m\u001b[1;33m\u001b[0m\u001b[0m\n\u001b[0;32m    649\u001b[0m \u001b[1;33m\u001b[0m\u001b[0m\n",
      "\u001b[1;32m~\\anaconda3\\lib\\site-packages\\sklearn\\compose\\_column_transformer.py\u001b[0m in \u001b[0;36mtransform\u001b[1;34m(self, X)\u001b[0m\n\u001b[0;32m    740\u001b[0m             \u001b[0mdiff\u001b[0m \u001b[1;33m=\u001b[0m \u001b[0mall_names\u001b[0m \u001b[1;33m-\u001b[0m \u001b[0mset\u001b[0m\u001b[1;33m(\u001b[0m\u001b[0mX\u001b[0m\u001b[1;33m.\u001b[0m\u001b[0mcolumns\u001b[0m\u001b[1;33m)\u001b[0m\u001b[1;33m\u001b[0m\u001b[1;33m\u001b[0m\u001b[0m\n\u001b[0;32m    741\u001b[0m             \u001b[1;32mif\u001b[0m \u001b[0mdiff\u001b[0m\u001b[1;33m:\u001b[0m\u001b[1;33m\u001b[0m\u001b[1;33m\u001b[0m\u001b[0m\n\u001b[1;32m--> 742\u001b[1;33m                 \u001b[1;32mraise\u001b[0m \u001b[0mValueError\u001b[0m\u001b[1;33m(\u001b[0m\u001b[1;34mf\"columns are missing: {diff}\"\u001b[0m\u001b[1;33m)\u001b[0m\u001b[1;33m\u001b[0m\u001b[1;33m\u001b[0m\u001b[0m\n\u001b[0m\u001b[0;32m    743\u001b[0m         \u001b[1;32melse\u001b[0m\u001b[1;33m:\u001b[0m\u001b[1;33m\u001b[0m\u001b[1;33m\u001b[0m\u001b[0m\n\u001b[0;32m    744\u001b[0m             \u001b[1;31m# ndarray was used for fitting or transforming, thus we only\u001b[0m\u001b[1;33m\u001b[0m\u001b[1;33m\u001b[0m\u001b[0m\n",
      "\u001b[1;31mValueError\u001b[0m: columns are missing: {'half_bath', 'wood_deck_sf', 'pool_area', 'street', 'gr_liv_area', 'fireplace_qu', 'bsmt_cond', 'garage_type', '3ssn_porch', 'misc_val', 'land_contour', 'bsmt_exposure', 'condition_2', 'utilities', 'bedroom_abvgr', 'low_qual_fin_sf', 'lot_area', 'bsmtfin_type_1', 'screen_porch', 'exter_qual', 'lot_shape', 'pid_1', 'functional', 'condition_1', 'yr_sold', 'pool_qc', 'bsmtfin_type_2', 'totrms_abvgrd', 'enclosed_porch', 'pid_4', '2nd_flr_sf', 'full_bath', '1st_flr_sf', 'pid_3', 'land_slope', 'fireplaces', 'fence_priv', 'fence_mat', 'year_built', 'overall_cond', 'exter_cond', 'pid_2', 'bsmt_qual', 'kitchen_abvgr', 'garage_qual', 'garage_finish', 'overall_qual', 'electrical', 'central_air', 'heating_qc', 'mo_sold', 'year_remod/add', 'open_porch_sf', 'garage_cond', 'paved_drive', 'kitchen_qual', 'bldg_type'}"
     ]
    }
   ],
   "source": [
    "df_test = pipe.transform(df_test)"
   ]
  },
  {
   "cell_type": "code",
   "execution_count": 217,
   "id": "98fa74c1-ac95-4c0f-8a0b-3959cc646075",
   "metadata": {},
   "outputs": [
    {
     "data": {
      "text/plain": [
       "['lasso', 0.8871460997445524, 0.8657852186388061, 28706.829792420544]"
      ]
     },
     "execution_count": 217,
     "metadata": {},
     "output_type": "execute_result"
    }
   ],
   "source": [
    "lr = LinearRegression()\n",
    "lr.fit(X_train,y_train)\n",
    "train = lr.score(X_train,y_train)\n",
    "y_pred = lr.predict(X_val)\n",
    "test = lr.score(X_val,y_val)\n",
    "mse = mean_squared_error(y_val,y_pred,squared=False)\n",
    "scores = [model,train,test,mse]\n",
    "scores"
   ]
  },
  {
   "cell_type": "code",
   "execution_count": 50,
   "id": "253ad774-5b3c-4b82-b5b4-90ccf2f04e09",
   "metadata": {},
   "outputs": [
    {
     "data": {
      "text/plain": [
       "['lr', 1.0, -5.947216559897067, 206533.4875621712]"
      ]
     },
     "execution_count": 50,
     "metadata": {},
     "output_type": "execute_result"
    }
   ],
   "source": []
  },
  {
   "cell_type": "code",
   "execution_count": 218,
   "id": "dbc5d161-f88c-4be5-97d7-413200e0e60a",
   "metadata": {},
   "outputs": [
    {
     "data": {
      "text/plain": [
       "['ridge', 0.8857229603510167, 0.8671758682735897, 28557.72143540576]"
      ]
     },
     "execution_count": 218,
     "metadata": {},
     "output_type": "execute_result"
    }
   ],
   "source": [
    "ridge = RidgeCV()\n",
    "model = 'ridge'\n",
    "ridge.fit(X_train,y_train)\n",
    "train = ridge.score(X_train,y_train)\n",
    "y_pred = ridge.predict(X_val)\n",
    "test = ridge.score(X_val,y_val)\n",
    "mse = mean_squared_error(y_val,y_pred,squared=False)\n",
    "scores = [model,train,test,mse]\n",
    "scores"
   ]
  },
  {
   "cell_type": "code",
   "execution_count": 258,
   "id": "c9971ac5-4d2f-4248-9f8d-8d44e1f57f41",
   "metadata": {
    "scrolled": true
   },
   "outputs": [
    {
     "data": {
      "text/plain": [
       "[['lasso', 136, 0.8852287704462091, 0.8704521197542678, 28203.318749185397]]"
      ]
     },
     "execution_count": 258,
     "metadata": {},
     "output_type": "execute_result"
    }
   ],
   "source": [
    "scores = []\n",
    "lasso = Lasso(alpha = 136)\n",
    "model = 'lasso'\n",
    "lasso.fit(X_train,y_train)\n",
    "train = lasso.score(X_train,y_train)\n",
    "y_pred = lasso.predict(X_val)\n",
    "test = lasso.score(X_val,y_val)\n",
    "mse = mean_squared_error(y_val,y_pred,squared=False)\n",
    "scores.append([model,136,train,test,mse])\n",
    "scores"
   ]
  },
  {
   "cell_type": "code",
   "execution_count": 273,
   "id": "36d7c543-f235-482b-a125-67709a674174",
   "metadata": {},
   "outputs": [
    {
     "ename": "ValueError",
     "evalue": "columns are missing: {'half_bath', 'wood_deck_sf', 'pool_area', 'street', 'gr_liv_area', 'fireplace_qu', 'bsmt_cond', 'garage_type', '3ssn_porch', 'misc_val', 'land_contour', 'bsmt_exposure', 'condition_2', 'utilities', 'bedroom_abvgr', 'low_qual_fin_sf', 'lot_area', 'bsmtfin_type_1', 'screen_porch', 'exter_qual', 'lot_shape', 'pid_1', 'functional', 'condition_1', 'yr_sold', 'pool_qc', 'bsmtfin_type_2', 'totrms_abvgrd', 'enclosed_porch', 'pid_4', '2nd_flr_sf', 'full_bath', '1st_flr_sf', 'pid_3', 'land_slope', 'fireplaces', 'fence_priv', 'fence_mat', 'year_built', 'overall_cond', 'exter_cond', 'pid_2', 'bsmt_qual', 'kitchen_abvgr', 'garage_qual', 'garage_finish', 'overall_qual', 'electrical', 'central_air', 'heating_qc', 'mo_sold', 'year_remod/add', 'open_porch_sf', 'garage_cond', 'paved_drive', 'kitchen_qual', 'bldg_type'}",
     "output_type": "error",
     "traceback": [
      "\u001b[1;31m---------------------------------------------------------------------------\u001b[0m",
      "\u001b[1;31mValueError\u001b[0m                                Traceback (most recent call last)",
      "\u001b[1;32m~\\AppData\\Local\\Temp\\ipykernel_10320\\3865628965.py\u001b[0m in \u001b[0;36m<module>\u001b[1;34m\u001b[0m\n\u001b[1;32m----> 1\u001b[1;33m \u001b[0mpipe\u001b[0m\u001b[1;33m.\u001b[0m\u001b[0mtransform\u001b[0m\u001b[1;33m(\u001b[0m\u001b[0mdf_test\u001b[0m\u001b[1;33m)\u001b[0m\u001b[1;33m\u001b[0m\u001b[1;33m\u001b[0m\u001b[0m\n\u001b[0m",
      "\u001b[1;32m~\\anaconda3\\lib\\site-packages\\sklearn\\utils\\metaestimators.py\u001b[0m in \u001b[0;36m<lambda>\u001b[1;34m(*args, **kwargs)\u001b[0m\n\u001b[0;32m    111\u001b[0m \u001b[1;33m\u001b[0m\u001b[0m\n\u001b[0;32m    112\u001b[0m             \u001b[1;31m# lambda, but not partial, allows help() to work with update_wrapper\u001b[0m\u001b[1;33m\u001b[0m\u001b[1;33m\u001b[0m\u001b[0m\n\u001b[1;32m--> 113\u001b[1;33m             \u001b[0mout\u001b[0m \u001b[1;33m=\u001b[0m \u001b[1;32mlambda\u001b[0m \u001b[1;33m*\u001b[0m\u001b[0margs\u001b[0m\u001b[1;33m,\u001b[0m \u001b[1;33m**\u001b[0m\u001b[0mkwargs\u001b[0m\u001b[1;33m:\u001b[0m \u001b[0mself\u001b[0m\u001b[1;33m.\u001b[0m\u001b[0mfn\u001b[0m\u001b[1;33m(\u001b[0m\u001b[0mobj\u001b[0m\u001b[1;33m,\u001b[0m \u001b[1;33m*\u001b[0m\u001b[0margs\u001b[0m\u001b[1;33m,\u001b[0m \u001b[1;33m**\u001b[0m\u001b[0mkwargs\u001b[0m\u001b[1;33m)\u001b[0m  \u001b[1;31m# noqa\u001b[0m\u001b[1;33m\u001b[0m\u001b[1;33m\u001b[0m\u001b[0m\n\u001b[0m\u001b[0;32m    114\u001b[0m         \u001b[1;32melse\u001b[0m\u001b[1;33m:\u001b[0m\u001b[1;33m\u001b[0m\u001b[1;33m\u001b[0m\u001b[0m\n\u001b[0;32m    115\u001b[0m \u001b[1;33m\u001b[0m\u001b[0m\n",
      "\u001b[1;32m~\\anaconda3\\lib\\site-packages\\sklearn\\pipeline.py\u001b[0m in \u001b[0;36mtransform\u001b[1;34m(self, X)\u001b[0m\n\u001b[0;32m    645\u001b[0m         \u001b[0mXt\u001b[0m \u001b[1;33m=\u001b[0m \u001b[0mX\u001b[0m\u001b[1;33m\u001b[0m\u001b[1;33m\u001b[0m\u001b[0m\n\u001b[0;32m    646\u001b[0m         \u001b[1;32mfor\u001b[0m \u001b[0m_\u001b[0m\u001b[1;33m,\u001b[0m \u001b[0m_\u001b[0m\u001b[1;33m,\u001b[0m \u001b[0mtransform\u001b[0m \u001b[1;32min\u001b[0m \u001b[0mself\u001b[0m\u001b[1;33m.\u001b[0m\u001b[0m_iter\u001b[0m\u001b[1;33m(\u001b[0m\u001b[1;33m)\u001b[0m\u001b[1;33m:\u001b[0m\u001b[1;33m\u001b[0m\u001b[1;33m\u001b[0m\u001b[0m\n\u001b[1;32m--> 647\u001b[1;33m             \u001b[0mXt\u001b[0m \u001b[1;33m=\u001b[0m \u001b[0mtransform\u001b[0m\u001b[1;33m.\u001b[0m\u001b[0mtransform\u001b[0m\u001b[1;33m(\u001b[0m\u001b[0mXt\u001b[0m\u001b[1;33m)\u001b[0m\u001b[1;33m\u001b[0m\u001b[1;33m\u001b[0m\u001b[0m\n\u001b[0m\u001b[0;32m    648\u001b[0m         \u001b[1;32mreturn\u001b[0m \u001b[0mXt\u001b[0m\u001b[1;33m\u001b[0m\u001b[1;33m\u001b[0m\u001b[0m\n\u001b[0;32m    649\u001b[0m \u001b[1;33m\u001b[0m\u001b[0m\n",
      "\u001b[1;32m~\\anaconda3\\lib\\site-packages\\sklearn\\compose\\_column_transformer.py\u001b[0m in \u001b[0;36mtransform\u001b[1;34m(self, X)\u001b[0m\n\u001b[0;32m    740\u001b[0m             \u001b[0mdiff\u001b[0m \u001b[1;33m=\u001b[0m \u001b[0mall_names\u001b[0m \u001b[1;33m-\u001b[0m \u001b[0mset\u001b[0m\u001b[1;33m(\u001b[0m\u001b[0mX\u001b[0m\u001b[1;33m.\u001b[0m\u001b[0mcolumns\u001b[0m\u001b[1;33m)\u001b[0m\u001b[1;33m\u001b[0m\u001b[1;33m\u001b[0m\u001b[0m\n\u001b[0;32m    741\u001b[0m             \u001b[1;32mif\u001b[0m \u001b[0mdiff\u001b[0m\u001b[1;33m:\u001b[0m\u001b[1;33m\u001b[0m\u001b[1;33m\u001b[0m\u001b[0m\n\u001b[1;32m--> 742\u001b[1;33m                 \u001b[1;32mraise\u001b[0m \u001b[0mValueError\u001b[0m\u001b[1;33m(\u001b[0m\u001b[1;34mf\"columns are missing: {diff}\"\u001b[0m\u001b[1;33m)\u001b[0m\u001b[1;33m\u001b[0m\u001b[1;33m\u001b[0m\u001b[0m\n\u001b[0m\u001b[0;32m    743\u001b[0m         \u001b[1;32melse\u001b[0m\u001b[1;33m:\u001b[0m\u001b[1;33m\u001b[0m\u001b[1;33m\u001b[0m\u001b[0m\n\u001b[0;32m    744\u001b[0m             \u001b[1;31m# ndarray was used for fitting or transforming, thus we only\u001b[0m\u001b[1;33m\u001b[0m\u001b[1;33m\u001b[0m\u001b[0m\n",
      "\u001b[1;31mValueError\u001b[0m: columns are missing: {'half_bath', 'wood_deck_sf', 'pool_area', 'street', 'gr_liv_area', 'fireplace_qu', 'bsmt_cond', 'garage_type', '3ssn_porch', 'misc_val', 'land_contour', 'bsmt_exposure', 'condition_2', 'utilities', 'bedroom_abvgr', 'low_qual_fin_sf', 'lot_area', 'bsmtfin_type_1', 'screen_porch', 'exter_qual', 'lot_shape', 'pid_1', 'functional', 'condition_1', 'yr_sold', 'pool_qc', 'bsmtfin_type_2', 'totrms_abvgrd', 'enclosed_porch', 'pid_4', '2nd_flr_sf', 'full_bath', '1st_flr_sf', 'pid_3', 'land_slope', 'fireplaces', 'fence_priv', 'fence_mat', 'year_built', 'overall_cond', 'exter_cond', 'pid_2', 'bsmt_qual', 'kitchen_abvgr', 'garage_qual', 'garage_finish', 'overall_qual', 'electrical', 'central_air', 'heating_qc', 'mo_sold', 'year_remod/add', 'open_porch_sf', 'garage_cond', 'paved_drive', 'kitchen_qual', 'bldg_type'}"
     ]
    }
   ],
   "source": [
    "pipe.transform(df_test)"
   ]
  },
  {
   "cell_type": "code",
   "execution_count": 265,
   "id": "61f9a2af-73fa-4d58-9c0b-161dce4e95bd",
   "metadata": {},
   "outputs": [
    {
     "data": {
      "text/html": [
       "<div>\n",
       "<style scoped>\n",
       "    .dataframe tbody tr th:only-of-type {\n",
       "        vertical-align: middle;\n",
       "    }\n",
       "\n",
       "    .dataframe tbody tr th {\n",
       "        vertical-align: top;\n",
       "    }\n",
       "\n",
       "    .dataframe thead th {\n",
       "        text-align: right;\n",
       "    }\n",
       "</style>\n",
       "<table border=\"1\" class=\"dataframe\">\n",
       "  <thead>\n",
       "    <tr style=\"text-align: right;\">\n",
       "      <th></th>\n",
       "      <th>Id</th>\n",
       "      <th>PID</th>\n",
       "      <th>MS SubClass</th>\n",
       "      <th>MS Zoning</th>\n",
       "      <th>Lot Frontage</th>\n",
       "      <th>Lot Area</th>\n",
       "      <th>Street</th>\n",
       "      <th>Alley</th>\n",
       "      <th>Lot Shape</th>\n",
       "      <th>Land Contour</th>\n",
       "      <th>...</th>\n",
       "      <th>3Ssn Porch</th>\n",
       "      <th>Screen Porch</th>\n",
       "      <th>Pool Area</th>\n",
       "      <th>Pool QC</th>\n",
       "      <th>Fence</th>\n",
       "      <th>Misc Feature</th>\n",
       "      <th>Misc Val</th>\n",
       "      <th>Mo Sold</th>\n",
       "      <th>Yr Sold</th>\n",
       "      <th>Sale Type</th>\n",
       "    </tr>\n",
       "  </thead>\n",
       "  <tbody>\n",
       "    <tr>\n",
       "      <th>0</th>\n",
       "      <td>2658</td>\n",
       "      <td>902301120</td>\n",
       "      <td>190</td>\n",
       "      <td>RM</td>\n",
       "      <td>69.0</td>\n",
       "      <td>9142</td>\n",
       "      <td>Pave</td>\n",
       "      <td>Grvl</td>\n",
       "      <td>Reg</td>\n",
       "      <td>Lvl</td>\n",
       "      <td>...</td>\n",
       "      <td>0</td>\n",
       "      <td>0</td>\n",
       "      <td>0</td>\n",
       "      <td>NaN</td>\n",
       "      <td>NaN</td>\n",
       "      <td>NaN</td>\n",
       "      <td>0</td>\n",
       "      <td>4</td>\n",
       "      <td>2006</td>\n",
       "      <td>WD</td>\n",
       "    </tr>\n",
       "    <tr>\n",
       "      <th>1</th>\n",
       "      <td>2718</td>\n",
       "      <td>905108090</td>\n",
       "      <td>90</td>\n",
       "      <td>RL</td>\n",
       "      <td>NaN</td>\n",
       "      <td>9662</td>\n",
       "      <td>Pave</td>\n",
       "      <td>NaN</td>\n",
       "      <td>IR1</td>\n",
       "      <td>Lvl</td>\n",
       "      <td>...</td>\n",
       "      <td>0</td>\n",
       "      <td>0</td>\n",
       "      <td>0</td>\n",
       "      <td>NaN</td>\n",
       "      <td>NaN</td>\n",
       "      <td>NaN</td>\n",
       "      <td>0</td>\n",
       "      <td>8</td>\n",
       "      <td>2006</td>\n",
       "      <td>WD</td>\n",
       "    </tr>\n",
       "    <tr>\n",
       "      <th>2</th>\n",
       "      <td>2414</td>\n",
       "      <td>528218130</td>\n",
       "      <td>60</td>\n",
       "      <td>RL</td>\n",
       "      <td>58.0</td>\n",
       "      <td>17104</td>\n",
       "      <td>Pave</td>\n",
       "      <td>NaN</td>\n",
       "      <td>IR1</td>\n",
       "      <td>Lvl</td>\n",
       "      <td>...</td>\n",
       "      <td>0</td>\n",
       "      <td>0</td>\n",
       "      <td>0</td>\n",
       "      <td>NaN</td>\n",
       "      <td>NaN</td>\n",
       "      <td>NaN</td>\n",
       "      <td>0</td>\n",
       "      <td>9</td>\n",
       "      <td>2006</td>\n",
       "      <td>New</td>\n",
       "    </tr>\n",
       "    <tr>\n",
       "      <th>3</th>\n",
       "      <td>1989</td>\n",
       "      <td>902207150</td>\n",
       "      <td>30</td>\n",
       "      <td>RM</td>\n",
       "      <td>60.0</td>\n",
       "      <td>8520</td>\n",
       "      <td>Pave</td>\n",
       "      <td>NaN</td>\n",
       "      <td>Reg</td>\n",
       "      <td>Lvl</td>\n",
       "      <td>...</td>\n",
       "      <td>0</td>\n",
       "      <td>0</td>\n",
       "      <td>0</td>\n",
       "      <td>NaN</td>\n",
       "      <td>NaN</td>\n",
       "      <td>NaN</td>\n",
       "      <td>0</td>\n",
       "      <td>7</td>\n",
       "      <td>2007</td>\n",
       "      <td>WD</td>\n",
       "    </tr>\n",
       "    <tr>\n",
       "      <th>4</th>\n",
       "      <td>625</td>\n",
       "      <td>535105100</td>\n",
       "      <td>20</td>\n",
       "      <td>RL</td>\n",
       "      <td>NaN</td>\n",
       "      <td>9500</td>\n",
       "      <td>Pave</td>\n",
       "      <td>NaN</td>\n",
       "      <td>IR1</td>\n",
       "      <td>Lvl</td>\n",
       "      <td>...</td>\n",
       "      <td>0</td>\n",
       "      <td>185</td>\n",
       "      <td>0</td>\n",
       "      <td>NaN</td>\n",
       "      <td>NaN</td>\n",
       "      <td>NaN</td>\n",
       "      <td>0</td>\n",
       "      <td>7</td>\n",
       "      <td>2009</td>\n",
       "      <td>WD</td>\n",
       "    </tr>\n",
       "  </tbody>\n",
       "</table>\n",
       "<p>5 rows × 80 columns</p>\n",
       "</div>"
      ],
      "text/plain": [
       "     Id        PID  MS SubClass MS Zoning  Lot Frontage  Lot Area Street  \\\n",
       "0  2658  902301120          190        RM          69.0      9142   Pave   \n",
       "1  2718  905108090           90        RL           NaN      9662   Pave   \n",
       "2  2414  528218130           60        RL          58.0     17104   Pave   \n",
       "3  1989  902207150           30        RM          60.0      8520   Pave   \n",
       "4   625  535105100           20        RL           NaN      9500   Pave   \n",
       "\n",
       "  Alley Lot Shape Land Contour  ... 3Ssn Porch Screen Porch Pool Area Pool QC  \\\n",
       "0  Grvl       Reg          Lvl  ...          0            0         0     NaN   \n",
       "1   NaN       IR1          Lvl  ...          0            0         0     NaN   \n",
       "2   NaN       IR1          Lvl  ...          0            0         0     NaN   \n",
       "3   NaN       Reg          Lvl  ...          0            0         0     NaN   \n",
       "4   NaN       IR1          Lvl  ...          0          185         0     NaN   \n",
       "\n",
       "  Fence Misc Feature Misc Val Mo Sold  Yr Sold  Sale Type  \n",
       "0   NaN          NaN        0       4     2006        WD   \n",
       "1   NaN          NaN        0       8     2006        WD   \n",
       "2   NaN          NaN        0       9     2006        New  \n",
       "3   NaN          NaN        0       7     2007        WD   \n",
       "4   NaN          NaN        0       7     2009        WD   \n",
       "\n",
       "[5 rows x 80 columns]"
      ]
     },
     "execution_count": 265,
     "metadata": {},
     "output_type": "execute_result"
    }
   ],
   "source": [
    "df_test.head()"
   ]
  },
  {
   "cell_type": "code",
   "execution_count": null,
   "id": "e23a22bf-004f-48d7-89bb-5beb16133d51",
   "metadata": {},
   "outputs": [],
   "source": [
    "X = df_train.col"
   ]
  },
  {
   "cell_type": "code",
   "execution_count": 268,
   "id": "2569f9fe-bf4e-40c1-9c34-09bd4a6c35c0",
   "metadata": {},
   "outputs": [
    {
     "ename": "AttributeError",
     "evalue": "'DataFrame' object has no attribute 'dtype'",
     "output_type": "error",
     "traceback": [
      "\u001b[1;31m---------------------------------------------------------------------------\u001b[0m",
      "\u001b[1;31mAttributeError\u001b[0m                            Traceback (most recent call last)",
      "\u001b[1;32m~\\AppData\\Local\\Temp\\ipykernel_10320\\3312124938.py\u001b[0m in \u001b[0;36m<module>\u001b[1;34m\u001b[0m\n\u001b[1;32m----> 1\u001b[1;33m \u001b[0mdf_test\u001b[0m\u001b[1;33m.\u001b[0m\u001b[0mdtype\u001b[0m\u001b[1;33m\u001b[0m\u001b[1;33m\u001b[0m\u001b[0m\n\u001b[0m",
      "\u001b[1;32m~\\anaconda3\\lib\\site-packages\\pandas\\core\\generic.py\u001b[0m in \u001b[0;36m__getattr__\u001b[1;34m(self, name)\u001b[0m\n\u001b[0;32m   5573\u001b[0m         ):\n\u001b[0;32m   5574\u001b[0m             \u001b[1;32mreturn\u001b[0m \u001b[0mself\u001b[0m\u001b[1;33m[\u001b[0m\u001b[0mname\u001b[0m\u001b[1;33m]\u001b[0m\u001b[1;33m\u001b[0m\u001b[1;33m\u001b[0m\u001b[0m\n\u001b[1;32m-> 5575\u001b[1;33m         \u001b[1;32mreturn\u001b[0m \u001b[0mobject\u001b[0m\u001b[1;33m.\u001b[0m\u001b[0m__getattribute__\u001b[0m\u001b[1;33m(\u001b[0m\u001b[0mself\u001b[0m\u001b[1;33m,\u001b[0m \u001b[0mname\u001b[0m\u001b[1;33m)\u001b[0m\u001b[1;33m\u001b[0m\u001b[1;33m\u001b[0m\u001b[0m\n\u001b[0m\u001b[0;32m   5576\u001b[0m \u001b[1;33m\u001b[0m\u001b[0m\n\u001b[0;32m   5577\u001b[0m     \u001b[1;32mdef\u001b[0m \u001b[0m__setattr__\u001b[0m\u001b[1;33m(\u001b[0m\u001b[0mself\u001b[0m\u001b[1;33m,\u001b[0m \u001b[0mname\u001b[0m\u001b[1;33m:\u001b[0m \u001b[0mstr\u001b[0m\u001b[1;33m,\u001b[0m \u001b[0mvalue\u001b[0m\u001b[1;33m)\u001b[0m \u001b[1;33m->\u001b[0m \u001b[1;32mNone\u001b[0m\u001b[1;33m:\u001b[0m\u001b[1;33m\u001b[0m\u001b[1;33m\u001b[0m\u001b[0m\n",
      "\u001b[1;31mAttributeError\u001b[0m: 'DataFrame' object has no attribute 'dtype'"
     ]
    }
   ],
   "source": [
    "df_test.dtype"
   ]
  },
  {
   "cell_type": "code",
   "execution_count": null,
   "id": "4274ac26-fee8-4df2-8782-1ea5e0f2830a",
   "metadata": {},
   "outputs": [],
   "source": []
  },
  {
   "cell_type": "code",
   "execution_count": null,
   "id": "5074338e-924f-4b0e-9f84-2847440cd803",
   "metadata": {},
   "outputs": [],
   "source": [
    "X = df_train.\n",
    "y"
   ]
  },
  {
   "cell_type": "code",
   "execution_count": null,
   "id": "4980cccb-02a4-490f-9fa9-aa7f07bed570",
   "metadata": {},
   "outputs": [],
   "source": []
  },
  {
   "cell_type": "code",
   "execution_count": null,
   "id": "12a9fe6b-14c9-42b9-8b31-24a7bf991d4e",
   "metadata": {},
   "outputs": [],
   "source": []
  },
  {
   "cell_type": "code",
   "execution_count": null,
   "id": "92891c3f-c36e-4c06-bf6e-89d775ef13ec",
   "metadata": {},
   "outputs": [],
   "source": []
  },
  {
   "cell_type": "code",
   "execution_count": 235,
   "id": "24b8b5ed-603e-49ff-b1f2-64b7cdb6e1ea",
   "metadata": {},
   "outputs": [
    {
     "data": {
      "text/plain": [
       "['enet', 0.8537038229345764, 0.8652555066826852, 28763.423322711904]"
      ]
     },
     "execution_count": 235,
     "metadata": {},
     "output_type": "execute_result"
    }
   ],
   "source": [
    "enet = ElasticNet(alpha = 1500, l1_ratio= 1)\n",
    "model = 'enet'\n",
    "enet.fit(X_train,y_train)\n",
    "train = enet.score(X_train,y_train)\n",
    "y_pred = enet.predict(X_val)\n",
    "test = enet.score(X_val,y_val)\n",
    "mse = mean_squared_error(y_val,y_pred,squared=False)\n",
    "scores = [model,train,test,mse]\n",
    "scores"
   ]
  },
  {
   "cell_type": "code",
   "execution_count": null,
   "id": "d20c4ed9-1f8b-4402-b9d4-04edd35f1827",
   "metadata": {},
   "outputs": [],
   "source": []
  },
  {
   "cell_type": "code",
   "execution_count": null,
   "id": "a5c9e162-b1b9-4e70-bf08-1f10066b49a5",
   "metadata": {},
   "outputs": [],
   "source": []
  },
  {
   "cell_type": "code",
   "execution_count": null,
   "id": "5e25209e-c3b6-47a8-acf9-0179b13022f7",
   "metadata": {},
   "outputs": [],
   "source": []
  },
  {
   "cell_type": "code",
   "execution_count": 190,
   "id": "01fea188-aa4f-44b3-af58-3494c940b4c1",
   "metadata": {},
   "outputs": [],
   "source": [
    "from ipywidgets import *\n",
    "from IPython.display import display\n",
    "\n",
    "# The cycler package lets us \"cycle\" throug colors.\n",
    "# Just another thing i had to look up on stackoverflow. That's my life.\n",
    "from cycler import cycler\n",
    "\n",
    "def coef_plotter(alphas, coefs, feature_names, to_alpha, regtype='ridge'):\n",
    "    \n",
    "    # Get the full range of alphas before subsetting to keep the plots from \n",
    "    # resetting axes each time. (We use these values to set static axes later).\n",
    "    amin = np.min(alphas)\n",
    "    amax = np.max(alphas)\n",
    "    \n",
    "    # Subset the alphas and coefficients to just the ones below the set limit\n",
    "    # from the interactive widget:\n",
    "    alphas = [a for a in alphas if a <= to_alpha]\n",
    "    coefs = coefs[0:len(alphas)]\n",
    "    \n",
    "    # Get some colors from seaborn:\n",
    "    colors = sns.color_palette(\"husl\", len(coefs[0]))\n",
    "    \n",
    "    # Get the figure and reset the size to be wider:\n",
    "    fig = plt.figure()\n",
    "    fig.set_size_inches(18,5)\n",
    "\n",
    "    # We have two axes this time on our figure. \n",
    "    # The fig.add_subplot adds axes to our figure. The number inside stands for:\n",
    "    #[figure_rows|figure_cols|position_of_current_axes]\n",
    "    ax1 = fig.add_subplot(121)\n",
    "    \n",
    "    # Give it the color cycler:\n",
    "    ax1.set_prop_cycle(cycler('color', colors))\n",
    "    \n",
    "    # Print a vertical line showing our current alpha threshold:\n",
    "    ax1.axvline(to_alpha, lw=2, ls='dashed', c='k', alpha=0.4)\n",
    "    \n",
    "    # Plot the lines of the alphas on x-axis and coefficients on y-axis\n",
    "    ax1.plot(alphas, coefs, lw=2)\n",
    "    \n",
    "    # set labels for axes:\n",
    "    ax1.set_xlabel('alpha', fontsize=20)\n",
    "    ax1.set_ylabel('coefficients', fontsize=20)\n",
    "    \n",
    "    # If this is for the ridge, set this to a log scale on the x-axis:\n",
    "    if regtype == 'ridge':\n",
    "        ax1.set_xscale('log')\n",
    "    \n",
    "    # Enforce the axis limits:\n",
    "    ax1.set_xlim([amin, amax])\n",
    "    \n",
    "    # Put a title on the axis\n",
    "    ax1.set_title(regtype+' coef paths\\n', fontsize=20)\n",
    "    \n",
    "    # Get the ymin and ymax for this axis to enforce it to be the same on the \n",
    "    # second chart:\n",
    "    ymin, ymax = ax1.get_ylim()\n",
    "\n",
    "    # Add our second axes for the barplot in position 2:\n",
    "    ax2 = fig.add_subplot(122)\n",
    "    \n",
    "    # Position the bars according to their index from the feature names variable:\n",
    "    ax2.bar(range(1, len(feature_names)+1), coefs[-1], align='center', color=colors)\n",
    "    ax2.set_xticks(range(1, len(feature_names)+1))\n",
    "    \n",
    "    # Reset the ticks from numbers to acutally be the names:\n",
    "    ax2.set_xticklabels(feature_names, rotation=65, fontsize=12)\n",
    "    \n",
    "    # enforce limits and add titles, labels\n",
    "    ax2.set_ylim([ymin, ymax])\n",
    "    ax2.set_title(regtype+' predictor coefs\\n', fontsize=20)\n",
    "    ax2.set_xlabel('coefficients', fontsize=20)\n",
    "    ax2.set_ylabel('alpha', fontsize=20)\n",
    "    \n",
    "    plt.show()"
   ]
  },
  {
   "cell_type": "code",
   "execution_count": 191,
   "id": "3a65a6d8-32ff-427c-93da-659b92f248d7",
   "metadata": {},
   "outputs": [],
   "source": [
    "def ridge_coefs(X_train, y_train, alphas):\n",
    "    \n",
    "    # set up the list to hold the different sets of coefficients:\n",
    "    coefs = []\n",
    "    \n",
    "    # Set up a ridge regression object\n",
    "    rg = Ridge()\n",
    "    \n",
    "    # Iterate through the alphas fed into the function:\n",
    "    for a in alphas:\n",
    "        \n",
    "        # On each alpha reset the ridge model's alpha to the current one:\n",
    "        rg.set_params(alpha = a)\n",
    "        \n",
    "        # fit or refit the model on the provided X, Y\n",
    "        rg.fit(X_train, y_train)\n",
    "        \n",
    "        # Get out the coefficient list\n",
    "        coefs.append(rg.coef_)\n",
    "        \n",
    "    return coefs"
   ]
  },
  {
   "cell_type": "code",
   "execution_count": 192,
   "id": "578fd9bf-4263-4324-93de-a9f3025cb9cb",
   "metadata": {},
   "outputs": [],
   "source": [
    "# strengths of penalties\n",
    "r_alphas = np.logspace(0, 5, 200)\n",
    "\n",
    "# Get the coefficients for each alpha for the Ridge, using the function above\n",
    "r_coefs = ridge_coefs(X_train, y_train, r_alphas)"
   ]
  },
  {
   "cell_type": "code",
   "execution_count": 194,
   "id": "77436b2b-8f30-46b1-a799-34fd566a6583",
   "metadata": {},
   "outputs": [
    {
     "data": {
      "application/vnd.jupyter.widget-view+json": {
       "model_id": "d6500d7f8e6647beb8293987134ef9b8",
       "version_major": 2,
       "version_minor": 0
      },
      "text/plain": [
       "interactive(children=(FloatSlider(value=0.0, description='log_of_alpha', max=5.0, step=0.05), Output()), _dom_…"
      ]
     },
     "metadata": {},
     "output_type": "display_data"
    },
    {
     "data": {
      "text/plain": [
       "<function __main__.ridge_plot_runner(log_of_alpha=0)>"
      ]
     },
     "execution_count": 194,
     "metadata": {},
     "output_type": "execute_result"
    }
   ],
   "source": [
    "def ridge_plot_runner(log_of_alpha=0):\n",
    "    coef_plotter(r_alphas, r_coefs, X_train.columns, 10**log_of_alpha, regtype='ridge')\n",
    "\n",
    "interact(ridge_plot_runner, log_of_alpha=(0.0,5.0,0.05))"
   ]
  },
  {
   "cell_type": "code",
   "execution_count": 195,
   "id": "77da833a-b296-4069-9ffc-f10bb3699017",
   "metadata": {},
   "outputs": [],
   "source": [
    "def lasso_coefs(X_train, y_train, alphas):\n",
    "    coefs = []\n",
    "    lasso_reg = Lasso()\n",
    "    for a in alphas:\n",
    "        lasso_reg.set_params(alpha=a)\n",
    "        lasso_reg.fit(X_train,y_train)\n",
    "        coefs.append(lasso_reg.coef_)\n",
    "        \n",
    "    return coefs"
   ]
  },
  {
   "cell_type": "code",
   "execution_count": 243,
   "id": "64c12039-9be8-4cb4-ad70-c5ab6dcd1776",
   "metadata": {},
   "outputs": [],
   "source": [
    "with warnings.catch_warnings():\n",
    "    warnings.simplefilter('ignore')\n",
    "    l_alphas = np.arange(100, 500, 10)\n",
    "    l_coefs = lasso_coefs(X_train, y_train, l_alphas)"
   ]
  },
  {
   "cell_type": "code",
   "execution_count": 245,
   "id": "c31ca79d-e4d3-47ac-9eee-388c1f8f53f2",
   "metadata": {},
   "outputs": [
    {
     "data": {
      "application/vnd.jupyter.widget-view+json": {
       "model_id": "9cd182f644cb4960abca9e5642ddaf55",
       "version_major": 2,
       "version_minor": 0
      },
      "text/plain": [
       "interactive(children=(IntSlider(value=100, description='alpha', max=500, min=100, step=10), Output()), _dom_cl…"
      ]
     },
     "metadata": {},
     "output_type": "display_data"
    },
    {
     "data": {
      "text/plain": [
       "<function __main__.lasso_plot_runner(alpha=0)>"
      ]
     },
     "execution_count": 245,
     "metadata": {},
     "output_type": "execute_result"
    }
   ],
   "source": [
    "def lasso_plot_runner(alpha=0):\n",
    "    coef_plotter(l_alphas, l_coefs, X_train.columns, alpha, regtype='lasso')\n",
    "\n",
    "interact(lasso_plot_runner, alpha=(100,500,10))"
   ]
  },
  {
   "cell_type": "code",
   "execution_count": null,
   "id": "7cebbcbd-433c-43cc-94d8-01fc280f3518",
   "metadata": {},
   "outputs": [],
   "source": []
  },
  {
   "cell_type": "code",
   "execution_count": 198,
   "id": "61ba4874-e733-44a3-b84b-3cfc7625cfaa",
   "metadata": {},
   "outputs": [],
   "source": [
    "def elasticnet_coefs(X_train, y_train, alphas):\n",
    "    coefs = []\n",
    "    enet_reg = ElasticNet()\n",
    "    for a in alphas:\n",
    "        enet_reg.set_params(alpha=a, l1_ratio=0.05)\n",
    "        enet_reg.fit(X_train, y_train)\n",
    "        coefs.append(enet_reg.coef_)\n",
    "        \n",
    "    return coefs"
   ]
  },
  {
   "cell_type": "code",
   "execution_count": 199,
   "id": "77b8f569-e477-485b-bf32-9ac0c050be8b",
   "metadata": {},
   "outputs": [],
   "source": [
    "enet_alphas = np.arange(0.01, 1, 0.005)\n",
    "enet_coefs = elasticnet_coefs(X_train, y_train, enet_alphas)"
   ]
  },
  {
   "cell_type": "code",
   "execution_count": 200,
   "id": "407504ed-949a-496f-8023-687045512771",
   "metadata": {},
   "outputs": [
    {
     "data": {
      "application/vnd.jupyter.widget-view+json": {
       "model_id": "7ccd71652a86495aa8a7788d003a32b2",
       "version_major": 2,
       "version_minor": 0
      },
      "text/plain": [
       "interactive(children=(FloatSlider(value=0.01, description='alpha', max=1.01, min=0.01, step=0.005), Output()),…"
      ]
     },
     "metadata": {},
     "output_type": "display_data"
    },
    {
     "data": {
      "text/plain": [
       "<function __main__.enet_plot_runner(alpha=0.01)>"
      ]
     },
     "execution_count": 200,
     "metadata": {},
     "output_type": "execute_result"
    }
   ],
   "source": [
    "def enet_plot_runner(alpha=0.01):\n",
    "    coef_plotter(enet_alphas, enet_coefs, X_train.columns, alpha, regtype='elastic net')\n",
    "\n",
    "interact(enet_plot_runner, alpha=(0.01,1.01,0.005))"
   ]
  },
  {
   "cell_type": "code",
   "execution_count": null,
   "id": "6d2ebcda-63da-4a0f-be88-4065547c6138",
   "metadata": {},
   "outputs": [],
   "source": []
  },
  {
   "cell_type": "code",
   "execution_count": null,
   "id": "1fecca62-64a5-4ddf-bab6-351f113ec4aa",
   "metadata": {},
   "outputs": [],
   "source": []
  },
  {
   "cell_type": "code",
   "execution_count": 109,
   "id": "bf6a253b",
   "metadata": {},
   "outputs": [
    {
     "name": "stderr",
     "output_type": "stream",
     "text": [
      "C:\\Users\\Ari\\anaconda3\\lib\\site-packages\\statsmodels\\regression\\linear_model.py:1738: RuntimeWarning: invalid value encountered in double_scalars\n",
      "  return 1 - self.ssr/self.uncentered_tss\n",
      "C:\\Users\\Ari\\anaconda3\\lib\\site-packages\\statsmodels\\stats\\outliers_influence.py:195: RuntimeWarning: divide by zero encountered in double_scalars\n",
      "  vif = 1. / (1. - r_squared_i)\n"
     ]
    }
   ],
   "source": [
    "x = [(X_train.columns[col], variance_inflation_factor(X_train,col)) for col in range(len(X_train.columns))]"
   ]
  },
  {
   "cell_type": "code",
   "execution_count": 110,
   "id": "4af9a33f",
   "metadata": {},
   "outputs": [
    {
     "data": {
      "text/plain": [
       "[('ohe__ms_zoning_5', 431.28178550816045),\n",
       " ('ohe__ms_zoning_4', 321.06047274004766),\n",
       " ('ohe__exterior_2nd_VinylSd', 143.01203530836486),\n",
       " ('ohe__ms_zoning_6', 132.20415779683825),\n",
       " ('ohe__exterior_1st_VinylSd', 121.16201244750194),\n",
       " ('ohe__exterior_2nd_MetalSd', 98.24267808831803),\n",
       " ('ohe__exterior_1st_MetalSd', 85.99223776550824),\n",
       " ('ohe__roof_style_Gable', 79.34982276853958),\n",
       " ('ohe__roof_style_Hip', 75.64366101059146),\n",
       " ('ohe__exterior_2nd_HdBoard', 60.27946667427092),\n",
       " ('ohe__exterior_2nd_Wd Sdng', 57.45539780043687),\n",
       " ('ohe__exterior_1st_HdBoard', 53.29813389329718),\n",
       " ('ohe__exterior_1st_Wd Sdng', 48.46289966282118),\n",
       " ('ohe__exterior_2nd_CmentBd', 46.503549359798846),\n",
       " ('ohe__exterior_1st_CemntBd', 42.84425264377309),\n",
       " ('ohe__house_style_5', 40.07197780619061),\n",
       " ('ohe__exterior_2nd_Plywood', 39.85422766867628),\n",
       " ('ohe__roof_matl_CompShg', 31.027313091701313),\n",
       " ('ohe__exterior_1st_Plywood', 28.51361321440412),\n",
       " ('ohe__ms_subclass_60', 25.97646644337974),\n",
       " ('ohe__ms_zoning_2', 23.670498618017795),\n",
       " ('ohe__neighborhood_NAmes', 21.053697242080105),\n",
       " ('ohe__ms_zoning_3', 20.88178016109778),\n",
       " ('ohe__roof_matl_Tar&Grv', 20.38261931625285),\n",
       " ('ohe__house_style_2', 20.317699439274783),\n",
       " ('ohe__house_style_3', 19.95534177413299),\n",
       " ('ohe__ms_subclass_80', 19.62268732565601),\n",
       " ('ohe__ms_subclass_50', 18.378552251150325),\n",
       " ('ohe__neighborhood_CollgCr', 17.311564547183654),\n",
       " ('ohe__neighborhood_OldTown', 16.232195818718886),\n",
       " ('ohe__neighborhood_Mitchel', 15.434345965208232),\n",
       " ('ohe__exterior_2nd_Wd Shng', 15.298765884956188),\n",
       " ('ohe__neighborhood_Edwards', 13.847822609463625),\n",
       " ('ohe__neighborhood_Somerst', 13.116990485478576),\n",
       " ('ohe__exterior_1st_BrkFace', 11.069395601525063),\n",
       " ('ohe__neighborhood_IDOTRR', 10.944245986298553),\n",
       " ('ohe__exterior_2nd_Brk Cmn', 10.64693359683008),\n",
       " ('ohe__neighborhood_Sawyer', 9.944571522471941),\n",
       " ('ohe__ms_subclass_160', 9.508516406784198),\n",
       " ('ohe__exterior_1st_WdShing', 9.353226654475188),\n",
       " ('ohe__neighborhood_BrkSide', 8.969506202942535),\n",
       " ('ohe__exterior_2nd_Stucco', 8.707008422091956),\n",
       " ('ohe__exterior_2nd_BrkFace', 8.451624835106768),\n",
       " ('ohe__neighborhood_Crawfor', 8.386280019070373),\n",
       " ('ohe__neighborhood_Gilbert', 8.216653612699247),\n",
       " ('ohe__neighborhood_Timber', 8.112962003164935),\n",
       " ('ohe__roof_matl_WdShake', 7.777243235923453),\n",
       " ('ohe__ms_subclass_70', 7.70169211175505),\n",
       " ('ohe__neighborhood_SawyerW', 7.603070003047677),\n",
       " ('ohe__neighborhood_NWAmes', 7.545517315252664),\n",
       " ('ohe__neighborhood_MeadowV', 6.997014767836856),\n",
       " ('ohe__neighborhood_NridgHt', 6.967069618652718),\n",
       " ('ohe__exterior_1st_Stucco', 6.6956723354969165),\n",
       " ('ohe__neighborhood_NPkVill', 6.444869298337035),\n",
       " ('ohe__roof_matl_WdShngl', 6.0623118217193),\n",
       " ('ohe__ms_subclass_45', 6.001853745141962),\n",
       " ('ohe__house_style_1', 5.963818117810796),\n",
       " ('ohe__ms_subclass_75', 5.161984514649663),\n",
       " ('ohe__house_style_6', 4.820558705804869),\n",
       " ('ohe__house_style_4', 4.703062093984131),\n",
       " ('ohe__neighborhood_NoRidge', 4.49939487780063),\n",
       " ('ohe__neighborhood_SWISU', 4.277481395174471),\n",
       " ('ohe__ms_subclass_90', 4.135312267536884),\n",
       " ('ohe__roof_style_Gambrel', 4.116084983114577),\n",
       " ('ohe__exterior_2nd_ImStucc', 4.087677247899271),\n",
       " ('ohe__neighborhood_ClearCr', 3.6686324082544703),\n",
       " ('ohe__ms_subclass_85', 3.645457806222165),\n",
       " ('ohe__exterior_2nd_AsphShn', 3.415888027519962),\n",
       " ('ohe__neighborhood_StoneBr', 3.379791218338479),\n",
       " ('ohe__neighborhood_BrDale', 3.1617570662153667),\n",
       " ('ohe__exterior_1st_CBlock', 3.1063050351662236),\n",
       " ('ohe__roof_matl_Membran', 2.85868580526817),\n",
       " ('ohe__roof_style_Mansard', 2.8584059401165436),\n",
       " ('ohe__exterior_1st_AsphShn', 2.7472279525318477),\n",
       " ('ohe__ms_subclass_190', 2.5858096803316752),\n",
       " ('ohe__house_style_7', 2.499795918077821),\n",
       " ('ohe__exterior_2nd_Stone', 2.4430568400652284),\n",
       " ('ohe__exterior_1st_BrkComm', 2.4427737027377954),\n",
       " ('ohe__ms_subclass_120', 2.427257735589142),\n",
       " ('ohe__ms_subclass_180', 2.376341877093797),\n",
       " ('ohe__ms_subclass_30', 2.3078740053935647),\n",
       " ('ohe__neighborhood_Veenker', 2.2720221522903925),\n",
       " ('ohe__exterior_1st_Stone', 2.192189576288866),\n",
       " ('ohe__neighborhood_Blueste', 1.976605990367724),\n",
       " ('ohe__roof_style_Shed', 1.963627785744521),\n",
       " ('ohe__lot_config_Inside', 1.59800633777864),\n",
       " ('ohe__lot_config_CulDSac', 1.5615741534586085),\n",
       " ('ohe__exterior_1st_ImStucc', 1.443987110101281),\n",
       " ('ohe__neighborhood_GrnHill', 1.437088953971221),\n",
       " ('ohe__lot_config_FR2', 1.3910671364845197),\n",
       " ('ohe__lot_config_FR3', 1.332070954293785),\n",
       " ('ohe__neighborhood_Landmrk', 1.3011896692130265),\n",
       " ('ohe__ms_subclass_150', 1.2410837379530373),\n",
       " ('ohe__neighborhood_Greens', 1.2154331218678058),\n",
       " ('ohe__ms_subclass_40', 1.151502455319357),\n",
       " ('remainder__land_contour', nan),\n",
       " ('remainder__utilities', nan),\n",
       " ('remainder__condition_1', nan),\n",
       " ('remainder__condition_2', nan),\n",
       " ('remainder__bldg_type', nan),\n",
       " ('remainder__year_built', 13.207806362579547),\n",
       " ('ohe__foundation_PConc', 7.544852984693906),\n",
       " ('ohe__foundation_CBlock', 6.13181759960498),\n",
       " ('remainder__overall_qual', 4.45469935832673),\n",
       " ('ohe__sale_type_WD ', 3.82254304280993),\n",
       " ('ohe__sale_type_New', 3.7953501496173008),\n",
       " ('remainder__year_remod/add', 3.2088480489841285),\n",
       " ('ohe__exterior_2nd_CBlock', 2.838090541630542),\n",
       " ('remainder__lot_area', 2.5698986519586233),\n",
       " ('ohe__heating_Wall', 1.9084299902639041),\n",
       " ('remainder__overall_cond', 1.8900100193861837),\n",
       " ('ohe__foundation_Slab', 1.7107918597019443),\n",
       " ('ohe__sale_type_ConLD', 1.5357049603876871),\n",
       " ('remainder__lot_shape', 1.531303781022555),\n",
       " ('remainder__land_slope', 1.3168164158857465),\n",
       " ('ohe__sale_type_CWD', 1.2564493152165772),\n",
       " ('ohe__heating_GasW', 1.2451124139944696),\n",
       " ('ohe__foundation_Stone', 1.2441397732707615),\n",
       " ('remainder__street', 1.1824239976869517),\n",
       " ('ohe__sale_type_Con', 1.153282785144825),\n",
       " ('ohe__sale_type_ConLw', 1.153002251544918),\n",
       " ('ohe__heating_OthW', 1.1483934422394109),\n",
       " ('ohe__sale_type_Oth', 1.114726836088872),\n",
       " ('ohe__sale_type_ConLI', 1.0972315363937433),\n",
       " ('ohe__heating_Grav', 1.0900189231966544),\n",
       " ('ohe__foundation_Wood', 1.0687971470217743),\n",
       " ('remainder__exter_qual', nan),\n",
       " ('remainder__exter_cond', nan),\n",
       " ('remainder__bsmt_qual', nan),\n",
       " ('remainder__bsmt_cond', nan),\n",
       " ('remainder__bsmt_exposure', nan),\n",
       " ('remainder__bsmtfin_type_1', nan),\n",
       " ('remainder__bsmtfin_type_2', nan),\n",
       " ('remainder__heating_qc', nan),\n",
       " ('remainder__central_air', nan),\n",
       " ('remainder__electrical', nan),\n",
       " ('remainder__1st_flr_sf', inf),\n",
       " ('remainder__2nd_flr_sf', inf),\n",
       " ('remainder__low_qual_fin_sf', inf),\n",
       " ('remainder__gr_liv_area', inf),\n",
       " ('remainder__full_bath', 3.4509314848679327),\n",
       " ('remainder__kitchen_qual', nan),\n",
       " ('remainder__totrms_abvgrd', 5.617480217088557),\n",
       " ('remainder__functional', nan),\n",
       " ('remainder__fireplaces', 1.964629723053088),\n",
       " ('remainder__fireplace_qu', nan),\n",
       " ('remainder__garage_type', nan),\n",
       " ('remainder__garage_finish', nan),\n",
       " ('remainder__garage_qual', nan),\n",
       " ('remainder__garage_cond', nan),\n",
       " ('remainder__paved_drive', nan),\n",
       " ('remainder__pool_qc', nan),\n",
       " ('remainder__pid_1', 96.06663998109434),\n",
       " ('remainder__pid_2', 57.53459366526872),\n",
       " ('remainder__kitchen_abvgr', 4.104148481788583),\n",
       " ('remainder__bedroom_abvgr', 2.8314732054528853),\n",
       " ('remainder__half_bath', 2.6462390961815805),\n",
       " ('remainder__pid_3', 2.3661735798477093),\n",
       " ('remainder__pid_4', 1.4908903397565245),\n",
       " ('remainder__open_porch_sf', 1.4889936078281931),\n",
       " ('remainder__enclosed_porch', 1.484664792618009),\n",
       " ('remainder__wood_deck_sf', 1.412448388816466),\n",
       " ('remainder__pool_area', 1.3375253236277365),\n",
       " ('remainder__fence_priv', 1.2946509643030308),\n",
       " ('remainder__screen_porch', 1.228590366815796),\n",
       " ('remainder__yr_sold', 1.1729785225778324),\n",
       " ('remainder__fence_mat', 1.1683469508499418),\n",
       " ('remainder__misc_val', 1.1667803640050982),\n",
       " ('remainder__mo_sold', 1.1384761464177695),\n",
       " ('remainder__3ssn_porch', 1.083008102311769)]"
      ]
     },
     "execution_count": 110,
     "metadata": {},
     "output_type": "execute_result"
    }
   ],
   "source": [
    "sorted(x,key=lambda x: x[1],reverse=True)"
   ]
  },
  {
   "cell_type": "code",
   "execution_count": null,
   "id": "04eb49c3-9f0d-4051-89ee-c3006080ee05",
   "metadata": {},
   "outputs": [],
   "source": []
  },
  {
   "cell_type": "code",
   "execution_count": null,
   "id": "05c6af66-1210-4294-9aa8-c0173763c50b",
   "metadata": {},
   "outputs": [],
   "source": []
  },
  {
   "cell_type": "code",
   "execution_count": null,
   "id": "2ae8c056-f1b9-42a5-b27c-121f8efc0d21",
   "metadata": {},
   "outputs": [],
   "source": []
  },
  {
   "cell_type": "code",
   "execution_count": null,
   "id": "a39a33e8-ec63-4b66-b3e4-ef5e1e7813af",
   "metadata": {},
   "outputs": [],
   "source": []
  },
  {
   "cell_type": "code",
   "execution_count": null,
   "id": "8adb2139-277b-48f3-b69b-7ad6ce6c96d7",
   "metadata": {},
   "outputs": [],
   "source": []
  },
  {
   "cell_type": "code",
   "execution_count": null,
   "id": "35005185-100a-4a27-91c9-c97c89e3b687",
   "metadata": {},
   "outputs": [],
   "source": []
  },
  {
   "cell_type": "code",
   "execution_count": 20,
   "id": "284369cb",
   "metadata": {},
   "outputs": [],
   "source": [
    "X_train.drop(columns=['remainder__1st_flr_sf','remainder__utilities',\n",
    "                      'remainder__2nd_flr_sf','remainder__low_qual_fin_sf'],inplace=True)\n",
    "X_val.drop(columns=['remainder__1st_flr_sf','remainder__utilities',\n",
    "                      'remainder__2nd_flr_sf','remainder__low_qual_fin_sf'],inplace=True)"
   ]
  },
  {
   "cell_type": "code",
   "execution_count": null,
   "id": "31f3308f",
   "metadata": {},
   "outputs": [],
   "source": []
  },
  {
   "cell_type": "code",
   "execution_count": null,
   "id": "a6e3c500-855d-4136-bc67-78f13472b128",
   "metadata": {},
   "outputs": [],
   "source": []
  },
  {
   "cell_type": "code",
   "execution_count": 21,
   "id": "c0b24cfa-dfbe-4ecc-b5b4-e642f9834843",
   "metadata": {},
   "outputs": [
    {
     "name": "stderr",
     "output_type": "stream",
     "text": [
      "C:\\Users\\Ari\\anaconda3\\lib\\site-packages\\statsmodels\\regression\\linear_model.py:1738: RuntimeWarning: invalid value encountered in double_scalars\n",
      "  return 1 - self.ssr/self.uncentered_tss\n"
     ]
    }
   ],
   "source": [
    "x = [(X_train.columns[col], variance_inflation_factor(X_train,col)) for col in range(len(X_train.columns))]"
   ]
  },
  {
   "cell_type": "code",
   "execution_count": 24,
   "id": "c7b4ab82-fd0e-4c51-a5af-acc5f1990327",
   "metadata": {},
   "outputs": [
    {
     "data": {
      "text/plain": [
       "[('ohe__ms_zoning_5', 431.2334161443092),\n",
       " ('ohe__ms_zoning_4', 321.00138372806657),\n",
       " ('ohe__exterior_2nd_VinylSd', 142.9094403572931),\n",
       " ('ohe__ms_zoning_6', 132.1020794213983),\n",
       " ('ohe__exterior_1st_VinylSd', 121.02597570563789),\n",
       " ('ohe__exterior_2nd_MetalSd', 98.18355216059102),\n",
       " ('ohe__exterior_1st_MetalSd', 85.91632035749586),\n",
       " ('ohe__roof_style_Gable', 79.34459293136919),\n",
       " ('ohe__roof_style_Hip', 75.64033365841924),\n",
       " ('ohe__exterior_2nd_HdBoard', 60.25352254387308),\n",
       " ('ohe__exterior_2nd_Wd Sdng', 57.43560142934732),\n",
       " ('ohe__exterior_1st_HdBoard', 53.25589143275983),\n",
       " ('ohe__exterior_1st_Wd Sdng', 48.44085199546227),\n",
       " ('ohe__exterior_2nd_CmentBd', 46.073493457365515),\n",
       " ('ohe__exterior_1st_CemntBd', 42.48348580659074),\n",
       " ('ohe__exterior_2nd_Plywood', 39.83377711765993),\n",
       " ('ohe__house_style_5', 33.48544842975047),\n",
       " ('ohe__roof_matl_CompShg', 30.787089015198696),\n",
       " ('ohe__exterior_1st_Plywood', 28.507146940507297),\n",
       " ('ohe__ms_subclass_60', 25.942110618397436),\n",
       " ('ohe__ms_zoning_2', 23.668072573967763),\n",
       " ('ohe__neighborhood_NAmes', 21.053592500188927),\n",
       " ('ohe__ms_zoning_3', 20.876154360006304),\n",
       " ('ohe__roof_matl_Tar&Grv', 20.24538442850138),\n",
       " ('ohe__house_style_3', 19.718532745349645),\n",
       " ('ohe__ms_subclass_80', 19.580016635639012),\n",
       " ('ohe__house_style_2', 18.638215700158536),\n",
       " ('ohe__ms_subclass_50', 18.332829213226578),\n",
       " ('ohe__neighborhood_CollgCr', 17.303269377146265),\n",
       " ('ohe__neighborhood_OldTown', 16.2170198501308),\n",
       " ('ohe__neighborhood_Mitchel', 15.43426914783573),\n",
       " ('ohe__exterior_2nd_Wd Shng', 15.296152259147501),\n",
       " ('ohe__neighborhood_Edwards', 13.844916640526636),\n",
       " ('ohe__neighborhood_Somerst', 13.109967672060815),\n",
       " ('ohe__exterior_1st_BrkFace', 11.068707098944554),\n",
       " ('ohe__neighborhood_IDOTRR', 10.918212793357585),\n",
       " ('ohe__exterior_2nd_Brk Cmn', 10.635686214928743),\n",
       " ('ohe__neighborhood_Sawyer', 9.942779043355541),\n",
       " ('ohe__ms_subclass_160', 9.434201764685058),\n",
       " ('ohe__exterior_1st_WdShing', 9.351086781287117),\n",
       " ('ohe__neighborhood_BrkSide', 8.969362652788025),\n",
       " ('ohe__exterior_2nd_Stucco', 8.706723065943937),\n",
       " ('ohe__exterior_2nd_BrkFace', 8.447721068332461),\n",
       " ('ohe__neighborhood_Crawfor', 8.381756781139632),\n",
       " ('ohe__neighborhood_Gilbert', 8.203540389794753),\n",
       " ('ohe__neighborhood_Timber', 8.112460918884526),\n",
       " ('ohe__roof_matl_WdShake', 7.736958143697289),\n",
       " ('ohe__ms_subclass_70', 7.684209836051686),\n",
       " ('ohe__neighborhood_SawyerW', 7.595778168410827),\n",
       " ('ohe__neighborhood_NWAmes', 7.5454830945838385),\n",
       " ('ohe__foundation_PConc', 7.523870377742498),\n",
       " ('ohe__neighborhood_MeadowV', 6.995191025889311),\n",
       " ('ohe__neighborhood_NridgHt', 6.967011993520453),\n",
       " ('ohe__exterior_1st_Stucco', 6.6934561382734366),\n",
       " ('ohe__neighborhood_NPkVill', 6.437869459626039),\n",
       " ('ohe__foundation_CBlock', 6.105650744444556),\n",
       " ('ohe__roof_matl_WdShngl', 5.989608787981064),\n",
       " ('ohe__ms_subclass_45', 5.981222817111084),\n",
       " ('ohe__house_style_1', 5.932338070497037),\n",
       " ('ohe__ms_subclass_75', 5.144298658821007),\n",
       " ('ohe__house_style_4', 4.690656895660888),\n",
       " ('ohe__house_style_6', 4.62439387622722),\n",
       " ('ohe__neighborhood_NoRidge', 4.481875313658287),\n",
       " ('ohe__neighborhood_SWISU', 4.270461386351477),\n",
       " ('ohe__ms_subclass_90', 4.1295298889901),\n",
       " ('ohe__roof_style_Gambrel', 4.113710869192109),\n",
       " ('ohe__exterior_2nd_ImStucc', 4.086053533133829),\n",
       " ('ohe__sale_type_WD ', 3.8171988520879454),\n",
       " ('ohe__sale_type_New', 3.7913071422517075),\n",
       " ('ohe__neighborhood_ClearCr', 3.6648445395335596),\n",
       " ('ohe__ms_subclass_85', 3.6439099032478666),\n",
       " ('ohe__exterior_2nd_AsphShn', 3.4086484189898427),\n",
       " ('ohe__neighborhood_StoneBr', 3.363489842539258),\n",
       " ('remainder__year_remod/add', 3.204375067294267),\n",
       " ('ohe__neighborhood_BrDale', 3.1613689647000234),\n",
       " ('ohe__exterior_1st_CBlock', 3.105995180065202),\n",
       " ('ohe__roof_style_Mansard', 2.8535474573048925),\n",
       " ('ohe__exterior_2nd_CBlock', 2.8372633356824504),\n",
       " ('ohe__roof_matl_Membran', 2.8356659368387356),\n",
       " ('ohe__exterior_1st_AsphShn', 2.7383345535160846),\n",
       " ('ohe__ms_subclass_190', 2.5850277376573447),\n",
       " ('remainder__lot_area', 2.5061928717051396),\n",
       " ('ohe__exterior_2nd_Stone', 2.4426220896438915),\n",
       " ('ohe__exterior_1st_BrkComm', 2.441825051652744),\n",
       " ('ohe__ms_subclass_120', 2.4258127183486398),\n",
       " ('ohe__ms_subclass_180', 2.3728652080548183),\n",
       " ('ohe__ms_subclass_30', 2.294495335976427),\n",
       " ('ohe__neighborhood_Veenker', 2.269912459818413),\n",
       " ('ohe__exterior_1st_Stone', 2.190176094993517),\n",
       " ('ohe__house_style_7', 2.17858794454634),\n",
       " ('ohe__neighborhood_Blueste', 1.9745186087784368),\n",
       " ('ohe__roof_style_Shed', 1.9606955581319176),\n",
       " ('ohe__heating_Wall', 1.9069764228828914),\n",
       " ('ohe__foundation_Slab', 1.699513506137405),\n",
       " ('ohe__lot_config_Inside', 1.5966634612291049),\n",
       " ('ohe__lot_config_CulDSac', 1.561558163395265),\n",
       " ('ohe__sale_type_ConLD', 1.5313626641740452),\n",
       " ('remainder__lot_shape', 1.5275700940519044),\n",
       " ('ohe__exterior_1st_ImStucc', 1.443657690993137),\n",
       " ('ohe__neighborhood_GrnHill', 1.4370832116180032),\n",
       " ('ohe__lot_config_FR2', 1.3905551007868389),\n",
       " ('ohe__lot_config_FR3', 1.3320379947187937),\n",
       " ('ohe__neighborhood_Landmrk', 1.30100419515855),\n",
       " ('ohe__ms_subclass_150', 1.2355111614607708),\n",
       " ('ohe__neighborhood_Greens', 1.214248311866131),\n",
       " ('remainder__street', 1.1810605565364027),\n",
       " ('ohe__sale_type_Con', 1.1531014393990788),\n",
       " ('remainder__land_contour', nan),\n",
       " ('remainder__land_slope', 1.3159304885008014),\n",
       " ('ohe__sale_type_CWD', 1.2562366414668584),\n",
       " ('ohe__foundation_Stone', 1.243296663164368),\n",
       " ('ohe__heating_GasW', 1.241415510767066),\n",
       " ('ohe__sale_type_ConLw', 1.1517295234561353),\n",
       " ('ohe__heating_OthW', 1.1381148833132186),\n",
       " ('ohe__sale_type_Oth', 1.114505106736843),\n",
       " ('ohe__sale_type_ConLI', 1.094820772522055),\n",
       " ('ohe__heating_Grav', 1.0875156737445193),\n",
       " ('ohe__foundation_Wood', 1.0686928529070998),\n",
       " ('remainder__condition_1', nan),\n",
       " ('remainder__condition_2', nan),\n",
       " ('remainder__bldg_type', nan),\n",
       " ('remainder__year_built', 13.181648500182641),\n",
       " ('remainder__overall_qual', 4.362862458896863),\n",
       " ('remainder__overall_cond', 1.8835691281891143),\n",
       " ('remainder__exter_qual', nan),\n",
       " ('remainder__exter_cond', nan),\n",
       " ('remainder__bsmt_qual', nan),\n",
       " ('remainder__bsmt_cond', nan),\n",
       " ('remainder__bsmt_exposure', nan),\n",
       " ('remainder__bsmtfin_type_1', nan),\n",
       " ('remainder__bsmtfin_type_2', nan),\n",
       " ('remainder__heating_qc', nan),\n",
       " ('remainder__central_air', nan),\n",
       " ('remainder__electrical', nan),\n",
       " ('remainder__gr_liv_area', 8.874233914214077),\n",
       " ('remainder__full_bath', 3.4343115197477383),\n",
       " ('remainder__kitchen_qual', nan),\n",
       " ('remainder__totrms_abvgrd', 5.585149198679028),\n",
       " ('remainder__functional', nan),\n",
       " ('remainder__fireplaces', 1.9628692138512316),\n",
       " ('remainder__fireplace_qu', nan),\n",
       " ('remainder__garage_type', nan),\n",
       " ('remainder__garage_finish', nan),\n",
       " ('remainder__garage_qual', nan),\n",
       " ('remainder__garage_cond', nan),\n",
       " ('remainder__paved_drive', nan),\n",
       " ('remainder__pool_qc', nan),\n",
       " ('remainder__pid_1', 96.05577379239217),\n",
       " ('remainder__pid_2', 57.51558152541596),\n",
       " ('remainder__kitchen_abvgr', 4.095696665839423),\n",
       " ('remainder__bedroom_abvgr', 2.7613132788908876),\n",
       " ('remainder__half_bath', 2.5628805909082657),\n",
       " ('remainder__pid_3', 2.364892105112491),\n",
       " ('remainder__pid_4', 1.4902309229115567),\n",
       " ('remainder__open_porch_sf', 1.4873513141913326),\n",
       " ('remainder__enclosed_porch', 1.480874814476131),\n",
       " ('remainder__wood_deck_sf', 1.4107514230012388),\n",
       " ('remainder__pool_area', 1.3372478309865472),\n",
       " ('remainder__fence_priv', 1.2932108401480462),\n",
       " ('remainder__screen_porch', 1.2278557088822282),\n",
       " ('remainder__yr_sold', 1.1729486670657316),\n",
       " ('remainder__fence_mat', 1.1672414870453565),\n",
       " ('remainder__misc_val', 1.1598667845966777),\n",
       " ('ohe__ms_subclass_40', 1.1475217280082872),\n",
       " ('remainder__mo_sold', 1.1371534559714311),\n",
       " ('remainder__3ssn_porch', 1.0828909659915937)]"
      ]
     },
     "execution_count": 24,
     "metadata": {},
     "output_type": "execute_result"
    }
   ],
   "source": [
    "sorted(x,key=lambda x: x[1],reverse=True)"
   ]
  },
  {
   "cell_type": "code",
   "execution_count": 25,
   "id": "3b623932-732c-4f96-8a04-f066682e86b6",
   "metadata": {},
   "outputs": [],
   "source": [
    "X_train.drop(columns = ['remainder__condition_1','remainder__condition_2','remainder__bldg_type','remainder__exter_qual','remainder__exter_cond','remainder__bsmt_qual',\n",
    "'remainder__bsmt_cond','remainder__bsmt_exposure','remainder__bsmtfin_type_1','remainder__bsmtfin_type_2','remainder__heating_qc','remainder__central_air',\n",
    "'remainder__electrical','remainder__kitchen_qual','remainder__functional','remainder__fireplace_qu','remainder__garage_type','remainder__garage_finish',\n",
    "'remainder__garage_qual','remainder__garage_cond','remainder__paved_drive','remainder__pool_qc'],inplace=True)\n",
    "X_val.drop(columns = ['remainder__condition_1','remainder__condition_2','remainder__bldg_type','remainder__exter_qual','remainder__exter_cond','remainder__bsmt_qual',\n",
    "'remainder__bsmt_cond','remainder__bsmt_exposure','remainder__bsmtfin_type_1','remainder__bsmtfin_type_2','remainder__heating_qc','remainder__central_air',\n",
    "'remainder__electrical','remainder__kitchen_qual','remainder__functional','remainder__fireplace_qu','remainder__garage_type','remainder__garage_finish',\n",
    "'remainder__garage_qual','remainder__garage_cond','remainder__paved_drive','remainder__pool_qc'],inplace=True)"
   ]
  },
  {
   "cell_type": "code",
   "execution_count": null,
   "id": "feff79bf-6fbd-42c8-b48d-5a8a61b0a63b",
   "metadata": {},
   "outputs": [],
   "source": []
  },
  {
   "cell_type": "code",
   "execution_count": 26,
   "id": "24fbd2d4-4cbe-4fc1-b316-9dfb8af87dd8",
   "metadata": {},
   "outputs": [
    {
     "data": {
      "text/plain": [
       "(1538, 144)"
      ]
     },
     "execution_count": 26,
     "metadata": {},
     "output_type": "execute_result"
    }
   ],
   "source": [
    "X_train.shape"
   ]
  },
  {
   "cell_type": "code",
   "execution_count": 115,
   "id": "66fe5af6-6243-4b57-a1fc-f3e484ac5aed",
   "metadata": {},
   "outputs": [
    {
     "data": {
      "text/plain": [
       "Index(['ohe__ms_subclass_30', 'ohe__ms_subclass_40', 'ohe__ms_subclass_45',\n",
       "       'ohe__ms_subclass_50', 'ohe__ms_subclass_60', 'ohe__ms_subclass_70',\n",
       "       'ohe__ms_subclass_75', 'ohe__ms_subclass_80', 'ohe__ms_subclass_85',\n",
       "       'ohe__ms_subclass_90',\n",
       "       ...\n",
       "       'remainder__pool_qc', 'remainder__misc_val', 'remainder__mo_sold',\n",
       "       'remainder__yr_sold', 'remainder__pid_1', 'remainder__pid_2',\n",
       "       'remainder__pid_3', 'remainder__pid_4', 'remainder__fence_mat',\n",
       "       'remainder__fence_priv'],\n",
       "      dtype='object', length=170)"
      ]
     },
     "execution_count": 115,
     "metadata": {},
     "output_type": "execute_result"
    }
   ],
   "source": [
    "X_train.columns"
   ]
  },
  {
   "cell_type": "code",
   "execution_count": 136,
   "id": "67e0a537-7b2c-4d89-973a-ad4345648b54",
   "metadata": {},
   "outputs": [],
   "source": [
    "lr = LinearRegression()\n",
    "model = 'lr'\n",
    "lr.fit(X_train,y_train)\n",
    "train = lr.score(X_train,y_train)\n",
    "y_pred = lr.predict(X_val)\n",
    "test = lr.score(X_val,y_val)\n",
    "mse = mean_squared_error(y_val,y_pred,squared=False)\n",
    "scores = [model,train,test,mse]"
   ]
  },
  {
   "cell_type": "code",
   "execution_count": 137,
   "id": "96a9d5f4-446c-4f51-a2fa-73aa96bff14d",
   "metadata": {},
   "outputs": [
    {
     "data": {
      "text/plain": [
       "['lr', 0.745650733753566, 0.6440404018685959, 46750.40893423669]"
      ]
     },
     "execution_count": 137,
     "metadata": {},
     "output_type": "execute_result"
    }
   ],
   "source": [
    "scores"
   ]
  },
  {
   "cell_type": "code",
   "execution_count": 138,
   "id": "fd8e0ef1-178b-45fc-b6b5-ae6895032f4d",
   "metadata": {},
   "outputs": [
    {
     "data": {
      "text/plain": [
       "['ridge', 0.7444465315598232, 0.6505867365289134, 46318.52846120131]"
      ]
     },
     "execution_count": 138,
     "metadata": {},
     "output_type": "execute_result"
    }
   ],
   "source": [
    "ridge = RidgeCV()\n",
    "model = 'ridge'\n",
    "ridge.fit(X_train,y_train)\n",
    "train = ridge.score(X_train,y_train)\n",
    "y_pred = ridge.predict(X_val)\n",
    "test = ridge.score(X_val,y_val)\n",
    "mse = mean_squared_error(y_val,y_pred,squared=False)\n",
    "scores = [model,train,test,mse]\n",
    "scores"
   ]
  },
  {
   "cell_type": "code",
   "execution_count": 139,
   "id": "445e0111-8d93-4e45-b10d-33bc8db8a921",
   "metadata": {
    "scrolled": true
   },
   "outputs": [
    {
     "name": "stderr",
     "output_type": "stream",
     "text": [
      "C:\\Users\\Ari\\anaconda3\\lib\\site-packages\\sklearn\\linear_model\\_coordinate_descent.py:647: ConvergenceWarning: Objective did not converge. You might want to increase the number of iterations, check the scale of the features or consider increasing regularisation. Duality gap: 3.603e+11, tolerance: 9.727e+08\n",
      "  model = cd_fast.enet_coordinate_descent(\n"
     ]
    },
    {
     "data": {
      "text/plain": [
       "['lasso', 0.7456500794332461, 0.6441882030948738, 46740.702095003246]"
      ]
     },
     "execution_count": 139,
     "metadata": {},
     "output_type": "execute_result"
    }
   ],
   "source": [
    "lasso = Lasso()\n",
    "model = 'lasso'\n",
    "lasso.fit(X_train,y_train)\n",
    "train = lasso.score(X_train,y_train)\n",
    "y_pred = lasso.predict(X_val)\n",
    "test = lasso.score(X_val,y_val)\n",
    "mse = mean_squared_error(y_val,y_pred,squared=False)\n",
    "scores = [model,train,test,mse]\n",
    "scores"
   ]
  },
  {
   "cell_type": "code",
   "execution_count": 140,
   "id": "79827171-2a0e-44b3-840e-35b5c2e91d01",
   "metadata": {},
   "outputs": [
    {
     "data": {
      "text/plain": [
       "array([ -6947.16648305,  -1816.69186673,  -6499.82795958,   2098.96210142,\n",
       "        -1712.28557866,   3526.73618559,  -2167.89300299,  -2577.57543813,\n",
       "        -2127.32256162,  -6535.14257003,  -1304.6257604 ,  -9157.19053599,\n",
       "        -2585.31708656,  -4540.28642917,   6838.45139768,   9233.32228715,\n",
       "        35742.705698  ,  39066.27515788,  25396.53827348,   2685.1046135 ,\n",
       "        -2290.04392581,   2018.22232645,  -6114.94525893,  -2661.50578782,\n",
       "         2902.79238475, -11873.97717865,  -7123.49285931,   2359.44572944,\n",
       "         3974.31752078,  -9041.74709179,  -6984.39442339,  -9361.37841502,\n",
       "         1537.95302319,  14150.95147226,  22336.37668881, -11890.62946969,\n",
       "        -3966.02414755,  -8165.75973925,  -2071.07947054,  13685.33488267,\n",
       "         2912.91837383,   4337.62244412,   7551.30013803,   3886.62406436,\n",
       "         3152.1657867 ,   6780.29114245,   4087.13088565,  -4863.1186587 ,\n",
       "         6359.66897637,  -1891.09570873,  26078.9506057 ,   4863.32392579,\n",
       "        19670.03801699,  12071.14887097,  14450.97353932,   5809.46091788,\n",
       "        13541.54240603,   5417.39063521,  10196.80938299,   7484.73981898,\n",
       "         3131.13251539,   4470.69432022,  13417.80179641,   3195.69506498,\n",
       "         4264.23649313,   3424.456666  ,  -1634.87550154,   1214.62875135,\n",
       "         -137.62664721,   1641.329623  ,  -2736.74784651,   2892.51466718,\n",
       "         5231.3377427 ,  -1247.82005161,  -2471.67558833,  -6102.19244075,\n",
       "         9927.22698806,  -3100.33937224,   1388.00454951,   1331.61268126,\n",
       "        10600.46395134,   1324.43052651,   3252.4378645 ,  14926.4323395 ,\n",
       "         2927.89454415])"
      ]
     },
     "execution_count": 140,
     "metadata": {},
     "output_type": "execute_result"
    }
   ],
   "source": [
    "lasso.coef_"
   ]
  },
  {
   "cell_type": "code",
   "execution_count": 133,
   "id": "ae915c87-dbce-4884-a666-a66af0376f8a",
   "metadata": {},
   "outputs": [],
   "source": [
    "lasso_col = dict(zip(X_train.columns,lasso.coef_))\n",
    "new_cols = [col for col, coef in lasso_col.items() if abs(coef) > 1000]\n",
    "X_train = X_train[new_cols]\n",
    "X_val = X_val[new_cols]"
   ]
  },
  {
   "cell_type": "code",
   "execution_count": 135,
   "id": "c45d0e22-3f2e-440a-a15a-4fd96e712504",
   "metadata": {},
   "outputs": [
    {
     "name": "stdout",
     "output_type": "stream",
     "text": [
      "<class 'pandas.core.frame.DataFrame'>\n",
      "RangeIndex: 1538 entries, 0 to 1537\n",
      "Data columns (total 85 columns):\n",
      " #   Column                     Non-Null Count  Dtype  \n",
      "---  ------                     --------------  -----  \n",
      " 0   ohe__ms_subclass_30        1538 non-null   float64\n",
      " 1   ohe__ms_subclass_40        1538 non-null   float64\n",
      " 2   ohe__ms_subclass_50        1538 non-null   float64\n",
      " 3   ohe__ms_subclass_60        1538 non-null   float64\n",
      " 4   ohe__ms_subclass_70        1538 non-null   float64\n",
      " 5   ohe__ms_subclass_75        1538 non-null   float64\n",
      " 6   ohe__ms_subclass_80        1538 non-null   float64\n",
      " 7   ohe__ms_subclass_85        1538 non-null   float64\n",
      " 8   ohe__ms_subclass_90        1538 non-null   float64\n",
      " 9   ohe__ms_subclass_120       1538 non-null   float64\n",
      " 10  ohe__ms_subclass_150       1538 non-null   float64\n",
      " 11  ohe__ms_subclass_160       1538 non-null   float64\n",
      " 12  ohe__ms_subclass_180       1538 non-null   float64\n",
      " 13  ohe__ms_subclass_190       1538 non-null   float64\n",
      " 14  ohe__ms_zoning_2           1538 non-null   float64\n",
      " 15  ohe__ms_zoning_3           1538 non-null   float64\n",
      " 16  ohe__ms_zoning_4           1538 non-null   float64\n",
      " 17  ohe__ms_zoning_5           1538 non-null   float64\n",
      " 18  ohe__ms_zoning_6           1538 non-null   float64\n",
      " 19  ohe__lot_config_CulDSac    1538 non-null   float64\n",
      " 20  ohe__lot_config_FR2        1538 non-null   float64\n",
      " 21  ohe__neighborhood_Blueste  1538 non-null   float64\n",
      " 22  ohe__neighborhood_BrkSide  1538 non-null   float64\n",
      " 23  ohe__neighborhood_CollgCr  1538 non-null   float64\n",
      " 24  ohe__neighborhood_Crawfor  1538 non-null   float64\n",
      " 25  ohe__neighborhood_Edwards  1538 non-null   float64\n",
      " 26  ohe__neighborhood_Gilbert  1538 non-null   float64\n",
      " 27  ohe__neighborhood_Greens   1538 non-null   float64\n",
      " 28  ohe__neighborhood_GrnHill  1538 non-null   float64\n",
      " 29  ohe__neighborhood_IDOTRR   1538 non-null   float64\n",
      " 30  ohe__neighborhood_MeadowV  1538 non-null   float64\n",
      " 31  ohe__neighborhood_NAmes    1538 non-null   float64\n",
      " 32  ohe__neighborhood_NWAmes   1538 non-null   float64\n",
      " 33  ohe__neighborhood_NoRidge  1538 non-null   float64\n",
      " 34  ohe__neighborhood_NridgHt  1538 non-null   float64\n",
      " 35  ohe__neighborhood_OldTown  1538 non-null   float64\n",
      " 36  ohe__neighborhood_SWISU    1538 non-null   float64\n",
      " 37  ohe__neighborhood_Sawyer   1538 non-null   float64\n",
      " 38  ohe__neighborhood_SawyerW  1538 non-null   float64\n",
      " 39  ohe__neighborhood_StoneBr  1538 non-null   float64\n",
      " 40  ohe__neighborhood_Timber   1538 non-null   float64\n",
      " 41  ohe__neighborhood_Veenker  1538 non-null   float64\n",
      " 42  ohe__house_style_2         1538 non-null   float64\n",
      " 43  ohe__house_style_3         1538 non-null   float64\n",
      " 44  ohe__house_style_4         1538 non-null   float64\n",
      " 45  ohe__house_style_5         1538 non-null   float64\n",
      " 46  ohe__house_style_7         1538 non-null   float64\n",
      " 47  ohe__roof_style_Gable      1538 non-null   float64\n",
      " 48  ohe__roof_style_Hip        1538 non-null   float64\n",
      " 49  ohe__roof_style_Mansard    1538 non-null   float64\n",
      " 50  ohe__roof_matl_CompShg     1538 non-null   float64\n",
      " 51  ohe__roof_matl_Membran     1538 non-null   float64\n",
      " 52  ohe__roof_matl_Tar&Grv     1538 non-null   float64\n",
      " 53  ohe__roof_matl_WdShake     1538 non-null   float64\n",
      " 54  ohe__roof_matl_WdShngl     1538 non-null   float64\n",
      " 55  ohe__exterior_1st_BrkFace  1538 non-null   float64\n",
      " 56  ohe__exterior_1st_CemntBd  1538 non-null   float64\n",
      " 57  ohe__exterior_1st_HdBoard  1538 non-null   float64\n",
      " 58  ohe__exterior_1st_MetalSd  1538 non-null   float64\n",
      " 59  ohe__exterior_1st_Plywood  1538 non-null   float64\n",
      " 60  ohe__exterior_1st_Stone    1538 non-null   float64\n",
      " 61  ohe__exterior_1st_Stucco   1538 non-null   float64\n",
      " 62  ohe__exterior_1st_VinylSd  1538 non-null   float64\n",
      " 63  ohe__exterior_1st_Wd Sdng  1538 non-null   float64\n",
      " 64  ohe__exterior_1st_WdShing  1538 non-null   float64\n",
      " 65  ohe__exterior_2nd_Brk Cmn  1538 non-null   float64\n",
      " 66  ohe__exterior_2nd_CBlock   1538 non-null   float64\n",
      " 67  ohe__exterior_2nd_HdBoard  1538 non-null   float64\n",
      " 68  ohe__exterior_2nd_MetalSd  1538 non-null   float64\n",
      " 69  ohe__exterior_2nd_Plywood  1538 non-null   float64\n",
      " 70  ohe__exterior_2nd_Stone    1538 non-null   float64\n",
      " 71  ohe__exterior_2nd_VinylSd  1538 non-null   float64\n",
      " 72  ohe__exterior_2nd_Wd Sdng  1538 non-null   float64\n",
      " 73  ohe__exterior_2nd_Wd Shng  1538 non-null   float64\n",
      " 74  ohe__heating_Grav          1538 non-null   float64\n",
      " 75  ohe__foundation_CBlock     1538 non-null   float64\n",
      " 76  ohe__foundation_PConc      1538 non-null   float64\n",
      " 77  ohe__foundation_Slab       1538 non-null   float64\n",
      " 78  ohe__sale_type_Con         1538 non-null   float64\n",
      " 79  ohe__sale_type_ConLD       1538 non-null   float64\n",
      " 80  ohe__sale_type_New         1538 non-null   float64\n",
      " 81  ohe__sale_type_Oth         1538 non-null   float64\n",
      " 82  ohe__sale_type_WD          1538 non-null   float64\n",
      " 83  remainder__lot_area        1538 non-null   float64\n",
      " 84  remainder__lot_shape       1538 non-null   float64\n",
      "dtypes: float64(85)\n",
      "memory usage: 1021.5 KB\n"
     ]
    }
   ],
   "source": [
    "X_train.info()"
   ]
  },
  {
   "cell_type": "code",
   "execution_count": null,
   "id": "4f6a02f1-fd0a-42bb-9fb4-4943056bfb28",
   "metadata": {},
   "outputs": [],
   "source": []
  },
  {
   "cell_type": "markdown",
   "id": "164459e8-9556-47fd-9217-46a9f714002c",
   "metadata": {
    "tags": []
   },
   "source": [
    "# 28k model above"
   ]
  },
  {
   "cell_type": "code",
   "execution_count": 32,
   "id": "b7eca9c3-7013-48fb-a0d1-7db02af94f43",
   "metadata": {},
   "outputs": [],
   "source": [
    "X_train.drop(columns=['ohe__ms_zoning_4','ohe__ms_zoning_5', 'ohe__ms_zoning_6'],inplace=True)\n",
    "X_val.drop(columns=['ohe__ms_zoning_4','ohe__ms_zoning_5', 'ohe__ms_zoning_6'],inplace=True)"
   ]
  },
  {
   "cell_type": "code",
   "execution_count": 81,
   "id": "1e1f8336-f3ba-4b8e-a4ee-8ae1c4a7b3cc",
   "metadata": {},
   "outputs": [
    {
     "data": {
      "text/plain": [
       "['lr', 0.853332309936883, 0.8123672397734771, 33942.15355582715]"
      ]
     },
     "execution_count": 81,
     "metadata": {},
     "output_type": "execute_result"
    }
   ],
   "source": [
    "lr = LinearRegression()\n",
    "model = 'lr'\n",
    "lr.fit(X_train,y_train)\n",
    "train = lr.score(X_train,y_train)\n",
    "y_pred = lr.predict(X_val)\n",
    "test = lr.score(X_val,y_val)\n",
    "mse = mean_squared_error(y_val,y_pred,squared=False)\n",
    "scores = [model,train,test,mse]\n",
    "scores"
   ]
  },
  {
   "cell_type": "code",
   "execution_count": 82,
   "id": "fee4d469-883b-4b54-b281-4265114e9ed9",
   "metadata": {},
   "outputs": [
    {
     "data": {
      "text/plain": [
       "['ridge', 0.8533059942483272, 0.8123687065378901, 33942.02088912179]"
      ]
     },
     "execution_count": 82,
     "metadata": {},
     "output_type": "execute_result"
    }
   ],
   "source": [
    "ridge = RidgeCV()\n",
    "model = 'ridge'\n",
    "ridge.fit(X_train,y_train)\n",
    "train = ridge.score(X_train,y_train)\n",
    "y_pred = ridge.predict(X_val)\n",
    "test = ridge.score(X_val,y_val)\n",
    "mse = mean_squared_error(y_val,y_pred,squared=False)\n",
    "scores = [model,train,test,mse]\n",
    "scores"
   ]
  },
  {
   "cell_type": "code",
   "execution_count": 83,
   "id": "3f463b70-5e10-4906-ac42-8544734e4537",
   "metadata": {},
   "outputs": [
    {
     "data": {
      "text/plain": [
       "['lasso', 0.8533322665407098, 0.8123772220639984, 33941.250661940605]"
      ]
     },
     "execution_count": 83,
     "metadata": {},
     "output_type": "execute_result"
    }
   ],
   "source": [
    "lasso = Lasso()\n",
    "model = 'lasso'\n",
    "lasso.fit(X_train,y_train)\n",
    "train = lasso.score(X_train,y_train)\n",
    "y_pred = lasso.predict(X_val)\n",
    "test = lasso.score(X_val,y_val)\n",
    "mse = mean_squared_error(y_val,y_pred,squared=False)\n",
    "scores = [model,train,test,mse]\n",
    "scores"
   ]
  },
  {
   "cell_type": "code",
   "execution_count": 84,
   "id": "7ee4dd8c-e036-49b1-8d2c-5c5471445005",
   "metadata": {},
   "outputs": [],
   "source": [
    "X_train.drop(columns = ['ohe__foundation_PConc','ohe__exterior_2nd_Brk Cmn'],inplace=True)\n"
   ]
  },
  {
   "cell_type": "code",
   "execution_count": 85,
   "id": "6520ee62-403d-4512-8da6-6b48f3cded4e",
   "metadata": {},
   "outputs": [],
   "source": [
    "X_val.drop(columns = ['ohe__foundation_PConc','ohe__exterior_2nd_Brk Cmn'],inplace=True)\n"
   ]
  },
  {
   "cell_type": "code",
   "execution_count": null,
   "id": "ffde542d-76d9-42f6-a609-2ed6377ea909",
   "metadata": {},
   "outputs": [],
   "source": []
  },
  {
   "cell_type": "code",
   "execution_count": 86,
   "id": "abe771ed-0ff7-4980-99a8-25c350cadc8e",
   "metadata": {},
   "outputs": [
    {
     "data": {
      "text/plain": [
       "[('ohe__house_style_1', 4.814557261564184),\n",
       " ('ohe__ms_subclass_45', 4.63966513109239),\n",
       " ('ohe__ms_subclass_75', 4.033926939068544),\n",
       " ('remainder__totrms_abvgrd', 3.9893631952101196),\n",
       " ('ohe__house_style_4', 3.94884662956874),\n",
       " ('ohe__sale_type_WD ', 3.7204696876695653),\n",
       " ('ohe__ms_subclass_90', 3.707662823560213),\n",
       " ('ohe__sale_type_New', 3.63147754002662),\n",
       " ('remainder__overall_qual', 3.6003319668247427),\n",
       " ('remainder__kitchen_abvgr', 3.475875599855461),\n",
       " ('ohe__house_style_6', 3.3115643746330674),\n",
       " ('ohe__ms_subclass_85', 3.214503693294356),\n",
       " ('ohe__exterior_1st_Plywood', 3.0431640044686246),\n",
       " ('remainder__full_bath', 2.9061071750937484),\n",
       " ('remainder__year_remod/add', 2.852808391660584),\n",
       " ('ohe__ms_subclass_60', 2.83519007408953),\n",
       " ('ohe__ms_subclass_160', 2.819083541120368),\n",
       " ('ohe__exterior_2nd_Plywood', 2.801458975742249),\n",
       " ('ohe__foundation_CBlock', 2.7027555432056847),\n",
       " ('remainder__bedroom_abvgr', 2.6067700819325794),\n",
       " ('ohe__neighborhood_Somerst', 2.588659027871735),\n",
       " ('ohe__neighborhood_NridgHt', 2.5562989121159303),\n",
       " ('ohe__exterior_2nd_Stucco', 2.451005664531987),\n",
       " ('ohe__neighborhood_OldTown', 2.4241701351681915),\n",
       " ('ohe__exterior_1st_Stucco', 2.4218726607974825),\n",
       " ('ohe__exterior_2nd_AsphShn', 2.3803190463970023),\n",
       " ('ohe__neighborhood_CollgCr', 2.3788488763430875),\n",
       " ('remainder__half_bath', 2.3566174598824645),\n",
       " ('ohe__neighborhood_Gilbert', 2.2854768628046593),\n",
       " ('ohe__exterior_1st_AsphShn', 2.283594322381983),\n",
       " ('ohe__neighborhood_IDOTRR', 2.1563587708018837),\n",
       " ('ohe__exterior_1st_BrkFace', 2.0588761033603147),\n",
       " ('ohe__house_style_2', 2.0365864115187127),\n",
       " ('ohe__exterior_2nd_BrkFace', 2.0165979696044753),\n",
       " ('ohe__exterior_2nd_Wd Shng', 1.9793655332526157),\n",
       " ('ohe__ms_subclass_70', 1.968555948112779),\n",
       " ('ohe__exterior_1st_WdShing', 1.9604055333797037),\n",
       " ('remainder__lot_area', 1.9364526500050432),\n",
       " ('ohe__ms_subclass_120', 1.9082704852910557),\n",
       " ('ohe__neighborhood_BrkSide', 1.8053178974565989),\n",
       " ('remainder__fireplaces', 1.7926656966372572),\n",
       " ('ohe__roof_matl_WdShake', 1.7827643375208244),\n",
       " ('ohe__house_style_7', 1.7577312300998358),\n",
       " ('ohe__ms_subclass_30', 1.747066755426246),\n",
       " ('ohe__neighborhood_Crawfor', 1.7445708794570556),\n",
       " ('ohe__exterior_2nd_CBlock', 1.7390247637218506),\n",
       " ('ohe__neighborhood_BrDale', 1.7265017610849678),\n",
       " ('ohe__roof_matl_WdShngl', 1.7171493424246085),\n",
       " ('ohe__neighborhood_Edwards', 1.6936908119528316),\n",
       " ('ohe__neighborhood_NPkVill', 1.6891149954745974),\n",
       " ('ohe__neighborhood_NoRidge', 1.6860946671439117),\n",
       " ('ohe__neighborhood_MeadowV', 1.6855040041525042),\n",
       " ('remainder__overall_cond', 1.677811148358519),\n",
       " ('ohe__ms_zoning_2', 1.6716648862282957),\n",
       " ('ohe__ms_subclass_180', 1.6667175728688408),\n",
       " ('ohe__neighborhood_SawyerW', 1.6585722092962591),\n",
       " ('ohe__neighborhood_NWAmes', 1.6334313981139077),\n",
       " ('ohe__neighborhood_StoneBr', 1.6298169891772507),\n",
       " ('ohe__exterior_1st_Stone', 1.6251060519777816),\n",
       " ('ohe__roof_style_Mansard', 1.5922905469082176),\n",
       " ('ohe__ms_subclass_190', 1.5796094522229895),\n",
       " ('remainder__pid_3', 1.5756246855641174),\n",
       " ('ohe__lot_config_Inside', 1.5668745415311913),\n",
       " ('ohe__neighborhood_Sawyer', 1.5616727836153985),\n",
       " ('ohe__lot_config_CulDSac', 1.5265289791594048),\n",
       " ('ohe__neighborhood_SWISU', 1.5081694653371291),\n",
       " ('ohe__exterior_1st_CBlock', 1.503221840396935),\n",
       " ('ohe__exterior_2nd_Stone', 1.4799049809938651),\n",
       " ('ohe__neighborhood_Mitchel', 1.4774669794363382),\n",
       " ('remainder__lot_shape', 1.4739069330463197),\n",
       " ('ohe__sale_type_ConLD', 1.4641048066504037),\n",
       " ('ohe__exterior_2nd_HdBoard', 1.439612721932182),\n",
       " ('ohe__neighborhood_Timber', 1.4333325505477348),\n",
       " ('ohe__foundation_Slab', 1.4235697855009848),\n",
       " ('remainder__open_porch_sf', 1.4007956276161493),\n",
       " ('remainder__enclosed_porch', 1.3890068490025367),\n",
       " ('remainder__wood_deck_sf', 1.3843329431618892),\n",
       " ('ohe__neighborhood_Veenker', 1.3731682675892631),\n",
       " ('ohe__neighborhood_ClearCr', 1.370675772305749),\n",
       " ('ohe__roof_style_Shed', 1.3677550210205818),\n",
       " ('ohe__lot_config_FR2', 1.3407840836953313),\n",
       " ('remainder__pid_4', 1.323985593103624),\n",
       " ('ohe__ms_zoning_3', 1.317647731032434),\n",
       " ('ohe__lot_config_FR3', 1.265834488411237),\n",
       " ('remainder__fence_priv', 1.2650072442201024),\n",
       " ('remainder__land_slope', 1.257101241418008),\n",
       " ('ohe__roof_style_Gambrel', 1.2511460161985355),\n",
       " ('ohe__exterior_2nd_ImStucc', 1.2415254633956259),\n",
       " ('ohe__sale_type_CWD', 1.233226076555652),\n",
       " ('remainder__pool_area', 1.207191764042853),\n",
       " ('ohe__roof_matl_Tar&Grv', 1.205233077801356),\n",
       " ('remainder__screen_porch', 1.1905652533086202),\n",
       " ('ohe__heating_GasW', 1.187437604929673),\n",
       " ('ohe__exterior_1st_ImStucc', 1.1777201215294721),\n",
       " ('ohe__heating_Wall', 1.1725520804949192),\n",
       " ('ohe__neighborhood_Blueste', 1.169640951970245),\n",
       " ('remainder__street', 1.1652379523570207),\n",
       " ('ohe__neighborhood_Landmrk', 1.157939204820184),\n",
       " ('remainder__fence_mat', 1.1476677841922613),\n",
       " ('ohe__sale_type_Con', 1.1473628287033986),\n",
       " ('remainder__yr_sold', 1.1455380435921874),\n",
       " ('ohe__roof_matl_Membran', 1.1454683276402544),\n",
       " ('ohe__foundation_Stone', 1.143995168092615),\n",
       " ('ohe__sale_type_ConLw', 1.1365634841734191),\n",
       " ('remainder__mo_sold', 1.1163005304748594),\n",
       " ('remainder__misc_val', 1.1106645102607045),\n",
       " ('ohe__ms_subclass_150', 1.1022618403743127),\n",
       " ('ohe__sale_type_Oth', 1.1005047158504948),\n",
       " ('ohe__heating_OthW', 1.0985760028270741),\n",
       " ('ohe__sale_type_ConLI', 1.090324315937791),\n",
       " ('ohe__neighborhood_GrnHill', 1.0801078014244712),\n",
       " ('ohe__neighborhood_Greens', 1.0682236113383357),\n",
       " ('ohe__heating_Grav', 1.0670202126046033),\n",
       " ('ohe__ms_subclass_40', 1.0627668558996368),\n",
       " ('remainder__3ssn_porch', 1.0535417048575044),\n",
       " ('ohe__foundation_Wood', 1.0461467591988363),\n",
       " ('ohe__exterior_1st_BrkComm', 1.039713956570389)]"
      ]
     },
     "execution_count": 86,
     "metadata": {},
     "output_type": "execute_result"
    }
   ],
   "source": [
    "x = [(X_train.columns[col], variance_inflation_factor(X_train,col)) for col in range(len(X_train.columns))]\n",
    "sorted(x,key=lambda x: x[1],reverse=True)"
   ]
  },
  {
   "cell_type": "code",
   "execution_count": 88,
   "id": "63313e8e-88a1-4f35-8794-025394f6a701",
   "metadata": {},
   "outputs": [],
   "source": [
    "X_train.to_csv('./datasets/columns.csv')"
   ]
  },
  {
   "cell_type": "code",
   "execution_count": 37,
   "id": "51e48fa1-0d03-42f0-90a2-614abf957825",
   "metadata": {},
   "outputs": [],
   "source": [
    "train = pd.read_csv('./datasets/train.csv')"
   ]
  },
  {
   "cell_type": "code",
   "execution_count": 40,
   "id": "2eab04e6-60cb-4a88-8f3f-9cbb89a2ba46",
   "metadata": {},
   "outputs": [
    {
     "data": {
      "text/plain": [
       "VinylSd    724\n",
       "MetalSd    331\n",
       "HdBoard    300\n",
       "Wd Sdng    276\n",
       "Plywood    152\n",
       "CemntBd     90\n",
       "BrkFace     64\n",
       "WdShing     45\n",
       "AsbShng     33\n",
       "Stucco      27\n",
       "BrkComm      3\n",
       "Stone        2\n",
       "CBlock       2\n",
       "ImStucc      1\n",
       "AsphShn      1\n",
       "Name: Exterior 1st, dtype: int64"
      ]
     },
     "execution_count": 40,
     "metadata": {},
     "output_type": "execute_result"
    }
   ],
   "source": [
    "train['Exterior 1st'].value_counts()"
   ]
  },
  {
   "cell_type": "code",
   "execution_count": null,
   "id": "a42a38c7",
   "metadata": {},
   "outputs": [],
   "source": []
  },
  {
   "cell_type": "code",
   "execution_count": null,
   "id": "58822804",
   "metadata": {},
   "outputs": [],
   "source": []
  },
  {
   "cell_type": "code",
   "execution_count": 162,
   "id": "e3a0f4d5",
   "metadata": {},
   "outputs": [],
   "source": [
    "poly = PolynomialFeatures(\n",
    "degree = 2,\n",
    "include_bias=False)"
   ]
  },
  {
   "cell_type": "code",
   "execution_count": 163,
   "id": "dad0bfd5",
   "metadata": {},
   "outputs": [
    {
     "data": {
      "text/plain": [
       "PolynomialFeatures(include_bias=False)"
      ]
     },
     "execution_count": 163,
     "metadata": {},
     "output_type": "execute_result"
    }
   ],
   "source": [
    "poly.fit(X_train,y_train)"
   ]
  },
  {
   "cell_type": "code",
   "execution_count": 164,
   "id": "9200e579",
   "metadata": {},
   "outputs": [],
   "source": [
    "X_train = poly.transform(X_train)"
   ]
  },
  {
   "cell_type": "code",
   "execution_count": 165,
   "id": "89daa30d",
   "metadata": {},
   "outputs": [],
   "source": [
    "X_val = poly.transform(X_val)"
   ]
  },
  {
   "cell_type": "code",
   "execution_count": 166,
   "id": "c182ffe7",
   "metadata": {},
   "outputs": [],
   "source": [
    "X_train = pd.DataFrame(data = X_train, columns = poly.get_feature_names_out())\n",
    "X_val = pd.DataFrame(data = X_val, columns = poly.get_feature_names_out())"
   ]
  },
  {
   "cell_type": "code",
   "execution_count": null,
   "id": "35f38e62-6095-4231-ab12-ad4fdceb1372",
   "metadata": {},
   "outputs": [],
   "source": []
  },
  {
   "cell_type": "code",
   "execution_count": 167,
   "id": "7a248e03-21db-44cf-ac79-e67c7db5f8ad",
   "metadata": {},
   "outputs": [
    {
     "data": {
      "text/plain": [
       "['lr', 1.0, -1.9105932849813172, 133682.8887691397]"
      ]
     },
     "execution_count": 167,
     "metadata": {},
     "output_type": "execute_result"
    }
   ],
   "source": [
    "lr = LinearRegression()\n",
    "model = 'lr'\n",
    "lr.fit(X_train,y_train)\n",
    "train = lr.score(X_train,y_train)\n",
    "y_pred = lr.predict(X_val)\n",
    "test = lr.score(X_val,y_val)\n",
    "mse = mean_squared_error(y_val,y_pred,squared=False)\n",
    "scores = [model,train,test,mse]\n",
    "scores"
   ]
  },
  {
   "cell_type": "code",
   "execution_count": 168,
   "id": "76cfd9a6-339c-46ef-a394-6921f04fa261",
   "metadata": {},
   "outputs": [
    {
     "data": {
      "text/plain": [
       "['ridge', 0.9975420857292421, 0.43620593126742546, 58836.29428185141]"
      ]
     },
     "execution_count": 168,
     "metadata": {},
     "output_type": "execute_result"
    }
   ],
   "source": [
    "ridge = RidgeCV()\n",
    "model = 'ridge'\n",
    "ridge.fit(X_train,y_train)\n",
    "train = ridge.score(X_train,y_train)\n",
    "y_pred = ridge.predict(X_val)\n",
    "test = ridge.score(X_val,y_val)\n",
    "mse = mean_squared_error(y_val,y_pred,squared=False)\n",
    "scores = [model,train,test,mse]\n",
    "scores"
   ]
  },
  {
   "cell_type": "code",
   "execution_count": 169,
   "id": "3e22f1f5-85c2-49a1-bced-91b69be11d1c",
   "metadata": {},
   "outputs": [
    {
     "name": "stderr",
     "output_type": "stream",
     "text": [
      "C:\\Users\\Ari\\anaconda3\\lib\\site-packages\\sklearn\\linear_model\\_coordinate_descent.py:647: ConvergenceWarning: Objective did not converge. You might want to increase the number of iterations, check the scale of the features or consider increasing regularisation. Duality gap: 9.620e+09, tolerance: 9.727e+08\n",
      "  model = cd_fast.enet_coordinate_descent(\n"
     ]
    },
    {
     "data": {
      "text/plain": [
       "['lasso', 0.9993643984863472, -0.5898556905815355, 98801.58530001515]"
      ]
     },
     "execution_count": 169,
     "metadata": {},
     "output_type": "execute_result"
    }
   ],
   "source": [
    "lasso = Lasso()\n",
    "model = 'lasso'\n",
    "lasso.fit(X_train,y_train)\n",
    "train = lasso.score(X_train,y_train)\n",
    "y_pred = lasso.predict(X_val)\n",
    "test = lasso.score(X_val,y_val)\n",
    "mse = mean_squared_error(y_val,y_pred,squared=False)\n",
    "scores = [model,train,test,mse]\n",
    "scores"
   ]
  },
  {
   "cell_type": "code",
   "execution_count": null,
   "id": "fa5713d0-4cc6-4d3e-9350-5214092753bf",
   "metadata": {},
   "outputs": [],
   "source": []
  },
  {
   "cell_type": "code",
   "execution_count": null,
   "id": "b25856e0-cfba-41be-8199-4b976565132c",
   "metadata": {},
   "outputs": [],
   "source": []
  },
  {
   "cell_type": "code",
   "execution_count": 46,
   "id": "e7809066",
   "metadata": {},
   "outputs": [
    {
     "ename": "KeyboardInterrupt",
     "evalue": "",
     "output_type": "error",
     "traceback": [
      "\u001b[1;31m---------------------------------------------------------------------------\u001b[0m",
      "\u001b[1;31mKeyboardInterrupt\u001b[0m                         Traceback (most recent call last)",
      "\u001b[1;32m~\\AppData\\Local\\Temp\\ipykernel_9508\\1303341113.py\u001b[0m in \u001b[0;36m<module>\u001b[1;34m\u001b[0m\n\u001b[1;32m----> 1\u001b[1;33m \u001b[0mX_train\u001b[0m\u001b[1;33m.\u001b[0m\u001b[0mto_csv\u001b[0m\u001b[1;33m(\u001b[0m\u001b[1;34m'./datasets/X_train.csv'\u001b[0m\u001b[1;33m)\u001b[0m\u001b[1;33m\u001b[0m\u001b[1;33m\u001b[0m\u001b[0m\n\u001b[0m",
      "\u001b[1;32m~\\anaconda3\\lib\\site-packages\\pandas\\core\\generic.py\u001b[0m in \u001b[0;36mto_csv\u001b[1;34m(self, path_or_buf, sep, na_rep, float_format, columns, header, index, index_label, mode, encoding, compression, quoting, quotechar, line_terminator, chunksize, date_format, doublequote, escapechar, decimal, errors, storage_options)\u001b[0m\n\u001b[0;32m   3549\u001b[0m         )\n\u001b[0;32m   3550\u001b[0m \u001b[1;33m\u001b[0m\u001b[0m\n\u001b[1;32m-> 3551\u001b[1;33m         return DataFrameRenderer(formatter).to_csv(\n\u001b[0m\u001b[0;32m   3552\u001b[0m             \u001b[0mpath_or_buf\u001b[0m\u001b[1;33m,\u001b[0m\u001b[1;33m\u001b[0m\u001b[1;33m\u001b[0m\u001b[0m\n\u001b[0;32m   3553\u001b[0m             \u001b[0mline_terminator\u001b[0m\u001b[1;33m=\u001b[0m\u001b[0mline_terminator\u001b[0m\u001b[1;33m,\u001b[0m\u001b[1;33m\u001b[0m\u001b[1;33m\u001b[0m\u001b[0m\n",
      "\u001b[1;32m~\\anaconda3\\lib\\site-packages\\pandas\\io\\formats\\format.py\u001b[0m in \u001b[0;36mto_csv\u001b[1;34m(self, path_or_buf, encoding, sep, columns, index_label, mode, compression, quoting, quotechar, line_terminator, chunksize, date_format, doublequote, escapechar, errors, storage_options)\u001b[0m\n\u001b[0;32m   1178\u001b[0m             \u001b[0mformatter\u001b[0m\u001b[1;33m=\u001b[0m\u001b[0mself\u001b[0m\u001b[1;33m.\u001b[0m\u001b[0mfmt\u001b[0m\u001b[1;33m,\u001b[0m\u001b[1;33m\u001b[0m\u001b[1;33m\u001b[0m\u001b[0m\n\u001b[0;32m   1179\u001b[0m         )\n\u001b[1;32m-> 1180\u001b[1;33m         \u001b[0mcsv_formatter\u001b[0m\u001b[1;33m.\u001b[0m\u001b[0msave\u001b[0m\u001b[1;33m(\u001b[0m\u001b[1;33m)\u001b[0m\u001b[1;33m\u001b[0m\u001b[1;33m\u001b[0m\u001b[0m\n\u001b[0m\u001b[0;32m   1181\u001b[0m \u001b[1;33m\u001b[0m\u001b[0m\n\u001b[0;32m   1182\u001b[0m         \u001b[1;32mif\u001b[0m \u001b[0mcreated_buffer\u001b[0m\u001b[1;33m:\u001b[0m\u001b[1;33m\u001b[0m\u001b[1;33m\u001b[0m\u001b[0m\n",
      "\u001b[1;32m~\\anaconda3\\lib\\site-packages\\pandas\\io\\formats\\csvs.py\u001b[0m in \u001b[0;36msave\u001b[1;34m(self)\u001b[0m\n\u001b[0;32m    259\u001b[0m             )\n\u001b[0;32m    260\u001b[0m \u001b[1;33m\u001b[0m\u001b[0m\n\u001b[1;32m--> 261\u001b[1;33m             \u001b[0mself\u001b[0m\u001b[1;33m.\u001b[0m\u001b[0m_save\u001b[0m\u001b[1;33m(\u001b[0m\u001b[1;33m)\u001b[0m\u001b[1;33m\u001b[0m\u001b[1;33m\u001b[0m\u001b[0m\n\u001b[0m\u001b[0;32m    262\u001b[0m \u001b[1;33m\u001b[0m\u001b[0m\n\u001b[0;32m    263\u001b[0m     \u001b[1;32mdef\u001b[0m \u001b[0m_save\u001b[0m\u001b[1;33m(\u001b[0m\u001b[0mself\u001b[0m\u001b[1;33m)\u001b[0m \u001b[1;33m->\u001b[0m \u001b[1;32mNone\u001b[0m\u001b[1;33m:\u001b[0m\u001b[1;33m\u001b[0m\u001b[1;33m\u001b[0m\u001b[0m\n",
      "\u001b[1;32m~\\anaconda3\\lib\\site-packages\\pandas\\io\\formats\\csvs.py\u001b[0m in \u001b[0;36m_save\u001b[1;34m(self)\u001b[0m\n\u001b[0;32m    264\u001b[0m         \u001b[1;32mif\u001b[0m \u001b[0mself\u001b[0m\u001b[1;33m.\u001b[0m\u001b[0m_need_to_save_header\u001b[0m\u001b[1;33m:\u001b[0m\u001b[1;33m\u001b[0m\u001b[1;33m\u001b[0m\u001b[0m\n\u001b[0;32m    265\u001b[0m             \u001b[0mself\u001b[0m\u001b[1;33m.\u001b[0m\u001b[0m_save_header\u001b[0m\u001b[1;33m(\u001b[0m\u001b[1;33m)\u001b[0m\u001b[1;33m\u001b[0m\u001b[1;33m\u001b[0m\u001b[0m\n\u001b[1;32m--> 266\u001b[1;33m         \u001b[0mself\u001b[0m\u001b[1;33m.\u001b[0m\u001b[0m_save_body\u001b[0m\u001b[1;33m(\u001b[0m\u001b[1;33m)\u001b[0m\u001b[1;33m\u001b[0m\u001b[1;33m\u001b[0m\u001b[0m\n\u001b[0m\u001b[0;32m    267\u001b[0m \u001b[1;33m\u001b[0m\u001b[0m\n\u001b[0;32m    268\u001b[0m     \u001b[1;32mdef\u001b[0m \u001b[0m_save_header\u001b[0m\u001b[1;33m(\u001b[0m\u001b[0mself\u001b[0m\u001b[1;33m)\u001b[0m \u001b[1;33m->\u001b[0m \u001b[1;32mNone\u001b[0m\u001b[1;33m:\u001b[0m\u001b[1;33m\u001b[0m\u001b[1;33m\u001b[0m\u001b[0m\n",
      "\u001b[1;32m~\\anaconda3\\lib\\site-packages\\pandas\\io\\formats\\csvs.py\u001b[0m in \u001b[0;36m_save_body\u001b[1;34m(self)\u001b[0m\n\u001b[0;32m    302\u001b[0m             \u001b[1;32mif\u001b[0m \u001b[0mstart_i\u001b[0m \u001b[1;33m>=\u001b[0m \u001b[0mend_i\u001b[0m\u001b[1;33m:\u001b[0m\u001b[1;33m\u001b[0m\u001b[1;33m\u001b[0m\u001b[0m\n\u001b[0;32m    303\u001b[0m                 \u001b[1;32mbreak\u001b[0m\u001b[1;33m\u001b[0m\u001b[1;33m\u001b[0m\u001b[0m\n\u001b[1;32m--> 304\u001b[1;33m             \u001b[0mself\u001b[0m\u001b[1;33m.\u001b[0m\u001b[0m_save_chunk\u001b[0m\u001b[1;33m(\u001b[0m\u001b[0mstart_i\u001b[0m\u001b[1;33m,\u001b[0m \u001b[0mend_i\u001b[0m\u001b[1;33m)\u001b[0m\u001b[1;33m\u001b[0m\u001b[1;33m\u001b[0m\u001b[0m\n\u001b[0m\u001b[0;32m    305\u001b[0m \u001b[1;33m\u001b[0m\u001b[0m\n\u001b[0;32m    306\u001b[0m     \u001b[1;32mdef\u001b[0m \u001b[0m_save_chunk\u001b[0m\u001b[1;33m(\u001b[0m\u001b[0mself\u001b[0m\u001b[1;33m,\u001b[0m \u001b[0mstart_i\u001b[0m\u001b[1;33m:\u001b[0m \u001b[0mint\u001b[0m\u001b[1;33m,\u001b[0m \u001b[0mend_i\u001b[0m\u001b[1;33m:\u001b[0m \u001b[0mint\u001b[0m\u001b[1;33m)\u001b[0m \u001b[1;33m->\u001b[0m \u001b[1;32mNone\u001b[0m\u001b[1;33m:\u001b[0m\u001b[1;33m\u001b[0m\u001b[1;33m\u001b[0m\u001b[0m\n",
      "\u001b[1;32m~\\anaconda3\\lib\\site-packages\\pandas\\io\\formats\\csvs.py\u001b[0m in \u001b[0;36m_save_chunk\u001b[1;34m(self, start_i, end_i)\u001b[0m\n\u001b[0;32m    309\u001b[0m         \u001b[0mdf\u001b[0m \u001b[1;33m=\u001b[0m \u001b[0mself\u001b[0m\u001b[1;33m.\u001b[0m\u001b[0mobj\u001b[0m\u001b[1;33m.\u001b[0m\u001b[0miloc\u001b[0m\u001b[1;33m[\u001b[0m\u001b[0mslicer\u001b[0m\u001b[1;33m]\u001b[0m\u001b[1;33m\u001b[0m\u001b[1;33m\u001b[0m\u001b[0m\n\u001b[0;32m    310\u001b[0m \u001b[1;33m\u001b[0m\u001b[0m\n\u001b[1;32m--> 311\u001b[1;33m         \u001b[0mres\u001b[0m \u001b[1;33m=\u001b[0m \u001b[0mdf\u001b[0m\u001b[1;33m.\u001b[0m\u001b[0m_mgr\u001b[0m\u001b[1;33m.\u001b[0m\u001b[0mto_native_types\u001b[0m\u001b[1;33m(\u001b[0m\u001b[1;33m**\u001b[0m\u001b[0mself\u001b[0m\u001b[1;33m.\u001b[0m\u001b[0m_number_format\u001b[0m\u001b[1;33m)\u001b[0m\u001b[1;33m\u001b[0m\u001b[1;33m\u001b[0m\u001b[0m\n\u001b[0m\u001b[0;32m    312\u001b[0m         \u001b[0mdata\u001b[0m \u001b[1;33m=\u001b[0m \u001b[1;33m[\u001b[0m\u001b[0mres\u001b[0m\u001b[1;33m.\u001b[0m\u001b[0miget_values\u001b[0m\u001b[1;33m(\u001b[0m\u001b[0mi\u001b[0m\u001b[1;33m)\u001b[0m \u001b[1;32mfor\u001b[0m \u001b[0mi\u001b[0m \u001b[1;32min\u001b[0m \u001b[0mrange\u001b[0m\u001b[1;33m(\u001b[0m\u001b[0mlen\u001b[0m\u001b[1;33m(\u001b[0m\u001b[0mres\u001b[0m\u001b[1;33m.\u001b[0m\u001b[0mitems\u001b[0m\u001b[1;33m)\u001b[0m\u001b[1;33m)\u001b[0m\u001b[1;33m]\u001b[0m\u001b[1;33m\u001b[0m\u001b[1;33m\u001b[0m\u001b[0m\n\u001b[0;32m    313\u001b[0m \u001b[1;33m\u001b[0m\u001b[0m\n",
      "\u001b[1;32m~\\anaconda3\\lib\\site-packages\\pandas\\core\\internals\\managers.py\u001b[0m in \u001b[0;36mto_native_types\u001b[1;34m(self, **kwargs)\u001b[0m\n\u001b[0;32m    471\u001b[0m         \u001b[1;32min\u001b[0m \u001b[0mformatting\u001b[0m \u001b[1;33m(\u001b[0m\u001b[0mrepr\u001b[0m \u001b[1;33m/\u001b[0m \u001b[0mcsv\u001b[0m\u001b[1;33m)\u001b[0m\u001b[1;33m.\u001b[0m\u001b[1;33m\u001b[0m\u001b[1;33m\u001b[0m\u001b[0m\n\u001b[0;32m    472\u001b[0m         \"\"\"\n\u001b[1;32m--> 473\u001b[1;33m         \u001b[1;32mreturn\u001b[0m \u001b[0mself\u001b[0m\u001b[1;33m.\u001b[0m\u001b[0mapply\u001b[0m\u001b[1;33m(\u001b[0m\u001b[1;34m\"to_native_types\"\u001b[0m\u001b[1;33m,\u001b[0m \u001b[1;33m**\u001b[0m\u001b[0mkwargs\u001b[0m\u001b[1;33m)\u001b[0m\u001b[1;33m\u001b[0m\u001b[1;33m\u001b[0m\u001b[0m\n\u001b[0m\u001b[0;32m    474\u001b[0m \u001b[1;33m\u001b[0m\u001b[0m\n\u001b[0;32m    475\u001b[0m     \u001b[1;33m@\u001b[0m\u001b[0mproperty\u001b[0m\u001b[1;33m\u001b[0m\u001b[1;33m\u001b[0m\u001b[0m\n",
      "\u001b[1;32m~\\anaconda3\\lib\\site-packages\\pandas\\core\\internals\\managers.py\u001b[0m in \u001b[0;36mapply\u001b[1;34m(self, f, align_keys, ignore_failures, **kwargs)\u001b[0m\n\u001b[0;32m    302\u001b[0m                     \u001b[0mapplied\u001b[0m \u001b[1;33m=\u001b[0m \u001b[0mb\u001b[0m\u001b[1;33m.\u001b[0m\u001b[0mapply\u001b[0m\u001b[1;33m(\u001b[0m\u001b[0mf\u001b[0m\u001b[1;33m,\u001b[0m \u001b[1;33m**\u001b[0m\u001b[0mkwargs\u001b[0m\u001b[1;33m)\u001b[0m\u001b[1;33m\u001b[0m\u001b[1;33m\u001b[0m\u001b[0m\n\u001b[0;32m    303\u001b[0m                 \u001b[1;32melse\u001b[0m\u001b[1;33m:\u001b[0m\u001b[1;33m\u001b[0m\u001b[1;33m\u001b[0m\u001b[0m\n\u001b[1;32m--> 304\u001b[1;33m                     \u001b[0mapplied\u001b[0m \u001b[1;33m=\u001b[0m \u001b[0mgetattr\u001b[0m\u001b[1;33m(\u001b[0m\u001b[0mb\u001b[0m\u001b[1;33m,\u001b[0m \u001b[0mf\u001b[0m\u001b[1;33m)\u001b[0m\u001b[1;33m(\u001b[0m\u001b[1;33m**\u001b[0m\u001b[0mkwargs\u001b[0m\u001b[1;33m)\u001b[0m\u001b[1;33m\u001b[0m\u001b[1;33m\u001b[0m\u001b[0m\n\u001b[0m\u001b[0;32m    305\u001b[0m             \u001b[1;32mexcept\u001b[0m \u001b[1;33m(\u001b[0m\u001b[0mTypeError\u001b[0m\u001b[1;33m,\u001b[0m \u001b[0mNotImplementedError\u001b[0m\u001b[1;33m)\u001b[0m\u001b[1;33m:\u001b[0m\u001b[1;33m\u001b[0m\u001b[1;33m\u001b[0m\u001b[0m\n\u001b[0;32m    306\u001b[0m                 \u001b[1;32mif\u001b[0m \u001b[1;32mnot\u001b[0m \u001b[0mignore_failures\u001b[0m\u001b[1;33m:\u001b[0m\u001b[1;33m\u001b[0m\u001b[1;33m\u001b[0m\u001b[0m\n",
      "\u001b[1;32m~\\anaconda3\\lib\\site-packages\\pandas\\core\\internals\\blocks.py\u001b[0m in \u001b[0;36mto_native_types\u001b[1;34m(self, na_rep, quoting, **kwargs)\u001b[0m\n\u001b[0;32m    632\u001b[0m     \u001b[1;32mdef\u001b[0m \u001b[0mto_native_types\u001b[0m\u001b[1;33m(\u001b[0m\u001b[0mself\u001b[0m\u001b[1;33m,\u001b[0m \u001b[0mna_rep\u001b[0m\u001b[1;33m=\u001b[0m\u001b[1;34m\"nan\"\u001b[0m\u001b[1;33m,\u001b[0m \u001b[0mquoting\u001b[0m\u001b[1;33m=\u001b[0m\u001b[1;32mNone\u001b[0m\u001b[1;33m,\u001b[0m \u001b[1;33m**\u001b[0m\u001b[0mkwargs\u001b[0m\u001b[1;33m)\u001b[0m\u001b[1;33m:\u001b[0m\u001b[1;33m\u001b[0m\u001b[1;33m\u001b[0m\u001b[0m\n\u001b[0;32m    633\u001b[0m         \u001b[1;34m\"\"\"convert to our native types format\"\"\"\u001b[0m\u001b[1;33m\u001b[0m\u001b[1;33m\u001b[0m\u001b[0m\n\u001b[1;32m--> 634\u001b[1;33m         \u001b[0mresult\u001b[0m \u001b[1;33m=\u001b[0m \u001b[0mto_native_types\u001b[0m\u001b[1;33m(\u001b[0m\u001b[0mself\u001b[0m\u001b[1;33m.\u001b[0m\u001b[0mvalues\u001b[0m\u001b[1;33m,\u001b[0m \u001b[0mna_rep\u001b[0m\u001b[1;33m=\u001b[0m\u001b[0mna_rep\u001b[0m\u001b[1;33m,\u001b[0m \u001b[0mquoting\u001b[0m\u001b[1;33m=\u001b[0m\u001b[0mquoting\u001b[0m\u001b[1;33m,\u001b[0m \u001b[1;33m**\u001b[0m\u001b[0mkwargs\u001b[0m\u001b[1;33m)\u001b[0m\u001b[1;33m\u001b[0m\u001b[1;33m\u001b[0m\u001b[0m\n\u001b[0m\u001b[0;32m    635\u001b[0m         \u001b[1;32mreturn\u001b[0m \u001b[0mself\u001b[0m\u001b[1;33m.\u001b[0m\u001b[0mmake_block\u001b[0m\u001b[1;33m(\u001b[0m\u001b[0mresult\u001b[0m\u001b[1;33m)\u001b[0m\u001b[1;33m\u001b[0m\u001b[1;33m\u001b[0m\u001b[0m\n\u001b[0;32m    636\u001b[0m \u001b[1;33m\u001b[0m\u001b[0m\n",
      "\u001b[1;31mKeyboardInterrupt\u001b[0m: "
     ]
    }
   ],
   "source": [
    "\n",
    "X_train.to_csv('./datasets/X_train.csv')"
   ]
  },
  {
   "cell_type": "code",
   "execution_count": null,
   "id": "f3c9d7e4",
   "metadata": {},
   "outputs": [],
   "source": [
    "X_val.to_csv('./datasets/X_val.csv')"
   ]
  },
  {
   "cell_type": "code",
   "execution_count": null,
   "id": "53b8a057",
   "metadata": {},
   "outputs": [],
   "source": [
    "y_train.to_csv('./datasets/y_train.csv')\n",
    "y_val.to_csv('./datasets/y_val.csv')"
   ]
  },
  {
   "cell_type": "code",
   "execution_count": null,
   "id": "f995223c",
   "metadata": {},
   "outputs": [],
   "source": []
  },
  {
   "cell_type": "code",
   "execution_count": null,
   "id": "d0ce0a2e",
   "metadata": {},
   "outputs": [],
   "source": []
  },
  {
   "cell_type": "code",
   "execution_count": null,
   "id": "04bb67ce",
   "metadata": {},
   "outputs": [],
   "source": []
  },
  {
   "cell_type": "code",
   "execution_count": null,
   "id": "8e6c1c32",
   "metadata": {},
   "outputs": [],
   "source": []
  },
  {
   "cell_type": "code",
   "execution_count": null,
   "id": "206dbe60",
   "metadata": {},
   "outputs": [],
   "source": []
  },
  {
   "cell_type": "markdown",
   "id": "2e813dcf",
   "metadata": {},
   "source": [
    "##  Step 2:  Baseline scores after Step 1"
   ]
  },
  {
   "cell_type": "code",
   "execution_count": 47,
   "id": "4617b33b",
   "metadata": {},
   "outputs": [
    {
     "data": {
      "text/plain": [
       "LinearRegression()"
      ]
     },
     "execution_count": 47,
     "metadata": {},
     "output_type": "execute_result"
    }
   ],
   "source": [
    "lr = LinearRegression()\n",
    "model = 'lr'\n",
    "lr.fit(X_train,y_train)\n"
   ]
  },
  {
   "cell_type": "code",
   "execution_count": 48,
   "id": "8293ccb7",
   "metadata": {},
   "outputs": [
    {
     "data": {
      "text/plain": [
       "((1538, 14027), (1538,), (513, 14027), (513,))"
      ]
     },
     "execution_count": 48,
     "metadata": {},
     "output_type": "execute_result"
    }
   ],
   "source": [
    "X_train.shape,y_train.shape,X_val.shape,y_val.shape"
   ]
  },
  {
   "cell_type": "code",
   "execution_count": 49,
   "id": "0b68746e",
   "metadata": {},
   "outputs": [],
   "source": [
    "train = lr.score(X_train,y_train)\n",
    "y_pred = lr.predict(X_val)\n",
    "test = lr.score(X_val,y_val)\n",
    "mse = mean_squared_error(y_val,y_pred,squared=False)\n",
    "scores = [model,train,test,mse]"
   ]
  },
  {
   "cell_type": "code",
   "execution_count": 50,
   "id": "45245de8",
   "metadata": {},
   "outputs": [
    {
     "data": {
      "text/plain": [
       "['lr', 1.0, -5.947216559897067, 206533.4875621712]"
      ]
     },
     "execution_count": 50,
     "metadata": {},
     "output_type": "execute_result"
    }
   ],
   "source": [
    "scores"
   ]
  },
  {
   "cell_type": "code",
   "execution_count": 51,
   "id": "dc019fb9",
   "metadata": {},
   "outputs": [
    {
     "data": {
      "text/plain": [
       "['ridge', 0.997198210893794, 0.16313307554100032, 71682.51957177215]"
      ]
     },
     "execution_count": 51,
     "metadata": {},
     "output_type": "execute_result"
    }
   ],
   "source": [
    "ridge = RidgeCV()\n",
    "model = 'ridge'\n",
    "ridge.fit(X_train,y_train)\n",
    "train = ridge.score(X_train,y_train)\n",
    "y_pred = ridge.predict(X_val)\n",
    "test = ridge.score(X_val,y_val)\n",
    "mse = mean_squared_error(y_val,y_pred,squared=False)\n",
    "scores = [model,train,test,mse]\n",
    "scores"
   ]
  },
  {
   "cell_type": "code",
   "execution_count": 53,
   "id": "1d41e6c3",
   "metadata": {
    "scrolled": true
   },
   "outputs": [
    {
     "name": "stderr",
     "output_type": "stream",
     "text": [
      "C:\\Users\\Ari\\anaconda3\\lib\\site-packages\\sklearn\\linear_model\\_coordinate_descent.py:647: ConvergenceWarning: Objective did not converge. You might want to increase the number of iterations, check the scale of the features or consider increasing regularisation. Duality gap: 1.041e+10, tolerance: 9.727e+08\n",
      "  model = cd_fast.enet_coordinate_descent(\n"
     ]
    },
    {
     "data": {
      "text/plain": [
       "['lasso', 0.9992586595808142, -0.3880372658708111, 92317.83759945816]"
      ]
     },
     "execution_count": 53,
     "metadata": {},
     "output_type": "execute_result"
    }
   ],
   "source": [
    "lasso = Lasso()\n",
    "model = 'lasso'\n",
    "lasso.fit(X_train,y_train)\n",
    "train = lasso.score(X_train,y_train)\n",
    "y_pred = lasso.predict(X_val)\n",
    "test = lasso.score(X_val,y_val)\n",
    "mse = mean_squared_error(y_val,y_pred,squared=False)\n",
    "scores = [model,train,test,mse]\n",
    "scores"
   ]
  },
  {
   "cell_type": "code",
   "execution_count": null,
   "id": "3a3d9934",
   "metadata": {},
   "outputs": [],
   "source": []
  },
  {
   "cell_type": "code",
   "execution_count": null,
   "id": "945d42c7",
   "metadata": {},
   "outputs": [],
   "source": []
  },
  {
   "cell_type": "markdown",
   "id": "9300df65",
   "metadata": {},
   "source": [
    "##  Step 3 Get best columns from Lasso"
   ]
  },
  {
   "cell_type": "code",
   "execution_count": 99,
   "id": "c0b7aa94-1dc5-469e-88de-f09f4451fc71",
   "metadata": {},
   "outputs": [],
   "source": [
    "lasso_dict = dict(zip(X_train.columns,lasso.coef_))"
   ]
  },
  {
   "cell_type": "code",
   "execution_count": null,
   "id": "1fd1e7fb-519d-4fa7-a32c-6f73ce6f3aa8",
   "metadata": {},
   "outputs": [],
   "source": []
  },
  {
   "cell_type": "code",
   "execution_count": 100,
   "id": "3e3130a8-2385-48dd-aa68-a4d57bfb4907",
   "metadata": {},
   "outputs": [],
   "source": [
    "lasso_list = [key for key, value in lasso_dict.items() if abs(value) > 0.001]"
   ]
  },
  {
   "cell_type": "code",
   "execution_count": null,
   "id": "ed1c776d-e645-4428-a696-006332a45e0c",
   "metadata": {},
   "outputs": [],
   "source": []
  },
  {
   "cell_type": "code",
   "execution_count": null,
   "id": "8ab6342d-9733-41ae-8094-734af51cd5d6",
   "metadata": {},
   "outputs": [],
   "source": []
  },
  {
   "cell_type": "code",
   "execution_count": 102,
   "id": "c1bc3762-7533-4fc3-a862-92677579022a",
   "metadata": {},
   "outputs": [],
   "source": [
    "X_train = X_train[lasso_list]\n",
    "X_val = X_val[lasso_list]"
   ]
  },
  {
   "cell_type": "code",
   "execution_count": 105,
   "id": "ab4177e9-8aba-4d86-875a-09b50f4bca76",
   "metadata": {},
   "outputs": [],
   "source": [
    "train = lr.score(X_train,y_train)\n",
    "y_pred = lr.predict(X_val)\n",
    "test = lr.score(X_val,y_val)\n",
    "mse = mean_squared_error(y_val,y_pred,squared=False)\n",
    "scores = [model,train,test,mse]"
   ]
  },
  {
   "cell_type": "code",
   "execution_count": 106,
   "id": "c33e7283-2e85-4321-8d0b-c4e938d577bd",
   "metadata": {},
   "outputs": [
    {
     "data": {
      "text/plain": [
       "['lasso', 1.0, -4.491544862981642, 183625.2195814049]"
      ]
     },
     "execution_count": 106,
     "metadata": {},
     "output_type": "execute_result"
    }
   ],
   "source": [
    "scores"
   ]
  },
  {
   "cell_type": "code",
   "execution_count": null,
   "id": "a9657019-3167-4efa-b6d6-bd616918e7d7",
   "metadata": {},
   "outputs": [],
   "source": []
  },
  {
   "cell_type": "code",
   "execution_count": 107,
   "id": "afe24488-7a4b-48cb-8019-72767a1dd899",
   "metadata": {},
   "outputs": [
    {
     "data": {
      "text/plain": [
       "['ridge', 0.9971316439730465, 0.24604517575159646, 68038.96873426595]"
      ]
     },
     "execution_count": 107,
     "metadata": {},
     "output_type": "execute_result"
    }
   ],
   "source": [
    "ridge = RidgeCV()\n",
    "model = 'ridge'\n",
    "ridge.fit(X_train,y_train)\n",
    "train = ridge.score(X_train,y_train)\n",
    "y_pred = ridge.predict(X_val)\n",
    "test = ridge.score(X_val,y_val)\n",
    "mse = mean_squared_error(y_val,y_pred,squared=False)\n",
    "scores = [model,train,test,mse]\n",
    "scores"
   ]
  },
  {
   "cell_type": "code",
   "execution_count": null,
   "id": "df475676-6c2a-4b31-a643-53fb9417d91e",
   "metadata": {},
   "outputs": [],
   "source": []
  },
  {
   "cell_type": "code",
   "execution_count": 108,
   "id": "a21ca995-5fa3-4b9e-a162-3052d1475b88",
   "metadata": {},
   "outputs": [
    {
     "name": "stderr",
     "output_type": "stream",
     "text": [
      "C:\\Users\\Ari\\anaconda3\\lib\\site-packages\\sklearn\\linear_model\\_coordinate_descent.py:647: ConvergenceWarning: Objective did not converge. You might want to increase the number of iterations, check the scale of the features or consider increasing regularisation. Duality gap: 1.039e+10, tolerance: 9.727e+08\n",
      "  model = cd_fast.enet_coordinate_descent(\n"
     ]
    },
    {
     "data": {
      "text/plain": [
       "['lasso', 0.9992601542473016, -0.3924955854089931, 92465.97931812542]"
      ]
     },
     "execution_count": 108,
     "metadata": {},
     "output_type": "execute_result"
    }
   ],
   "source": [
    "lasso = Lasso()\n",
    "model = 'lasso'\n",
    "lasso.fit(X_train,y_train)\n",
    "train = lasso.score(X_train,y_train)\n",
    "y_pred = lasso.predict(X_val)\n",
    "test = lasso.score(X_val,y_val)\n",
    "mse = mean_squared_error(y_val,y_pred,squared=False)\n",
    "scores = [model,train,test,mse]\n",
    "scores"
   ]
  },
  {
   "cell_type": "code",
   "execution_count": null,
   "id": "a024cb30-71e8-41ad-9390-ee89b4bf50f5",
   "metadata": {},
   "outputs": [],
   "source": []
  },
  {
   "cell_type": "code",
   "execution_count": null,
   "id": "ee9c85fc-9933-4dfa-8063-e17be82efc5b",
   "metadata": {},
   "outputs": [],
   "source": []
  },
  {
   "cell_type": "code",
   "execution_count": 92,
   "id": "fbc6041e",
   "metadata": {},
   "outputs": [
    {
     "ename": "ValueError",
     "evalue": "Shape of passed values is (14027, 1), indices imply (14027, 14027)",
     "output_type": "error",
     "traceback": [
      "\u001b[1;31m---------------------------------------------------------------------------\u001b[0m",
      "\u001b[1;31mValueError\u001b[0m                                Traceback (most recent call last)",
      "\u001b[1;32m~\\AppData\\Local\\Temp\\ipykernel_9508\\840830955.py\u001b[0m in \u001b[0;36m<module>\u001b[1;34m\u001b[0m\n\u001b[1;32m----> 1\u001b[1;33m \u001b[0mlasso_col\u001b[0m \u001b[1;33m=\u001b[0m \u001b[0mpd\u001b[0m\u001b[1;33m.\u001b[0m\u001b[0mDataFrame\u001b[0m\u001b[1;33m(\u001b[0m\u001b[0mdata\u001b[0m \u001b[1;33m=\u001b[0m \u001b[0mlasso\u001b[0m\u001b[1;33m.\u001b[0m\u001b[0mcoef_\u001b[0m\u001b[1;33m,\u001b[0m \u001b[0mcolumns\u001b[0m \u001b[1;33m=\u001b[0m \u001b[0mX_train\u001b[0m\u001b[1;33m.\u001b[0m\u001b[0mcolumns\u001b[0m\u001b[1;33m)\u001b[0m\u001b[1;33m\u001b[0m\u001b[1;33m\u001b[0m\u001b[0m\n\u001b[0m",
      "\u001b[1;32m~\\anaconda3\\lib\\site-packages\\pandas\\core\\frame.py\u001b[0m in \u001b[0;36m__init__\u001b[1;34m(self, data, index, columns, dtype, copy)\u001b[0m\n\u001b[0;32m    692\u001b[0m                 )\n\u001b[0;32m    693\u001b[0m             \u001b[1;32melse\u001b[0m\u001b[1;33m:\u001b[0m\u001b[1;33m\u001b[0m\u001b[1;33m\u001b[0m\u001b[0m\n\u001b[1;32m--> 694\u001b[1;33m                 mgr = ndarray_to_mgr(\n\u001b[0m\u001b[0;32m    695\u001b[0m                     \u001b[0mdata\u001b[0m\u001b[1;33m,\u001b[0m\u001b[1;33m\u001b[0m\u001b[1;33m\u001b[0m\u001b[0m\n\u001b[0;32m    696\u001b[0m                     \u001b[0mindex\u001b[0m\u001b[1;33m,\u001b[0m\u001b[1;33m\u001b[0m\u001b[1;33m\u001b[0m\u001b[0m\n",
      "\u001b[1;32m~\\anaconda3\\lib\\site-packages\\pandas\\core\\internals\\construction.py\u001b[0m in \u001b[0;36mndarray_to_mgr\u001b[1;34m(values, index, columns, dtype, copy, typ)\u001b[0m\n\u001b[0;32m    349\u001b[0m     )\n\u001b[0;32m    350\u001b[0m \u001b[1;33m\u001b[0m\u001b[0m\n\u001b[1;32m--> 351\u001b[1;33m     \u001b[0m_check_values_indices_shape_match\u001b[0m\u001b[1;33m(\u001b[0m\u001b[0mvalues\u001b[0m\u001b[1;33m,\u001b[0m \u001b[0mindex\u001b[0m\u001b[1;33m,\u001b[0m \u001b[0mcolumns\u001b[0m\u001b[1;33m)\u001b[0m\u001b[1;33m\u001b[0m\u001b[1;33m\u001b[0m\u001b[0m\n\u001b[0m\u001b[0;32m    352\u001b[0m \u001b[1;33m\u001b[0m\u001b[0m\n\u001b[0;32m    353\u001b[0m     \u001b[1;32mif\u001b[0m \u001b[0mtyp\u001b[0m \u001b[1;33m==\u001b[0m \u001b[1;34m\"array\"\u001b[0m\u001b[1;33m:\u001b[0m\u001b[1;33m\u001b[0m\u001b[1;33m\u001b[0m\u001b[0m\n",
      "\u001b[1;32m~\\anaconda3\\lib\\site-packages\\pandas\\core\\internals\\construction.py\u001b[0m in \u001b[0;36m_check_values_indices_shape_match\u001b[1;34m(values, index, columns)\u001b[0m\n\u001b[0;32m    420\u001b[0m         \u001b[0mpassed\u001b[0m \u001b[1;33m=\u001b[0m \u001b[0mvalues\u001b[0m\u001b[1;33m.\u001b[0m\u001b[0mshape\u001b[0m\u001b[1;33m\u001b[0m\u001b[1;33m\u001b[0m\u001b[0m\n\u001b[0;32m    421\u001b[0m         \u001b[0mimplied\u001b[0m \u001b[1;33m=\u001b[0m \u001b[1;33m(\u001b[0m\u001b[0mlen\u001b[0m\u001b[1;33m(\u001b[0m\u001b[0mindex\u001b[0m\u001b[1;33m)\u001b[0m\u001b[1;33m,\u001b[0m \u001b[0mlen\u001b[0m\u001b[1;33m(\u001b[0m\u001b[0mcolumns\u001b[0m\u001b[1;33m)\u001b[0m\u001b[1;33m)\u001b[0m\u001b[1;33m\u001b[0m\u001b[1;33m\u001b[0m\u001b[0m\n\u001b[1;32m--> 422\u001b[1;33m         \u001b[1;32mraise\u001b[0m \u001b[0mValueError\u001b[0m\u001b[1;33m(\u001b[0m\u001b[1;34mf\"Shape of passed values is {passed}, indices imply {implied}\"\u001b[0m\u001b[1;33m)\u001b[0m\u001b[1;33m\u001b[0m\u001b[1;33m\u001b[0m\u001b[0m\n\u001b[0m\u001b[0;32m    423\u001b[0m \u001b[1;33m\u001b[0m\u001b[0m\n\u001b[0;32m    424\u001b[0m \u001b[1;33m\u001b[0m\u001b[0m\n",
      "\u001b[1;31mValueError\u001b[0m: Shape of passed values is (14027, 1), indices imply (14027, 14027)"
     ]
    }
   ],
   "source": [
    "lasso_col = pd.DataFrame(data = lasso.coef_, columns = X_train.columns)"
   ]
  },
  {
   "cell_type": "code",
   "execution_count": 84,
   "id": "1f0f832c-b9f7-435d-8d45-235c8cd1393f",
   "metadata": {},
   "outputs": [
    {
     "data": {
      "text/html": [
       "<div>\n",
       "<style scoped>\n",
       "    .dataframe tbody tr th:only-of-type {\n",
       "        vertical-align: middle;\n",
       "    }\n",
       "\n",
       "    .dataframe tbody tr th {\n",
       "        vertical-align: top;\n",
       "    }\n",
       "\n",
       "    .dataframe thead th {\n",
       "        text-align: right;\n",
       "    }\n",
       "</style>\n",
       "<table border=\"1\" class=\"dataframe\">\n",
       "  <thead>\n",
       "    <tr style=\"text-align: right;\">\n",
       "      <th></th>\n",
       "      <th>0</th>\n",
       "    </tr>\n",
       "  </thead>\n",
       "  <tbody>\n",
       "    <tr>\n",
       "      <th>ohe__ms_subclass_30</th>\n",
       "      <td>-14827.178854</td>\n",
       "    </tr>\n",
       "    <tr>\n",
       "      <th>ohe__ms_subclass_40</th>\n",
       "      <td>-3298.704821</td>\n",
       "    </tr>\n",
       "    <tr>\n",
       "      <th>ohe__ms_subclass_45</th>\n",
       "      <td>-2205.248557</td>\n",
       "    </tr>\n",
       "    <tr>\n",
       "      <th>ohe__ms_subclass_50</th>\n",
       "      <td>-14416.476614</td>\n",
       "    </tr>\n",
       "    <tr>\n",
       "      <th>ohe__ms_subclass_60</th>\n",
       "      <td>26548.788159</td>\n",
       "    </tr>\n",
       "  </tbody>\n",
       "</table>\n",
       "</div>"
      ],
      "text/plain": [
       "                                0\n",
       "ohe__ms_subclass_30 -14827.178854\n",
       "ohe__ms_subclass_40  -3298.704821\n",
       "ohe__ms_subclass_45  -2205.248557\n",
       "ohe__ms_subclass_50 -14416.476614\n",
       "ohe__ms_subclass_60  26548.788159"
      ]
     },
     "execution_count": 84,
     "metadata": {},
     "output_type": "execute_result"
    }
   ],
   "source": [
    "lasso_col.head()"
   ]
  },
  {
   "cell_type": "code",
   "execution_count": 91,
   "id": "471961c2-01eb-4338-aed7-933824da8237",
   "metadata": {},
   "outputs": [
    {
     "ename": "KeyError",
     "evalue": "1",
     "output_type": "error",
     "traceback": [
      "\u001b[1;31m---------------------------------------------------------------------------\u001b[0m",
      "\u001b[1;31mValueError\u001b[0m                                Traceback (most recent call last)",
      "\u001b[1;32m~\\anaconda3\\lib\\site-packages\\pandas\\core\\indexes\\range.py\u001b[0m in \u001b[0;36mget_loc\u001b[1;34m(self, key, method, tolerance)\u001b[0m\n\u001b[0;32m    384\u001b[0m                 \u001b[1;32mtry\u001b[0m\u001b[1;33m:\u001b[0m\u001b[1;33m\u001b[0m\u001b[1;33m\u001b[0m\u001b[0m\n\u001b[1;32m--> 385\u001b[1;33m                     \u001b[1;32mreturn\u001b[0m \u001b[0mself\u001b[0m\u001b[1;33m.\u001b[0m\u001b[0m_range\u001b[0m\u001b[1;33m.\u001b[0m\u001b[0mindex\u001b[0m\u001b[1;33m(\u001b[0m\u001b[0mnew_key\u001b[0m\u001b[1;33m)\u001b[0m\u001b[1;33m\u001b[0m\u001b[1;33m\u001b[0m\u001b[0m\n\u001b[0m\u001b[0;32m    386\u001b[0m                 \u001b[1;32mexcept\u001b[0m \u001b[0mValueError\u001b[0m \u001b[1;32mas\u001b[0m \u001b[0merr\u001b[0m\u001b[1;33m:\u001b[0m\u001b[1;33m\u001b[0m\u001b[1;33m\u001b[0m\u001b[0m\n",
      "\u001b[1;31mValueError\u001b[0m: 1 is not in range",
      "\nThe above exception was the direct cause of the following exception:\n",
      "\u001b[1;31mKeyError\u001b[0m                                  Traceback (most recent call last)",
      "\u001b[1;32m~\\AppData\\Local\\Temp\\ipykernel_9508\\1135944787.py\u001b[0m in \u001b[0;36m<module>\u001b[1;34m\u001b[0m\n\u001b[1;32m----> 1\u001b[1;33m \u001b[0mlasso_col\u001b[0m\u001b[1;33m[\u001b[0m\u001b[1;36m1\u001b[0m\u001b[1;33m]\u001b[0m\u001b[1;33m\u001b[0m\u001b[1;33m\u001b[0m\u001b[0m\n\u001b[0m",
      "\u001b[1;32m~\\anaconda3\\lib\\site-packages\\pandas\\core\\frame.py\u001b[0m in \u001b[0;36m__getitem__\u001b[1;34m(self, key)\u001b[0m\n\u001b[0;32m   3503\u001b[0m             \u001b[1;32mif\u001b[0m \u001b[0mself\u001b[0m\u001b[1;33m.\u001b[0m\u001b[0mcolumns\u001b[0m\u001b[1;33m.\u001b[0m\u001b[0mnlevels\u001b[0m \u001b[1;33m>\u001b[0m \u001b[1;36m1\u001b[0m\u001b[1;33m:\u001b[0m\u001b[1;33m\u001b[0m\u001b[1;33m\u001b[0m\u001b[0m\n\u001b[0;32m   3504\u001b[0m                 \u001b[1;32mreturn\u001b[0m \u001b[0mself\u001b[0m\u001b[1;33m.\u001b[0m\u001b[0m_getitem_multilevel\u001b[0m\u001b[1;33m(\u001b[0m\u001b[0mkey\u001b[0m\u001b[1;33m)\u001b[0m\u001b[1;33m\u001b[0m\u001b[1;33m\u001b[0m\u001b[0m\n\u001b[1;32m-> 3505\u001b[1;33m             \u001b[0mindexer\u001b[0m \u001b[1;33m=\u001b[0m \u001b[0mself\u001b[0m\u001b[1;33m.\u001b[0m\u001b[0mcolumns\u001b[0m\u001b[1;33m.\u001b[0m\u001b[0mget_loc\u001b[0m\u001b[1;33m(\u001b[0m\u001b[0mkey\u001b[0m\u001b[1;33m)\u001b[0m\u001b[1;33m\u001b[0m\u001b[1;33m\u001b[0m\u001b[0m\n\u001b[0m\u001b[0;32m   3506\u001b[0m             \u001b[1;32mif\u001b[0m \u001b[0mis_integer\u001b[0m\u001b[1;33m(\u001b[0m\u001b[0mindexer\u001b[0m\u001b[1;33m)\u001b[0m\u001b[1;33m:\u001b[0m\u001b[1;33m\u001b[0m\u001b[1;33m\u001b[0m\u001b[0m\n\u001b[0;32m   3507\u001b[0m                 \u001b[0mindexer\u001b[0m \u001b[1;33m=\u001b[0m \u001b[1;33m[\u001b[0m\u001b[0mindexer\u001b[0m\u001b[1;33m]\u001b[0m\u001b[1;33m\u001b[0m\u001b[1;33m\u001b[0m\u001b[0m\n",
      "\u001b[1;32m~\\anaconda3\\lib\\site-packages\\pandas\\core\\indexes\\range.py\u001b[0m in \u001b[0;36mget_loc\u001b[1;34m(self, key, method, tolerance)\u001b[0m\n\u001b[0;32m    385\u001b[0m                     \u001b[1;32mreturn\u001b[0m \u001b[0mself\u001b[0m\u001b[1;33m.\u001b[0m\u001b[0m_range\u001b[0m\u001b[1;33m.\u001b[0m\u001b[0mindex\u001b[0m\u001b[1;33m(\u001b[0m\u001b[0mnew_key\u001b[0m\u001b[1;33m)\u001b[0m\u001b[1;33m\u001b[0m\u001b[1;33m\u001b[0m\u001b[0m\n\u001b[0;32m    386\u001b[0m                 \u001b[1;32mexcept\u001b[0m \u001b[0mValueError\u001b[0m \u001b[1;32mas\u001b[0m \u001b[0merr\u001b[0m\u001b[1;33m:\u001b[0m\u001b[1;33m\u001b[0m\u001b[1;33m\u001b[0m\u001b[0m\n\u001b[1;32m--> 387\u001b[1;33m                     \u001b[1;32mraise\u001b[0m \u001b[0mKeyError\u001b[0m\u001b[1;33m(\u001b[0m\u001b[0mkey\u001b[0m\u001b[1;33m)\u001b[0m \u001b[1;32mfrom\u001b[0m \u001b[0merr\u001b[0m\u001b[1;33m\u001b[0m\u001b[1;33m\u001b[0m\u001b[0m\n\u001b[0m\u001b[0;32m    388\u001b[0m             \u001b[0mself\u001b[0m\u001b[1;33m.\u001b[0m\u001b[0m_check_indexing_error\u001b[0m\u001b[1;33m(\u001b[0m\u001b[0mkey\u001b[0m\u001b[1;33m)\u001b[0m\u001b[1;33m\u001b[0m\u001b[1;33m\u001b[0m\u001b[0m\n\u001b[0;32m    389\u001b[0m             \u001b[1;32mraise\u001b[0m \u001b[0mKeyError\u001b[0m\u001b[1;33m(\u001b[0m\u001b[0mkey\u001b[0m\u001b[1;33m)\u001b[0m\u001b[1;33m\u001b[0m\u001b[1;33m\u001b[0m\u001b[0m\n",
      "\u001b[1;31mKeyError\u001b[0m: 1"
     ]
    }
   ],
   "source": [
    "lasso_col[1]"
   ]
  },
  {
   "cell_type": "code",
   "execution_count": 77,
   "id": "8778f1e0-38a3-47a4-a0c4-8125d23e965f",
   "metadata": {},
   "outputs": [
    {
     "data": {
      "text/plain": [
       " 0.000000        10190\n",
       "-19051.533112        1\n",
       " 218.343154          1\n",
       " 205.578579          1\n",
       " 206.272280          1\n",
       "                 ...  \n",
       "-293.049285          1\n",
       "-292.388531          1\n",
       "-291.183205          1\n",
       "-290.867674          1\n",
       " 26548.788159        1\n",
       "Length: 3838, dtype: int64"
      ]
     },
     "execution_count": 77,
     "metadata": {},
     "output_type": "execute_result"
    }
   ],
   "source": [
    "lasso_col.value_counts()"
   ]
  },
  {
   "cell_type": "code",
   "execution_count": 80,
   "id": "94729b8d-681d-470c-8880-8e4d263c4716",
   "metadata": {},
   "outputs": [
    {
     "ename": "ValueError",
     "evalue": "The truth value of a Series is ambiguous. Use a.empty, a.bool(), a.item(), a.any() or a.all().",
     "output_type": "error",
     "traceback": [
      "\u001b[1;31m---------------------------------------------------------------------------\u001b[0m",
      "\u001b[1;31mValueError\u001b[0m                                Traceback (most recent call last)",
      "\u001b[1;32m~\\AppData\\Local\\Temp\\ipykernel_9508\\1473284772.py\u001b[0m in \u001b[0;36m<module>\u001b[1;34m\u001b[0m\n\u001b[1;32m----> 1\u001b[1;33m \u001b[0mnew_cols\u001b[0m \u001b[1;33m=\u001b[0m \u001b[1;33m[\u001b[0m\u001b[0mcol\u001b[0m \u001b[1;32mfor\u001b[0m \u001b[0mcol\u001b[0m \u001b[1;32min\u001b[0m \u001b[0mlasso_col\u001b[0m \u001b[1;32mif\u001b[0m \u001b[0mabs\u001b[0m\u001b[1;33m(\u001b[0m\u001b[0mlasso_col\u001b[0m\u001b[1;33m[\u001b[0m\u001b[0mcol\u001b[0m\u001b[1;33m]\u001b[0m\u001b[1;33m)\u001b[0m \u001b[1;33m>\u001b[0m \u001b[1;36m0.001\u001b[0m\u001b[1;33m]\u001b[0m\u001b[1;33m\u001b[0m\u001b[1;33m\u001b[0m\u001b[0m\n\u001b[0m",
      "\u001b[1;32m~\\AppData\\Local\\Temp\\ipykernel_9508\\1473284772.py\u001b[0m in \u001b[0;36m<listcomp>\u001b[1;34m(.0)\u001b[0m\n\u001b[1;32m----> 1\u001b[1;33m \u001b[0mnew_cols\u001b[0m \u001b[1;33m=\u001b[0m \u001b[1;33m[\u001b[0m\u001b[0mcol\u001b[0m \u001b[1;32mfor\u001b[0m \u001b[0mcol\u001b[0m \u001b[1;32min\u001b[0m \u001b[0mlasso_col\u001b[0m \u001b[1;32mif\u001b[0m \u001b[0mabs\u001b[0m\u001b[1;33m(\u001b[0m\u001b[0mlasso_col\u001b[0m\u001b[1;33m[\u001b[0m\u001b[0mcol\u001b[0m\u001b[1;33m]\u001b[0m\u001b[1;33m)\u001b[0m \u001b[1;33m>\u001b[0m \u001b[1;36m0.001\u001b[0m\u001b[1;33m]\u001b[0m\u001b[1;33m\u001b[0m\u001b[1;33m\u001b[0m\u001b[0m\n\u001b[0m",
      "\u001b[1;32m~\\anaconda3\\lib\\site-packages\\pandas\\core\\generic.py\u001b[0m in \u001b[0;36m__nonzero__\u001b[1;34m(self)\u001b[0m\n\u001b[0;32m   1525\u001b[0m     \u001b[1;33m@\u001b[0m\u001b[0mfinal\u001b[0m\u001b[1;33m\u001b[0m\u001b[1;33m\u001b[0m\u001b[0m\n\u001b[0;32m   1526\u001b[0m     \u001b[1;32mdef\u001b[0m \u001b[0m__nonzero__\u001b[0m\u001b[1;33m(\u001b[0m\u001b[0mself\u001b[0m\u001b[1;33m)\u001b[0m\u001b[1;33m:\u001b[0m\u001b[1;33m\u001b[0m\u001b[1;33m\u001b[0m\u001b[0m\n\u001b[1;32m-> 1527\u001b[1;33m         raise ValueError(\n\u001b[0m\u001b[0;32m   1528\u001b[0m             \u001b[1;34mf\"The truth value of a {type(self).__name__} is ambiguous. \"\u001b[0m\u001b[1;33m\u001b[0m\u001b[1;33m\u001b[0m\u001b[0m\n\u001b[0;32m   1529\u001b[0m             \u001b[1;34m\"Use a.empty, a.bool(), a.item(), a.any() or a.all().\"\u001b[0m\u001b[1;33m\u001b[0m\u001b[1;33m\u001b[0m\u001b[0m\n",
      "\u001b[1;31mValueError\u001b[0m: The truth value of a Series is ambiguous. Use a.empty, a.bool(), a.item(), a.any() or a.all()."
     ]
    }
   ],
   "source": [
    "lasso_col = pd.DataFrame(data = lasso.coef_, columns = X_train.columns)\n",
    "new_cols = [col for col in lasso_col if abs(lasso_col[col]) > 0.001]\n",
    "X_train = X_train[new_cols]\n",
    "X_val = X_val[new_cols]"
   ]
  },
  {
   "cell_type": "code",
   "execution_count": 83,
   "id": "a8f1f415-7b75-4c34-a017-a9da997dd599",
   "metadata": {},
   "outputs": [
    {
     "ename": "SyntaxError",
     "evalue": "invalid syntax (103104640.py, line 1)",
     "output_type": "error",
     "traceback": [
      "\u001b[1;36m  File \u001b[1;32m\"C:\\Users\\Ari\\AppData\\Local\\Temp\\ipykernel_9508\\103104640.py\"\u001b[1;36m, line \u001b[1;32m1\u001b[0m\n\u001b[1;33m    lasso_col.query('abs(lasso_col['0']) > 0.001')\u001b[0m\n\u001b[1;37m                                    ^\u001b[0m\n\u001b[1;31mSyntaxError\u001b[0m\u001b[1;31m:\u001b[0m invalid syntax\n"
     ]
    }
   ],
   "source": [
    "lasso_col.query('abs(lasso_col['0']) > 0.001')"
   ]
  },
  {
   "cell_type": "code",
   "execution_count": null,
   "id": "47b3ae5b-d9c4-4e1b-b4f2-a765994a8145",
   "metadata": {},
   "outputs": [],
   "source": []
  },
  {
   "cell_type": "code",
   "execution_count": null,
   "id": "a234c5e3-ab79-4ce2-8239-00e4f6314d2f",
   "metadata": {},
   "outputs": [],
   "source": []
  },
  {
   "cell_type": "code",
   "execution_count": 56,
   "id": "6f2af402-7168-4bac-b968-800982a916d5",
   "metadata": {},
   "outputs": [
    {
     "data": {
      "text/plain": [
       "array([-14827.17885357,  -3298.70482082,  -2205.24855693, ...,\n",
       "         -977.09830919,  -7548.72588989,   -996.84689661])"
      ]
     },
     "execution_count": 56,
     "metadata": {},
     "output_type": "execute_result"
    }
   ],
   "source": [
    "lasso.coef_"
   ]
  },
  {
   "cell_type": "code",
   "execution_count": 58,
   "id": "bc1fe882-5bfd-49ce-b3cd-0b7d454076eb",
   "metadata": {},
   "outputs": [
    {
     "ename": "AttributeError",
     "evalue": "'numpy.ndarray' object has no attribute 'hist'",
     "output_type": "error",
     "traceback": [
      "\u001b[1;31m---------------------------------------------------------------------------\u001b[0m",
      "\u001b[1;31mAttributeError\u001b[0m                            Traceback (most recent call last)",
      "\u001b[1;32m~\\AppData\\Local\\Temp\\ipykernel_9508\\143686021.py\u001b[0m in \u001b[0;36m<module>\u001b[1;34m\u001b[0m\n\u001b[1;32m----> 1\u001b[1;33m \u001b[0mlasso\u001b[0m\u001b[1;33m.\u001b[0m\u001b[0mcoef_\u001b[0m\u001b[1;33m.\u001b[0m\u001b[0mhist\u001b[0m\u001b[1;33m(\u001b[0m\u001b[1;33m)\u001b[0m\u001b[1;33m\u001b[0m\u001b[1;33m\u001b[0m\u001b[0m\n\u001b[0m",
      "\u001b[1;31mAttributeError\u001b[0m: 'numpy.ndarray' object has no attribute 'hist'"
     ]
    }
   ],
   "source": [
    "lasso.coef_.hist()"
   ]
  },
  {
   "cell_type": "code",
   "execution_count": null,
   "id": "777557d2-11d6-47ff-9ac8-f2539aa74b8d",
   "metadata": {},
   "outputs": [],
   "source": []
  },
  {
   "cell_type": "code",
   "execution_count": 68,
   "id": "980377b7",
   "metadata": {},
   "outputs": [],
   "source": [
    "lasso_col = lasso_col[abs(lasso_col) > 0.01]"
   ]
  },
  {
   "cell_type": "code",
   "execution_count": 71,
   "id": "dd066b55",
   "metadata": {},
   "outputs": [
    {
     "name": "stdout",
     "output_type": "stream",
     "text": [
      "<class 'pandas.core.frame.DataFrame'>\n",
      "Index: 14027 entries, ohe__ms_subclass_30 to remainder__fence_priv^2\n",
      "Data columns (total 1 columns):\n",
      " #   Column  Non-Null Count  Dtype  \n",
      "---  ------  --------------  -----  \n",
      " 0   0       3835 non-null   float64\n",
      "dtypes: float64(1)\n",
      "memory usage: 735.2+ KB\n"
     ]
    }
   ],
   "source": [
    "lasso_col.info()"
   ]
  },
  {
   "cell_type": "code",
   "execution_count": 75,
   "id": "f4ca699d",
   "metadata": {},
   "outputs": [
    {
     "data": {
      "text/plain": [
       "RangeIndex(start=0, stop=1, step=1)"
      ]
     },
     "execution_count": 75,
     "metadata": {},
     "output_type": "execute_result"
    }
   ],
   "source": [
    "lasso_col."
   ]
  },
  {
   "cell_type": "code",
   "execution_count": null,
   "id": "e6ea4d04",
   "metadata": {},
   "outputs": [],
   "source": []
  },
  {
   "cell_type": "code",
   "execution_count": null,
   "id": "14fc856a",
   "metadata": {},
   "outputs": [],
   "source": []
  },
  {
   "cell_type": "code",
   "execution_count": 276,
   "id": "b1ba49f1",
   "metadata": {},
   "outputs": [
    {
     "name": "stderr",
     "output_type": "stream",
     "text": [
      "C:\\Anaconda\\lib\\site-packages\\sklearn\\linear_model\\_coordinate_descent.py:647: ConvergenceWarning: Objective did not converge. You might want to increase the number of iterations, check the scale of the features or consider increasing regularisation. Duality gap: 4.018e+11, tolerance: 9.727e+08\n",
      "  model = cd_fast.enet_coordinate_descent(\n"
     ]
    },
    {
     "data": {
      "text/plain": [
       "['enet', 0.9018996454981228, 0.882756965498898, 26830.488838138266]"
      ]
     },
     "execution_count": 276,
     "metadata": {},
     "output_type": "execute_result"
    }
   ],
   "source": [
    "enet = ElasticNet(\n",
    "alpha = 0.01,\n",
    "l1_ratio=0.99)\n",
    "\n",
    "model = 'enet'\n",
    "enet.fit(X_train,y_train)\n",
    "train = enet.score(X_train,y_train)\n",
    "y_pred = enet.predict(X_val)\n",
    "test = enet.score(X_val,y_val)\n",
    "mse = mean_squared_error(y_val,y_pred,squared=False)\n",
    "scores = [model,train,test,mse]\n",
    "scores"
   ]
  },
  {
   "cell_type": "code",
   "execution_count": 277,
   "id": "acd5ba37",
   "metadata": {},
   "outputs": [
    {
     "data": {
      "text/plain": [
       "array([ 3.97454600e+02,  1.76334341e+03,  3.30075691e+03,  6.06366156e+02,\n",
       "        8.88230971e+02,  4.70304794e+03,  3.27963507e+02, -2.66083201e+01,\n",
       "        1.17526955e+02,  4.02002662e+03,  1.92256128e+03,  2.39930564e+02,\n",
       "        2.25027629e+03,  4.27140175e+03,  3.87273232e+03,  1.82793170e+03,\n",
       "        1.48074182e+03,  6.03214511e+03,  1.11063034e+04,  1.97997461e+03,\n",
       "        1.27083318e+03,  2.46857069e+03,  4.26783895e+02,  3.16366098e+03,\n",
       "        8.12556650e+03,  2.20773232e+03,  6.87916191e+02,  3.13452996e+03,\n",
       "        4.85949392e+02,  8.01438271e+03, -2.12876371e+03, -5.68153792e+02,\n",
       "        4.95469686e+04,  1.19564523e+04,  3.70544404e+04,  2.23591374e+04,\n",
       "        2.16283747e+04, -6.71867863e+01, -6.61560962e+02,  8.94603473e+02,\n",
       "        9.21561738e+01,  7.54577065e+02, -2.33183655e+03, -2.16216687e+02,\n",
       "       -9.92570218e+02, -4.52782273e+02, -8.93994672e+02, -9.38039753e+02,\n",
       "        1.01916832e+03, -2.71876198e+03, -1.07151907e+03,  6.84825652e+02,\n",
       "        4.23487535e+02, -2.90621572e+01, -6.33744755e+02,  5.93986591e+02,\n",
       "        1.76619350e+03,  5.13721720e+02,  2.58727709e+03,  1.04191944e+03,\n",
       "       -3.39036137e+02,  5.63299960e+02,  5.78750799e+02,  2.27338700e+03,\n",
       "        1.21375940e+03,  1.56846369e+02, -1.34473200e+03, -1.93739181e+03,\n",
       "        6.18513911e+02, -1.10475247e+03,  9.02697036e+02, -3.71882842e+03,\n",
       "        3.37391326e+02, -3.52112927e+01,  7.44205237e+01,  1.69029836e+03,\n",
       "        9.19311459e+02, -2.34391193e+02,  9.57023854e+02,  6.88524510e+03,\n",
       "        1.47602255e+03,  2.90000357e+03, -1.06825000e+04,  1.33526317e+03,\n",
       "        6.63135158e+03,  7.94050935e+02, -9.08572074e+02,  4.34062670e+01,\n",
       "        2.26052785e+03,  9.97915468e+02,  1.81510805e+03,  2.11897357e+03,\n",
       "       -1.66335231e+02, -3.46157948e+03, -1.43527066e+03,  1.41004968e+04,\n",
       "        4.18452404e+03,  8.08544484e+03,  3.41000240e+02,  6.86147839e+03,\n",
       "       -5.99628988e+02,  2.02508178e+03, -2.87449482e+03,  6.95506144e+03,\n",
       "        6.62583330e+03,  1.14945070e+02,  8.48967891e+02, -1.24146557e+03,\n",
       "        3.80396127e+02,  2.68569732e+04,  1.76286708e+03,  1.31362121e+03,\n",
       "       -2.25979400e+03, -1.86848143e+03,  4.30091282e+03,  2.88083349e+03,\n",
       "        3.59811947e+03,  5.84256205e+03,  2.40887394e+03, -1.31768220e+03,\n",
       "        1.92396242e+03,  4.17813628e+03, -2.96377087e+03,  1.75708406e+03,\n",
       "        1.52935012e+03,  7.19550332e+02,  9.96788959e+02,  8.67889522e+02,\n",
       "        4.41009356e+03, -1.37429468e+03,  1.54363212e+02, -6.92487885e+03,\n",
       "       -9.23657216e+02,  4.70926237e+02, -7.20912248e+03, -6.89413523e+03,\n",
       "       -4.51480488e+02, -2.18342867e+02,  8.90551855e+02,  1.07097576e+03])"
      ]
     },
     "execution_count": 277,
     "metadata": {},
     "output_type": "execute_result"
    }
   ],
   "source": [
    "enet.coef_"
   ]
  },
  {
   "cell_type": "code",
   "execution_count": null,
   "id": "5ead9aaa",
   "metadata": {},
   "outputs": [],
   "source": []
  },
  {
   "cell_type": "markdown",
   "id": "a15da06d",
   "metadata": {},
   "source": [
    "## Step 4:  Poly with best features"
   ]
  },
  {
   "cell_type": "code",
   "execution_count": 349,
   "id": "ab0b55cc",
   "metadata": {},
   "outputs": [
    {
     "data": {
      "text/plain": [
       "((1538, 140), (513, 140), (1538,), (513,))"
      ]
     },
     "execution_count": 349,
     "metadata": {},
     "output_type": "execute_result"
    }
   ],
   "source": [
    "X_train.shape,X_val.shape,y_train.shape,y_val.shape"
   ]
  },
  {
   "cell_type": "code",
   "execution_count": 350,
   "id": "06c5f9eb",
   "metadata": {},
   "outputs": [],
   "source": [
    "X_train = X_train.loc[:,lasso_col]"
   ]
  },
  {
   "cell_type": "code",
   "execution_count": 352,
   "id": "3f9adc85",
   "metadata": {},
   "outputs": [],
   "source": [
    "X_val = X_val.loc[:,lasso_col]"
   ]
  },
  {
   "cell_type": "code",
   "execution_count": 354,
   "id": "bb5d6e03",
   "metadata": {},
   "outputs": [],
   "source": [
    "poly = PolynomialFeatures(\n",
    "degree = 2,\n",
    "include_bias=False)"
   ]
  },
  {
   "cell_type": "code",
   "execution_count": 363,
   "id": "168d9feb",
   "metadata": {},
   "outputs": [],
   "source": [
    "poly.fit(X_train,y_train)\n",
    "X_train = poly.transform(X_train)\n",
    "X_val = poly.transform(X_val)"
   ]
  },
  {
   "cell_type": "raw",
   "id": "9a145b0e",
   "metadata": {},
   "source": []
  },
  {
   "cell_type": "code",
   "execution_count": 364,
   "id": "fd7bc2cc",
   "metadata": {},
   "outputs": [
    {
     "data": {
      "text/plain": [
       "(1538, 2210)"
      ]
     },
     "execution_count": 364,
     "metadata": {},
     "output_type": "execute_result"
    }
   ],
   "source": []
  },
  {
   "cell_type": "code",
   "execution_count": 365,
   "id": "8d3123d8",
   "metadata": {},
   "outputs": [
    {
     "data": {
      "text/plain": [
       "['lr', 0.9921538387155522, -8.711101944497426e+21, 7313438409358058.0]"
      ]
     },
     "execution_count": 365,
     "metadata": {},
     "output_type": "execute_result"
    }
   ],
   "source": [
    "lr = LinearRegression()\n",
    "model = 'lr'\n",
    "lr.fit(X_train,y_train)\n",
    "train = lr.score(X_train,y_train)\n",
    "y_pred = lr.predict(X_val)\n",
    "test = lr.score(X_val,y_val)\n",
    "mse = mean_squared_error(y_val,y_pred,squared=False)\n",
    "scores = [model,train,test,mse]\n",
    "scores"
   ]
  },
  {
   "cell_type": "code",
   "execution_count": 366,
   "id": "c46bc7c3",
   "metadata": {},
   "outputs": [
    {
     "data": {
      "text/plain": [
       "['ridge', 0.9909020843789949, 0.543709647902167, 52930.464253423765]"
      ]
     },
     "execution_count": 366,
     "metadata": {},
     "output_type": "execute_result"
    }
   ],
   "source": [
    "ridge = RidgeCV()\n",
    "model = 'ridge'\n",
    "ridge.fit(X_train,y_train)\n",
    "train = ridge.score(X_train,y_train)\n",
    "y_pred = ridge.predict(X_val)\n",
    "test = ridge.score(X_val,y_val)\n",
    "mse = mean_squared_error(y_val,y_pred,squared=False)\n",
    "scores = [model,train,test,mse]\n",
    "scores"
   ]
  },
  {
   "cell_type": "code",
   "execution_count": 367,
   "id": "578c9cb8",
   "metadata": {},
   "outputs": [
    {
     "name": "stderr",
     "output_type": "stream",
     "text": [
      "C:\\Anaconda\\lib\\site-packages\\sklearn\\linear_model\\_coordinate_descent.py:647: ConvergenceWarning: Objective did not converge. You might want to increase the number of iterations, check the scale of the features or consider increasing regularisation. Duality gap: 1.288e+09, tolerance: 7.781e+08\n",
      "  model = cd_fast.enet_coordinate_descent(\n",
      "C:\\Anaconda\\lib\\site-packages\\sklearn\\linear_model\\_coordinate_descent.py:647: ConvergenceWarning: Objective did not converge. You might want to increase the number of iterations, check the scale of the features or consider increasing regularisation. Duality gap: 9.175e+08, tolerance: 8.169e+08\n",
      "  model = cd_fast.enet_coordinate_descent(\n",
      "C:\\Anaconda\\lib\\site-packages\\sklearn\\linear_model\\_coordinate_descent.py:647: ConvergenceWarning: Objective did not converge. You might want to increase the number of iterations, check the scale of the features or consider increasing regularisation. Duality gap: 2.178e+09, tolerance: 8.169e+08\n",
      "  model = cd_fast.enet_coordinate_descent(\n",
      "C:\\Anaconda\\lib\\site-packages\\sklearn\\linear_model\\_coordinate_descent.py:647: ConvergenceWarning: Objective did not converge. You might want to increase the number of iterations, check the scale of the features or consider increasing regularisation. Duality gap: 2.044e+09, tolerance: 8.169e+08\n",
      "  model = cd_fast.enet_coordinate_descent(\n"
     ]
    },
    {
     "data": {
      "text/plain": [
       "['lasso', 0.9552825192514054, 0.832505502357755, 32068.993712219726]"
      ]
     },
     "execution_count": 367,
     "metadata": {},
     "output_type": "execute_result"
    }
   ],
   "source": [
    "lasso = LassoCV()\n",
    "model = 'lasso'\n",
    "lasso.fit(X_train,y_train)\n",
    "train = lasso.score(X_train,y_train)\n",
    "y_pred = lasso.predict(X_val)\n",
    "test = lasso.score(X_val,y_val)\n",
    "mse = mean_squared_error(y_val,y_pred,squared=False)\n",
    "scores = [model,train,test,mse]\n",
    "scores"
   ]
  },
  {
   "cell_type": "code",
   "execution_count": 368,
   "id": "583dd51a",
   "metadata": {},
   "outputs": [
    {
     "name": "stderr",
     "output_type": "stream",
     "text": [
      "C:\\Anaconda\\lib\\site-packages\\sklearn\\linear_model\\_coordinate_descent.py:647: ConvergenceWarning: Objective did not converge. You might want to increase the number of iterations, check the scale of the features or consider increasing regularisation. Duality gap: 3.197e+10, tolerance: 9.727e+08\n",
      "  model = cd_fast.enet_coordinate_descent(\n"
     ]
    },
    {
     "data": {
      "text/plain": [
       "['enet', 0.9939178321992128, -0.4932368568778973, 95752.34320601264]"
      ]
     },
     "execution_count": 368,
     "metadata": {},
     "output_type": "execute_result"
    }
   ],
   "source": [
    "enet = ElasticNet(\n",
    "alpha = 0.01,\n",
    "l1_ratio=0.99)\n",
    "\n",
    "model = 'enet'\n",
    "enet.fit(X_train,y_train)\n",
    "train = enet.score(X_train,y_train)\n",
    "y_pred = enet.predict(X_val)\n",
    "test = enet.score(X_val,y_val)\n",
    "mse = mean_squared_error(y_val,y_pred,squared=False)\n",
    "scores = [model,train,test,mse]\n",
    "scores"
   ]
  },
  {
   "cell_type": "code",
   "execution_count": null,
   "id": "c4349bbf",
   "metadata": {},
   "outputs": [],
   "source": []
  },
  {
   "cell_type": "code",
   "execution_count": null,
   "id": "05521561",
   "metadata": {},
   "outputs": [],
   "source": []
  },
  {
   "cell_type": "code",
   "execution_count": 123,
   "id": "6d9fa2ea",
   "metadata": {},
   "outputs": [],
   "source": [
    "alphas = [1400,1425,1450,1475,1500,1525,1550,1575,1600]\n",
    "results = []\n",
    "for a in alphas:\n",
    "    pipe = Pipeline(\n",
    "        steps = [\n",
    "        ('ctx',ctx),\n",
    "        ('ss',StandardScaler()),\n",
    "        ('poly',poly),\n",
    "        ('lasso',Lasso(alpha=a)),\n",
    "    ])\n",
    "    pipe.fit(X_train,y_train)\n",
    "    train = pipe.score(X_train,y_train)\n",
    "    test = pipe.score(X_val,y_val)\n",
    "    y_pred = pipe.predict(X_val)\n",
    "    mse = mean_squared_error(y_pred,y_val,squared=False)\n",
    "    results.append([a,train,test,mse])"
   ]
  },
  {
   "cell_type": "code",
   "execution_count": 124,
   "id": "717dd7f1",
   "metadata": {},
   "outputs": [
    {
     "data": {
      "text/plain": [
       "[[1400, 0.9512781589837208, 0.9203527378413868, 22114.161963670285],\n",
       " [1425, 0.950894538858513, 0.9204752956717416, 22097.141246011222],\n",
       " [1450, 0.9505109528838381, 0.9205602387342333, 22085.336735983958],\n",
       " [1475, 0.9501381730642383, 0.9206400420600506, 22074.2407422707],\n",
       " [1500, 0.9497735056038243, 0.9205284124554061, 22089.760362685596],\n",
       " [1525, 0.9494240158337535, 0.9204183988780468, 22105.044649729432],\n",
       " [1550, 0.9491025057874914, 0.9203614881285695, 22112.947166213344],\n",
       " [1575, 0.9487836238262699, 0.9203132001748817, 22119.650123940974],\n",
       " [1600, 0.9484787957456288, 0.9202831172687801, 22123.82497202926]]"
      ]
     },
     "execution_count": 124,
     "metadata": {},
     "output_type": "execute_result"
    }
   ],
   "source": [
    "results"
   ]
  },
  {
   "cell_type": "code",
   "execution_count": null,
   "id": "2f1d09f5",
   "metadata": {},
   "outputs": [],
   "source": []
  },
  {
   "cell_type": "code",
   "execution_count": null,
   "id": "5e9b1c4e",
   "metadata": {},
   "outputs": [],
   "source": []
  },
  {
   "cell_type": "code",
   "execution_count": null,
   "id": "4de8394a",
   "metadata": {},
   "outputs": [],
   "source": [
    "    "
   ]
  },
  {
   "cell_type": "code",
   "execution_count": null,
   "id": "0a0a13d6",
   "metadata": {},
   "outputs": [],
   "source": [
    "    "
   ]
  },
  {
   "cell_type": "code",
   "execution_count": null,
   "id": "76d4869f",
   "metadata": {},
   "outputs": [],
   "source": []
  },
  {
   "cell_type": "code",
   "execution_count": null,
   "id": "3904d5bf",
   "metadata": {},
   "outputs": [],
   "source": []
  },
  {
   "cell_type": "code",
   "execution_count": null,
   "id": "5109516b",
   "metadata": {},
   "outputs": [],
   "source": []
  },
  {
   "cell_type": "code",
   "execution_count": null,
   "id": "b6febd3a",
   "metadata": {},
   "outputs": [],
   "source": []
  },
  {
   "cell_type": "code",
   "execution_count": null,
   "id": "f402a6ea",
   "metadata": {},
   "outputs": [],
   "source": []
  },
  {
   "cell_type": "code",
   "execution_count": 86,
   "id": "3f0bfe28",
   "metadata": {},
   "outputs": [
    {
     "data": {
      "text/html": [
       "<div>\n",
       "<style scoped>\n",
       "    .dataframe tbody tr th:only-of-type {\n",
       "        vertical-align: middle;\n",
       "    }\n",
       "\n",
       "    .dataframe tbody tr th {\n",
       "        vertical-align: top;\n",
       "    }\n",
       "\n",
       "    .dataframe thead th {\n",
       "        text-align: right;\n",
       "    }\n",
       "</style>\n",
       "<table border=\"1\" class=\"dataframe\">\n",
       "  <thead>\n",
       "    <tr style=\"text-align: right;\">\n",
       "      <th></th>\n",
       "      <th>0</th>\n",
       "    </tr>\n",
       "  </thead>\n",
       "  <tbody>\n",
       "    <tr>\n",
       "      <th>x0</th>\n",
       "      <td>-20.190664</td>\n",
       "    </tr>\n",
       "    <tr>\n",
       "      <th>x1</th>\n",
       "      <td>-52.917506</td>\n",
       "    </tr>\n",
       "    <tr>\n",
       "      <th>x2</th>\n",
       "      <td>-40.790627</td>\n",
       "    </tr>\n",
       "    <tr>\n",
       "      <th>x3</th>\n",
       "      <td>9.399357</td>\n",
       "    </tr>\n",
       "    <tr>\n",
       "      <th>x4</th>\n",
       "      <td>-311.782806</td>\n",
       "    </tr>\n",
       "    <tr>\n",
       "      <th>...</th>\n",
       "      <td>...</td>\n",
       "    </tr>\n",
       "    <tr>\n",
       "      <th>x142 x143</th>\n",
       "      <td>783.258989</td>\n",
       "    </tr>\n",
       "    <tr>\n",
       "      <th>x142 x144</th>\n",
       "      <td>1595.167820</td>\n",
       "    </tr>\n",
       "    <tr>\n",
       "      <th>x143^2</th>\n",
       "      <td>342.731254</td>\n",
       "    </tr>\n",
       "    <tr>\n",
       "      <th>x143 x144</th>\n",
       "      <td>-130.317110</td>\n",
       "    </tr>\n",
       "    <tr>\n",
       "      <th>x144^2</th>\n",
       "      <td>1127.271078</td>\n",
       "    </tr>\n",
       "  </tbody>\n",
       "</table>\n",
       "<p>10730 rows × 1 columns</p>\n",
       "</div>"
      ],
      "text/plain": [
       "                     0\n",
       "x0          -20.190664\n",
       "x1          -52.917506\n",
       "x2          -40.790627\n",
       "x3            9.399357\n",
       "x4         -311.782806\n",
       "...                ...\n",
       "x142 x143   783.258989\n",
       "x142 x144  1595.167820\n",
       "x143^2      342.731254\n",
       "x143 x144  -130.317110\n",
       "x144^2     1127.271078\n",
       "\n",
       "[10730 rows x 1 columns]"
      ]
     },
     "execution_count": 86,
     "metadata": {},
     "output_type": "execute_result"
    }
   ],
   "source": [
    "pd.DataFrame(\n",
    "    data= pipe.named_steps['lr'].coef_,\n",
    "    index = pipe[1:-1].get_feature_names_out()\n",
    ")"
   ]
  },
  {
   "cell_type": "code",
   "execution_count": null,
   "id": "9b9a0c45",
   "metadata": {},
   "outputs": [],
   "source": []
  },
  {
   "cell_type": "code",
   "execution_count": null,
   "id": "45d23709",
   "metadata": {},
   "outputs": [],
   "source": []
  }
 ],
 "metadata": {
  "kernelspec": {
   "display_name": "Python 3 (ipykernel)",
   "language": "python",
   "name": "python3"
  },
  "language_info": {
   "codemirror_mode": {
    "name": "ipython",
    "version": 3
   },
   "file_extension": ".py",
   "mimetype": "text/x-python",
   "name": "python",
   "nbconvert_exporter": "python",
   "pygments_lexer": "ipython3",
   "version": "3.9.13"
  }
 },
 "nbformat": 4,
 "nbformat_minor": 5
}
