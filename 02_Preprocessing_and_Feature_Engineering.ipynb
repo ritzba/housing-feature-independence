{
 "cells": [
  {
   "cell_type": "code",
   "execution_count": 1,
   "id": "ff194c37",
   "metadata": {},
   "outputs": [],
   "source": [
    "import numpy as np\n",
    "import pandas as pd\n",
    "import matplotlib.pyplot as plt\n",
    "import seaborn as sns\n",
    "\n",
    "from sklearn.compose import ColumnTransformer\n",
    "from sklearn.preprocessing import OneHotEncoder, OrdinalEncoder"
   ]
  },
  {
   "cell_type": "code",
   "execution_count": 2,
   "id": "811fe142",
   "metadata": {},
   "outputs": [],
   "source": [
    "from sklearn.linear_model import LinearRegression, Lasso, LassoCV, Ridge, RidgeCV, ElasticNet, ElasticNetCV\n",
    "from sklearn.model_selection import train_test_split, cross_val_score\n",
    "from sklearn.preprocessing import PolynomialFeatures, StandardScaler\n",
    "from sklearn.metrics import r2_score, mean_squared_error\n",
    "\n",
    "from statsmodels.stats.outliers_influence import variance_inflation_factor\n",
    "from sklearn.pipeline import Pipeline\n",
    "\n",
    "from sklearn.model_selection import \\\n",
    "    KFold, RepeatedKFold, GridSearchCV, \\\n",
    "    cross_validate, train_test_split\n",
    "\n",
    "from ipywidgets import *\n",
    "from IPython.display import display\n",
    "\n",
    "import warnings\n",
    "\n"
   ]
  },
  {
   "cell_type": "code",
   "execution_count": 3,
   "id": "2915a476",
   "metadata": {},
   "outputs": [],
   "source": [
    "df_train = pd.read_csv('./datasets/df_train.csv')\n",
    "df_test = pd.read_csv('./datasets/df_test.csv')"
   ]
  },
  {
   "cell_type": "code",
   "execution_count": 4,
   "id": "7a0701cf",
   "metadata": {},
   "outputs": [
    {
     "data": {
      "text/plain": [
       "Index(['pid', 'ms_subclass', 'ms_zoning', 'lot_frontage', 'lot_area', 'street',\n",
       "       'lot_shape', 'land_contour', 'utilities', 'lot_config', 'land_slope',\n",
       "       'neighborhood', 'condition_1', 'condition_2', 'bldg_type',\n",
       "       'house_style', 'overall_qual', 'overall_cond', 'year_built',\n",
       "       'year_remod/add', 'roof_style', 'roof_matl', 'exterior_1st',\n",
       "       'exterior_2nd', 'mas_vnr_type', 'mas_vnr_area', 'exter_qual',\n",
       "       'exter_cond', 'foundation', 'bsmt_qual', 'bsmt_cond', 'bsmt_exposure',\n",
       "       'bsmtfin_type_1', 'bsmtfin_sf_1', 'bsmtfin_type_2', 'bsmtfin_sf_2',\n",
       "       'bsmt_unf_sf', 'total_bsmt_sf', 'heating', 'heating_qc', 'central_air',\n",
       "       'electrical', '1st_flr_sf', '2nd_flr_sf', 'low_qual_fin_sf',\n",
       "       'gr_liv_area', 'bsmt_full_bath', 'bsmt_half_bath', 'full_bath',\n",
       "       'half_bath', 'bedroom_abvgr', 'kitchen_abvgr', 'kitchen_qual',\n",
       "       'totrms_abvgrd', 'functional', 'fireplaces', 'fireplace_qu',\n",
       "       'garage_type', 'garage_yr_blt', 'garage_finish', 'garage_cars',\n",
       "       'garage_area', 'garage_qual', 'garage_cond', 'paved_drive',\n",
       "       'wood_deck_sf', 'open_porch_sf', 'enclosed_porch', '3ssn_porch',\n",
       "       'screen_porch', 'pool_area', 'pool_qc', 'fence', 'misc_feature',\n",
       "       'misc_val', 'mo_sold', 'yr_sold', 'sale_type', 'saleprice', 'pid_1',\n",
       "       'pid_2', 'pid_3', 'pid_4', 'fr_rate'],\n",
       "      dtype='object')"
      ]
     },
     "execution_count": 4,
     "metadata": {},
     "output_type": "execute_result"
    }
   ],
   "source": [
    "df_train.columns"
   ]
  },
  {
   "cell_type": "code",
   "execution_count": 5,
   "id": "985a9faf",
   "metadata": {},
   "outputs": [],
   "source": [
    "df_train = df_train.dropna(how='any',axis=1)"
   ]
  },
  {
   "cell_type": "code",
   "execution_count": 6,
   "id": "93420b2c-bb7e-4ab3-a047-375dba6757db",
   "metadata": {},
   "outputs": [
    {
     "name": "stdout",
     "output_type": "stream",
     "text": [
      "<class 'pandas.core.frame.DataFrame'>\n",
      "RangeIndex: 878 entries, 0 to 877\n",
      "Data columns (total 83 columns):\n",
      " #   Column           Non-Null Count  Dtype  \n",
      "---  ------           --------------  -----  \n",
      " 0   pid              878 non-null    int64  \n",
      " 1   ms_subclass      878 non-null    int64  \n",
      " 2   ms_zoning        878 non-null    object \n",
      " 3   lot_frontage     718 non-null    float64\n",
      " 4   lot_area         878 non-null    int64  \n",
      " 5   street           878 non-null    object \n",
      " 6   alley            58 non-null     object \n",
      " 7   lot_shape        878 non-null    object \n",
      " 8   land_contour     878 non-null    object \n",
      " 9   utilities        878 non-null    object \n",
      " 10  lot_config       878 non-null    object \n",
      " 11  land_slope       878 non-null    object \n",
      " 12  neighborhood     878 non-null    object \n",
      " 13  condition_1      878 non-null    object \n",
      " 14  condition_2      878 non-null    object \n",
      " 15  bldg_type        878 non-null    object \n",
      " 16  house_style      878 non-null    object \n",
      " 17  overall_qual     878 non-null    int64  \n",
      " 18  overall_cond     878 non-null    int64  \n",
      " 19  year_built       878 non-null    int64  \n",
      " 20  year_remod/add   878 non-null    int64  \n",
      " 21  roof_style       878 non-null    object \n",
      " 22  roof_matl        878 non-null    object \n",
      " 23  exterior_1st     878 non-null    object \n",
      " 24  exterior_2nd     878 non-null    object \n",
      " 25  mas_vnr_type     877 non-null    object \n",
      " 26  mas_vnr_area     877 non-null    float64\n",
      " 27  exter_qual       878 non-null    object \n",
      " 28  exter_cond       878 non-null    object \n",
      " 29  foundation       878 non-null    object \n",
      " 30  bsmt_qual        853 non-null    object \n",
      " 31  bsmt_cond        853 non-null    object \n",
      " 32  bsmt_exposure    853 non-null    object \n",
      " 33  bsmtfin_type_1   853 non-null    object \n",
      " 34  bsmtfin_sf_1     878 non-null    int64  \n",
      " 35  bsmtfin_type_2   853 non-null    object \n",
      " 36  bsmtfin_sf_2     878 non-null    int64  \n",
      " 37  bsmt_unf_sf      878 non-null    int64  \n",
      " 38  total_bsmt_sf    878 non-null    int64  \n",
      " 39  heating          878 non-null    object \n",
      " 40  heating_qc       878 non-null    object \n",
      " 41  central_air      878 non-null    object \n",
      " 42  electrical       877 non-null    object \n",
      " 43  1st_flr_sf       878 non-null    int64  \n",
      " 44  2nd_flr_sf       878 non-null    int64  \n",
      " 45  low_qual_fin_sf  878 non-null    int64  \n",
      " 46  gr_liv_area      878 non-null    int64  \n",
      " 47  bsmt_full_bath   878 non-null    int64  \n",
      " 48  bsmt_half_bath   878 non-null    int64  \n",
      " 49  full_bath        878 non-null    int64  \n",
      " 50  half_bath        878 non-null    int64  \n",
      " 51  bedroom_abvgr    878 non-null    int64  \n",
      " 52  kitchen_abvgr    878 non-null    int64  \n",
      " 53  kitchen_qual     878 non-null    object \n",
      " 54  totrms_abvgrd    878 non-null    int64  \n",
      " 55  functional       878 non-null    object \n",
      " 56  fireplaces       878 non-null    int64  \n",
      " 57  fireplace_qu     456 non-null    object \n",
      " 58  garage_type      834 non-null    object \n",
      " 59  garage_yr_blt    833 non-null    float64\n",
      " 60  garage_finish    833 non-null    object \n",
      " 61  garage_cars      878 non-null    int64  \n",
      " 62  garage_area      878 non-null    int64  \n",
      " 63  garage_qual      833 non-null    object \n",
      " 64  garage_cond      833 non-null    object \n",
      " 65  paved_drive      878 non-null    object \n",
      " 66  wood_deck_sf     878 non-null    int64  \n",
      " 67  open_porch_sf    878 non-null    int64  \n",
      " 68  enclosed_porch   878 non-null    int64  \n",
      " 69  3ssn_porch       878 non-null    int64  \n",
      " 70  screen_porch     878 non-null    int64  \n",
      " 71  pool_area        878 non-null    int64  \n",
      " 72  pool_qc          4 non-null      object \n",
      " 73  fence            172 non-null    object \n",
      " 74  misc_feature     41 non-null     object \n",
      " 75  misc_val         878 non-null    int64  \n",
      " 76  mo_sold          878 non-null    int64  \n",
      " 77  yr_sold          878 non-null    int64  \n",
      " 78  sale_type        878 non-null    object \n",
      " 79  pid_1            878 non-null    int64  \n",
      " 80  pid_2            878 non-null    int64  \n",
      " 81  pid_3            878 non-null    int64  \n",
      " 82  pid_4            878 non-null    int64  \n",
      "dtypes: float64(3), int64(38), object(42)\n",
      "memory usage: 569.5+ KB\n"
     ]
    }
   ],
   "source": [
    "df_test.info()"
   ]
  },
  {
   "cell_type": "code",
   "execution_count": 7,
   "id": "c536bd44",
   "metadata": {},
   "outputs": [
    {
     "name": "stdout",
     "output_type": "stream",
     "text": [
      "<class 'pandas.core.frame.DataFrame'>\n",
      "RangeIndex: 2051 entries, 0 to 2050\n",
      "Data columns (total 58 columns):\n",
      " #   Column           Non-Null Count  Dtype \n",
      "---  ------           --------------  ----- \n",
      " 0   pid              2051 non-null   int64 \n",
      " 1   ms_subclass      2051 non-null   int64 \n",
      " 2   ms_zoning        2051 non-null   object\n",
      " 3   lot_area         2051 non-null   int64 \n",
      " 4   street           2051 non-null   object\n",
      " 5   lot_shape        2051 non-null   object\n",
      " 6   land_contour     2051 non-null   object\n",
      " 7   utilities        2051 non-null   object\n",
      " 8   lot_config       2051 non-null   object\n",
      " 9   land_slope       2051 non-null   object\n",
      " 10  neighborhood     2051 non-null   object\n",
      " 11  condition_1      2051 non-null   object\n",
      " 12  condition_2      2051 non-null   object\n",
      " 13  bldg_type        2051 non-null   object\n",
      " 14  house_style      2051 non-null   object\n",
      " 15  overall_qual     2051 non-null   int64 \n",
      " 16  overall_cond     2051 non-null   int64 \n",
      " 17  year_built       2051 non-null   int64 \n",
      " 18  year_remod/add   2051 non-null   int64 \n",
      " 19  roof_style       2051 non-null   object\n",
      " 20  roof_matl        2051 non-null   object\n",
      " 21  exterior_1st     2051 non-null   object\n",
      " 22  exterior_2nd     2051 non-null   object\n",
      " 23  exter_qual       2051 non-null   object\n",
      " 24  exter_cond       2051 non-null   object\n",
      " 25  foundation       2051 non-null   object\n",
      " 26  heating          2051 non-null   object\n",
      " 27  heating_qc       2051 non-null   object\n",
      " 28  central_air      2051 non-null   object\n",
      " 29  electrical       2051 non-null   object\n",
      " 30  1st_flr_sf       2051 non-null   int64 \n",
      " 31  2nd_flr_sf       2051 non-null   int64 \n",
      " 32  low_qual_fin_sf  2051 non-null   int64 \n",
      " 33  gr_liv_area      2051 non-null   int64 \n",
      " 34  full_bath        2051 non-null   int64 \n",
      " 35  half_bath        2051 non-null   int64 \n",
      " 36  bedroom_abvgr    2051 non-null   int64 \n",
      " 37  kitchen_abvgr    2051 non-null   int64 \n",
      " 38  kitchen_qual     2051 non-null   object\n",
      " 39  totrms_abvgrd    2051 non-null   int64 \n",
      " 40  functional       2051 non-null   object\n",
      " 41  fireplaces       2051 non-null   int64 \n",
      " 42  paved_drive      2051 non-null   object\n",
      " 43  wood_deck_sf     2051 non-null   int64 \n",
      " 44  open_porch_sf    2051 non-null   int64 \n",
      " 45  enclosed_porch   2051 non-null   int64 \n",
      " 46  3ssn_porch       2051 non-null   int64 \n",
      " 47  screen_porch     2051 non-null   int64 \n",
      " 48  pool_area        2051 non-null   int64 \n",
      " 49  misc_val         2051 non-null   int64 \n",
      " 50  mo_sold          2051 non-null   int64 \n",
      " 51  yr_sold          2051 non-null   int64 \n",
      " 52  sale_type        2051 non-null   object\n",
      " 53  saleprice        2051 non-null   int64 \n",
      " 54  pid_1            2051 non-null   int64 \n",
      " 55  pid_2            2051 non-null   int64 \n",
      " 56  pid_3            2051 non-null   int64 \n",
      " 57  pid_4            2051 non-null   int64 \n",
      "dtypes: int64(31), object(27)\n",
      "memory usage: 929.5+ KB\n"
     ]
    }
   ],
   "source": [
    "df_train.info()"
   ]
  },
  {
   "cell_type": "code",
   "execution_count": null,
   "id": "cc6ae092-db90-409e-9148-c1ef9dfb3747",
   "metadata": {},
   "outputs": [],
   "source": []
  },
  {
   "cell_type": "code",
   "execution_count": null,
   "id": "cbf6d56c-eb1b-49c5-b7a2-9cfc396bd06c",
   "metadata": {},
   "outputs": [],
   "source": []
  },
  {
   "cell_type": "code",
   "execution_count": null,
   "id": "b3f70b59-724e-4620-b5dc-8939ec6c4cce",
   "metadata": {},
   "outputs": [],
   "source": []
  },
  {
   "cell_type": "code",
   "execution_count": null,
   "id": "9363f779-436f-4beb-b3fa-8f2dbc17f8da",
   "metadata": {},
   "outputs": [],
   "source": []
  },
  {
   "cell_type": "code",
   "execution_count": 8,
   "id": "d12da9c8",
   "metadata": {},
   "outputs": [],
   "source": [
    "X = df_train.drop(columns='saleprice')\n",
    "y = df_train['saleprice']"
   ]
  },
  {
   "cell_type": "code",
   "execution_count": 9,
   "id": "cf11338a",
   "metadata": {},
   "outputs": [],
   "source": [
    "X_train,X_val,y_train,y_val = train_test_split(X, y, random_state = 42)"
   ]
  },
  {
   "cell_type": "code",
   "execution_count": 10,
   "id": "d3a8be26",
   "metadata": {
    "scrolled": true
   },
   "outputs": [
    {
     "name": "stdout",
     "output_type": "stream",
     "text": [
      "<class 'pandas.core.frame.DataFrame'>\n",
      "Int64Index: 1538 entries, 532 to 860\n",
      "Data columns (total 57 columns):\n",
      " #   Column           Non-Null Count  Dtype \n",
      "---  ------           --------------  ----- \n",
      " 0   pid              1538 non-null   int64 \n",
      " 1   ms_subclass      1538 non-null   int64 \n",
      " 2   ms_zoning        1538 non-null   object\n",
      " 3   lot_area         1538 non-null   int64 \n",
      " 4   street           1538 non-null   object\n",
      " 5   lot_shape        1538 non-null   object\n",
      " 6   land_contour     1538 non-null   object\n",
      " 7   utilities        1538 non-null   object\n",
      " 8   lot_config       1538 non-null   object\n",
      " 9   land_slope       1538 non-null   object\n",
      " 10  neighborhood     1538 non-null   object\n",
      " 11  condition_1      1538 non-null   object\n",
      " 12  condition_2      1538 non-null   object\n",
      " 13  bldg_type        1538 non-null   object\n",
      " 14  house_style      1538 non-null   object\n",
      " 15  overall_qual     1538 non-null   int64 \n",
      " 16  overall_cond     1538 non-null   int64 \n",
      " 17  year_built       1538 non-null   int64 \n",
      " 18  year_remod/add   1538 non-null   int64 \n",
      " 19  roof_style       1538 non-null   object\n",
      " 20  roof_matl        1538 non-null   object\n",
      " 21  exterior_1st     1538 non-null   object\n",
      " 22  exterior_2nd     1538 non-null   object\n",
      " 23  exter_qual       1538 non-null   object\n",
      " 24  exter_cond       1538 non-null   object\n",
      " 25  foundation       1538 non-null   object\n",
      " 26  heating          1538 non-null   object\n",
      " 27  heating_qc       1538 non-null   object\n",
      " 28  central_air      1538 non-null   object\n",
      " 29  electrical       1538 non-null   object\n",
      " 30  1st_flr_sf       1538 non-null   int64 \n",
      " 31  2nd_flr_sf       1538 non-null   int64 \n",
      " 32  low_qual_fin_sf  1538 non-null   int64 \n",
      " 33  gr_liv_area      1538 non-null   int64 \n",
      " 34  full_bath        1538 non-null   int64 \n",
      " 35  half_bath        1538 non-null   int64 \n",
      " 36  bedroom_abvgr    1538 non-null   int64 \n",
      " 37  kitchen_abvgr    1538 non-null   int64 \n",
      " 38  kitchen_qual     1538 non-null   object\n",
      " 39  totrms_abvgrd    1538 non-null   int64 \n",
      " 40  functional       1538 non-null   object\n",
      " 41  fireplaces       1538 non-null   int64 \n",
      " 42  paved_drive      1538 non-null   object\n",
      " 43  wood_deck_sf     1538 non-null   int64 \n",
      " 44  open_porch_sf    1538 non-null   int64 \n",
      " 45  enclosed_porch   1538 non-null   int64 \n",
      " 46  3ssn_porch       1538 non-null   int64 \n",
      " 47  screen_porch     1538 non-null   int64 \n",
      " 48  pool_area        1538 non-null   int64 \n",
      " 49  misc_val         1538 non-null   int64 \n",
      " 50  mo_sold          1538 non-null   int64 \n",
      " 51  yr_sold          1538 non-null   int64 \n",
      " 52  sale_type        1538 non-null   object\n",
      " 53  pid_1            1538 non-null   int64 \n",
      " 54  pid_2            1538 non-null   int64 \n",
      " 55  pid_3            1538 non-null   int64 \n",
      " 56  pid_4            1538 non-null   int64 \n",
      "dtypes: int64(30), object(27)\n",
      "memory usage: 696.9+ KB\n"
     ]
    }
   ],
   "source": [
    "X_train.info()"
   ]
  },
  {
   "cell_type": "markdown",
   "id": "f89be00b-f2e3-483b-9415-3df4903c5a84",
   "metadata": {},
   "source": [
    "#  OneHot Encoding and Scaling"
   ]
  },
  {
   "cell_type": "code",
   "execution_count": 61,
   "id": "868eaffe",
   "metadata": {},
   "outputs": [],
   "source": [
    "ctx = ColumnTransformer(transformers = [\n",
    "    ('ohe',OneHotEncoder(\n",
    "        drop='first',\n",
    "        sparse=False,\n",
    "        handle_unknown='ignore'),\n",
    "     ['ms_subclass','ms_zoning','lot_config','neighborhood','house_style','roof_style','roof_matl','exterior_1st','exterior_2nd',\n",
    "      'heating','foundation','sale_type']),\n",
    "    ('ord',OrdinalEncoder(\n",
    "        categories = [[]]),\n",
    "     [])\n",
    "],remainder='passthrough')"
   ]
  },
  {
   "cell_type": "code",
   "execution_count": 62,
   "id": "fdbcb7e2-ea02-4ad2-9e8f-1a0e7c5c951c",
   "metadata": {},
   "outputs": [],
   "source": [
    "pipe = Pipeline(\n",
    "    steps = [\n",
    "        ('ctx',ctx),\n",
    "        ('ss',StandardScaler())\n",
    "    ]\n",
    ")"
   ]
  },
  {
   "cell_type": "code",
   "execution_count": 63,
   "id": "2d4b5d50-d5e6-4d30-8760-a887ca3fc46c",
   "metadata": {},
   "outputs": [
    {
     "data": {
      "text/plain": [
       "Pipeline(steps=[('ctx',\n",
       "                 ColumnTransformer(remainder='passthrough',\n",
       "                                   transformers=[('ohe',\n",
       "                                                  OneHotEncoder(drop='first',\n",
       "                                                                handle_unknown='ignore',\n",
       "                                                                sparse=False),\n",
       "                                                  ['ms_subclass', 'ms_zoning',\n",
       "                                                   'lot_config', 'neighborhood',\n",
       "                                                   'house_style', 'roof_style',\n",
       "                                                   'roof_matl', 'exterior_1st',\n",
       "                                                   'exterior_2nd', 'heating',\n",
       "                                                   'foundation',\n",
       "                                                   'sale_type'])])),\n",
       "                ('ss', StandardScaler())])"
      ]
     },
     "execution_count": 63,
     "metadata": {},
     "output_type": "execute_result"
    }
   ],
   "source": [
    "pipe.fit(X_train,y_train)"
   ]
  },
  {
   "cell_type": "code",
   "execution_count": 64,
   "id": "a3f51edb-3f20-4456-b7b9-5ac429d01760",
   "metadata": {},
   "outputs": [
    {
     "name": "stderr",
     "output_type": "stream",
     "text": [
      "C:\\Users\\Ari\\anaconda3\\lib\\site-packages\\sklearn\\preprocessing\\_encoders.py:170: UserWarning: Found unknown categories in columns [1] during transform. These unknown categories will be encoded as all zeros\n",
      "  warnings.warn(\n",
      "C:\\Users\\Ari\\anaconda3\\lib\\site-packages\\sklearn\\preprocessing\\_encoders.py:170: UserWarning: Found unknown categories in columns [1, 6, 7, 8, 9, 11] during transform. These unknown categories will be encoded as all zeros\n",
      "  warnings.warn(\n"
     ]
    }
   ],
   "source": [
    "X_train_sc = pipe.transform(X_train)\n",
    "X_val_sc = pipe.transform(X_val)\n",
    "X_test_sc = pipe.transform(df_test)"
   ]
  },
  {
   "cell_type": "code",
   "execution_count": 65,
   "id": "121cc2c1-5ba4-41b3-9315-46e7b70ce5df",
   "metadata": {},
   "outputs": [],
   "source": [
    "X_train_sc = pd.DataFrame(data = X_train_sc, columns = pipe.get_feature_names_out())\n",
    "X_val_sc = pd.DataFrame(data = X_val_sc, columns = pipe.get_feature_names_out())\n",
    "X_test_sc = pd.DataFrame(data = X_test_sc, columns = pipe.get_feature_names_out())"
   ]
  },
  {
   "cell_type": "code",
   "execution_count": 66,
   "id": "b032da47-a8f0-41c9-9851-c22365f73c0b",
   "metadata": {},
   "outputs": [
    {
     "data": {
      "text/plain": [
       "((1538, 171), (513, 171), (878, 171))"
      ]
     },
     "execution_count": 66,
     "metadata": {},
     "output_type": "execute_result"
    }
   ],
   "source": [
    "X_train_sc.shape,X_val_sc.shape,X_test_sc.shape"
   ]
  },
  {
   "cell_type": "markdown",
   "id": "9e4e3118-671e-447e-8a9c-0361c853dce1",
   "metadata": {},
   "source": [
    "# Reducing Multicollinearity"
   ]
  },
  {
   "cell_type": "code",
   "execution_count": 38,
   "id": "e0970872-b4c5-44dc-9729-dbc47356f077",
   "metadata": {},
   "outputs": [
    {
     "name": "stderr",
     "output_type": "stream",
     "text": [
      "C:\\Users\\Ari\\anaconda3\\lib\\site-packages\\statsmodels\\regression\\linear_model.py:1738: RuntimeWarning: invalid value encountered in double_scalars\n",
      "  return 1 - self.ssr/self.uncentered_tss\n",
      "C:\\Users\\Ari\\anaconda3\\lib\\site-packages\\statsmodels\\stats\\outliers_influence.py:195: RuntimeWarning: divide by zero encountered in double_scalars\n",
      "  vif = 1. / (1. - r_squared_i)\n"
     ]
    },
    {
     "name": "stdout",
     "output_type": "stream",
     "text": [
      "('remainder__1st_flr_sf', inf)\n"
     ]
    },
    {
     "name": "stderr",
     "output_type": "stream",
     "text": [
      "C:\\Users\\Ari\\anaconda3\\lib\\site-packages\\statsmodels\\regression\\linear_model.py:1738: RuntimeWarning: invalid value encountered in double_scalars\n",
      "  return 1 - self.ssr/self.uncentered_tss\n"
     ]
    },
    {
     "name": "stdout",
     "output_type": "stream",
     "text": [
      "('ohe__ms_zoning_5', 431.28178550816045)\n"
     ]
    },
    {
     "name": "stderr",
     "output_type": "stream",
     "text": [
      "C:\\Users\\Ari\\anaconda3\\lib\\site-packages\\statsmodels\\regression\\linear_model.py:1738: RuntimeWarning: invalid value encountered in double_scalars\n",
      "  return 1 - self.ssr/self.uncentered_tss\n"
     ]
    },
    {
     "name": "stdout",
     "output_type": "stream",
     "text": [
      "('ohe__exterior_2nd_VinylSd', 128.70710204792798)\n"
     ]
    },
    {
     "name": "stderr",
     "output_type": "stream",
     "text": [
      "C:\\Users\\Ari\\anaconda3\\lib\\site-packages\\statsmodels\\regression\\linear_model.py:1738: RuntimeWarning: invalid value encountered in double_scalars\n",
      "  return 1 - self.ssr/self.uncentered_tss\n"
     ]
    },
    {
     "name": "stdout",
     "output_type": "stream",
     "text": [
      "('remainder__pid_1', 95.97690351409678)\n"
     ]
    },
    {
     "name": "stderr",
     "output_type": "stream",
     "text": [
      "C:\\Users\\Ari\\anaconda3\\lib\\site-packages\\statsmodels\\regression\\linear_model.py:1738: RuntimeWarning: invalid value encountered in double_scalars\n",
      "  return 1 - self.ssr/self.uncentered_tss\n"
     ]
    },
    {
     "name": "stdout",
     "output_type": "stream",
     "text": [
      "('ohe__roof_style_Gable', 79.30997552216222)\n"
     ]
    },
    {
     "name": "stderr",
     "output_type": "stream",
     "text": [
      "C:\\Users\\Ari\\anaconda3\\lib\\site-packages\\statsmodels\\regression\\linear_model.py:1738: RuntimeWarning: invalid value encountered in double_scalars\n",
      "  return 1 - self.ssr/self.uncentered_tss\n"
     ]
    },
    {
     "name": "stdout",
     "output_type": "stream",
     "text": [
      "('ohe__exterior_1st_MetalSd', 52.80593117582659)\n"
     ]
    },
    {
     "name": "stderr",
     "output_type": "stream",
     "text": [
      "C:\\Users\\Ari\\anaconda3\\lib\\site-packages\\statsmodels\\regression\\linear_model.py:1738: RuntimeWarning: invalid value encountered in double_scalars\n",
      "  return 1 - self.ssr/self.uncentered_tss\n"
     ]
    },
    {
     "name": "stdout",
     "output_type": "stream",
     "text": [
      "('ohe__exterior_2nd_CmentBd', 40.794403179528494)\n"
     ]
    },
    {
     "name": "stderr",
     "output_type": "stream",
     "text": [
      "C:\\Users\\Ari\\anaconda3\\lib\\site-packages\\statsmodels\\regression\\linear_model.py:1738: RuntimeWarning: invalid value encountered in double_scalars\n",
      "  return 1 - self.ssr/self.uncentered_tss\n"
     ]
    },
    {
     "name": "stdout",
     "output_type": "stream",
     "text": [
      "('ohe__house_style_5', 39.75271238721817)\n"
     ]
    },
    {
     "name": "stderr",
     "output_type": "stream",
     "text": [
      "C:\\Users\\Ari\\anaconda3\\lib\\site-packages\\statsmodels\\regression\\linear_model.py:1738: RuntimeWarning: invalid value encountered in double_scalars\n",
      "  return 1 - self.ssr/self.uncentered_tss\n"
     ]
    },
    {
     "name": "stdout",
     "output_type": "stream",
     "text": [
      "('ohe__roof_matl_CompShg', 30.85910870238104)\n"
     ]
    },
    {
     "name": "stderr",
     "output_type": "stream",
     "text": [
      "C:\\Users\\Ari\\anaconda3\\lib\\site-packages\\statsmodels\\regression\\linear_model.py:1738: RuntimeWarning: invalid value encountered in double_scalars\n",
      "  return 1 - self.ssr/self.uncentered_tss\n"
     ]
    },
    {
     "name": "stdout",
     "output_type": "stream",
     "text": [
      "('ohe__neighborhood_NAmes', 19.056542959008944)\n"
     ]
    },
    {
     "name": "stderr",
     "output_type": "stream",
     "text": [
      "C:\\Users\\Ari\\anaconda3\\lib\\site-packages\\statsmodels\\regression\\linear_model.py:1738: RuntimeWarning: invalid value encountered in double_scalars\n",
      "  return 1 - self.ssr/self.uncentered_tss\n"
     ]
    },
    {
     "name": "stdout",
     "output_type": "stream",
     "text": [
      "('ohe__exterior_1st_HdBoard', 18.945872840682497)\n"
     ]
    },
    {
     "name": "stderr",
     "output_type": "stream",
     "text": [
      "C:\\Users\\Ari\\anaconda3\\lib\\site-packages\\statsmodels\\regression\\linear_model.py:1738: RuntimeWarning: invalid value encountered in double_scalars\n",
      "  return 1 - self.ssr/self.uncentered_tss\n"
     ]
    },
    {
     "name": "stdout",
     "output_type": "stream",
     "text": [
      "('ohe__house_style_3', 18.69891630028696)\n"
     ]
    },
    {
     "name": "stderr",
     "output_type": "stream",
     "text": [
      "C:\\Users\\Ari\\anaconda3\\lib\\site-packages\\statsmodels\\regression\\linear_model.py:1738: RuntimeWarning: invalid value encountered in double_scalars\n",
      "  return 1 - self.ssr/self.uncentered_tss\n"
     ]
    },
    {
     "name": "stdout",
     "output_type": "stream",
     "text": [
      "('ohe__ms_subclass_50', 15.734990315845845)\n"
     ]
    },
    {
     "name": "stderr",
     "output_type": "stream",
     "text": [
      "C:\\Users\\Ari\\anaconda3\\lib\\site-packages\\statsmodels\\regression\\linear_model.py:1738: RuntimeWarning: invalid value encountered in double_scalars\n",
      "  return 1 - self.ssr/self.uncentered_tss\n"
     ]
    },
    {
     "name": "stdout",
     "output_type": "stream",
     "text": [
      "('ohe__exterior_1st_VinylSd', 14.935412700662328)\n"
     ]
    },
    {
     "name": "stderr",
     "output_type": "stream",
     "text": [
      "C:\\Users\\Ari\\anaconda3\\lib\\site-packages\\statsmodels\\regression\\linear_model.py:1738: RuntimeWarning: invalid value encountered in double_scalars\n",
      "  return 1 - self.ssr/self.uncentered_tss\n"
     ]
    },
    {
     "name": "stdout",
     "output_type": "stream",
     "text": [
      "('remainder__year_built', 12.013439029367689)\n"
     ]
    },
    {
     "name": "stderr",
     "output_type": "stream",
     "text": [
      "C:\\Users\\Ari\\anaconda3\\lib\\site-packages\\statsmodels\\regression\\linear_model.py:1738: RuntimeWarning: invalid value encountered in double_scalars\n",
      "  return 1 - self.ssr/self.uncentered_tss\n"
     ]
    },
    {
     "name": "stdout",
     "output_type": "stream",
     "text": [
      "('remainder__2nd_flr_sf', 10.615590684479363)\n"
     ]
    },
    {
     "name": "stderr",
     "output_type": "stream",
     "text": [
      "C:\\Users\\Ari\\anaconda3\\lib\\site-packages\\statsmodels\\regression\\linear_model.py:1738: RuntimeWarning: invalid value encountered in double_scalars\n",
      "  return 1 - self.ssr/self.uncentered_tss\n"
     ]
    },
    {
     "name": "stdout",
     "output_type": "stream",
     "text": [
      "('remainder__gr_liv_area', 8.206057201270896)\n"
     ]
    },
    {
     "name": "stderr",
     "output_type": "stream",
     "text": [
      "C:\\Users\\Ari\\anaconda3\\lib\\site-packages\\statsmodels\\regression\\linear_model.py:1738: RuntimeWarning: invalid value encountered in double_scalars\n",
      "  return 1 - self.ssr/self.uncentered_tss\n"
     ]
    },
    {
     "name": "stdout",
     "output_type": "stream",
     "text": [
      "('ohe__exterior_2nd_Wd Sdng', 7.601809010370025)\n"
     ]
    },
    {
     "name": "stderr",
     "output_type": "stream",
     "text": [
      "C:\\Users\\Ari\\anaconda3\\lib\\site-packages\\statsmodels\\regression\\linear_model.py:1738: RuntimeWarning: invalid value encountered in double_scalars\n",
      "  return 1 - self.ssr/self.uncentered_tss\n"
     ]
    },
    {
     "name": "stdout",
     "output_type": "stream",
     "text": [
      "('ohe__foundation_PConc', 6.816560721592221)\n"
     ]
    },
    {
     "name": "stderr",
     "output_type": "stream",
     "text": [
      "C:\\Users\\Ari\\anaconda3\\lib\\site-packages\\statsmodels\\regression\\linear_model.py:1738: RuntimeWarning: invalid value encountered in double_scalars\n",
      "  return 1 - self.ssr/self.uncentered_tss\n"
     ]
    },
    {
     "name": "stdout",
     "output_type": "stream",
     "text": [
      "('ohe__exterior_2nd_Brk Cmn', 6.54793772296518)\n"
     ]
    },
    {
     "name": "stderr",
     "output_type": "stream",
     "text": [
      "C:\\Users\\Ari\\anaconda3\\lib\\site-packages\\statsmodels\\regression\\linear_model.py:1738: RuntimeWarning: invalid value encountered in double_scalars\n",
      "  return 1 - self.ssr/self.uncentered_tss\n"
     ]
    },
    {
     "name": "stdout",
     "output_type": "stream",
     "text": [
      "('ohe__neighborhood_Somerst', 6.423047562410896)\n"
     ]
    },
    {
     "name": "stderr",
     "output_type": "stream",
     "text": [
      "C:\\Users\\Ari\\anaconda3\\lib\\site-packages\\statsmodels\\regression\\linear_model.py:1738: RuntimeWarning: invalid value encountered in double_scalars\n",
      "  return 1 - self.ssr/self.uncentered_tss\n"
     ]
    },
    {
     "name": "stdout",
     "output_type": "stream",
     "text": [
      "('remainder__pid_2', 5.515570415240161)\n"
     ]
    },
    {
     "name": "stderr",
     "output_type": "stream",
     "text": [
      "C:\\Users\\Ari\\anaconda3\\lib\\site-packages\\statsmodels\\regression\\linear_model.py:1738: RuntimeWarning: invalid value encountered in double_scalars\n",
      "  return 1 - self.ssr/self.uncentered_tss\n"
     ]
    },
    {
     "name": "stdout",
     "output_type": "stream",
     "text": [
      "('ohe__house_style_1', 4.866102499375697)\n"
     ]
    }
   ],
   "source": [
    "max_x = ('feat',10)\n",
    "while max_x[1] > 5:\n",
    "    x = [(X_train_sc.columns[col],variance_inflation_factor(X_train_sc,col)) for col in range(len(X_train_sc.columns))]\n",
    "    max_x = max(x,key=lambda x: x[1])\n",
    "    print(max_x)\n",
    "    X_train_sc.drop(columns = max_x[0],inplace=True)"
   ]
  },
  {
   "cell_type": "code",
   "execution_count": 41,
   "id": "a68cede4-ec85-4ee0-9182-a743af6f86ef",
   "metadata": {},
   "outputs": [],
   "source": [
    "X_val_sc = X_val_sc[[col for col in X_train_sc.columns]]"
   ]
  },
  {
   "cell_type": "code",
   "execution_count": 42,
   "id": "67d544aa-4e7e-4f3c-92d3-7c9b9ffab4f5",
   "metadata": {},
   "outputs": [],
   "source": [
    "X_test_sc = X_test_sc[[col for col in X_train_sc.columns]]"
   ]
  },
  {
   "cell_type": "code",
   "execution_count": 43,
   "id": "05cebe79-4bf7-4b50-8a91-ac3ec0cd6ff3",
   "metadata": {},
   "outputs": [
    {
     "data": {
      "text/plain": [
       "((1538, 147), (513, 147), (878, 147))"
      ]
     },
     "execution_count": 43,
     "metadata": {},
     "output_type": "execute_result"
    }
   ],
   "source": [
    "X_train_sc.shape,X_val_sc.shape,X_test_sc.shape"
   ]
  },
  {
   "cell_type": "code",
   "execution_count": null,
   "id": "beb6aacf-dd40-4e83-a269-358919c33275",
   "metadata": {},
   "outputs": [],
   "source": []
  },
  {
   "cell_type": "code",
   "execution_count": 69,
   "id": "dfde3641-56b7-472f-8547-40c7ef1d0db6",
   "metadata": {},
   "outputs": [
    {
     "data": {
      "text/plain": [
       "remainder__pid_1            -7.513025e-03\n",
       "remainder__pid              -7.334055e-03\n",
       "ohe__foundation_PConc       -7.051605e-03\n",
       "ohe__ms_zoning_6            -7.035651e-03\n",
       "ohe__exterior_2nd_AsphShn   -6.684268e-03\n",
       "remainder__2nd_flr_sf       -6.498603e-03\n",
       "remainder__overall_cond      6.182839e-03\n",
       "remainder__street            5.544193e-03\n",
       "ohe__ms_subclass_70          5.472542e-03\n",
       "ohe__exterior_1st_AsphShn   -4.960845e-03\n",
       "ohe__roof_style_Gable        4.598753e-03\n",
       "remainder__pid_3            -4.502917e-03\n",
       "remainder__wood_deck_sf      3.824762e-03\n",
       "ohe__exterior_1st_BrkFace    3.097918e-03\n",
       "ohe__neighborhood_Mitchel    2.996499e-03\n",
       "ohe__roof_style_Shed        -2.194797e-03\n",
       "ohe__neighborhood_CollgCr   -2.193644e-03\n",
       "ohe__roof_style_Hip         -2.015565e-03\n",
       "ohe__exterior_1st_CBlock    -1.624342e-03\n",
       "ohe__neighborhood_NAmes     -1.311137e-03\n",
       "ohe__neighborhood_Timber    -8.979352e-04\n",
       "ohe__exterior_1st_Plywood   -6.910169e-04\n",
       "ohe__ms_subclass_90          6.662834e-04\n",
       "ohe__neighborhood_Landmrk    8.431130e-17\n",
       "ohe__neighborhood_Greens              NaN\n",
       "ohe__heating_OthW                     NaN\n",
       "remainder__land_contour               NaN\n",
       "remainder__utilities                  NaN\n",
       "remainder__condition_1                NaN\n",
       "remainder__condition_2                NaN\n",
       "remainder__bldg_type                  NaN\n",
       "remainder__exter_qual                 NaN\n",
       "remainder__exter_cond                 NaN\n",
       "remainder__bsmt_qual                  NaN\n",
       "remainder__bsmt_cond                  NaN\n",
       "remainder__bsmt_exposure              NaN\n",
       "remainder__bsmtfin_type_1             NaN\n",
       "remainder__bsmtfin_type_2             NaN\n",
       "remainder__heating_qc                 NaN\n",
       "remainder__central_air                NaN\n",
       "remainder__electrical                 NaN\n",
       "remainder__kitchen_qual               NaN\n",
       "remainder__functional                 NaN\n",
       "remainder__fireplace_qu               NaN\n",
       "remainder__garage_type                NaN\n",
       "remainder__garage_finish              NaN\n",
       "remainder__garage_qual                NaN\n",
       "remainder__garage_cond                NaN\n",
       "remainder__paved_drive                NaN\n",
       "remainder__pool_qc                    NaN\n",
       "dtype: float64"
      ]
     },
     "execution_count": 69,
     "metadata": {},
     "output_type": "execute_result"
    }
   ],
   "source": [
    "X_train_sc.corrwith(y_train).sort_values(key=abs,ascending=False).tail(50)"
   ]
  },
  {
   "cell_type": "code",
   "execution_count": null,
   "id": "0719263c-2d74-4a0b-b3c9-7c7fdd3382c8",
   "metadata": {},
   "outputs": [],
   "source": []
  },
  {
   "cell_type": "code",
   "execution_count": null,
   "id": "b6d94d57-87ea-4833-9284-c2403efeaf70",
   "metadata": {},
   "outputs": [],
   "source": []
  },
  {
   "cell_type": "code",
   "execution_count": null,
   "id": "2e1f9daa-59b0-4001-8914-9b71ca2b935f",
   "metadata": {},
   "outputs": [],
   "source": []
  },
  {
   "cell_type": "markdown",
   "id": "653fd9ff-2728-45dd-8a4b-c4cfc9ad72b1",
   "metadata": {},
   "source": [
    "#  Polynomial Features"
   ]
  },
  {
   "cell_type": "code",
   "execution_count": 101,
   "id": "979f43c3-cf87-4d88-a26b-fb1ae9e21470",
   "metadata": {},
   "outputs": [],
   "source": [
    "poly = PolynomialFeatures(\n",
    "degree = 2,\n",
    "include_bias=False)"
   ]
  },
  {
   "cell_type": "code",
   "execution_count": 102,
   "id": "1814e2f1-9cdf-4e3e-97c5-c98a8fba75a2",
   "metadata": {},
   "outputs": [],
   "source": [
    "poly.fit(X_train_sc,y_train)\n",
    "X_train_sc = poly.transform(X_train_sc)\n",
    "X_val_sc = poly.transform(X_val_sc)\n",
    "X_test_sc = poly.transform(X_test_sc)"
   ]
  },
  {
   "cell_type": "code",
   "execution_count": 103,
   "id": "d09ff335-8c64-491f-bdaf-dc351342f3dd",
   "metadata": {},
   "outputs": [],
   "source": [
    "X_train_sc = pd.DataFrame(data = X_train_sc, columns = poly.get_feature_names_out())\n",
    "X_val_sc = pd.DataFrame(data = X_val_sc, columns = poly.get_feature_names_out())\n",
    "X_test_sc = pd.DataFrame(data = X_test_sc, columns = poly.get_feature_names_out())"
   ]
  },
  {
   "cell_type": "code",
   "execution_count": null,
   "id": "bd62f019-aa1e-4ba5-886a-a53f6df6e270",
   "metadata": {},
   "outputs": [],
   "source": [
    "x"
   ]
  },
  {
   "cell_type": "code",
   "execution_count": null,
   "id": "a7e25ecc-5325-4c76-8e1d-0b6b1c3220b8",
   "metadata": {},
   "outputs": [],
   "source": [
    "max_x = max(x,key=lambda x: x[1])\n",
    "max_x"
   ]
  },
  {
   "cell_type": "code",
   "execution_count": null,
   "id": "d0a8b79e-a899-4832-bf75-208767104c10",
   "metadata": {},
   "outputs": [],
   "source": [
    "X_train_sc.drop(columns = max_x[0],inplace=True)"
   ]
  },
  {
   "cell_type": "code",
   "execution_count": null,
   "id": "c7239711-f049-48a9-90e8-619680dba128",
   "metadata": {},
   "outputs": [],
   "source": []
  },
  {
   "cell_type": "code",
   "execution_count": null,
   "id": "2f520017-d85e-4bbc-9bb9-8b56e052f282",
   "metadata": {},
   "outputs": [],
   "source": []
  },
  {
   "cell_type": "markdown",
   "id": "f42d3f20-b2e9-4c10-87ab-1abfecfa94e1",
   "metadata": {
    "tags": []
   },
   "source": [
    "#  First Test"
   ]
  },
  {
   "cell_type": "code",
   "execution_count": null,
   "id": "dec3def9-fc05-485d-af8a-b55574adf300",
   "metadata": {},
   "outputs": [],
   "source": []
  },
  {
   "cell_type": "code",
   "execution_count": null,
   "id": "2ad0e815-cb28-4f55-9b5e-9a356eac6065",
   "metadata": {},
   "outputs": [],
   "source": []
  },
  {
   "cell_type": "code",
   "execution_count": null,
   "id": "d2933766-6545-418d-8d4f-31b5f1b21c64",
   "metadata": {},
   "outputs": [],
   "source": []
  },
  {
   "cell_type": "code",
   "execution_count": 44,
   "id": "98fa74c1-ac95-4c0f-8a0b-3959cc646075",
   "metadata": {},
   "outputs": [
    {
     "data": {
      "text/plain": [
       "['lr', 0.859157030235106, 0.8172908629236552, 33493.85943874675]"
      ]
     },
     "execution_count": 44,
     "metadata": {},
     "output_type": "execute_result"
    }
   ],
   "source": [
    "lr = LinearRegression()\n",
    "model = 'lr'\n",
    "lr.fit(X_train_sc,y_train)\n",
    "train = lr.score(X_train_sc,y_train)\n",
    "y_pred = lr.predict(X_val_sc)\n",
    "test = lr.score(X_val_sc,y_val)\n",
    "mse = mean_squared_error(y_val,y_pred,squared=False)\n",
    "scores = [model,train,test,mse]\n",
    "scores"
   ]
  },
  {
   "cell_type": "code",
   "execution_count": 45,
   "id": "dbc5d161-f88c-4be5-97d7-413200e0e60a",
   "metadata": {},
   "outputs": [
    {
     "data": {
      "text/plain": [
       "['ridge', 0.859158968483575, 0.8175114369542221, 33473.63574665858]"
      ]
     },
     "execution_count": 45,
     "metadata": {},
     "output_type": "execute_result"
    }
   ],
   "source": [
    "ridge = Ridge()\n",
    "model = 'ridge'\n",
    "ridge.fit(X_train_sc,y_train)\n",
    "train = ridge.score(X_train_sc,y_train)\n",
    "y_pred = ridge.predict(X_val_sc)\n",
    "test = ridge.score(X_val_sc,y_val)\n",
    "mse = mean_squared_error(y_val,y_pred,squared=False)\n",
    "scores = [model,train,test,mse]\n",
    "scores"
   ]
  },
  {
   "cell_type": "code",
   "execution_count": 46,
   "id": "c9971ac5-4d2f-4248-9f8d-8d44e1f57f41",
   "metadata": {
    "scrolled": true
   },
   "outputs": [
    {
     "data": {
      "text/plain": [
       "[['lasso', 0.8591592058160737, 0.817521960772209, 33472.67054773615]]"
      ]
     },
     "execution_count": 46,
     "metadata": {},
     "output_type": "execute_result"
    }
   ],
   "source": [
    "scores = []\n",
    "lasso = Lasso()\n",
    "model = 'lasso'\n",
    "lasso.fit(X_train_sc,y_train)\n",
    "train = lasso.score(X_train_sc,y_train)\n",
    "y_pred = lasso.predict(X_val_sc)\n",
    "test = lasso.score(X_val_sc,y_val)\n",
    "mse = mean_squared_error(y_val,y_pred,squared=False)\n",
    "scores.append([model,train,test,mse])\n",
    "scores"
   ]
  },
  {
   "cell_type": "code",
   "execution_count": 47,
   "id": "f7818d15-4e74-4f62-b933-002886ebd217",
   "metadata": {},
   "outputs": [],
   "source": [
    "coefs = pd.DataFrame(data = lasso.coef_, index = X_train_sc.columns)"
   ]
  },
  {
   "cell_type": "code",
   "execution_count": 122,
   "id": "a6d5d904-3066-4994-a89c-f319403d49d6",
   "metadata": {},
   "outputs": [
    {
     "data": {
      "text/plain": [
       "array([[<AxesSubplot:title={'center':'0'}>]], dtype=object)"
      ]
     },
     "execution_count": 122,
     "metadata": {},
     "output_type": "execute_result"
    },
    {
     "data": {
      "image/png": "[encoded data removed]",
      "text/plain": [
       "<Figure size 640x480 with 1 Axes>"
      ]
     },
     "metadata": {},
     "output_type": "display_data"
    }
   ],
   "source": [
    "coefs.hist(bins=50)"
   ]
  },
  {
   "cell_type": "code",
   "execution_count": 140,
   "id": "cd24427c-9ee1-4c24-8447-3d856a968b70",
   "metadata": {},
   "outputs": [
    {
     "data": {
      "text/html": [
       "<div>\n",
       "<style scoped>\n",
       "    .dataframe tbody tr th:only-of-type {\n",
       "        vertical-align: middle;\n",
       "    }\n",
       "\n",
       "    .dataframe tbody tr th {\n",
       "        vertical-align: top;\n",
       "    }\n",
       "\n",
       "    .dataframe thead th {\n",
       "        text-align: right;\n",
       "    }\n",
       "</style>\n",
       "<table border=\"1\" class=\"dataframe\">\n",
       "  <thead>\n",
       "    <tr style=\"text-align: right;\">\n",
       "      <th></th>\n",
       "      <th>0</th>\n",
       "    </tr>\n",
       "  </thead>\n",
       "  <tbody>\n",
       "    <tr>\n",
       "      <th>ohe__ms_subclass_30</th>\n",
       "      <td>-17747.884655</td>\n",
       "    </tr>\n",
       "    <tr>\n",
       "      <th>ohe__ms_subclass_40</th>\n",
       "      <td>-3550.089944</td>\n",
       "    </tr>\n",
       "    <tr>\n",
       "      <th>ohe__ms_subclass_45</th>\n",
       "      <td>-3351.584070</td>\n",
       "    </tr>\n",
       "    <tr>\n",
       "      <th>ohe__ms_subclass_60</th>\n",
       "      <td>21358.817757</td>\n",
       "    </tr>\n",
       "    <tr>\n",
       "      <th>ohe__ms_subclass_70</th>\n",
       "      <td>-12.591749</td>\n",
       "    </tr>\n",
       "    <tr>\n",
       "      <th>...</th>\n",
       "      <td>...</td>\n",
       "    </tr>\n",
       "    <tr>\n",
       "      <th>remainder__pid_4 remainder__fence_mat</th>\n",
       "      <td>60.337624</td>\n",
       "    </tr>\n",
       "    <tr>\n",
       "      <th>remainder__pid_4 remainder__fence_priv</th>\n",
       "      <td>6369.332974</td>\n",
       "    </tr>\n",
       "    <tr>\n",
       "      <th>remainder__fence_mat^2</th>\n",
       "      <td>-609.109782</td>\n",
       "    </tr>\n",
       "    <tr>\n",
       "      <th>remainder__fence_mat remainder__fence_priv</th>\n",
       "      <td>-3991.287031</td>\n",
       "    </tr>\n",
       "    <tr>\n",
       "      <th>remainder__fence_priv^2</th>\n",
       "      <td>-2253.712920</td>\n",
       "    </tr>\n",
       "  </tbody>\n",
       "</table>\n",
       "<p>11025 rows × 1 columns</p>\n",
       "</div>"
      ],
      "text/plain": [
       "                                                       0\n",
       "ohe__ms_subclass_30                        -17747.884655\n",
       "ohe__ms_subclass_40                         -3550.089944\n",
       "ohe__ms_subclass_45                         -3351.584070\n",
       "ohe__ms_subclass_60                         21358.817757\n",
       "ohe__ms_subclass_70                           -12.591749\n",
       "...                                                  ...\n",
       "remainder__pid_4 remainder__fence_mat          60.337624\n",
       "remainder__pid_4 remainder__fence_priv       6369.332974\n",
       "remainder__fence_mat^2                       -609.109782\n",
       "remainder__fence_mat remainder__fence_priv  -3991.287031\n",
       "remainder__fence_priv^2                     -2253.712920\n",
       "\n",
       "[11025 rows x 1 columns]"
      ]
     },
     "execution_count": 140,
     "metadata": {},
     "output_type": "execute_result"
    }
   ],
   "source": [
    "coefs"
   ]
  },
  {
   "cell_type": "code",
   "execution_count": 144,
   "id": "ea842f33-5572-431a-870c-3eff7538296d",
   "metadata": {},
   "outputs": [],
   "source": [
    "nonzero = coefs[abs(coefs[0]) > 1]"
   ]
  },
  {
   "cell_type": "code",
   "execution_count": 145,
   "id": "47373d49-8362-4749-96f9-b84a851d0d30",
   "metadata": {},
   "outputs": [
    {
     "data": {
      "text/html": [
       "<div>\n",
       "<style scoped>\n",
       "    .dataframe tbody tr th:only-of-type {\n",
       "        vertical-align: middle;\n",
       "    }\n",
       "\n",
       "    .dataframe tbody tr th {\n",
       "        vertical-align: top;\n",
       "    }\n",
       "\n",
       "    .dataframe thead th {\n",
       "        text-align: right;\n",
       "    }\n",
       "</style>\n",
       "<table border=\"1\" class=\"dataframe\">\n",
       "  <thead>\n",
       "    <tr style=\"text-align: right;\">\n",
       "      <th></th>\n",
       "      <th>0</th>\n",
       "    </tr>\n",
       "  </thead>\n",
       "  <tbody>\n",
       "    <tr>\n",
       "      <th>ohe__ms_subclass_30</th>\n",
       "      <td>-17747.884655</td>\n",
       "    </tr>\n",
       "    <tr>\n",
       "      <th>ohe__ms_subclass_40</th>\n",
       "      <td>-3550.089944</td>\n",
       "    </tr>\n",
       "    <tr>\n",
       "      <th>ohe__ms_subclass_45</th>\n",
       "      <td>-3351.584070</td>\n",
       "    </tr>\n",
       "    <tr>\n",
       "      <th>ohe__ms_subclass_60</th>\n",
       "      <td>21358.817757</td>\n",
       "    </tr>\n",
       "    <tr>\n",
       "      <th>ohe__ms_subclass_70</th>\n",
       "      <td>-12.591749</td>\n",
       "    </tr>\n",
       "    <tr>\n",
       "      <th>...</th>\n",
       "      <td>...</td>\n",
       "    </tr>\n",
       "    <tr>\n",
       "      <th>remainder__pid_4 remainder__fence_mat</th>\n",
       "      <td>60.337624</td>\n",
       "    </tr>\n",
       "    <tr>\n",
       "      <th>remainder__pid_4 remainder__fence_priv</th>\n",
       "      <td>6369.332974</td>\n",
       "    </tr>\n",
       "    <tr>\n",
       "      <th>remainder__fence_mat^2</th>\n",
       "      <td>-609.109782</td>\n",
       "    </tr>\n",
       "    <tr>\n",
       "      <th>remainder__fence_mat remainder__fence_priv</th>\n",
       "      <td>-3991.287031</td>\n",
       "    </tr>\n",
       "    <tr>\n",
       "      <th>remainder__fence_priv^2</th>\n",
       "      <td>-2253.712920</td>\n",
       "    </tr>\n",
       "  </tbody>\n",
       "</table>\n",
       "<p>2929 rows × 1 columns</p>\n",
       "</div>"
      ],
      "text/plain": [
       "                                                       0\n",
       "ohe__ms_subclass_30                        -17747.884655\n",
       "ohe__ms_subclass_40                         -3550.089944\n",
       "ohe__ms_subclass_45                         -3351.584070\n",
       "ohe__ms_subclass_60                         21358.817757\n",
       "ohe__ms_subclass_70                           -12.591749\n",
       "...                                                  ...\n",
       "remainder__pid_4 remainder__fence_mat          60.337624\n",
       "remainder__pid_4 remainder__fence_priv       6369.332974\n",
       "remainder__fence_mat^2                       -609.109782\n",
       "remainder__fence_mat remainder__fence_priv  -3991.287031\n",
       "remainder__fence_priv^2                     -2253.712920\n",
       "\n",
       "[2929 rows x 1 columns]"
      ]
     },
     "execution_count": 145,
     "metadata": {},
     "output_type": "execute_result"
    }
   ],
   "source": [
    "nonzero"
   ]
  },
  {
   "cell_type": "code",
   "execution_count": null,
   "id": "18ad9ea8-027e-4da3-ae4e-e71b08ab7e10",
   "metadata": {},
   "outputs": [],
   "source": []
  },
  {
   "cell_type": "code",
   "execution_count": 146,
   "id": "d33b89b0-39ce-4266-8f23-23443280d385",
   "metadata": {},
   "outputs": [],
   "source": [
    "X_train_sc = X_train_sc[nonzero.index]"
   ]
  },
  {
   "cell_type": "code",
   "execution_count": 147,
   "id": "58286e88-b338-445b-826d-1326513ad34e",
   "metadata": {},
   "outputs": [],
   "source": [
    "X_val_sc = X_val_sc[nonzero.index]"
   ]
  },
  {
   "cell_type": "code",
   "execution_count": 148,
   "id": "9c920177-c9a0-494d-b756-e0734693b8bb",
   "metadata": {},
   "outputs": [],
   "source": [
    "X_test_sc = X_test_sc[nonzero.index]"
   ]
  },
  {
   "cell_type": "code",
   "execution_count": 139,
   "id": "40b33133-5ae8-4e3f-8e78-f7e453c6efaf",
   "metadata": {},
   "outputs": [
    {
     "name": "stdout",
     "output_type": "stream",
     "text": [
      "<class 'pandas.core.frame.DataFrame'>\n",
      "RangeIndex: 1538 entries, 0 to 1537\n",
      "Columns: 11025 entries, ohe__ms_subclass_30 to remainder__fence_priv^2\n",
      "dtypes: float64(11025)\n",
      "memory usage: 129.4 MB\n"
     ]
    }
   ],
   "source": []
  },
  {
   "cell_type": "code",
   "execution_count": 124,
   "id": "12a9fe6b-14c9-42b9-8b31-24a7bf991d4e",
   "metadata": {},
   "outputs": [
    {
     "data": {
      "text/plain": [
       "-0.000000        8074\n",
       "-22691.818840       1\n",
       " 409.815845         1\n",
       " 401.061833         1\n",
       " 401.863180         1\n",
       "                 ... \n",
       "-478.958543         1\n",
       "-477.865038         1\n",
       "-475.638804         1\n",
       "-475.299435         1\n",
       " 27415.363301       1\n",
       "Length: 2952, dtype: int64"
      ]
     },
     "execution_count": 124,
     "metadata": {},
     "output_type": "execute_result"
    }
   ],
   "source": []
  },
  {
   "cell_type": "code",
   "execution_count": null,
   "id": "92891c3f-c36e-4c06-bf6e-89d775ef13ec",
   "metadata": {},
   "outputs": [],
   "source": []
  },
  {
   "cell_type": "code",
   "execution_count": 135,
   "id": "24b8b5ed-603e-49ff-b1f2-64b7cdb6e1ea",
   "metadata": {},
   "outputs": [
    {
     "ename": "KeyboardInterrupt",
     "evalue": "",
     "output_type": "error",
     "traceback": [
      "\u001b[1;31m---------------------------------------------------------------------------\u001b[0m",
      "\u001b[1;31mKeyboardInterrupt\u001b[0m                         Traceback (most recent call last)",
      "\u001b[1;32m~\\AppData\\Local\\Temp\\ipykernel_11780\\1458426095.py\u001b[0m in \u001b[0;36m<module>\u001b[1;34m\u001b[0m\n\u001b[0;32m      1\u001b[0m \u001b[0menet\u001b[0m \u001b[1;33m=\u001b[0m \u001b[0mElasticNet\u001b[0m\u001b[1;33m(\u001b[0m\u001b[1;33m)\u001b[0m\u001b[1;33m\u001b[0m\u001b[1;33m\u001b[0m\u001b[0m\n\u001b[0;32m      2\u001b[0m \u001b[0mmodel\u001b[0m \u001b[1;33m=\u001b[0m \u001b[1;34m'enet'\u001b[0m\u001b[1;33m\u001b[0m\u001b[1;33m\u001b[0m\u001b[0m\n\u001b[1;32m----> 3\u001b[1;33m \u001b[0menet\u001b[0m\u001b[1;33m.\u001b[0m\u001b[0mfit\u001b[0m\u001b[1;33m(\u001b[0m\u001b[0mX_train_sc\u001b[0m\u001b[1;33m,\u001b[0m\u001b[0my_train\u001b[0m\u001b[1;33m)\u001b[0m\u001b[1;33m\u001b[0m\u001b[1;33m\u001b[0m\u001b[0m\n\u001b[0m\u001b[0;32m      4\u001b[0m \u001b[0mtrain\u001b[0m \u001b[1;33m=\u001b[0m \u001b[0menet\u001b[0m\u001b[1;33m.\u001b[0m\u001b[0mscore\u001b[0m\u001b[1;33m(\u001b[0m\u001b[0mX_train_sc\u001b[0m\u001b[1;33m,\u001b[0m\u001b[0my_train\u001b[0m\u001b[1;33m)\u001b[0m\u001b[1;33m\u001b[0m\u001b[1;33m\u001b[0m\u001b[0m\n\u001b[0;32m      5\u001b[0m \u001b[0my_pred\u001b[0m \u001b[1;33m=\u001b[0m \u001b[0menet\u001b[0m\u001b[1;33m.\u001b[0m\u001b[0mpredict\u001b[0m\u001b[1;33m(\u001b[0m\u001b[0mX_val_sc\u001b[0m\u001b[1;33m)\u001b[0m\u001b[1;33m\u001b[0m\u001b[1;33m\u001b[0m\u001b[0m\n",
      "\u001b[1;32m~\\anaconda3\\lib\\site-packages\\sklearn\\linear_model\\_coordinate_descent.py\u001b[0m in \u001b[0;36mfit\u001b[1;34m(self, X, y, sample_weight, check_input)\u001b[0m\n\u001b[0;32m   1037\u001b[0m             \u001b[1;32melse\u001b[0m\u001b[1;33m:\u001b[0m\u001b[1;33m\u001b[0m\u001b[1;33m\u001b[0m\u001b[0m\n\u001b[0;32m   1038\u001b[0m                 \u001b[0mthis_Xy\u001b[0m \u001b[1;33m=\u001b[0m \u001b[1;32mNone\u001b[0m\u001b[1;33m\u001b[0m\u001b[1;33m\u001b[0m\u001b[0m\n\u001b[1;32m-> 1039\u001b[1;33m             _, this_coef, this_dual_gap, this_iter = self.path(\n\u001b[0m\u001b[0;32m   1040\u001b[0m                 \u001b[0mX\u001b[0m\u001b[1;33m,\u001b[0m\u001b[1;33m\u001b[0m\u001b[1;33m\u001b[0m\u001b[0m\n\u001b[0;32m   1041\u001b[0m                 \u001b[0my\u001b[0m\u001b[1;33m[\u001b[0m\u001b[1;33m:\u001b[0m\u001b[1;33m,\u001b[0m \u001b[0mk\u001b[0m\u001b[1;33m]\u001b[0m\u001b[1;33m,\u001b[0m\u001b[1;33m\u001b[0m\u001b[1;33m\u001b[0m\u001b[0m\n",
      "\u001b[1;32m~\\anaconda3\\lib\\site-packages\\sklearn\\linear_model\\_coordinate_descent.py\u001b[0m in \u001b[0;36menet_path\u001b[1;34m(X, y, l1_ratio, eps, n_alphas, alphas, precompute, Xy, copy_X, coef_init, verbose, return_n_iter, positive, check_input, **params)\u001b[0m\n\u001b[0;32m    645\u001b[0m             )\n\u001b[0;32m    646\u001b[0m         \u001b[1;32melif\u001b[0m \u001b[0mprecompute\u001b[0m \u001b[1;32mis\u001b[0m \u001b[1;32mFalse\u001b[0m\u001b[1;33m:\u001b[0m\u001b[1;33m\u001b[0m\u001b[1;33m\u001b[0m\u001b[0m\n\u001b[1;32m--> 647\u001b[1;33m             model = cd_fast.enet_coordinate_descent(\n\u001b[0m\u001b[0;32m    648\u001b[0m                 \u001b[0mcoef_\u001b[0m\u001b[1;33m,\u001b[0m \u001b[0ml1_reg\u001b[0m\u001b[1;33m,\u001b[0m \u001b[0ml2_reg\u001b[0m\u001b[1;33m,\u001b[0m \u001b[0mX\u001b[0m\u001b[1;33m,\u001b[0m \u001b[0my\u001b[0m\u001b[1;33m,\u001b[0m \u001b[0mmax_iter\u001b[0m\u001b[1;33m,\u001b[0m \u001b[0mtol\u001b[0m\u001b[1;33m,\u001b[0m \u001b[0mrng\u001b[0m\u001b[1;33m,\u001b[0m \u001b[0mrandom\u001b[0m\u001b[1;33m,\u001b[0m \u001b[0mpositive\u001b[0m\u001b[1;33m\u001b[0m\u001b[1;33m\u001b[0m\u001b[0m\n\u001b[0;32m    649\u001b[0m             )\n",
      "\u001b[1;32msklearn\\linear_model\\_cd_fast.pyx\u001b[0m in \u001b[0;36msklearn.linear_model._cd_fast.enet_coordinate_descent\u001b[1;34m()\u001b[0m\n",
      "\u001b[1;32m~\\anaconda3\\lib\\site-packages\\numpy\\core\\getlimits.py\u001b[0m in \u001b[0;36m__new__\u001b[1;34m(cls, dtype)\u001b[0m\n\u001b[0;32m    381\u001b[0m \u001b[1;33m\u001b[0m\u001b[0m\n\u001b[0;32m    382\u001b[0m     \u001b[1;32mdef\u001b[0m \u001b[0m__new__\u001b[0m\u001b[1;33m(\u001b[0m\u001b[0mcls\u001b[0m\u001b[1;33m,\u001b[0m \u001b[0mdtype\u001b[0m\u001b[1;33m)\u001b[0m\u001b[1;33m:\u001b[0m\u001b[1;33m\u001b[0m\u001b[1;33m\u001b[0m\u001b[0m\n\u001b[1;32m--> 383\u001b[1;33m         \u001b[1;32mtry\u001b[0m\u001b[1;33m:\u001b[0m\u001b[1;33m\u001b[0m\u001b[1;33m\u001b[0m\u001b[0m\n\u001b[0m\u001b[0;32m    384\u001b[0m             \u001b[0mdtype\u001b[0m \u001b[1;33m=\u001b[0m \u001b[0mnumeric\u001b[0m\u001b[1;33m.\u001b[0m\u001b[0mdtype\u001b[0m\u001b[1;33m(\u001b[0m\u001b[0mdtype\u001b[0m\u001b[1;33m)\u001b[0m\u001b[1;33m\u001b[0m\u001b[1;33m\u001b[0m\u001b[0m\n\u001b[0;32m    385\u001b[0m         \u001b[1;32mexcept\u001b[0m \u001b[0mTypeError\u001b[0m\u001b[1;33m:\u001b[0m\u001b[1;33m\u001b[0m\u001b[1;33m\u001b[0m\u001b[0m\n",
      "\u001b[1;31mKeyboardInterrupt\u001b[0m: "
     ]
    }
   ],
   "source": [
    "enet = ElasticNet()\n",
    "model = 'enet'\n",
    "enet.fit(X_train_sc,y_train)\n",
    "train = enet.score(X_train_sc,y_train)\n",
    "y_pred = enet.predict(X_val_sc)\n",
    "test = enet.score(X_val_sc,y_val)\n",
    "mse = mean_squared_error(y_val,y_pred,squared=False)\n",
    "scores = [model,train,test,mse]\n",
    "scores"
   ]
  },
  {
   "cell_type": "code",
   "execution_count": null,
   "id": "d20c4ed9-1f8b-4402-b9d4-04edd35f1827",
   "metadata": {},
   "outputs": [],
   "source": []
  },
  {
   "cell_type": "code",
   "execution_count": null,
   "id": "a5c9e162-b1b9-4e70-bf08-1f10066b49a5",
   "metadata": {},
   "outputs": [],
   "source": []
  },
  {
   "cell_type": "code",
   "execution_count": null,
   "id": "5e25209e-c3b6-47a8-acf9-0179b13022f7",
   "metadata": {},
   "outputs": [],
   "source": []
  },
  {
   "cell_type": "code",
   "execution_count": 190,
   "id": "01fea188-aa4f-44b3-af58-3494c940b4c1",
   "metadata": {},
   "outputs": [],
   "source": [
    "from ipywidgets import *\n",
    "from IPython.display import display\n",
    "\n",
    "# The cycler package lets us \"cycle\" throug colors.\n",
    "# Just another thing i had to look up on stackoverflow. That's my life.\n",
    "from cycler import cycler\n",
    "\n",
    "def coef_plotter(alphas, coefs, feature_names, to_alpha, regtype='ridge'):\n",
    "    \n",
    "    # Get the full range of alphas before subsetting to keep the plots from \n",
    "    # resetting axes each time. (We use these values to set static axes later).\n",
    "    amin = np.min(alphas)\n",
    "    amax = np.max(alphas)\n",
    "    \n",
    "    # Subset the alphas and coefficients to just the ones below the set limit\n",
    "    # from the interactive widget:\n",
    "    alphas = [a for a in alphas if a <= to_alpha]\n",
    "    coefs = coefs[0:len(alphas)]\n",
    "    \n",
    "    # Get some colors from seaborn:\n",
    "    colors = sns.color_palette(\"husl\", len(coefs[0]))\n",
    "    \n",
    "    # Get the figure and reset the size to be wider:\n",
    "    fig = plt.figure()\n",
    "    fig.set_size_inches(18,5)\n",
    "\n",
    "    # We have two axes this time on our figure. \n",
    "    # The fig.add_subplot adds axes to our figure. The number inside stands for:\n",
    "    #[figure_rows|figure_cols|position_of_current_axes]\n",
    "    ax1 = fig.add_subplot(121)\n",
    "    \n",
    "    # Give it the color cycler:\n",
    "    ax1.set_prop_cycle(cycler('color', colors))\n",
    "    \n",
    "    # Print a vertical line showing our current alpha threshold:\n",
    "    ax1.axvline(to_alpha, lw=2, ls='dashed', c='k', alpha=0.4)\n",
    "    \n",
    "    # Plot the lines of the alphas on x-axis and coefficients on y-axis\n",
    "    ax1.plot(alphas, coefs, lw=2)\n",
    "    \n",
    "    # set labels for axes:\n",
    "    ax1.set_xlabel('alpha', fontsize=20)\n",
    "    ax1.set_ylabel('coefficients', fontsize=20)\n",
    "    \n",
    "    # If this is for the ridge, set this to a log scale on the x-axis:\n",
    "    if regtype == 'ridge':\n",
    "        ax1.set_xscale('log')\n",
    "    \n",
    "    # Enforce the axis limits:\n",
    "    ax1.set_xlim([amin, amax])\n",
    "    \n",
    "    # Put a title on the axis\n",
    "    ax1.set_title(regtype+' coef paths\\n', fontsize=20)\n",
    "    \n",
    "    # Get the ymin and ymax for this axis to enforce it to be the same on the \n",
    "    # second chart:\n",
    "    ymin, ymax = ax1.get_ylim()\n",
    "\n",
    "    # Add our second axes for the barplot in position 2:\n",
    "    ax2 = fig.add_subplot(122)\n",
    "    \n",
    "    # Position the bars according to their index from the feature names variable:\n",
    "    ax2.bar(range(1, len(feature_names)+1), coefs[-1], align='center', color=colors)\n",
    "    ax2.set_xticks(range(1, len(feature_names)+1))\n",
    "    \n",
    "    # Reset the ticks from numbers to acutally be the names:\n",
    "    ax2.set_xticklabels(feature_names, rotation=65, fontsize=12)\n",
    "    \n",
    "    # enforce limits and add titles, labels\n",
    "    ax2.set_ylim([ymin, ymax])\n",
    "    ax2.set_title(regtype+' predictor coefs\\n', fontsize=20)\n",
    "    ax2.set_xlabel('coefficients', fontsize=20)\n",
    "    ax2.set_ylabel('alpha', fontsize=20)\n",
    "    \n",
    "    plt.show()"
   ]
  },
  {
   "cell_type": "code",
   "execution_count": 191,
   "id": "3a65a6d8-32ff-427c-93da-659b92f248d7",
   "metadata": {},
   "outputs": [],
   "source": [
    "def ridge_coefs(X_train, y_train, alphas):\n",
    "    \n",
    "    # set up the list to hold the different sets of coefficients:\n",
    "    coefs = []\n",
    "    \n",
    "    # Set up a ridge regression object\n",
    "    rg = Ridge()\n",
    "    \n",
    "    # Iterate through the alphas fed into the function:\n",
    "    for a in alphas:\n",
    "        \n",
    "        # On each alpha reset the ridge model's alpha to the current one:\n",
    "        rg.set_params(alpha = a)\n",
    "        \n",
    "        # fit or refit the model on the provided X, Y\n",
    "        rg.fit(X_train, y_train)\n",
    "        \n",
    "        # Get out the coefficient list\n",
    "        coefs.append(rg.coef_)\n",
    "        \n",
    "    return coefs"
   ]
  },
  {
   "cell_type": "code",
   "execution_count": 192,
   "id": "578fd9bf-4263-4324-93de-a9f3025cb9cb",
   "metadata": {},
   "outputs": [],
   "source": [
    "# strengths of penalties\n",
    "r_alphas = np.logspace(0, 5, 200)\n",
    "\n",
    "# Get the coefficients for each alpha for the Ridge, using the function above\n",
    "r_coefs = ridge_coefs(X_train, y_train, r_alphas)"
   ]
  },
  {
   "cell_type": "code",
   "execution_count": 194,
   "id": "77436b2b-8f30-46b1-a799-34fd566a6583",
   "metadata": {},
   "outputs": [
    {
     "data": {
      "application/vnd.jupyter.widget-view+json": {
       "model_id": "d6500d7f8e6647beb8293987134ef9b8",
       "version_major": 2,
       "version_minor": 0
      },
      "text/plain": [
       "interactive(children=(FloatSlider(value=0.0, description='log_of_alpha', max=5.0, step=0.05), Output()), _dom_…"
      ]
     },
     "metadata": {},
     "output_type": "display_data"
    },
    {
     "data": {
      "text/plain": [
       "<function __main__.ridge_plot_runner(log_of_alpha=0)>"
      ]
     },
     "execution_count": 194,
     "metadata": {},
     "output_type": "execute_result"
    }
   ],
   "source": [
    "def ridge_plot_runner(log_of_alpha=0):\n",
    "    coef_plotter(r_alphas, r_coefs, X_train.columns, 10**log_of_alpha, regtype='ridge')\n",
    "\n",
    "interact(ridge_plot_runner, log_of_alpha=(0.0,5.0,0.05))"
   ]
  },
  {
   "cell_type": "code",
   "execution_count": 195,
   "id": "77da833a-b296-4069-9ffc-f10bb3699017",
   "metadata": {},
   "outputs": [],
   "source": [
    "def lasso_coefs(X_train, y_train, alphas):\n",
    "    coefs = []\n",
    "    lasso_reg = Lasso()\n",
    "    for a in alphas:\n",
    "        lasso_reg.set_params(alpha=a)\n",
    "        lasso_reg.fit(X_train,y_train)\n",
    "        coefs.append(lasso_reg.coef_)\n",
    "        \n",
    "    return coefs"
   ]
  },
  {
   "cell_type": "code",
   "execution_count": 243,
   "id": "64c12039-9be8-4cb4-ad70-c5ab6dcd1776",
   "metadata": {},
   "outputs": [],
   "source": [
    "with warnings.catch_warnings():\n",
    "    warnings.simplefilter('ignore')\n",
    "    l_alphas = np.arange(100, 500, 10)\n",
    "    l_coefs = lasso_coefs(X_train, y_train, l_alphas)"
   ]
  },
  {
   "cell_type": "code",
   "execution_count": 245,
   "id": "c31ca79d-e4d3-47ac-9eee-388c1f8f53f2",
   "metadata": {},
   "outputs": [
    {
     "data": {
      "application/vnd.jupyter.widget-view+json": {
       "model_id": "9cd182f644cb4960abca9e5642ddaf55",
       "version_major": 2,
       "version_minor": 0
      },
      "text/plain": [
       "interactive(children=(IntSlider(value=100, description='alpha', max=500, min=100, step=10), Output()), _dom_cl…"
      ]
     },
     "metadata": {},
     "output_type": "display_data"
    },
    {
     "data": {
      "text/plain": [
       "<function __main__.lasso_plot_runner(alpha=0)>"
      ]
     },
     "execution_count": 245,
     "metadata": {},
     "output_type": "execute_result"
    }
   ],
   "source": [
    "def lasso_plot_runner(alpha=0):\n",
    "    coef_plotter(l_alphas, l_coefs, X_train.columns, alpha, regtype='lasso')\n",
    "\n",
    "interact(lasso_plot_runner, alpha=(100,500,10))"
   ]
  },
  {
   "cell_type": "code",
   "execution_count": null,
   "id": "7cebbcbd-433c-43cc-94d8-01fc280f3518",
   "metadata": {},
   "outputs": [],
   "source": []
  },
  {
   "cell_type": "code",
   "execution_count": 198,
   "id": "61ba4874-e733-44a3-b84b-3cfc7625cfaa",
   "metadata": {},
   "outputs": [],
   "source": [
    "def elasticnet_coefs(X_train, y_train, alphas):\n",
    "    coefs = []\n",
    "    enet_reg = ElasticNet()\n",
    "    for a in alphas:\n",
    "        enet_reg.set_params(alpha=a, l1_ratio=0.05)\n",
    "        enet_reg.fit(X_train, y_train)\n",
    "        coefs.append(enet_reg.coef_)\n",
    "        \n",
    "    return coefs"
   ]
  },
  {
   "cell_type": "code",
   "execution_count": 199,
   "id": "77b8f569-e477-485b-bf32-9ac0c050be8b",
   "metadata": {},
   "outputs": [],
   "source": [
    "enet_alphas = np.arange(0.01, 1, 0.005)\n",
    "enet_coefs = elasticnet_coefs(X_train, y_train, enet_alphas)"
   ]
  },
  {
   "cell_type": "code",
   "execution_count": 200,
   "id": "407504ed-949a-496f-8023-687045512771",
   "metadata": {},
   "outputs": [
    {
     "data": {
      "application/vnd.jupyter.widget-view+json": {
       "model_id": "7ccd71652a86495aa8a7788d003a32b2",
       "version_major": 2,
       "version_minor": 0
      },
      "text/plain": [
       "interactive(children=(FloatSlider(value=0.01, description='alpha', max=1.01, min=0.01, step=0.005), Output()),…"
      ]
     },
     "metadata": {},
     "output_type": "display_data"
    },
    {
     "data": {
      "text/plain": [
       "<function __main__.enet_plot_runner(alpha=0.01)>"
      ]
     },
     "execution_count": 200,
     "metadata": {},
     "output_type": "execute_result"
    }
   ],
   "source": [
    "def enet_plot_runner(alpha=0.01):\n",
    "    coef_plotter(enet_alphas, enet_coefs, X_train.columns, alpha, regtype='elastic net')\n",
    "\n",
    "interact(enet_plot_runner, alpha=(0.01,1.01,0.005))"
   ]
  },
  {
   "cell_type": "code",
   "execution_count": null,
   "id": "6d2ebcda-63da-4a0f-be88-4065547c6138",
   "metadata": {},
   "outputs": [],
   "source": []
  },
  {
   "cell_type": "code",
   "execution_count": null,
   "id": "1fecca62-64a5-4ddf-bab6-351f113ec4aa",
   "metadata": {},
   "outputs": [],
   "source": []
  },
  {
   "cell_type": "code",
   "execution_count": null,
   "id": "04eb49c3-9f0d-4051-89ee-c3006080ee05",
   "metadata": {},
   "outputs": [],
   "source": []
  },
  {
   "cell_type": "code",
   "execution_count": null,
   "id": "05c6af66-1210-4294-9aa8-c0173763c50b",
   "metadata": {},
   "outputs": [],
   "source": []
  },
  {
   "cell_type": "code",
   "execution_count": null,
   "id": "2ae8c056-f1b9-42a5-b27c-121f8efc0d21",
   "metadata": {},
   "outputs": [],
   "source": []
  },
  {
   "cell_type": "code",
   "execution_count": null,
   "id": "a39a33e8-ec63-4b66-b3e4-ef5e1e7813af",
   "metadata": {},
   "outputs": [],
   "source": []
  },
  {
   "cell_type": "code",
   "execution_count": null,
   "id": "8adb2139-277b-48f3-b69b-7ad6ce6c96d7",
   "metadata": {},
   "outputs": [],
   "source": []
  },
  {
   "cell_type": "code",
   "execution_count": null,
   "id": "35005185-100a-4a27-91c9-c97c89e3b687",
   "metadata": {},
   "outputs": [],
   "source": []
  },
  {
   "cell_type": "code",
   "execution_count": 20,
   "id": "284369cb",
   "metadata": {},
   "outputs": [],
   "source": [
    "X_train.drop(columns=['remainder__1st_flr_sf','remainder__utilities',\n",
    "                      'remainder__2nd_flr_sf','remainder__low_qual_fin_sf'],inplace=True)\n",
    "X_val.drop(columns=['remainder__1st_flr_sf','remainder__utilities',\n",
    "                      'remainder__2nd_flr_sf','remainder__low_qual_fin_sf'],inplace=True)"
   ]
  },
  {
   "cell_type": "code",
   "execution_count": null,
   "id": "31f3308f",
   "metadata": {},
   "outputs": [],
   "source": []
  },
  {
   "cell_type": "code",
   "execution_count": null,
   "id": "a6e3c500-855d-4136-bc67-78f13472b128",
   "metadata": {},
   "outputs": [],
   "source": []
  },
  {
   "cell_type": "code",
   "execution_count": 88,
   "id": "63313e8e-88a1-4f35-8794-025394f6a701",
   "metadata": {},
   "outputs": [],
   "source": [
    "X_train.to_csv('./datasets/columns.csv')"
   ]
  },
  {
   "cell_type": "code",
   "execution_count": 37,
   "id": "51e48fa1-0d03-42f0-90a2-614abf957825",
   "metadata": {},
   "outputs": [],
   "source": [
    "train = pd.read_csv('./datasets/train.csv')"
   ]
  },
  {
   "cell_type": "code",
   "execution_count": 40,
   "id": "2eab04e6-60cb-4a88-8f3f-9cbb89a2ba46",
   "metadata": {},
   "outputs": [
    {
     "data": {
      "text/plain": [
       "VinylSd    724\n",
       "MetalSd    331\n",
       "HdBoard    300\n",
       "Wd Sdng    276\n",
       "Plywood    152\n",
       "CemntBd     90\n",
       "BrkFace     64\n",
       "WdShing     45\n",
       "AsbShng     33\n",
       "Stucco      27\n",
       "BrkComm      3\n",
       "Stone        2\n",
       "CBlock       2\n",
       "ImStucc      1\n",
       "AsphShn      1\n",
       "Name: Exterior 1st, dtype: int64"
      ]
     },
     "execution_count": 40,
     "metadata": {},
     "output_type": "execute_result"
    }
   ],
   "source": [
    "train['Exterior 1st'].value_counts()"
   ]
  },
  {
   "cell_type": "code",
   "execution_count": null,
   "id": "a42a38c7",
   "metadata": {},
   "outputs": [],
   "source": []
  },
  {
   "cell_type": "code",
   "execution_count": null,
   "id": "58822804",
   "metadata": {},
   "outputs": [],
   "source": []
  },
  {
   "cell_type": "code",
   "execution_count": 162,
   "id": "e3a0f4d5",
   "metadata": {},
   "outputs": [],
   "source": [
    "poly = PolynomialFeatures(\n",
    "degree = 2,\n",
    "include_bias=False)"
   ]
  },
  {
   "cell_type": "code",
   "execution_count": 163,
   "id": "dad0bfd5",
   "metadata": {},
   "outputs": [
    {
     "data": {
      "text/plain": [
       "PolynomialFeatures(include_bias=False)"
      ]
     },
     "execution_count": 163,
     "metadata": {},
     "output_type": "execute_result"
    }
   ],
   "source": [
    "poly.fit(X_train,y_train)"
   ]
  },
  {
   "cell_type": "code",
   "execution_count": 164,
   "id": "9200e579",
   "metadata": {},
   "outputs": [],
   "source": [
    "X_train = poly.transform(X_train)"
   ]
  },
  {
   "cell_type": "code",
   "execution_count": 165,
   "id": "89daa30d",
   "metadata": {},
   "outputs": [],
   "source": [
    "X_val = poly.transform(X_val)"
   ]
  },
  {
   "cell_type": "code",
   "execution_count": 166,
   "id": "c182ffe7",
   "metadata": {},
   "outputs": [],
   "source": [
    "X_train = pd.DataFrame(data = X_train, columns = poly.get_feature_names_out())\n",
    "X_val = pd.DataFrame(data = X_val, columns = poly.get_feature_names_out())"
   ]
  },
  {
   "cell_type": "code",
   "execution_count": null,
   "id": "35f38e62-6095-4231-ab12-ad4fdceb1372",
   "metadata": {},
   "outputs": [],
   "source": []
  },
  {
   "cell_type": "code",
   "execution_count": 167,
   "id": "7a248e03-21db-44cf-ac79-e67c7db5f8ad",
   "metadata": {},
   "outputs": [
    {
     "data": {
      "text/plain": [
       "['lr', 1.0, -1.9105932849813172, 133682.8887691397]"
      ]
     },
     "execution_count": 167,
     "metadata": {},
     "output_type": "execute_result"
    }
   ],
   "source": [
    "lr = LinearRegression()\n",
    "model = 'lr'\n",
    "lr.fit(X_train,y_train)\n",
    "train = lr.score(X_train,y_train)\n",
    "y_pred = lr.predict(X_val)\n",
    "test = lr.score(X_val,y_val)\n",
    "mse = mean_squared_error(y_val,y_pred,squared=False)\n",
    "scores = [model,train,test,mse]\n",
    "scores"
   ]
  },
  {
   "cell_type": "code",
   "execution_count": 168,
   "id": "76cfd9a6-339c-46ef-a394-6921f04fa261",
   "metadata": {},
   "outputs": [
    {
     "data": {
      "text/plain": [
       "['ridge', 0.9975420857292421, 0.43620593126742546, 58836.29428185141]"
      ]
     },
     "execution_count": 168,
     "metadata": {},
     "output_type": "execute_result"
    }
   ],
   "source": [
    "ridge = RidgeCV()\n",
    "model = 'ridge'\n",
    "ridge.fit(X_train,y_train)\n",
    "train = ridge.score(X_train,y_train)\n",
    "y_pred = ridge.predict(X_val)\n",
    "test = ridge.score(X_val,y_val)\n",
    "mse = mean_squared_error(y_val,y_pred,squared=False)\n",
    "scores = [model,train,test,mse]\n",
    "scores"
   ]
  },
  {
   "cell_type": "code",
   "execution_count": 169,
   "id": "3e22f1f5-85c2-49a1-bced-91b69be11d1c",
   "metadata": {},
   "outputs": [
    {
     "name": "stderr",
     "output_type": "stream",
     "text": [
      "C:\\Users\\Ari\\anaconda3\\lib\\site-packages\\sklearn\\linear_model\\_coordinate_descent.py:647: ConvergenceWarning: Objective did not converge. You might want to increase the number of iterations, check the scale of the features or consider increasing regularisation. Duality gap: 9.620e+09, tolerance: 9.727e+08\n",
      "  model = cd_fast.enet_coordinate_descent(\n"
     ]
    },
    {
     "data": {
      "text/plain": [
       "['lasso', 0.9993643984863472, -0.5898556905815355, 98801.58530001515]"
      ]
     },
     "execution_count": 169,
     "metadata": {},
     "output_type": "execute_result"
    }
   ],
   "source": [
    "lasso = Lasso()\n",
    "model = 'lasso'\n",
    "lasso.fit(X_train,y_train)\n",
    "train = lasso.score(X_train,y_train)\n",
    "y_pred = lasso.predict(X_val)\n",
    "test = lasso.score(X_val,y_val)\n",
    "mse = mean_squared_error(y_val,y_pred,squared=False)\n",
    "scores = [model,train,test,mse]\n",
    "scores"
   ]
  },
  {
   "cell_type": "code",
   "execution_count": null,
   "id": "fa5713d0-4cc6-4d3e-9350-5214092753bf",
   "metadata": {},
   "outputs": [],
   "source": []
  },
  {
   "cell_type": "code",
   "execution_count": null,
   "id": "b25856e0-cfba-41be-8199-4b976565132c",
   "metadata": {},
   "outputs": [],
   "source": []
  },
  {
   "cell_type": "code",
   "execution_count": 46,
   "id": "e7809066",
   "metadata": {},
   "outputs": [
    {
     "ename": "KeyboardInterrupt",
     "evalue": "",
     "output_type": "error",
     "traceback": [
      "\u001b[1;31m---------------------------------------------------------------------------\u001b[0m",
      "\u001b[1;31mKeyboardInterrupt\u001b[0m                         Traceback (most recent call last)",
      "\u001b[1;32m~\\AppData\\Local\\Temp\\ipykernel_9508\\1303341113.py\u001b[0m in \u001b[0;36m<module>\u001b[1;34m\u001b[0m\n\u001b[1;32m----> 1\u001b[1;33m \u001b[0mX_train\u001b[0m\u001b[1;33m.\u001b[0m\u001b[0mto_csv\u001b[0m\u001b[1;33m(\u001b[0m\u001b[1;34m'./datasets/X_train.csv'\u001b[0m\u001b[1;33m)\u001b[0m\u001b[1;33m\u001b[0m\u001b[1;33m\u001b[0m\u001b[0m\n\u001b[0m",
      "\u001b[1;32m~\\anaconda3\\lib\\site-packages\\pandas\\core\\generic.py\u001b[0m in \u001b[0;36mto_csv\u001b[1;34m(self, path_or_buf, sep, na_rep, float_format, columns, header, index, index_label, mode, encoding, compression, quoting, quotechar, line_terminator, chunksize, date_format, doublequote, escapechar, decimal, errors, storage_options)\u001b[0m\n\u001b[0;32m   3549\u001b[0m         )\n\u001b[0;32m   3550\u001b[0m \u001b[1;33m\u001b[0m\u001b[0m\n\u001b[1;32m-> 3551\u001b[1;33m         return DataFrameRenderer(formatter).to_csv(\n\u001b[0m\u001b[0;32m   3552\u001b[0m             \u001b[0mpath_or_buf\u001b[0m\u001b[1;33m,\u001b[0m\u001b[1;33m\u001b[0m\u001b[1;33m\u001b[0m\u001b[0m\n\u001b[0;32m   3553\u001b[0m             \u001b[0mline_terminator\u001b[0m\u001b[1;33m=\u001b[0m\u001b[0mline_terminator\u001b[0m\u001b[1;33m,\u001b[0m\u001b[1;33m\u001b[0m\u001b[1;33m\u001b[0m\u001b[0m\n",
      "\u001b[1;32m~\\anaconda3\\lib\\site-packages\\pandas\\io\\formats\\format.py\u001b[0m in \u001b[0;36mto_csv\u001b[1;34m(self, path_or_buf, encoding, sep, columns, index_label, mode, compression, quoting, quotechar, line_terminator, chunksize, date_format, doublequote, escapechar, errors, storage_options)\u001b[0m\n\u001b[0;32m   1178\u001b[0m             \u001b[0mformatter\u001b[0m\u001b[1;33m=\u001b[0m\u001b[0mself\u001b[0m\u001b[1;33m.\u001b[0m\u001b[0mfmt\u001b[0m\u001b[1;33m,\u001b[0m\u001b[1;33m\u001b[0m\u001b[1;33m\u001b[0m\u001b[0m\n\u001b[0;32m   1179\u001b[0m         )\n\u001b[1;32m-> 1180\u001b[1;33m         \u001b[0mcsv_formatter\u001b[0m\u001b[1;33m.\u001b[0m\u001b[0msave\u001b[0m\u001b[1;33m(\u001b[0m\u001b[1;33m)\u001b[0m\u001b[1;33m\u001b[0m\u001b[1;33m\u001b[0m\u001b[0m\n\u001b[0m\u001b[0;32m   1181\u001b[0m \u001b[1;33m\u001b[0m\u001b[0m\n\u001b[0;32m   1182\u001b[0m         \u001b[1;32mif\u001b[0m \u001b[0mcreated_buffer\u001b[0m\u001b[1;33m:\u001b[0m\u001b[1;33m\u001b[0m\u001b[1;33m\u001b[0m\u001b[0m\n",
      "\u001b[1;32m~\\anaconda3\\lib\\site-packages\\pandas\\io\\formats\\csvs.py\u001b[0m in \u001b[0;36msave\u001b[1;34m(self)\u001b[0m\n\u001b[0;32m    259\u001b[0m             )\n\u001b[0;32m    260\u001b[0m \u001b[1;33m\u001b[0m\u001b[0m\n\u001b[1;32m--> 261\u001b[1;33m             \u001b[0mself\u001b[0m\u001b[1;33m.\u001b[0m\u001b[0m_save\u001b[0m\u001b[1;33m(\u001b[0m\u001b[1;33m)\u001b[0m\u001b[1;33m\u001b[0m\u001b[1;33m\u001b[0m\u001b[0m\n\u001b[0m\u001b[0;32m    262\u001b[0m \u001b[1;33m\u001b[0m\u001b[0m\n\u001b[0;32m    263\u001b[0m     \u001b[1;32mdef\u001b[0m \u001b[0m_save\u001b[0m\u001b[1;33m(\u001b[0m\u001b[0mself\u001b[0m\u001b[1;33m)\u001b[0m \u001b[1;33m->\u001b[0m \u001b[1;32mNone\u001b[0m\u001b[1;33m:\u001b[0m\u001b[1;33m\u001b[0m\u001b[1;33m\u001b[0m\u001b[0m\n",
      "\u001b[1;32m~\\anaconda3\\lib\\site-packages\\pandas\\io\\formats\\csvs.py\u001b[0m in \u001b[0;36m_save\u001b[1;34m(self)\u001b[0m\n\u001b[0;32m    264\u001b[0m         \u001b[1;32mif\u001b[0m \u001b[0mself\u001b[0m\u001b[1;33m.\u001b[0m\u001b[0m_need_to_save_header\u001b[0m\u001b[1;33m:\u001b[0m\u001b[1;33m\u001b[0m\u001b[1;33m\u001b[0m\u001b[0m\n\u001b[0;32m    265\u001b[0m             \u001b[0mself\u001b[0m\u001b[1;33m.\u001b[0m\u001b[0m_save_header\u001b[0m\u001b[1;33m(\u001b[0m\u001b[1;33m)\u001b[0m\u001b[1;33m\u001b[0m\u001b[1;33m\u001b[0m\u001b[0m\n\u001b[1;32m--> 266\u001b[1;33m         \u001b[0mself\u001b[0m\u001b[1;33m.\u001b[0m\u001b[0m_save_body\u001b[0m\u001b[1;33m(\u001b[0m\u001b[1;33m)\u001b[0m\u001b[1;33m\u001b[0m\u001b[1;33m\u001b[0m\u001b[0m\n\u001b[0m\u001b[0;32m    267\u001b[0m \u001b[1;33m\u001b[0m\u001b[0m\n\u001b[0;32m    268\u001b[0m     \u001b[1;32mdef\u001b[0m \u001b[0m_save_header\u001b[0m\u001b[1;33m(\u001b[0m\u001b[0mself\u001b[0m\u001b[1;33m)\u001b[0m \u001b[1;33m->\u001b[0m \u001b[1;32mNone\u001b[0m\u001b[1;33m:\u001b[0m\u001b[1;33m\u001b[0m\u001b[1;33m\u001b[0m\u001b[0m\n",
      "\u001b[1;32m~\\anaconda3\\lib\\site-packages\\pandas\\io\\formats\\csvs.py\u001b[0m in \u001b[0;36m_save_body\u001b[1;34m(self)\u001b[0m\n\u001b[0;32m    302\u001b[0m             \u001b[1;32mif\u001b[0m \u001b[0mstart_i\u001b[0m \u001b[1;33m>=\u001b[0m \u001b[0mend_i\u001b[0m\u001b[1;33m:\u001b[0m\u001b[1;33m\u001b[0m\u001b[1;33m\u001b[0m\u001b[0m\n\u001b[0;32m    303\u001b[0m                 \u001b[1;32mbreak\u001b[0m\u001b[1;33m\u001b[0m\u001b[1;33m\u001b[0m\u001b[0m\n\u001b[1;32m--> 304\u001b[1;33m             \u001b[0mself\u001b[0m\u001b[1;33m.\u001b[0m\u001b[0m_save_chunk\u001b[0m\u001b[1;33m(\u001b[0m\u001b[0mstart_i\u001b[0m\u001b[1;33m,\u001b[0m \u001b[0mend_i\u001b[0m\u001b[1;33m)\u001b[0m\u001b[1;33m\u001b[0m\u001b[1;33m\u001b[0m\u001b[0m\n\u001b[0m\u001b[0;32m    305\u001b[0m \u001b[1;33m\u001b[0m\u001b[0m\n\u001b[0;32m    306\u001b[0m     \u001b[1;32mdef\u001b[0m \u001b[0m_save_chunk\u001b[0m\u001b[1;33m(\u001b[0m\u001b[0mself\u001b[0m\u001b[1;33m,\u001b[0m \u001b[0mstart_i\u001b[0m\u001b[1;33m:\u001b[0m \u001b[0mint\u001b[0m\u001b[1;33m,\u001b[0m \u001b[0mend_i\u001b[0m\u001b[1;33m:\u001b[0m \u001b[0mint\u001b[0m\u001b[1;33m)\u001b[0m \u001b[1;33m->\u001b[0m \u001b[1;32mNone\u001b[0m\u001b[1;33m:\u001b[0m\u001b[1;33m\u001b[0m\u001b[1;33m\u001b[0m\u001b[0m\n",
      "\u001b[1;32m~\\anaconda3\\lib\\site-packages\\pandas\\io\\formats\\csvs.py\u001b[0m in \u001b[0;36m_save_chunk\u001b[1;34m(self, start_i, end_i)\u001b[0m\n\u001b[0;32m    309\u001b[0m         \u001b[0mdf\u001b[0m \u001b[1;33m=\u001b[0m \u001b[0mself\u001b[0m\u001b[1;33m.\u001b[0m\u001b[0mobj\u001b[0m\u001b[1;33m.\u001b[0m\u001b[0miloc\u001b[0m\u001b[1;33m[\u001b[0m\u001b[0mslicer\u001b[0m\u001b[1;33m]\u001b[0m\u001b[1;33m\u001b[0m\u001b[1;33m\u001b[0m\u001b[0m\n\u001b[0;32m    310\u001b[0m \u001b[1;33m\u001b[0m\u001b[0m\n\u001b[1;32m--> 311\u001b[1;33m         \u001b[0mres\u001b[0m \u001b[1;33m=\u001b[0m \u001b[0mdf\u001b[0m\u001b[1;33m.\u001b[0m\u001b[0m_mgr\u001b[0m\u001b[1;33m.\u001b[0m\u001b[0mto_native_types\u001b[0m\u001b[1;33m(\u001b[0m\u001b[1;33m**\u001b[0m\u001b[0mself\u001b[0m\u001b[1;33m.\u001b[0m\u001b[0m_number_format\u001b[0m\u001b[1;33m)\u001b[0m\u001b[1;33m\u001b[0m\u001b[1;33m\u001b[0m\u001b[0m\n\u001b[0m\u001b[0;32m    312\u001b[0m         \u001b[0mdata\u001b[0m \u001b[1;33m=\u001b[0m \u001b[1;33m[\u001b[0m\u001b[0mres\u001b[0m\u001b[1;33m.\u001b[0m\u001b[0miget_values\u001b[0m\u001b[1;33m(\u001b[0m\u001b[0mi\u001b[0m\u001b[1;33m)\u001b[0m \u001b[1;32mfor\u001b[0m \u001b[0mi\u001b[0m \u001b[1;32min\u001b[0m \u001b[0mrange\u001b[0m\u001b[1;33m(\u001b[0m\u001b[0mlen\u001b[0m\u001b[1;33m(\u001b[0m\u001b[0mres\u001b[0m\u001b[1;33m.\u001b[0m\u001b[0mitems\u001b[0m\u001b[1;33m)\u001b[0m\u001b[1;33m)\u001b[0m\u001b[1;33m]\u001b[0m\u001b[1;33m\u001b[0m\u001b[1;33m\u001b[0m\u001b[0m\n\u001b[0;32m    313\u001b[0m \u001b[1;33m\u001b[0m\u001b[0m\n",
      "\u001b[1;32m~\\anaconda3\\lib\\site-packages\\pandas\\core\\internals\\managers.py\u001b[0m in \u001b[0;36mto_native_types\u001b[1;34m(self, **kwargs)\u001b[0m\n\u001b[0;32m    471\u001b[0m         \u001b[1;32min\u001b[0m \u001b[0mformatting\u001b[0m \u001b[1;33m(\u001b[0m\u001b[0mrepr\u001b[0m \u001b[1;33m/\u001b[0m \u001b[0mcsv\u001b[0m\u001b[1;33m)\u001b[0m\u001b[1;33m.\u001b[0m\u001b[1;33m\u001b[0m\u001b[1;33m\u001b[0m\u001b[0m\n\u001b[0;32m    472\u001b[0m         \"\"\"\n\u001b[1;32m--> 473\u001b[1;33m         \u001b[1;32mreturn\u001b[0m \u001b[0mself\u001b[0m\u001b[1;33m.\u001b[0m\u001b[0mapply\u001b[0m\u001b[1;33m(\u001b[0m\u001b[1;34m\"to_native_types\"\u001b[0m\u001b[1;33m,\u001b[0m \u001b[1;33m**\u001b[0m\u001b[0mkwargs\u001b[0m\u001b[1;33m)\u001b[0m\u001b[1;33m\u001b[0m\u001b[1;33m\u001b[0m\u001b[0m\n\u001b[0m\u001b[0;32m    474\u001b[0m \u001b[1;33m\u001b[0m\u001b[0m\n\u001b[0;32m    475\u001b[0m     \u001b[1;33m@\u001b[0m\u001b[0mproperty\u001b[0m\u001b[1;33m\u001b[0m\u001b[1;33m\u001b[0m\u001b[0m\n",
      "\u001b[1;32m~\\anaconda3\\lib\\site-packages\\pandas\\core\\internals\\managers.py\u001b[0m in \u001b[0;36mapply\u001b[1;34m(self, f, align_keys, ignore_failures, **kwargs)\u001b[0m\n\u001b[0;32m    302\u001b[0m                     \u001b[0mapplied\u001b[0m \u001b[1;33m=\u001b[0m \u001b[0mb\u001b[0m\u001b[1;33m.\u001b[0m\u001b[0mapply\u001b[0m\u001b[1;33m(\u001b[0m\u001b[0mf\u001b[0m\u001b[1;33m,\u001b[0m \u001b[1;33m**\u001b[0m\u001b[0mkwargs\u001b[0m\u001b[1;33m)\u001b[0m\u001b[1;33m\u001b[0m\u001b[1;33m\u001b[0m\u001b[0m\n\u001b[0;32m    303\u001b[0m                 \u001b[1;32melse\u001b[0m\u001b[1;33m:\u001b[0m\u001b[1;33m\u001b[0m\u001b[1;33m\u001b[0m\u001b[0m\n\u001b[1;32m--> 304\u001b[1;33m                     \u001b[0mapplied\u001b[0m \u001b[1;33m=\u001b[0m \u001b[0mgetattr\u001b[0m\u001b[1;33m(\u001b[0m\u001b[0mb\u001b[0m\u001b[1;33m,\u001b[0m \u001b[0mf\u001b[0m\u001b[1;33m)\u001b[0m\u001b[1;33m(\u001b[0m\u001b[1;33m**\u001b[0m\u001b[0mkwargs\u001b[0m\u001b[1;33m)\u001b[0m\u001b[1;33m\u001b[0m\u001b[1;33m\u001b[0m\u001b[0m\n\u001b[0m\u001b[0;32m    305\u001b[0m             \u001b[1;32mexcept\u001b[0m \u001b[1;33m(\u001b[0m\u001b[0mTypeError\u001b[0m\u001b[1;33m,\u001b[0m \u001b[0mNotImplementedError\u001b[0m\u001b[1;33m)\u001b[0m\u001b[1;33m:\u001b[0m\u001b[1;33m\u001b[0m\u001b[1;33m\u001b[0m\u001b[0m\n\u001b[0;32m    306\u001b[0m                 \u001b[1;32mif\u001b[0m \u001b[1;32mnot\u001b[0m \u001b[0mignore_failures\u001b[0m\u001b[1;33m:\u001b[0m\u001b[1;33m\u001b[0m\u001b[1;33m\u001b[0m\u001b[0m\n",
      "\u001b[1;32m~\\anaconda3\\lib\\site-packages\\pandas\\core\\internals\\blocks.py\u001b[0m in \u001b[0;36mto_native_types\u001b[1;34m(self, na_rep, quoting, **kwargs)\u001b[0m\n\u001b[0;32m    632\u001b[0m     \u001b[1;32mdef\u001b[0m \u001b[0mto_native_types\u001b[0m\u001b[1;33m(\u001b[0m\u001b[0mself\u001b[0m\u001b[1;33m,\u001b[0m \u001b[0mna_rep\u001b[0m\u001b[1;33m=\u001b[0m\u001b[1;34m\"nan\"\u001b[0m\u001b[1;33m,\u001b[0m \u001b[0mquoting\u001b[0m\u001b[1;33m=\u001b[0m\u001b[1;32mNone\u001b[0m\u001b[1;33m,\u001b[0m \u001b[1;33m**\u001b[0m\u001b[0mkwargs\u001b[0m\u001b[1;33m)\u001b[0m\u001b[1;33m:\u001b[0m\u001b[1;33m\u001b[0m\u001b[1;33m\u001b[0m\u001b[0m\n\u001b[0;32m    633\u001b[0m         \u001b[1;34m\"\"\"convert to our native types format\"\"\"\u001b[0m\u001b[1;33m\u001b[0m\u001b[1;33m\u001b[0m\u001b[0m\n\u001b[1;32m--> 634\u001b[1;33m         \u001b[0mresult\u001b[0m \u001b[1;33m=\u001b[0m \u001b[0mto_native_types\u001b[0m\u001b[1;33m(\u001b[0m\u001b[0mself\u001b[0m\u001b[1;33m.\u001b[0m\u001b[0mvalues\u001b[0m\u001b[1;33m,\u001b[0m \u001b[0mna_rep\u001b[0m\u001b[1;33m=\u001b[0m\u001b[0mna_rep\u001b[0m\u001b[1;33m,\u001b[0m \u001b[0mquoting\u001b[0m\u001b[1;33m=\u001b[0m\u001b[0mquoting\u001b[0m\u001b[1;33m,\u001b[0m \u001b[1;33m**\u001b[0m\u001b[0mkwargs\u001b[0m\u001b[1;33m)\u001b[0m\u001b[1;33m\u001b[0m\u001b[1;33m\u001b[0m\u001b[0m\n\u001b[0m\u001b[0;32m    635\u001b[0m         \u001b[1;32mreturn\u001b[0m \u001b[0mself\u001b[0m\u001b[1;33m.\u001b[0m\u001b[0mmake_block\u001b[0m\u001b[1;33m(\u001b[0m\u001b[0mresult\u001b[0m\u001b[1;33m)\u001b[0m\u001b[1;33m\u001b[0m\u001b[1;33m\u001b[0m\u001b[0m\n\u001b[0;32m    636\u001b[0m \u001b[1;33m\u001b[0m\u001b[0m\n",
      "\u001b[1;31mKeyboardInterrupt\u001b[0m: "
     ]
    }
   ],
   "source": [
    "\n",
    "X_train.to_csv('./datasets/X_train.csv')"
   ]
  },
  {
   "cell_type": "code",
   "execution_count": null,
   "id": "f3c9d7e4",
   "metadata": {},
   "outputs": [],
   "source": [
    "X_val.to_csv('./datasets/X_val.csv')"
   ]
  },
  {
   "cell_type": "code",
   "execution_count": null,
   "id": "53b8a057",
   "metadata": {},
   "outputs": [],
   "source": [
    "y_train.to_csv('./datasets/y_train.csv')\n",
    "y_val.to_csv('./datasets/y_val.csv')"
   ]
  },
  {
   "cell_type": "code",
   "execution_count": null,
   "id": "f995223c",
   "metadata": {},
   "outputs": [],
   "source": []
  },
  {
   "cell_type": "code",
   "execution_count": null,
   "id": "d0ce0a2e",
   "metadata": {},
   "outputs": [],
   "source": []
  },
  {
   "cell_type": "code",
   "execution_count": null,
   "id": "04bb67ce",
   "metadata": {},
   "outputs": [],
   "source": []
  },
  {
   "cell_type": "code",
   "execution_count": null,
   "id": "8e6c1c32",
   "metadata": {},
   "outputs": [],
   "source": []
  },
  {
   "cell_type": "code",
   "execution_count": null,
   "id": "206dbe60",
   "metadata": {},
   "outputs": [],
   "source": []
  },
  {
   "cell_type": "markdown",
   "id": "2e813dcf",
   "metadata": {},
   "source": [
    "##  Step 2:  Baseline scores after Step 1"
   ]
  },
  {
   "cell_type": "code",
   "execution_count": 47,
   "id": "4617b33b",
   "metadata": {},
   "outputs": [
    {
     "data": {
      "text/plain": [
       "LinearRegression()"
      ]
     },
     "execution_count": 47,
     "metadata": {},
     "output_type": "execute_result"
    }
   ],
   "source": [
    "lr = LinearRegression()\n",
    "model = 'lr'\n",
    "lr.fit(X_train,y_train)\n"
   ]
  },
  {
   "cell_type": "code",
   "execution_count": 48,
   "id": "8293ccb7",
   "metadata": {},
   "outputs": [
    {
     "data": {
      "text/plain": [
       "((1538, 14027), (1538,), (513, 14027), (513,))"
      ]
     },
     "execution_count": 48,
     "metadata": {},
     "output_type": "execute_result"
    }
   ],
   "source": [
    "X_train.shape,y_train.shape,X_val.shape,y_val.shape"
   ]
  },
  {
   "cell_type": "code",
   "execution_count": 49,
   "id": "0b68746e",
   "metadata": {},
   "outputs": [],
   "source": [
    "train = lr.score(X_train,y_train)\n",
    "y_pred = lr.predict(X_val)\n",
    "test = lr.score(X_val,y_val)\n",
    "mse = mean_squared_error(y_val,y_pred,squared=False)\n",
    "scores = [model,train,test,mse]"
   ]
  },
  {
   "cell_type": "code",
   "execution_count": 50,
   "id": "45245de8",
   "metadata": {},
   "outputs": [
    {
     "data": {
      "text/plain": [
       "['lr', 1.0, -5.947216559897067, 206533.4875621712]"
      ]
     },
     "execution_count": 50,
     "metadata": {},
     "output_type": "execute_result"
    }
   ],
   "source": [
    "scores"
   ]
  },
  {
   "cell_type": "code",
   "execution_count": 51,
   "id": "dc019fb9",
   "metadata": {},
   "outputs": [
    {
     "data": {
      "text/plain": [
       "['ridge', 0.997198210893794, 0.16313307554100032, 71682.51957177215]"
      ]
     },
     "execution_count": 51,
     "metadata": {},
     "output_type": "execute_result"
    }
   ],
   "source": [
    "ridge = RidgeCV()\n",
    "model = 'ridge'\n",
    "ridge.fit(X_train,y_train)\n",
    "train = ridge.score(X_train,y_train)\n",
    "y_pred = ridge.predict(X_val)\n",
    "test = ridge.score(X_val,y_val)\n",
    "mse = mean_squared_error(y_val,y_pred,squared=False)\n",
    "scores = [model,train,test,mse]\n",
    "scores"
   ]
  },
  {
   "cell_type": "code",
   "execution_count": 53,
   "id": "1d41e6c3",
   "metadata": {
    "scrolled": true
   },
   "outputs": [
    {
     "name": "stderr",
     "output_type": "stream",
     "text": [
      "C:\\Users\\Ari\\anaconda3\\lib\\site-packages\\sklearn\\linear_model\\_coordinate_descent.py:647: ConvergenceWarning: Objective did not converge. You might want to increase the number of iterations, check the scale of the features or consider increasing regularisation. Duality gap: 1.041e+10, tolerance: 9.727e+08\n",
      "  model = cd_fast.enet_coordinate_descent(\n"
     ]
    },
    {
     "data": {
      "text/plain": [
       "['lasso', 0.9992586595808142, -0.3880372658708111, 92317.83759945816]"
      ]
     },
     "execution_count": 53,
     "metadata": {},
     "output_type": "execute_result"
    }
   ],
   "source": [
    "lasso = Lasso()\n",
    "model = 'lasso'\n",
    "lasso.fit(X_train,y_train)\n",
    "train = lasso.score(X_train,y_train)\n",
    "y_pred = lasso.predict(X_val)\n",
    "test = lasso.score(X_val,y_val)\n",
    "mse = mean_squared_error(y_val,y_pred,squared=False)\n",
    "scores = [model,train,test,mse]\n",
    "scores"
   ]
  },
  {
   "cell_type": "code",
   "execution_count": null,
   "id": "3a3d9934",
   "metadata": {},
   "outputs": [],
   "source": []
  },
  {
   "cell_type": "code",
   "execution_count": null,
   "id": "945d42c7",
   "metadata": {},
   "outputs": [],
   "source": []
  },
  {
   "cell_type": "markdown",
   "id": "9300df65",
   "metadata": {},
   "source": [
    "##  Step 3 Get best columns from Lasso"
   ]
  },
  {
   "cell_type": "code",
   "execution_count": 99,
   "id": "c0b7aa94-1dc5-469e-88de-f09f4451fc71",
   "metadata": {},
   "outputs": [],
   "source": [
    "lasso_dict = dict(zip(X_train.columns,lasso.coef_))"
   ]
  },
  {
   "cell_type": "code",
   "execution_count": null,
   "id": "1fd1e7fb-519d-4fa7-a32c-6f73ce6f3aa8",
   "metadata": {},
   "outputs": [],
   "source": []
  },
  {
   "cell_type": "code",
   "execution_count": 100,
   "id": "3e3130a8-2385-48dd-aa68-a4d57bfb4907",
   "metadata": {},
   "outputs": [],
   "source": [
    "lasso_list = [key for key, value in lasso_dict.items() if abs(value) > 0.001]"
   ]
  },
  {
   "cell_type": "code",
   "execution_count": null,
   "id": "ed1c776d-e645-4428-a696-006332a45e0c",
   "metadata": {},
   "outputs": [],
   "source": []
  },
  {
   "cell_type": "code",
   "execution_count": null,
   "id": "8ab6342d-9733-41ae-8094-734af51cd5d6",
   "metadata": {},
   "outputs": [],
   "source": []
  },
  {
   "cell_type": "code",
   "execution_count": 102,
   "id": "c1bc3762-7533-4fc3-a862-92677579022a",
   "metadata": {},
   "outputs": [],
   "source": [
    "X_train = X_train[lasso_list]\n",
    "X_val = X_val[lasso_list]"
   ]
  },
  {
   "cell_type": "code",
   "execution_count": 105,
   "id": "ab4177e9-8aba-4d86-875a-09b50f4bca76",
   "metadata": {},
   "outputs": [],
   "source": [
    "train = lr.score(X_train,y_train)\n",
    "y_pred = lr.predict(X_val)\n",
    "test = lr.score(X_val,y_val)\n",
    "mse = mean_squared_error(y_val,y_pred,squared=False)\n",
    "scores = [model,train,test,mse]"
   ]
  },
  {
   "cell_type": "code",
   "execution_count": 106,
   "id": "c33e7283-2e85-4321-8d0b-c4e938d577bd",
   "metadata": {},
   "outputs": [
    {
     "data": {
      "text/plain": [
       "['lasso', 1.0, -4.491544862981642, 183625.2195814049]"
      ]
     },
     "execution_count": 106,
     "metadata": {},
     "output_type": "execute_result"
    }
   ],
   "source": [
    "scores"
   ]
  },
  {
   "cell_type": "code",
   "execution_count": null,
   "id": "a9657019-3167-4efa-b6d6-bd616918e7d7",
   "metadata": {},
   "outputs": [],
   "source": []
  },
  {
   "cell_type": "code",
   "execution_count": 107,
   "id": "afe24488-7a4b-48cb-8019-72767a1dd899",
   "metadata": {},
   "outputs": [
    {
     "data": {
      "text/plain": [
       "['ridge', 0.9971316439730465, 0.24604517575159646, 68038.96873426595]"
      ]
     },
     "execution_count": 107,
     "metadata": {},
     "output_type": "execute_result"
    }
   ],
   "source": [
    "ridge = RidgeCV()\n",
    "model = 'ridge'\n",
    "ridge.fit(X_train,y_train)\n",
    "train = ridge.score(X_train,y_train)\n",
    "y_pred = ridge.predict(X_val)\n",
    "test = ridge.score(X_val,y_val)\n",
    "mse = mean_squared_error(y_val,y_pred,squared=False)\n",
    "scores = [model,train,test,mse]\n",
    "scores"
   ]
  },
  {
   "cell_type": "code",
   "execution_count": null,
   "id": "df475676-6c2a-4b31-a643-53fb9417d91e",
   "metadata": {},
   "outputs": [],
   "source": []
  },
  {
   "cell_type": "code",
   "execution_count": 108,
   "id": "a21ca995-5fa3-4b9e-a162-3052d1475b88",
   "metadata": {},
   "outputs": [
    {
     "name": "stderr",
     "output_type": "stream",
     "text": [
      "C:\\Users\\Ari\\anaconda3\\lib\\site-packages\\sklearn\\linear_model\\_coordinate_descent.py:647: ConvergenceWarning: Objective did not converge. You might want to increase the number of iterations, check the scale of the features or consider increasing regularisation. Duality gap: 1.039e+10, tolerance: 9.727e+08\n",
      "  model = cd_fast.enet_coordinate_descent(\n"
     ]
    },
    {
     "data": {
      "text/plain": [
       "['lasso', 0.9992601542473016, -0.3924955854089931, 92465.97931812542]"
      ]
     },
     "execution_count": 108,
     "metadata": {},
     "output_type": "execute_result"
    }
   ],
   "source": [
    "lasso = Lasso()\n",
    "model = 'lasso'\n",
    "lasso.fit(X_train,y_train)\n",
    "train = lasso.score(X_train,y_train)\n",
    "y_pred = lasso.predict(X_val)\n",
    "test = lasso.score(X_val,y_val)\n",
    "mse = mean_squared_error(y_val,y_pred,squared=False)\n",
    "scores = [model,train,test,mse]\n",
    "scores"
   ]
  },
  {
   "cell_type": "code",
   "execution_count": null,
   "id": "a024cb30-71e8-41ad-9390-ee89b4bf50f5",
   "metadata": {},
   "outputs": [],
   "source": []
  },
  {
   "cell_type": "code",
   "execution_count": null,
   "id": "ee9c85fc-9933-4dfa-8063-e17be82efc5b",
   "metadata": {},
   "outputs": [],
   "source": []
  },
  {
   "cell_type": "code",
   "execution_count": 92,
   "id": "fbc6041e",
   "metadata": {},
   "outputs": [
    {
     "ename": "ValueError",
     "evalue": "Shape of passed values is (14027, 1), indices imply (14027, 14027)",
     "output_type": "error",
     "traceback": [
      "\u001b[1;31m---------------------------------------------------------------------------\u001b[0m",
      "\u001b[1;31mValueError\u001b[0m                                Traceback (most recent call last)",
      "\u001b[1;32m~\\AppData\\Local\\Temp\\ipykernel_9508\\840830955.py\u001b[0m in \u001b[0;36m<module>\u001b[1;34m\u001b[0m\n\u001b[1;32m----> 1\u001b[1;33m \u001b[0mlasso_col\u001b[0m \u001b[1;33m=\u001b[0m \u001b[0mpd\u001b[0m\u001b[1;33m.\u001b[0m\u001b[0mDataFrame\u001b[0m\u001b[1;33m(\u001b[0m\u001b[0mdata\u001b[0m \u001b[1;33m=\u001b[0m \u001b[0mlasso\u001b[0m\u001b[1;33m.\u001b[0m\u001b[0mcoef_\u001b[0m\u001b[1;33m,\u001b[0m \u001b[0mcolumns\u001b[0m \u001b[1;33m=\u001b[0m \u001b[0mX_train\u001b[0m\u001b[1;33m.\u001b[0m\u001b[0mcolumns\u001b[0m\u001b[1;33m)\u001b[0m\u001b[1;33m\u001b[0m\u001b[1;33m\u001b[0m\u001b[0m\n\u001b[0m",
      "\u001b[1;32m~\\anaconda3\\lib\\site-packages\\pandas\\core\\frame.py\u001b[0m in \u001b[0;36m__init__\u001b[1;34m(self, data, index, columns, dtype, copy)\u001b[0m\n\u001b[0;32m    692\u001b[0m                 )\n\u001b[0;32m    693\u001b[0m             \u001b[1;32melse\u001b[0m\u001b[1;33m:\u001b[0m\u001b[1;33m\u001b[0m\u001b[1;33m\u001b[0m\u001b[0m\n\u001b[1;32m--> 694\u001b[1;33m                 mgr = ndarray_to_mgr(\n\u001b[0m\u001b[0;32m    695\u001b[0m                     \u001b[0mdata\u001b[0m\u001b[1;33m,\u001b[0m\u001b[1;33m\u001b[0m\u001b[1;33m\u001b[0m\u001b[0m\n\u001b[0;32m    696\u001b[0m                     \u001b[0mindex\u001b[0m\u001b[1;33m,\u001b[0m\u001b[1;33m\u001b[0m\u001b[1;33m\u001b[0m\u001b[0m\n",
      "\u001b[1;32m~\\anaconda3\\lib\\site-packages\\pandas\\core\\internals\\construction.py\u001b[0m in \u001b[0;36mndarray_to_mgr\u001b[1;34m(values, index, columns, dtype, copy, typ)\u001b[0m\n\u001b[0;32m    349\u001b[0m     )\n\u001b[0;32m    350\u001b[0m \u001b[1;33m\u001b[0m\u001b[0m\n\u001b[1;32m--> 351\u001b[1;33m     \u001b[0m_check_values_indices_shape_match\u001b[0m\u001b[1;33m(\u001b[0m\u001b[0mvalues\u001b[0m\u001b[1;33m,\u001b[0m \u001b[0mindex\u001b[0m\u001b[1;33m,\u001b[0m \u001b[0mcolumns\u001b[0m\u001b[1;33m)\u001b[0m\u001b[1;33m\u001b[0m\u001b[1;33m\u001b[0m\u001b[0m\n\u001b[0m\u001b[0;32m    352\u001b[0m \u001b[1;33m\u001b[0m\u001b[0m\n\u001b[0;32m    353\u001b[0m     \u001b[1;32mif\u001b[0m \u001b[0mtyp\u001b[0m \u001b[1;33m==\u001b[0m \u001b[1;34m\"array\"\u001b[0m\u001b[1;33m:\u001b[0m\u001b[1;33m\u001b[0m\u001b[1;33m\u001b[0m\u001b[0m\n",
      "\u001b[1;32m~\\anaconda3\\lib\\site-packages\\pandas\\core\\internals\\construction.py\u001b[0m in \u001b[0;36m_check_values_indices_shape_match\u001b[1;34m(values, index, columns)\u001b[0m\n\u001b[0;32m    420\u001b[0m         \u001b[0mpassed\u001b[0m \u001b[1;33m=\u001b[0m \u001b[0mvalues\u001b[0m\u001b[1;33m.\u001b[0m\u001b[0mshape\u001b[0m\u001b[1;33m\u001b[0m\u001b[1;33m\u001b[0m\u001b[0m\n\u001b[0;32m    421\u001b[0m         \u001b[0mimplied\u001b[0m \u001b[1;33m=\u001b[0m \u001b[1;33m(\u001b[0m\u001b[0mlen\u001b[0m\u001b[1;33m(\u001b[0m\u001b[0mindex\u001b[0m\u001b[1;33m)\u001b[0m\u001b[1;33m,\u001b[0m \u001b[0mlen\u001b[0m\u001b[1;33m(\u001b[0m\u001b[0mcolumns\u001b[0m\u001b[1;33m)\u001b[0m\u001b[1;33m)\u001b[0m\u001b[1;33m\u001b[0m\u001b[1;33m\u001b[0m\u001b[0m\n\u001b[1;32m--> 422\u001b[1;33m         \u001b[1;32mraise\u001b[0m \u001b[0mValueError\u001b[0m\u001b[1;33m(\u001b[0m\u001b[1;34mf\"Shape of passed values is {passed}, indices imply {implied}\"\u001b[0m\u001b[1;33m)\u001b[0m\u001b[1;33m\u001b[0m\u001b[1;33m\u001b[0m\u001b[0m\n\u001b[0m\u001b[0;32m    423\u001b[0m \u001b[1;33m\u001b[0m\u001b[0m\n\u001b[0;32m    424\u001b[0m \u001b[1;33m\u001b[0m\u001b[0m\n",
      "\u001b[1;31mValueError\u001b[0m: Shape of passed values is (14027, 1), indices imply (14027, 14027)"
     ]
    }
   ],
   "source": [
    "lasso_col = pd.DataFrame(data = lasso.coef_, columns = X_train.columns)"
   ]
  },
  {
   "cell_type": "code",
   "execution_count": 84,
   "id": "1f0f832c-b9f7-435d-8d45-235c8cd1393f",
   "metadata": {},
   "outputs": [
    {
     "data": {
      "text/html": [
       "<div>\n",
       "<style scoped>\n",
       "    .dataframe tbody tr th:only-of-type {\n",
       "        vertical-align: middle;\n",
       "    }\n",
       "\n",
       "    .dataframe tbody tr th {\n",
       "        vertical-align: top;\n",
       "    }\n",
       "\n",
       "    .dataframe thead th {\n",
       "        text-align: right;\n",
       "    }\n",
       "</style>\n",
       "<table border=\"1\" class=\"dataframe\">\n",
       "  <thead>\n",
       "    <tr style=\"text-align: right;\">\n",
       "      <th></th>\n",
       "      <th>0</th>\n",
       "    </tr>\n",
       "  </thead>\n",
       "  <tbody>\n",
       "    <tr>\n",
       "      <th>ohe__ms_subclass_30</th>\n",
       "      <td>-14827.178854</td>\n",
       "    </tr>\n",
       "    <tr>\n",
       "      <th>ohe__ms_subclass_40</th>\n",
       "      <td>-3298.704821</td>\n",
       "    </tr>\n",
       "    <tr>\n",
       "      <th>ohe__ms_subclass_45</th>\n",
       "      <td>-2205.248557</td>\n",
       "    </tr>\n",
       "    <tr>\n",
       "      <th>ohe__ms_subclass_50</th>\n",
       "      <td>-14416.476614</td>\n",
       "    </tr>\n",
       "    <tr>\n",
       "      <th>ohe__ms_subclass_60</th>\n",
       "      <td>26548.788159</td>\n",
       "    </tr>\n",
       "  </tbody>\n",
       "</table>\n",
       "</div>"
      ],
      "text/plain": [
       "                                0\n",
       "ohe__ms_subclass_30 -14827.178854\n",
       "ohe__ms_subclass_40  -3298.704821\n",
       "ohe__ms_subclass_45  -2205.248557\n",
       "ohe__ms_subclass_50 -14416.476614\n",
       "ohe__ms_subclass_60  26548.788159"
      ]
     },
     "execution_count": 84,
     "metadata": {},
     "output_type": "execute_result"
    }
   ],
   "source": [
    "lasso_col.head()"
   ]
  },
  {
   "cell_type": "code",
   "execution_count": 91,
   "id": "471961c2-01eb-4338-aed7-933824da8237",
   "metadata": {},
   "outputs": [
    {
     "ename": "KeyError",
     "evalue": "1",
     "output_type": "error",
     "traceback": [
      "\u001b[1;31m---------------------------------------------------------------------------\u001b[0m",
      "\u001b[1;31mValueError\u001b[0m                                Traceback (most recent call last)",
      "\u001b[1;32m~\\anaconda3\\lib\\site-packages\\pandas\\core\\indexes\\range.py\u001b[0m in \u001b[0;36mget_loc\u001b[1;34m(self, key, method, tolerance)\u001b[0m\n\u001b[0;32m    384\u001b[0m                 \u001b[1;32mtry\u001b[0m\u001b[1;33m:\u001b[0m\u001b[1;33m\u001b[0m\u001b[1;33m\u001b[0m\u001b[0m\n\u001b[1;32m--> 385\u001b[1;33m                     \u001b[1;32mreturn\u001b[0m \u001b[0mself\u001b[0m\u001b[1;33m.\u001b[0m\u001b[0m_range\u001b[0m\u001b[1;33m.\u001b[0m\u001b[0mindex\u001b[0m\u001b[1;33m(\u001b[0m\u001b[0mnew_key\u001b[0m\u001b[1;33m)\u001b[0m\u001b[1;33m\u001b[0m\u001b[1;33m\u001b[0m\u001b[0m\n\u001b[0m\u001b[0;32m    386\u001b[0m                 \u001b[1;32mexcept\u001b[0m \u001b[0mValueError\u001b[0m \u001b[1;32mas\u001b[0m \u001b[0merr\u001b[0m\u001b[1;33m:\u001b[0m\u001b[1;33m\u001b[0m\u001b[1;33m\u001b[0m\u001b[0m\n",
      "\u001b[1;31mValueError\u001b[0m: 1 is not in range",
      "\nThe above exception was the direct cause of the following exception:\n",
      "\u001b[1;31mKeyError\u001b[0m                                  Traceback (most recent call last)",
      "\u001b[1;32m~\\AppData\\Local\\Temp\\ipykernel_9508\\1135944787.py\u001b[0m in \u001b[0;36m<module>\u001b[1;34m\u001b[0m\n\u001b[1;32m----> 1\u001b[1;33m \u001b[0mlasso_col\u001b[0m\u001b[1;33m[\u001b[0m\u001b[1;36m1\u001b[0m\u001b[1;33m]\u001b[0m\u001b[1;33m\u001b[0m\u001b[1;33m\u001b[0m\u001b[0m\n\u001b[0m",
      "\u001b[1;32m~\\anaconda3\\lib\\site-packages\\pandas\\core\\frame.py\u001b[0m in \u001b[0;36m__getitem__\u001b[1;34m(self, key)\u001b[0m\n\u001b[0;32m   3503\u001b[0m             \u001b[1;32mif\u001b[0m \u001b[0mself\u001b[0m\u001b[1;33m.\u001b[0m\u001b[0mcolumns\u001b[0m\u001b[1;33m.\u001b[0m\u001b[0mnlevels\u001b[0m \u001b[1;33m>\u001b[0m \u001b[1;36m1\u001b[0m\u001b[1;33m:\u001b[0m\u001b[1;33m\u001b[0m\u001b[1;33m\u001b[0m\u001b[0m\n\u001b[0;32m   3504\u001b[0m                 \u001b[1;32mreturn\u001b[0m \u001b[0mself\u001b[0m\u001b[1;33m.\u001b[0m\u001b[0m_getitem_multilevel\u001b[0m\u001b[1;33m(\u001b[0m\u001b[0mkey\u001b[0m\u001b[1;33m)\u001b[0m\u001b[1;33m\u001b[0m\u001b[1;33m\u001b[0m\u001b[0m\n\u001b[1;32m-> 3505\u001b[1;33m             \u001b[0mindexer\u001b[0m \u001b[1;33m=\u001b[0m \u001b[0mself\u001b[0m\u001b[1;33m.\u001b[0m\u001b[0mcolumns\u001b[0m\u001b[1;33m.\u001b[0m\u001b[0mget_loc\u001b[0m\u001b[1;33m(\u001b[0m\u001b[0mkey\u001b[0m\u001b[1;33m)\u001b[0m\u001b[1;33m\u001b[0m\u001b[1;33m\u001b[0m\u001b[0m\n\u001b[0m\u001b[0;32m   3506\u001b[0m             \u001b[1;32mif\u001b[0m \u001b[0mis_integer\u001b[0m\u001b[1;33m(\u001b[0m\u001b[0mindexer\u001b[0m\u001b[1;33m)\u001b[0m\u001b[1;33m:\u001b[0m\u001b[1;33m\u001b[0m\u001b[1;33m\u001b[0m\u001b[0m\n\u001b[0;32m   3507\u001b[0m                 \u001b[0mindexer\u001b[0m \u001b[1;33m=\u001b[0m \u001b[1;33m[\u001b[0m\u001b[0mindexer\u001b[0m\u001b[1;33m]\u001b[0m\u001b[1;33m\u001b[0m\u001b[1;33m\u001b[0m\u001b[0m\n",
      "\u001b[1;32m~\\anaconda3\\lib\\site-packages\\pandas\\core\\indexes\\range.py\u001b[0m in \u001b[0;36mget_loc\u001b[1;34m(self, key, method, tolerance)\u001b[0m\n\u001b[0;32m    385\u001b[0m                     \u001b[1;32mreturn\u001b[0m \u001b[0mself\u001b[0m\u001b[1;33m.\u001b[0m\u001b[0m_range\u001b[0m\u001b[1;33m.\u001b[0m\u001b[0mindex\u001b[0m\u001b[1;33m(\u001b[0m\u001b[0mnew_key\u001b[0m\u001b[1;33m)\u001b[0m\u001b[1;33m\u001b[0m\u001b[1;33m\u001b[0m\u001b[0m\n\u001b[0;32m    386\u001b[0m                 \u001b[1;32mexcept\u001b[0m \u001b[0mValueError\u001b[0m \u001b[1;32mas\u001b[0m \u001b[0merr\u001b[0m\u001b[1;33m:\u001b[0m\u001b[1;33m\u001b[0m\u001b[1;33m\u001b[0m\u001b[0m\n\u001b[1;32m--> 387\u001b[1;33m                     \u001b[1;32mraise\u001b[0m \u001b[0mKeyError\u001b[0m\u001b[1;33m(\u001b[0m\u001b[0mkey\u001b[0m\u001b[1;33m)\u001b[0m \u001b[1;32mfrom\u001b[0m \u001b[0merr\u001b[0m\u001b[1;33m\u001b[0m\u001b[1;33m\u001b[0m\u001b[0m\n\u001b[0m\u001b[0;32m    388\u001b[0m             \u001b[0mself\u001b[0m\u001b[1;33m.\u001b[0m\u001b[0m_check_indexing_error\u001b[0m\u001b[1;33m(\u001b[0m\u001b[0mkey\u001b[0m\u001b[1;33m)\u001b[0m\u001b[1;33m\u001b[0m\u001b[1;33m\u001b[0m\u001b[0m\n\u001b[0;32m    389\u001b[0m             \u001b[1;32mraise\u001b[0m \u001b[0mKeyError\u001b[0m\u001b[1;33m(\u001b[0m\u001b[0mkey\u001b[0m\u001b[1;33m)\u001b[0m\u001b[1;33m\u001b[0m\u001b[1;33m\u001b[0m\u001b[0m\n",
      "\u001b[1;31mKeyError\u001b[0m: 1"
     ]
    }
   ],
   "source": [
    "lasso_col[1]"
   ]
  },
  {
   "cell_type": "code",
   "execution_count": 77,
   "id": "8778f1e0-38a3-47a4-a0c4-8125d23e965f",
   "metadata": {},
   "outputs": [
    {
     "data": {
      "text/plain": [
       " 0.000000        10190\n",
       "-19051.533112        1\n",
       " 218.343154          1\n",
       " 205.578579          1\n",
       " 206.272280          1\n",
       "                 ...  \n",
       "-293.049285          1\n",
       "-292.388531          1\n",
       "-291.183205          1\n",
       "-290.867674          1\n",
       " 26548.788159        1\n",
       "Length: 3838, dtype: int64"
      ]
     },
     "execution_count": 77,
     "metadata": {},
     "output_type": "execute_result"
    }
   ],
   "source": [
    "lasso_col.value_counts()"
   ]
  },
  {
   "cell_type": "code",
   "execution_count": 80,
   "id": "94729b8d-681d-470c-8880-8e4d263c4716",
   "metadata": {},
   "outputs": [
    {
     "ename": "ValueError",
     "evalue": "The truth value of a Series is ambiguous. Use a.empty, a.bool(), a.item(), a.any() or a.all().",
     "output_type": "error",
     "traceback": [
      "\u001b[1;31m---------------------------------------------------------------------------\u001b[0m",
      "\u001b[1;31mValueError\u001b[0m                                Traceback (most recent call last)",
      "\u001b[1;32m~\\AppData\\Local\\Temp\\ipykernel_9508\\1473284772.py\u001b[0m in \u001b[0;36m<module>\u001b[1;34m\u001b[0m\n\u001b[1;32m----> 1\u001b[1;33m \u001b[0mnew_cols\u001b[0m \u001b[1;33m=\u001b[0m \u001b[1;33m[\u001b[0m\u001b[0mcol\u001b[0m \u001b[1;32mfor\u001b[0m \u001b[0mcol\u001b[0m \u001b[1;32min\u001b[0m \u001b[0mlasso_col\u001b[0m \u001b[1;32mif\u001b[0m \u001b[0mabs\u001b[0m\u001b[1;33m(\u001b[0m\u001b[0mlasso_col\u001b[0m\u001b[1;33m[\u001b[0m\u001b[0mcol\u001b[0m\u001b[1;33m]\u001b[0m\u001b[1;33m)\u001b[0m \u001b[1;33m>\u001b[0m \u001b[1;36m0.001\u001b[0m\u001b[1;33m]\u001b[0m\u001b[1;33m\u001b[0m\u001b[1;33m\u001b[0m\u001b[0m\n\u001b[0m",
      "\u001b[1;32m~\\AppData\\Local\\Temp\\ipykernel_9508\\1473284772.py\u001b[0m in \u001b[0;36m<listcomp>\u001b[1;34m(.0)\u001b[0m\n\u001b[1;32m----> 1\u001b[1;33m \u001b[0mnew_cols\u001b[0m \u001b[1;33m=\u001b[0m \u001b[1;33m[\u001b[0m\u001b[0mcol\u001b[0m \u001b[1;32mfor\u001b[0m \u001b[0mcol\u001b[0m \u001b[1;32min\u001b[0m \u001b[0mlasso_col\u001b[0m \u001b[1;32mif\u001b[0m \u001b[0mabs\u001b[0m\u001b[1;33m(\u001b[0m\u001b[0mlasso_col\u001b[0m\u001b[1;33m[\u001b[0m\u001b[0mcol\u001b[0m\u001b[1;33m]\u001b[0m\u001b[1;33m)\u001b[0m \u001b[1;33m>\u001b[0m \u001b[1;36m0.001\u001b[0m\u001b[1;33m]\u001b[0m\u001b[1;33m\u001b[0m\u001b[1;33m\u001b[0m\u001b[0m\n\u001b[0m",
      "\u001b[1;32m~\\anaconda3\\lib\\site-packages\\pandas\\core\\generic.py\u001b[0m in \u001b[0;36m__nonzero__\u001b[1;34m(self)\u001b[0m\n\u001b[0;32m   1525\u001b[0m     \u001b[1;33m@\u001b[0m\u001b[0mfinal\u001b[0m\u001b[1;33m\u001b[0m\u001b[1;33m\u001b[0m\u001b[0m\n\u001b[0;32m   1526\u001b[0m     \u001b[1;32mdef\u001b[0m \u001b[0m__nonzero__\u001b[0m\u001b[1;33m(\u001b[0m\u001b[0mself\u001b[0m\u001b[1;33m)\u001b[0m\u001b[1;33m:\u001b[0m\u001b[1;33m\u001b[0m\u001b[1;33m\u001b[0m\u001b[0m\n\u001b[1;32m-> 1527\u001b[1;33m         raise ValueError(\n\u001b[0m\u001b[0;32m   1528\u001b[0m             \u001b[1;34mf\"The truth value of a {type(self).__name__} is ambiguous. \"\u001b[0m\u001b[1;33m\u001b[0m\u001b[1;33m\u001b[0m\u001b[0m\n\u001b[0;32m   1529\u001b[0m             \u001b[1;34m\"Use a.empty, a.bool(), a.item(), a.any() or a.all().\"\u001b[0m\u001b[1;33m\u001b[0m\u001b[1;33m\u001b[0m\u001b[0m\n",
      "\u001b[1;31mValueError\u001b[0m: The truth value of a Series is ambiguous. Use a.empty, a.bool(), a.item(), a.any() or a.all()."
     ]
    }
   ],
   "source": [
    "lasso_col = pd.DataFrame(data = lasso.coef_, columns = X_train.columns)\n",
    "new_cols = [col for col in lasso_col if abs(lasso_col[col]) > 0.001]\n",
    "X_train = X_train[new_cols]\n",
    "X_val = X_val[new_cols]"
   ]
  },
  {
   "cell_type": "code",
   "execution_count": 83,
   "id": "a8f1f415-7b75-4c34-a017-a9da997dd599",
   "metadata": {},
   "outputs": [
    {
     "ename": "SyntaxError",
     "evalue": "invalid syntax (103104640.py, line 1)",
     "output_type": "error",
     "traceback": [
      "\u001b[1;36m  File \u001b[1;32m\"C:\\Users\\Ari\\AppData\\Local\\Temp\\ipykernel_9508\\103104640.py\"\u001b[1;36m, line \u001b[1;32m1\u001b[0m\n\u001b[1;33m    lasso_col.query('abs(lasso_col['0']) > 0.001')\u001b[0m\n\u001b[1;37m                                    ^\u001b[0m\n\u001b[1;31mSyntaxError\u001b[0m\u001b[1;31m:\u001b[0m invalid syntax\n"
     ]
    }
   ],
   "source": [
    "lasso_col.query('abs(lasso_col['0']) > 0.001')"
   ]
  },
  {
   "cell_type": "code",
   "execution_count": null,
   "id": "47b3ae5b-d9c4-4e1b-b4f2-a765994a8145",
   "metadata": {},
   "outputs": [],
   "source": []
  },
  {
   "cell_type": "code",
   "execution_count": null,
   "id": "a234c5e3-ab79-4ce2-8239-00e4f6314d2f",
   "metadata": {},
   "outputs": [],
   "source": []
  },
  {
   "cell_type": "code",
   "execution_count": 56,
   "id": "6f2af402-7168-4bac-b968-800982a916d5",
   "metadata": {},
   "outputs": [
    {
     "data": {
      "text/plain": [
       "array([-14827.17885357,  -3298.70482082,  -2205.24855693, ...,\n",
       "         -977.09830919,  -7548.72588989,   -996.84689661])"
      ]
     },
     "execution_count": 56,
     "metadata": {},
     "output_type": "execute_result"
    }
   ],
   "source": [
    "lasso.coef_"
   ]
  },
  {
   "cell_type": "code",
   "execution_count": 58,
   "id": "bc1fe882-5bfd-49ce-b3cd-0b7d454076eb",
   "metadata": {},
   "outputs": [
    {
     "ename": "AttributeError",
     "evalue": "'numpy.ndarray' object has no attribute 'hist'",
     "output_type": "error",
     "traceback": [
      "\u001b[1;31m---------------------------------------------------------------------------\u001b[0m",
      "\u001b[1;31mAttributeError\u001b[0m                            Traceback (most recent call last)",
      "\u001b[1;32m~\\AppData\\Local\\Temp\\ipykernel_9508\\143686021.py\u001b[0m in \u001b[0;36m<module>\u001b[1;34m\u001b[0m\n\u001b[1;32m----> 1\u001b[1;33m \u001b[0mlasso\u001b[0m\u001b[1;33m.\u001b[0m\u001b[0mcoef_\u001b[0m\u001b[1;33m.\u001b[0m\u001b[0mhist\u001b[0m\u001b[1;33m(\u001b[0m\u001b[1;33m)\u001b[0m\u001b[1;33m\u001b[0m\u001b[1;33m\u001b[0m\u001b[0m\n\u001b[0m",
      "\u001b[1;31mAttributeError\u001b[0m: 'numpy.ndarray' object has no attribute 'hist'"
     ]
    }
   ],
   "source": [
    "lasso.coef_.hist()"
   ]
  },
  {
   "cell_type": "code",
   "execution_count": null,
   "id": "777557d2-11d6-47ff-9ac8-f2539aa74b8d",
   "metadata": {},
   "outputs": [],
   "source": []
  },
  {
   "cell_type": "code",
   "execution_count": 68,
   "id": "980377b7",
   "metadata": {},
   "outputs": [],
   "source": [
    "lasso_col = lasso_col[abs(lasso_col) > 0.01]"
   ]
  },
  {
   "cell_type": "code",
   "execution_count": 71,
   "id": "dd066b55",
   "metadata": {},
   "outputs": [
    {
     "name": "stdout",
     "output_type": "stream",
     "text": [
      "<class 'pandas.core.frame.DataFrame'>\n",
      "Index: 14027 entries, ohe__ms_subclass_30 to remainder__fence_priv^2\n",
      "Data columns (total 1 columns):\n",
      " #   Column  Non-Null Count  Dtype  \n",
      "---  ------  --------------  -----  \n",
      " 0   0       3835 non-null   float64\n",
      "dtypes: float64(1)\n",
      "memory usage: 735.2+ KB\n"
     ]
    }
   ],
   "source": [
    "lasso_col.info()"
   ]
  },
  {
   "cell_type": "code",
   "execution_count": 75,
   "id": "f4ca699d",
   "metadata": {},
   "outputs": [
    {
     "data": {
      "text/plain": [
       "RangeIndex(start=0, stop=1, step=1)"
      ]
     },
     "execution_count": 75,
     "metadata": {},
     "output_type": "execute_result"
    }
   ],
   "source": [
    "lasso_col."
   ]
  },
  {
   "cell_type": "code",
   "execution_count": null,
   "id": "e6ea4d04",
   "metadata": {},
   "outputs": [],
   "source": []
  },
  {
   "cell_type": "code",
   "execution_count": null,
   "id": "14fc856a",
   "metadata": {},
   "outputs": [],
   "source": []
  },
  {
   "cell_type": "code",
   "execution_count": 276,
   "id": "b1ba49f1",
   "metadata": {},
   "outputs": [
    {
     "name": "stderr",
     "output_type": "stream",
     "text": [
      "C:\\Anaconda\\lib\\site-packages\\sklearn\\linear_model\\_coordinate_descent.py:647: ConvergenceWarning: Objective did not converge. You might want to increase the number of iterations, check the scale of the features or consider increasing regularisation. Duality gap: 4.018e+11, tolerance: 9.727e+08\n",
      "  model = cd_fast.enet_coordinate_descent(\n"
     ]
    },
    {
     "data": {
      "text/plain": [
       "['enet', 0.9018996454981228, 0.882756965498898, 26830.488838138266]"
      ]
     },
     "execution_count": 276,
     "metadata": {},
     "output_type": "execute_result"
    }
   ],
   "source": [
    "enet = ElasticNet(\n",
    "alpha = 0.01,\n",
    "l1_ratio=0.99)\n",
    "\n",
    "model = 'enet'\n",
    "enet.fit(X_train,y_train)\n",
    "train = enet.score(X_train,y_train)\n",
    "y_pred = enet.predict(X_val)\n",
    "test = enet.score(X_val,y_val)\n",
    "mse = mean_squared_error(y_val,y_pred,squared=False)\n",
    "scores = [model,train,test,mse]\n",
    "scores"
   ]
  },
  {
   "cell_type": "code",
   "execution_count": 277,
   "id": "acd5ba37",
   "metadata": {},
   "outputs": [
    {
     "data": {
      "text/plain": [
       "array([ 3.97454600e+02,  1.76334341e+03,  3.30075691e+03,  6.06366156e+02,\n",
       "        8.88230971e+02,  4.70304794e+03,  3.27963507e+02, -2.66083201e+01,\n",
       "        1.17526955e+02,  4.02002662e+03,  1.92256128e+03,  2.39930564e+02,\n",
       "        2.25027629e+03,  4.27140175e+03,  3.87273232e+03,  1.82793170e+03,\n",
       "        1.48074182e+03,  6.03214511e+03,  1.11063034e+04,  1.97997461e+03,\n",
       "        1.27083318e+03,  2.46857069e+03,  4.26783895e+02,  3.16366098e+03,\n",
       "        8.12556650e+03,  2.20773232e+03,  6.87916191e+02,  3.13452996e+03,\n",
       "        4.85949392e+02,  8.01438271e+03, -2.12876371e+03, -5.68153792e+02,\n",
       "        4.95469686e+04,  1.19564523e+04,  3.70544404e+04,  2.23591374e+04,\n",
       "        2.16283747e+04, -6.71867863e+01, -6.61560962e+02,  8.94603473e+02,\n",
       "        9.21561738e+01,  7.54577065e+02, -2.33183655e+03, -2.16216687e+02,\n",
       "       -9.92570218e+02, -4.52782273e+02, -8.93994672e+02, -9.38039753e+02,\n",
       "        1.01916832e+03, -2.71876198e+03, -1.07151907e+03,  6.84825652e+02,\n",
       "        4.23487535e+02, -2.90621572e+01, -6.33744755e+02,  5.93986591e+02,\n",
       "        1.76619350e+03,  5.13721720e+02,  2.58727709e+03,  1.04191944e+03,\n",
       "       -3.39036137e+02,  5.63299960e+02,  5.78750799e+02,  2.27338700e+03,\n",
       "        1.21375940e+03,  1.56846369e+02, -1.34473200e+03, -1.93739181e+03,\n",
       "        6.18513911e+02, -1.10475247e+03,  9.02697036e+02, -3.71882842e+03,\n",
       "        3.37391326e+02, -3.52112927e+01,  7.44205237e+01,  1.69029836e+03,\n",
       "        9.19311459e+02, -2.34391193e+02,  9.57023854e+02,  6.88524510e+03,\n",
       "        1.47602255e+03,  2.90000357e+03, -1.06825000e+04,  1.33526317e+03,\n",
       "        6.63135158e+03,  7.94050935e+02, -9.08572074e+02,  4.34062670e+01,\n",
       "        2.26052785e+03,  9.97915468e+02,  1.81510805e+03,  2.11897357e+03,\n",
       "       -1.66335231e+02, -3.46157948e+03, -1.43527066e+03,  1.41004968e+04,\n",
       "        4.18452404e+03,  8.08544484e+03,  3.41000240e+02,  6.86147839e+03,\n",
       "       -5.99628988e+02,  2.02508178e+03, -2.87449482e+03,  6.95506144e+03,\n",
       "        6.62583330e+03,  1.14945070e+02,  8.48967891e+02, -1.24146557e+03,\n",
       "        3.80396127e+02,  2.68569732e+04,  1.76286708e+03,  1.31362121e+03,\n",
       "       -2.25979400e+03, -1.86848143e+03,  4.30091282e+03,  2.88083349e+03,\n",
       "        3.59811947e+03,  5.84256205e+03,  2.40887394e+03, -1.31768220e+03,\n",
       "        1.92396242e+03,  4.17813628e+03, -2.96377087e+03,  1.75708406e+03,\n",
       "        1.52935012e+03,  7.19550332e+02,  9.96788959e+02,  8.67889522e+02,\n",
       "        4.41009356e+03, -1.37429468e+03,  1.54363212e+02, -6.92487885e+03,\n",
       "       -9.23657216e+02,  4.70926237e+02, -7.20912248e+03, -6.89413523e+03,\n",
       "       -4.51480488e+02, -2.18342867e+02,  8.90551855e+02,  1.07097576e+03])"
      ]
     },
     "execution_count": 277,
     "metadata": {},
     "output_type": "execute_result"
    }
   ],
   "source": [
    "enet.coef_"
   ]
  },
  {
   "cell_type": "code",
   "execution_count": null,
   "id": "5ead9aaa",
   "metadata": {},
   "outputs": [],
   "source": []
  },
  {
   "cell_type": "markdown",
   "id": "a15da06d",
   "metadata": {},
   "source": [
    "## Step 4:  Poly with best features"
   ]
  },
  {
   "cell_type": "code",
   "execution_count": 349,
   "id": "ab0b55cc",
   "metadata": {},
   "outputs": [
    {
     "data": {
      "text/plain": [
       "((1538, 140), (513, 140), (1538,), (513,))"
      ]
     },
     "execution_count": 349,
     "metadata": {},
     "output_type": "execute_result"
    }
   ],
   "source": [
    "X_train.shape,X_val.shape,y_train.shape,y_val.shape"
   ]
  },
  {
   "cell_type": "code",
   "execution_count": 350,
   "id": "06c5f9eb",
   "metadata": {},
   "outputs": [],
   "source": [
    "X_train = X_train.loc[:,lasso_col]"
   ]
  },
  {
   "cell_type": "code",
   "execution_count": 352,
   "id": "3f9adc85",
   "metadata": {},
   "outputs": [],
   "source": [
    "X_val = X_val.loc[:,lasso_col]"
   ]
  },
  {
   "cell_type": "code",
   "execution_count": 354,
   "id": "bb5d6e03",
   "metadata": {},
   "outputs": [],
   "source": [
    "poly = PolynomialFeatures(\n",
    "degree = 2,\n",
    "include_bias=False)"
   ]
  },
  {
   "cell_type": "code",
   "execution_count": 363,
   "id": "168d9feb",
   "metadata": {},
   "outputs": [],
   "source": [
    "poly.fit(X_train,y_train)\n",
    "X_train = poly.transform(X_train)\n",
    "X_val = poly.transform(X_val)"
   ]
  },
  {
   "cell_type": "raw",
   "id": "9a145b0e",
   "metadata": {},
   "source": []
  },
  {
   "cell_type": "code",
   "execution_count": 364,
   "id": "fd7bc2cc",
   "metadata": {},
   "outputs": [
    {
     "data": {
      "text/plain": [
       "(1538, 2210)"
      ]
     },
     "execution_count": 364,
     "metadata": {},
     "output_type": "execute_result"
    }
   ],
   "source": []
  },
  {
   "cell_type": "code",
   "execution_count": 365,
   "id": "8d3123d8",
   "metadata": {},
   "outputs": [
    {
     "data": {
      "text/plain": [
       "['lr', 0.9921538387155522, -8.711101944497426e+21, 7313438409358058.0]"
      ]
     },
     "execution_count": 365,
     "metadata": {},
     "output_type": "execute_result"
    }
   ],
   "source": [
    "lr = LinearRegression()\n",
    "model = 'lr'\n",
    "lr.fit(X_train,y_train)\n",
    "train = lr.score(X_train,y_train)\n",
    "y_pred = lr.predict(X_val)\n",
    "test = lr.score(X_val,y_val)\n",
    "mse = mean_squared_error(y_val,y_pred,squared=False)\n",
    "scores = [model,train,test,mse]\n",
    "scores"
   ]
  },
  {
   "cell_type": "code",
   "execution_count": 366,
   "id": "c46bc7c3",
   "metadata": {},
   "outputs": [
    {
     "data": {
      "text/plain": [
       "['ridge', 0.9909020843789949, 0.543709647902167, 52930.464253423765]"
      ]
     },
     "execution_count": 366,
     "metadata": {},
     "output_type": "execute_result"
    }
   ],
   "source": [
    "ridge = RidgeCV()\n",
    "model = 'ridge'\n",
    "ridge.fit(X_train,y_train)\n",
    "train = ridge.score(X_train,y_train)\n",
    "y_pred = ridge.predict(X_val)\n",
    "test = ridge.score(X_val,y_val)\n",
    "mse = mean_squared_error(y_val,y_pred,squared=False)\n",
    "scores = [model,train,test,mse]\n",
    "scores"
   ]
  },
  {
   "cell_type": "code",
   "execution_count": 367,
   "id": "578c9cb8",
   "metadata": {},
   "outputs": [
    {
     "name": "stderr",
     "output_type": "stream",
     "text": [
      "C:\\Anaconda\\lib\\site-packages\\sklearn\\linear_model\\_coordinate_descent.py:647: ConvergenceWarning: Objective did not converge. You might want to increase the number of iterations, check the scale of the features or consider increasing regularisation. Duality gap: 1.288e+09, tolerance: 7.781e+08\n",
      "  model = cd_fast.enet_coordinate_descent(\n",
      "C:\\Anaconda\\lib\\site-packages\\sklearn\\linear_model\\_coordinate_descent.py:647: ConvergenceWarning: Objective did not converge. You might want to increase the number of iterations, check the scale of the features or consider increasing regularisation. Duality gap: 9.175e+08, tolerance: 8.169e+08\n",
      "  model = cd_fast.enet_coordinate_descent(\n",
      "C:\\Anaconda\\lib\\site-packages\\sklearn\\linear_model\\_coordinate_descent.py:647: ConvergenceWarning: Objective did not converge. You might want to increase the number of iterations, check the scale of the features or consider increasing regularisation. Duality gap: 2.178e+09, tolerance: 8.169e+08\n",
      "  model = cd_fast.enet_coordinate_descent(\n",
      "C:\\Anaconda\\lib\\site-packages\\sklearn\\linear_model\\_coordinate_descent.py:647: ConvergenceWarning: Objective did not converge. You might want to increase the number of iterations, check the scale of the features or consider increasing regularisation. Duality gap: 2.044e+09, tolerance: 8.169e+08\n",
      "  model = cd_fast.enet_coordinate_descent(\n"
     ]
    },
    {
     "data": {
      "text/plain": [
       "['lasso', 0.9552825192514054, 0.832505502357755, 32068.993712219726]"
      ]
     },
     "execution_count": 367,
     "metadata": {},
     "output_type": "execute_result"
    }
   ],
   "source": [
    "lasso = LassoCV()\n",
    "model = 'lasso'\n",
    "lasso.fit(X_train,y_train)\n",
    "train = lasso.score(X_train,y_train)\n",
    "y_pred = lasso.predict(X_val)\n",
    "test = lasso.score(X_val,y_val)\n",
    "mse = mean_squared_error(y_val,y_pred,squared=False)\n",
    "scores = [model,train,test,mse]\n",
    "scores"
   ]
  },
  {
   "cell_type": "code",
   "execution_count": 368,
   "id": "583dd51a",
   "metadata": {},
   "outputs": [
    {
     "name": "stderr",
     "output_type": "stream",
     "text": [
      "C:\\Anaconda\\lib\\site-packages\\sklearn\\linear_model\\_coordinate_descent.py:647: ConvergenceWarning: Objective did not converge. You might want to increase the number of iterations, check the scale of the features or consider increasing regularisation. Duality gap: 3.197e+10, tolerance: 9.727e+08\n",
      "  model = cd_fast.enet_coordinate_descent(\n"
     ]
    },
    {
     "data": {
      "text/plain": [
       "['enet', 0.9939178321992128, -0.4932368568778973, 95752.34320601264]"
      ]
     },
     "execution_count": 368,
     "metadata": {},
     "output_type": "execute_result"
    }
   ],
   "source": [
    "enet = ElasticNet(\n",
    "alpha = 0.01,\n",
    "l1_ratio=0.99)\n",
    "\n",
    "model = 'enet'\n",
    "enet.fit(X_train,y_train)\n",
    "train = enet.score(X_train,y_train)\n",
    "y_pred = enet.predict(X_val)\n",
    "test = enet.score(X_val,y_val)\n",
    "mse = mean_squared_error(y_val,y_pred,squared=False)\n",
    "scores = [model,train,test,mse]\n",
    "scores"
   ]
  },
  {
   "cell_type": "code",
   "execution_count": null,
   "id": "c4349bbf",
   "metadata": {},
   "outputs": [],
   "source": []
  },
  {
   "cell_type": "code",
   "execution_count": null,
   "id": "05521561",
   "metadata": {},
   "outputs": [],
   "source": []
  },
  {
   "cell_type": "code",
   "execution_count": 123,
   "id": "6d9fa2ea",
   "metadata": {},
   "outputs": [],
   "source": [
    "alphas = [1400,1425,1450,1475,1500,1525,1550,1575,1600]\n",
    "results = []\n",
    "for a in alphas:\n",
    "    pipe = Pipeline(\n",
    "        steps = [\n",
    "        ('ctx',ctx),\n",
    "        ('ss',StandardScaler()),\n",
    "        ('poly',poly),\n",
    "        ('lasso',Lasso(alpha=a)),\n",
    "    ])\n",
    "    pipe.fit(X_train,y_train)\n",
    "    train = pipe.score(X_train,y_train)\n",
    "    test = pipe.score(X_val,y_val)\n",
    "    y_pred = pipe.predict(X_val)\n",
    "    mse = mean_squared_error(y_pred,y_val,squared=False)\n",
    "    results.append([a,train,test,mse])"
   ]
  },
  {
   "cell_type": "code",
   "execution_count": 124,
   "id": "717dd7f1",
   "metadata": {},
   "outputs": [
    {
     "data": {
      "text/plain": [
       "[[1400, 0.9512781589837208, 0.9203527378413868, 22114.161963670285],\n",
       " [1425, 0.950894538858513, 0.9204752956717416, 22097.141246011222],\n",
       " [1450, 0.9505109528838381, 0.9205602387342333, 22085.336735983958],\n",
       " [1475, 0.9501381730642383, 0.9206400420600506, 22074.2407422707],\n",
       " [1500, 0.9497735056038243, 0.9205284124554061, 22089.760362685596],\n",
       " [1525, 0.9494240158337535, 0.9204183988780468, 22105.044649729432],\n",
       " [1550, 0.9491025057874914, 0.9203614881285695, 22112.947166213344],\n",
       " [1575, 0.9487836238262699, 0.9203132001748817, 22119.650123940974],\n",
       " [1600, 0.9484787957456288, 0.9202831172687801, 22123.82497202926]]"
      ]
     },
     "execution_count": 124,
     "metadata": {},
     "output_type": "execute_result"
    }
   ],
   "source": [
    "results"
   ]
  },
  {
   "cell_type": "code",
   "execution_count": null,
   "id": "2f1d09f5",
   "metadata": {},
   "outputs": [],
   "source": []
  },
  {
   "cell_type": "code",
   "execution_count": null,
   "id": "5e9b1c4e",
   "metadata": {},
   "outputs": [],
   "source": []
  },
  {
   "cell_type": "code",
   "execution_count": null,
   "id": "4de8394a",
   "metadata": {},
   "outputs": [],
   "source": [
    "    "
   ]
  },
  {
   "cell_type": "code",
   "execution_count": null,
   "id": "0a0a13d6",
   "metadata": {},
   "outputs": [],
   "source": [
    "    "
   ]
  },
  {
   "cell_type": "code",
   "execution_count": null,
   "id": "76d4869f",
   "metadata": {},
   "outputs": [],
   "source": []
  },
  {
   "cell_type": "code",
   "execution_count": null,
   "id": "3904d5bf",
   "metadata": {},
   "outputs": [],
   "source": []
  },
  {
   "cell_type": "code",
   "execution_count": null,
   "id": "5109516b",
   "metadata": {},
   "outputs": [],
   "source": []
  },
  {
   "cell_type": "code",
   "execution_count": null,
   "id": "b6febd3a",
   "metadata": {},
   "outputs": [],
   "source": []
  },
  {
   "cell_type": "code",
   "execution_count": null,
   "id": "f402a6ea",
   "metadata": {},
   "outputs": [],
   "source": []
  },
  {
   "cell_type": "code",
   "execution_count": 86,
   "id": "3f0bfe28",
   "metadata": {},
   "outputs": [
    {
     "data": {
      "text/html": [
       "<div>\n",
       "<style scoped>\n",
       "    .dataframe tbody tr th:only-of-type {\n",
       "        vertical-align: middle;\n",
       "    }\n",
       "\n",
       "    .dataframe tbody tr th {\n",
       "        vertical-align: top;\n",
       "    }\n",
       "\n",
       "    .dataframe thead th {\n",
       "        text-align: right;\n",
       "    }\n",
       "</style>\n",
       "<table border=\"1\" class=\"dataframe\">\n",
       "  <thead>\n",
       "    <tr style=\"text-align: right;\">\n",
       "      <th></th>\n",
       "      <th>0</th>\n",
       "    </tr>\n",
       "  </thead>\n",
       "  <tbody>\n",
       "    <tr>\n",
       "      <th>x0</th>\n",
       "      <td>-20.190664</td>\n",
       "    </tr>\n",
       "    <tr>\n",
       "      <th>x1</th>\n",
       "      <td>-52.917506</td>\n",
       "    </tr>\n",
       "    <tr>\n",
       "      <th>x2</th>\n",
       "      <td>-40.790627</td>\n",
       "    </tr>\n",
       "    <tr>\n",
       "      <th>x3</th>\n",
       "      <td>9.399357</td>\n",
       "    </tr>\n",
       "    <tr>\n",
       "      <th>x4</th>\n",
       "      <td>-311.782806</td>\n",
       "    </tr>\n",
       "    <tr>\n",
       "      <th>...</th>\n",
       "      <td>...</td>\n",
       "    </tr>\n",
       "    <tr>\n",
       "      <th>x142 x143</th>\n",
       "      <td>783.258989</td>\n",
       "    </tr>\n",
       "    <tr>\n",
       "      <th>x142 x144</th>\n",
       "      <td>1595.167820</td>\n",
       "    </tr>\n",
       "    <tr>\n",
       "      <th>x143^2</th>\n",
       "      <td>342.731254</td>\n",
       "    </tr>\n",
       "    <tr>\n",
       "      <th>x143 x144</th>\n",
       "      <td>-130.317110</td>\n",
       "    </tr>\n",
       "    <tr>\n",
       "      <th>x144^2</th>\n",
       "      <td>1127.271078</td>\n",
       "    </tr>\n",
       "  </tbody>\n",
       "</table>\n",
       "<p>10730 rows × 1 columns</p>\n",
       "</div>"
      ],
      "text/plain": [
       "                     0\n",
       "x0          -20.190664\n",
       "x1          -52.917506\n",
       "x2          -40.790627\n",
       "x3            9.399357\n",
       "x4         -311.782806\n",
       "...                ...\n",
       "x142 x143   783.258989\n",
       "x142 x144  1595.167820\n",
       "x143^2      342.731254\n",
       "x143 x144  -130.317110\n",
       "x144^2     1127.271078\n",
       "\n",
       "[10730 rows x 1 columns]"
      ]
     },
     "execution_count": 86,
     "metadata": {},
     "output_type": "execute_result"
    }
   ],
   "source": [
    "pd.DataFrame(\n",
    "    data= pipe.named_steps['lr'].coef_,\n",
    "    index = pipe[1:-1].get_feature_names_out()\n",
    ")"
   ]
  },
  {
   "cell_type": "code",
   "execution_count": null,
   "id": "9b9a0c45",
   "metadata": {},
   "outputs": [],
   "source": []
  },
  {
   "cell_type": "code",
   "execution_count": null,
   "id": "45d23709",
   "metadata": {},
   "outputs": [],
   "source": []
  }
 ],
 "metadata": {
  "kernelspec": {
   "display_name": "Python 3 (ipykernel)",
   "language": "python",
   "name": "python3"
  },
  "language_info": {
   "codemirror_mode": {
    "name": "ipython",
    "version": 3
   },
   "file_extension": ".py",
   "mimetype": "text/x-python",
   "name": "python",
   "nbconvert_exporter": "python",
   "pygments_lexer": "ipython3",
   "version": "3.9.13"
  }
 },
 "nbformat": 4,
 "nbformat_minor": 5
}
